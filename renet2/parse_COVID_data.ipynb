{
 "cells": [
  {
   "cell_type": "code",
   "execution_count": null,
   "metadata": {},
   "outputs": [],
   "source": [
    "# download literature from LitCovid\n",
    "# https://www.ncbi.nlm.nih.gov/research/coronavirus/\n",
    "# https://ftp.ncbi.nlm.nih.gov/pub/lu/LitCovid/"
   ]
  },
  {
   "cell_type": "code",
   "execution_count": null,
   "metadata": {},
   "outputs": [],
   "source": []
  },
  {
   "cell_type": "code",
   "execution_count": 1,
   "metadata": {},
   "outputs": [
    {
     "name": "stdout",
     "output_type": "stream",
     "text": [
      "Collecting bioc\n",
      "  Downloading bioc-1.3.6.tar.gz (16 kB)\n",
      "Requirement already satisfied: docutils==0.15.2 in /mnt/bal31/jhsu/home/anaconda3/envs/venv/lib/python3.7/site-packages (from bioc) (0.15.2)\n",
      "Collecting lxml==4.4.1\n",
      "  Downloading lxml-4.4.1-cp37-cp37m-manylinux1_x86_64.whl (5.7 MB)\n",
      "\u001b[K     |################################| 5.7 MB 11.0 MB/s eta 0:00:01\n",
      "\u001b[?25hCollecting jsonlines==1.2.0\n",
      "  Downloading jsonlines-1.2.0-py2.py3-none-any.whl (7.6 kB)\n",
      "Requirement already satisfied: six in /mnt/bal31/jhsu/home/anaconda3/envs/venv/lib/python3.7/site-packages (from jsonlines==1.2.0->bioc) (1.14.0)\n",
      "Building wheels for collected packages: bioc\n",
      "  Building wheel for bioc (setup.py) ... \u001b[?25ldone\n",
      "\u001b[?25h  Created wheel for bioc: filename=bioc-1.3.6-py3-none-any.whl size=20268 sha256=c8aedd018e44420a839a1a11bf212cf1ff794b5b7cd8e611853202cb818688f6\n",
      "  Stored in directory: /home/jhsu/.cache/pip/wheels/6f/93/22/86623575ab360cd42f24df9e8d34727dfd8a3c9b9db7997ba5\n",
      "Successfully built bioc\n",
      "Installing collected packages: lxml, jsonlines, bioc\n",
      "Successfully installed bioc-1.3.6 jsonlines-1.2.0 lxml-4.4.1\n"
     ]
    }
   ],
   "source": [
    "!pip install bioc"
   ]
  },
  {
   "cell_type": "code",
   "execution_count": 18,
   "metadata": {},
   "outputs": [
    {
     "name": "stdout",
     "output_type": "stream",
     "text": [
      "--2020-11-23 15:16:34--  https://ftp.ncbi.nlm.nih.gov/pub/lu/LitCovid/litcovid2pubtator.json.gz\n",
      "Resolving ftp.ncbi.nlm.nih.gov (ftp.ncbi.nlm.nih.gov)... 130.14.250.12, 2607:f220:41e:250::11, 2607:f220:41e:250::12, ...\n",
      "Connecting to ftp.ncbi.nlm.nih.gov (ftp.ncbi.nlm.nih.gov)|130.14.250.12|:443... connected.\n",
      "HTTP request sent, awaiting response... 200 OK\n",
      "Length: 398841596 (380M) [application/x-gzip]\n",
      "Saving to: '../data/LitCovid/litcovid2pubtator.json.gz'\n",
      "\n",
      "litcovid2pubtator.j 100%[===================>] 380.36M  13.9MB/s    in 36s     \n",
      "\n",
      "2020-11-23 15:17:14 (10.5 MB/s) - '../data/LitCovid/litcovid2pubtator.json.gz' saved [398841596/398841596]\n",
      "\n"
     ]
    }
   ],
   "source": [
    "!wget https://ftp.ncbi.nlm.nih.gov/pub/lu/LitCovid/litcovid2pubtator.json.gz -P ../data/LitCovid/"
   ]
  },
  {
   "cell_type": "code",
   "execution_count": 19,
   "metadata": {},
   "outputs": [],
   "source": [
    "!gunzip ../data/LitCovid/litcovid2pubtator.json.gz"
   ]
  },
  {
   "cell_type": "code",
   "execution_count": null,
   "metadata": {},
   "outputs": [],
   "source": []
  },
  {
   "cell_type": "code",
   "execution_count": 25,
   "metadata": {},
   "outputs": [
    {
     "name": "stdout",
     "output_type": "stream",
     "text": [
      "The autoreload extension is already loaded. To reload it, use:\n",
      "  %reload_ext autoreload\n"
     ]
    }
   ],
   "source": [
    "%load_ext autoreload\n",
    "%autoreload 2"
   ]
  },
  {
   "cell_type": "code",
   "execution_count": 2,
   "metadata": {},
   "outputs": [],
   "source": [
    "import parse_data"
   ]
  },
  {
   "cell_type": "code",
   "execution_count": 3,
   "metadata": {},
   "outputs": [],
   "source": [
    "covid_f = '../data/LitCovid/litcovid2pubtator.json'\n",
    "# covid_f = '../data/LitCovid/litcovid2BioCJSON'\n",
    "output_d =  '../data/LitCovid/'"
   ]
  },
  {
   "cell_type": "code",
   "execution_count": 4,
   "metadata": {},
   "outputs": [],
   "source": [
    "import json\n",
    "with open(covid_f, encoding='utf-8') as f:\n",
    "    data = json.load(f)"
   ]
  },
  {
   "cell_type": "code",
   "execution_count": 24,
   "metadata": {},
   "outputs": [
    {
     "name": "stdout",
     "output_type": "stream",
     "text": [
      "asd\n",
      "asd\n",
      "A new and rapidly progressive respiratory syndrome termed severe acute respiratory syndrome (SARS) was identified by the World Health Organization (WHO) in the Guangdong Province of China as a global threat in March of 2003. SARS went on to spread globally over the following months to over 30 countries and became the 1st pandemic of the 21st century. It showed that the dissemination of an infectious microbe could be drastically increased in the era of globalization and increased international travel. The decade preceding the SARS outbreak featured the emergence of multiple novel pathogens, including H5N1 influenza, Hantavirus, Nipah virus, and Avian flu. However, SARS was unique among these as it had the ability for efficient person-to-person transmission.[1] By the end of the outbreak in July 2003, 8096 cases were reported leading to 774 deaths with a case fatality rate of over 9.6%.[2][3] SARS showed a unique predilection for healthcare workers, with 21% of cases occurring in these individuals.[4] The WHO, along with its international partners, including the Centers for Disease Control and Prevention (CDC), was able to identify within 2 weeks the etiologic agent.[5][6] The agent was a novel coronavirus and was given the name SARS coronavirus (SARS-CoV). It was isolated in a number of SARS patients and suspected as the causative agent before ultimately being sequenced and fulfilling Koch’s postulates confirming it as the cause.[7]  The number of secondary cases produced by one SARS patient is thought to be in the range of two to four though a few patients, including the original index case, were suspected to be “super-spreaders” spreading to up to hundreds of others. The mode of transmission for the virus was largely through respiratory inhalation of droplets. Treatment was primarily supportive, and no specific anti-virals were effective. Since mid-2004, no new cases of SARS have been reported. Until the recent COVID-19 pandemic, the global reach of SARS had been matched only by the 2009 H1N1 Influenza pandemic.[8] Lessons learned from the SARS pandemic are currently used as a blueprint to fight the pandemic of COVID19.\n"
     ]
    },
    {
     "data": {
      "text/plain": [
       "b'A new and rapidly progressive respiratory syndrome termed severe acute respiratory syndrome (SARS) was identified by the World Health Organization (WHO) in the Guangdong Province of China as a global threat in March of 2003. SARS went on to spread globally over the following months to over 30 countries and became the 1st pandemic of the 21st century.\\xc2\\xa0It showed that the dissemination of an infectious microbe could be drastically increased in the era of globalization and increased international travel. The decade preceding the SARS outbreak featured the emergence of multiple novel pathogens, including H5N1 influenza, Hantavirus, Nipah virus, and Avian flu. However, SARS was unique among these as it had the ability for efficient person-to-person transmission.[1]\\xc2\\xa0By the end of the outbreak in July 2003, 8096 cases were reported leading to 774 deaths with a case fatality rate of over 9.6%.[2][3] SARS\\xc2\\xa0showed a unique predilection for healthcare workers,\\xc2\\xa0with 21% of cases occurring in these individuals.[4] The WHO, along with its international partners, including the Centers for Disease Control and Prevention (CDC), was able to identify within 2 weeks the etiologic agent.[5][6] The agent was a novel coronavirus and was given the name SARS coronavirus (SARS-CoV). It was isolated in a number of SARS patients and suspected as the causative agent before ultimately being sequenced and fulfilling Koch\\xe2\\x80\\x99s postulates confirming it as the cause.[7]\\xc2\\xa0 The number of secondary cases produced by one SARS patient is thought to be in the range of two to four though a few patients, including the original index case, were\\xc2\\xa0suspected to be \\xe2\\x80\\x9csuper-spreaders\\xe2\\x80\\x9d spreading to up to hundreds of others. The mode of transmission for the virus was largely through respiratory inhalation of droplets. Treatment was primarily supportive, and no specific anti-virals were effective.\\xc2\\xa0Since mid-2004, no new cases of SARS have been reported. Until the recent COVID-19 pandemic, the global reach of SARS had been matched only by the 2009 H1N1 Influenza pandemic.[8] Lessons learned from the SARS pandemic are currently used as a blueprint to fight the pandemic of COVID19.'"
      ]
     },
     "execution_count": 24,
     "metadata": {},
     "output_type": "execute_result"
    }
   ],
   "source": [
    "t = parse_data.parse_doc(data[1][7414])[2]\n",
    "\n",
    "print(t)\n",
    "t.replace(\"\\u2019\", \"'\") \n",
    "# t.encode('latin1', 'replace')\n",
    "# .decode(\"utf-8\")\n",
    "t.encode('utf8')"
   ]
  },
  {
   "cell_type": "code",
   "execution_count": 31,
   "metadata": {},
   "outputs": [
    {
     "name": "stdout",
     "output_type": "stream",
     "text": [
      "asd\n",
      "Error on line 237, pmid 32644403 TypeError a bytes-like object is required, not 'str'\n"
     ]
    },
    {
     "data": {
      "text/plain": [
       "('32644403', '', '', '', [], '', '', [])"
      ]
     },
     "execution_count": 31,
     "metadata": {},
     "output_type": "execute_result"
    }
   ],
   "source": [
    "parse_data.parse_doc(data[1][7414])"
   ]
  },
  {
   "cell_type": "code",
   "execution_count": 29,
   "metadata": {},
   "outputs": [],
   "source": [
    "tar_text = ''"
   ]
  },
  {
   "cell_type": "code",
   "execution_count": 36,
   "metadata": {},
   "outputs": [
    {
     "data": {
      "text/plain": [
       "<module 'parse_data' from '/mnt/bal31/jhsu/home/projects/RENET2/renet2/parse_data.py'>"
      ]
     },
     "execution_count": 36,
     "metadata": {},
     "output_type": "execute_result"
    }
   ],
   "source": [
    "import importlib\n",
    "importlib.reload(parse_data)"
   ]
  },
  {
   "cell_type": "code",
   "execution_count": 39,
   "metadata": {},
   "outputs": [
    {
     "name": "stdout",
     "output_type": "stream",
     "text": [
      "asd\n",
      "Error on line 237, pmid 32644403 TypeError a bytes-like object is required, not 'str'\n"
     ]
    },
    {
     "data": {
      "text/plain": [
       "('32644403', '', '', '', [], '', '', [])"
      ]
     },
     "execution_count": 39,
     "metadata": {},
     "output_type": "execute_result"
    }
   ],
   "source": [
    "parse_data.parse_doc(t)"
   ]
  },
  {
   "cell_type": "code",
   "execution_count": 38,
   "metadata": {},
   "outputs": [],
   "source": [
    "t = {'_id': '32644403|None',\n",
    " 'id': '32644403',\n",
    " 'infons': {},\n",
    " 'passages': [{'infons': {'journal': '; 2020 01 ',\n",
    "    'year': '2020',\n",
    "    'type': 'title',\n",
    "    'authors': 'Hodgens A, Gupta V, ',\n",
    "    'section': 'Title',\n",
    "    'section_type': 'TITLE'},\n",
    "   'offset': 0,\n",
    "   'text': b'Severe Acute Respiratory Syndrome (SARS)',\n",
    "   'annotations': [{'id': '2',\n",
    "     'infons': {'identifier': 'MESH:D045169', 'type': 'Disease'},\n",
    "     'text': 'Severe Acute Respiratory Syndrome',\n",
    "     'locations': [{'offset': 0, 'length': 33}]},\n",
    "    {'id': '3',\n",
    "     'infons': {'identifier': 'MESH:D045169', 'type': 'Disease'},\n",
    "     'text': 'SARS',\n",
    "     'locations': [{'offset': 35, 'length': 4}]}]},\n",
    "  {'infons': {'type': 'abstract', 'section': 'Abstract'},\n",
    "   'offset': 41,\n",
    "   'text': 'A new and rapidly progressive respiratory syndrome termed severe acute respiratory syndrome (SARS) was identified by the World Health Organization (WHO) in the Guangdong Province of China as a global threat in March of 2003. SARS went on to spread globally over the following months to over 30 countries and became the 1st pandemic of the 21st century.\\xa0It showed that the dissemination of an infectious microbe could be drastically increased in the era of globalization and increased international travel. The decade preceding the SARS outbreak featured the emergence of multiple novel pathogens, including H5N1 influenza, Hantavirus, Nipah virus, and Avian flu. However, SARS was unique among these as it had the ability for efficient person-to-person transmission.[1]\\xa0By the end of the outbreak in July 2003, 8096 cases were reported leading to 774 deaths with a case fatality rate of over 9.6%.[2][3] SARS\\xa0showed a unique predilection for healthcare workers,\\xa0with 21% of cases occurring in these individuals.[4] The WHO, along with its international partners, including the Centers for Disease Control and Prevention (CDC), was able to identify within 2 weeks the etiologic agent.[5][6] The agent was a novel coronavirus and was given the name SARS coronavirus (SARS-CoV). It was isolated in a number of SARS patients and suspected as the causative agent before ultimately being sequenced and fulfilling Koch’s postulates confirming it as the cause.[7]\\xa0 The number of secondary cases produced by one SARS patient is thought to be in the range of two to four though a few patients, including the original index case, were\\xa0suspected to be “super-spreaders” spreading to up to hundreds of others. The mode of transmission for the virus was largely through respiratory inhalation of droplets. Treatment was primarily supportive, and no specific anti-virals were effective.\\xa0Since mid-2004, no new cases of SARS have been reported. Until the recent COVID-19 pandemic, the global reach of SARS had been matched only by the 2009 H1N1 Influenza pandemic.[8] Lessons learned from the SARS pandemic are currently used as a blueprint to fight the pandemic of COVID19.',\n",
    "   'annotations': [{'id': '28',\n",
    "     'infons': {'identifier': 'MESH:D012120', 'type': 'Disease'},\n",
    "     'text': 'respiratory syndrome',\n",
    "     'locations': [{'offset': 71, 'length': 20}]},\n",
    "    {'id': '29',\n",
    "     'infons': {'identifier': 'MESH:D012120', 'type': 'Disease'},\n",
    "     'text': 'acute respiratory syndrome',\n",
    "     'locations': [{'offset': 106, 'length': 26}]},\n",
    "    {'id': '30',\n",
    "     'infons': {'identifier': 'MESH:D045169', 'type': 'Disease'},\n",
    "     'text': 'SARS',\n",
    "     'locations': [{'offset': 134, 'length': 4}]},\n",
    "    {'id': '31',\n",
    "     'infons': {'identifier': 'MESH:D045169', 'type': 'Disease'},\n",
    "     'text': 'SARS',\n",
    "     'locations': [{'offset': 266, 'length': 4}]},\n",
    "    {'id': '32',\n",
    "     'infons': {'identifier': 'MESH:D045169', 'type': 'Disease'},\n",
    "     'text': 'SARS',\n",
    "     'locations': [{'offset': 572, 'length': 4}]},\n",
    "    {'id': '33',\n",
    "     'infons': {'identifier': '102793', 'type': 'Species'},\n",
    "     'text': 'H5N1',\n",
    "     'locations': [{'offset': 648, 'length': 4}]},\n",
    "    {'id': '34',\n",
    "     'infons': {'identifier': '121791', 'type': 'Species'},\n",
    "     'text': 'Nipah virus',\n",
    "     'locations': [{'offset': 676, 'length': 11}]},\n",
    "    {'id': '35',\n",
    "     'infons': {'identifier': 'MESH:D045169', 'type': 'Disease'},\n",
    "     'text': 'SARS',\n",
    "     'locations': [{'offset': 713, 'length': 4}]},\n",
    "    {'id': '36',\n",
    "     'infons': {'identifier': 'MESH:D003643', 'type': 'Disease'},\n",
    "     'text': 'deaths',\n",
    "     'locations': [{'offset': 892, 'length': 6}]},\n",
    "    {'id': '37',\n",
    "     'infons': {'identifier': 'MESH:D045169', 'type': 'Disease'},\n",
    "     'text': 'SARS',\n",
    "     'locations': [{'offset': 945, 'length': 4}]},\n",
    "    {'id': '38',\n",
    "     'infons': {'identifier': '2697049', 'type': 'Species'},\n",
    "     'text': 'novel coronavirus',\n",
    "     'locations': [{'offset': 1247, 'length': 17}]},\n",
    "    {'id': '39',\n",
    "     'infons': {'identifier': '694009', 'type': 'Species'},\n",
    "     'text': 'SARS coronavirus',\n",
    "     'locations': [{'offset': 1288, 'length': 16}]},\n",
    "    {'id': '40',\n",
    "     'infons': {'identifier': '694009', 'type': 'Species'},\n",
    "     'text': 'SARS-CoV',\n",
    "     'locations': [{'offset': 1306, 'length': 8}]},\n",
    "    {'id': '41',\n",
    "     'infons': {'identifier': 'MESH:D045169', 'type': 'Disease'},\n",
    "     'text': 'SARS',\n",
    "     'locations': [{'offset': 1348, 'length': 4}]},\n",
    "    {'id': '42',\n",
    "     'infons': {'identifier': '9606', 'type': 'Species'},\n",
    "     'text': 'patients',\n",
    "     'locations': [{'offset': 1353, 'length': 8}]},\n",
    "    {'id': '43',\n",
    "     'infons': {'identifier': 'MESH:D045169', 'type': 'Disease'},\n",
    "     'text': 'SARS',\n",
    "     'locations': [{'offset': 1544, 'length': 4}]},\n",
    "    {'id': '44',\n",
    "     'infons': {'identifier': '9606', 'type': 'Species'},\n",
    "     'text': 'patient',\n",
    "     'locations': [{'offset': 1549, 'length': 7}]},\n",
    "    {'id': '45',\n",
    "     'infons': {'identifier': '9606', 'type': 'Species'},\n",
    "     'text': 'patients',\n",
    "     'locations': [{'offset': 1615, 'length': 8}]},\n",
    "    {'id': '46',\n",
    "     'infons': {'identifier': 'MESH:D045169', 'type': 'Disease'},\n",
    "     'text': 'SARS',\n",
    "     'locations': [{'offset': 1945, 'length': 4}]},\n",
    "    {'id': '47',\n",
    "     'infons': {'identifier': 'MESH:C000657245', 'type': 'Disease'},\n",
    "     'text': 'COVID-19',\n",
    "     'locations': [{'offset': 1987, 'length': 8}]},\n",
    "    {'id': '48',\n",
    "     'infons': {'identifier': 'MESH:D045169', 'type': 'Disease'},\n",
    "     'text': 'SARS',\n",
    "     'locations': [{'offset': 2026, 'length': 4}]},\n",
    "    {'id': '49',\n",
    "     'infons': {'identifier': '114727', 'type': 'Species'},\n",
    "     'text': 'H1N1',\n",
    "     'locations': [{'offset': 2065, 'length': 4}]},\n",
    "    {'id': '50',\n",
    "     'infons': {'identifier': 'MESH:D045169', 'type': 'Disease'},\n",
    "     'text': 'SARS',\n",
    "     'locations': [{'offset': 2118, 'length': 4}]},\n",
    "    {'id': '51',\n",
    "     'infons': {'identifier': 'MESH:C000657245', 'type': 'Disease'},\n",
    "     'text': 'COVID19',\n",
    "     'locations': [{'offset': 2191, 'length': 7}]}]}],\n",
    " 'pmid': 32644403,\n",
    " 'pmcid': None,\n",
    " 'created': {'$date': 1600357501642},\n",
    " 'accessions': ['disease@MESH:C000657245',\n",
    "  'species@694009',\n",
    "  'disease@MESH:D003643',\n",
    "  'species@114727',\n",
    "  'species@121791',\n",
    "  'disease@MESH:D012120',\n",
    "  'species@2697049',\n",
    "  'species@9606',\n",
    "  'species@102793',\n",
    "  'disease@MESH:D045169'],\n",
    " 'journal': '',\n",
    " 'year': 2020,\n",
    " 'authors': ['Hodgens A', 'Gupta V'],\n",
    " 'tags': ['LitCovid']}"
   ]
  },
  {
   "cell_type": "code",
   "execution_count": 20,
   "metadata": {},
   "outputs": [
    {
     "data": {
      "text/plain": [
       "{'journal': 'Clin Imaging; 2020 Aug 29 ; 68 239-241. doi:10.1016/j.clinimag.2020.08.029',\n",
       " 'year': '2020',\n",
       " 'type': 'title',\n",
       " 'authors': 'Gupta NA, Lien C, Iv M, ',\n",
       " 'section': 'Title',\n",
       " 'section_type': 'TITLE'}"
      ]
     },
     "execution_count": 20,
     "metadata": {},
     "output_type": "execute_result"
    }
   ],
   "source": [
    "data[1][0]['passages'][0]['infons']"
   ]
  },
  {
   "cell_type": "code",
   "execution_count": 29,
   "metadata": {},
   "outputs": [
    {
     "name": "stdout",
     "output_type": "stream",
     "text": [
      "loaded data, begin parsing\n",
      "hit 19368, miss 54283\n",
      "result RENET2 model's input is at ../data/LitCovid/\n",
      "--- 220.793 seconds ---\n",
      "using GENIA Sentence Splitter\n",
      "/mnt/bal31/jhsu/home/projects/RENET2/renet2\n",
      "using geniass /mnt/bal31/jhsu/home/projects/RENET2/renet2/../tools/geniass/run_geniass.sh ../data/LitCovid/docs.txt ../data/LitCovid/sentences.txt /usr/bin/ruby\n",
      "--- 178.764 seconds ---\n"
     ]
    }
   ],
   "source": [
    "parse_data.parse_data_json_f_hd(covid_f, output_d)"
   ]
  },
  {
   "cell_type": "code",
   "execution_count": 30,
   "metadata": {},
   "outputs": [
    {
     "name": "stdout",
     "output_type": "stream",
     "text": [
      "will use 2 GPUs!\n",
      "using device cuda\n",
      "loading word index from ./utils/word_index\n",
      "loaded word index, voc size 82948\n",
      "tokenizer size 82949\n",
      "fix input sentences# 400, tokens# 54, batch size 60\n",
      "reading input at ../data/LitCovid/\n",
      "No cached file ../data/LitCovid/cached_all_doc_0_400_54\n",
      "Creating features from dataset file at  ../data/LitCovid/\n",
      "load data in path ../data/LitCovid/docs.txt\n",
      "*** Example ***                      \n",
      "unique_id: 32292259\n",
      "pairs 30 doc snt num 24\n",
      "token string: [15] understanding of guidance for acupuncture and moxibustion interventions on (['<C000657245>'], ['COVID-19']) second edition issued by caam\n",
      "token ids   : [15] 1238 2 10657 9 13 3 13 3754 36 13 662 11176 66438 21 13\n",
      "fix feature : [15] 0 0 0 0 0 0 0 0 0 1 0 0 0 0 0\n",
      "token string: [11] at present the situation of global fight against (['<C000657245>'], ['COVID-19']) is serious\n",
      "token ids   : [11] 44 158 1 9557 2 1254 51489 443 13 16 2959\n",
      "fix feature : [11] 0 0 0 0 0 0 0 0 1 0 0\n",
      "*** Example ***                      \n",
      "unique_id: 32659830\n",
      "pairs 55 doc snt num 358\n",
      "token string: [21] addendum zu den s3-leitlinien morbus (['<D003424>'], ['Crohn', 'und', 'Colitis', 'ulcerosa']) betreuung von patienten mit chronisch entzundlichen darmerkrankungen in der (['<C000657245>'], ['COVID-19']) -pandemie offene fragen (['<7373>'], ['und']) antworten\n",
      "token ids   : [21] 13 13 10253 13 14442 215 13 15432 13 82079 13 13 13 4 8792 13 13 13 13 13 13\n",
      "fix feature : [21] 0 0 0 0 0 4 0 0 0 0 0 0 0 0 0 1 0 0 0 5 0\n",
      "token string: [23] die (['<C000657245>'], ['COVID-19']) -pandemie ist ein weltweiter ausbruch (['<D006623>'], ['von', 'neu', 'aufgetretenen']) infektionen mit dem sars-cov-2-virus von denen weltweit derzeit mehr (['<23435>'], ['als', '10']) .670.000 menschen erkrankt sind bzw\n",
      "token ids   : [23] 8556 13 13 28409 13 13 13 5771 13 82079 13 13 15432 13 13 13 13 3806 13 13 13 13 13\n",
      "fix feature : [23] 0 1 0 0 0 0 0 1 0 0 0 0 0 0 0 0 0 2 0 0 0 0 0\n",
      " --- ann_token     pmid:32458400\n",
      "[502, 510, 'COVID-19', 'C000657245', 'Disease', 2]\n",
      "See NICEâs COVID-19 rapid guideline on arranging planned care in hospitals and diagnostic services and NHS Englandâs operating framework for urgent and planned services in hospital settings during COVID-19 for guidance on minimising the risk from COVID-19.WHO IS IT FOR? Healthcare professionals, including dentists, in primary, secondary and tertiary care.\n",
      "\n",
      "s COVID-|COVID-19\n",
      " --- ann_token     \n",
      "[594, 597, 'NHS', '4810', 'Gene', 2]\n",
      "See NICEâs COVID-19 rapid guideline on arranging planned care in hospitals and diagnostic services and NHS Englandâs operating framework for urgent and planned services in hospital settings during COVID-19 for guidance on minimising the risk from COVID-19.WHO IS IT FOR? Healthcare professionals, including dentists, in primary, secondary and tertiary care.\n",
      "\n",
      "d N|NHS\n",
      " --- ann_token     \n",
      "[688, 696, 'COVID-19', 'C000657245', 'Disease', 2]\n",
      "See NICEâs COVID-19 rapid guideline on arranging planned care in hospitals and diagnostic services and NHS Englandâs operating framework for urgent and planned services in hospital settings during COVID-19 for guidance on minimising the risk from COVID-19.WHO IS IT FOR? Healthcare professionals, including dentists, in primary, secondary and tertiary care.\n",
      "\n",
      "ing COVI|COVID-19\n",
      " --- ann_token     \n",
      "[738, 746, 'COVID-19', 'C000657245', 'Disease', 2]\n",
      "See NICEâs COVID-19 rapid guideline on arranging planned care in hospitals and diagnostic services and NHS Englandâs operating framework for urgent and planned services in hospital settings during COVID-19 for guidance on minimising the risk from COVID-19.WHO IS IT FOR? Healthcare professionals, including dentists, in primary, secondary and tertiary care.\n",
      "\n",
      "rom COVI|COVID-19\n",
      " --- ann_token     \n",
      "[919, 922, 'NHS', '4810', 'Gene', 2]\n",
      "Commissioners, planners and service providers, including those in non-NHS organisations commissioned to provide services for the NHS or local authorities.\n",
      "\n",
      "non|NHS\n",
      " --- ann_token     \n",
      "[978, 981, 'NHS', '4810', 'Gene', 2]\n",
      "Commissioners, planners and service providers, including those in non-NHS organisations commissioned to provide services for the NHS or local authorities.\n",
      "\n",
      "the|NHS\n",
      "read 19367 doc, max token len 0 \n",
      "\n",
      "reading label at ../data/LitCovid/labels.txt\n",
      "loaded document #  429338 429338 429338\n",
      "padding document with fix length 400 54\n",
      "^C\n",
      "Traceback (most recent call last):\n",
      "  File \"evaluate_renet2_ft.py\", line 427, in <module>\n",
      "    main()\n",
      "  File \"evaluate_renet2_ft.py\", line 360, in main\n",
      "    renet2_evaluate(args)\n",
      "  File \"evaluate_renet2_ft.py\", line 50, in renet2_evaluate\n",
      "    features_ft_sub = load_and_cache_data(args)\n",
      "  File \"/mnt/bal31/jhsu/home/projects/RENET2/renet2/raw_handler.py\", line 174, in load_and_cache_data\n",
      "    all_feature_f = padding_raw_input(word_seq, x_feature, len(word_seq), fix_snt_n, fix_token_n)\n",
      "  File \"/mnt/bal31/jhsu/home/projects/RENET2/renet2/raw_handler.py\", line 57, in padding_raw_input\n",
      "    all_feature_f[i, j, 0, :j_n] = word_seq[i][j][:fix_token_n]\n",
      "KeyboardInterrupt\n"
     ]
    }
   ],
   "source": [
    "!python evaluate_renet2_ft.py --raw_data_dir ../data/LitCovid/ --model_dir ../models/ft_models/ --gda_fn_d ../data/LitCovid/ --models_number 10 --batch_size 60"
   ]
  },
  {
   "cell_type": "code",
   "execution_count": null,
   "metadata": {},
   "outputs": [],
   "source": [
    "73651"
   ]
  }
 ],
 "metadata": {
  "kernelspec": {
   "display_name": "Python [conda env:venv]",
   "language": "python",
   "name": "conda-env-venv-py"
  },
  "language_info": {
   "codemirror_mode": {
    "name": "ipython",
    "version": 3
   },
   "file_extension": ".py",
   "mimetype": "text/x-python",
   "name": "python",
   "nbconvert_exporter": "python",
   "pygments_lexer": "ipython3",
   "version": "3.7.6"
  }
 },
 "nbformat": 4,
 "nbformat_minor": 2
}
