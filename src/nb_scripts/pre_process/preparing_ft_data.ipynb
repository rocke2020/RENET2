{
 "cells": [
  {
   "cell_type": "code",
   "execution_count": 1,
   "metadata": {},
   "outputs": [],
   "source": [
    "# input\n",
    "\n",
    "# pmid list: ../../data/ft_info/ft_id_lst.csv\n",
    "# (ft json file)  ../../data/raw_data/ft/\n",
    "# (ft abs file)  ../../data/raw_data/abs/\n",
    "# result file at ../../data/raw_data/ft/T0 (all section)\n",
    "#                ../../data/raw_data/ft/T1 (no abs), etc"
   ]
  },
  {
   "cell_type": "code",
   "execution_count": 2,
   "metadata": {},
   "outputs": [],
   "source": [
    "# setp 1 download full-text"
   ]
  },
  {
   "cell_type": "code",
   "execution_count": 3,
   "metadata": {},
   "outputs": [],
   "source": [
    "import pandas as pd\n",
    "import pickle\n",
    "import os"
   ]
  },
  {
   "cell_type": "code",
   "execution_count": null,
   "metadata": {},
   "outputs": [],
   "source": []
  },
  {
   "cell_type": "code",
   "execution_count": 4,
   "metadata": {},
   "outputs": [],
   "source": [
    "# get pmid list"
   ]
  },
  {
   "cell_type": "code",
   "execution_count": 5,
   "metadata": {},
   "outputs": [],
   "source": [
    "tar_lst = pd.read_csv(\"../../data/ft_info/ft_id_lst.csv\", dtype=str)"
   ]
  },
  {
   "cell_type": "code",
   "execution_count": 6,
   "metadata": {},
   "outputs": [
    {
     "data": {
      "text/html": [
       "<div>\n",
       "<style scoped>\n",
       "    .dataframe tbody tr th:only-of-type {\n",
       "        vertical-align: middle;\n",
       "    }\n",
       "\n",
       "    .dataframe tbody tr th {\n",
       "        vertical-align: top;\n",
       "    }\n",
       "\n",
       "    .dataframe thead th {\n",
       "        text-align: right;\n",
       "    }\n",
       "</style>\n",
       "<table border=\"1\" class=\"dataframe\">\n",
       "  <thead>\n",
       "    <tr style=\"text-align: right;\">\n",
       "      <th></th>\n",
       "      <th>PMCID</th>\n",
       "      <th>PMID</th>\n",
       "    </tr>\n",
       "  </thead>\n",
       "  <tbody>\n",
       "    <tr>\n",
       "      <th>0</th>\n",
       "      <td>PMC1636349</td>\n",
       "      <td>16963499</td>\n",
       "    </tr>\n",
       "    <tr>\n",
       "      <th>1</th>\n",
       "      <td>PMC1892038</td>\n",
       "      <td>17579508</td>\n",
       "    </tr>\n",
       "    <tr>\n",
       "      <th>2</th>\n",
       "      <td>PMC1893131</td>\n",
       "      <td>17362624</td>\n",
       "    </tr>\n",
       "    <tr>\n",
       "      <th>3</th>\n",
       "      <td>PMC2169334</td>\n",
       "      <td>10579720</td>\n",
       "    </tr>\n",
       "    <tr>\n",
       "      <th>4</th>\n",
       "      <td>PMC2172711</td>\n",
       "      <td>12835313</td>\n",
       "    </tr>\n",
       "  </tbody>\n",
       "</table>\n",
       "</div>"
      ],
      "text/plain": [
       "        PMCID      PMID\n",
       "0  PMC1636349  16963499\n",
       "1  PMC1892038  17579508\n",
       "2  PMC1893131  17362624\n",
       "3  PMC2169334  10579720\n",
       "4  PMC2172711  12835313"
      ]
     },
     "execution_count": 6,
     "metadata": {},
     "output_type": "execute_result"
    }
   ],
   "source": [
    "tar_lst.head()"
   ]
  },
  {
   "cell_type": "code",
   "execution_count": 7,
   "metadata": {},
   "outputs": [
    {
     "data": {
      "text/plain": [
       "0      16963499\n",
       "1      17579508\n",
       "2      17362624\n",
       "3      10579720\n",
       "4      12835313\n",
       "         ...   \n",
       "495    32281668\n",
       "496    32333644\n",
       "497    32346988\n",
       "498    32354045\n",
       "499    32316063\n",
       "Name: PMID, Length: 500, dtype: object"
      ]
     },
     "execution_count": 7,
     "metadata": {},
     "output_type": "execute_result"
    }
   ],
   "source": [
    "tar_lst.PMID"
   ]
  },
  {
   "cell_type": "code",
   "execution_count": 8,
   "metadata": {},
   "outputs": [],
   "source": [
    "# _f = os.path.join('../../data/ft_info/', 'PMID_lst')                                                                                                                                                                                                                                        \n",
    "# with open(_f, 'rb' ) as fp:\n",
    "#     PMID_lst = pickle.load(fp)\n",
    "# print(len(PMID_lst))\n"
   ]
  },
  {
   "cell_type": "code",
   "execution_count": 9,
   "metadata": {},
   "outputs": [],
   "source": [
    "nl = list(tar_lst.PMID.values)"
   ]
  },
  {
   "cell_type": "code",
   "execution_count": 10,
   "metadata": {},
   "outputs": [],
   "source": [
    "import numpy as np\n",
    "np.random.shuffle(nl)"
   ]
  },
  {
   "cell_type": "code",
   "execution_count": 11,
   "metadata": {},
   "outputs": [
    {
     "data": {
      "text/plain": [
       "['30050153',\n",
       " '32367749',\n",
       " '32244779',\n",
       " '24307910',\n",
       " '31541124',\n",
       " '31293647',\n",
       " '27034972',\n",
       " '23225887',\n",
       " '29464990',\n",
       " '21985690',\n",
       " '22429809',\n",
       " '28811962',\n",
       " '29755715',\n",
       " '23284352',\n",
       " '19113831',\n",
       " '22518954',\n",
       " '26410082',\n",
       " '23904871',\n",
       " '24106511',\n",
       " '32339777',\n",
       " '21388547',\n",
       " '32356047',\n",
       " '28667514',\n",
       " '21104890',\n",
       " '27939900',\n",
       " '30024510',\n",
       " '23468924',\n",
       " '28510891',\n",
       " '27990348',\n",
       " '23336013',\n",
       " '27070462',\n",
       " '27472707',\n",
       " '27642274',\n",
       " '23023860',\n",
       " '28813453',\n",
       " '19818716',\n",
       " '24650018',\n",
       " '22829783',\n",
       " '21691575',\n",
       " '32193512',\n",
       " '30468149',\n",
       " '24053333',\n",
       " '18674540',\n",
       " '32316063',\n",
       " '29563864',\n",
       " '25692985',\n",
       " '23940823',\n",
       " '30949053',\n",
       " '20890968',\n",
       " '29596489',\n",
       " '24792912',\n",
       " '30542778',\n",
       " '30321699',\n",
       " '28316281',\n",
       " '28480131',\n",
       " '23589626',\n",
       " '15354209',\n",
       " '27596437',\n",
       " '21170118',\n",
       " '24809021',\n",
       " '28724946',\n",
       " '26634103',\n",
       " '31832083',\n",
       " '32291137',\n",
       " '25964797',\n",
       " '24117827',\n",
       " '30542420',\n",
       " '32148991',\n",
       " '31000713',\n",
       " '22421041',\n",
       " '31221168',\n",
       " '26000277',\n",
       " '30709862',\n",
       " '20541258',\n",
       " '27956798',\n",
       " '24069431',\n",
       " '27525306',\n",
       " '28053667',\n",
       " '32335068',\n",
       " '26936326',\n",
       " '30717218',\n",
       " '31177305',\n",
       " '32171866',\n",
       " '23352838',\n",
       " '20671726',\n",
       " '24898186',\n",
       " '23276084',\n",
       " '20629634',\n",
       " '26316238',\n",
       " '26425701',\n",
       " '21483654',\n",
       " '30319825',\n",
       " '28830947',\n",
       " '22889990',\n",
       " '31114454',\n",
       " '27843468',\n",
       " '27125496',\n",
       " '31554345',\n",
       " '30571509',\n",
       " '30987660',\n",
       " '19247448',\n",
       " '22829951',\n",
       " '28612977',\n",
       " '20161399',\n",
       " '32106509',\n",
       " '32131898',\n",
       " '31324753',\n",
       " '32335366',\n",
       " '21926074',\n",
       " '29563667',\n",
       " '24810596',\n",
       " '32353978',\n",
       " '30847285',\n",
       " '19133133',\n",
       " '20139964',\n",
       " '25960081',\n",
       " '28769919',\n",
       " '32321856',\n",
       " '29557375',\n",
       " '25405347',\n",
       " '22337246',\n",
       " '31430968',\n",
       " '32085487',\n",
       " '28291107',\n",
       " '29796670',\n",
       " '27751272',\n",
       " '26709357',\n",
       " '17362624',\n",
       " '28169280',\n",
       " '29955035',\n",
       " '24650275',\n",
       " '23308079',\n",
       " '30643658',\n",
       " '32211513',\n",
       " '24670219',\n",
       " '28837387',\n",
       " '21356653',\n",
       " '32354637',\n",
       " '32325098',\n",
       " '20806040',\n",
       " '30428895',\n",
       " '26951071',\n",
       " '30459884',\n",
       " '16333304',\n",
       " '25965909',\n",
       " '22237039',\n",
       " '28259070',\n",
       " '24754905',\n",
       " '31572833',\n",
       " '26537631',\n",
       " '32361528',\n",
       " '30028291',\n",
       " '24400092',\n",
       " '27047182',\n",
       " '31370350',\n",
       " '31441935',\n",
       " '27403037',\n",
       " '32293716',\n",
       " '32226348',\n",
       " '30017315',\n",
       " '29805234',\n",
       " '31274189',\n",
       " '31015328',\n",
       " '32203104',\n",
       " '28289637',\n",
       " '21318045',\n",
       " '21934688',\n",
       " '29061741',\n",
       " '19754739',\n",
       " '24708774',\n",
       " '32333991',\n",
       " '29160859',\n",
       " '25905096',\n",
       " '24373684',\n",
       " '25700381',\n",
       " '28713378',\n",
       " '25825024',\n",
       " '21147502',\n",
       " '31675356',\n",
       " '26376633',\n",
       " '29968748',\n",
       " '26852130',\n",
       " '31203250',\n",
       " '32097725',\n",
       " '22740686',\n",
       " '20080335',\n",
       " '32205092',\n",
       " '26143012',\n",
       " '31269758',\n",
       " '28158258',\n",
       " '28465628',\n",
       " '32318325',\n",
       " '32033167',\n",
       " '22507132',\n",
       " '30365064',\n",
       " '25829796',\n",
       " '27199705',\n",
       " '29393430',\n",
       " '19191756',\n",
       " '26061049',\n",
       " '32302675',\n",
       " '30930839',\n",
       " '19168076',\n",
       " '19830172',\n",
       " '27069490',\n",
       " '16963499',\n",
       " '26844115',\n",
       " '27364353',\n",
       " '22822378',\n",
       " '31159885',\n",
       " '29050215',\n",
       " '28604785',\n",
       " '22815926',\n",
       " '26303914',\n",
       " '30796730',\n",
       " '30483580',\n",
       " '31797087',\n",
       " '30242205',\n",
       " '32313880',\n",
       " '32306854',\n",
       " '31546546',\n",
       " '25430415',\n",
       " '21679011',\n",
       " '22566904',\n",
       " '24884708',\n",
       " '30675527',\n",
       " '24186967',\n",
       " '29937924',\n",
       " '29493223',\n",
       " '29213072',\n",
       " '32346988',\n",
       " '27982047',\n",
       " '30828298',\n",
       " '20633576',\n",
       " '30266767',\n",
       " '26648759',\n",
       " '27281198',\n",
       " '30767970',\n",
       " '29104337',\n",
       " '27540513',\n",
       " '26146429',\n",
       " '31035950',\n",
       " '27222925',\n",
       " '27170755',\n",
       " '29551768',\n",
       " '22310813',\n",
       " '28348328',\n",
       " '31291028',\n",
       " '27808126',\n",
       " '27506764',\n",
       " '32345230',\n",
       " '26412311',\n",
       " '25963628',\n",
       " '28428661',\n",
       " '23761016',\n",
       " '31890722',\n",
       " '18398271',\n",
       " '30027791',\n",
       " '31242553',\n",
       " '20058253',\n",
       " '23762114',\n",
       " '26561860',\n",
       " '25478511',\n",
       " '18836991',\n",
       " '31503006',\n",
       " '23022873',\n",
       " '30424177',\n",
       " '31205387',\n",
       " '26243863',\n",
       " '24160453',\n",
       " '15199386',\n",
       " '23267373',\n",
       " '23874067',\n",
       " '10579720',\n",
       " '32341442',\n",
       " '30682788',\n",
       " '24786293',\n",
       " '24434143',\n",
       " '31143309',\n",
       " '25926995',\n",
       " '19059699',\n",
       " '31777423',\n",
       " '19813621',\n",
       " '12835313',\n",
       " '31086197',\n",
       " '23579757',\n",
       " '31331342',\n",
       " '30884810',\n",
       " '31412075',\n",
       " '28602767',\n",
       " '29114605',\n",
       " '26716506',\n",
       " '24143102',\n",
       " '22373102',\n",
       " '26112967',\n",
       " '31379913',\n",
       " '23514404',\n",
       " '29568308',\n",
       " '25491605',\n",
       " '32332878',\n",
       " '32354045',\n",
       " '32269762',\n",
       " '30261172',\n",
       " '21396159',\n",
       " '23467644',\n",
       " '29527287',\n",
       " '28777375',\n",
       " '23261248',\n",
       " '31747387',\n",
       " '22808312',\n",
       " '26338969',\n",
       " '24373538',\n",
       " '24003385',\n",
       " '23588304',\n",
       " '27381680',\n",
       " '32333644',\n",
       " '25657186',\n",
       " '24015288',\n",
       " '27445774',\n",
       " '25940564',\n",
       " '32186711',\n",
       " '23956804',\n",
       " '21983962',\n",
       " '23384018',\n",
       " '25551576',\n",
       " '22521993',\n",
       " '25946018',\n",
       " '26933633',\n",
       " '21957398',\n",
       " '25143772',\n",
       " '32310621',\n",
       " '17630217',\n",
       " '31624253',\n",
       " '32367767',\n",
       " '22187572',\n",
       " '21816639',\n",
       " '30971222',\n",
       " '18752632',\n",
       " '20859461',\n",
       " '26552017',\n",
       " '31850125',\n",
       " '20418947',\n",
       " '29809055',\n",
       " '21876700',\n",
       " '31008371',\n",
       " '30873191',\n",
       " '30062756',\n",
       " '23936452',\n",
       " '32281668',\n",
       " '24509439',\n",
       " '24152380',\n",
       " '22178269',\n",
       " '31890124',\n",
       " '30200437',\n",
       " '32264889',\n",
       " '29270009',\n",
       " '27247945',\n",
       " '30338303',\n",
       " '31138275',\n",
       " '28529783',\n",
       " '14710238',\n",
       " '31321292',\n",
       " '19460904',\n",
       " '32069313',\n",
       " '29662784',\n",
       " '27014694',\n",
       " '31605025',\n",
       " '24620788',\n",
       " '31673964',\n",
       " '32231330',\n",
       " '24080184',\n",
       " '32233935',\n",
       " '26969303',\n",
       " '29220521',\n",
       " '27200373',\n",
       " '32234467',\n",
       " '27257560',\n",
       " '32148415',\n",
       " '23840664',\n",
       " '24192011',\n",
       " '27803720',\n",
       " '28197443',\n",
       " '28883914',\n",
       " '21465621',\n",
       " '28689374',\n",
       " '30282812',\n",
       " '30606164',\n",
       " '32305384',\n",
       " '23898467',\n",
       " '24907897',\n",
       " '32362344',\n",
       " '29581609',\n",
       " '31039423',\n",
       " '30123704',\n",
       " '32352656',\n",
       " '30602709',\n",
       " '29783984',\n",
       " '26986077',\n",
       " '24244118',\n",
       " '23736079',\n",
       " '32242950',\n",
       " '23634903',\n",
       " '22988441',\n",
       " '25273894',\n",
       " '28557204',\n",
       " '21980465',\n",
       " '16781449',\n",
       " '26170810',\n",
       " '32226695',\n",
       " '28932626',\n",
       " '30349541',\n",
       " '19881035',\n",
       " '29849496',\n",
       " '21281461',\n",
       " '20677291',\n",
       " '28360229',\n",
       " '27078154',\n",
       " '30706071',\n",
       " '29979707',\n",
       " '19181290',\n",
       " '28277979',\n",
       " '30428326',\n",
       " '32311498',\n",
       " '32198163',\n",
       " '25840414',\n",
       " '30515021',\n",
       " '29876020',\n",
       " '26053248',\n",
       " '26823174',\n",
       " '31852336',\n",
       " '26796641',\n",
       " '27171271',\n",
       " '26639108',\n",
       " '19702309',\n",
       " '25852568',\n",
       " '23506384',\n",
       " '32359080',\n",
       " '25892824',\n",
       " '32034638',\n",
       " '30362061',\n",
       " '25616812',\n",
       " '28150320',\n",
       " '22547706',\n",
       " '32292206',\n",
       " '22787480',\n",
       " '21674151',\n",
       " '27485030',\n",
       " '31480304',\n",
       " '17579508',\n",
       " '24016799',\n",
       " '29207974',\n",
       " '32264922',\n",
       " '28195163',\n",
       " '32205232',\n",
       " '30549473',\n",
       " '25889124',\n",
       " '30906313',\n",
       " '23393191',\n",
       " '23822584',\n",
       " '30621047',\n",
       " '27880818',\n",
       " '21774454',\n",
       " '19367282',\n",
       " '27390464',\n",
       " '30956762',\n",
       " '29751212',\n",
       " '32317153',\n",
       " '27514748',\n",
       " '32279908',\n",
       " '32364011',\n",
       " '25193513',\n",
       " '27474010',\n",
       " '28616176',\n",
       " '29992029',\n",
       " '31513673',\n",
       " '27790004',\n",
       " '27306994',\n",
       " '30476719',\n",
       " '24797878',\n",
       " '21364575',\n",
       " '32087689',\n",
       " '25999344',\n",
       " '25168087',\n",
       " '29740160',\n",
       " '27576869',\n",
       " '23153121',\n",
       " '32362813',\n",
       " '30744561',\n",
       " '26404473',\n",
       " '25043992',\n",
       " '21352476',\n",
       " '26622254',\n",
       " '25935745',\n",
       " '28291265',\n",
       " '30223531',\n",
       " '29155908',\n",
       " '32327200',\n",
       " '29938207',\n",
       " '25544578',\n",
       " '27785854']"
      ]
     },
     "execution_count": 11,
     "metadata": {},
     "output_type": "execute_result"
    }
   ],
   "source": [
    "nl"
   ]
  },
  {
   "cell_type": "code",
   "execution_count": 12,
   "metadata": {},
   "outputs": [],
   "source": [
    "# PMID_lst"
   ]
  },
  {
   "cell_type": "code",
   "execution_count": null,
   "metadata": {},
   "outputs": [],
   "source": []
  },
  {
   "cell_type": "code",
   "execution_count": null,
   "metadata": {},
   "outputs": [],
   "source": []
  },
  {
   "cell_type": "code",
   "execution_count": 13,
   "metadata": {},
   "outputs": [],
   "source": [
    "# if we only have pmid, we can obatin pmcid by:\n",
    "# # get pmcid\n",
    "# # !wget https://ftp.ncbi.nlm.nih.gov/pub/pmc/PMC-ids.csv.gz\n",
    "# # !gzip -d PMC-ids.csv.gz\n",
    "\n",
    "# _pmc_id_map = pd.read_csv(\"../../data/ft_info/PMC-ids.csv\", dtype=str)\n",
    "# pmc_id_map = _pmc_id_map[['PMCID', 'PMID']]\n",
    "# pmc_id_map = pmc_id_map[pmc_id_map.notnull()]\n",
    "# tar_lst = pmc_id_map[pmc_id_map['PMID'].isin(pmid_l)]"
   ]
  },
  {
   "cell_type": "code",
   "execution_count": 14,
   "metadata": {},
   "outputs": [],
   "source": [
    "import sys\n",
    "sys.path.insert(1, '..')"
   ]
  },
  {
   "cell_type": "code",
   "execution_count": 15,
   "metadata": {},
   "outputs": [],
   "source": [
    "# import download_data"
   ]
  },
  {
   "cell_type": "code",
   "execution_count": 16,
   "metadata": {
    "scrolled": true
   },
   "outputs": [],
   "source": [
    "# # downloading full-text\n",
    "# tar_id_lst = list(tar_lst.PMCID.values)\n",
    "# tar_dir = '../../data/raw_data/ft/'\n",
    "# url_prefix = \"https://www.ncbi.nlm.nih.gov/research/pubtator-api/publications/export/biocjson?pmcids=\"\n",
    "# _type='json'\n",
    "# cores=3\n",
    "\n",
    "# hit_rec = download_data.download_from_lst_hd(tar_id_lst, tar_dir, url_prefix, _type, cores)"
   ]
  },
  {
   "cell_type": "code",
   "execution_count": 17,
   "metadata": {},
   "outputs": [],
   "source": [
    "# # downloading abs (as some full-text have no abstract)\n",
    "# tar_id_lst = list(tar_lst.PMID.values)\n",
    "# tar_dir = '../../data/raw_data/abs/'\n",
    "# url_prefix = \"https://www.ncbi.nlm.nih.gov/research/pubtator-api/publications/export/pubtator?pmids=\"\n",
    "# _type='abs'\n",
    "# cores=3\n",
    "\n",
    "# hit_rec = download_data.download_from_lst_hd(tar_id_lst, tar_dir, url_prefix, _type, cores)"
   ]
  },
  {
   "cell_type": "code",
   "execution_count": null,
   "metadata": {},
   "outputs": [],
   "source": []
  },
  {
   "cell_type": "code",
   "execution_count": null,
   "metadata": {},
   "outputs": [],
   "source": []
  },
  {
   "cell_type": "code",
   "execution_count": 18,
   "metadata": {},
   "outputs": [
    {
     "name": "stdout",
     "output_type": "stream",
     "text": [
      "annotated table shape (1556, 26)\n"
     ]
    }
   ],
   "source": [
    "s_df = pd.read_csv('../../data/ft_info/ft_500_n.tsv', sep = '\\t')\n",
    "\n",
    "print('annotated table shape', s_df.shape)\n",
    "s_df = s_df[s_df['2nd_label'] != 0][['pmid', 'geneId', 'diseaseId', '2nd_label']]\n",
    "s_df.rename(columns={'2nd_label':'label'}, inplace=True)\n",
    "s_df.to_csv('../../data/ft_info/labels_n.tsv', sep=',', index=False)"
   ]
  },
  {
   "cell_type": "code",
   "execution_count": null,
   "metadata": {},
   "outputs": [],
   "source": []
  },
  {
   "cell_type": "code",
   "execution_count": null,
   "metadata": {},
   "outputs": [],
   "source": []
  },
  {
   "cell_type": "code",
   "execution_count": 19,
   "metadata": {},
   "outputs": [],
   "source": [
    "%load_ext autoreload\n",
    "%autoreload 2"
   ]
  },
  {
   "cell_type": "code",
   "execution_count": 20,
   "metadata": {},
   "outputs": [],
   "source": [
    "import parse_data\n",
    "import subprocess\n"
   ]
  },
  {
   "cell_type": "code",
   "execution_count": 21,
   "metadata": {},
   "outputs": [],
   "source": [
    "# original all sections"
   ]
  },
  {
   "cell_type": "code",
   "execution_count": 22,
   "metadata": {},
   "outputs": [],
   "source": [
    "# in_pmid_d = '/mnt/bal31/jhsu/old/data/ptc/raw_ft/abs_off/'\n",
    "# in_pmcid_d = '/mnt/bal31/jhsu/old/data/ptc/raw_ft/ft/'"
   ]
  },
  {
   "cell_type": "code",
   "execution_count": 23,
   "metadata": {},
   "outputs": [],
   "source": [
    "# import subprocess\n",
    "# _lst = list(tar_lst.PMID.values)\n",
    "# for i in list(_lst):\n",
    "#     cmd = 'cp ' + '/mnt/bal31/jhsu/old/data/ptc/raw_ft/abs_off/' + i +  ' ' + '../../data/raw_data/abs/' + i\n",
    "#     subprocess.check_call(cmd,   shell=True)\n",
    "    \n",
    "# _lst = list(tar_lst.PMCID.values)\n",
    "# for i in list(_lst):\n",
    "#     cmd = 'cp ' + '/mnt/bal31/jhsu/old/data/ptc/raw_ft/ft/' + i +  ' ' + '../../data/raw_data/ft/' + i\n",
    "#     subprocess.check_call(cmd,   shell=True)"
   ]
  },
  {
   "cell_type": "code",
   "execution_count": 165,
   "metadata": {},
   "outputs": [],
   "source": []
  },
  {
   "cell_type": "code",
   "execution_count": 174,
   "metadata": {},
   "outputs": [],
   "source": [
    "!mkdir -p ../../data/raw_data/ft/T0\n",
    "out_dir = '../../data/raw_data/ft/T0/'"
   ]
  },
  {
   "cell_type": "code",
   "execution_count": 175,
   "metadata": {},
   "outputs": [
    {
     "name": "stdout",
     "output_type": "stream",
     "text": [
      "will parser doc at ../../data/raw_data/ft/ & ../../data/raw_data/abs/, doc # 500, with sections ['TITLE', 'ABSTRACT', 'INTRO', 'METHODS', 'RESULTS', 'DISCUSS', 'CONCL'], if have SeFi\n",
      "hit 500, miss 0C7295272\n",
      "result RENET2 model's input is at ../../data/raw_data/ft/T0/\n",
      "--- 4.005 seconds ---\n",
      "using GENIA Sentence Splitter\n",
      "/autofs/bal31/jhsu/home/projects/RENET2/renet2\n",
      "using geniass /autofs/bal31/jhsu/home/projects/RENET2/renet2/../tools/geniass/run_geniass.sh ../../data/raw_data/ft/T0/docs.txt ../../data/raw_data/ft/T0/sentences.txt /usr/bin/ruby\n",
      "--- 12.785 seconds ---\n"
     ]
    }
   ],
   "source": [
    "tar_id_lst = list(tar_lst.PMCID.values)\n",
    "in_pmid_d = '../../data/raw_data/abs/'\n",
    "in_pmcid_d = '../../data/raw_data/ft/'\n",
    "parse_t = 'ft' # 'ft' or 'abs'\n",
    "if_has_s_f = True # if have section file\n",
    "ori_tar=['TITLE', 'ABSTRACT', 'INTRO', 'METHODS', 'RESULTS', 'DISCUSS', 'CONCL']\n",
    "is_SeFi = True\n",
    "\n",
    "parse_data.parse_data_lst_hd(tar_id_lst, in_pmid_d, in_pmcid_d, parse_t, out_dir, if_has_s_f, ori_tar, is_SeFi)"
   ]
  },
  {
   "cell_type": "code",
   "execution_count": 176,
   "metadata": {},
   "outputs": [
    {
     "name": "stdout",
     "output_type": "stream",
     "text": [
      "python ../normalize_ann.py --in_f ../../data/raw_data/ft/T0/anns.txt --out_f ../../data/raw_data/ft/T0/anns_n.txt\n"
     ]
    },
    {
     "data": {
      "text/plain": [
       "0"
      ]
     },
     "execution_count": 176,
     "metadata": {},
     "output_type": "execute_result"
    }
   ],
   "source": [
    "#optional normalize the annotation\n",
    "cmd = 'python ../normalize_ann.py ' + '--in_f ' + out_dir + 'anns.txt' +  ' ' + '--out_f ' + out_dir + 'anns_n.txt'\n",
    "print(cmd)\n",
    "subprocess.check_call(cmd,   shell=True)"
   ]
  },
  {
   "cell_type": "code",
   "execution_count": null,
   "metadata": {},
   "outputs": [],
   "source": []
  },
  {
   "cell_type": "code",
   "execution_count": 180,
   "metadata": {},
   "outputs": [],
   "source": [
    "!mkdir -p ../../data/raw_data/ft/T1\n",
    "out_dir = '../../data/raw_data/ft/T1/'"
   ]
  },
  {
   "cell_type": "code",
   "execution_count": 181,
   "metadata": {},
   "outputs": [
    {
     "name": "stdout",
     "output_type": "stream",
     "text": [
      "will parser doc at ../../data/raw_data/ft/ & ../../data/raw_data/abs/, doc # 500, with sections ['TITLE', '#', 'INTRO', 'METHODS', 'RESULTS', 'DISCUSS', 'CONCL'], if have SeFi\n",
      "hit 500, miss 0C7295272\n",
      "result RENET2 model's input is at ../../data/raw_data/ft/T1/\n",
      "--- 4.058 seconds ---\n",
      "using GENIA Sentence Splitter\n",
      "/autofs/bal31/jhsu/home/projects/RENET2/renet2\n",
      "using geniass /autofs/bal31/jhsu/home/projects/RENET2/renet2/../tools/geniass/run_geniass.sh ../../data/raw_data/ft/T1/docs.txt ../../data/raw_data/ft/T1/sentences.txt /usr/bin/ruby\n",
      "--- 12.668 seconds ---\n"
     ]
    }
   ],
   "source": [
    "tar_id_lst = list(tar_lst.PMCID.values)\n",
    "in_pmid_d = '../../data/raw_data/abs/'\n",
    "in_pmcid_d = '../../data/raw_data/ft/'\n",
    "parse_t = 'ft' # 'ft' or 'abs'\n",
    "if_has_s_f = True # if have section file\n",
    "ori_tar=['TITLE', '#', 'INTRO', 'METHODS', 'RESULTS', 'DISCUSS', 'CONCL']\n",
    "is_SeFi = True\n",
    "\n",
    "parse_data.parse_data_lst_hd(tar_id_lst, in_pmid_d, in_pmcid_d, parse_t, out_dir, if_has_s_f, ori_tar, is_SeFi)"
   ]
  },
  {
   "cell_type": "code",
   "execution_count": 182,
   "metadata": {},
   "outputs": [
    {
     "name": "stdout",
     "output_type": "stream",
     "text": [
      "python ../normalize_ann.py --in_f ../../data/raw_data/ft/T1/anns.txt --out_f ../../data/raw_data/ft/T1/anns_n.txt\n"
     ]
    },
    {
     "data": {
      "text/plain": [
       "0"
      ]
     },
     "execution_count": 182,
     "metadata": {},
     "output_type": "execute_result"
    }
   ],
   "source": [
    "#optional normalize the annotation\n",
    "cmd = 'python ../normalize_ann.py ' + '--in_f ' + out_dir + 'anns.txt' +  ' ' + '--out_f ' + out_dir + 'anns_n.txt'\n",
    "print(cmd)\n",
    "subprocess.check_call(cmd,   shell=True)"
   ]
  },
  {
   "cell_type": "code",
   "execution_count": null,
   "metadata": {},
   "outputs": [],
   "source": []
  },
  {
   "cell_type": "code",
   "execution_count": 183,
   "metadata": {},
   "outputs": [],
   "source": [
    "!mkdir -p ../../data/raw_data/ft/T2\n",
    "out_dir = '../../data/raw_data/ft/T2/'\n",
    "#ori_tar=['TITLE', 'ABSTRACT', 'INTRO', 'METHODS', 'RESULTS', 'DISCUSS', 'CONCL']\n",
    "ori_tar=['TITLE', 'ABSTRACT', '#', 'METHODS', 'RESULTS', 'DISCUSS', 'CONCL']"
   ]
  },
  {
   "cell_type": "code",
   "execution_count": 184,
   "metadata": {},
   "outputs": [
    {
     "name": "stdout",
     "output_type": "stream",
     "text": [
      "will parser doc at ../../data/raw_data/ft/ & ../../data/raw_data/abs/, doc # 500, with sections ['TITLE', 'ABSTRACT', '#', 'METHODS', 'RESULTS', 'DISCUSS', 'CONCL'], if have SeFi\n",
      "hit 500, miss 0C7295272\n",
      "result RENET2 model's input is at ../../data/raw_data/ft/T2/\n",
      "--- 4.171 seconds ---\n",
      "using GENIA Sentence Splitter\n",
      "/autofs/bal31/jhsu/home/projects/RENET2/renet2\n",
      "using geniass /autofs/bal31/jhsu/home/projects/RENET2/renet2/../tools/geniass/run_geniass.sh ../../data/raw_data/ft/T2/docs.txt ../../data/raw_data/ft/T2/sentences.txt /usr/bin/ruby\n",
      "--- 8.910 seconds ---\n",
      "python ../normalize_ann.py --in_f ../../data/raw_data/ft/T2/anns.txt --out_f ../../data/raw_data/ft/T2/anns_n.txt\n"
     ]
    },
    {
     "data": {
      "text/plain": [
       "0"
      ]
     },
     "execution_count": 184,
     "metadata": {},
     "output_type": "execute_result"
    }
   ],
   "source": [
    "tar_id_lst = list(tar_lst.PMCID.values)\n",
    "in_pmid_d = '../../data/raw_data/abs/'\n",
    "in_pmcid_d = '../../data/raw_data/ft/'\n",
    "parse_t = 'ft' # 'ft' or 'abs'\n",
    "if_has_s_f = True # if have section file\n",
    "is_SeFi = True\n",
    "\n",
    "parse_data.parse_data_lst_hd(tar_id_lst, in_pmid_d, in_pmcid_d, parse_t, out_dir, if_has_s_f, ori_tar, is_SeFi)\n",
    "\n",
    "#optional normalize the annotation\n",
    "cmd = 'python ../normalize_ann.py ' + '--in_f ' + out_dir + 'anns.txt' +  ' ' + '--out_f ' + out_dir + 'anns_n.txt'\n",
    "print(cmd)\n",
    "subprocess.check_call(cmd,   shell=True)"
   ]
  },
  {
   "cell_type": "code",
   "execution_count": null,
   "metadata": {},
   "outputs": [],
   "source": []
  },
  {
   "cell_type": "code",
   "execution_count": 185,
   "metadata": {},
   "outputs": [],
   "source": [
    "!mkdir -p ../../data/raw_data/ft/T3\n",
    "out_dir = '../../data/raw_data/ft/T3/'\n",
    "#ori_tar=['TITLE', 'ABSTRACT', 'INTRO', 'METHODS', 'RESULTS', 'DISCUSS', 'CONCL']\n",
    "ori_tar=['TITLE', 'ABSTRACT', 'INTRO', '#', 'RESULTS', 'DISCUSS', 'CONCL']"
   ]
  },
  {
   "cell_type": "code",
   "execution_count": 186,
   "metadata": {},
   "outputs": [
    {
     "name": "stdout",
     "output_type": "stream",
     "text": [
      "will parser doc at ../../data/raw_data/ft/ & ../../data/raw_data/abs/, doc # 500, with sections ['TITLE', 'ABSTRACT', 'INTRO', '#', 'RESULTS', 'DISCUSS', 'CONCL'], if have SeFi\n",
      "hit 500, miss 0C7295272\n",
      "result RENET2 model's input is at ../../data/raw_data/ft/T3/\n",
      "--- 3.388 seconds ---\n",
      "using GENIA Sentence Splitter\n",
      "/autofs/bal31/jhsu/home/projects/RENET2/renet2\n",
      "using geniass /autofs/bal31/jhsu/home/projects/RENET2/renet2/../tools/geniass/run_geniass.sh ../../data/raw_data/ft/T3/docs.txt ../../data/raw_data/ft/T3/sentences.txt /usr/bin/ruby\n",
      "--- 9.870 seconds ---\n",
      "python ../normalize_ann.py --in_f ../../data/raw_data/ft/T3/anns.txt --out_f ../../data/raw_data/ft/T3/anns_n.txt\n"
     ]
    },
    {
     "data": {
      "text/plain": [
       "0"
      ]
     },
     "execution_count": 186,
     "metadata": {},
     "output_type": "execute_result"
    }
   ],
   "source": [
    "tar_id_lst = list(tar_lst.PMCID.values)\n",
    "in_pmid_d = '../../data/raw_data/abs/'\n",
    "in_pmcid_d = '../../data/raw_data/ft/'\n",
    "parse_t = 'ft' # 'ft' or 'abs'\n",
    "if_has_s_f = True # if have section file\n",
    "is_SeFi = True\n",
    "\n",
    "parse_data.parse_data_lst_hd(tar_id_lst, in_pmid_d, in_pmcid_d, parse_t, out_dir, if_has_s_f, ori_tar, is_SeFi)\n",
    "\n",
    "#optional normalize the annotation\n",
    "cmd = 'python ../normalize_ann.py ' + '--in_f ' + out_dir + 'anns.txt' +  ' ' + '--out_f ' + out_dir + 'anns_n.txt'\n",
    "print(cmd)\n",
    "subprocess.check_call(cmd,   shell=True)"
   ]
  },
  {
   "cell_type": "code",
   "execution_count": null,
   "metadata": {},
   "outputs": [],
   "source": []
  },
  {
   "cell_type": "code",
   "execution_count": 187,
   "metadata": {},
   "outputs": [],
   "source": [
    "!mkdir -p ../../data/raw_data/ft/T4\n",
    "out_dir = '../../data/raw_data/ft/T4/'\n",
    "#ori_tar=['TITLE', 'ABSTRACT', 'INTRO', 'METHODS', 'RESULTS', 'DISCUSS', 'CONCL']\n",
    "ori_tar=['TITLE', 'ABSTRACT', 'INTRO', 'METHODS', '#', 'DISCUSS', 'CONCL']"
   ]
  },
  {
   "cell_type": "code",
   "execution_count": 188,
   "metadata": {},
   "outputs": [
    {
     "name": "stdout",
     "output_type": "stream",
     "text": [
      "will parser doc at ../../data/raw_data/ft/ & ../../data/raw_data/abs/, doc # 500, with sections ['TITLE', 'ABSTRACT', 'INTRO', 'METHODS', '#', 'DISCUSS', 'CONCL'], if have SeFi\n",
      "hit 500, miss 0C7295272\n",
      "result RENET2 model's input is at ../../data/raw_data/ft/T4/\n",
      "--- 3.842 seconds ---\n",
      "using GENIA Sentence Splitter\n",
      "/autofs/bal31/jhsu/home/projects/RENET2/renet2\n",
      "using geniass /autofs/bal31/jhsu/home/projects/RENET2/renet2/../tools/geniass/run_geniass.sh ../../data/raw_data/ft/T4/docs.txt ../../data/raw_data/ft/T4/sentences.txt /usr/bin/ruby\n",
      "--- 8.707 seconds ---\n",
      "python ../normalize_ann.py --in_f ../../data/raw_data/ft/T4/anns.txt --out_f ../../data/raw_data/ft/T4/anns_n.txt\n"
     ]
    },
    {
     "data": {
      "text/plain": [
       "0"
      ]
     },
     "execution_count": 188,
     "metadata": {},
     "output_type": "execute_result"
    }
   ],
   "source": [
    "tar_id_lst = list(tar_lst.PMCID.values)\n",
    "in_pmid_d = '../../data/raw_data/abs/'\n",
    "in_pmcid_d = '../../data/raw_data/ft/'\n",
    "parse_t = 'ft' # 'ft' or 'abs'\n",
    "if_has_s_f = True # if have section file\n",
    "is_SeFi = True\n",
    "\n",
    "parse_data.parse_data_lst_hd(tar_id_lst, in_pmid_d, in_pmcid_d, parse_t, out_dir, if_has_s_f, ori_tar, is_SeFi)\n",
    "\n",
    "#optional normalize the annotation\n",
    "cmd = 'python ../normalize_ann.py ' + '--in_f ' + out_dir + 'anns.txt' +  ' ' + '--out_f ' + out_dir + 'anns_n.txt'\n",
    "print(cmd)\n",
    "subprocess.check_call(cmd,   shell=True)"
   ]
  },
  {
   "cell_type": "code",
   "execution_count": null,
   "metadata": {},
   "outputs": [],
   "source": []
  },
  {
   "cell_type": "code",
   "execution_count": 189,
   "metadata": {},
   "outputs": [],
   "source": [
    "!mkdir -p ../../data/raw_data/ft/T5\n",
    "out_dir = '../../data/raw_data/ft/T5/'\n",
    "#ori_tar=['TITLE', 'ABSTRACT', 'INTRO', 'METHODS', 'RESULTS', 'DISCUSS', 'CONCL']\n",
    "ori_tar=['TITLE', 'ABSTRACT', 'INTRO', 'METHODS', 'RESULTS', '#', 'CONCL']"
   ]
  },
  {
   "cell_type": "code",
   "execution_count": 190,
   "metadata": {},
   "outputs": [
    {
     "name": "stdout",
     "output_type": "stream",
     "text": [
      "will parser doc at ../../data/raw_data/ft/ & ../../data/raw_data/abs/, doc # 500, with sections ['TITLE', 'ABSTRACT', 'INTRO', 'METHODS', 'RESULTS', '#', 'CONCL'], if have SeFi\n",
      "hit 500, miss 0C7295272\n",
      "result RENET2 model's input is at ../../data/raw_data/ft/T5/\n",
      "--- 3.341 seconds ---\n",
      "using GENIA Sentence Splitter\n",
      "/autofs/bal31/jhsu/home/projects/RENET2/renet2\n",
      "using geniass /autofs/bal31/jhsu/home/projects/RENET2/renet2/../tools/geniass/run_geniass.sh ../../data/raw_data/ft/T5/docs.txt ../../data/raw_data/ft/T5/sentences.txt /usr/bin/ruby\n",
      "--- 9.320 seconds ---\n",
      "python ../normalize_ann.py --in_f ../../data/raw_data/ft/T5/anns.txt --out_f ../../data/raw_data/ft/T5/anns_n.txt\n"
     ]
    },
    {
     "data": {
      "text/plain": [
       "0"
      ]
     },
     "execution_count": 190,
     "metadata": {},
     "output_type": "execute_result"
    }
   ],
   "source": [
    "tar_id_lst = list(tar_lst.PMCID.values)\n",
    "in_pmid_d = '../../data/raw_data/abs/'\n",
    "in_pmcid_d = '../../data/raw_data/ft/'\n",
    "parse_t = 'ft' # 'ft' or 'abs'\n",
    "if_has_s_f = True # if have section file\n",
    "is_SeFi = True\n",
    "\n",
    "parse_data.parse_data_lst_hd(tar_id_lst, in_pmid_d, in_pmcid_d, parse_t, out_dir, if_has_s_f, ori_tar, is_SeFi)\n",
    "\n",
    "#optional normalize the annotation\n",
    "cmd = 'python ../normalize_ann.py ' + '--in_f ' + out_dir + 'anns.txt' +  ' ' + '--out_f ' + out_dir + 'anns_n.txt'\n",
    "print(cmd)\n",
    "subprocess.check_call(cmd,   shell=True)"
   ]
  },
  {
   "cell_type": "code",
   "execution_count": null,
   "metadata": {},
   "outputs": [],
   "source": []
  },
  {
   "cell_type": "code",
   "execution_count": 191,
   "metadata": {},
   "outputs": [],
   "source": [
    "!mkdir -p ../../data/raw_data/ft/T5\n",
    "out_dir = '../../data/raw_data/ft/T5/'\n",
    "#ori_tar=['TITLE', 'ABSTRACT', 'INTRO', 'METHODS', 'RESULTS', 'DISCUSS', 'CONCL']\n",
    "ori_tar=['TITLE', 'ABSTRACT', 'INTRO', 'METHODS', 'RESULTS', 'DISCUSS', '#']"
   ]
  },
  {
   "cell_type": "code",
   "execution_count": 192,
   "metadata": {},
   "outputs": [
    {
     "name": "stdout",
     "output_type": "stream",
     "text": [
      "will parser doc at ../../data/raw_data/ft/ & ../../data/raw_data/abs/, doc # 500, with sections ['TITLE', 'ABSTRACT', 'INTRO', 'METHODS', 'RESULTS', 'DISCUSS', '#'], if have SeFi\n",
      "hit 500, miss 0C7295272\n",
      "result RENET2 model's input is at ../../data/raw_data/ft/T5/\n",
      "--- 3.959 seconds ---\n",
      "using GENIA Sentence Splitter\n",
      "/autofs/bal31/jhsu/home/projects/RENET2/renet2\n",
      "using geniass /autofs/bal31/jhsu/home/projects/RENET2/renet2/../tools/geniass/run_geniass.sh ../../data/raw_data/ft/T5/docs.txt ../../data/raw_data/ft/T5/sentences.txt /usr/bin/ruby\n",
      "--- 12.608 seconds ---\n",
      "python ../normalize_ann.py --in_f ../../data/raw_data/ft/T5/anns.txt --out_f ../../data/raw_data/ft/T5/anns_n.txt\n"
     ]
    },
    {
     "data": {
      "text/plain": [
       "0"
      ]
     },
     "execution_count": 192,
     "metadata": {},
     "output_type": "execute_result"
    }
   ],
   "source": [
    "tar_id_lst = list(tar_lst.PMCID.values)\n",
    "in_pmid_d = '../../data/raw_data/abs/'\n",
    "in_pmcid_d = '../../data/raw_data/ft/'\n",
    "parse_t = 'ft' # 'ft' or 'abs'\n",
    "if_has_s_f = True # if have section file\n",
    "is_SeFi = True\n",
    "\n",
    "parse_data.parse_data_lst_hd(tar_id_lst, in_pmid_d, in_pmcid_d, parse_t, out_dir, if_has_s_f, ori_tar, is_SeFi)\n",
    "\n",
    "#optional normalize the annotation\n",
    "cmd = 'python ../normalize_ann.py ' + '--in_f ' + out_dir + 'anns.txt' +  ' ' + '--out_f ' + out_dir + 'anns_n.txt'\n",
    "print(cmd)\n",
    "subprocess.check_call(cmd,   shell=True)"
   ]
  },
  {
   "cell_type": "code",
   "execution_count": null,
   "metadata": {},
   "outputs": [],
   "source": []
  },
  {
   "cell_type": "code",
   "execution_count": 195,
   "metadata": {},
   "outputs": [],
   "source": [
    "!mkdir -p ../../data/raw_data/ft/T6\n",
    "out_dir = '../../data/raw_data/ft/T6/'\n",
    "#ori_tar=['TITLE', 'ABSTRACT', 'INTRO', 'METHODS', 'RESULTS', 'DISCUSS', 'CONCL']\n",
    "ori_tar=['TITLE', 'ABSTRACT', 'INTRO', '#', 'RESULTS', 'DISCUSS', '#']"
   ]
  },
  {
   "cell_type": "code",
   "execution_count": 196,
   "metadata": {},
   "outputs": [
    {
     "name": "stdout",
     "output_type": "stream",
     "text": [
      "will parser doc at ../../data/raw_data/ft/ & ../../data/raw_data/abs/, doc # 500, with sections ['TITLE', 'ABSTRACT', 'INTRO', '#', 'RESULTS', 'DISCUSS', '#'], if have SeFi\n",
      "hit 500, miss 0C7295272\n",
      "result RENET2 model's input is at ../../data/raw_data/ft/T6/\n",
      "--- 4.087 seconds ---\n",
      "using GENIA Sentence Splitter\n",
      "/autofs/bal31/jhsu/home/projects/RENET2/renet2\n",
      "using geniass /autofs/bal31/jhsu/home/projects/RENET2/renet2/../tools/geniass/run_geniass.sh ../../data/raw_data/ft/T6/docs.txt ../../data/raw_data/ft/T6/sentences.txt /usr/bin/ruby\n",
      "--- 9.471 seconds ---\n",
      "python ../normalize_ann.py --in_f ../../data/raw_data/ft/T6/anns.txt --out_f ../../data/raw_data/ft/T6/anns_n.txt\n"
     ]
    },
    {
     "data": {
      "text/plain": [
       "0"
      ]
     },
     "execution_count": 196,
     "metadata": {},
     "output_type": "execute_result"
    }
   ],
   "source": [
    "tar_id_lst = list(tar_lst.PMCID.values)\n",
    "in_pmid_d = '../../data/raw_data/abs/'\n",
    "in_pmcid_d = '../../data/raw_data/ft/'\n",
    "parse_t = 'ft' # 'ft' or 'abs'\n",
    "if_has_s_f = True # if have section file\n",
    "is_SeFi = True\n",
    "\n",
    "parse_data.parse_data_lst_hd(tar_id_lst, in_pmid_d, in_pmcid_d, parse_t, out_dir, if_has_s_f, ori_tar, is_SeFi)\n",
    "\n",
    "#optional normalize the annotation\n",
    "cmd = 'python ../normalize_ann.py ' + '--in_f ' + out_dir + 'anns.txt' +  ' ' + '--out_f ' + out_dir + 'anns_n.txt'\n",
    "print(cmd)\n",
    "subprocess.check_call(cmd,   shell=True)"
   ]
  },
  {
   "cell_type": "code",
   "execution_count": 193,
   "metadata": {},
   "outputs": [],
   "source": [
    "# import json\n",
    "\n",
    "# _pmcid = 'PMC7102640'\n",
    "# _pmid = '32171866'\n",
    "# abs_f_path = in_pmid_d + _pmid\n",
    "# print(_pmcid, end=', ')\n",
    "# with open(in_pmcid_d + _pmcid, encoding='utf-8') as f:\n",
    "#     data = json.load(f)\n",
    "\n",
    "#     rst = parse_data.parse_doc(data, abs_f_path, ori_tar, is_SeFi)\n",
    "\n",
    "# rst"
   ]
  },
  {
   "cell_type": "code",
   "execution_count": 85,
   "metadata": {},
   "outputs": [],
   "source": [
    "!mkdir -p ../../data/raw_data/ft/T7\n",
    "out_dir = '../../data/raw_data/ft/T7/'\n",
    "ori_tar=['TITLE', 'ABSTRACT', 'INTRO', 'METHODS', 'RESULTS', 'DISCUSS', 'CONCL']\n",
    "# ori_tar=['TITLE', 'ABSTRACT', 'INTRO', 'METHODS', 'RESULTS', 'DISCUSS', 'CONCL']\n",
    "# ori_tar=['TITLE', 'ABSTRACT', '#', '#', '#', '#', '#']"
   ]
  },
  {
   "cell_type": "code",
   "execution_count": 86,
   "metadata": {},
   "outputs": [
    {
     "name": "stdout",
     "output_type": "stream",
     "text": [
      "will parser doc at ../../data/raw_data/ft/ & ../../data/raw_data/abs/, doc # 500, with sections ['TITLE', 'ABSTRACT', 'INTRO', 'METHODS', 'RESULTS', 'DISCUSS', 'CONCL'], if have SeFi\n",
      "hit 500, miss 0C7295272\n",
      "result RENET2 model's input is at ../../data/raw_data/ft/T7/\n",
      "--- 3.846 seconds ---\n",
      "using GENIA Sentence Splitter\n",
      "/autofs/bal31/jhsu/home/projects/RENET2/renet2\n",
      "using geniass /autofs/bal31/jhsu/home/projects/RENET2/renet2/../tools/geniass/run_geniass.sh ../../data/raw_data/ft/T7/docs.txt ../../data/raw_data/ft/T7/sentences.txt /usr/bin/ruby\n",
      "--- 12.668 seconds ---\n"
     ]
    }
   ],
   "source": [
    "tar_id_lst = list(tar_lst.PMCID.values)\n",
    "in_pmid_d = '../../data/raw_data/abs/'\n",
    "in_pmcid_d = '../../data/raw_data/ft/'\n",
    "parse_t = 'ft' # 'ft' or 'abs'\n",
    "if_has_s_f = True # if have section file\n",
    "is_SeFi = True\n",
    "\n",
    "info_l = parse_data.parse_data_lst_hd(tar_id_lst, in_pmid_d, in_pmcid_d, parse_t, out_dir, if_has_s_f, ori_tar, is_SeFi)\n",
    "\n",
    "# #optional normalize the annotation\n",
    "# cmd = 'python ../normalize_ann.py ' + '--in_f ' + out_dir + 'anns.txt' +  ' ' + '--out_f ' + out_dir + 'anns_n.txt'\n",
    "# print(cmd)\n",
    "# subprocess.check_call(cmd,   shell=True)"
   ]
  },
  {
   "cell_type": "code",
   "execution_count": 87,
   "metadata": {},
   "outputs": [
    {
     "data": {
      "text/plain": [
       "[['16963499', 'PMC1636349', 95, 1040, 5402, 6537, 8, 5, 40, 15],\n",
       " ['17579508', 'PMC1892038', 76, 953, 245, 1274, 1, 2, 2, 1],\n",
       " ['17362624', 'PMC1893131', 85, 1587, 996, 2668, 1, 1, 1, 1],\n",
       " ['10579720', 'PMC2169334', 98, 1959, 7009, 9066, 9, 13, 117, 31],\n",
       " ['12835313', 'PMC2172711', 59, 1371, 13259, 14689, 6, 3, 18, 10],\n",
       " ['16333304', 'PMC2361070', 84, 3, 2103, 2190, 6, 2, 12, 7],\n",
       " ['15199386', 'PMC2364757', 91, 1695, 2986, 4772, 2, 4, 8, 5],\n",
       " ['14710238', 'PMC2395333', 126, 2388, 7338, 9852, 11, 5, 55, 19],\n",
       " ['15354209', 'PMC2409952', 84, 1696, 13934, 15714, 9, 19, 171, 85],\n",
       " ['17630217', 'PMC2504724', 128, 1561, 16900, 18589, 7, 8, 56, 18],\n",
       " ['18674540', 'PMC2563799', 113, 1935, 2244, 4292, 3, 4, 12, 10],\n",
       " ['19133133', 'PMC2633288', 140, 1306, 3944, 5390, 8, 6, 48, 16],\n",
       " ['19247448', 'PMC2644760', 68, 1788, 1137, 2993, 1, 1, 1, 1],\n",
       " ['18752632', 'PMC2648385', 77, 801, 13046, 13924, 12, 16, 192, 27],\n",
       " ['19059699', 'PMC2656350', 86, 1857, 13219, 15162, 8, 15, 120, 44],\n",
       " ['19168076', 'PMC2660388', 62, 1604, 5775, 7441, 10, 4, 40, 28],\n",
       " ['19367282', 'PMC2676549', 105, 1065, 6704, 7874, 3, 7, 21, 15],\n",
       " ['19460904', 'PMC2681022', 52, 3, 14628, 14683, 10, 24, 240, 50],\n",
       " ['19830172', 'PMC2726528', 119, 1131, 647, 1897, 1, 6, 6, 3],\n",
       " ['19702309', 'PMC2746254', 95, 450, 724, 1269, 1, 2, 2, 1],\n",
       " ['19191756', 'PMC2762110', 38, 848, 22012, 22898, 9, 26, 234, 85],\n",
       " ['19818716', 'PMC2770835', 84, 831, 20339, 21254, 17, 11, 187, 76],\n",
       " ['19881035', 'PMC2772273', 87, 830, 2619, 3536, 1, 8, 8, 5],\n",
       " ['20161399', 'PMC2783619', 92, 519, 704, 1315, 1, 1, 1, 1],\n",
       " ['19813621', 'PMC2844869', 120, 1572, 4035, 5727, 3, 1, 3, 3],\n",
       " ['20418947', 'PMC2854684', 92, 1598, 2311, 4001, 2, 10, 20, 9],\n",
       " ['20677291', 'PMC2915450', 61, 1768, 4765, 6594, 3, 13, 39, 19],\n",
       " ['20806040', 'PMC2927381', 109, 2296, 8976, 11381, 4, 7, 28, 12],\n",
       " ['20859461', 'PMC2943226', 133, 719, 474, 1326, 1, 2, 2, 2],\n",
       " ['20629634', 'PMC2943750', 84, 1138, 2308, 3530, 3, 1, 3, 3],\n",
       " ['20633576', 'PMC2946192', 100, 1196, 32315, 33611, 24, 37, 888, 139],\n",
       " ['20890968', 'PMC2951286', 42, 604, 2331, 2977, 3, 3, 9, 7],\n",
       " ['21170118', 'PMC2988199', 78, 1247, 390, 1715, 1, 1, 1, 1],\n",
       " ['20080335', 'PMC2991099', 65, 681, 4346, 5092, 5, 16, 80, 41],\n",
       " ['21147502', 'PMC3032351', 69, 885, 13923, 14877, 6, 5, 30, 11],\n",
       " ['21318045', 'PMC3034907', 130, 506, 34240, 34876, 137, 36, 4932, 287],\n",
       " ['21281461', 'PMC3045984', 169, 2454, 15279, 17902, 4, 12, 48, 18],\n",
       " ['21364575', 'PMC3068504', 115, 1434, 4381, 5930, 4, 3, 12, 7],\n",
       " ['21388547', 'PMC3068974', 55, 1613, 4461, 6129, 4, 5, 20, 9],\n",
       " ['21483654', 'PMC3072650', 100, 1814, 4422, 6336, 6, 9, 54, 23],\n",
       " ['20058253', 'PMC3094853', 105, 1805, 11457, 13367, 14, 12, 168, 53],\n",
       " ['21691575', 'PMC3116726', 53, 2145, 1810, 4008, 4, 8, 32, 16],\n",
       " ['21679011', 'PMC3128725', 100, 1661, 1809, 3570, 2, 8, 16, 5],\n",
       " ['21876700', 'PMC3162981', 47, 945, 1251, 2243, 1, 10, 10, 10],\n",
       " ['19181290', 'PMC3170527', 76, 1335, 1556, 2967, 2, 13, 26, 20],\n",
       " ['21957398', 'PMC3176750', 53, 1309, 1311, 2673, 1, 5, 5, 5],\n",
       " ['21926074', 'PMC3177242', 47, 3, 521, 571, 2, 1, 2, 2],\n",
       " ['21980465', 'PMC3181263', 116, 1452, 3484, 5052, 6, 2, 12, 8],\n",
       " ['22187572', 'PMC3236474', 117, 1082, 5423, 6622, 5, 9, 45, 16],\n",
       " ['21934688', 'PMC3241549', 118, 1339, 294, 1751, 1, 2, 2, 1],\n",
       " ['21985690', 'PMC3257403', 81, 1571, 411, 2063, 1, 5, 5, 1],\n",
       " ['21774454', 'PMC3263930', 58, 2028, 3650, 5736, 2, 3, 6, 6],\n",
       " ['21465621', 'PMC3274170', 118, 949, 4064, 5131, 6, 5, 30, 11],\n",
       " ['22310813', 'PMC3284089', 54, 1564, 917, 2535, 1, 1, 1, 1],\n",
       " ['22373102', 'PMC3305574', 120, 2773, 1078, 3971, 2, 10, 20, 10],\n",
       " ['21674151', 'PMC3308357', 95, 1882, 993, 2970, 1, 2, 2, 1],\n",
       " ['22566904', 'PMC3342034', 37, 1097, 18759, 19893, 36, 41, 1476, 287],\n",
       " ['22178269', 'PMC3343261', 106, 1655, 19858, 21619, 14, 20, 280, 90],\n",
       " ['22507132', 'PMC3349471', 180, 1194, 1214, 2588, 1, 7, 7, 3],\n",
       " ['22547706', 'PMC3358410', 132, 1721, 26761, 28614, 38, 22, 836, 171],\n",
       " ['22808312', 'PMC3376043', 50, 1438, 2001, 3489, 6, 1, 6, 5],\n",
       " ['22518954', 'PMC3384732', 145, 1895, 6520, 8560, 1, 6, 6, 6],\n",
       " ['22787480', 'PMC3389842', 110, 1314, 6126, 7550, 1, 12, 12, 12],\n",
       " ['22822378', 'PMC3397445', 113, 1468, 869, 2450, 1, 2, 2, 1],\n",
       " ['22815926', 'PMC3398872', 107, 2166, 16170, 18443, 16, 22, 352, 110],\n",
       " ['22829783', 'PMC3400559', 99, 1452, 7701, 9252, 15, 7, 105, 25],\n",
       " ['22829951', 'PMC3400667', 151, 1989, 2955, 5095, 3, 9, 27, 16],\n",
       " ['21104890', 'PMC3410531', 90, 1669, 1163, 2922, 2, 1, 2, 1],\n",
       " ['22988441', 'PMC3439826', 84, 1776, 9483, 11343, 8, 13, 104, 34],\n",
       " ['23284352', 'PMC3515125', 69, 372, 370, 811, 1, 1, 1, 1],\n",
       " ['22337246', 'PMC3518421', 112, 1477, 5050, 6639, 4, 25, 100, 32],\n",
       " ['23267373', 'PMC3527039', 99, 1645, 3467, 5211, 2, 5, 10, 7],\n",
       " ['23225887', 'PMC3531812', 136, 1691, 7405, 9232, 20, 5, 100, 37],\n",
       " ['22889990', 'PMC3534768', 120, 1367, 1082, 2569, 1, 1, 1, 1],\n",
       " ['23308079', 'PMC3539762', 33, 1074, 22519, 23626, 25, 21, 525, 132],\n",
       " ['23336013', 'PMC3546817', 104, 1145, 5776, 7025, 2, 12, 24, 15],\n",
       " ['23276084', 'PMC3551791', 215, 1877, 621, 2713, 1, 2, 2, 1],\n",
       " ['20139964', 'PMC3553577', 76, 2182, 2214, 4472, 10, 6, 60, 34],\n",
       " ['23153121', 'PMC3559892', 114, 2020, 2399, 4533, 3, 2, 6, 3],\n",
       " ['23467644', 'PMC3582925', 176, 1731, 885, 2792, 1, 2, 2, 1],\n",
       " ['23468924', 'PMC3584123', 151, 1782, 10692, 12625, 8, 10, 80, 26],\n",
       " ['23352838', 'PMC3594448', 84, 1270, 10891, 12245, 6, 1, 6, 6],\n",
       " ['23506384', 'PMC3606474', 71, 982, 6911, 7964, 3, 16, 48, 14],\n",
       " ['23393191', 'PMC3616714', 183, 1395, 10611, 12189, 2, 7, 14, 9],\n",
       " ['23261248', 'PMC3646572', 88, 1487, 4670, 6245, 4, 8, 32, 10],\n",
       " ['23022873', 'PMC3657158', 123, 1708, 11489, 13320, 8, 5, 40, 19],\n",
       " ['23762114', 'PMC3666397', 53, 1454, 8240, 9747, 8, 25, 200, 75],\n",
       " ['23514404', 'PMC3672756', 96, 778, 504, 1378, 1, 2, 2, 1],\n",
       " ['23589626', 'PMC3675465', 191, 1351, 7119, 8661, 19, 3, 57, 32],\n",
       " ['23634903', 'PMC3679596', 118, 1522, 16025, 17665, 11, 9, 99, 25],\n",
       " ['22429809', 'PMC3681361', 53, 3, 2370, 2426, 1, 6, 6, 5],\n",
       " ['23840664', 'PMC3688665', 123, 1472, 758, 2353, 1, 9, 9, 5],\n",
       " ['19754739', 'PMC3701952', 113, 871, 2451, 3435, 2, 3, 6, 5],\n",
       " ['23874067', 'PMC3705149', 101, 1339, 1153, 2593, 1, 3, 3, 1],\n",
       " ['23761016', 'PMC3720988', 105, 1697, 13167, 14969, 15, 20, 300, 49],\n",
       " ['23898467', 'PMC3724046', 59, 1785, 16532, 18376, 8, 23, 184, 66],\n",
       " ['23904871', 'PMC3725436', 220, 4624, 1283, 6127, 1, 8, 8, 8],\n",
       " ['23936452', 'PMC3732227', 100, 1820, 1516, 3436, 1, 3, 3, 3],\n",
       " ['23940823', 'PMC3735374', 101, 1091, 1391, 2583, 3, 9, 27, 18],\n",
       " ['19113831', 'PMC3739471', 180, 1461, 3484, 5125, 3, 4, 12, 4],\n",
       " ['23956804', 'PMC3743172', 72, 1293, 5297, 6662, 2, 3, 6, 3],\n",
       " ['24015288', 'PMC3756039', 121, 1342, 3975, 5438, 4, 3, 12, 5],\n",
       " ['24003385', 'PMC3756175', 86, 1678, 3114, 4878, 5, 6, 30, 14],\n",
       " ['23736079', 'PMC3764921', 135, 3237, 12230, 15602, 8, 7, 56, 21],\n",
       " ['22237039', 'PMC3777470', 80, 831, 15483, 16394, 10, 3, 30, 18],\n",
       " ['24069431', 'PMC3777962', 74, 1915, 3460, 5449, 5, 8, 40, 23],\n",
       " ['24106511', 'PMC3791350', 199, 1217, 1994, 3410, 5, 1, 5, 5],\n",
       " ['24143102', 'PMC3797283', 98, 1850, 5741, 7689, 1, 18, 18, 18],\n",
       " ['24244118', 'PMC3820518', 54, 1130, 2120, 3304, 1, 1, 1, 1],\n",
       " ['21352476', 'PMC3823092', 165, 1644, 15095, 16904, 90, 18, 1620, 176],\n",
       " ['23822584', 'PMC3834762', 82, 1659, 5186, 6927, 3, 14, 42, 35],\n",
       " ['24307910', 'PMC3836302', 82, 1385, 1305, 2772, 1, 1, 1, 1],\n",
       " ['24016799', 'PMC3849129', 83, 1591, 6236, 7910, 3, 6, 18, 8],\n",
       " ['21356653', 'PMC3880557', 126, 1784, 341, 2251, 1, 3, 3, 1],\n",
       " ['24373538', 'PMC3880834', 65, 1025, 2315, 3405, 1, 15, 15, 15],\n",
       " ['24400092', 'PMC3882233', 130, 1048, 4717, 5895, 14, 5, 70, 14],\n",
       " ['24080184', 'PMC3883452', 119, 1833, 20584, 22536, 23, 31, 713, 121],\n",
       " ['23384018', 'PMC3884695', 74, 916, 7228, 8218, 19, 21, 399, 84],\n",
       " ['24373684', 'PMC3891976', 83, 986, 12154, 13223, 14, 25, 350, 98],\n",
       " ['20671726', 'PMC3908691', 130, 1027, 1761, 2918, 3, 4, 12, 5],\n",
       " ['20541258', 'PMC3917714', 118, 2059, 6108, 8285, 22, 4, 88, 45],\n",
       " ['22521993', 'PMC3932529', 81, 1952, 3157, 5190, 1, 2, 2, 1],\n",
       " ['24434143', 'PMC3951502', 127, 1143, 6309, 7579, 5, 6, 30, 14],\n",
       " ['24670219', 'PMC3984020', 159, 2503, 973, 3635, 1, 2, 2, 2],\n",
       " ['24620788', 'PMC3995631', 176, 2038, 13024, 15238, 3, 17, 51, 20],\n",
       " ['23588304', 'PMC4006820', 113, 1055, 18106, 19274, 8, 5, 40, 24],\n",
       " ['24809021', 'PMC4009441', 70, 710, 14089, 14869, 23, 11, 253, 86],\n",
       " ['24053333', 'PMC4013830', 84, 1011, 6258, 7353, 3, 6, 18, 8],\n",
       " ['24160453', 'PMC4016212', 128, 1683, 5218, 7029, 2, 13, 26, 17],\n",
       " ['24509439', 'PMC4019769', 92, 1947, 4677, 6716, 7, 8, 56, 20],\n",
       " ['24708774', 'PMC4022263', 159, 1975, 6569, 8703, 2, 7, 14, 9],\n",
       " ['22421041', 'PMC4047762', 75, 1119, 12526, 13720, 26, 16, 416, 108],\n",
       " ['24884708', 'PMC4050398', 103, 2167, 7231, 9501, 3, 18, 54, 19],\n",
       " ['24797878', 'PMC4059508', 99, 1168, 5731, 6998, 5, 6, 30, 10],\n",
       " ['24152380', 'PMC4061273', 80, 2484, 6686, 9250, 2, 10, 20, 12],\n",
       " ['24754905', 'PMC4108013', 75, 2502, 2864, 5441, 3, 5, 15, 8],\n",
       " ['24810596', 'PMC4111710', 37, 3, 2625, 2665, 6, 5, 30, 21],\n",
       " ['24117827', 'PMC4117680', 73, 977, 31266, 32316, 41, 38, 1558, 228],\n",
       " ['25143772', 'PMC4135279', 72, 1417, 1958, 3447, 1, 11, 11, 11],\n",
       " ['24650018', 'PMC4169310', 167, 1904, 23382, 25453, 22, 17, 374, 155],\n",
       " ['25193513', 'PMC4172844', 110, 1590, 611, 2311, 1, 3, 3, 1],\n",
       " ['25273894', 'PMC4195884', 211, 2107, 8609, 10927, 11, 12, 132, 29],\n",
       " ['21816639', 'PMC4209721', 121, 2350, 7886, 10357, 2, 5, 10, 6],\n",
       " ['24907897', 'PMC4228109', 108, 1903, 2037, 4048, 1, 8, 8, 3],\n",
       " ['24192011', 'PMC4228364', 113, 1878, 976, 2967, 1, 4, 4, 4],\n",
       " ['24650275', 'PMC4234291', 159, 2091, 6660, 8910, 3, 4, 12, 8],\n",
       " ['25405347', 'PMC4236044', 177, 1782, 10131, 12090, 4, 9, 36, 16],\n",
       " ['25478511', 'PMC4253774', 93, 417, 829, 1339, 2, 9, 18, 4],\n",
       " ['25043992', 'PMC4258417', 95, 1727, 8195, 10017, 3, 6, 18, 13],\n",
       " ['25491605', 'PMC4271327', 142, 2308, 15020, 17470, 9, 7, 63, 26],\n",
       " ['25551576', 'PMC4281069', 138, 1330, 16830, 18298, 14, 17, 238, 87],\n",
       " ['25168087', 'PMC4284314', 80, 1681, 3176, 4937, 5, 3, 15, 7],\n",
       " ['25616812', 'PMC4308856', 135, 1700, 1296, 3131, 1, 7, 7, 3],\n",
       " ['25657186', 'PMC4342265', 36, 3, 7695, 7734, 18, 12, 216, 103],\n",
       " ['25829796', 'PMC4357973', 147, 2104, 1357, 3608, 1, 1, 1, 1],\n",
       " ['25852568', 'PMC4362407', 115, 1453, 10083, 11651, 4, 7, 28, 10],\n",
       " ['25889124', 'PMC4382853', 175, 2208, 2739, 5122, 1, 4, 4, 4],\n",
       " ['25905096', 'PMC4387937', 119, 1956, 4946, 7021, 5, 16, 80, 21],\n",
       " ['25825024', 'PMC4389255', 86, 1071, 18767, 19924, 12, 18, 216, 39],\n",
       " ['25892824', 'PMC4396856', 134, 957, 1320, 2411, 1, 12, 12, 11],\n",
       " ['25964797', 'PMC4408861', 116, 3, 3758, 3877, 12, 12, 144, 25],\n",
       " ['25926995', 'PMC4413999', 114, 2398, 1657, 4169, 2, 3, 6, 3],\n",
       " ['25840414', 'PMC4419787', 90, 1140, 3830, 5060, 2, 3, 6, 3],\n",
       " ['26000277', 'PMC4419845', 62, 600, 2089, 2751, 1, 6, 6, 6],\n",
       " ['25946018', 'PMC4422582', 111, 1982, 18339, 20432, 8, 15, 120, 30],\n",
       " ['26170810', 'PMC4424742', 94, 3, 4534, 4631, 7, 8, 56, 13],\n",
       " ['25935745', 'PMC4424885', 122, 2169, 4296, 6587, 1, 3, 3, 3],\n",
       " ['25965909', 'PMC4428878', 108, 881, 8059, 9048, 5, 10, 50, 17],\n",
       " ['26053248', 'PMC4460035', 97, 1821, 6876, 8794, 8, 14, 112, 26],\n",
       " ['26061049', 'PMC4464655', 132, 1619, 12797, 14548, 7, 5, 35, 13],\n",
       " ['25963628', 'PMC4472181', 70, 2068, 1719, 3857, 3, 2, 6, 2],\n",
       " ['26146429', 'PMC4486312', 92, 787, 591, 1470, 1, 1, 1, 1],\n",
       " ['25692985', 'PMC4494653', 63, 1606, 53, 1722, 1, 2, 2, 1],\n",
       " ['25999344', 'PMC4499135', 76, 1271, 5979, 7326, 7, 2, 14, 11],\n",
       " ['25544578', 'PMC4506104', 122, 1755, 901, 2778, 1, 4, 4, 1],\n",
       " ['24792912', 'PMC4513358', 134, 1126, 23684, 24944, 31, 14, 434, 127],\n",
       " ['25940564', 'PMC4519374', 105, 1852, 13678, 15635, 11, 14, 154, 47],\n",
       " ['26112967', 'PMC4524487', 127, 1521, 2692, 4340, 3, 3, 9, 3],\n",
       " ['26243863', 'PMC4527087', 70, 1471, 19330, 20871, 9, 13, 117, 50],\n",
       " ['26143012', 'PMC4532636', 93, 1657, 4342, 6092, 3, 3, 9, 5],\n",
       " ['26303914', 'PMC4549102', 100, 1798, 2882, 4780, 1, 5, 5, 5],\n",
       " ['26425701', 'PMC4563127', 143, 1297, 1337, 2777, 2, 8, 16, 6],\n",
       " ['25960081', 'PMC4573242', 74, 1017, 13670, 14761, 15, 14, 210, 39],\n",
       " ['26376633', 'PMC4573945', 113, 2355, 7064, 9532, 8, 5, 40, 14],\n",
       " ['26404473', 'PMC4581479', 82, 1882, 2024, 3988, 8, 2, 16, 9],\n",
       " ['26412311', 'PMC4585989', 177, 1450, 22694, 24321, 11, 20, 220, 74],\n",
       " ['23023860', 'PMC4607273', 77, 1699, 3840, 5616, 1, 7, 7, 7],\n",
       " ['26622254', 'PMC4638067', 86, 1850, 4452, 6388, 3, 15, 45, 23],\n",
       " ['26561860', 'PMC4642953', 143, 3, 1027, 1173, 1, 1, 1, 1],\n",
       " ['21983962', 'PMC4659699', 89, 1278, 25937, 27304, 33, 18, 594, 93],\n",
       " ['26648759', 'PMC4664489', 107, 1970, 958, 3035, 1, 7, 7, 4],\n",
       " ['26634103', 'PMC4666872', 130, 1252, 1351, 2733, 2, 3, 6, 2],\n",
       " ['26639108', 'PMC4671003', 55, 839, 1419, 2313, 1, 3, 3, 2],\n",
       " ['26709357', 'PMC4689150', 58, 1623, 2055, 3736, 9, 2, 18, 9],\n",
       " ['25700381', 'PMC4719567', 83, 883, 26755, 27721, 41, 18, 738, 149],\n",
       " ['26844115', 'PMC4721345', 88, 1810, 19278, 21176, 10, 10, 100, 44],\n",
       " ['26852130', 'PMC4744627', 142, 2278, 10997, 13417, 3, 8, 24, 19],\n",
       " ['26338969', 'PMC4745737', 144, 1755, 14834, 16733, 28, 14, 392, 110],\n",
       " ['26933633', 'PMC4761360', 124, 1631, 1223, 2978, 1, 3, 3, 1],\n",
       " ['18836991', 'PMC4762050', 91, 1473, 5446, 7010, 6, 13, 78, 39],\n",
       " ['26823174', 'PMC4764023', 135, 1049, 6102, 7286, 2, 3, 6, 4],\n",
       " ['27047182', 'PMC4774761', 107, 3890, 8822, 12819, 2, 27, 54, 29],\n",
       " ['26951071', 'PMC4782372', 132, 1463, 18542, 20137, 13, 20, 260, 97],\n",
       " ['24898186', 'PMC4790103', 115, 1832, 637, 2584, 1, 4, 4, 2],\n",
       " ['27014694', 'PMC4791369', 58, 920, 1840, 2818, 1, 2, 2, 1],\n",
       " ['26986077', 'PMC4795621', 109, 2036, 784, 2929, 1, 2, 2, 1],\n",
       " ['26936326', 'PMC4805076', 137, 1737, 12296, 14170, 15, 28, 420, 101],\n",
       " ['27034972', 'PMC4808552', 146, 1267, 5922, 7335, 6, 6, 36, 16],\n",
       " ['27069490', 'PMC4812276', 97, 1462, 5527, 7086, 2, 6, 12, 7],\n",
       " ['26716506', 'PMC4826217', 107, 1614, 12863, 14584, 14, 7, 98, 35],\n",
       " ['21396159', 'PMC4830280', 109, 1596, 18048, 19753, 11, 19, 209, 46],\n",
       " ['27078154', 'PMC4831698', 155, 1674, 4973, 6802, 1, 13, 13, 13],\n",
       " ['27125496', 'PMC4850396', 103, 1283, 5373, 6759, 6, 4, 24, 7],\n",
       " ['27199705', 'PMC4850848', 79, 1146, 739, 1964, 1, 1, 1, 1],\n",
       " ['27070462', 'PMC4854515', 117, 964, 23077, 24158, 31, 14, 434, 99],\n",
       " ['27200373', 'PMC4854998', 125, 1372, 9509, 11006, 2, 6, 12, 11],\n",
       " ['26537631', 'PMC4860185', 79, 1017, 1035, 2131, 1, 2, 2, 1],\n",
       " ['27171271', 'PMC4865138', 157, 1525, 3297, 4979, 1, 5, 5, 5],\n",
       " ['23579757', 'PMC4872982', 43, 1527, 4926, 6496, 3, 12, 36, 20],\n",
       " ['27257560', 'PMC4874274', 102, 1041, 198, 1341, 1, 2, 2, 1],\n",
       " ['27247945', 'PMC4876206', 88, 1327, 7076, 8491, 3, 14, 42, 24],\n",
       " ['27306994', 'PMC4910306', 135, 1598, 3872, 5605, 2, 6, 12, 7],\n",
       " ['26410082', 'PMC4916970', 106, 1536, 28199, 29841, 36, 15, 540, 145],\n",
       " ['27281198', 'PMC4919188', 80, 1149, 8801, 10030, 13, 22, 286, 66],\n",
       " ['27390464', 'PMC4922293', 50, 968, 3795, 4813, 1, 10, 10, 10],\n",
       " ['27403037', 'PMC4923605', 73, 566, 36416, 37055, 68, 28, 1904, 342],\n",
       " ['27364353', 'PMC4928355', 91, 2009, 15134, 17234, 7, 19, 133, 39],\n",
       " ['27445774', 'PMC4928448', 141, 1421, 4197, 5759, 4, 5, 20, 6],\n",
       " ['27170755', 'PMC4944276', 138, 2918, 6511, 9567, 42, 9, 378, 84],\n",
       " ['27222925', 'PMC4948744', 72, 2107, 22179, 24358, 5, 36, 180, 56],\n",
       " ['27474010', 'PMC4966802', 152, 940, 3731, 4823, 3, 3, 9, 7],\n",
       " ['27525306', 'PMC4972091', 135, 1536, 22029, 23700, 24, 11, 264, 89],\n",
       " ['27540513', 'PMC4980477', 132, 1676, 8068, 9876, 1, 13, 13, 13],\n",
       " ['27514748', 'PMC4981949', 165, 2452, 5320, 7937, 1, 3, 3, 3],\n",
       " ['24786293', 'PMC5010231', 105, 1863, 2927, 4895, 3, 5, 15, 8],\n",
       " ['27642274', 'PMC5019573', 122, 1598, 8666, 10386, 8, 5, 40, 16],\n",
       " ['27596437', 'PMC5048366', 146, 1235, 23900, 25281, 36, 13, 468, 78],\n",
       " ['27506764', 'PMC5048369', 98, 1318, 15301, 16717, 18, 10, 180, 61],\n",
       " ['27485030', 'PMC5049933', 83, 3, 4335, 4421, 1, 3, 3, 3],\n",
       " ['27751272', 'PMC5067763', 72, 361, 593, 1026, 3, 6, 18, 6],\n",
       " ['27790004', 'PMC5074780', 175, 822, 14413, 15410, 5, 28, 140, 56],\n",
       " ['27803720', 'PMC5088358', 105, 1890, 335, 2330, 1, 5, 5, 2],\n",
       " ['27808126', 'PMC5093863', 124, 1344, 6033, 7501, 2, 4, 8, 5],\n",
       " ['27843468', 'PMC5100039', 109, 1708, 3433, 5250, 7, 9, 63, 15],\n",
       " ['27880818', 'PMC5120958', 117, 1437, 14231, 15785, 20, 17, 340, 69],\n",
       " ['27956798', 'PMC5124979', 92, 1838, 9897, 11827, 6, 10, 60, 30],\n",
       " ['26552017', 'PMC5139047', 132, 1705, 10030, 11867, 2, 17, 34, 25],\n",
       " ['26969303', 'PMC5144104', 71, 1166, 1851, 3088, 6, 7, 42, 11],\n",
       " ['27990348', 'PMC5154636', 32, 977, 647, 1656, 1, 2, 2, 2],\n",
       " ['27982047', 'PMC5159840', 108, 1475, 3500, 5083, 4, 2, 8, 6],\n",
       " ['28053667', 'PMC5209837', 132, 1707, 2112, 3951, 3, 2, 6, 3],\n",
       " ['27939900', 'PMC5228619', 124, 1150, 4750, 6024, 3, 5, 15, 5],\n",
       " ['27785854', 'PMC5263107', 70, 1426, 16244, 17740, 8, 4, 32, 16],\n",
       " ['27472707', 'PMC5265844', 71, 1978, 651, 2700, 1, 6, 6, 4],\n",
       " ['28158258', 'PMC5291492', 82, 1845, 8512, 10439, 7, 6, 42, 12],\n",
       " ['28197443', 'PMC5297551', 50, 3, 1341, 1394, 1, 11, 11, 10],\n",
       " ['27576869', 'PMC5301969', 136, 1054, 604, 1794, 1, 4, 4, 1],\n",
       " ['28348328', 'PMC5304923', 109, 928, 320, 1357, 2, 1, 2, 1],\n",
       " ['28195163', 'PMC5307959', 75, 1301, 4025, 5401, 2, 2, 4, 4],\n",
       " ['28169280', 'PMC5309697', 78, 1166, 1397, 2641, 1, 3, 3, 2],\n",
       " ['28259070', 'PMC5334493', 146, 1654, 1083, 2883, 1, 5, 5, 4],\n",
       " ['28289637', 'PMC5344828', 120, 2028, 2055, 4203, 2, 4, 8, 3],\n",
       " ['28291265', 'PMC5349250', 100, 1089, 1304, 2493, 2, 3, 6, 2],\n",
       " ['28316281', 'PMC5357813', 201, 2276, 753, 3230, 1, 3, 3, 3],\n",
       " ['26796641', 'PMC5362750', 140, 844, 47460, 48444, 15, 12, 180, 66],\n",
       " ['27381680', 'PMC5378389', 152, 1693, 5909, 7754, 7, 9, 63, 25],\n",
       " ['28465628', 'PMC5390637', 83, 776, 16671, 17530, 41, 22, 902, 131],\n",
       " ['28428661', 'PMC5397000', 147, 3, 625, 775, 1, 4, 4, 4],\n",
       " ['28150320', 'PMC5397319', 108, 1460, 14858, 16426, 1, 13, 13, 13],\n",
       " ['28480131', 'PMC5412729', 118, 1638, 2762, 4518, 1, 4, 4, 3],\n",
       " ['28529783', 'PMC5418791', 67, 702, 1487, 2256, 3, 5, 15, 12],\n",
       " ['28510891', 'PMC5432815', 94, 1383, 770, 2247, 2, 3, 6, 2],\n",
       " ['28277979', 'PMC5453194', 96, 1066, 17922, 19084, 16, 16, 256, 57],\n",
       " ['28604785', 'PMC5467825', 144, 1906, 16266, 18316, 26, 20, 520, 84],\n",
       " ['28616176', 'PMC5468129', 94, 1608, 1503, 3205, 1, 1, 1, 1],\n",
       " ['28713378', 'PMC5491612', 72, 1227, 4447, 5746, 14, 9, 126, 25],\n",
       " ['22740686', 'PMC5498435', 131, 1694, 11686, 13511, 27, 10, 270, 55],\n",
       " ['28769919', 'PMC5516121', 85, 1444, 3155, 4684, 1, 2, 2, 1],\n",
       " ['28724946', 'PMC5517606', 96, 1389, 2683, 4168, 3, 4, 12, 6],\n",
       " ['28360229', 'PMC5533012', 105, 2048, 5513, 7666, 2, 8, 16, 10],\n",
       " ['28602767', 'PMC5543414', 169, 1756, 3840, 5765, 5, 2, 10, 7],\n",
       " ['28811962', 'PMC5543882', 113, 1071, 20858, 22042, 16, 25, 400, 103],\n",
       " ['28813453', 'PMC5558946', 154, 1944, 7537, 9635, 1, 16, 16, 12],\n",
       " ['28830947', 'PMC5565969', 162, 2881, 1665, 4708, 1, 1, 1, 1],\n",
       " ['28557204', 'PMC5575481', 77, 1598, 362, 2037, 1, 4, 4, 1],\n",
       " ['28883914', 'PMC5580196', 119, 1725, 13142, 14986, 4, 5, 20, 12],\n",
       " ['28689374', 'PMC5593168', 66, 925, 20454, 21445, 19, 16, 304, 80],\n",
       " ['28932626', 'PMC5602954', 88, 598, 3048, 3734, 1, 8, 8, 7],\n",
       " ['29114605', 'PMC5605286', 146, 2011, 7196, 9353, 1, 12, 12, 8],\n",
       " ['28777375', 'PMC5635221', 133, 2073, 17873, 20079, 8, 14, 112, 49],\n",
       " ['29050215', 'PMC5642490', 93, 1591, 30490, 32174, 61, 24, 1464, 171],\n",
       " ['29104337', 'PMC5667670', 115, 1008, 1860, 2983, 2, 1, 2, 2],\n",
       " ['28667514', 'PMC5688972', 182, 1820, 2980, 4982, 1, 9, 9, 9],\n",
       " ['29160859', 'PMC5713443', 97, 1526, 14390, 16013, 6, 12, 72, 25],\n",
       " ['29207974', 'PMC5717832', 117, 2463, 26043, 28623, 22, 16, 352, 96],\n",
       " ['29213072', 'PMC5719030', 84, 1214, 1571, 2869, 4, 3, 12, 6],\n",
       " ['29270009', 'PMC5729185', 65, 3, 769, 837, 1, 3, 3, 2],\n",
       " ['29061741', 'PMC5740388', 116, 983, 3025, 4124, 2, 2, 4, 2],\n",
       " ['29220521', 'PMC5778460', 125, 1419, 1786, 3330, 2, 3, 6, 5],\n",
       " ['25430415', 'PMC5779141', 130, 1657, 2610, 4397, 3, 7, 21, 7],\n",
       " ['29155908', 'PMC5789435', 74, 785, 1554, 2413, 2, 1, 2, 2],\n",
       " ['28291107', 'PMC5820244', 18, 3, 2386, 2407, 3, 9, 27, 27],\n",
       " ['29464990', 'PMC5827768', 98, 1361, 1710, 3169, 2, 1, 2, 2],\n",
       " ['29527287', 'PMC5842949', 85, 930, 6085, 7100, 6, 9, 54, 12],\n",
       " ['29563864', 'PMC5845890', 171, 2208, 40351, 42730, 26, 16, 416, 100],\n",
       " ['29563667', 'PMC5850690', 151, 3, 2163, 2317, 1, 12, 12, 12],\n",
       " ['29568308', 'PMC5852109', 85, 1807, 14349, 16241, 17, 12, 204, 32],\n",
       " ['29581609', 'PMC5857496', 135, 1694, 3490, 5319, 1, 10, 10, 5],\n",
       " ['29393430', 'PMC5865979', 119, 1528, 8187, 9834, 13, 13, 169, 65],\n",
       " ['29662784', 'PMC5866496', 53, 3, 1201, 1257, 3, 2, 6, 6],\n",
       " ['29596489', 'PMC5875862', 90, 743, 4439, 5272, 18, 9, 162, 71],\n",
       " ['29557375', 'PMC5879897', 133, 1461, 6988, 8582, 7, 9, 63, 39],\n",
       " ['29755715', 'PMC5884161', 107, 1384, 6888, 8379, 1, 2, 2, 2],\n",
       " ['28612977', 'PMC5901748', 96, 1764, 1286, 3146, 1, 7, 7, 5],\n",
       " ['29493223', 'PMC5906192', 216, 2243, 5174, 7633, 2, 2, 4, 3],\n",
       " ['29849496', 'PMC5926513', 108, 1701, 9754, 11563, 9, 19, 171, 83],\n",
       " ['24186967', 'PMC5928520', 167, 1891, 20638, 22696, 23, 20, 460, 123],\n",
       " ['29783984', 'PMC5963141', 43, 981, 340, 1364, 1, 1, 1, 1],\n",
       " ['29805234', 'PMC5968162', 62, 809, 160, 1031, 1, 5, 5, 2],\n",
       " ['28837387', 'PMC5972793', 61, 1667, 7078, 8806, 7, 19, 133, 61],\n",
       " ['29809055', 'PMC5977431', 125, 1499, 2856, 4480, 6, 5, 30, 10],\n",
       " ['29876020', 'PMC5986636', 61, 1657, 12197, 13915, 4, 16, 64, 29],\n",
       " ['29992029', 'PMC5987387', 114, 1144, 2708, 3966, 2, 11, 22, 10],\n",
       " ['29938207', 'PMC6002489', 134, 1631, 4489, 6254, 8, 5, 40, 25],\n",
       " ['29937924', 'PMC6010685', 119, 1903, 11570, 13592, 30, 15, 450, 134],\n",
       " ['29955035', 'PMC6023935', 170, 1863, 14879, 16912, 5, 21, 105, 36],\n",
       " ['29968748', 'PMC6030182', 96, 1594, 21034, 22724, 5, 19, 95, 35],\n",
       " ['29796670', 'PMC6030891', 121, 1446, 1714, 3281, 1, 1, 1, 1],\n",
       " ['29979707', 'PMC6034806', 139, 1456, 9357, 10952, 23, 13, 299, 69],\n",
       " ['30050153', 'PMC6062536', 74, 1491, 2967, 4532, 2, 5, 10, 6],\n",
       " ['18398271', 'PMC6074528', 55, 3, 8358, 8416, 4, 15, 60, 34],\n",
       " ['30123704', 'PMC6086080', 87, 2062, 16113, 18262, 8, 14, 112, 49],\n",
       " ['30024510', 'PMC6086492', 106, 1879, 23689, 25674, 7, 30, 210, 69],\n",
       " ['30028291', 'PMC6093708', 127, 1180, 7461, 8768, 3, 4, 12, 6],\n",
       " ['30428326', 'PMC6137404', 77, 1085, 13334, 14496, 11, 11, 121, 32],\n",
       " ['30062756', 'PMC6143937', 112, 1803, 13559, 15474, 5, 13, 65, 27],\n",
       " ['30242205', 'PMC6155010', 74, 1184, 14189, 15447, 4, 12, 48, 16],\n",
       " ['30200437', 'PMC6160911', 137, 1270, 10019, 11426, 20, 6, 120, 46],\n",
       " ['30223531', 'PMC6163687', 88, 1508, 1129, 2725, 1, 2, 2, 1],\n",
       " ['30319825', 'PMC6167596', 119, 667, 1856, 2642, 1, 13, 13, 10],\n",
       " ['30017315', 'PMC6173987', 105, 886, 2729, 3720, 1, 3, 3, 2],\n",
       " ['30349541', 'PMC6186797', 75, 1062, 7046, 8183, 27, 10, 270, 56],\n",
       " ['30424177', 'PMC6187349', 56, 1052, 966, 2074, 1, 1, 1, 1],\n",
       " ['30338303', 'PMC6189789', 83, 1073, 520, 1676, 2, 1, 2, 2],\n",
       " ['30321699', 'PMC6195479', 79, 1967, 3770, 5816, 2, 4, 8, 8],\n",
       " ['30266767', 'PMC6200642', 133, 1816, 7877, 9826, 5, 9, 45, 31],\n",
       " ['30483580', 'PMC6207039', 100, 1695, 1159, 2954, 1, 3, 3, 1],\n",
       " ['30459884', 'PMC6208256', 139, 2020, 7767, 9926, 2, 9, 18, 13],\n",
       " ['29740160', 'PMC6224400', 94, 1249, 23985, 25328, 29, 37, 1073, 163],\n",
       " ['30428895', 'PMC6237025', 172, 2468, 1444, 4084, 2, 10, 20, 6],\n",
       " ['30542420', 'PMC6257246', 118, 2533, 933, 3584, 1, 8, 8, 4],\n",
       " ['30365064', 'PMC6257856', 102, 1741, 14483, 16326, 22, 30, 660, 153],\n",
       " ['30027791', 'PMC6259360', 160, 1342, 1979, 3481, 1, 17, 17, 12],\n",
       " ['30515021', 'PMC6263212', 113, 924, 1351, 2388, 1, 3, 3, 1],\n",
       " ['30282812', 'PMC6279492', 119, 1682, 28770, 30571, 38, 11, 418, 128],\n",
       " ['30549473', 'PMC6288018', 97, 1951, 919, 2967, 1, 4, 4, 4],\n",
       " ['30643658', 'PMC6311313', 126, 1269, 3348, 4743, 2, 21, 42, 25],\n",
       " ['30606164', 'PMC6318899', 143, 1863, 4707, 6713, 4, 23, 92, 27],\n",
       " ['30261172', 'PMC6333425', 151, 1637, 17705, 19493, 7, 11, 77, 18],\n",
       " ['30602709', 'PMC6337709', 91, 1013, 1259, 2363, 1, 1, 1, 1],\n",
       " ['30362061', 'PMC6338720', 89, 1688, 4274, 6051, 1, 5, 5, 4],\n",
       " ['30675527', 'PMC6340886', 98, 1034, 7876, 9008, 14, 8, 112, 30],\n",
       " ['30621047', 'PMC6357070', 179, 1455, 3743, 5377, 6, 5, 30, 13],\n",
       " ['30709862', 'PMC6367965', 135, 2000, 1739, 3874, 2, 5, 10, 4],\n",
       " ['30744561', 'PMC6371581', 88, 1343, 6374, 7805, 1, 5, 5, 5],\n",
       " ['30706071', 'PMC6374164', 99, 996, 7727, 8822, 8, 14, 112, 43],\n",
       " ['30828298', 'PMC6384260', 126, 2025, 7153, 9304, 11, 10, 110, 37],\n",
       " ['30682788', 'PMC6384923', 82, 1385, 1006, 2473, 1, 1, 1, 1],\n",
       " ['29551768', 'PMC6388396', 105, 1499, 14697, 16301, 17, 15, 255, 90],\n",
       " ['30847285', 'PMC6389800', 75, 1098, 5522, 6695, 2, 4, 8, 5],\n",
       " ['30542778', 'PMC6394653', 98, 2352, 6600, 9050, 2, 22, 44, 26],\n",
       " ['30873191', 'PMC6401624', 122, 1407, 4331, 5860, 8, 4, 32, 9],\n",
       " ['30571509', 'PMC6404439', 69, 27, 9100, 9196, 7, 23, 161, 65],\n",
       " ['30717218', 'PMC6409866', 130, 1209, 1152, 2491, 1, 1, 1, 1],\n",
       " ['30906313', 'PMC6418038', 96, 1927, 16914, 18937, 55, 6, 330, 137],\n",
       " ['30930839', 'PMC6428729', 126, 1826, 1387, 3339, 4, 8, 32, 12],\n",
       " ['30949053', 'PMC6435570', 120, 1681, 17651, 19452, 15, 24, 360, 129],\n",
       " ['30956762', 'PMC6442995', 99, 1577, 8232, 9908, 18, 10, 180, 34],\n",
       " ['31008371', 'PMC6453153', 48, 1383, 6826, 8257, 4, 17, 68, 30],\n",
       " ['30476719', 'PMC6457668', 74, 1387, 6271, 7732, 6, 4, 24, 13],\n",
       " ['30971222', 'PMC6458710', 68, 2266, 3397, 5731, 7, 10, 70, 24],\n",
       " ['30767970', 'PMC6461406', 101, 1193, 1974, 3268, 2, 3, 6, 4],\n",
       " ['30987660', 'PMC6466773', 87, 974, 12449, 13510, 9, 7, 63, 24],\n",
       " ['30884810', 'PMC6471408', 106, 1540, 8084, 9730, 11, 11, 121, 51],\n",
       " ['31000713', 'PMC6472429', 110, 918, 7087, 8115, 13, 9, 117, 30],\n",
       " ['31015328', 'PMC6479004', 153, 2428, 6913, 9494, 1, 4, 4, 4],\n",
       " ['30796730', 'PMC6486944', 71, 1766, 6386, 8223, 2, 21, 42, 24],\n",
       " ['31035950', 'PMC6489179', 153, 1632, 4818, 6603, 1, 9, 9, 9],\n",
       " ['31086197', 'PMC6514008', 140, 1368, 14427, 15935, 3, 3, 9, 5],\n",
       " ['31143309', 'PMC6522237', 71, 2235, 11668, 13974, 8, 17, 136, 49],\n",
       " ['31114454', 'PMC6528041', 204, 1732, 8544, 10480, 1, 7, 7, 7],\n",
       " ['31138275', 'PMC6540391', 121, 1701, 948, 2770, 1, 4, 4, 1],\n",
       " ['31159885', 'PMC6547518', 110, 2492, 11054, 13656, 4, 9, 36, 15],\n",
       " ['31321292', 'PMC6553621', 82, 1762, 3651, 5495, 2, 5, 10, 6],\n",
       " ['31205387', 'PMC6563625', 81, 1429, 2319, 3829, 1, 8, 8, 8],\n",
       " ['31221168', 'PMC6585145', 97, 1640, 19173, 20910, 18, 8, 144, 53],\n",
       " ['31203250', 'PMC6589043', 175, 1756, 862, 2793, 1, 3, 3, 1],\n",
       " ['31293647', 'PMC6603414', 107, 1988, 7242, 9337, 37, 10, 370, 161],\n",
       " ['31274189', 'PMC6611223', 106, 5691, 4523, 10320, 3, 9, 27, 11],\n",
       " ['31242553', 'PMC6628111', 150, 2056, 1055, 3261, 2, 1, 2, 1],\n",
       " ['31331342', 'PMC6647146', 115, 1412, 11010, 12537, 10, 16, 160, 53],\n",
       " ['31379913', 'PMC6652468', 143, 1511, 2659, 4313, 9, 3, 27, 17],\n",
       " ['31269758', 'PMC6669476', 105, 1406, 5431, 6942, 14, 11, 154, 48],\n",
       " ['31412075', 'PMC6693770', 118, 1939, 6550, 8607, 6, 18, 108, 28],\n",
       " ['31441935', 'PMC6714012', 162, 2769, 2242, 5173, 2, 11, 22, 9],\n",
       " ['31370350', 'PMC6723922', 138, 2550, 9740, 12428, 12, 10, 120, 50],\n",
       " ['31430968', 'PMC6724002', 129, 1700, 5794, 7623, 11, 9, 99, 35],\n",
       " ['30468149', 'PMC6745457', 163, 1346, 3249, 4758, 2, 7, 14, 12],\n",
       " ['31480304', 'PMC6747389', 81, 1477, 4728, 6286, 11, 7, 77, 28],\n",
       " ['31541124', 'PMC6754420', 99, 1346, 16037, 17482, 3, 12, 36, 20],\n",
       " ['31503006', 'PMC6756890', 96, 1330, 780, 2206, 3, 3, 9, 3],\n",
       " ['31572833', 'PMC6761750', 123, 1701, 2954, 4778, 2, 3, 6, 2],\n",
       " ['31513673', 'PMC6771309', 70, 1079, 399, 1548, 1, 1, 1, 1],\n",
       " ['31546546', 'PMC6786219', 26, 3, 1507, 1536, 1, 10, 10, 10],\n",
       " ['31605025', 'PMC6789011', 106, 1876, 1028, 3010, 1, 3, 3, 1],\n",
       " ['31291028', 'PMC6790594', 107, 1035, 3078, 4220, 1, 1, 1, 1],\n",
       " ['31624253', 'PMC6797711', 104, 1104, 13008, 14216, 9, 8, 72, 18],\n",
       " ['31324753', 'PMC6802735', 69, 1054, 4973, 6096, 6, 6, 36, 10],\n",
       " ['31675356', 'PMC6824563', 135, 1359, 6294, 7788, 12, 5, 60, 26],\n",
       " ['31554345', 'PMC6832419', 88, 1360, 800, 2248, 1, 16, 16, 9],\n",
       " ['31832083', 'PMC6868704', 129, 2190, 9622, 11941, 3, 21, 63, 27],\n",
       " ['31777423', 'PMC6877405', 67, 744, 2629, 3440, 4, 4, 16, 5],\n",
       " ['31747387', 'PMC6880644', 130, 2027, 11506, 13663, 45, 9, 405, 167],\n",
       " ['31850125', 'PMC6910780', 104, 1561, 613, 2278, 2, 4, 8, 5],\n",
       " ['31890124', 'PMC6921122', 82, 1811, 3480, 5373, 6, 7, 42, 14],\n",
       " ['31890722', 'PMC6929253', 158, 2145, 14369, 16672, 10, 24, 240, 75],\n",
       " ['31852336', 'PMC6959294', 123, 1223, 10626, 11972, 3, 7, 21, 10],\n",
       " ['31673964', 'PMC6968980', 43, 1110, 35963, 37116, 65, 19, 1235, 175],\n",
       " ['26316238', 'PMC6983294', 31, 590, 13716, 14337, 6, 14, 84, 32],\n",
       " ['31039423', 'PMC6986889', 82, 2146, 12034, 14262, 15, 18, 270, 68],\n",
       " ['32069313', 'PMC7028266', 113, 1731, 555, 2399, 1, 4, 4, 2],\n",
       " ['31797087', 'PMC7028830', 232, 1330, 10551, 12113, 7, 11, 77, 29],\n",
       " ['32148415', 'PMC7031755', 147, 1838, 3423, 5408, 1, 3, 3, 3],\n",
       " ['32087689', 'PMC7036182', 132, 1273, 1329, 2734, 2, 9, 18, 6],\n",
       " ['32033167', 'PMC7037927', 77, 1309, 4254, 5640, 4, 19, 76, 13],\n",
       " ['32148991', 'PMC7044485', 147, 1503, 1269, 2919, 1, 9, 9, 6],\n",
       " ['32131898', 'PMC7057491', 167, 1956, 16053, 18176, 13, 16, 208, 71],\n",
       " ['32085487', 'PMC7072971', 79, 1451, 4784, 6314, 6, 9, 54, 30],\n",
       " ['32211513', 'PMC7073456', 96, 1622, 18231, 19949, 16, 44, 704, 93],\n",
       " ['32193512', 'PMC7081315', 110, 1437, 7196, 8743, 2, 6, 12, 5],\n",
       " ['32226348', 'PMC7087062', 63, 1660, 12027, 13750, 26, 23, 598, 139],\n",
       " ['32034638', 'PMC7091449', 102, 3, 5214, 5319, 8, 8, 64, 37],\n",
       " ['32226695', 'PMC7096066', 178, 2910, 1384, 4472, 2, 9, 18, 6],\n",
       " ['32205232', 'PMC7102548', 103, 1309, 5678, 7090, 14, 8, 112, 58],\n",
       " ['32171866', 'PMC7102640', 100, 2250, 1379, 3729, 1, 7, 7, 7],\n",
       " ['32231330', 'PMC7104711', 84, 3, 3876, 3963, 4, 7, 28, 24],\n",
       " ['32097725', 'PMC7110591', 161, 1836, 6166, 8163, 1, 4, 4, 4],\n",
       " ['32234467', 'PMC7118634', 152, 935, 9321, 10408, 14, 41, 574, 137],\n",
       " ['29751212', 'PMC7126290', 70, 894, 884, 1848, 1, 4, 4, 4],\n",
       " ['16781449', 'PMC7127628', 58, 615, 14871, 15544, 12, 25, 300, 65],\n",
       " ['32279908', 'PMC7128661', 64, 456, 1272, 1792, 2, 6, 12, 11],\n",
       " ['32269762', 'PMC7135676', 94, 1042, 935, 2071, 1, 4, 4, 4],\n",
       " ['32317153', 'PMC7136878', 112, 1951, 1348, 3411, 1, 3, 3, 2],\n",
       " ['32264889', 'PMC7137215', 115, 2164, 15413, 17692, 6, 13, 78, 30],\n",
       " ['32264922', 'PMC7137402', 58, 3, 5595, 5656, 6, 11, 66, 30],\n",
       " ['32354637', 'PMC7142878', 51, 1779, 11837, 13667, 9, 36, 324, 81],\n",
       " ['32106509', 'PMC7142913', 126, 986, 945, 2057, 1, 1, 1, 1],\n",
       " ['32292206', 'PMC7151311', 48, 1227, 2854, 4129, 4, 4, 16, 5],\n",
       " ['32291137', 'PMC7151347', 121, 1023, 16157, 17301, 17, 37, 629, 228],\n",
       " ['31177305', 'PMC7154016', 126, 1637, 1913, 3676, 3, 3, 9, 5],\n",
       " ['32205092', 'PMC7156211', 94, 305, 5529, 5928, 33, 13, 429, 277],\n",
       " ['32302675', 'PMC7156246', 118, 1452, 5179, 6749, 1, 4, 4, 4],\n",
       " ['32203104', 'PMC7156431', 54, 705, 28886, 29645, 20, 48, 960, 133],\n",
       " ['32198163', 'PMC7157814', 87, 387, 853, 1327, 2, 6, 12, 10],\n",
       " ['32310621', 'PMC7158880', 163, 1975, 7677, 9815, 9, 26, 234, 31],\n",
       " ['32305384', 'PMC7160640', 111, 683, 3511, 4305, 1, 5, 5, 4],\n",
       " ['32311498', 'PMC7165103', 78, 1129, 2257, 3464, 2, 10, 20, 10],\n",
       " ['32313880', 'PMC7166201', 55, 968, 18085, 19108, 16, 29, 464, 123],\n",
       " ['32327200', 'PMC7167559', 74, 3, 1466, 1543, 3, 4, 12, 10],\n",
       " ['32325098', 'PMC7169930', 146, 2192, 381, 2719, 1, 3, 3, 3],\n",
       " ['32318325', 'PMC7171052', 135, 1630, 2860, 4625, 3, 12, 36, 32],\n",
       " ['32333991', 'PMC7174975', 109, 3, 1981, 2093, 3, 11, 33, 27],\n",
       " ['32339777', 'PMC7175896', 44, 3, 3144, 3191, 6, 11, 66, 66],\n",
       " ['32321856', 'PMC7179937', 91, 729, 1937, 2757, 3, 3, 9, 5],\n",
       " ['32362813', 'PMC7180223', 84, 1928, 25287, 27299, 40, 18, 720, 150],\n",
       " ['32332878', 'PMC7181704', 118, 1495, 6453, 8066, 8, 4, 32, 12],\n",
       " ['32361528', 'PMC7182754', 103, 1463, 3, 1569, 1, 2, 2, 2],\n",
       " ['32362344', 'PMC7183954', 84, 1668, 3, 1755, 0, 4, 0, 0],\n",
       " ['32341442', 'PMC7184165', 135, 1287, 13568, 14990, 11, 30, 330, 108],\n",
       " ['32186711', 'PMC7184445', 128, 437, 3, 568, 2, 1, 2, 2],\n",
       " ['32345230', 'PMC7187518', 144, 2395, 2520, 5059, 2, 2, 4, 2],\n",
       " ['32306854', 'PMC7189410', 82, 1231, 1701, 3014, 1, 4, 4, 2],\n",
       " ['32356047', 'PMC7192059', 80, 1600, 3, 1683, 1, 1, 1, 1],\n",
       " ['32335068', 'PMC7194656', 105, 601, 4253, 4959, 5, 10, 50, 30],\n",
       " ['32335366', 'PMC7195078', 84, 1542, 6378, 8004, 5, 16, 80, 53],\n",
       " ['32233935', 'PMC7200870', 34, 3, 3960, 3997, 3, 9, 27, 19],\n",
       " ['32367749', 'PMC7212537', 113, 981, 2150, 3244, 2, 9, 18, 13],\n",
       " ['32242950', 'PMC7228336', 151, 3, 1417, 1571, 1, 6, 6, 6],\n",
       " ['32244779', 'PMC7230814', 62, 830, 14967, 15859, 13, 19, 247, 62],\n",
       " ['32364011', 'PMC7232886', 123, 1610, 9049, 10782, 7, 18, 126, 48],\n",
       " ['32353978', 'PMC7247150', 131, 1332, 9212, 10675, 5, 6, 30, 9],\n",
       " ['32352656', 'PMC7248545', 105, 1290, 2375, 3770, 7, 6, 42, 20],\n",
       " ['32359080', 'PMC7256127', 66, 3, 4956, 5025, 3, 11, 33, 16],\n",
       " ['32367767', 'PMC7256353', 156, 1938, 3951, 6045, 2, 3, 6, 4],\n",
       " ['32293716', 'PMC7262119', 69, 1968, 3, 2040, 1, 20, 20, 20],\n",
       " ['32281668', 'PMC7262341', 82, 1837, 8651, 10570, 3, 3, 9, 9],\n",
       " ['32333644', 'PMC7264870', 54, 1301, 6215, 7570, 7, 4, 28, 13],\n",
       " ['32346988', 'PMC7267149', 136, 3, 3, 142, 1, 2, 2, 2],\n",
       " ['32354045', 'PMC7277236', 107, 1520, 10727, 12354, 11, 18, 198, 86],\n",
       " ['32316063', 'PMC7295272', 117, 1231, 6937, 8285, 2, 21, 42, 29]]"
      ]
     },
     "execution_count": 87,
     "metadata": {},
     "output_type": "execute_result"
    }
   ],
   "source": [
    "info_l"
   ]
  },
  {
   "cell_type": "code",
   "execution_count": 88,
   "metadata": {},
   "outputs": [
    {
     "data": {
      "text/html": [
       "<div>\n",
       "<style scoped>\n",
       "    .dataframe tbody tr th:only-of-type {\n",
       "        vertical-align: middle;\n",
       "    }\n",
       "\n",
       "    .dataframe tbody tr th {\n",
       "        vertical-align: top;\n",
       "    }\n",
       "\n",
       "    .dataframe thead th {\n",
       "        text-align: right;\n",
       "    }\n",
       "</style>\n",
       "<table border=\"1\" class=\"dataframe\">\n",
       "  <thead>\n",
       "    <tr style=\"text-align: right;\">\n",
       "      <th></th>\n",
       "      <th>ttl_l</th>\n",
       "      <th>abs_l</th>\n",
       "      <th>par_l</th>\n",
       "      <th>txt_l</th>\n",
       "      <th>g_#</th>\n",
       "      <th>d_#</th>\n",
       "      <th>gd_p</th>\n",
       "      <th>gd_vp</th>\n",
       "    </tr>\n",
       "  </thead>\n",
       "  <tbody>\n",
       "    <tr>\n",
       "      <th>count</th>\n",
       "      <td>500.000000</td>\n",
       "      <td>500.000000</td>\n",
       "      <td>500.000000</td>\n",
       "      <td>500.000000</td>\n",
       "      <td>500.00000</td>\n",
       "      <td>500.000000</td>\n",
       "      <td>500.000000</td>\n",
       "      <td>500.000000</td>\n",
       "    </tr>\n",
       "    <tr>\n",
       "      <th>mean</th>\n",
       "      <td>106.030000</td>\n",
       "      <td>1437.602000</td>\n",
       "      <td>7208.228000</td>\n",
       "      <td>8751.860000</td>\n",
       "      <td>7.59600</td>\n",
       "      <td>9.454000</td>\n",
       "      <td>116.812000</td>\n",
       "      <td>30.526000</td>\n",
       "    </tr>\n",
       "    <tr>\n",
       "      <th>std</th>\n",
       "      <td>35.619751</td>\n",
       "      <td>640.894918</td>\n",
       "      <td>7330.684933</td>\n",
       "      <td>7392.115957</td>\n",
       "      <td>11.81219</td>\n",
       "      <td>8.030496</td>\n",
       "      <td>311.497425</td>\n",
       "      <td>46.020616</td>\n",
       "    </tr>\n",
       "    <tr>\n",
       "      <th>min</th>\n",
       "      <td>18.000000</td>\n",
       "      <td>3.000000</td>\n",
       "      <td>3.000000</td>\n",
       "      <td>142.000000</td>\n",
       "      <td>0.00000</td>\n",
       "      <td>1.000000</td>\n",
       "      <td>0.000000</td>\n",
       "      <td>0.000000</td>\n",
       "    </tr>\n",
       "    <tr>\n",
       "      <th>25%</th>\n",
       "      <td>81.750000</td>\n",
       "      <td>1071.000000</td>\n",
       "      <td>1779.750000</td>\n",
       "      <td>3277.750000</td>\n",
       "      <td>1.00000</td>\n",
       "      <td>3.000000</td>\n",
       "      <td>6.000000</td>\n",
       "      <td>4.000000</td>\n",
       "    </tr>\n",
       "    <tr>\n",
       "      <th>50%</th>\n",
       "      <td>105.000000</td>\n",
       "      <td>1469.500000</td>\n",
       "      <td>4722.500000</td>\n",
       "      <td>6270.000000</td>\n",
       "      <td>3.00000</td>\n",
       "      <td>7.000000</td>\n",
       "      <td>21.500000</td>\n",
       "      <td>12.000000</td>\n",
       "    </tr>\n",
       "    <tr>\n",
       "      <th>75%</th>\n",
       "      <td>128.250000</td>\n",
       "      <td>1807.750000</td>\n",
       "      <td>10566.000000</td>\n",
       "      <td>12203.000000</td>\n",
       "      <td>8.25000</td>\n",
       "      <td>13.000000</td>\n",
       "      <td>101.000000</td>\n",
       "      <td>34.000000</td>\n",
       "    </tr>\n",
       "    <tr>\n",
       "      <th>max</th>\n",
       "      <td>232.000000</td>\n",
       "      <td>5691.000000</td>\n",
       "      <td>47460.000000</td>\n",
       "      <td>48444.000000</td>\n",
       "      <td>137.00000</td>\n",
       "      <td>48.000000</td>\n",
       "      <td>4932.000000</td>\n",
       "      <td>342.000000</td>\n",
       "    </tr>\n",
       "  </tbody>\n",
       "</table>\n",
       "</div>"
      ],
      "text/plain": [
       "            ttl_l        abs_l         par_l         txt_l        g_#  \\\n",
       "count  500.000000   500.000000    500.000000    500.000000  500.00000   \n",
       "mean   106.030000  1437.602000   7208.228000   8751.860000    7.59600   \n",
       "std     35.619751   640.894918   7330.684933   7392.115957   11.81219   \n",
       "min     18.000000     3.000000      3.000000    142.000000    0.00000   \n",
       "25%     81.750000  1071.000000   1779.750000   3277.750000    1.00000   \n",
       "50%    105.000000  1469.500000   4722.500000   6270.000000    3.00000   \n",
       "75%    128.250000  1807.750000  10566.000000  12203.000000    8.25000   \n",
       "max    232.000000  5691.000000  47460.000000  48444.000000  137.00000   \n",
       "\n",
       "              d_#         gd_p       gd_vp  \n",
       "count  500.000000   500.000000  500.000000  \n",
       "mean     9.454000   116.812000   30.526000  \n",
       "std      8.030496   311.497425   46.020616  \n",
       "min      1.000000     0.000000    0.000000  \n",
       "25%      3.000000     6.000000    4.000000  \n",
       "50%      7.000000    21.500000   12.000000  \n",
       "75%     13.000000   101.000000   34.000000  \n",
       "max     48.000000  4932.000000  342.000000  "
      ]
     },
     "execution_count": 88,
     "metadata": {},
     "output_type": "execute_result"
    }
   ],
   "source": [
    "info_df = pd.DataFrame(info_l, columns=['pmid', 'pmcid', 'ttl_l', 'abs_l', 'par_l', 'txt_l', 'g_#', 'd_#', 'gd_p', 'gd_vp'])\n",
    "info_df.describe()"
   ]
  },
  {
   "cell_type": "code",
   "execution_count": 89,
   "metadata": {},
   "outputs": [],
   "source": [
    "# READING Sentences and tokenizer\n",
    "import argparse\n",
    "import sys\n",
    "import os\n",
    "\n",
    "import pandas as pd\n",
    "import numpy as np\n",
    "from raw import load_documents_vis\n",
    "from raw_handler import init_parser, loading_tokenizer\n",
    "\n",
    "from IPython.display import display, clear_output, HTML\n",
    "import ipywidgets as widgets"
   ]
  },
  {
   "cell_type": "code",
   "execution_count": 90,
   "metadata": {},
   "outputs": [
    {
     "name": "stdout",
     "output_type": "stream",
     "text": [
      "loading word index from /mnt/bal31/jhsu/home/git/renet2/src/utils/word_index\n",
      "loaded word index, voc size 82948\n",
      "tokenizer size 82949\n"
     ]
    }
   ],
   "source": [
    "import sys\n",
    "sys.argv = ['']\n",
    "parser = init_parser()\n",
    "args = parser.parse_args()\n",
    "\n",
    "args.ori_tokenizer = loading_tokenizer(args)\n",
    "args.token_voc_l = len(args.ori_tokenizer)\n",
    "print('tokenizer size %d' % (args.token_voc_l))\n"
   ]
  },
  {
   "cell_type": "code",
   "execution_count": 91,
   "metadata": {},
   "outputs": [
    {
     "name": "stdout",
     "output_type": "stream",
     "text": [
      "fix input sentences# 400, tokens# 54, batch size 64\n"
     ]
    }
   ],
   "source": [
    "# RENET2 input data dir, target GDA file, etc\n",
    "args.raw_data_dir = out_dir\n",
    "args.fix_snt_n, args.fix_token_n = 400, 54\n",
    "print('fix input sentences# %d, tokens# %d, batch size %d' % (args.fix_snt_n, args.fix_token_n, args.batch_size))\n",
    "\n",
    "args.no_cache_file = True\n",
    "text_path = os.path.join(args.raw_data_dir, args.file_name_doc) \n",
    "sentence_path = os.path.join(args.raw_data_dir, args.file_name_snt)\n",
    "ner_path = os.path.join(args.raw_data_dir, args.file_name_ann)"
   ]
  },
  {
   "cell_type": "code",
   "execution_count": 92,
   "metadata": {},
   "outputs": [
    {
     "name": "stdout",
     "output_type": "stream",
     "text": [
      "loading sorce info\n",
      "read 500 doc, max token len 0 42\n",
      "\n"
     ]
    }
   ],
   "source": [
    "all_ori_seq, ner_df, session_info, ori_ner, all_sentence, all_session_map = load_documents_vis(text_path, sentence_path, ner_path, args.ori_tokenizer, args)"
   ]
  },
  {
   "cell_type": "code",
   "execution_count": 93,
   "metadata": {},
   "outputs": [],
   "source": [
    "def get_token_l(snt_l):\n",
    "    tokens_s = 0\n",
    "    snt_s = 0\n",
    "    for snt in snt_l:\n",
    "        tokens = tokenize(snt)\n",
    "        tokens_l = len(tokens)\n",
    "        tokens_s += tokens_l\n",
    "        snt_s += 1\n",
    "#         print(tokens_l, tokens)\n",
    "    return tokens_s, snt_s\n",
    "# all_sentence['16963499']"
   ]
  },
  {
   "cell_type": "code",
   "execution_count": 94,
   "metadata": {},
   "outputs": [
    {
     "data": {
      "text/plain": [
       "(1118, 40)"
      ]
     },
     "execution_count": 94,
     "metadata": {},
     "output_type": "execute_result"
    }
   ],
   "source": [
    "get_token_l(all_sentence['16963499'])"
   ]
  },
  {
   "cell_type": "code",
   "execution_count": 95,
   "metadata": {},
   "outputs": [
    {
     "name": "stdout",
     "output_type": "stream",
     "text": [
      "1501.614 55.888\n"
     ]
    }
   ],
   "source": [
    "t_s, t_t = 0, 0\n",
    "for k, v in all_sentence.items():\n",
    "    _a, _b = get_token_l(v)\n",
    "    t_s += _a\n",
    "    t_t += _b\n",
    "#     print(token_s)\n",
    "#     break\n",
    "print(t_s / 500, t_t/500)"
   ]
  },
  {
   "cell_type": "code",
   "execution_count": null,
   "metadata": {},
   "outputs": [],
   "source": []
  },
  {
   "cell_type": "code",
   "execution_count": null,
   "metadata": {},
   "outputs": [],
   "source": []
  },
  {
   "cell_type": "code",
   "execution_count": 57,
   "metadata": {},
   "outputs": [
    {
     "data": {
      "text/plain": [
       "4535.124"
      ]
     },
     "execution_count": 57,
     "metadata": {},
     "output_type": "execute_result"
    }
   ],
   "source": [
    "token_s / 500"
   ]
  },
  {
   "cell_type": "code",
   "execution_count": null,
   "metadata": {},
   "outputs": [],
   "source": []
  },
  {
   "cell_type": "code",
   "execution_count": 41,
   "metadata": {},
   "outputs": [],
   "source": [
    "from utils.tokenizer import tokenize"
   ]
  },
  {
   "cell_type": "code",
   "execution_count": 43,
   "metadata": {},
   "outputs": [
    {
     "data": {
      "text/plain": [
       "['Characterization',\n",
       " 'of',\n",
       " 'DGCR8/Pasha',\n",
       " ',',\n",
       " 'the',\n",
       " 'essential',\n",
       " 'cofactor',\n",
       " 'for',\n",
       " 'Drosha',\n",
       " 'in',\n",
       " 'primary',\n",
       " 'miRNA',\n",
       " 'processing',\n",
       " '.']"
      ]
     },
     "execution_count": 43,
     "metadata": {},
     "output_type": "execute_result"
    }
   ],
   "source": [
    "tokenize(all_sentence['16963499'][0])"
   ]
  },
  {
   "cell_type": "code",
   "execution_count": 38,
   "metadata": {},
   "outputs": [
    {
     "data": {
      "text/plain": [
       "'Characterization of DGCR8/Pasha, the essential cofactor for Drosha in primary miRNA processing.'"
      ]
     },
     "execution_count": 38,
     "metadata": {},
     "output_type": "execute_result"
    }
   ],
   "source": [
    "all_sentence['16963499'][0]"
   ]
  },
  {
   "cell_type": "code",
   "execution_count": 235,
   "metadata": {},
   "outputs": [
    {
     "data": {
      "text/plain": [
       "199.64000000000001"
      ]
     },
     "execution_count": 235,
     "metadata": {},
     "output_type": "execute_result"
    }
   ],
   "source": [
    "12.4*16.1"
   ]
  },
  {
   "cell_type": "code",
   "execution_count": null,
   "metadata": {},
   "outputs": [],
   "source": []
  },
  {
   "cell_type": "code",
   "execution_count": null,
   "metadata": {},
   "outputs": [],
   "source": [
    "PMID32171866"
   ]
  }
 ],
 "metadata": {
  "kernelspec": {
   "display_name": "Python [conda env:anaconda3-venv]",
   "language": "python",
   "name": "conda-env-anaconda3-venv-py"
  },
  "language_info": {
   "codemirror_mode": {
    "name": "ipython",
    "version": 3
   },
   "file_extension": ".py",
   "mimetype": "text/x-python",
   "name": "python",
   "nbconvert_exporter": "python",
   "pygments_lexer": "ipython3",
   "version": "3.7.6"
  }
 },
 "nbformat": 4,
 "nbformat_minor": 2
}
