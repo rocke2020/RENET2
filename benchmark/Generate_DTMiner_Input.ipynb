{
 "cells": [
  {
   "cell_type": "code",
   "execution_count": 1,
   "metadata": {},
   "outputs": [],
   "source": [
    "import numpy as np\n",
    "import pandas as pd\n",
    "import os\n",
    "import csv"
   ]
  },
  {
   "cell_type": "code",
   "execution_count": 2,
   "metadata": {},
   "outputs": [],
   "source": [
    "gdas = []\n",
    "with open(\"./BeFree/n_out/cooc.befree\") as f:\n",
    "    for line in f:\n",
    "        items = line.strip().split('\\t')\n",
    "        gdas.append([int(items[0].split('|')[0]),\"F\", items[9], items[9], int(items[7].split('|')[0]), items[10], items[11], items[13], items[16], items[17], items[19]])"
   ]
  },
  {
   "cell_type": "code",
   "execution_count": 3,
   "metadata": {},
   "outputs": [],
   "source": [
    "gdas_befree = pd.DataFrame(np.array(gdas), columns=[\"GAD_ID\",\"GAD_ASSOC\",\"GAD_GENE_SYMBOL\",\"GAD_GENE_NAME\",\"GAD_ENTREZ_ID\",\"NER_GENE_ENTITY\",\"NER_GENE_OFFSET\",\"GAD_DISEASE_NAME\",\"NER_DISEASE_ENTITY\",\"NER_DISEASE_OFFSET\",\"GAD_CONCLUSION\"])\n",
    "gdas_befree.GAD_ID = gdas_befree.GAD_ID.astype(int)\n",
    "gdas_befree.GAD_ENTREZ_ID = gdas_befree.GAD_ENTREZ_ID.astype(int)\n",
    "\n",
    "\n",
    "gdas_for_dtminer = gdas_befree"
   ]
  },
  {
   "cell_type": "code",
   "execution_count": 4,
   "metadata": {},
   "outputs": [
    {
     "data": {
      "text/html": [
       "<div>\n",
       "<style scoped>\n",
       "    .dataframe tbody tr th:only-of-type {\n",
       "        vertical-align: middle;\n",
       "    }\n",
       "\n",
       "    .dataframe tbody tr th {\n",
       "        vertical-align: top;\n",
       "    }\n",
       "\n",
       "    .dataframe thead th {\n",
       "        text-align: right;\n",
       "    }\n",
       "</style>\n",
       "<table border=\"1\" class=\"dataframe\">\n",
       "  <thead>\n",
       "    <tr style=\"text-align: right;\">\n",
       "      <th></th>\n",
       "      <th>GAD_ID</th>\n",
       "      <th>GAD_ASSOC</th>\n",
       "      <th>GAD_GENE_SYMBOL</th>\n",
       "      <th>GAD_GENE_NAME</th>\n",
       "      <th>GAD_ENTREZ_ID</th>\n",
       "      <th>NER_GENE_ENTITY</th>\n",
       "      <th>NER_GENE_OFFSET</th>\n",
       "      <th>GAD_DISEASE_NAME</th>\n",
       "      <th>NER_DISEASE_ENTITY</th>\n",
       "      <th>NER_DISEASE_OFFSET</th>\n",
       "      <th>GAD_CONCLUSION</th>\n",
       "    </tr>\n",
       "  </thead>\n",
       "  <tbody>\n",
       "    <tr>\n",
       "      <th>0</th>\n",
       "      <td>25410422</td>\n",
       "      <td>F</td>\n",
       "      <td>twist2</td>\n",
       "      <td>twist2</td>\n",
       "      <td>117581</td>\n",
       "      <td>TWIST2</td>\n",
       "      <td>74#80</td>\n",
       "      <td>C536385</td>\n",
       "      <td>Setleis syndrome</td>\n",
       "      <td>0#16</td>\n",
       "      <td>Setleis syndrome: clinical, molecular and stru...</td>\n",
       "    </tr>\n",
       "    <tr>\n",
       "      <th>1</th>\n",
       "      <td>16076618</td>\n",
       "      <td>F</td>\n",
       "      <td>at1</td>\n",
       "      <td>at1</td>\n",
       "      <td>185</td>\n",
       "      <td>AT1</td>\n",
       "      <td>68#71</td>\n",
       "      <td>D011225</td>\n",
       "      <td>preeclampsia</td>\n",
       "      <td>152#164</td>\n",
       "      <td>CONCLUSIONS: Observed overrepresentation of mu...</td>\n",
       "    </tr>\n",
       "    <tr>\n",
       "      <th>2</th>\n",
       "      <td>16126967</td>\n",
       "      <td>F</td>\n",
       "      <td>hla</td>\n",
       "      <td>hla</td>\n",
       "      <td>3123</td>\n",
       "      <td>HLA</td>\n",
       "      <td>47#50</td>\n",
       "      <td>D001172</td>\n",
       "      <td>RA</td>\n",
       "      <td>140#142</td>\n",
       "      <td>Our data suggest that in northeastern Hungary,...</td>\n",
       "    </tr>\n",
       "    <tr>\n",
       "      <th>3</th>\n",
       "      <td>16126967</td>\n",
       "      <td>F</td>\n",
       "      <td>dr4</td>\n",
       "      <td>dr4</td>\n",
       "      <td>3126</td>\n",
       "      <td>DR4</td>\n",
       "      <td>51#54</td>\n",
       "      <td>D001172</td>\n",
       "      <td>RA</td>\n",
       "      <td>140#142</td>\n",
       "      <td>Our data suggest that in northeastern Hungary,...</td>\n",
       "    </tr>\n",
       "    <tr>\n",
       "      <th>4</th>\n",
       "      <td>16126967</td>\n",
       "      <td>F</td>\n",
       "      <td>drb1</td>\n",
       "      <td>drb1</td>\n",
       "      <td>3123</td>\n",
       "      <td>DRB1</td>\n",
       "      <td>79#83</td>\n",
       "      <td>D001172</td>\n",
       "      <td>RA</td>\n",
       "      <td>140#142</td>\n",
       "      <td>Our data suggest that in northeastern Hungary,...</td>\n",
       "    </tr>\n",
       "  </tbody>\n",
       "</table>\n",
       "</div>"
      ],
      "text/plain": [
       "     GAD_ID GAD_ASSOC GAD_GENE_SYMBOL GAD_GENE_NAME  GAD_ENTREZ_ID  \\\n",
       "0  25410422         F          twist2        twist2         117581   \n",
       "1  16076618         F             at1           at1            185   \n",
       "2  16126967         F             hla           hla           3123   \n",
       "3  16126967         F             dr4           dr4           3126   \n",
       "4  16126967         F            drb1          drb1           3123   \n",
       "\n",
       "  NER_GENE_ENTITY NER_GENE_OFFSET GAD_DISEASE_NAME NER_DISEASE_ENTITY  \\\n",
       "0          TWIST2           74#80          C536385   Setleis syndrome   \n",
       "1             AT1           68#71          D011225       preeclampsia   \n",
       "2             HLA           47#50          D001172                 RA   \n",
       "3             DR4           51#54          D001172                 RA   \n",
       "4            DRB1           79#83          D001172                 RA   \n",
       "\n",
       "  NER_DISEASE_OFFSET                                     GAD_CONCLUSION  \n",
       "0               0#16  Setleis syndrome: clinical, molecular and stru...  \n",
       "1            152#164  CONCLUSIONS: Observed overrepresentation of mu...  \n",
       "2            140#142  Our data suggest that in northeastern Hungary,...  \n",
       "3            140#142  Our data suggest that in northeastern Hungary,...  \n",
       "4            140#142  Our data suggest that in northeastern Hungary,...  "
      ]
     },
     "execution_count": 4,
     "metadata": {},
     "output_type": "execute_result"
    }
   ],
   "source": [
    "gdas_for_dtminer.head()"
   ]
  },
  {
   "cell_type": "code",
   "execution_count": 5,
   "metadata": {},
   "outputs": [],
   "source": [
    "gdas_for_dtminer.to_csv(\"./DTMiner/n_out/input_DTMINER.csv\", index=False, sep=\"\\t\",  quotechar='\"', quoting=csv.QUOTE_NONNUMERIC)"
   ]
  },
  {
   "cell_type": "code",
   "execution_count": 6,
   "metadata": {},
   "outputs": [],
   "source": [
    "!cp ./BeFree/n_out/labels.txt ./DTMiner/n_out/labels.txt"
   ]
  },
  {
   "cell_type": "code",
   "execution_count": null,
   "metadata": {},
   "outputs": [],
   "source": [
    "# run BeFree"
   ]
  },
  {
   "cell_type": "code",
   "execution_count": null,
   "metadata": {},
   "outputs": [],
   "source": []
  },
  {
   "cell_type": "code",
   "execution_count": null,
   "metadata": {},
   "outputs": [],
   "source": []
  }
 ],
 "metadata": {
  "kernelspec": {
   "display_name": "Python [conda env:nbase] *",
   "language": "python",
   "name": "conda-env-nbase-py"
  },
  "language_info": {
   "codemirror_mode": {
    "name": "ipython",
    "version": 3
   },
   "file_extension": ".py",
   "mimetype": "text/x-python",
   "name": "python",
   "nbconvert_exporter": "python",
   "pygments_lexer": "ipython3",
   "version": "3.7.3"
  }
 },
 "nbformat": 4,
 "nbformat_minor": 2
}
