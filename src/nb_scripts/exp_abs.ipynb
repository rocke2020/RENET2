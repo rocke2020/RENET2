{
 "cells": [
  {
   "cell_type": "code",
   "execution_count": 1,
   "metadata": {},
   "outputs": [],
   "source": [
    "import argparse\n",
    "import sys\n",
    "import os\n",
    "import random\n",
    "import time\n",
    "import re\n",
    "import copy\n",
    "import pickle\n",
    "import pandas as pd\n",
    "import numpy as np\n",
    "\n",
    "import gc\n",
    "import torch\n",
    "from torch import nn, optim, cuda\n",
    "from torch.nn import functional as F\n",
    "from torch.utils.data import Dataset, DataLoader, RandomSampler, SequentialSampler, \\\n",
    "                             TensorDataset, WeightedRandomSampler\n",
    "\n",
    "from sklearn.model_selection import train_test_split\n",
    "from sklearn.metrics import f1_score, precision_recall_fscore_support, roc_auc_score\n",
    "from sklearn.model_selection import KFold"
   ]
  },
  {
   "cell_type": "code",
   "execution_count": 2,
   "metadata": {},
   "outputs": [
    {
     "name": "stderr",
     "output_type": "stream",
     "text": [
      "/autofs/bal31/jhsu/home/git/tmp/RENET2_b1/src/renet2/raw_handler.py:18: TqdmExperimentalWarning: Using `tqdm.autonotebook.tqdm` in notebook mode. Use `tqdm.tqdm` instead to force console mode (e.g. in jupyter console)\n",
      "  from tqdm.autonotebook import tqdm\n"
     ]
    }
   ],
   "source": [
    "# from tqdm import tqdm|\n",
    "\n",
    "from renet2.raw import load_documents\n",
    "from renet2.raw_handler import *\n",
    "from renet2.model import *"
   ]
  },
  {
   "cell_type": "code",
   "execution_count": 6,
   "metadata": {},
   "outputs": [],
   "source": [
    "from renet2.train_renet2_ft_cv import *"
   ]
  },
  {
   "cell_type": "code",
   "execution_count": 7,
   "metadata": {},
   "outputs": [
    {
     "name": "stdout",
     "output_type": "stream",
     "text": [
      "The autoreload extension is already loaded. To reload it, use:\n",
      "  %reload_ext autoreload\n"
     ]
    }
   ],
   "source": [
    "%load_ext autoreload\n",
    "%autoreload 2"
   ]
  },
  {
   "cell_type": "code",
   "execution_count": 8,
   "metadata": {},
   "outputs": [
    {
     "name": "stdout",
     "output_type": "stream",
     "text": [
      "using device cpu\n",
      "loading word index from /autofs/bal31/jhsu/home/git/tmp/RENET2_b1/src/renet2/utils/word_index\n",
      "loaded word index, voc size 82948\n",
      "tokenizer size 82949\n",
      "fix input sentences# 32, tokens# 54, batch size 32\n"
     ]
    }
   ],
   "source": [
    "import sys\n",
    "sys.argv = ['']\n",
    "\n",
    "if __name__ == \"__main__\":\n",
    "    # set up\n",
    "    parser = init_self_parser()\n",
    "    args = parser.parse_args()\n",
    "    \n",
    "    sys.path.insert(0, 'renet2')\n",
    "    get_index_path(args)\n",
    "    \n",
    "    \n",
    "    use_cuda = torch.cuda.is_available() and not args.no_cuda\n",
    "    device = torch.device('cuda' if use_cuda else 'cpu')\n",
    "#     device = torch.device('cuda:1')\n",
    "\n",
    "    torch.manual_seed(args.seed)\n",
    "\n",
    "    if use_cuda:\n",
    "        torch.cuda.manual_seed(args.seed)\n",
    "    set_seed(args)\n",
    "    args.device = device\n",
    "    print('using device', device)\n",
    "\n",
    "    args.ori_tokenizer = loading_tokenizer(args)\n",
    "    args.token_voc_l = len(args.ori_tokenizer)\n",
    "    print('tokenizer size %d' % (args.token_voc_l))\n",
    "    \n",
    "    args.batch_size = 32\n",
    "    args.fix_snt_n, args.fix_token_n = 32, 54   \n",
    "    \n",
    "    print('fix input sentences# %d, tokens# %d, batch size %d' % (args.fix_snt_n, args.fix_token_n, args.batch_size))"
   ]
  },
  {
   "cell_type": "code",
   "execution_count": 12,
   "metadata": {},
   "outputs": [],
   "source": [
    "args.overwrite_cache = False\n",
    "args.file_name_snt = \"sentences.txt\"\n",
    "args.file_name_ann = \"anns.txt\""
   ]
  },
  {
   "cell_type": "code",
   "execution_count": 13,
   "metadata": {},
   "outputs": [],
   "source": [
    "# important specific the data dir\n",
    "# \"../../_data/data/abs_data/1st_ann/\"\n",
    "args.raw_data_dir = \"../../_data/data/abs_data/1st_ann/\""
   ]
  },
  {
   "cell_type": "code",
   "execution_count": 14,
   "metadata": {},
   "outputs": [
    {
     "name": "stdout",
     "output_type": "stream",
     "text": [
      "no cached file ../../_data/data/abs_data/1st_ann/cached_all_doc_0_32_54\n",
      "creating features from dataset file at  ../../_data/data/abs_data/1st_ann/\n",
      "reading files docs.txt,sentences.txt,anns.txt,labels.txt\n",
      "load data in path ../../_data/data/abs_data/1st_ann/docs.txt\n",
      "*** Example ***                      \n",
      "unique_id: 10234502\n",
      "pairs 14 doc snt num 19\n",
      "token string: [12] novel (['<5728>'], ['PTEN']) mutations in patients with (['<D006223>'], ['Cowden', 'disease']) absence of clear genotype-phenotype correlations\n",
      "token ids   : [12] 170 1344 28 4 10 5 2692 689 2 1496 1273 1251\n",
      "fix feature : [12] 0 5 0 0 0 0 4 0 0 0 0 0\n",
      "token string: [11] (['<D006223>'], ['Cowden', 'disease']) cd is characterised by (['<D006223>'], ['multiple', 'hamartomas']) in a variety of tissues\n",
      "token ids   : [11] 2692 8260 16 2779 21 2692 4 6 1646 2 750\n",
      "fix feature : [11] 4 0 0 0 0 4 0 0 0 0 0\n",
      "*** Example ***                      \n",
      "unique_id: 10506726\n",
      "pairs 2 doc snt num 13\n",
      "token string: [14] (['<2056>'], ['Erythropoietin']) reduces (['<D000740>'], ['anemia']) and transfusions a randomized trial with or without (['<2056>'], ['erythropoietin']) during chemotherapy\n",
      "token ids   : [14] 1847 2295 1822 3 9558 6 2227 1128 5 15 203 1847 300 658\n",
      "fix feature : [14] 5 0 4 0 0 0 0 0 0 0 0 5 0 0\n",
      "token string: [14] background (['<D000740>'], ['Anemia']) has been reported to develop during preoperative chemotherapy with paclitaxel and carboplatin\n",
      "token ids   : [14] 132 1822 87 55 171 7 849 300 7604 658 5 3567 3 6223\n",
      "fix feature : [14] 0 4 0 0 0 0 0 0 0 0 0 0 0 0\n",
      "read 500 doc, max token len 0 40\n",
      "\n",
      "reading label at ../../_data/data/abs_data/1st_ann/labels.txt\n",
      "loaded document #  2813 2813 2813\n",
      "padding document with fix length 32 54\n",
      "total doc # 2813, reach end # 0 (0.00%)\n",
      "total snt # 90016, reach end # 312 (0.35%)\n",
      "total token # 4860864, not empty # 659825 valid rate: 13.57%\n",
      "saving features into cached file  ../../_data/data/abs_data/1st_ann/cached_all_doc_0_32_54\n",
      "loading ended\n"
     ]
    }
   ],
   "source": [
    "# args.raw_data_dir = \"../data/abs_data/1st_ann/\"\n",
    "args.label_f_name = \"labels.txt\"\n",
    "    \n",
    "features_ann_1 = load_and_cache_data(args)\n",
    "\n",
    "dataset_ann_1, _, _ = convert_features_to_dataset_single(features_ann_1)\n",
    "dataloader_ann_1 = DataLoader(dataset_ann_1, batch_size=args.batch_size)"
   ]
  },
  {
   "cell_type": "code",
   "execution_count": 15,
   "metadata": {},
   "outputs": [
    {
     "name": "stdout",
     "output_type": "stream",
     "text": [
      "no cached file ../../_data/data/abs_data/2nd_ann/cached_all_doc_0_32_54\n",
      "creating features from dataset file at  ../../_data/data/abs_data/2nd_ann/\n",
      "reading files docs.txt,sentences.txt,anns.txt,labels.txt\n",
      "load data in path ../../_data/data/abs_data/2nd_ann/docs.txt\n",
      "*** Example ***                      \n",
      "unique_id: 10487688\n",
      "pairs 12 doc snt num 10\n",
      "token string: [20] differences in allelic distribution of two polymorphisms in the (['<7428>'], ['VHL']) -associated gene (['<8453>'], ['CUL2']) in (['<D010673>'], ['pheochromocytoma']) patients without somatic (['<8453>'], ['CUL2']) mutations\n",
      "token ids   : [20] 186 4 333 258 2 58 23 4 1 9798 7309 12 10207 4 4783 10 203 1035 10207 28\n",
      "fix feature : [20] 0 0 0 0 0 0 0 0 0 5 0 0 2 0 4 0 0 0 2 0\n",
      "token string: [32] although the two major familial forms of (['<D010673>'], ['pheochromocytomas']) (['<D018813>'], ['multiple', 'endocrine', 'neoplasia', 'type', '2']) and (['<D006623>'], ['von-Hippel-Lindau', 'disease']) (['<7428>'], ['VHL']) have been associated with mutations of the (['<5979>'], ['RET']) and (['<7428>'], ['VHL']) genes respectively the molecular pathogenesis of (['<D010673>'], ['sporadic', 'pheochromocytomas']) is largely unknown\n",
      "token ids   : [32] 264 1 58 270 603 805 2 4783 11280 3 5771 9798 48 55 20 5 28 2 1 1778 3 9798 34 109 1 299 290 2 4783 16 1864 642\n",
      "fix feature : [32] 0 0 0 0 0 0 0 4 1 0 1 5 0 0 0 0 0 0 0 2 0 5 0 0 0 0 0 0 4 0 0 0\n",
      "*** Example ***                      \n",
      "unique_id: 10545596\n",
      "pairs 2 doc snt num 11\n",
      "token string: [18] expression analysis of four (['<2022>'], ['endoglin']) missense mutations suggests that (['<D058495>'], ['haploinsufficiency']) is the predominant mechanism for (['<D013683>'], ['hereditary', 'hemorrhagic', 'telangiectasia']) type 1\n",
      "token ids   : [18] 72 49 2 228 4596 315 28 413 14 4526 16 1 2634 644 9 5317 246 89\n",
      "fix feature : [18] 0 0 0 0 5 0 0 0 0 4 0 0 0 0 0 1 0 0\n",
      "token string: [27] (['<2022>'], ['ENDOGLIN']) codes for a homodimeric membrane glycoprotein that interacts with receptors for members of the tgf-beta superfamily and is the gene mutated in the (['<D013683>'], ['autosomal', 'dominant', 'vascular', 'disorder', 'hereditary', 'hemorrhagic', 'telangiectasia', 'type']) 1 hht1\n",
      "token ids   : [27] 4596 4276 9 6 26687 1367 3561 14 3588 5 537 9 771 2 1 6763 3603 3 16 1 12 735 4 1 5317 89 13\n",
      "fix feature : [27] 5 0 0 0 0 0 0 0 0 0 0 0 0 0 0 0 0 0 0 0 0 0 0 0 1 0 0\n",
      "read 500 doc, max token len 0 35\n",
      "\n",
      "reading label at ../../_data/data/abs_data/2nd_ann/labels.txt\n",
      "loaded document #  2734 2734 2734\n",
      "padding document with fix length 32 54\n",
      "total doc # 2734, reach end # 0 (0.00%)\n",
      "total snt # 87488, reach end # 334 (0.38%)\n",
      "total token # 4724352, not empty # 641701 valid rate: 13.58%\n",
      "saving features into cached file  ../../_data/data/abs_data/2nd_ann/cached_all_doc_0_32_54\n",
      "loading ended\n"
     ]
    }
   ],
   "source": [
    "args.raw_data_dir = \"../../_data/data/abs_data/2nd_ann/\"\n",
    "# args.raw_data_dir = \"../data/abs_data/2nd_ann/\"\n",
    "\n",
    "args.label_f_name = \"labels.txt\"\n",
    "    \n",
    "features_ss_aug = load_and_cache_data(args)\n",
    "\n",
    "dataset_ss_aug, _, _ = convert_features_to_dataset_single(features_ss_aug)\n",
    "dataloader_ss_aug = DataLoader(dataset_ss_aug, batch_size=args.batch_size)"
   ]
  },
  {
   "cell_type": "code",
   "execution_count": 14,
   "metadata": {},
   "outputs": [],
   "source": [
    "features_merge = np.concatenate((features_ann_1[0], features_ss_aug[0]), axis=0), \\\n",
    "                pd.concat([features_ann_1[1], features_ss_aug[1]])                "
   ]
  },
  {
   "cell_type": "code",
   "execution_count": 15,
   "metadata": {},
   "outputs": [
    {
     "name": "stdout",
     "output_type": "stream",
     "text": [
      "creading dataset, positive GDA 1858, all GDA 5547, positive rate 33.50%\n"
     ]
    }
   ],
   "source": [
    "dataset_merge, _, _ = convert_features_to_dataset_single(features_merge)\n",
    "dataloader_merge = DataLoader(dataset_merge, batch_size=args.batch_size)"
   ]
  },
  {
   "cell_type": "code",
   "execution_count": 40,
   "metadata": {},
   "outputs": [
    {
     "data": {
      "application/vnd.jupyter.widget-view+json": {
       "model_id": "512a675d7b1a406cb69265c702f80065",
       "version_major": 2,
       "version_minor": 0
      },
      "text/plain": [
       "HBox(children=(FloatProgress(value=0.0, description='evaluation', max=88.0, style=ProgressStyle(description_wi…"
      ]
     },
     "metadata": {},
     "output_type": "display_data"
    },
    {
     "name": "stdout",
     "output_type": "stream",
     "text": [
      "\n",
      "(0.004669049611630317, 0.7086513994910941, 0.6402298850574712, 0.6727053140096618, 0.8448485870291822)\n"
     ]
    }
   ],
   "source": [
    "args.modle_dir = '../models/abs_models'\n",
    "model_name_prefix = 'DisGeNet_abs'\n",
    "checkpoint_f = os.path.join(args.modle_dir, model_name_prefix + \".ckp\")\n",
    "config_save_f = os.path.join(args.modle_dir,  model_name_prefix + \".cf\")\n",
    "\n",
    "config = torch.load(config_save_f)\n",
    "model, _, _ = load_checkpoint(config, checkpoint_f)\n",
    "\n",
    "config.device =  args.device\n",
    "\n",
    "args.is_iterare_info = False\n",
    "args.threshold = config.threshold \n",
    "args.l2_weight_decay = config.l2_weight_decay\n",
    "model.update_model_config(config)\n",
    "\n",
    "model.to(device)\n",
    "\n",
    "pred_l, tru_l, S, pred_o = eval(model, dataloader_ann_1, args, 'test')\n",
    "_, _, _, f1, auc = S\n",
    "print(S)"
   ]
  },
  {
   "cell_type": "code",
   "execution_count": null,
   "metadata": {},
   "outputs": [],
   "source": []
  },
  {
   "cell_type": "code",
   "execution_count": 39,
   "metadata": {},
   "outputs": [
    {
     "name": "stdout",
     "output_type": "stream",
     "text": [
      "config ----------------\n",
      "{'EB_dp': 0.3,\n",
      " 'FC_dp': 0.1,\n",
      " 'adam_epsilon': 1e-08,\n",
      " 'batch_size': 32,\n",
      " 'cnn_out_c': 100,\n",
      " 'device': device(type='cuda'),\n",
      " 'epochs': 18,\n",
      " 'l2_weight_decay': 0.0001,\n",
      " 'learning_rate': 0.001,\n",
      " 'lr_cooldown': 2,\n",
      " 'lr_reduce_factor': 0.5,\n",
      " 'max_grad_norm': 5.0,\n",
      " 'max_token_n': 54,\n",
      " 'not_x_feature': False,\n",
      " 'num_embedding': 64,\n",
      " 'num_words': 82949,\n",
      " 'patience_epoch': 3,\n",
      " 'rnn_layers': 2,\n",
      " 'rnn_num_directions': 2,\n",
      " 'rnn_out_f_n': 68,\n",
      " 'threshold': 0.5,\n",
      " 'use_new_loss': False,\n",
      " 'warmup_epoch': 0,\n",
      " 'weight_decay': 0.0001,\n",
      " 'window_sizes': [2, 3, 4, 5]}\n",
      "       ----------------\n",
      "cv, step 1\n",
      "4984 563\n",
      "init model\n",
      "training begin\n",
      "e_1 * test rst: [0.00431, 0.7246, 0.5882, 0.6494, 0.8418]\n",
      "e_2 * test rst: [0.00424, 0.8088, 0.6471, 0.7190, 0.8548]\n",
      "e_3 * test rst: [0.00451, 0.8387, 0.6118, 0.7075, 0.8594]\n",
      "Epoch     2: reducing learning rate of group 0 to 5.0000e-04.\n",
      "Epoch     2: reducing learning rate of group 1 to 5.0000e-04.\n",
      "e_4 * test rst: [0.00439, 0.6649, 0.7353, 0.6983, 0.8652]\n",
      "e_5 * test rst: [0.00461, 0.8468, 0.6176, 0.7143, 0.8604]\n",
      "e_6 * test rst: [0.00489, 0.6382, 0.7471, 0.6883, 0.8656]\n",
      "e_7 * test rst: [0.00478, 0.7296, 0.6824, 0.7052, 0.8631]\n",
      "Epoch     6: reducing learning rate of group 0 to 2.5000e-04.\n",
      "Epoch     6: reducing learning rate of group 1 to 2.5000e-04.\n",
      "e_8 * test rst: [0.00476, 0.7262, 0.7176, 0.7219, 0.8613]\n",
      "e_9 * test rst: [0.00493, 0.7857, 0.6471, 0.7097, 0.8611]\n",
      "e_10 * test rst: [0.00475, 0.7135, 0.7176, 0.7155, 0.8648]\n",
      "e_11 * test rst: [0.00502, 0.6632, 0.7412, 0.7000, 0.8660]\n",
      "Epoch    10: reducing learning rate of group 0 to 1.2500e-04.\n",
      "Epoch    10: reducing learning rate of group 1 to 1.2500e-04.\n",
      "e_12 * test rst: [0.00516, 0.6632, 0.7412, 0.7000, 0.8645]\n",
      "e_13 * test rst: [0.00501, 0.7052, 0.7176, 0.7114, 0.8638]\n",
      "e_14 * test rst: [0.00528, 0.6649, 0.7471, 0.7036, 0.8638]\n",
      "e_15 * test rst: [0.00499, 0.7052, 0.7176, 0.7114, 0.8635]\n",
      "Epoch    14: reducing learning rate of group 0 to 6.2500e-05.\n",
      "Epoch    14: reducing learning rate of group 1 to 6.2500e-05.\n",
      "e_16 * test rst: [0.00506, 0.6954, 0.7118, 0.7035, 0.8634]\n",
      "e_17 * test rst: [0.00522, 0.6614, 0.7353, 0.6964, 0.8646]\n",
      "e_18 * test rst: [0.00516, 0.6796, 0.7235, 0.7009, 0.8645]\n",
      "training end, used 303.05 s\n",
      "(0.0051615752054785325, 0.6795580110497238, 0.7235294117647059, 0.7008547008547009, 0.8644514294267325)\n",
      "total label sum 197.5\n",
      "cv, step 2\n",
      "4984 563\n",
      "init model\n",
      "training begin\n",
      "e_1 * test rst: [0.00504, 0.8018, 0.5235, 0.6335, 0.8668]\n",
      "e_2 * test rst: [0.00466, 0.8300, 0.4882, 0.6148, 0.8780]\n",
      "e_3 * test rst: [0.00457, 0.6882, 0.6882, 0.6882, 0.8771]\n",
      "Epoch     2: reducing learning rate of group 0 to 5.0000e-04.\n",
      "Epoch     2: reducing learning rate of group 1 to 5.0000e-04.\n",
      "e_4 * test rst: [0.00435, 0.6964, 0.6882, 0.6923, 0.8783]\n",
      "e_5 * test rst: [0.00467, 0.7450, 0.6529, 0.6959, 0.8831]\n",
      "e_6 * test rst: [0.00464, 0.6923, 0.6882, 0.6903, 0.8836]\n",
      "e_7 * test rst: [0.00475, 0.7290, 0.6647, 0.6954, 0.8878]\n",
      "Epoch     6: reducing learning rate of group 0 to 2.5000e-04.\n",
      "Epoch     6: reducing learning rate of group 1 to 2.5000e-04.\n",
      "e_8 * test rst: [0.00480, 0.7233, 0.6765, 0.6991, 0.8884]\n",
      "e_9 * test rst: [0.00481, 0.6879, 0.7000, 0.6939, 0.8888]\n",
      "e_10 * test rst: [0.00488, 0.7205, 0.6824, 0.7009, 0.8904]\n",
      "e_11 * test rst: [0.00474, 0.6932, 0.7176, 0.7052, 0.8925]\n",
      "Epoch    10: reducing learning rate of group 0 to 1.2500e-04.\n",
      "Epoch    10: reducing learning rate of group 1 to 1.2500e-04.\n",
      "e_12 * test rst: [0.00470, 0.7186, 0.7059, 0.7122, 0.8925]\n",
      "e_13 * test rst: [0.00476, 0.7069, 0.7235, 0.7151, 0.8943]\n",
      "e_14 * test rst: [0.00471, 0.7580, 0.7000, 0.7278, 0.8947]\n",
      "e_15 * test rst: [0.00467, 0.7628, 0.7000, 0.7301, 0.8944]\n",
      "Epoch    14: reducing learning rate of group 0 to 6.2500e-05.\n",
      "Epoch    14: reducing learning rate of group 1 to 6.2500e-05.\n",
      "e_16 * test rst: [0.00471, 0.7516, 0.6941, 0.7217, 0.8942]\n",
      "e_17 * test rst: [0.00467, 0.7289, 0.7118, 0.7202, 0.8955]\n",
      "e_18 * test rst: [0.00476, 0.7186, 0.7059, 0.7122, 0.8947]\n",
      "training end, used 304.68 s\n",
      "(0.004759230689008325, 0.718562874251497, 0.7058823529411765, 0.712166172106825, 0.8947013920071847)\n",
      "total label sum 186.5\n",
      "cv, step 3\n",
      "4984 563\n",
      "init model\n",
      "training begin\n",
      "e_1 * test rst: [0.00562, 0.7760, 0.4949, 0.6044, 0.8318]\n",
      "e_2 * test rst: [0.00495, 0.6578, 0.7551, 0.7031, 0.8592]\n",
      "e_3 * test rst: [0.00472, 0.7472, 0.6786, 0.7112, 0.8613]\n",
      "Epoch     2: reducing learning rate of group 0 to 5.0000e-04.\n",
      "Epoch     2: reducing learning rate of group 1 to 5.0000e-04.\n",
      "e_4 * test rst: [0.00472, 0.6881, 0.7653, 0.7246, 0.8624]\n",
      "e_5 * test rst: [0.00464, 0.7500, 0.6888, 0.7181, 0.8654]\n",
      "e_6 * test rst: [0.00491, 0.7627, 0.6888, 0.7239, 0.8678]\n",
      "e_7 * test rst: [0.00484, 0.6808, 0.7398, 0.7090, 0.8636]\n",
      "Epoch     6: reducing learning rate of group 0 to 2.5000e-04.\n",
      "Epoch     6: reducing learning rate of group 1 to 2.5000e-04.\n",
      "e_8 * test rst: [0.00486, 0.6942, 0.7296, 0.7114, 0.8663]\n",
      "e_9 * test rst: [0.00514, 0.7120, 0.6939, 0.7028, 0.8654]\n",
      "e_10 * test rst: [0.00534, 0.6842, 0.7296, 0.7062, 0.8640]\n",
      "e_11 * test rst: [0.00513, 0.7312, 0.6939, 0.7120, 0.8694]\n",
      "Epoch    10: reducing learning rate of group 0 to 1.2500e-04.\n",
      "Epoch    10: reducing learning rate of group 1 to 1.2500e-04.\n",
      "e_12 * test rst: [0.00523, 0.6948, 0.7551, 0.7237, 0.8670]\n",
      "e_13 * test rst: [0.00516, 0.7316, 0.7092, 0.7202, 0.8688]\n",
      "e_14 * test rst: [0.00519, 0.7340, 0.7041, 0.7188, 0.8689]\n",
      "e_15 * test rst: [0.00512, 0.7344, 0.7194, 0.7268, 0.8673]\n",
      "Epoch    14: reducing learning rate of group 0 to 6.2500e-05.\n",
      "Epoch    14: reducing learning rate of group 1 to 6.2500e-05.\n",
      "e_16 * test rst: [0.00511, 0.7330, 0.7143, 0.7235, 0.8678]\n",
      "e_17 * test rst: [0.00513, 0.7214, 0.7398, 0.7305, 0.8683]\n",
      "e_18 * test rst: [0.00511, 0.7245, 0.7245, 0.7245, 0.8684]\n",
      "training end, used 309.44 s\n",
      "(0.005109578993032499, 0.7244897959183674, 0.7244897959183674, 0.7244897959183674, 0.8683617861313463)\n",
      "total label sum 219.0\n",
      "cv, step 4\n",
      "4985 562\n",
      "init model\n",
      "training begin\n",
      "e_1 * test rst: [0.00508, 0.6855, 0.5030, 0.5802, 0.7954]\n",
      "e_2 * test rst: [0.00500, 0.6992, 0.5089, 0.5890, 0.8079]\n",
      "e_3 * test rst: [0.00610, 0.8462, 0.3905, 0.5344, 0.8075]\n",
      "Epoch     2: reducing learning rate of group 0 to 5.0000e-04.\n",
      "Epoch     2: reducing learning rate of group 1 to 5.0000e-04.\n",
      "e_4 * test rst: [0.00543, 0.7478, 0.5089, 0.6056, 0.8252]\n",
      "e_5 * test rst: [0.00535, 0.6644, 0.5740, 0.6159, 0.8152]\n",
      "e_6 * test rst: [0.00576, 0.7063, 0.5266, 0.6034, 0.8213]\n",
      "e_7 * test rst: [0.00591, 0.8000, 0.4734, 0.5948, 0.8216]\n",
      "Epoch     6: reducing learning rate of group 0 to 2.5000e-04.\n",
      "Epoch     6: reducing learning rate of group 1 to 2.5000e-04.\n",
      "e_8 * test rst: [0.00544, 0.6790, 0.6509, 0.6647, 0.8329]\n",
      "e_9 * test rst: [0.00560, 0.6986, 0.6036, 0.6476, 0.8320]\n",
      "e_10 * test rst: [0.00537, 0.7447, 0.6213, 0.6774, 0.8394]\n",
      "e_11 * test rst: [0.00576, 0.7500, 0.5503, 0.6348, 0.8325]\n",
      "Epoch    10: reducing learning rate of group 0 to 1.2500e-04.\n",
      "Epoch    10: reducing learning rate of group 1 to 1.2500e-04.\n",
      "e_12 * test rst: [0.00565, 0.7364, 0.5621, 0.6376, 0.8337]\n",
      "e_13 * test rst: [0.00582, 0.7603, 0.5444, 0.6345, 0.8330]\n",
      "e_14 * test rst: [0.00560, 0.7313, 0.5799, 0.6469, 0.8323]\n",
      "e_15 * test rst: [0.00561, 0.7143, 0.6213, 0.6646, 0.8326]\n",
      "Epoch    14: reducing learning rate of group 0 to 6.2500e-05.\n",
      "Epoch    14: reducing learning rate of group 1 to 6.2500e-05.\n",
      "e_16 * test rst: [0.00584, 0.7027, 0.6154, 0.6562, 0.8312]\n",
      "e_17 * test rst: [0.00570, 0.7266, 0.5976, 0.6558, 0.8336]\n",
      "e_18 * test rst: [0.00576, 0.7239, 0.5740, 0.6403, 0.8347]\n",
      "training end, used 311.99 s\n",
      "(0.00575801624097858, 0.7238805970149254, 0.5739644970414202, 0.6402640264026402, 0.8346507671228751)\n",
      "total label sum 188.0\n",
      "cv, step 5\n",
      "4985 562\n",
      "init model\n",
      "training begin\n",
      "e_1 * test rst: [0.00432, 0.7982, 0.5515, 0.6523, 0.8396]\n",
      "e_2 * test rst: [0.00430, 0.8257, 0.5455, 0.6569, 0.8535]\n",
      "e_3 * test rst: [0.00398, 0.7969, 0.6182, 0.6962, 0.8627]\n",
      "Epoch     2: reducing learning rate of group 0 to 5.0000e-04.\n",
      "Epoch     2: reducing learning rate of group 1 to 5.0000e-04.\n",
      "e_4 * test rst: [0.00432, 0.7338, 0.6848, 0.7085, 0.8507]\n",
      "e_5 * test rst: [0.00428, 0.7500, 0.6909, 0.7192, 0.8554]\n",
      "e_6 * test rst: [0.00499, 0.6443, 0.7576, 0.6964, 0.8592]\n",
      "e_7 * test rst: [0.00452, 0.7535, 0.6485, 0.6971, 0.8544]\n",
      "Epoch     6: reducing learning rate of group 0 to 2.5000e-04.\n",
      "Epoch     6: reducing learning rate of group 1 to 2.5000e-04.\n"
     ]
    },
    {
     "name": "stdout",
     "output_type": "stream",
     "text": [
      "e_8 * test rst: [0.00440, 0.7534, 0.6667, 0.7074, 0.8571]\n",
      "e_9 * test rst: [0.00452, 0.7169, 0.7212, 0.7190, 0.8571]\n",
      "e_10 * test rst: [0.00456, 0.7250, 0.7030, 0.7138, 0.8567]\n",
      "e_11 * test rst: [0.00464, 0.7417, 0.6788, 0.7089, 0.8505]\n",
      "Epoch    10: reducing learning rate of group 0 to 1.2500e-04.\n",
      "Epoch    10: reducing learning rate of group 1 to 1.2500e-04.\n",
      "e_12 * test rst: [0.00478, 0.7652, 0.6121, 0.6801, 0.8441]\n",
      "e_13 * test rst: [0.00464, 0.7169, 0.7212, 0.7190, 0.8563]\n",
      "e_14 * test rst: [0.00466, 0.7285, 0.6667, 0.6962, 0.8496]\n",
      "e_15 * test rst: [0.00457, 0.7358, 0.7091, 0.7222, 0.8513]\n",
      "Epoch    14: reducing learning rate of group 0 to 6.2500e-05.\n",
      "Epoch    14: reducing learning rate of group 1 to 6.2500e-05.\n",
      "e_16 * test rst: [0.00466, 0.7329, 0.7152, 0.7239, 0.8509]\n",
      "e_17 * test rst: [0.00467, 0.7450, 0.6727, 0.7070, 0.8494]\n",
      "e_18 * test rst: [0.00498, 0.7153, 0.6242, 0.6667, 0.8463]\n",
      "training end, used 309.54 s\n",
      "(0.004978535981895236, 0.7152777777777778, 0.6242424242424243, 0.6666666666666666, 0.8463476070528967)\n",
      "total label sum 184.5\n",
      "0.0051615752054785325,0.6795580110497238,0.7235294117647059,0.7008547008547009,0.8644514294267325\n",
      "0.004759230689008325,0.718562874251497,0.7058823529411765,0.712166172106825,0.8947013920071847\n",
      "0.005109578993032499,0.7244897959183674,0.7244897959183674,0.7244897959183674,0.8683617861313463\n",
      "0.00575801624097858,0.7238805970149254,0.5739644970414202,0.6402640264026402,0.8346507671228751\n",
      "0.004978535981895236,0.7152777777777778,0.6242424242424243,0.6666666666666666,0.8463476070528967\n",
      "mean loss, prec, recall, f1, auc\n",
      "[0.005153387422078636, 0.7123538112024582, 0.6704216963816189, 0.6888882723898401, 0.8617025963482071]\n",
      "mlt train ended\n",
      "0.711679,0.672414,0.691489,0.856749\n"
     ]
    }
   ],
   "source": [
    "args.no_ambiguous_label = True\n",
    "\n",
    "args.num_embedding = 64\n",
    "args.cnn_out_c = 100\n",
    "args.rnn_out_f_n = 68\n",
    "\n",
    "args.rnn_num_directions = 2\n",
    "args.rnn_layers = 2\n",
    "args.window_sizes = [2, 3, 4, 5]\n",
    "args.EB_dp = 0.3\n",
    "args.FC_dp = 0.1\n",
    "\n",
    "args.use_new_loss = False\n",
    "args.use_cls_loss = False\n",
    "\n",
    "\n",
    "args.epochs = 18\n",
    "args.warmup_epoch = 0\n",
    "args.patience_epoch = 3\n",
    "\n",
    "args.learning_rate = 1e-3\n",
    "args.adam_epsilon = 1e-8\n",
    "args.weight_decay = 1e-4\n",
    "args.l2_weight_decay = 1e-4\n",
    "args.max_grad_norm = 5.0\n",
    "args.lr_reduce_factor = .5\n",
    "args.threshold = .5\n",
    "args.lr_cooldown = 2\n",
    "args.use_loss_sh = False\n",
    "args.is_iterare_info = True\n",
    "\n",
    "\n",
    "config = set_model_config(args)\n",
    "    \n",
    "    \n",
    "kf = KFold(n_splits=5)\n",
    "s_arr = []\n",
    "run_cls_df_l = []\n",
    "\n",
    "tar_feature = features_ann_1\n",
    "for idx, (train_dev_idx, test_idx) in enumerate(kf.split(tar_feature[1])):\n",
    "    cv_train_dev_ds, cv_test_ds = convert_features_to_dataset_cv_aug(tar_feature, train_dev_idx, features_ss_aug), \\\n",
    "                             convert_features_to_dataset_cv(tar_feature, test_idx)\n",
    "    \n",
    "    print('cv, step {}'.format(idx+1))\n",
    "    print(len(cv_train_dev_ds), len(cv_test_ds))\n",
    "    \n",
    "    train_dl = DataLoader(cv_train_dev_ds, batch_size=args.batch_size, shuffle=True)\n",
    "    test_dl = DataLoader(cv_test_ds, batch_size=args.batch_size)\n",
    "\n",
    "\n",
    "    model = Base_Net(config).to(device)\n",
    "    model_init_w(model)\n",
    "    optimizer, scheduler = init_model_optimizer(model, args)\n",
    "    _ = train(model, optimizer, scheduler, train_dl, None, args, test_dl, False)\n",
    "\n",
    "\n",
    "    #test\n",
    "    pred_l, tru_l, S, pre_o = eval(model, test_dl, args, 'test')\n",
    "    _, _, _, f1, auc = S\n",
    "    print(S)\n",
    "    \n",
    "    s_arr.append(list(S))\n",
    "    \n",
    "    y_info = tar_feature[1].iloc[test_idx].copy()\n",
    "    y_info['pred'] = pred_l\n",
    "    y_info['prob'] = pre_o\n",
    "    run_cls_df_l.append(y_info)\n",
    "    print('total label sum', sum(y_info.label))\n",
    "    \n",
    "mer_pd_rst = pd.concat(run_cls_df_l)\n",
    "s_arr = np.array(s_arr)\n",
    "\n",
    "for r in s_arr:\n",
    "    print(','.join([str(i) for i in r]))\n",
    "\n",
    "\n",
    "print('mean loss, prec, recall, f1, auc')\n",
    "print(list(np.mean(s_arr, axis=0)))\n",
    "print('mlt train ended')\n",
    "\n",
    "tru_l = mer_pd_rst['label'].to_numpy()\n",
    "tru_l[tru_l==.5] = 0\n",
    "pred_l = mer_pd_rst['pred'].to_numpy()\n",
    "pred_l[pred_l==.5] = 0\n",
    "pred_l = pred_l.astype(int)\n",
    "precision, recall, f1, _ = \\\n",
    "                    precision_recall_fscore_support(tru_l, pred_l, average='binary',zero_division=1)\n",
    "auc_s = roc_auc_score(mer_pd_rst['label'].to_numpy(), mer_pd_rst['prob'].to_numpy())\n",
    "print('%f,%f,%f,%f' % (precision, recall, f1, auc_s))\n",
    "\n"
   ]
  },
  {
   "cell_type": "code",
   "execution_count": 17,
   "metadata": {},
   "outputs": [
    {
     "name": "stdout",
     "output_type": "stream",
     "text": [
      "config ----------------\n",
      "{'EB_dp': 0.3,\n",
      " 'FC_dp': 0.1,\n",
      " 'adam_epsilon': 1e-08,\n",
      " 'batch_size': 32,\n",
      " 'cnn_out_c': 100,\n",
      " 'device': device(type='cuda'),\n",
      " 'epochs': 18,\n",
      " 'l2_weight_decay': 0.0001,\n",
      " 'learning_rate': 0.001,\n",
      " 'lr_cooldown': 2,\n",
      " 'lr_reduce_factor': 0.5,\n",
      " 'max_grad_norm': 5.0,\n",
      " 'max_token_n': 54,\n",
      " 'not_x_feature': False,\n",
      " 'num_embedding': 64,\n",
      " 'num_words': 82949,\n",
      " 'patience_epoch': 3,\n",
      " 'rnn_layers': 2,\n",
      " 'rnn_num_directions': 2,\n",
      " 'rnn_out_f_n': 68,\n",
      " 'threshold': 0.5,\n",
      " 'use_new_loss': False,\n",
      " 'warmup_epoch': 0,\n",
      " 'weight_decay': 0.0001,\n",
      " 'window_sizes': [2, 3, 4, 5]}\n",
      "       ----------------\n",
      "cv, step 1\n",
      "4984 563\n",
      "init model\n",
      "training begin\n",
      "e_1 * test rst: [0.00428, 0.7615, 0.5824, 0.6600, 0.8577]\n",
      "e_2 * test rst: [0.00434, 0.6667, 0.6941, 0.6801, 0.8583]\n",
      "e_3 * test rst: [0.00426, 0.8443, 0.6059, 0.7055, 0.8679]\n",
      "Epoch     2: reducing learning rate of group 0 to 5.0000e-04.\n",
      "Epoch     2: reducing learning rate of group 1 to 5.0000e-04.\n",
      "e_4 * test rst: [0.00459, 0.8333, 0.6176, 0.7095, 0.8705]\n",
      "e_5 * test rst: [0.00438, 0.6736, 0.7647, 0.7163, 0.8676]\n",
      "e_6 * test rst: [0.00434, 0.7468, 0.6765, 0.7099, 0.8651]\n",
      "e_7 * test rst: [0.00445, 0.7102, 0.7353, 0.7225, 0.8687]\n",
      "Epoch     6: reducing learning rate of group 0 to 2.5000e-04.\n",
      "Epoch     6: reducing learning rate of group 1 to 2.5000e-04.\n",
      "e_8 * test rst: [0.00458, 0.7151, 0.7235, 0.7193, 0.8688]\n",
      "e_9 * test rst: [0.00468, 0.7229, 0.7059, 0.7143, 0.8662]\n",
      "e_10 * test rst: [0.00471, 0.7186, 0.7059, 0.7122, 0.8633]\n",
      "e_11 * test rst: [0.00476, 0.6995, 0.7529, 0.7252, 0.8630]\n",
      "Epoch    10: reducing learning rate of group 0 to 1.2500e-04.\n",
      "Epoch    10: reducing learning rate of group 1 to 1.2500e-04.\n",
      "e_12 * test rst: [0.00471, 0.7143, 0.7353, 0.7246, 0.8638]\n",
      "e_13 * test rst: [0.00468, 0.7566, 0.6765, 0.7143, 0.8651]\n",
      "e_14 * test rst: [0.00466, 0.6940, 0.7471, 0.7195, 0.8678]\n",
      "e_15 * test rst: [0.00471, 0.7468, 0.6941, 0.7195, 0.8643]\n",
      "Epoch    14: reducing learning rate of group 0 to 6.2500e-05.\n",
      "Epoch    14: reducing learning rate of group 1 to 6.2500e-05.\n",
      "e_16 * test rst: [0.00466, 0.7613, 0.6941, 0.7262, 0.8639]\n",
      "e_17 * test rst: [0.00463, 0.7305, 0.7176, 0.7240, 0.8646]\n",
      "e_18 * test rst: [0.00464, 0.7209, 0.7294, 0.7251, 0.8654]\n",
      "training end, used 325.32 s\n",
      "(0.004637554890044417, 0.7209302325581395, 0.7294117647058823, 0.7251461988304093, 0.8653944020356235)\n",
      "total label sum 197.5\n",
      "0.004637554890044417,0.7209302325581395,0.7294117647058823,0.7251461988304093,0.8653944020356235\n",
      "mean loss, prec, recall, f1, auc\n",
      "[0.004637554890044417, 0.7209302325581395, 0.7294117647058823, 0.7251461988304093, 0.8653944020356235]\n",
      "mlt train ended\n",
      "0.720930,0.729412,0.725146,0.865394\n"
     ]
    }
   ],
   "source": [
    "args.no_ambiguous_label = True\n",
    "\n",
    "args.num_embedding = 64\n",
    "args.cnn_out_c = 100\n",
    "args.rnn_out_f_n = 68\n",
    "\n",
    "args.rnn_num_directions = 2\n",
    "args.rnn_layers = 2\n",
    "args.window_sizes = [2, 3, 4, 5]\n",
    "args.EB_dp = 0.3\n",
    "args.FC_dp = 0.1\n",
    "\n",
    "args.use_new_loss = False\n",
    "args.use_cls_loss = False\n",
    "\n",
    "\n",
    "args.epochs = 18\n",
    "args.warmup_epoch = 0\n",
    "args.patience_epoch = 3\n",
    "\n",
    "args.learning_rate = 1e-3\n",
    "args.adam_epsilon = 1e-8\n",
    "args.weight_decay = 1e-4\n",
    "args.l2_weight_decay = 1e-4\n",
    "args.max_grad_norm = 5.0\n",
    "args.lr_reduce_factor = .5\n",
    "args.threshold = .5\n",
    "args.lr_cooldown = 2\n",
    "args.use_loss_sh = False\n",
    "args.is_iterare_info = True\n",
    "\n",
    "\n",
    "config = set_model_config(args)\n",
    "    \n",
    "    \n",
    "kf = KFold(n_splits=5)\n",
    "s_arr = []\n",
    "run_cls_df_l = []\n",
    "\n",
    "tar_feature = features_ann_1\n",
    "for idx, (train_dev_idx, test_idx) in enumerate(kf.split(tar_feature[1])):\n",
    "    cv_train_dev_ds, cv_test_ds = convert_features_to_dataset_cv_aug(tar_feature, train_dev_idx, features_ss_aug), \\\n",
    "                             convert_features_to_dataset_cv(tar_feature, test_idx)\n",
    "    \n",
    "    print('cv, step {}'.format(idx+1))\n",
    "    print(len(cv_train_dev_ds), len(cv_test_ds))\n",
    "    \n",
    "    train_dl = DataLoader(cv_train_dev_ds, batch_size=args.batch_size, shuffle=True)\n",
    "    test_dl = DataLoader(cv_test_ds, batch_size=args.batch_size)\n",
    "\n",
    "\n",
    "    model = Base_Net(config).to(device)\n",
    "    model_init_w(model)\n",
    "    optimizer, scheduler = init_model_optimizer(model, args)\n",
    "    _ = train(model, optimizer, scheduler, train_dl, None, args, test_dl, False)\n",
    "\n",
    "\n",
    "    #test\n",
    "    pred_l, tru_l, S, pre_o = eval(model, test_dl, args, 'test')\n",
    "    _, _, _, f1, auc = S\n",
    "    print(S)\n",
    "    \n",
    "    s_arr.append(list(S))\n",
    "    \n",
    "    y_info = tar_feature[1].iloc[test_idx].copy()\n",
    "    y_info['pred'] = pred_l\n",
    "    y_info['prob'] = pre_o\n",
    "    run_cls_df_l.append(y_info)\n",
    "    print('total label sum', sum(y_info.label))\n",
    "    break\n",
    "    \n",
    "mer_pd_rst = pd.concat(run_cls_df_l)\n",
    "s_arr = np.array(s_arr)\n",
    "\n",
    "for r in s_arr:\n",
    "    print(','.join([str(i) for i in r]))\n",
    "\n",
    "\n",
    "print('mean loss, prec, recall, f1, auc')\n",
    "print(list(np.mean(s_arr, axis=0)))\n",
    "print('mlt train ended')\n",
    "\n",
    "tru_l = mer_pd_rst['label'].to_numpy()\n",
    "tru_l[tru_l==.5] = 0\n",
    "pred_l = mer_pd_rst['pred'].to_numpy()\n",
    "pred_l[pred_l==.5] = 0\n",
    "pred_l = pred_l.astype(int)\n",
    "precision, recall, f1, _ = \\\n",
    "                    precision_recall_fscore_support(tru_l, pred_l, average='binary',zero_division=1)\n",
    "auc_s = roc_auc_score(mer_pd_rst['label'].to_numpy(), mer_pd_rst['prob'].to_numpy())\n",
    "print('%f,%f,%f,%f' % (precision, recall, f1, auc_s))\n",
    "\n"
   ]
  },
  {
   "cell_type": "code",
   "execution_count": null,
   "metadata": {},
   "outputs": [],
   "source": [
    "args.no_ambiguous_label = True"
   ]
  },
  {
   "cell_type": "code",
   "execution_count": null,
   "metadata": {},
   "outputs": [],
   "source": []
  },
  {
   "cell_type": "code",
   "execution_count": null,
   "metadata": {},
   "outputs": [],
   "source": []
  },
  {
   "cell_type": "code",
   "execution_count": 32,
   "metadata": {},
   "outputs": [
    {
     "name": "stdout",
     "output_type": "stream",
     "text": [
      "config ----------------\n",
      "{'EB_dp': 0.3,\n",
      " 'FC_dp': 0.1,\n",
      " 'adam_epsilon': 1e-08,\n",
      " 'batch_size': 32,\n",
      " 'cnn_out_c': 100,\n",
      " 'device': device(type='cuda'),\n",
      " 'epochs': 18,\n",
      " 'l2_weight_decay': 0.0001,\n",
      " 'learning_rate': 0.001,\n",
      " 'lr_cooldown': 2,\n",
      " 'lr_reduce_factor': 0.5,\n",
      " 'max_grad_norm': 5.0,\n",
      " 'max_token_n': 54,\n",
      " 'not_x_feature': False,\n",
      " 'num_embedding': 64,\n",
      " 'num_words': 82949,\n",
      " 'patience_epoch': 3,\n",
      " 'rnn_layers': 2,\n",
      " 'rnn_num_directions': 2,\n",
      " 'rnn_out_f_n': 68,\n",
      " 'threshold': 0.5,\n",
      " 'use_new_loss': False,\n",
      " 'warmup_epoch': 0,\n",
      " 'weight_decay': 0.0001,\n",
      " 'window_sizes': [2, 3, 4, 5]}\n",
      "       ----------------\n",
      "cv, step 1\n",
      "4984 563\n",
      "init model\n",
      "training begin\n",
      "e_1 * test rst: [0.00409, 0.7118, 0.7118, 0.7118, 0.8532]\n",
      "e_2 * test rst: [0.00407, 0.7535, 0.6294, 0.6859, 0.8575]\n",
      "e_3 * test rst: [0.00388, 0.7241, 0.7412, 0.7326, 0.8707]\n",
      "Epoch     2: reducing learning rate of group 0 to 5.0000e-04.\n",
      "Epoch     2: reducing learning rate of group 1 to 5.0000e-04.\n",
      "e_4 * test rst: [0.00405, 0.7902, 0.6647, 0.7220, 0.8663]\n",
      "e_5 * test rst: [0.00404, 0.7310, 0.7353, 0.7331, 0.8664]\n",
      "e_6 * test rst: [0.00433, 0.8058, 0.6588, 0.7249, 0.8652]\n",
      "e_7 * test rst: [0.00423, 0.7610, 0.7118, 0.7356, 0.8645]\n",
      "Epoch     6: reducing learning rate of group 0 to 2.5000e-04.\n",
      "Epoch     6: reducing learning rate of group 1 to 2.5000e-04.\n",
      "e_8 * test rst: [0.00415, 0.7225, 0.7353, 0.7289, 0.8676]\n",
      "e_9 * test rst: [0.00426, 0.6717, 0.7824, 0.7228, 0.8724]\n",
      "e_10 * test rst: [0.00422, 0.7111, 0.7529, 0.7314, 0.8710]\n",
      "e_11 * test rst: [0.00436, 0.7625, 0.7176, 0.7394, 0.8685]\n",
      "Epoch    10: reducing learning rate of group 0 to 1.2500e-04.\n",
      "Epoch    10: reducing learning rate of group 1 to 1.2500e-04.\n",
      "e_12 * test rst: [0.00428, 0.7305, 0.7176, 0.7240, 0.8681]\n",
      "e_13 * test rst: [0.00436, 0.7273, 0.7529, 0.7399, 0.8683]\n",
      "e_14 * test rst: [0.00436, 0.7011, 0.7588, 0.7288, 0.8709]\n",
      "e_15 * test rst: [0.00427, 0.7396, 0.7353, 0.7375, 0.8703]\n",
      "Epoch    14: reducing learning rate of group 0 to 6.2500e-05.\n",
      "Epoch    14: reducing learning rate of group 1 to 6.2500e-05.\n",
      "e_16 * test rst: [0.00431, 0.7530, 0.7353, 0.7440, 0.8702]\n",
      "e_17 * test rst: [0.00430, 0.7299, 0.7471, 0.7384, 0.8708]\n",
      "e_18 * test rst: [0.00432, 0.7299, 0.7471, 0.7384, 0.8708]\n",
      "training end, used 310.04 s\n",
      "(0.004320633566241916, 0.7298850574712644, 0.7470588235294118, 0.7383720930232558, 0.8708277204011374)\n",
      "total label sum 197.5\n",
      "cv, step 2\n",
      "4984 563\n",
      "init model\n",
      "training begin\n",
      "e_1 * test rst: [0.00443, 0.7188, 0.6765, 0.6970, 0.8691]\n",
      "e_2 * test rst: [0.00457, 0.7308, 0.6706, 0.6994, 0.8737]\n",
      "e_3 * test rst: [0.00482, 0.6345, 0.7353, 0.6812, 0.8762]\n",
      "Epoch     2: reducing learning rate of group 0 to 5.0000e-04.\n",
      "Epoch     2: reducing learning rate of group 1 to 5.0000e-04.\n",
      "e_4 * test rst: [0.00469, 0.6760, 0.7118, 0.6934, 0.8753]\n",
      "e_5 * test rst: [0.00448, 0.7317, 0.7059, 0.7186, 0.8850]\n",
      "e_6 * test rst: [0.00434, 0.7186, 0.7059, 0.7122, 0.8888]\n",
      "e_7 * test rst: [0.00446, 0.6816, 0.7176, 0.6991, 0.8883]\n",
      "Epoch     6: reducing learning rate of group 0 to 2.5000e-04.\n",
      "Epoch     6: reducing learning rate of group 1 to 2.5000e-04.\n",
      "e_8 * test rst: [0.00448, 0.7676, 0.6412, 0.6987, 0.8912]\n",
      "e_9 * test rst: [0.00439, 0.6632, 0.7412, 0.7000, 0.8958]\n",
      "e_10 * test rst: [0.00435, 0.7438, 0.7000, 0.7212, 0.8934]\n",
      "e_11 * test rst: [0.00445, 0.7312, 0.6882, 0.7091, 0.8916]\n",
      "Epoch    10: reducing learning rate of group 0 to 1.2500e-04.\n",
      "Epoch    10: reducing learning rate of group 1 to 1.2500e-04.\n",
      "e_12 * test rst: [0.00441, 0.7273, 0.7059, 0.7164, 0.8947]\n",
      "e_13 * test rst: [0.00436, 0.7389, 0.6824, 0.7095, 0.8957]\n",
      "e_14 * test rst: [0.00444, 0.7000, 0.7412, 0.7200, 0.8977]\n",
      "e_15 * test rst: [0.00444, 0.6961, 0.7412, 0.7179, 0.8966]\n",
      "Epoch    14: reducing learning rate of group 0 to 6.2500e-05.\n",
      "Epoch    14: reducing learning rate of group 1 to 6.2500e-05.\n",
      "e_16 * test rst: [0.00438, 0.7126, 0.7294, 0.7209, 0.8965]\n",
      "e_17 * test rst: [0.00442, 0.7006, 0.7294, 0.7147, 0.8968]\n",
      "e_18 * test rst: [0.00445, 0.7358, 0.6882, 0.7112, 0.8944]\n",
      "training end, used 311.17 s\n",
      "(0.004448002770040218, 0.7358490566037735, 0.6882352941176471, 0.7112462006079028, 0.8943571321658433)\n",
      "total label sum 186.5\n",
      "cv, step 3\n",
      "4984 563\n",
      "init model\n",
      "training begin\n",
      "e_1 * test rst: [0.00488, 0.6524, 0.6990, 0.6749, 0.8398]\n",
      "e_2 * test rst: [0.00432, 0.7337, 0.6888, 0.7105, 0.8545]\n",
      "e_3 * test rst: [0.00475, 0.7059, 0.6735, 0.6893, 0.8500]\n",
      "Epoch     2: reducing learning rate of group 0 to 5.0000e-04.\n",
      "Epoch     2: reducing learning rate of group 1 to 5.0000e-04.\n",
      "e_4 * test rst: [0.00472, 0.6833, 0.7704, 0.7242, 0.8572]\n",
      "e_5 * test rst: [0.00459, 0.7157, 0.7449, 0.7300, 0.8667]\n",
      "e_6 * test rst: [0.00471, 0.6981, 0.7551, 0.7255, 0.8683]\n",
      "e_7 * test rst: [0.00468, 0.7009, 0.7653, 0.7317, 0.8719]\n",
      "Epoch     6: reducing learning rate of group 0 to 2.5000e-04.\n",
      "Epoch     6: reducing learning rate of group 1 to 2.5000e-04.\n",
      "e_8 * test rst: [0.00475, 0.7070, 0.7755, 0.7397, 0.8721]\n",
      "e_9 * test rst: [0.00471, 0.7268, 0.7194, 0.7231, 0.8761]\n",
      "e_10 * test rst: [0.00495, 0.6711, 0.7704, 0.7173, 0.8730]\n",
      "e_11 * test rst: [0.00489, 0.7030, 0.7245, 0.7136, 0.8745]\n",
      "Epoch    10: reducing learning rate of group 0 to 1.2500e-04.\n",
      "Epoch    10: reducing learning rate of group 1 to 1.2500e-04.\n",
      "e_12 * test rst: [0.00497, 0.6898, 0.7602, 0.7233, 0.8743]\n",
      "e_13 * test rst: [0.00484, 0.6995, 0.7602, 0.7286, 0.8744]\n",
      "e_14 * test rst: [0.00482, 0.7150, 0.7296, 0.7222, 0.8754]\n",
      "e_15 * test rst: [0.00505, 0.6881, 0.7653, 0.7246, 0.8735]\n",
      "Epoch    14: reducing learning rate of group 0 to 6.2500e-05.\n",
      "Epoch    14: reducing learning rate of group 1 to 6.2500e-05.\n",
      "e_16 * test rst: [0.00498, 0.6881, 0.7653, 0.7246, 0.8740]\n",
      "e_17 * test rst: [0.00490, 0.7028, 0.7602, 0.7304, 0.8753]\n",
      "e_18 * test rst: [0.00486, 0.6995, 0.7602, 0.7286, 0.8748]\n",
      "training end, used 313.16 s\n",
      "(0.004855950000707464, 0.6995305164319249, 0.7602040816326531, 0.7286063569682152, 0.874784518712117)\n",
      "total label sum 219.0\n",
      "cv, step 4\n",
      "4985 562\n",
      "init model\n",
      "training begin\n",
      "e_1 * test rst: [0.00520, 0.6242, 0.5799, 0.6012, 0.7988]\n",
      "e_2 * test rst: [0.00530, 0.6250, 0.5621, 0.5919, 0.7980]\n",
      "e_3 * test rst: [0.00532, 0.6711, 0.5917, 0.6289, 0.8109]\n",
      "Epoch     2: reducing learning rate of group 0 to 5.0000e-04.\n",
      "Epoch     2: reducing learning rate of group 1 to 5.0000e-04.\n",
      "e_4 * test rst: [0.00510, 0.6906, 0.5680, 0.6234, 0.8242]\n",
      "e_5 * test rst: [0.00528, 0.6358, 0.6509, 0.6433, 0.8300]\n",
      "e_6 * test rst: [0.00521, 0.7481, 0.5799, 0.6533, 0.8230]\n",
      "e_7 * test rst: [0.00510, 0.7344, 0.5562, 0.6330, 0.8291]\n",
      "Epoch     6: reducing learning rate of group 0 to 2.5000e-04.\n",
      "Epoch     6: reducing learning rate of group 1 to 2.5000e-04.\n",
      "e_8 * test rst: [0.00498, 0.6948, 0.6331, 0.6625, 0.8372]\n",
      "e_9 * test rst: [0.00517, 0.6933, 0.6154, 0.6520, 0.8347]\n",
      "e_10 * test rst: [0.00532, 0.7557, 0.5858, 0.6600, 0.8357]\n",
      "e_11 * test rst: [0.00519, 0.6948, 0.6331, 0.6625, 0.8399]\n",
      "Epoch    10: reducing learning rate of group 0 to 1.2500e-04.\n",
      "Epoch    10: reducing learning rate of group 1 to 1.2500e-04.\n",
      "e_12 * test rst: [0.00516, 0.6903, 0.6331, 0.6605, 0.8404]\n",
      "e_13 * test rst: [0.00519, 0.6937, 0.6568, 0.6748, 0.8405]\n",
      "e_14 * test rst: [0.00521, 0.6908, 0.6213, 0.6542, 0.8403]\n",
      "e_15 * test rst: [0.00510, 0.6879, 0.6391, 0.6626, 0.8419]\n",
      "Epoch    14: reducing learning rate of group 0 to 6.2500e-05.\n",
      "Epoch    14: reducing learning rate of group 1 to 6.2500e-05.\n",
      "e_16 * test rst: [0.00516, 0.6894, 0.6568, 0.6727, 0.8427]\n",
      "e_17 * test rst: [0.00511, 0.6962, 0.6509, 0.6728, 0.8440]\n",
      "e_18 * test rst: [0.00522, 0.6855, 0.6450, 0.6646, 0.8412]\n",
      "training end, used 309.75 s\n",
      "(0.005221198952601049, 0.6855345911949685, 0.6449704142011834, 0.6646341463414633, 0.8412304078775011)\n",
      "total label sum 188.0\n",
      "cv, step 5\n",
      "4985 562\n",
      "init model\n",
      "training begin\n",
      "e_1 * test rst: [0.00433, 0.7534, 0.6667, 0.7074, 0.8458]\n",
      "e_2 * test rst: [0.00404, 0.6940, 0.7697, 0.7299, 0.8727]\n",
      "e_3 * test rst: [0.00364, 0.7756, 0.7333, 0.7539, 0.8825]\n",
      "Epoch     2: reducing learning rate of group 0 to 5.0000e-04.\n",
      "Epoch     2: reducing learning rate of group 1 to 5.0000e-04.\n",
      "e_4 * test rst: [0.00396, 0.8000, 0.6303, 0.7051, 0.8723]\n",
      "e_5 * test rst: [0.00452, 0.6238, 0.7939, 0.6987, 0.8817]\n",
      "e_6 * test rst: [0.00394, 0.7200, 0.7636, 0.7412, 0.8828]\n",
      "e_7 * test rst: [0.00428, 0.6919, 0.7758, 0.7314, 0.8811]\n",
      "Epoch     6: reducing learning rate of group 0 to 2.5000e-04.\n",
      "Epoch     6: reducing learning rate of group 1 to 2.5000e-04.\n"
     ]
    },
    {
     "name": "stdout",
     "output_type": "stream",
     "text": [
      "e_8 * test rst: [0.00409, 0.7267, 0.7576, 0.7418, 0.8825]\n",
      "e_9 * test rst: [0.00423, 0.7394, 0.7394, 0.7394, 0.8772]\n",
      "e_10 * test rst: [0.00432, 0.7151, 0.7455, 0.7300, 0.8801]\n",
      "e_11 * test rst: [0.00415, 0.7235, 0.7455, 0.7343, 0.8800]\n",
      "Epoch    10: reducing learning rate of group 0 to 1.2500e-04.\n",
      "Epoch    10: reducing learning rate of group 1 to 1.2500e-04.\n",
      "e_12 * test rst: [0.00430, 0.6833, 0.7455, 0.7130, 0.8812]\n",
      "e_13 * test rst: [0.00410, 0.7531, 0.7394, 0.7462, 0.8764]\n",
      "e_14 * test rst: [0.00422, 0.7235, 0.7455, 0.7343, 0.8761]\n",
      "e_15 * test rst: [0.00417, 0.7365, 0.7455, 0.7410, 0.8764]\n",
      "Epoch    14: reducing learning rate of group 0 to 6.2500e-05.\n",
      "Epoch    14: reducing learning rate of group 1 to 6.2500e-05.\n",
      "e_16 * test rst: [0.00447, 0.7022, 0.7576, 0.7289, 0.8756]\n",
      "e_17 * test rst: [0.00429, 0.7110, 0.7455, 0.7278, 0.8751]\n",
      "e_18 * test rst: [0.00432, 0.7151, 0.7455, 0.7300, 0.8741]\n",
      "training end, used 310.64 s\n",
      "(0.004323586516639092, 0.7151162790697675, 0.7454545454545455, 0.7299703264094957, 0.874085947637585)\n",
      "total label sum 184.5\n",
      "0.004320633566241916,0.7298850574712644,0.7470588235294118,0.7383720930232558,0.8708277204011374\n",
      "0.004448002770040218,0.7358490566037735,0.6882352941176471,0.7112462006079028,0.8943571321658433\n",
      "0.004855950000707464,0.6995305164319249,0.7602040816326531,0.7286063569682152,0.874784518712117\n",
      "0.005221198952601049,0.6855345911949685,0.6449704142011834,0.6646341463414633,0.8412304078775011\n",
      "0.004323586516639092,0.7151162790697675,0.7454545454545455,0.7299703264094957,0.874085947637585\n",
      "mean loss, prec, recall, f1, auc\n",
      "[0.004633874361245948, 0.7131831001543397, 0.7171846317870882, 0.7145658246700666, 0.8710571453588368]\n",
      "mlt train ended\n",
      "0.712657,0.718391,0.715512,0.869120\n"
     ]
    }
   ],
   "source": [
    "args.num_embedding = 64\n",
    "args.cnn_out_c = 100\n",
    "args.rnn_out_f_n = 68\n",
    "\n",
    "args.rnn_num_directions = 2\n",
    "args.rnn_layers = 2\n",
    "args.window_sizes = [2, 3, 4, 5]\n",
    "args.EB_dp = 0.3\n",
    "args.FC_dp = 0.1\n",
    "\n",
    "args.use_new_loss = False\n",
    "args.use_cls_loss = False\n",
    "\n",
    "\n",
    "args.epochs = 18\n",
    "args.warmup_epoch = 0\n",
    "args.patience_epoch = 3\n",
    "\n",
    "args.learning_rate = 1e-3\n",
    "args.adam_epsilon = 1e-8\n",
    "args.weight_decay = 1e-4\n",
    "args.l2_weight_decay = 1e-4\n",
    "args.max_grad_norm = 5.0\n",
    "args.lr_reduce_factor = .5\n",
    "args.threshold = .5\n",
    "args.lr_cooldown = 2\n",
    "args.use_loss_sh = False\n",
    "args.is_iterare_info = True\n",
    "\n",
    "\n",
    "config = set_model_config(args)\n",
    "    \n",
    "    \n",
    "kf = KFold(n_splits=5)\n",
    "s_arr = []\n",
    "run_cls_df_l = []\n",
    "\n",
    "tar_feature = features_ann_1\n",
    "for idx, (train_dev_idx, test_idx) in enumerate(kf.split(tar_feature[1])):\n",
    "    cv_train_dev_ds, cv_test_ds = convert_features_to_dataset_cv_aug(tar_feature, train_dev_idx, features_ss_aug), \\\n",
    "                             convert_features_to_dataset_cv(tar_feature, test_idx)\n",
    "    \n",
    "    print('cv, step {}'.format(idx+1))\n",
    "    print(len(cv_train_dev_ds), len(cv_test_ds))\n",
    "    \n",
    "    train_dl = DataLoader(cv_train_dev_ds, batch_size=args.batch_size, shuffle=True)\n",
    "    test_dl = DataLoader(cv_test_ds, batch_size=args.batch_size)\n",
    "\n",
    "\n",
    "    model = Base_Net(config).to(device)\n",
    "    model_init_w(model)\n",
    "    optimizer, scheduler = init_model_optimizer(model, args)\n",
    "    _ = train(model, optimizer, scheduler, train_dl, None, args, test_dl, False)\n",
    "\n",
    "\n",
    "    #test\n",
    "    pred_l, tru_l, S, pre_o = eval(model, test_dl, args, 'test')\n",
    "    _, _, _, f1, auc = S\n",
    "    print(S)\n",
    "    \n",
    "    s_arr.append(list(S))\n",
    "    \n",
    "    y_info = tar_feature[1].iloc[test_idx].copy()\n",
    "    y_info['pred'] = pred_l\n",
    "    y_info['prob'] = pre_o\n",
    "    run_cls_df_l.append(y_info)\n",
    "    print('total label sum', sum(y_info.label))\n",
    "    \n",
    "mer_pd_rst = pd.concat(run_cls_df_l)\n",
    "s_arr = np.array(s_arr)\n",
    "\n",
    "for r in s_arr:\n",
    "    print(','.join([str(i) for i in r]))\n",
    "\n",
    "\n",
    "print('mean loss, prec, recall, f1, auc')\n",
    "print(list(np.mean(s_arr, axis=0)))\n",
    "print('mlt train ended')\n",
    "\n",
    "tru_l = mer_pd_rst['label'].to_numpy()\n",
    "tru_l[tru_l==.5] = 0\n",
    "pred_l = mer_pd_rst['pred'].to_numpy()\n",
    "pred_l[pred_l==.5] = 0\n",
    "pred_l = pred_l.astype(int)\n",
    "precision, recall, f1, _ = \\\n",
    "                    precision_recall_fscore_support(tru_l, pred_l, average='binary',zero_division=1)\n",
    "auc_s = roc_auc_score(mer_pd_rst['label'].to_numpy(), mer_pd_rst['prob'].to_numpy())\n",
    "print('%f,%f,%f,%f' % (precision, recall, f1, auc_s))\n",
    "\n"
   ]
  },
  {
   "cell_type": "code",
   "execution_count": null,
   "metadata": {},
   "outputs": [],
   "source": []
  },
  {
   "cell_type": "code",
   "execution_count": 33,
   "metadata": {},
   "outputs": [
    {
     "name": "stdout",
     "output_type": "stream",
     "text": [
      "config ----------------\n",
      "{'EB_dp': 0.3,\n",
      " 'FC_dp': 0.1,\n",
      " 'adam_epsilon': 1e-08,\n",
      " 'batch_size': 32,\n",
      " 'cnn_out_c': 100,\n",
      " 'device': device(type='cuda'),\n",
      " 'epochs': 18,\n",
      " 'l2_weight_decay': 0.0001,\n",
      " 'learning_rate': 0.001,\n",
      " 'lr_cooldown': 2,\n",
      " 'lr_reduce_factor': 0.5,\n",
      " 'max_grad_norm': 5.0,\n",
      " 'max_token_n': 54,\n",
      " 'not_x_feature': False,\n",
      " 'num_embedding': 64,\n",
      " 'num_words': 82949,\n",
      " 'patience_epoch': 3,\n",
      " 'rnn_layers': 2,\n",
      " 'rnn_num_directions': 2,\n",
      " 'rnn_out_f_n': 68,\n",
      " 'threshold': 0.5,\n",
      " 'use_new_loss': False,\n",
      " 'warmup_epoch': 0,\n",
      " 'weight_decay': 0.0001,\n",
      " 'window_sizes': [2, 3, 4, 5]}\n",
      "       ----------------\n",
      "cv, step 1\n",
      "500 563\n",
      "init model\n",
      "training begin\n",
      "e_1 * test rst: [0.00674, 1.0000, 0.0000, 0.0000, 0.7596]\n",
      "e_2 * test rst: [0.00843, 0.3618, 0.9471, 0.5236, 0.7982]\n",
      "e_3 * test rst: [0.00470, 0.6564, 0.6294, 0.6426, 0.8214]\n",
      "Epoch     2: reducing learning rate of group 0 to 5.0000e-04.\n",
      "Epoch     2: reducing learning rate of group 1 to 5.0000e-04.\n",
      "e_4 * test rst: [0.00486, 0.5701, 0.7412, 0.6445, 0.8192]\n",
      "e_5 * test rst: [0.00534, 0.5479, 0.8412, 0.6636, 0.8241]\n",
      "e_6 * test rst: [0.00467, 0.6283, 0.7059, 0.6648, 0.8236]\n",
      "e_7 * test rst: [0.00480, 0.6238, 0.7412, 0.6774, 0.8357]\n",
      "Epoch     6: reducing learning rate of group 0 to 2.5000e-04.\n",
      "Epoch     6: reducing learning rate of group 1 to 2.5000e-04.\n",
      "e_8 * test rst: [0.00491, 0.6448, 0.6941, 0.6686, 0.8298]\n",
      "e_9 * test rst: [0.00524, 0.7080, 0.5706, 0.6319, 0.8244]\n",
      "e_10 * test rst: [0.00511, 0.6752, 0.6235, 0.6483, 0.8296]\n",
      "e_11 * test rst: [0.00501, 0.6667, 0.6353, 0.6506, 0.8278]\n",
      "Epoch    10: reducing learning rate of group 0 to 1.2500e-04.\n",
      "Epoch    10: reducing learning rate of group 1 to 1.2500e-04.\n",
      "e_12 * test rst: [0.00489, 0.6378, 0.6941, 0.6648, 0.8306]\n",
      "e_13 * test rst: [0.00502, 0.6310, 0.6941, 0.6611, 0.8327]\n",
      "e_14 * test rst: [0.00503, 0.6350, 0.7471, 0.6865, 0.8340]\n",
      "e_15 * test rst: [0.00512, 0.6500, 0.6882, 0.6686, 0.8313]\n",
      "Epoch    14: reducing learning rate of group 0 to 6.2500e-05.\n",
      "Epoch    14: reducing learning rate of group 1 to 6.2500e-05.\n",
      "e_16 * test rst: [0.00518, 0.6477, 0.6706, 0.6590, 0.8326]\n",
      "e_17 * test rst: [0.00515, 0.6364, 0.7000, 0.6667, 0.8334]\n",
      "e_18 * test rst: [0.00523, 0.6369, 0.6706, 0.6533, 0.8325]\n",
      "training end, used 35.38 s\n",
      "(0.005229096509000124, 0.6368715083798883, 0.6705882352941176, 0.6532951289398281, 0.8324951354587637)\n",
      "total label sum 197.5\n",
      "cv, step 2\n",
      "500 563\n",
      "init model\n",
      "training begin\n",
      "e_1 * test rst: [0.00661, 1.0000, 0.0000, 0.0000, 0.8389]\n",
      "e_2 * test rst: [0.00470, 0.6552, 0.6706, 0.6628, 0.8516]\n",
      "e_3 * test rst: [0.00499, 0.5890, 0.7588, 0.6632, 0.8497]\n",
      "Epoch     2: reducing learning rate of group 0 to 5.0000e-04.\n",
      "Epoch     2: reducing learning rate of group 1 to 5.0000e-04.\n",
      "e_4 * test rst: [0.00579, 0.5222, 0.8294, 0.6409, 0.8447]\n",
      "e_5 * test rst: [0.00533, 0.5907, 0.7471, 0.6597, 0.8558]\n",
      "e_6 * test rst: [0.00540, 0.5620, 0.8000, 0.6602, 0.8525]\n",
      "e_7 * test rst: [0.00518, 0.6484, 0.6941, 0.6705, 0.8562]\n",
      "Epoch     6: reducing learning rate of group 0 to 2.5000e-04.\n",
      "Epoch     6: reducing learning rate of group 1 to 2.5000e-04.\n",
      "e_8 * test rst: [0.00504, 0.7200, 0.6353, 0.6750, 0.8553]\n",
      "e_9 * test rst: [0.00530, 0.6467, 0.7000, 0.6723, 0.8568]\n",
      "e_10 * test rst: [0.00520, 0.6784, 0.6824, 0.6804, 0.8581]\n",
      "e_11 * test rst: [0.00518, 0.7063, 0.6647, 0.6848, 0.8560]\n",
      "Epoch    10: reducing learning rate of group 0 to 1.2500e-04.\n",
      "Epoch    10: reducing learning rate of group 1 to 1.2500e-04.\n",
      "e_12 * test rst: [0.00524, 0.6914, 0.6588, 0.6747, 0.8564]\n",
      "e_13 * test rst: [0.00547, 0.6364, 0.7000, 0.6667, 0.8589]\n",
      "e_14 * test rst: [0.00531, 0.7044, 0.6588, 0.6809, 0.8556]\n",
      "e_15 * test rst: [0.00538, 0.6871, 0.6588, 0.6727, 0.8565]\n",
      "Epoch    14: reducing learning rate of group 0 to 6.2500e-05.\n",
      "Epoch    14: reducing learning rate of group 1 to 6.2500e-05.\n",
      "e_16 * test rst: [0.00546, 0.6667, 0.6824, 0.6744, 0.8571]\n",
      "e_17 * test rst: [0.00542, 0.6871, 0.6588, 0.6727, 0.8564]\n",
      "e_18 * test rst: [0.00542, 0.6914, 0.6588, 0.6747, 0.8564]\n",
      "training end, used 35.41 s\n",
      "(0.0054215119910123715, 0.691358024691358, 0.6588235294117647, 0.674698795180723, 0.8564286783415656)\n",
      "total label sum 186.5\n",
      "cv, step 3\n",
      "500 563\n",
      "init model\n",
      "training begin\n",
      "e_1 * test rst: [0.00707, 1.0000, 0.0000, 0.0000, 0.7632]\n",
      "e_2 * test rst: [0.00642, 0.7885, 0.4184, 0.5467, 0.8041]\n",
      "e_3 * test rst: [0.00546, 0.6705, 0.5918, 0.6287, 0.7969]\n",
      "Epoch     2: reducing learning rate of group 0 to 5.0000e-04.\n",
      "Epoch     2: reducing learning rate of group 1 to 5.0000e-04.\n",
      "e_4 * test rst: [0.00577, 0.6988, 0.5918, 0.6409, 0.8116]\n",
      "e_5 * test rst: [0.00560, 0.7612, 0.5204, 0.6182, 0.8149]\n",
      "e_6 * test rst: [0.00593, 0.7519, 0.5102, 0.6079, 0.8214]\n",
      "e_7 * test rst: [0.00609, 0.7727, 0.5204, 0.6220, 0.8185]\n",
      "Epoch     6: reducing learning rate of group 0 to 2.5000e-04.\n",
      "Epoch     6: reducing learning rate of group 1 to 2.5000e-04.\n",
      "e_8 * test rst: [0.00540, 0.7151, 0.6276, 0.6685, 0.8188]\n",
      "e_9 * test rst: [0.00597, 0.5904, 0.7500, 0.6607, 0.8171]\n",
      "e_10 * test rst: [0.00552, 0.6828, 0.6480, 0.6649, 0.8223]\n",
      "e_11 * test rst: [0.00590, 0.7273, 0.5714, 0.6400, 0.8231]\n",
      "Epoch    10: reducing learning rate of group 0 to 1.2500e-04.\n",
      "Epoch    10: reducing learning rate of group 1 to 1.2500e-04.\n",
      "e_12 * test rst: [0.00560, 0.6526, 0.7092, 0.6797, 0.8236]\n",
      "e_13 * test rst: [0.00569, 0.7006, 0.6327, 0.6649, 0.8237]\n",
      "e_14 * test rst: [0.00568, 0.6603, 0.7041, 0.6815, 0.8241]\n",
      "e_15 * test rst: [0.00576, 0.6910, 0.6276, 0.6578, 0.8239]\n",
      "Epoch    14: reducing learning rate of group 0 to 6.2500e-05.\n",
      "Epoch    14: reducing learning rate of group 1 to 6.2500e-05.\n",
      "e_16 * test rst: [0.00574, 0.6700, 0.6837, 0.6768, 0.8237]\n",
      "e_17 * test rst: [0.00578, 0.6634, 0.6939, 0.6783, 0.8234]\n",
      "e_18 * test rst: [0.00580, 0.6735, 0.6735, 0.6735, 0.8235]\n",
      "training end, used 35.76 s\n",
      "(0.005797962206506814, 0.673469387755102, 0.673469387755102, 0.673469387755102, 0.8234721681588166)\n",
      "total label sum 219.0\n",
      "cv, step 4\n",
      "500 562\n",
      "init model\n",
      "training begin\n",
      "e_1 * test rst: [0.00694, 1.0000, 0.0000, 0.0000, 0.7211]\n",
      "e_2 * test rst: [0.00576, 0.5371, 0.5562, 0.5465, 0.7493]\n",
      "e_3 * test rst: [0.00557, 0.6698, 0.4201, 0.5164, 0.7819]\n",
      "Epoch     2: reducing learning rate of group 0 to 5.0000e-04.\n",
      "Epoch     2: reducing learning rate of group 1 to 5.0000e-04.\n",
      "e_4 * test rst: [0.00563, 0.6545, 0.4260, 0.5161, 0.7806]\n",
      "e_5 * test rst: [0.00581, 0.7556, 0.4024, 0.5251, 0.7794]\n",
      "e_6 * test rst: [0.00540, 0.6640, 0.4911, 0.5646, 0.7842]\n",
      "e_7 * test rst: [0.00533, 0.6449, 0.5266, 0.5798, 0.7902]\n",
      "Epoch     6: reducing learning rate of group 0 to 2.5000e-04.\n",
      "Epoch     6: reducing learning rate of group 1 to 2.5000e-04.\n",
      "e_8 * test rst: [0.00599, 0.8250, 0.3905, 0.5301, 0.7897]\n",
      "e_9 * test rst: [0.00543, 0.6026, 0.5562, 0.5785, 0.7946]\n",
      "e_10 * test rst: [0.00551, 0.5988, 0.5917, 0.5952, 0.7922]\n",
      "e_11 * test rst: [0.00572, 0.6327, 0.5503, 0.5886, 0.7918]\n",
      "Epoch    10: reducing learning rate of group 0 to 1.2500e-04.\n",
      "Epoch    10: reducing learning rate of group 1 to 1.2500e-04.\n",
      "e_12 * test rst: [0.00580, 0.6742, 0.5266, 0.5914, 0.7904]\n",
      "e_13 * test rst: [0.00578, 0.6115, 0.5680, 0.5890, 0.7912]\n",
      "e_14 * test rst: [0.00589, 0.6069, 0.6213, 0.6140, 0.7904]\n",
      "e_15 * test rst: [0.00584, 0.6154, 0.5680, 0.5908, 0.7901]\n",
      "Epoch    14: reducing learning rate of group 0 to 6.2500e-05.\n",
      "Epoch    14: reducing learning rate of group 1 to 6.2500e-05.\n",
      "e_16 * test rst: [0.00588, 0.6414, 0.5503, 0.5924, 0.7900]\n",
      "e_17 * test rst: [0.00598, 0.6291, 0.5621, 0.5938, 0.7890]\n",
      "e_18 * test rst: [0.00602, 0.6458, 0.5503, 0.5942, 0.7885]\n",
      "training end, used 35.34 s\n",
      "(0.006022691938800744, 0.6458333333333334, 0.5502958579881657, 0.5942492012779553, 0.7885330562958279)\n",
      "total label sum 188.0\n",
      "cv, step 5\n",
      "500 562\n",
      "init model\n",
      "training begin\n",
      "e_1 * test rst: [0.00663, 1.0000, 0.0000, 0.0000, 0.8107]\n",
      "e_2 * test rst: [0.00546, 0.5325, 0.7455, 0.6212, 0.8082]\n",
      "e_3 * test rst: [0.00478, 0.7879, 0.4727, 0.5909, 0.8237]\n",
      "Epoch     2: reducing learning rate of group 0 to 5.0000e-04.\n",
      "Epoch     2: reducing learning rate of group 1 to 5.0000e-04.\n",
      "e_4 * test rst: [0.00471, 0.6348, 0.6848, 0.6589, 0.8256]\n",
      "e_5 * test rst: [0.00451, 0.7561, 0.5636, 0.6458, 0.8330]\n",
      "e_6 * test rst: [0.00484, 0.7417, 0.5394, 0.6246, 0.8205]\n",
      "e_7 * test rst: [0.00483, 0.8056, 0.5273, 0.6374, 0.8133]\n",
      "Epoch     6: reducing learning rate of group 0 to 2.5000e-04.\n",
      "Epoch     6: reducing learning rate of group 1 to 2.5000e-04.\n"
     ]
    },
    {
     "name": "stdout",
     "output_type": "stream",
     "text": [
      "e_8 * test rst: [0.00456, 0.7183, 0.6182, 0.6645, 0.8194]\n",
      "e_9 * test rst: [0.00472, 0.6437, 0.6788, 0.6608, 0.8247]\n",
      "e_10 * test rst: [0.00468, 0.6774, 0.6364, 0.6562, 0.8256]\n",
      "e_11 * test rst: [0.00536, 0.6122, 0.7273, 0.6648, 0.8238]\n",
      "Epoch    10: reducing learning rate of group 0 to 1.2500e-04.\n",
      "Epoch    10: reducing learning rate of group 1 to 1.2500e-04.\n",
      "e_12 * test rst: [0.00493, 0.6647, 0.6727, 0.6687, 0.8214]\n",
      "e_13 * test rst: [0.00483, 0.6818, 0.6364, 0.6583, 0.8221]\n",
      "e_14 * test rst: [0.00505, 0.6400, 0.6788, 0.6588, 0.8204]\n",
      "e_15 * test rst: [0.00501, 0.6667, 0.6667, 0.6667, 0.8181]\n",
      "Epoch    14: reducing learning rate of group 0 to 6.2500e-05.\n",
      "Epoch    14: reducing learning rate of group 1 to 6.2500e-05.\n",
      "e_16 * test rst: [0.00511, 0.6550, 0.6788, 0.6667, 0.8174]\n",
      "e_17 * test rst: [0.00501, 0.6792, 0.6545, 0.6667, 0.8161]\n",
      "e_18 * test rst: [0.00509, 0.6667, 0.6667, 0.6667, 0.8157]\n",
      "training end, used 35.70 s\n",
      "(0.005087302686162691, 0.6666666666666666, 0.6666666666666666, 0.6666666666666666, 0.8157316235401879)\n",
      "total label sum 184.5\n",
      "0.005229096509000124,0.6368715083798883,0.6705882352941176,0.6532951289398281,0.8324951354587637\n",
      "0.0054215119910123715,0.691358024691358,0.6588235294117647,0.674698795180723,0.8564286783415656\n",
      "0.005797962206506814,0.673469387755102,0.673469387755102,0.673469387755102,0.8234721681588166\n",
      "0.006022691938800744,0.6458333333333334,0.5502958579881657,0.5942492012779553,0.7885330562958279\n",
      "0.005087302686162691,0.6666666666666666,0.6666666666666666,0.6666666666666666,0.8157316235401879\n",
      "mean loss, prec, recall, f1, auc\n",
      "[0.005511713066296549, 0.6628397841652697, 0.6439687354231632, 0.652475835964055, 0.8233321323590322]\n",
      "mlt train ended\n",
      "0.663121,0.644828,0.653846,0.817134\n"
     ]
    }
   ],
   "source": [
    "train_s_sz = 500\n",
    "\n",
    "\n",
    "args.num_embedding = 64\n",
    "args.cnn_out_c = 100\n",
    "args.rnn_out_f_n = 68\n",
    "\n",
    "args.rnn_num_directions = 2\n",
    "args.rnn_layers = 2\n",
    "args.window_sizes = [2, 3, 4, 5]\n",
    "args.EB_dp = 0.3\n",
    "args.FC_dp = 0.1\n",
    "\n",
    "args.use_new_loss = False\n",
    "args.use_cls_loss = False\n",
    "\n",
    "\n",
    "\n",
    "args.epochs = 18\n",
    "args.warmup_epoch = 0\n",
    "args.patience_epoch = 3\n",
    "\n",
    "args.learning_rate = 1e-3\n",
    "args.adam_epsilon = 1e-8\n",
    "args.weight_decay = 1e-4\n",
    "args.max_grad_norm = 5.0\n",
    "args.lr_reduce_factor = .5\n",
    "args.threshold = .5\n",
    "args.lr_cooldown = 2\n",
    "args.use_loss_sh = False\n",
    "args.is_iterare_info = True\n",
    "\n",
    "args.l2_weight_decay = 1e-4\n",
    "\n",
    "config = set_model_config(args)\n",
    "    \n",
    "    \n",
    "    \n",
    "kf = KFold(n_splits=5)\n",
    "s_arr = []\n",
    "run_cls_df_l = []\n",
    "\n",
    "tar_feature = features_ann_1\n",
    "for idx, (train_dev_idx, test_idx) in enumerate(kf.split(tar_feature[1])):\n",
    "    train_dev_idx = train_dev_idx[:train_s_sz]\n",
    "    cv_train_dev_ds, cv_test_ds = convert_features_to_dataset_cv(tar_feature, train_dev_idx), \\\n",
    "                             convert_features_to_dataset_cv(tar_feature, test_idx)\n",
    "    \n",
    "    print('cv, step {}'.format(idx+1))\n",
    "    print(len(cv_train_dev_ds), len(cv_test_ds))\n",
    "    \n",
    "    train_dl = DataLoader(cv_train_dev_ds, batch_size=args.batch_size, shuffle=True)\n",
    "    test_dl = DataLoader(cv_test_ds, batch_size=args.batch_size)\n",
    "\n",
    "\n",
    "    model = Base_Net(config).to(device)\n",
    "    model_init_w(model)\n",
    "    optimizer, scheduler = init_model_optimizer(model, args)\n",
    "    _ = train(model, optimizer, scheduler, train_dl, None, args, test_dl, False)\n",
    "\n",
    "\n",
    "    #test\n",
    "    pred_l, tru_l, S, pre_o = eval(model, test_dl, args, 'test')\n",
    "    _, _, _, f1, auc = S\n",
    "    print(S)\n",
    "    \n",
    "    s_arr.append(list(S))\n",
    "    \n",
    "    y_info = tar_feature[1].iloc[test_idx].copy()\n",
    "    y_info['pred'] = pred_l\n",
    "    y_info['prob'] = pre_o\n",
    "    run_cls_df_l.append(y_info)\n",
    "    print('total label sum', sum(y_info.label))\n",
    "    \n",
    "mer_pd_rst = pd.concat(run_cls_df_l)\n",
    "s_arr = np.array(s_arr)\n",
    "\n",
    "for r in s_arr:\n",
    "    print(','.join([str(i) for i in r]))\n",
    "\n",
    "\n",
    "print('mean loss, prec, recall, f1, auc')\n",
    "print(list(np.mean(s_arr, axis=0)))\n",
    "print('mlt train ended')\n",
    "\n",
    "tru_l = mer_pd_rst['label'].to_numpy()\n",
    "tru_l[tru_l==.5] = 0\n",
    "pred_l = mer_pd_rst['pred'].to_numpy()\n",
    "pred_l[pred_l==.5] = 0\n",
    "pred_l = pred_l.astype(int)\n",
    "precision, recall, f1, _ = \\\n",
    "                    precision_recall_fscore_support(tru_l, pred_l, average='binary',zero_division=1)\n",
    "auc_s = roc_auc_score(mer_pd_rst['label'].to_numpy(), mer_pd_rst['prob'].to_numpy())\n",
    "print('%f,%f,%f,%f' % (precision, recall, f1, auc_s))\n",
    "\n"
   ]
  },
  {
   "cell_type": "code",
   "execution_count": 34,
   "metadata": {},
   "outputs": [
    {
     "name": "stdout",
     "output_type": "stream",
     "text": [
      "config ----------------\n",
      "{'EB_dp': 0.3,\n",
      " 'FC_dp': 0.1,\n",
      " 'adam_epsilon': 1e-08,\n",
      " 'batch_size': 32,\n",
      " 'cnn_out_c': 100,\n",
      " 'device': device(type='cuda'),\n",
      " 'epochs': 18,\n",
      " 'l2_weight_decay': 0.0001,\n",
      " 'learning_rate': 0.001,\n",
      " 'lr_cooldown': 2,\n",
      " 'lr_reduce_factor': 0.5,\n",
      " 'max_grad_norm': 5.0,\n",
      " 'max_token_n': 54,\n",
      " 'not_x_feature': False,\n",
      " 'num_embedding': 64,\n",
      " 'num_words': 82949,\n",
      " 'patience_epoch': 3,\n",
      " 'rnn_layers': 2,\n",
      " 'rnn_num_directions': 2,\n",
      " 'rnn_out_f_n': 68,\n",
      " 'threshold': 0.5,\n",
      " 'use_new_loss': False,\n",
      " 'warmup_epoch': 0,\n",
      " 'weight_decay': 0.0001,\n",
      " 'window_sizes': [2, 3, 4, 5]}\n",
      "       ----------------\n",
      "cv, step 1\n",
      "1000 563\n",
      "init model\n",
      "training begin\n",
      "e_1 * test rst: [0.00485, 0.7217, 0.4882, 0.5825, 0.8195]\n",
      "e_2 * test rst: [0.00607, 0.8393, 0.2765, 0.4159, 0.8056]\n",
      "e_3 * test rst: [0.00451, 0.6486, 0.7059, 0.6761, 0.8342]\n",
      "Epoch     2: reducing learning rate of group 0 to 5.0000e-04.\n",
      "Epoch     2: reducing learning rate of group 1 to 5.0000e-04.\n",
      "e_4 * test rst: [0.00465, 0.7133, 0.6294, 0.6687, 0.8307]\n",
      "e_5 * test rst: [0.00477, 0.6425, 0.6765, 0.6590, 0.8305]\n",
      "e_6 * test rst: [0.00478, 0.6848, 0.6647, 0.6746, 0.8347]\n",
      "e_7 * test rst: [0.00495, 0.6313, 0.7353, 0.6793, 0.8351]\n",
      "Epoch     6: reducing learning rate of group 0 to 2.5000e-04.\n",
      "Epoch     6: reducing learning rate of group 1 to 2.5000e-04.\n",
      "e_8 * test rst: [0.00491, 0.6805, 0.6765, 0.6785, 0.8346]\n",
      "e_9 * test rst: [0.00508, 0.6704, 0.7059, 0.6877, 0.8326]\n",
      "e_10 * test rst: [0.00513, 0.6826, 0.6706, 0.6766, 0.8320]\n",
      "e_11 * test rst: [0.00538, 0.6181, 0.7235, 0.6667, 0.8312]\n",
      "Epoch    10: reducing learning rate of group 0 to 1.2500e-04.\n",
      "Epoch    10: reducing learning rate of group 1 to 1.2500e-04.\n",
      "e_12 * test rst: [0.00519, 0.6614, 0.7353, 0.6964, 0.8341]\n",
      "e_13 * test rst: [0.00531, 0.6219, 0.7353, 0.6739, 0.8329]\n",
      "e_14 * test rst: [0.00532, 0.6188, 0.7353, 0.6720, 0.8339]\n",
      "e_15 * test rst: [0.00522, 0.6802, 0.6882, 0.6842, 0.8343]\n",
      "Epoch    14: reducing learning rate of group 0 to 6.2500e-05.\n",
      "Epoch    14: reducing learning rate of group 1 to 6.2500e-05.\n",
      "e_16 * test rst: [0.00528, 0.6458, 0.7294, 0.6851, 0.8342]\n",
      "e_17 * test rst: [0.00533, 0.6474, 0.7235, 0.6833, 0.8337]\n",
      "e_18 * test rst: [0.00529, 0.6782, 0.6941, 0.6860, 0.8337]\n",
      "training end, used 66.00 s\n",
      "(0.005289771681780501, 0.6781609195402298, 0.6941176470588235, 0.6860465116279069, 0.8336775931746745)\n",
      "total label sum 197.5\n",
      "cv, step 2\n",
      "1000 563\n",
      "init model\n",
      "training begin\n",
      "e_1 * test rst: [0.00504, 0.6458, 0.7294, 0.6851, 0.8538]\n",
      "e_2 * test rst: [0.00519, 0.7553, 0.4176, 0.5379, 0.8401]\n",
      "e_3 * test rst: [0.00459, 0.6263, 0.7294, 0.6739, 0.8540]\n",
      "Epoch     2: reducing learning rate of group 0 to 5.0000e-04.\n",
      "Epoch     2: reducing learning rate of group 1 to 5.0000e-04.\n",
      "e_4 * test rst: [0.00503, 0.6386, 0.7588, 0.6935, 0.8646]\n",
      "e_5 * test rst: [0.00492, 0.6954, 0.6176, 0.6542, 0.8646]\n",
      "e_6 * test rst: [0.00539, 0.6055, 0.7765, 0.6804, 0.8671]\n",
      "e_7 * test rst: [0.00492, 0.6790, 0.6471, 0.6627, 0.8671]\n",
      "Epoch     6: reducing learning rate of group 0 to 2.5000e-04.\n",
      "Epoch     6: reducing learning rate of group 1 to 2.5000e-04.\n",
      "e_8 * test rst: [0.00501, 0.6730, 0.6294, 0.6505, 0.8628]\n",
      "e_9 * test rst: [0.00496, 0.6522, 0.7059, 0.6780, 0.8691]\n",
      "e_10 * test rst: [0.00519, 0.6867, 0.6706, 0.6786, 0.8626]\n",
      "e_11 * test rst: [0.00507, 0.6489, 0.7176, 0.6816, 0.8717]\n",
      "Epoch    10: reducing learning rate of group 0 to 1.2500e-04.\n",
      "Epoch    10: reducing learning rate of group 1 to 1.2500e-04.\n",
      "e_12 * test rst: [0.00517, 0.6871, 0.6588, 0.6727, 0.8656]\n",
      "e_13 * test rst: [0.00516, 0.6890, 0.6647, 0.6766, 0.8656]\n",
      "e_14 * test rst: [0.00526, 0.6918, 0.6471, 0.6687, 0.8629]\n",
      "e_15 * test rst: [0.00518, 0.6780, 0.7059, 0.6916, 0.8689]\n",
      "Epoch    14: reducing learning rate of group 0 to 6.2500e-05.\n",
      "Epoch    14: reducing learning rate of group 1 to 6.2500e-05.\n",
      "e_16 * test rst: [0.00520, 0.6848, 0.6647, 0.6746, 0.8654]\n",
      "e_17 * test rst: [0.00525, 0.6848, 0.6647, 0.6746, 0.8645]\n",
      "e_18 * test rst: [0.00523, 0.6905, 0.6824, 0.6864, 0.8656]\n",
      "training end, used 66.23 s\n",
      "(0.005232901790478725, 0.6904761904761905, 0.6823529411764706, 0.6863905325443787, 0.8656189193234545)\n",
      "total label sum 186.5\n",
      "cv, step 3\n",
      "1000 563\n",
      "init model\n",
      "training begin\n",
      "e_1 * test rst: [0.00639, 0.5151, 0.7857, 0.6222, 0.7895]\n",
      "e_2 * test rst: [0.00553, 0.5755, 0.7194, 0.6395, 0.8023]\n",
      "e_3 * test rst: [0.00514, 0.7557, 0.5051, 0.6055, 0.8105]\n",
      "Epoch     2: reducing learning rate of group 0 to 5.0000e-04.\n",
      "Epoch     2: reducing learning rate of group 1 to 5.0000e-04.\n",
      "e_4 * test rst: [0.00574, 0.5924, 0.7194, 0.6498, 0.8186]\n",
      "e_5 * test rst: [0.00539, 0.6667, 0.6633, 0.6650, 0.8097]\n",
      "e_6 * test rst: [0.00600, 0.7372, 0.5153, 0.6066, 0.8128]\n",
      "e_7 * test rst: [0.00606, 0.6250, 0.7143, 0.6667, 0.8085]\n",
      "Epoch     6: reducing learning rate of group 0 to 2.5000e-04.\n",
      "Epoch     6: reducing learning rate of group 1 to 2.5000e-04.\n",
      "e_8 * test rst: [0.00598, 0.6703, 0.6224, 0.6455, 0.8084]\n",
      "e_9 * test rst: [0.00637, 0.6099, 0.6939, 0.6492, 0.8091]\n",
      "e_10 * test rst: [0.00626, 0.6505, 0.6837, 0.6667, 0.8090]\n",
      "e_11 * test rst: [0.00652, 0.5950, 0.7347, 0.6575, 0.8079]\n",
      "Epoch    10: reducing learning rate of group 0 to 1.2500e-04.\n",
      "Epoch    10: reducing learning rate of group 1 to 1.2500e-04.\n",
      "e_12 * test rst: [0.00626, 0.6351, 0.6837, 0.6585, 0.8105]\n",
      "e_13 * test rst: [0.00635, 0.6326, 0.6939, 0.6618, 0.8090]\n",
      "e_14 * test rst: [0.00633, 0.6337, 0.6531, 0.6432, 0.8101]\n",
      "e_15 * test rst: [0.00632, 0.6359, 0.6684, 0.6517, 0.8107]\n",
      "Epoch    14: reducing learning rate of group 0 to 6.2500e-05.\n",
      "Epoch    14: reducing learning rate of group 1 to 6.2500e-05.\n",
      "e_16 * test rst: [0.00640, 0.6414, 0.6480, 0.6447, 0.8114]\n",
      "e_17 * test rst: [0.00648, 0.6324, 0.6582, 0.6450, 0.8115]\n",
      "e_18 * test rst: [0.00653, 0.6308, 0.6888, 0.6585, 0.8120]\n",
      "training end, used 66.47 s\n",
      "(0.006530242361670912, 0.6308411214953271, 0.6887755102040817, 0.6585365853658538, 0.8120308068731579)\n",
      "total label sum 219.0\n",
      "cv, step 4\n",
      "1000 562\n",
      "init model\n",
      "training begin\n",
      "e_1 * test rst: [0.00591, 0.5381, 0.6686, 0.5963, 0.7505]\n",
      "e_2 * test rst: [0.00540, 0.5741, 0.5503, 0.5619, 0.7731]\n",
      "e_3 * test rst: [0.00610, 0.8333, 0.2367, 0.3687, 0.7810]\n",
      "Epoch     2: reducing learning rate of group 0 to 5.0000e-04.\n",
      "Epoch     2: reducing learning rate of group 1 to 5.0000e-04.\n",
      "e_4 * test rst: [0.00525, 0.6168, 0.6095, 0.6131, 0.7863]\n",
      "e_5 * test rst: [0.00518, 0.6506, 0.6391, 0.6448, 0.7865]\n",
      "e_6 * test rst: [0.00553, 0.6150, 0.6805, 0.6461, 0.7868]\n",
      "e_7 * test rst: [0.00528, 0.6917, 0.5444, 0.6093, 0.7911]\n",
      "Epoch     6: reducing learning rate of group 0 to 2.5000e-04.\n",
      "Epoch     6: reducing learning rate of group 1 to 2.5000e-04.\n",
      "e_8 * test rst: [0.00542, 0.6603, 0.6095, 0.6338, 0.7901]\n",
      "e_9 * test rst: [0.00553, 0.6337, 0.6450, 0.6393, 0.7893]\n",
      "e_10 * test rst: [0.00555, 0.6456, 0.6036, 0.6239, 0.7879]\n",
      "e_11 * test rst: [0.00562, 0.6689, 0.5976, 0.6313, 0.7900]\n",
      "Epoch    10: reducing learning rate of group 0 to 1.2500e-04.\n",
      "Epoch    10: reducing learning rate of group 1 to 1.2500e-04.\n",
      "e_12 * test rst: [0.00560, 0.6478, 0.6095, 0.6280, 0.7882]\n",
      "e_13 * test rst: [0.00583, 0.6412, 0.6450, 0.6431, 0.7865]\n",
      "e_14 * test rst: [0.00575, 0.6380, 0.6154, 0.6265, 0.7877]\n",
      "e_15 * test rst: [0.00580, 0.6375, 0.6036, 0.6201, 0.7877]\n",
      "Epoch    14: reducing learning rate of group 0 to 6.2500e-05.\n",
      "Epoch    14: reducing learning rate of group 1 to 6.2500e-05.\n",
      "e_16 * test rst: [0.00586, 0.6398, 0.6095, 0.6242, 0.7867]\n",
      "e_17 * test rst: [0.00590, 0.6398, 0.6095, 0.6242, 0.7864]\n",
      "e_18 * test rst: [0.00588, 0.6398, 0.6095, 0.6242, 0.7869]\n",
      "training end, used 65.67 s\n",
      "(0.005878518484665406, 0.639751552795031, 0.6094674556213018, 0.6242424242424243, 0.7868919102037129)\n",
      "total label sum 188.0\n",
      "cv, step 5\n",
      "1000 562\n",
      "init model\n",
      "training begin\n",
      "e_1 * test rst: [0.00515, 0.7043, 0.4909, 0.5786, 0.7864]\n",
      "e_2 * test rst: [0.00470, 0.7333, 0.5333, 0.6175, 0.8125]\n",
      "e_3 * test rst: [0.00459, 0.6886, 0.6970, 0.6928, 0.8417]\n",
      "Epoch     2: reducing learning rate of group 0 to 5.0000e-04.\n",
      "Epoch     2: reducing learning rate of group 1 to 5.0000e-04.\n",
      "e_4 * test rst: [0.00537, 0.5857, 0.7455, 0.6560, 0.8353]\n",
      "e_5 * test rst: [0.00471, 0.6590, 0.6909, 0.6746, 0.8332]\n",
      "e_6 * test rst: [0.00462, 0.7051, 0.6667, 0.6854, 0.8346]\n",
      "e_7 * test rst: [0.00473, 0.7192, 0.6364, 0.6752, 0.8258]\n",
      "Epoch     6: reducing learning rate of group 0 to 2.5000e-04.\n",
      "Epoch     6: reducing learning rate of group 1 to 2.5000e-04.\n"
     ]
    },
    {
     "name": "stdout",
     "output_type": "stream",
     "text": [
      "e_8 * test rst: [0.00540, 0.6000, 0.7636, 0.6720, 0.8324]\n",
      "e_9 * test rst: [0.00500, 0.6505, 0.7333, 0.6895, 0.8287]\n",
      "e_10 * test rst: [0.00470, 0.7025, 0.6727, 0.6873, 0.8266]\n",
      "e_11 * test rst: [0.00506, 0.6536, 0.7091, 0.6802, 0.8275]\n",
      "Epoch    10: reducing learning rate of group 0 to 1.2500e-04.\n",
      "Epoch    10: reducing learning rate of group 1 to 1.2500e-04.\n",
      "e_12 * test rst: [0.00511, 0.6500, 0.7091, 0.6783, 0.8273]\n",
      "e_13 * test rst: [0.00516, 0.6556, 0.7152, 0.6841, 0.8249]\n",
      "e_14 * test rst: [0.00510, 0.6628, 0.6909, 0.6766, 0.8235]\n",
      "e_15 * test rst: [0.00514, 0.6667, 0.7030, 0.6844, 0.8236]\n",
      "Epoch    14: reducing learning rate of group 0 to 6.2500e-05.\n",
      "Epoch    14: reducing learning rate of group 1 to 6.2500e-05.\n",
      "e_16 * test rst: [0.00522, 0.6591, 0.7030, 0.6804, 0.8225]\n",
      "e_17 * test rst: [0.00530, 0.6591, 0.7030, 0.6804, 0.8221]\n",
      "e_18 * test rst: [0.00535, 0.6517, 0.7030, 0.6764, 0.8218]\n",
      "training end, used 66.00 s\n",
      "(0.005351491743082254, 0.651685393258427, 0.703030303030303, 0.6763848396501458, 0.8218303946263643)\n",
      "total label sum 184.5\n",
      "0.005289771681780501,0.6781609195402298,0.6941176470588235,0.6860465116279069,0.8336775931746745\n",
      "0.005232901790478725,0.6904761904761905,0.6823529411764706,0.6863905325443787,0.8656189193234545\n",
      "0.006530242361670912,0.6308411214953271,0.6887755102040817,0.6585365853658538,0.8120308068731579\n",
      "0.005878518484665406,0.639751552795031,0.6094674556213018,0.6242424242424243,0.7868919102037129\n",
      "0.005351491743082254,0.651685393258427,0.703030303030303,0.6763848396501458,0.8218303946263643\n",
      "mean loss, prec, recall, f1, auc\n",
      "[0.00565658521233556, 0.658183035513041, 0.6755487714181962, 0.6663201786861419, 0.8240099248402728]\n",
      "mlt train ended\n",
      "0.656983,0.675862,0.666289,0.816887\n"
     ]
    }
   ],
   "source": [
    "train_s_sz = 1000\n",
    "\n",
    "\n",
    "args.num_embedding = 64\n",
    "args.cnn_out_c = 100\n",
    "args.rnn_out_f_n = 68\n",
    "\n",
    "args.rnn_num_directions = 2\n",
    "args.rnn_layers = 2\n",
    "args.window_sizes = [2, 3, 4, 5]\n",
    "args.EB_dp = 0.3\n",
    "args.FC_dp = 0.1\n",
    "\n",
    "args.use_new_loss = False\n",
    "args.use_cls_loss = False\n",
    "\n",
    "\n",
    "\n",
    "args.epochs = 18\n",
    "args.warmup_epoch = 0\n",
    "args.patience_epoch = 3\n",
    "\n",
    "args.learning_rate = 1e-3\n",
    "args.adam_epsilon = 1e-8\n",
    "args.weight_decay = 1e-4\n",
    "args.max_grad_norm = 5.0\n",
    "args.lr_reduce_factor = .5\n",
    "args.threshold = .5\n",
    "args.lr_cooldown = 2\n",
    "args.use_loss_sh = False\n",
    "args.is_iterare_info = True\n",
    "\n",
    "args.l2_weight_decay = 1e-4\n",
    "\n",
    "config = set_model_config(args)\n",
    "    \n",
    "    \n",
    "    \n",
    "kf = KFold(n_splits=5)\n",
    "s_arr = []\n",
    "run_cls_df_l = []\n",
    "\n",
    "tar_feature = features_ann_1\n",
    "for idx, (train_dev_idx, test_idx) in enumerate(kf.split(tar_feature[1])):\n",
    "    train_dev_idx = train_dev_idx[:train_s_sz]\n",
    "    cv_train_dev_ds, cv_test_ds = convert_features_to_dataset_cv(tar_feature, train_dev_idx), \\\n",
    "                             convert_features_to_dataset_cv(tar_feature, test_idx)\n",
    "    \n",
    "    print('cv, step {}'.format(idx+1))\n",
    "    print(len(cv_train_dev_ds), len(cv_test_ds))\n",
    "    \n",
    "    train_dl = DataLoader(cv_train_dev_ds, batch_size=args.batch_size, shuffle=True)\n",
    "    test_dl = DataLoader(cv_test_ds, batch_size=args.batch_size)\n",
    "\n",
    "\n",
    "    model = Base_Net(config).to(device)\n",
    "    model_init_w(model)\n",
    "    optimizer, scheduler = init_model_optimizer(model, args)\n",
    "    _ = train(model, optimizer, scheduler, train_dl, None, args, test_dl, False)\n",
    "\n",
    "\n",
    "    #test\n",
    "    pred_l, tru_l, S, pre_o = eval(model, test_dl, args, 'test')\n",
    "    _, _, _, f1, auc = S\n",
    "    print(S)\n",
    "    \n",
    "    s_arr.append(list(S))\n",
    "    \n",
    "    y_info = tar_feature[1].iloc[test_idx].copy()\n",
    "    y_info['pred'] = pred_l\n",
    "    y_info['prob'] = pre_o\n",
    "    run_cls_df_l.append(y_info)\n",
    "    print('total label sum', sum(y_info.label))\n",
    "    \n",
    "mer_pd_rst = pd.concat(run_cls_df_l)\n",
    "s_arr = np.array(s_arr)\n",
    "\n",
    "for r in s_arr:\n",
    "    print(','.join([str(i) for i in r]))\n",
    "\n",
    "\n",
    "print('mean loss, prec, recall, f1, auc')\n",
    "print(list(np.mean(s_arr, axis=0)))\n",
    "print('mlt train ended')\n",
    "\n",
    "tru_l = mer_pd_rst['label'].to_numpy()\n",
    "tru_l[tru_l==.5] = 0\n",
    "pred_l = mer_pd_rst['pred'].to_numpy()\n",
    "pred_l[pred_l==.5] = 0\n",
    "pred_l = pred_l.astype(int)\n",
    "precision, recall, f1, _ = \\\n",
    "                    precision_recall_fscore_support(tru_l, pred_l, average='binary',zero_division=1)\n",
    "auc_s = roc_auc_score(mer_pd_rst['label'].to_numpy(), mer_pd_rst['prob'].to_numpy())\n",
    "print('%f,%f,%f,%f' % (precision, recall, f1, auc_s))\n",
    "\n"
   ]
  },
  {
   "cell_type": "code",
   "execution_count": 35,
   "metadata": {},
   "outputs": [
    {
     "name": "stdout",
     "output_type": "stream",
     "text": [
      "config ----------------\n",
      "{'EB_dp': 0.3,\n",
      " 'FC_dp': 0.1,\n",
      " 'adam_epsilon': 1e-08,\n",
      " 'batch_size': 32,\n",
      " 'cnn_out_c': 100,\n",
      " 'device': device(type='cuda'),\n",
      " 'epochs': 18,\n",
      " 'l2_weight_decay': 0.0001,\n",
      " 'learning_rate': 0.001,\n",
      " 'lr_cooldown': 2,\n",
      " 'lr_reduce_factor': 0.5,\n",
      " 'max_grad_norm': 5.0,\n",
      " 'max_token_n': 54,\n",
      " 'not_x_feature': False,\n",
      " 'num_embedding': 64,\n",
      " 'num_words': 82949,\n",
      " 'patience_epoch': 3,\n",
      " 'rnn_layers': 2,\n",
      " 'rnn_num_directions': 2,\n",
      " 'rnn_out_f_n': 68,\n",
      " 'threshold': 0.5,\n",
      " 'use_new_loss': False,\n",
      " 'warmup_epoch': 0,\n",
      " 'weight_decay': 0.0001,\n",
      " 'window_sizes': [2, 3, 4, 5]}\n",
      "       ----------------\n",
      "cv, step 1\n",
      "1500 563\n",
      "init model\n",
      "training begin\n",
      "e_1 * test rst: [0.00494, 0.6601, 0.5941, 0.6254, 0.8121]\n",
      "e_2 * test rst: [0.00476, 0.7524, 0.4647, 0.5745, 0.8259]\n",
      "e_3 * test rst: [0.00442, 0.7107, 0.6647, 0.6869, 0.8380]\n",
      "Epoch     2: reducing learning rate of group 0 to 5.0000e-04.\n",
      "Epoch     2: reducing learning rate of group 1 to 5.0000e-04.\n",
      "e_4 * test rst: [0.00476, 0.7698, 0.5706, 0.6554, 0.8423]\n",
      "e_5 * test rst: [0.00515, 0.5422, 0.7941, 0.6444, 0.8405]\n",
      "e_6 * test rst: [0.00461, 0.6095, 0.7529, 0.6737, 0.8430]\n",
      "e_7 * test rst: [0.00480, 0.7778, 0.5765, 0.6622, 0.8427]\n",
      "Epoch     6: reducing learning rate of group 0 to 2.5000e-04.\n",
      "Epoch     6: reducing learning rate of group 1 to 2.5000e-04.\n",
      "e_8 * test rst: [0.00465, 0.7063, 0.6647, 0.6848, 0.8443]\n",
      "e_9 * test rst: [0.00477, 0.6821, 0.6941, 0.6880, 0.8429]\n",
      "e_10 * test rst: [0.00480, 0.6842, 0.6882, 0.6862, 0.8449]\n",
      "e_11 * test rst: [0.00482, 0.7467, 0.6588, 0.7000, 0.8408]\n",
      "Epoch    10: reducing learning rate of group 0 to 1.2500e-04.\n",
      "Epoch    10: reducing learning rate of group 1 to 1.2500e-04.\n",
      "e_12 * test rst: [0.00485, 0.6933, 0.6647, 0.6787, 0.8430]\n",
      "e_13 * test rst: [0.00508, 0.6443, 0.7353, 0.6868, 0.8420]\n",
      "e_14 * test rst: [0.00484, 0.6890, 0.6647, 0.6766, 0.8434]\n",
      "e_15 * test rst: [0.00491, 0.6933, 0.6647, 0.6787, 0.8412]\n",
      "Epoch    14: reducing learning rate of group 0 to 6.2500e-05.\n",
      "Epoch    14: reducing learning rate of group 1 to 6.2500e-05.\n",
      "e_16 * test rst: [0.00491, 0.6864, 0.6824, 0.6844, 0.8428]\n",
      "e_17 * test rst: [0.00494, 0.6839, 0.7000, 0.6919, 0.8434]\n",
      "e_18 * test rst: [0.00494, 0.6786, 0.6706, 0.6746, 0.8428]\n",
      "training end, used 97.34 s\n",
      "(0.004939408221846152, 0.6785714285714286, 0.6705882352941176, 0.6745562130177514, 0.8427929950606197)\n",
      "total label sum 197.5\n",
      "cv, step 2\n",
      "1500 563\n",
      "init model\n",
      "training begin\n",
      "e_1 * test rst: [0.00521, 0.8158, 0.3647, 0.5041, 0.8377]\n",
      "e_2 * test rst: [0.00484, 0.6527, 0.6412, 0.6469, 0.8502]\n",
      "e_3 * test rst: [0.00497, 0.6359, 0.7294, 0.6795, 0.8497]\n",
      "Epoch     2: reducing learning rate of group 0 to 5.0000e-04.\n",
      "Epoch     2: reducing learning rate of group 1 to 5.0000e-04.\n",
      "e_4 * test rst: [0.00493, 0.6772, 0.6294, 0.6524, 0.8583]\n",
      "e_5 * test rst: [0.00510, 0.6957, 0.6588, 0.6767, 0.8571]\n",
      "e_6 * test rst: [0.00482, 0.6852, 0.6529, 0.6687, 0.8605]\n",
      "e_7 * test rst: [0.00558, 0.6231, 0.7294, 0.6721, 0.8565]\n",
      "Epoch     6: reducing learning rate of group 0 to 2.5000e-04.\n",
      "Epoch     6: reducing learning rate of group 1 to 2.5000e-04.\n",
      "e_8 * test rst: [0.00516, 0.7115, 0.6529, 0.6810, 0.8550]\n",
      "e_9 * test rst: [0.00524, 0.6524, 0.7176, 0.6835, 0.8595]\n",
      "e_10 * test rst: [0.00522, 0.6933, 0.6647, 0.6787, 0.8583]\n",
      "e_11 * test rst: [0.00548, 0.6685, 0.7118, 0.6895, 0.8612]\n",
      "Epoch    10: reducing learning rate of group 0 to 1.2500e-04.\n",
      "Epoch    10: reducing learning rate of group 1 to 1.2500e-04.\n",
      "e_12 * test rst: [0.00537, 0.6611, 0.7000, 0.6800, 0.8599]\n",
      "e_13 * test rst: [0.00546, 0.6611, 0.7000, 0.6800, 0.8589]\n",
      "e_14 * test rst: [0.00536, 0.6824, 0.6824, 0.6824, 0.8588]\n",
      "e_15 * test rst: [0.00538, 0.6705, 0.6824, 0.6764, 0.8597]\n",
      "Epoch    14: reducing learning rate of group 0 to 6.2500e-05.\n",
      "Epoch    14: reducing learning rate of group 1 to 6.2500e-05.\n",
      "e_16 * test rst: [0.00544, 0.6648, 0.7118, 0.6875, 0.8614]\n",
      "e_17 * test rst: [0.00539, 0.6743, 0.6941, 0.6841, 0.8602]\n",
      "e_18 * test rst: [0.00546, 0.6648, 0.7118, 0.6875, 0.8607]\n",
      "training end, used 96.57 s\n",
      "(0.0054589010523648715, 0.6648351648351648, 0.711764705882353, 0.6875, 0.8606945068103578)\n",
      "total label sum 186.5\n",
      "cv, step 3\n",
      "1500 563\n",
      "init model\n",
      "training begin\n",
      "e_1 * test rst: [0.00521, 0.7308, 0.5816, 0.6477, 0.8254]\n",
      "e_2 * test rst: [0.00493, 0.7208, 0.5663, 0.6343, 0.8287]\n",
      "e_3 * test rst: [0.00625, 0.4916, 0.8929, 0.6341, 0.8325]\n",
      "Epoch     2: reducing learning rate of group 0 to 5.0000e-04.\n",
      "Epoch     2: reducing learning rate of group 1 to 5.0000e-04.\n",
      "e_4 * test rst: [0.00500, 0.6333, 0.7755, 0.6972, 0.8411]\n",
      "e_5 * test rst: [0.00490, 0.6711, 0.7806, 0.7217, 0.8445]\n",
      "e_6 * test rst: [0.00526, 0.6954, 0.6990, 0.6972, 0.8458]\n",
      "e_7 * test rst: [0.00531, 0.6593, 0.7602, 0.7062, 0.8381]\n",
      "Epoch     6: reducing learning rate of group 0 to 2.5000e-04.\n",
      "Epoch     6: reducing learning rate of group 1 to 2.5000e-04.\n",
      "e_8 * test rst: [0.00530, 0.6757, 0.7653, 0.7177, 0.8402]\n",
      "e_9 * test rst: [0.00542, 0.6773, 0.7602, 0.7163, 0.8383]\n",
      "e_10 * test rst: [0.00566, 0.6456, 0.7806, 0.7067, 0.8362]\n",
      "e_11 * test rst: [0.00592, 0.6062, 0.8010, 0.6901, 0.8348]\n",
      "Epoch    10: reducing learning rate of group 0 to 1.2500e-04.\n",
      "Epoch    10: reducing learning rate of group 1 to 1.2500e-04.\n",
      "e_12 * test rst: [0.00564, 0.6837, 0.7500, 0.7153, 0.8365]\n",
      "e_13 * test rst: [0.00568, 0.6806, 0.7500, 0.7136, 0.8368]\n",
      "e_14 * test rst: [0.00579, 0.6759, 0.7449, 0.7087, 0.8364]\n",
      "e_15 * test rst: [0.00581, 0.6834, 0.6939, 0.6886, 0.8359]\n",
      "Epoch    14: reducing learning rate of group 0 to 6.2500e-05.\n",
      "Epoch    14: reducing learning rate of group 1 to 6.2500e-05.\n",
      "e_16 * test rst: [0.00580, 0.6774, 0.7500, 0.7119, 0.8345]\n",
      "e_17 * test rst: [0.00582, 0.6779, 0.7194, 0.6980, 0.8350]\n",
      "e_18 * test rst: [0.00588, 0.6794, 0.7245, 0.7012, 0.8352]\n",
      "training end, used 96.92 s\n",
      "(0.00587733550457082, 0.6794258373205742, 0.7244897959183674, 0.7012345679012346, 0.8351637657787911)\n",
      "total label sum 219.0\n",
      "cv, step 4\n",
      "1500 562\n",
      "init model\n",
      "training begin\n",
      "e_1 * test rst: [0.00558, 0.6557, 0.4734, 0.5498, 0.7678]\n",
      "e_2 * test rst: [0.00537, 0.5942, 0.4852, 0.5342, 0.7749]\n",
      "e_3 * test rst: [0.00507, 0.6420, 0.6154, 0.6284, 0.8005]\n",
      "Epoch     2: reducing learning rate of group 0 to 5.0000e-04.\n",
      "Epoch     2: reducing learning rate of group 1 to 5.0000e-04.\n",
      "e_4 * test rst: [0.00523, 0.6714, 0.5562, 0.6084, 0.7977]\n",
      "e_5 * test rst: [0.00567, 0.6415, 0.6036, 0.6220, 0.8027]\n",
      "e_6 * test rst: [0.00557, 0.6507, 0.5621, 0.6032, 0.7991]\n",
      "e_7 * test rst: [0.00549, 0.5989, 0.6627, 0.6292, 0.8041]\n",
      "Epoch     6: reducing learning rate of group 0 to 2.5000e-04.\n",
      "Epoch     6: reducing learning rate of group 1 to 2.5000e-04.\n",
      "e_8 * test rst: [0.00567, 0.6600, 0.5858, 0.6207, 0.8006]\n",
      "e_9 * test rst: [0.00566, 0.6442, 0.6213, 0.6325, 0.8016]\n",
      "e_10 * test rst: [0.00584, 0.6337, 0.6450, 0.6393, 0.8018]\n",
      "e_11 * test rst: [0.00589, 0.6424, 0.6272, 0.6347, 0.8026]\n",
      "Epoch    10: reducing learning rate of group 0 to 1.2500e-04.\n",
      "Epoch    10: reducing learning rate of group 1 to 1.2500e-04.\n",
      "e_12 * test rst: [0.00576, 0.6541, 0.6154, 0.6341, 0.8034]\n",
      "e_13 * test rst: [0.00583, 0.6689, 0.5976, 0.6313, 0.8030]\n",
      "e_14 * test rst: [0.00579, 0.6538, 0.6036, 0.6277, 0.8042]\n",
      "e_15 * test rst: [0.00589, 0.6601, 0.5976, 0.6273, 0.8040]\n",
      "Epoch    14: reducing learning rate of group 0 to 6.2500e-05.\n",
      "Epoch    14: reducing learning rate of group 1 to 6.2500e-05.\n",
      "e_16 * test rst: [0.00589, 0.6541, 0.6154, 0.6341, 0.8040]\n",
      "e_17 * test rst: [0.00589, 0.6538, 0.6036, 0.6277, 0.8036]\n",
      "e_18 * test rst: [0.00590, 0.6623, 0.6036, 0.6316, 0.8038]\n",
      "training end, used 97.29 s\n",
      "(0.00590137111228556, 0.6623376623376623, 0.6035502958579881, 0.631578947368421, 0.8037701190960145)\n",
      "total label sum 188.0\n",
      "cv, step 5\n",
      "1500 562\n",
      "init model\n",
      "training begin\n",
      "e_1 * test rst: [0.00531, 0.5368, 0.7515, 0.6263, 0.8154]\n",
      "e_2 * test rst: [0.00477, 0.6103, 0.7212, 0.6611, 0.8283]\n",
      "e_3 * test rst: [0.00455, 0.7768, 0.5273, 0.6282, 0.8461]\n",
      "Epoch     2: reducing learning rate of group 0 to 5.0000e-04.\n",
      "Epoch     2: reducing learning rate of group 1 to 5.0000e-04.\n",
      "e_4 * test rst: [0.00438, 0.6613, 0.7455, 0.7009, 0.8560]\n",
      "e_5 * test rst: [0.00449, 0.6758, 0.7455, 0.7089, 0.8529]\n",
      "e_6 * test rst: [0.00431, 0.7035, 0.7333, 0.7181, 0.8498]\n",
      "e_7 * test rst: [0.00447, 0.7143, 0.7273, 0.7207, 0.8509]\n",
      "Epoch     6: reducing learning rate of group 0 to 2.5000e-04.\n",
      "Epoch     6: reducing learning rate of group 1 to 2.5000e-04.\n"
     ]
    },
    {
     "name": "stdout",
     "output_type": "stream",
     "text": [
      "e_8 * test rst: [0.00461, 0.6949, 0.7455, 0.7193, 0.8482]\n",
      "e_9 * test rst: [0.00458, 0.7284, 0.7152, 0.7217, 0.8423]\n",
      "e_10 * test rst: [0.00466, 0.7093, 0.7394, 0.7240, 0.8369]\n",
      "e_11 * test rst: [0.00473, 0.6954, 0.7333, 0.7139, 0.8374]\n",
      "Epoch    10: reducing learning rate of group 0 to 1.2500e-04.\n",
      "Epoch    10: reducing learning rate of group 1 to 1.2500e-04.\n",
      "e_12 * test rst: [0.00476, 0.6914, 0.7333, 0.7118, 0.8385]\n",
      "e_13 * test rst: [0.00492, 0.6721, 0.7455, 0.7069, 0.8358]\n",
      "e_14 * test rst: [0.00509, 0.6632, 0.7636, 0.7099, 0.8344]\n",
      "e_15 * test rst: [0.00520, 0.6562, 0.7636, 0.7059, 0.8352]\n",
      "Epoch    14: reducing learning rate of group 0 to 6.2500e-05.\n",
      "Epoch    14: reducing learning rate of group 1 to 6.2500e-05.\n",
      "e_16 * test rst: [0.00498, 0.6816, 0.7394, 0.7093, 0.8347]\n",
      "e_17 * test rst: [0.00513, 0.6685, 0.7455, 0.7049, 0.8347]\n",
      "e_18 * test rst: [0.00523, 0.6578, 0.7455, 0.6989, 0.8342]\n",
      "training end, used 98.16 s\n",
      "(0.005230676932956401, 0.6577540106951871, 0.7454545454545455, 0.6988636363636364, 0.8342111289214564)\n",
      "total label sum 184.5\n",
      "0.004939408221846152,0.6785714285714286,0.6705882352941176,0.6745562130177514,0.8427929950606197\n",
      "0.0054589010523648715,0.6648351648351648,0.711764705882353,0.6875,0.8606945068103578\n",
      "0.00587733550457082,0.6794258373205742,0.7244897959183674,0.7012345679012346,0.8351637657787911\n",
      "0.00590137111228556,0.6623376623376623,0.6035502958579881,0.631578947368421,0.8037701190960145\n",
      "0.005230676932956401,0.6577540106951871,0.7454545454545455,0.6988636363636364,0.8342111289214564\n",
      "mean loss, prec, recall, f1, auc\n",
      "[0.0054815385648047605, 0.6685848207520035, 0.6911695156814743, 0.6787466729302086, 0.835326503133448]\n",
      "mlt train ended\n",
      "0.668889,0.691954,0.680226,0.828261\n"
     ]
    }
   ],
   "source": [
    "train_s_sz = 1500\n",
    "\n",
    "\n",
    "args.num_embedding = 64\n",
    "args.cnn_out_c = 100\n",
    "args.rnn_out_f_n = 68\n",
    "\n",
    "args.rnn_num_directions = 2\n",
    "args.rnn_layers = 2\n",
    "args.window_sizes = [2, 3, 4, 5]\n",
    "args.EB_dp = 0.3\n",
    "args.FC_dp = 0.1\n",
    "\n",
    "args.use_new_loss = False\n",
    "args.use_cls_loss = False\n",
    "\n",
    "\n",
    "\n",
    "args.epochs = 18\n",
    "args.warmup_epoch = 0\n",
    "args.patience_epoch = 3\n",
    "\n",
    "args.learning_rate = 1e-3\n",
    "args.adam_epsilon = 1e-8\n",
    "args.weight_decay = 1e-4\n",
    "args.max_grad_norm = 5.0\n",
    "args.lr_reduce_factor = .5\n",
    "args.threshold = .5\n",
    "args.lr_cooldown = 2\n",
    "args.use_loss_sh = False\n",
    "args.is_iterare_info = True\n",
    "\n",
    "args.l2_weight_decay = 1e-4\n",
    "\n",
    "config = set_model_config(args)\n",
    "    \n",
    "    \n",
    "    \n",
    "kf = KFold(n_splits=5)\n",
    "s_arr = []\n",
    "run_cls_df_l = []\n",
    "\n",
    "tar_feature = features_ann_1\n",
    "for idx, (train_dev_idx, test_idx) in enumerate(kf.split(tar_feature[1])):\n",
    "    train_dev_idx = train_dev_idx[:train_s_sz]\n",
    "    cv_train_dev_ds, cv_test_ds = convert_features_to_dataset_cv(tar_feature, train_dev_idx), \\\n",
    "                             convert_features_to_dataset_cv(tar_feature, test_idx)\n",
    "    \n",
    "    print('cv, step {}'.format(idx+1))\n",
    "    print(len(cv_train_dev_ds), len(cv_test_ds))\n",
    "    \n",
    "    train_dl = DataLoader(cv_train_dev_ds, batch_size=args.batch_size, shuffle=True)\n",
    "    test_dl = DataLoader(cv_test_ds, batch_size=args.batch_size)\n",
    "\n",
    "\n",
    "    model = Base_Net(config).to(device)\n",
    "    model_init_w(model)\n",
    "    optimizer, scheduler = init_model_optimizer(model, args)\n",
    "    _ = train(model, optimizer, scheduler, train_dl, None, args, test_dl, False)\n",
    "\n",
    "\n",
    "    #test\n",
    "    pred_l, tru_l, S, pre_o = eval(model, test_dl, args, 'test')\n",
    "    _, _, _, f1, auc = S\n",
    "    print(S)\n",
    "    \n",
    "    s_arr.append(list(S))\n",
    "    \n",
    "    y_info = tar_feature[1].iloc[test_idx].copy()\n",
    "    y_info['pred'] = pred_l\n",
    "    y_info['prob'] = pre_o\n",
    "    run_cls_df_l.append(y_info)\n",
    "    print('total label sum', sum(y_info.label))\n",
    "    \n",
    "mer_pd_rst = pd.concat(run_cls_df_l)\n",
    "s_arr = np.array(s_arr)\n",
    "\n",
    "for r in s_arr:\n",
    "    print(','.join([str(i) for i in r]))\n",
    "\n",
    "\n",
    "print('mean loss, prec, recall, f1, auc')\n",
    "print(list(np.mean(s_arr, axis=0)))\n",
    "print('mlt train ended')\n",
    "\n",
    "tru_l = mer_pd_rst['label'].to_numpy()\n",
    "tru_l[tru_l==.5] = 0\n",
    "pred_l = mer_pd_rst['pred'].to_numpy()\n",
    "pred_l[pred_l==.5] = 0\n",
    "pred_l = pred_l.astype(int)\n",
    "precision, recall, f1, _ = \\\n",
    "                    precision_recall_fscore_support(tru_l, pred_l, average='binary',zero_division=1)\n",
    "auc_s = roc_auc_score(mer_pd_rst['label'].to_numpy(), mer_pd_rst['prob'].to_numpy())\n",
    "print('%f,%f,%f,%f' % (precision, recall, f1, auc_s))\n",
    "\n"
   ]
  },
  {
   "cell_type": "code",
   "execution_count": 36,
   "metadata": {},
   "outputs": [
    {
     "name": "stdout",
     "output_type": "stream",
     "text": [
      "config ----------------\n",
      "{'EB_dp': 0.3,\n",
      " 'FC_dp': 0.1,\n",
      " 'adam_epsilon': 1e-08,\n",
      " 'batch_size': 32,\n",
      " 'cnn_out_c': 100,\n",
      " 'device': device(type='cuda'),\n",
      " 'epochs': 18,\n",
      " 'l2_weight_decay': 0.0001,\n",
      " 'learning_rate': 0.001,\n",
      " 'lr_cooldown': 2,\n",
      " 'lr_reduce_factor': 0.5,\n",
      " 'max_grad_norm': 5.0,\n",
      " 'max_token_n': 54,\n",
      " 'not_x_feature': False,\n",
      " 'num_embedding': 64,\n",
      " 'num_words': 82949,\n",
      " 'patience_epoch': 3,\n",
      " 'rnn_layers': 2,\n",
      " 'rnn_num_directions': 2,\n",
      " 'rnn_out_f_n': 68,\n",
      " 'threshold': 0.5,\n",
      " 'use_new_loss': False,\n",
      " 'warmup_epoch': 0,\n",
      " 'weight_decay': 0.0001,\n",
      " 'window_sizes': [2, 3, 4, 5]}\n",
      "       ----------------\n",
      "cv, step 1\n",
      "2250 563\n",
      "init model\n",
      "training begin\n",
      "e_1 * test rst: [0.00566, 0.8125, 0.3059, 0.4444, 0.8213]\n",
      "e_2 * test rst: [0.00431, 0.6882, 0.6882, 0.6882, 0.8370]\n",
      "e_3 * test rst: [0.00483, 0.8000, 0.5412, 0.6456, 0.8397]\n",
      "Epoch     2: reducing learning rate of group 0 to 5.0000e-04.\n",
      "Epoch     2: reducing learning rate of group 1 to 5.0000e-04.\n",
      "e_4 * test rst: [0.00464, 0.6743, 0.6941, 0.6841, 0.8403]\n",
      "e_5 * test rst: [0.00465, 0.6905, 0.6824, 0.6864, 0.8463]\n",
      "e_6 * test rst: [0.00531, 0.5895, 0.7941, 0.6767, 0.8444]\n",
      "e_7 * test rst: [0.00472, 0.7879, 0.6118, 0.6887, 0.8404]\n",
      "Epoch     6: reducing learning rate of group 0 to 2.5000e-04.\n",
      "Epoch     6: reducing learning rate of group 1 to 2.5000e-04.\n",
      "e_8 * test rst: [0.00462, 0.7059, 0.7059, 0.7059, 0.8458]\n",
      "e_9 * test rst: [0.00467, 0.7222, 0.6882, 0.7048, 0.8436]\n",
      "e_10 * test rst: [0.00467, 0.7436, 0.6824, 0.7117, 0.8460]\n",
      "e_11 * test rst: [0.00471, 0.7117, 0.6824, 0.6967, 0.8477]\n",
      "Epoch    10: reducing learning rate of group 0 to 1.2500e-04.\n",
      "Epoch    10: reducing learning rate of group 1 to 1.2500e-04.\n",
      "e_12 * test rst: [0.00477, 0.7338, 0.6647, 0.6975, 0.8476]\n",
      "e_13 * test rst: [0.00477, 0.7178, 0.6882, 0.7027, 0.8488]\n",
      "e_14 * test rst: [0.00474, 0.7233, 0.6765, 0.6991, 0.8497]\n",
      "e_15 * test rst: [0.00479, 0.6875, 0.7118, 0.6994, 0.8521]\n",
      "Epoch    14: reducing learning rate of group 0 to 6.2500e-05.\n",
      "Epoch    14: reducing learning rate of group 1 to 6.2500e-05.\n",
      "e_16 * test rst: [0.00480, 0.7041, 0.7000, 0.7021, 0.8501]\n",
      "e_17 * test rst: [0.00483, 0.6897, 0.7059, 0.6977, 0.8511]\n",
      "e_18 * test rst: [0.00484, 0.6936, 0.7059, 0.6997, 0.8518]\n",
      "training end, used 144.27 s\n",
      "(0.004842654611670526, 0.6936416184971098, 0.7058823529411765, 0.6997084548104957, 0.8518185900314323)\n",
      "total label sum 197.5\n",
      "cv, step 2\n",
      "2250 563\n",
      "init model\n",
      "training begin\n",
      "e_1 * test rst: [0.00475, 0.7398, 0.5353, 0.6212, 0.8555]\n",
      "e_2 * test rst: [0.00464, 0.6864, 0.6824, 0.6844, 0.8667]\n",
      "e_3 * test rst: [0.00490, 0.7385, 0.5647, 0.6400, 0.8568]\n",
      "Epoch     2: reducing learning rate of group 0 to 5.0000e-04.\n",
      "Epoch     2: reducing learning rate of group 1 to 5.0000e-04.\n",
      "e_4 * test rst: [0.00503, 0.7429, 0.6118, 0.6710, 0.8589]\n",
      "e_5 * test rst: [0.00477, 0.6648, 0.7118, 0.6875, 0.8634]\n",
      "e_6 * test rst: [0.00479, 0.7292, 0.6176, 0.6688, 0.8620]\n",
      "e_7 * test rst: [0.00466, 0.7273, 0.6588, 0.6914, 0.8651]\n",
      "Epoch     6: reducing learning rate of group 0 to 2.5000e-04.\n",
      "Epoch     6: reducing learning rate of group 1 to 2.5000e-04.\n",
      "e_8 * test rst: [0.00513, 0.7179, 0.6588, 0.6871, 0.8609]\n",
      "e_9 * test rst: [0.00488, 0.6886, 0.6765, 0.6825, 0.8652]\n",
      "e_10 * test rst: [0.00499, 0.7244, 0.6647, 0.6933, 0.8621]\n",
      "e_11 * test rst: [0.00514, 0.7171, 0.6412, 0.6770, 0.8607]\n",
      "Epoch    10: reducing learning rate of group 0 to 1.2500e-04.\n",
      "Epoch    10: reducing learning rate of group 1 to 1.2500e-04.\n",
      "e_12 * test rst: [0.00511, 0.7379, 0.6294, 0.6794, 0.8608]\n",
      "e_13 * test rst: [0.00518, 0.7255, 0.6529, 0.6873, 0.8615]\n",
      "e_14 * test rst: [0.00514, 0.7303, 0.6529, 0.6894, 0.8616]\n",
      "e_15 * test rst: [0.00515, 0.7273, 0.6588, 0.6914, 0.8610]\n",
      "Epoch    14: reducing learning rate of group 0 to 6.2500e-05.\n",
      "Epoch    14: reducing learning rate of group 1 to 6.2500e-05.\n",
      "e_16 * test rst: [0.00515, 0.7303, 0.6529, 0.6894, 0.8616]\n",
      "e_17 * test rst: [0.00515, 0.7415, 0.6412, 0.6877, 0.8606]\n",
      "e_18 * test rst: [0.00515, 0.7432, 0.6471, 0.6918, 0.8608]\n",
      "training end, used 144.62 s\n",
      "(0.005145402737689696, 0.7432432432432432, 0.6470588235294118, 0.6918238993710691, 0.8607843137254901)\n",
      "total label sum 186.5\n",
      "cv, step 3\n",
      "2250 563\n",
      "init model\n",
      "training begin\n",
      "e_1 * test rst: [0.00525, 0.6373, 0.6276, 0.6324, 0.8095]\n",
      "e_2 * test rst: [0.00485, 0.6701, 0.6735, 0.6718, 0.8248]\n",
      "e_3 * test rst: [0.00534, 0.6973, 0.6582, 0.6772, 0.8341]\n",
      "Epoch     2: reducing learning rate of group 0 to 5.0000e-04.\n",
      "Epoch     2: reducing learning rate of group 1 to 5.0000e-04.\n",
      "e_4 * test rst: [0.00520, 0.6823, 0.6684, 0.6753, 0.8398]\n",
      "e_5 * test rst: [0.00538, 0.6620, 0.7296, 0.6942, 0.8404]\n",
      "e_6 * test rst: [0.00525, 0.6516, 0.7347, 0.6906, 0.8372]\n",
      "e_7 * test rst: [0.00555, 0.6383, 0.7653, 0.6961, 0.8463]\n",
      "Epoch     6: reducing learning rate of group 0 to 2.5000e-04.\n",
      "Epoch     6: reducing learning rate of group 1 to 2.5000e-04.\n",
      "e_8 * test rst: [0.00529, 0.6620, 0.7296, 0.6942, 0.8470]\n",
      "e_9 * test rst: [0.00577, 0.6157, 0.7602, 0.6804, 0.8459]\n",
      "e_10 * test rst: [0.00579, 0.6198, 0.7653, 0.6849, 0.8446]\n",
      "e_11 * test rst: [0.00565, 0.6395, 0.7602, 0.6946, 0.8453]\n",
      "Epoch    10: reducing learning rate of group 0 to 1.2500e-04.\n",
      "Epoch    10: reducing learning rate of group 1 to 1.2500e-04.\n",
      "e_12 * test rst: [0.00561, 0.6637, 0.7551, 0.7064, 0.8462]\n",
      "e_13 * test rst: [0.00562, 0.6606, 0.7449, 0.7002, 0.8456]\n",
      "e_14 * test rst: [0.00565, 0.6591, 0.7398, 0.6971, 0.8459]\n",
      "e_15 * test rst: [0.00571, 0.6520, 0.7551, 0.6998, 0.8464]\n",
      "Epoch    14: reducing learning rate of group 0 to 6.2500e-05.\n",
      "Epoch    14: reducing learning rate of group 1 to 6.2500e-05.\n",
      "e_16 * test rst: [0.00568, 0.6591, 0.7398, 0.6971, 0.8451]\n",
      "e_17 * test rst: [0.00569, 0.6636, 0.7449, 0.7019, 0.8456]\n",
      "e_18 * test rst: [0.00569, 0.6621, 0.7398, 0.6988, 0.8462]\n",
      "training end, used 144.95 s\n",
      "(0.0056917830295926935, 0.6621004566210046, 0.7397959183673469, 0.6987951807228916, 0.8461602624701107)\n",
      "total label sum 219.0\n",
      "cv, step 4\n",
      "2251 562\n",
      "init model\n",
      "training begin\n",
      "e_1 * test rst: [0.00622, 0.7600, 0.1124, 0.1959, 0.7685]\n",
      "e_2 * test rst: [0.00522, 0.5663, 0.6568, 0.6082, 0.7949]\n",
      "e_3 * test rst: [0.00513, 0.6056, 0.6450, 0.6246, 0.7936]\n",
      "Epoch     2: reducing learning rate of group 0 to 5.0000e-04.\n",
      "Epoch     2: reducing learning rate of group 1 to 5.0000e-04.\n",
      "e_4 * test rst: [0.00553, 0.6552, 0.5621, 0.6051, 0.7940]\n",
      "e_5 * test rst: [0.00571, 0.6022, 0.6450, 0.6229, 0.7960]\n",
      "e_6 * test rst: [0.00562, 0.6415, 0.6036, 0.6220, 0.7940]\n",
      "e_7 * test rst: [0.00609, 0.5944, 0.6331, 0.6132, 0.7913]\n",
      "Epoch     6: reducing learning rate of group 0 to 2.5000e-04.\n",
      "Epoch     6: reducing learning rate of group 1 to 2.5000e-04.\n",
      "e_8 * test rst: [0.00597, 0.6154, 0.6154, 0.6154, 0.7936]\n",
      "e_9 * test rst: [0.00603, 0.6483, 0.5562, 0.5987, 0.7946]\n",
      "e_10 * test rst: [0.00605, 0.6364, 0.5799, 0.6068, 0.7948]\n",
      "e_11 * test rst: [0.00598, 0.6306, 0.5858, 0.6074, 0.7946]\n",
      "Epoch    10: reducing learning rate of group 0 to 1.2500e-04.\n",
      "Epoch    10: reducing learning rate of group 1 to 1.2500e-04.\n",
      "e_12 * test rst: [0.00614, 0.6370, 0.5503, 0.5905, 0.7942]\n",
      "e_13 * test rst: [0.00617, 0.6194, 0.5680, 0.5926, 0.7949]\n",
      "e_14 * test rst: [0.00628, 0.6327, 0.5503, 0.5886, 0.7947]\n",
      "e_15 * test rst: [0.00617, 0.6351, 0.5562, 0.5931, 0.7943]\n",
      "Epoch    14: reducing learning rate of group 0 to 6.2500e-05.\n",
      "Epoch    14: reducing learning rate of group 1 to 6.2500e-05.\n",
      "e_16 * test rst: [0.00623, 0.6419, 0.5621, 0.5994, 0.7949]\n",
      "e_17 * test rst: [0.00626, 0.6458, 0.5503, 0.5942, 0.7953]\n",
      "e_18 * test rst: [0.00619, 0.6370, 0.5503, 0.5905, 0.7952]\n",
      "training end, used 144.47 s\n",
      "(0.006191744194018035, 0.636986301369863, 0.5502958579881657, 0.5904761904761905, 0.7951879789812848)\n",
      "total label sum 188.0\n",
      "cv, step 5\n",
      "2251 562\n",
      "init model\n",
      "training begin\n",
      "e_1 * test rst: [0.00467, 0.7404, 0.4667, 0.5725, 0.8121]\n",
      "e_2 * test rst: [0.00434, 0.6629, 0.7030, 0.6824, 0.8357]\n",
      "e_3 * test rst: [0.00426, 0.6954, 0.6364, 0.6646, 0.8323]\n",
      "Epoch     2: reducing learning rate of group 0 to 5.0000e-04.\n",
      "Epoch     2: reducing learning rate of group 1 to 5.0000e-04.\n",
      "e_4 * test rst: [0.00431, 0.6739, 0.7515, 0.7106, 0.8420]\n",
      "e_5 * test rst: [0.00527, 0.6168, 0.8000, 0.6966, 0.8449]\n",
      "e_6 * test rst: [0.00513, 0.6095, 0.7758, 0.6827, 0.8420]\n",
      "e_7 * test rst: [0.00448, 0.7202, 0.7333, 0.7267, 0.8402]\n",
      "Epoch     6: reducing learning rate of group 0 to 2.5000e-04.\n",
      "Epoch     6: reducing learning rate of group 1 to 2.5000e-04.\n"
     ]
    },
    {
     "name": "stdout",
     "output_type": "stream",
     "text": [
      "e_8 * test rst: [0.00487, 0.6418, 0.7818, 0.7049, 0.8461]\n",
      "e_9 * test rst: [0.00491, 0.6414, 0.7697, 0.6997, 0.8434]\n",
      "e_10 * test rst: [0.00463, 0.6796, 0.7455, 0.7110, 0.8394]\n",
      "e_11 * test rst: [0.00508, 0.6458, 0.7515, 0.6947, 0.8387]\n",
      "Epoch    10: reducing learning rate of group 0 to 1.2500e-04.\n",
      "Epoch    10: reducing learning rate of group 1 to 1.2500e-04.\n",
      "e_12 * test rst: [0.00492, 0.6510, 0.7576, 0.7003, 0.8410]\n",
      "e_13 * test rst: [0.00508, 0.6410, 0.7576, 0.6944, 0.8436]\n",
      "e_14 * test rst: [0.00503, 0.6508, 0.7455, 0.6949, 0.8433]\n",
      "e_15 * test rst: [0.00500, 0.6508, 0.7455, 0.6949, 0.8430]\n",
      "Epoch    14: reducing learning rate of group 0 to 6.2500e-05.\n",
      "Epoch    14: reducing learning rate of group 1 to 6.2500e-05.\n",
      "e_16 * test rst: [0.00515, 0.6480, 0.7697, 0.7036, 0.8426]\n",
      "e_17 * test rst: [0.00499, 0.6595, 0.7394, 0.6971, 0.8421]\n",
      "e_18 * test rst: [0.00513, 0.6492, 0.7515, 0.6966, 0.8417]\n",
      "training end, used 142.25 s\n",
      "(0.005129241328222471, 0.6492146596858639, 0.7515151515151515, 0.6966292134831461, 0.841660941912831)\n",
      "total label sum 184.5\n",
      "0.004842654611670526,0.6936416184971098,0.7058823529411765,0.6997084548104957,0.8518185900314323\n",
      "0.005145402737689696,0.7432432432432432,0.6470588235294118,0.6918238993710691,0.8607843137254901\n",
      "0.0056917830295926935,0.6621004566210046,0.7397959183673469,0.6987951807228916,0.8461602624701107\n",
      "0.006191744194018035,0.636986301369863,0.5502958579881657,0.5904761904761905,0.7951879789812848\n",
      "0.005129241328222471,0.6492146596858639,0.7515151515151515,0.6966292134831461,0.841660941912831\n",
      "mean loss, prec, recall, f1, auc\n",
      "[0.005400165180238685, 0.6770372558834169, 0.6789096208682505, 0.6754865877727585, 0.8391224174242298]\n",
      "mlt train ended\n",
      "0.675029,0.680460,0.677733,0.835435\n"
     ]
    }
   ],
   "source": [
    "# train_s_sz = 1500\n",
    "\n",
    "\n",
    "args.num_embedding = 64\n",
    "args.cnn_out_c = 100\n",
    "args.rnn_out_f_n = 68\n",
    "\n",
    "args.rnn_num_directions = 2\n",
    "args.rnn_layers = 2\n",
    "args.window_sizes = [2, 3, 4, 5]\n",
    "args.EB_dp = 0.3\n",
    "args.FC_dp = 0.1\n",
    "\n",
    "args.use_new_loss = False\n",
    "args.use_cls_loss = False\n",
    "\n",
    "\n",
    "\n",
    "args.epochs = 18\n",
    "args.warmup_epoch = 0\n",
    "args.patience_epoch = 3\n",
    "\n",
    "args.learning_rate = 1e-3\n",
    "args.adam_epsilon = 1e-8\n",
    "args.weight_decay = 1e-4\n",
    "args.max_grad_norm = 5.0\n",
    "args.lr_reduce_factor = .5\n",
    "args.threshold = .5\n",
    "args.lr_cooldown = 2\n",
    "args.use_loss_sh = False\n",
    "args.is_iterare_info = True\n",
    "\n",
    "args.l2_weight_decay = 1e-4\n",
    "\n",
    "config = set_model_config(args)\n",
    "    \n",
    "    \n",
    "    \n",
    "kf = KFold(n_splits=5)\n",
    "s_arr = []\n",
    "run_cls_df_l = []\n",
    "\n",
    "tar_feature = features_ann_1\n",
    "for idx, (train_dev_idx, test_idx) in enumerate(kf.split(tar_feature[1])):\n",
    "    train_dev_idx = train_dev_idx[:]\n",
    "    cv_train_dev_ds, cv_test_ds = convert_features_to_dataset_cv(tar_feature, train_dev_idx), \\\n",
    "                             convert_features_to_dataset_cv(tar_feature, test_idx)\n",
    "    \n",
    "    print('cv, step {}'.format(idx+1))\n",
    "    print(len(cv_train_dev_ds), len(cv_test_ds))\n",
    "    \n",
    "    train_dl = DataLoader(cv_train_dev_ds, batch_size=args.batch_size, shuffle=True)\n",
    "    test_dl = DataLoader(cv_test_ds, batch_size=args.batch_size)\n",
    "\n",
    "\n",
    "    model = Base_Net(config).to(device)\n",
    "    model_init_w(model)\n",
    "    optimizer, scheduler = init_model_optimizer(model, args)\n",
    "    _ = train(model, optimizer, scheduler, train_dl, None, args, test_dl, False)\n",
    "\n",
    "\n",
    "    #test\n",
    "    pred_l, tru_l, S, pre_o = eval(model, test_dl, args, 'test')\n",
    "    _, _, _, f1, auc = S\n",
    "    print(S)\n",
    "    \n",
    "    s_arr.append(list(S))\n",
    "    \n",
    "    y_info = tar_feature[1].iloc[test_idx].copy()\n",
    "    y_info['pred'] = pred_l\n",
    "    y_info['prob'] = pre_o\n",
    "    run_cls_df_l.append(y_info)\n",
    "    print('total label sum', sum(y_info.label))\n",
    "    \n",
    "mer_pd_rst = pd.concat(run_cls_df_l)\n",
    "s_arr = np.array(s_arr)\n",
    "\n",
    "for r in s_arr:\n",
    "    print(','.join([str(i) for i in r]))\n",
    "\n",
    "\n",
    "print('mean loss, prec, recall, f1, auc')\n",
    "print(list(np.mean(s_arr, axis=0)))\n",
    "print('mlt train ended')\n",
    "\n",
    "tru_l = mer_pd_rst['label'].to_numpy()\n",
    "tru_l[tru_l==.5] = 0\n",
    "pred_l = mer_pd_rst['pred'].to_numpy()\n",
    "pred_l[pred_l==.5] = 0\n",
    "pred_l = pred_l.astype(int)\n",
    "precision, recall, f1, _ = \\\n",
    "                    precision_recall_fscore_support(tru_l, pred_l, average='binary',zero_division=1)\n",
    "auc_s = roc_auc_score(mer_pd_rst['label'].to_numpy(), mer_pd_rst['prob'].to_numpy())\n",
    "print('%f,%f,%f,%f' % (precision, recall, f1, auc_s))\n",
    "\n"
   ]
  },
  {
   "cell_type": "code",
   "execution_count": 27,
   "metadata": {},
   "outputs": [
    {
     "name": "stdout",
     "output_type": "stream",
     "text": [
      "config ----------------\n",
      "{'EB_dp': 0.3,\n",
      " 'FC_dp': 0.1,\n",
      " 'adam_epsilon': 1e-08,\n",
      " 'batch_size': 32,\n",
      " 'cnn_out_c': 100,\n",
      " 'device': device(type='cuda'),\n",
      " 'epochs': 18,\n",
      " 'l2_weight_decay': 0.0001,\n",
      " 'learning_rate': 0.001,\n",
      " 'lr_cooldown': 2,\n",
      " 'lr_reduce_factor': 0.5,\n",
      " 'max_grad_norm': 5.0,\n",
      " 'max_token_n': 54,\n",
      " 'not_x_feature': False,\n",
      " 'num_embedding': 64,\n",
      " 'num_words': 82949,\n",
      " 'patience_epoch': 3,\n",
      " 'rnn_layers': 2,\n",
      " 'rnn_num_directions': 2,\n",
      " 'rnn_out_f_n': 68,\n",
      " 'threshold': 0.5,\n",
      " 'use_new_loss': False,\n",
      " 'warmup_epoch': 0,\n",
      " 'weight_decay': 0.0001,\n",
      " 'window_sizes': [2, 3, 4, 5]}\n",
      "       ----------------\n",
      "cv, step 1\n",
      "2250 563\n",
      "init model\n",
      "training begin\n",
      "e_1 * test rst: [0.00548, 0.8095, 0.3000, 0.4378, 0.8145]\n",
      "e_2 * test rst: [0.00559, 0.5550, 0.7118, 0.6237, 0.8157]\n",
      "e_3 * test rst: [0.00670, 0.7143, 0.2941, 0.4167, 0.7969]\n",
      "Epoch     2: reducing learning rate of group 0 to 5.0000e-04.\n",
      "Epoch     2: reducing learning rate of group 1 to 5.0000e-04.\n",
      "e_4 * test rst: [0.00463, 0.6687, 0.6294, 0.6485, 0.8352]\n",
      "e_5 * test rst: [0.00475, 0.7500, 0.5647, 0.6443, 0.8343]\n",
      "e_6 * test rst: [0.00462, 0.7114, 0.6235, 0.6646, 0.8389]\n",
      "e_7 * test rst: [0.00490, 0.6219, 0.7353, 0.6739, 0.8421]\n",
      "Epoch     6: reducing learning rate of group 0 to 2.5000e-04.\n",
      "Epoch     6: reducing learning rate of group 1 to 2.5000e-04.\n",
      "e_8 * test rst: [0.00487, 0.7442, 0.5647, 0.6421, 0.8340]\n",
      "e_9 * test rst: [0.00473, 0.7574, 0.6059, 0.6732, 0.8372]\n",
      "e_10 * test rst: [0.00484, 0.7115, 0.6529, 0.6810, 0.8387]\n",
      "e_11 * test rst: [0.00486, 0.6725, 0.6765, 0.6745, 0.8407]\n",
      "Epoch    10: reducing learning rate of group 0 to 1.2500e-04.\n",
      "Epoch    10: reducing learning rate of group 1 to 1.2500e-04.\n",
      "e_12 * test rst: [0.00547, 0.5733, 0.7824, 0.6617, 0.8416]\n",
      "e_13 * test rst: [0.00545, 0.5804, 0.7647, 0.6599, 0.8417]\n",
      "e_14 * test rst: [0.00528, 0.5860, 0.7412, 0.6545, 0.8426]\n",
      "e_15 * test rst: [0.00534, 0.5841, 0.7353, 0.6510, 0.8439]\n",
      "Epoch    14: reducing learning rate of group 0 to 6.2500e-05.\n",
      "Epoch    14: reducing learning rate of group 1 to 6.2500e-05.\n",
      "e_16 * test rst: [0.00474, 0.7000, 0.6588, 0.6788, 0.8431]\n",
      "e_17 * test rst: [0.00474, 0.7315, 0.6412, 0.6834, 0.8414]\n",
      "e_18 * test rst: [0.00477, 0.7466, 0.6412, 0.6899, 0.8415]\n",
      "training end, used 134.90 s\n",
      "(0.004765982340961748, 0.7465753424657534, 0.6411764705882353, 0.689873417721519, 0.8415207304295764)\n",
      "total label sum 197.5\n",
      "cv, step 2\n",
      "2250 563\n",
      "init model\n",
      "training begin\n",
      "e_1 * test rst: [0.00521, 0.7857, 0.4529, 0.5746, 0.8444]\n",
      "e_2 * test rst: [0.00548, 0.8451, 0.3529, 0.4979, 0.8433]\n",
      "e_3 * test rst: [0.00456, 0.7447, 0.6176, 0.6752, 0.8567]\n",
      "Epoch     2: reducing learning rate of group 0 to 5.0000e-04.\n",
      "Epoch     2: reducing learning rate of group 1 to 5.0000e-04.\n",
      "e_4 * test rst: [0.00452, 0.7320, 0.6588, 0.6935, 0.8639]\n",
      "e_5 * test rst: [0.00464, 0.6784, 0.6824, 0.6804, 0.8541]\n",
      "e_6 * test rst: [0.00547, 0.7885, 0.4824, 0.5985, 0.8509]\n",
      "e_7 * test rst: [0.00468, 0.7361, 0.6235, 0.6752, 0.8636]\n",
      "Epoch     6: reducing learning rate of group 0 to 2.5000e-04.\n",
      "Epoch     6: reducing learning rate of group 1 to 2.5000e-04.\n",
      "e_8 * test rst: [0.00478, 0.6410, 0.7353, 0.6849, 0.8682]\n",
      "e_9 * test rst: [0.00475, 0.6721, 0.7235, 0.6969, 0.8634]\n",
      "e_10 * test rst: [0.00491, 0.6758, 0.7235, 0.6989, 0.8633]\n",
      "e_11 * test rst: [0.00534, 0.6305, 0.7529, 0.6863, 0.8665]\n",
      "Epoch    10: reducing learning rate of group 0 to 1.2500e-04.\n",
      "Epoch    10: reducing learning rate of group 1 to 1.2500e-04.\n",
      "e_12 * test rst: [0.00571, 0.5966, 0.8176, 0.6898, 0.8691]\n",
      "e_13 * test rst: [0.00595, 0.5772, 0.8353, 0.6827, 0.8675]\n",
      "e_14 * test rst: [0.00554, 0.6233, 0.7882, 0.6961, 0.8669]\n",
      "e_15 * test rst: [0.00528, 0.6256, 0.7765, 0.6929, 0.8710]\n",
      "Epoch    14: reducing learning rate of group 0 to 6.2500e-05.\n",
      "Epoch    14: reducing learning rate of group 1 to 6.2500e-05.\n",
      "e_16 * test rst: [0.00468, 0.7233, 0.6765, 0.6991, 0.8683]\n",
      "e_17 * test rst: [0.00468, 0.7219, 0.6412, 0.6791, 0.8683]\n",
      "e_18 * test rst: [0.00465, 0.7296, 0.6824, 0.7052, 0.8689]\n",
      "training end, used 134.90 s\n",
      "(0.004649069090746012, 0.7295597484276729, 0.6823529411764706, 0.7051671732522795, 0.8688968717257896)\n",
      "total label sum 186.5\n",
      "cv, step 3\n",
      "2250 563\n",
      "init model\n",
      "training begin\n",
      "e_1 * test rst: [0.00624, 0.8137, 0.4235, 0.5570, 0.8096]\n",
      "e_2 * test rst: [0.00524, 0.6718, 0.6684, 0.6701, 0.8419]\n",
      "e_3 * test rst: [0.00551, 0.7246, 0.5102, 0.5988, 0.8352]\n",
      "Epoch     2: reducing learning rate of group 0 to 5.0000e-04.\n",
      "Epoch     2: reducing learning rate of group 1 to 5.0000e-04.\n",
      "e_4 * test rst: [0.00503, 0.6619, 0.7092, 0.6847, 0.8426]\n",
      "e_5 * test rst: [0.00524, 0.7126, 0.6327, 0.6703, 0.8449]\n",
      "e_6 * test rst: [0.00541, 0.6651, 0.7398, 0.7005, 0.8387]\n",
      "e_7 * test rst: [0.00518, 0.6383, 0.7653, 0.6961, 0.8424]\n",
      "Epoch     6: reducing learning rate of group 0 to 2.5000e-04.\n",
      "Epoch     6: reducing learning rate of group 1 to 2.5000e-04.\n",
      "e_8 * test rst: [0.00528, 0.6943, 0.6837, 0.6889, 0.8442]\n",
      "e_9 * test rst: [0.00558, 0.7143, 0.6378, 0.6739, 0.8425]\n",
      "e_10 * test rst: [0.00567, 0.7161, 0.5663, 0.6325, 0.8402]\n",
      "e_11 * test rst: [0.00592, 0.7520, 0.4796, 0.5857, 0.8402]\n",
      "Epoch    10: reducing learning rate of group 0 to 1.2500e-04.\n",
      "Epoch    10: reducing learning rate of group 1 to 1.2500e-04.\n",
      "e_12 * test rst: [0.00533, 0.6538, 0.7806, 0.7116, 0.8418]\n",
      "e_13 * test rst: [0.00548, 0.6511, 0.7806, 0.7100, 0.8403]\n",
      "e_14 * test rst: [0.00564, 0.6245, 0.7806, 0.6939, 0.8388]\n",
      "e_15 * test rst: [0.00599, 0.6015, 0.8010, 0.6871, 0.8370]\n",
      "Epoch    14: reducing learning rate of group 0 to 6.2500e-05.\n",
      "Epoch    14: reducing learning rate of group 1 to 6.2500e-05.\n",
      "e_16 * test rst: [0.00598, 0.6070, 0.7959, 0.6887, 0.8367]\n",
      "e_17 * test rst: [0.00590, 0.6126, 0.7908, 0.6904, 0.8374]\n",
      "e_18 * test rst: [0.00576, 0.6220, 0.7806, 0.6923, 0.8392]\n",
      "training end, used 134.73 s\n",
      "(0.005758338827858174, 0.6219512195121951, 0.7806122448979592, 0.6923076923076923, 0.8392231552021354)\n",
      "total label sum 219.0\n",
      "cv, step 4\n",
      "2251 562\n",
      "init model\n",
      "training begin\n",
      "e_1 * test rst: [0.00575, 0.8182, 0.3195, 0.4596, 0.7702]\n",
      "e_2 * test rst: [0.00616, 0.6074, 0.5858, 0.5964, 0.7727]\n",
      "e_3 * test rst: [0.00584, 0.7447, 0.4142, 0.5323, 0.7811]\n",
      "Epoch     2: reducing learning rate of group 0 to 5.0000e-04.\n",
      "Epoch     2: reducing learning rate of group 1 to 5.0000e-04.\n",
      "e_4 * test rst: [0.00593, 0.7805, 0.3787, 0.5100, 0.7791]\n",
      "e_5 * test rst: [0.00548, 0.6667, 0.5444, 0.5993, 0.7874]\n",
      "e_6 * test rst: [0.00575, 0.6410, 0.5917, 0.6154, 0.7880]\n",
      "e_7 * test rst: [0.00575, 0.6452, 0.5917, 0.6173, 0.7990]\n",
      "Epoch     6: reducing learning rate of group 0 to 2.5000e-04.\n",
      "Epoch     6: reducing learning rate of group 1 to 2.5000e-04.\n",
      "e_8 * test rst: [0.00598, 0.5594, 0.6686, 0.6092, 0.7991]\n",
      "e_9 * test rst: [0.00575, 0.6447, 0.5799, 0.6106, 0.8011]\n",
      "e_10 * test rst: [0.00598, 0.7188, 0.5444, 0.6195, 0.7923]\n",
      "e_11 * test rst: [0.00606, 0.7431, 0.4793, 0.5827, 0.7944]\n",
      "Epoch    10: reducing learning rate of group 0 to 1.2500e-04.\n",
      "Epoch    10: reducing learning rate of group 1 to 1.2500e-04.\n",
      "e_12 * test rst: [0.00588, 0.6250, 0.6213, 0.6231, 0.8008]\n",
      "e_13 * test rst: [0.00597, 0.6325, 0.6213, 0.6269, 0.8005]\n",
      "e_14 * test rst: [0.00605, 0.6287, 0.6213, 0.6250, 0.8009]\n",
      "e_15 * test rst: [0.00623, 0.6171, 0.6391, 0.6279, 0.8008]\n",
      "Epoch    14: reducing learning rate of group 0 to 6.2500e-05.\n",
      "Epoch    14: reducing learning rate of group 1 to 6.2500e-05.\n",
      "e_16 * test rst: [0.00615, 0.6335, 0.6036, 0.6182, 0.8001]\n",
      "e_17 * test rst: [0.00613, 0.6369, 0.5917, 0.6135, 0.8010]\n",
      "e_18 * test rst: [0.00614, 0.6494, 0.5917, 0.6192, 0.8012]\n",
      "training end, used 134.34 s\n",
      "(0.006140521744073922, 0.6493506493506493, 0.591715976331361, 0.6191950464396285, 0.8012331180270111)\n",
      "total label sum 188.0\n",
      "cv, step 5\n",
      "2251 562\n",
      "init model\n",
      "training begin\n",
      "e_1 * test rst: [0.00466, 0.6581, 0.6182, 0.6375, 0.8245]\n",
      "e_2 * test rst: [0.00478, 0.7119, 0.5091, 0.5936, 0.8167]\n",
      "e_3 * test rst: [0.00443, 0.7206, 0.5939, 0.6512, 0.8509]\n",
      "Epoch     2: reducing learning rate of group 0 to 5.0000e-04.\n",
      "Epoch     2: reducing learning rate of group 1 to 5.0000e-04.\n",
      "e_4 * test rst: [0.00398, 0.7718, 0.6970, 0.7325, 0.8461]\n",
      "e_5 * test rst: [0.00440, 0.6630, 0.7394, 0.6991, 0.8287]\n",
      "e_6 * test rst: [0.00584, 0.5366, 0.8000, 0.6423, 0.8376]\n",
      "e_7 * test rst: [0.00425, 0.6739, 0.7515, 0.7106, 0.8499]\n",
      "Epoch     6: reducing learning rate of group 0 to 2.5000e-04.\n",
      "Epoch     6: reducing learning rate of group 1 to 2.5000e-04.\n"
     ]
    },
    {
     "name": "stdout",
     "output_type": "stream",
     "text": [
      "e_8 * test rst: [0.00521, 0.5837, 0.7818, 0.6684, 0.8456]\n",
      "e_9 * test rst: [0.00594, 0.5344, 0.8000, 0.6408, 0.8429]\n",
      "e_10 * test rst: [0.00519, 0.5945, 0.7818, 0.6754, 0.8367]\n",
      "e_11 * test rst: [0.00452, 0.6703, 0.7515, 0.7086, 0.8360]\n",
      "Epoch    10: reducing learning rate of group 0 to 1.2500e-04.\n",
      "Epoch    10: reducing learning rate of group 1 to 1.2500e-04.\n",
      "e_12 * test rst: [0.00440, 0.6757, 0.7576, 0.7143, 0.8374]\n",
      "e_13 * test rst: [0.00452, 0.6720, 0.7697, 0.7175, 0.8384]\n",
      "e_14 * test rst: [0.00455, 0.6739, 0.7515, 0.7106, 0.8381]\n",
      "e_15 * test rst: [0.00459, 0.6798, 0.7333, 0.7055, 0.8380]\n",
      "Epoch    14: reducing learning rate of group 0 to 6.2500e-05.\n",
      "Epoch    14: reducing learning rate of group 1 to 6.2500e-05.\n",
      "e_16 * test rst: [0.00434, 0.7375, 0.7152, 0.7262, 0.8358]\n",
      "e_17 * test rst: [0.00435, 0.7389, 0.7030, 0.7205, 0.8349]\n",
      "e_18 * test rst: [0.00441, 0.7405, 0.7091, 0.7245, 0.8348]\n",
      "training end, used 134.54 s\n",
      "(0.004412792878245332, 0.740506329113924, 0.7090909090909091, 0.7244582043343654, 0.8348370353408138)\n",
      "total label sum 184.5\n",
      "0.004765982340961748,0.7465753424657534,0.6411764705882353,0.689873417721519,0.8415207304295764\n",
      "0.004649069090746012,0.7295597484276729,0.6823529411764706,0.7051671732522795,0.8688968717257896\n",
      "0.005758338827858174,0.6219512195121951,0.7806122448979592,0.6923076923076923,0.8392231552021354\n",
      "0.006140521744073922,0.6493506493506493,0.591715976331361,0.6191950464396285,0.8012331180270111\n",
      "0.004412792878245332,0.740506329113924,0.7090909090909091,0.7244582043343654,0.8348370353408138\n",
      "mean loss, prec, recall, f1, auc\n",
      "[0.005145340976377038, 0.697588657774039, 0.680989708416987, 0.686200306811097, 0.8371421821450653]\n",
      "mlt train ended\n",
      "0.689455,0.683908,0.686671,0.822552\n"
     ]
    }
   ],
   "source": [
    "# all ann 1\n",
    "\n",
    "\n",
    "args.num_embedding = 64\n",
    "args.cnn_out_c = 100\n",
    "args.rnn_out_f_n = 68\n",
    "\n",
    "args.rnn_num_directions = 2\n",
    "args.rnn_layers = 2\n",
    "args.window_sizes = [2, 3, 4, 5]\n",
    "args.EB_dp = 0.3\n",
    "args.FC_dp = 0.1\n",
    "\n",
    "args.use_new_loss = False\n",
    "args.use_cls_loss = False\n",
    "\n",
    "\n",
    "\n",
    "args.epochs = 18\n",
    "args.warmup_epoch = 0\n",
    "args.patience_epoch = 3\n",
    "\n",
    "args.learning_rate = 1e-3\n",
    "args.adam_epsilon = 1e-8\n",
    "args.weight_decay = 1e-4\n",
    "args.max_grad_norm = 5.0\n",
    "args.lr_reduce_factor = .5\n",
    "args.threshold = .5\n",
    "args.lr_cooldown = 2\n",
    "args.use_loss_sh = False\n",
    "args.is_iterare_info = True\n",
    "\n",
    "args.l2_weight_decay = 1e-4\n",
    "\n",
    "config = set_model_config(args)\n",
    "    \n",
    "    \n",
    "    \n",
    "kf = KFold(n_splits=5)\n",
    "s_arr = []\n",
    "run_cls_df_l = []\n",
    "\n",
    "tar_feature = features_ann_1\n",
    "for idx, (train_dev_idx, test_idx) in enumerate(kf.split(tar_feature[1])):\n",
    "    train_dev_idx = train_dev_idx[:]\n",
    "    cv_train_dev_ds, cv_test_ds = convert_features_to_dataset_cv(tar_feature, train_dev_idx), \\\n",
    "                             convert_features_to_dataset_cv(tar_feature, test_idx)\n",
    "    \n",
    "    print('cv, step {}'.format(idx+1))\n",
    "    print(len(cv_train_dev_ds), len(cv_test_ds))\n",
    "    \n",
    "    train_dl = DataLoader(cv_train_dev_ds, batch_size=args.batch_size)\n",
    "    test_dl = DataLoader(cv_test_ds, batch_size=args.batch_size)\n",
    "\n",
    "\n",
    "    model = Base_Net(config).to(device)\n",
    "    model_init_w(model)\n",
    "    optimizer, scheduler = init_model_optimizer(model, args)\n",
    "    _ = train(model, optimizer, scheduler, train_dl, None, args, test_dl, False)\n",
    "\n",
    "\n",
    "    #test\n",
    "    pred_l, tru_l, S, pre_o = eval(model, test_dl, args, 'test')\n",
    "    _, _, _, f1, auc = S\n",
    "    print(S)\n",
    "    \n",
    "    s_arr.append(list(S))\n",
    "    \n",
    "    y_info = tar_feature[1].iloc[test_idx].copy()\n",
    "    y_info['pred'] = pred_l\n",
    "    y_info['prob'] = pre_o\n",
    "    run_cls_df_l.append(y_info)\n",
    "    print('total label sum', sum(y_info.label))\n",
    "    \n",
    "mer_pd_rst = pd.concat(run_cls_df_l)\n",
    "s_arr = np.array(s_arr)\n",
    "\n",
    "for r in s_arr:\n",
    "    print(','.join([str(i) for i in r]))\n",
    "\n",
    "\n",
    "print('mean loss, prec, recall, f1, auc')\n",
    "print(list(np.mean(s_arr, axis=0)))\n",
    "print('mlt train ended')\n",
    "\n",
    "tru_l = mer_pd_rst['label'].to_numpy()\n",
    "tru_l[tru_l==.5] = 0\n",
    "pred_l = mer_pd_rst['pred'].to_numpy()\n",
    "pred_l[pred_l==.5] = 0\n",
    "pred_l = pred_l.astype(int)\n",
    "precision, recall, f1, _ = \\\n",
    "                    precision_recall_fscore_support(tru_l, pred_l, average='binary',zero_division=1)\n",
    "auc_s = roc_auc_score(mer_pd_rst['label'].to_numpy(), mer_pd_rst['prob'].to_numpy())\n",
    "print('%f,%f,%f,%f' % (precision, recall, f1, auc_s))\n",
    "\n"
   ]
  },
  {
   "cell_type": "code",
   "execution_count": null,
   "metadata": {},
   "outputs": [],
   "source": []
  },
  {
   "cell_type": "code",
   "execution_count": 41,
   "metadata": {},
   "outputs": [
    {
     "name": "stdout",
     "output_type": "stream",
     "text": [
      "config ----------------\n",
      "{'EB_dp': 0.0,\n",
      " 'FC_dp': 0.0,\n",
      " 'adam_epsilon': 1e-08,\n",
      " 'batch_size': 32,\n",
      " 'cnn_out_c': 25,\n",
      " 'device': device(type='cuda'),\n",
      " 'epochs': 4,\n",
      " 'l2_weight_decay': 0,\n",
      " 'learning_rate': 0.001,\n",
      " 'lr_cooldown': 2,\n",
      " 'lr_reduce_factor': 0.5,\n",
      " 'max_grad_norm': 20,\n",
      " 'max_token_n': 54,\n",
      " 'not_x_feature': False,\n",
      " 'num_embedding': 200,\n",
      " 'num_words': 82949,\n",
      " 'patience_epoch': 3,\n",
      " 'rnn_layers': 1,\n",
      " 'rnn_num_directions': 1,\n",
      " 'rnn_out_f_n': 100,\n",
      " 'threshold': 0.5,\n",
      " 'use_new_loss': False,\n",
      " 'warmup_epoch': 0,\n",
      " 'weight_decay': 0,\n",
      " 'window_sizes': [2, 3, 4, 5]}\n",
      "       ----------------\n",
      "init model\n",
      "Embedding(82949, 200, padding_idx=0)\n",
      "Linear(in_features=100, out_features=100, bias=True)\n",
      "Linear(in_features=100, out_features=1, bias=True)\n",
      "training begin\n"
     ]
    },
    {
     "data": {
      "application/vnd.jupyter.widget-view+json": {
       "model_id": "fd7480aebad84b8f975ced3d278e6c92",
       "version_major": 2,
       "version_minor": 0
      },
      "text/plain": [
       "HBox(children=(FloatProgress(value=0.0, description='Iteration', max=4353.0, style=ProgressStyle(description_w…"
      ]
     },
     "metadata": {},
     "output_type": "display_data"
    },
    {
     "name": "stdout",
     "output_type": "stream",
     "text": [
      "\n",
      "e_1 "
     ]
    },
    {
     "data": {
      "application/vnd.jupyter.widget-view+json": {
       "model_id": "b63b4c29da334756b3f1adf27f8d1741",
       "version_major": 2,
       "version_minor": 0
      },
      "text/plain": [
       "HBox(children=(FloatProgress(value=0.0, description='evaluation', max=157.0, style=ProgressStyle(description_w…"
      ]
     },
     "metadata": {},
     "output_type": "display_data"
    },
    {
     "name": "stdout",
     "output_type": "stream",
     "text": [
      "\n",
      "dev: 0.00885, 0.706, 0.733, 0.719, 0.917 *"
     ]
    },
    {
     "data": {
      "application/vnd.jupyter.widget-view+json": {
       "model_id": "eab24c3c59184bb8980a0047d8c9c31a",
       "version_major": 2,
       "version_minor": 0
      },
      "text/plain": [
       "HBox(children=(FloatProgress(value=0.0, description='evaluation', max=148.0, style=ProgressStyle(description_w…"
      ]
     },
     "metadata": {},
     "output_type": "display_data"
    },
    {
     "name": "stdout",
     "output_type": "stream",
     "text": [
      "\n",
      " test rst: [0.00801, 0.7928, 0.8438, 0.8175, 0.9520]\n"
     ]
    },
    {
     "data": {
      "application/vnd.jupyter.widget-view+json": {
       "model_id": "91e7edd2be784b3d86af09fee5aaa2b1",
       "version_major": 2,
       "version_minor": 0
      },
      "text/plain": [
       "HBox(children=(FloatProgress(value=0.0, description='Iteration', max=4353.0, style=ProgressStyle(description_w…"
      ]
     },
     "metadata": {},
     "output_type": "display_data"
    },
    {
     "name": "stdout",
     "output_type": "stream",
     "text": [
      "\n",
      "e_2 "
     ]
    },
    {
     "data": {
      "application/vnd.jupyter.widget-view+json": {
       "model_id": "5872fd374c064751b9f81db9b6eeed36",
       "version_major": 2,
       "version_minor": 0
      },
      "text/plain": [
       "HBox(children=(FloatProgress(value=0.0, description='evaluation', max=157.0, style=ProgressStyle(description_w…"
      ]
     },
     "metadata": {},
     "output_type": "display_data"
    },
    {
     "name": "stdout",
     "output_type": "stream",
     "text": [
      "\n",
      "dev: 0.00970, 0.743, 0.682, 0.711, 0.913 "
     ]
    },
    {
     "data": {
      "application/vnd.jupyter.widget-view+json": {
       "model_id": "f82992949e0f4d9dbe83e8a1a6208a8b",
       "version_major": 2,
       "version_minor": 0
      },
      "text/plain": [
       "HBox(children=(FloatProgress(value=0.0, description='evaluation', max=148.0, style=ProgressStyle(description_w…"
      ]
     },
     "metadata": {},
     "output_type": "display_data"
    },
    {
     "name": "stdout",
     "output_type": "stream",
     "text": [
      "\n",
      " test rst: [0.00818, 0.8271, 0.8154, 0.8212, 0.9506]\n"
     ]
    },
    {
     "data": {
      "application/vnd.jupyter.widget-view+json": {
       "model_id": "b06a3b2495704518817dd1f5229d23ae",
       "version_major": 2,
       "version_minor": 0
      },
      "text/plain": [
       "HBox(children=(FloatProgress(value=0.0, description='Iteration', max=4353.0, style=ProgressStyle(description_w…"
      ]
     },
     "metadata": {},
     "output_type": "display_data"
    },
    {
     "name": "stdout",
     "output_type": "stream",
     "text": [
      "\n",
      "e_3 "
     ]
    },
    {
     "data": {
      "application/vnd.jupyter.widget-view+json": {
       "model_id": "5bdd7e83ecf643f98d79ad717a4c9569",
       "version_major": 2,
       "version_minor": 0
      },
      "text/plain": [
       "HBox(children=(FloatProgress(value=0.0, description='evaluation', max=157.0, style=ProgressStyle(description_w…"
      ]
     },
     "metadata": {},
     "output_type": "display_data"
    },
    {
     "name": "stdout",
     "output_type": "stream",
     "text": [
      "\n",
      "dev: 0.01040, 0.694, 0.735, 0.714, 0.912 "
     ]
    },
    {
     "data": {
      "application/vnd.jupyter.widget-view+json": {
       "model_id": "7c57423019c640988978e27791ddd255",
       "version_major": 2,
       "version_minor": 0
      },
      "text/plain": [
       "HBox(children=(FloatProgress(value=0.0, description='evaluation', max=148.0, style=ProgressStyle(description_w…"
      ]
     },
     "metadata": {},
     "output_type": "display_data"
    },
    {
     "name": "stdout",
     "output_type": "stream",
     "text": [
      "\n",
      " test rst: [0.00859, 0.7837, 0.8341, 0.8081, 0.9506]\n",
      "Epoch     2: reducing learning rate of group 0 to 5.0000e-04.\n",
      "Epoch     2: reducing learning rate of group 1 to 5.0000e-04.\n"
     ]
    },
    {
     "data": {
      "application/vnd.jupyter.widget-view+json": {
       "model_id": "9a7ea8e1098b47178926816025f74c57",
       "version_major": 2,
       "version_minor": 0
      },
      "text/plain": [
       "HBox(children=(FloatProgress(value=0.0, description='Iteration', max=4353.0, style=ProgressStyle(description_w…"
      ]
     },
     "metadata": {},
     "output_type": "display_data"
    },
    {
     "name": "stdout",
     "output_type": "stream",
     "text": [
      "\n",
      "e_4 "
     ]
    },
    {
     "data": {
      "application/vnd.jupyter.widget-view+json": {
       "model_id": "4fa298cb99b9404ca9b6139414c2d851",
       "version_major": 2,
       "version_minor": 0
      },
      "text/plain": [
       "HBox(children=(FloatProgress(value=0.0, description='evaluation', max=157.0, style=ProgressStyle(description_w…"
      ]
     },
     "metadata": {},
     "output_type": "display_data"
    },
    {
     "name": "stdout",
     "output_type": "stream",
     "text": [
      "\n",
      "dev: 0.01144, 0.707, 0.730, 0.718, 0.922 "
     ]
    },
    {
     "data": {
      "application/vnd.jupyter.widget-view+json": {
       "model_id": "df8bb3109fe94a64af9de2bacb0e2327",
       "version_major": 2,
       "version_minor": 0
      },
      "text/plain": [
       "HBox(children=(FloatProgress(value=0.0, description='evaluation', max=148.0, style=ProgressStyle(description_w…"
      ]
     },
     "metadata": {},
     "output_type": "display_data"
    },
    {
     "name": "stdout",
     "output_type": "stream",
     "text": [
      "\n",
      " test rst: [0.00962, 0.8059, 0.8438, 0.8244, 0.9543]\n",
      "saved checkpoint in ../models/abs_models/Ori_DisGeNet_abs.ckp\n",
      "training end, used 1666.61 s\n"
     ]
    }
   ],
   "source": [
    "# train on original model\n",
    "\n",
    "args.num_embedding = 200\n",
    "args.cnn_out_c = 25\n",
    "args.rnn_out_f_n = 100\n",
    "\n",
    "args.rnn_num_directions = 1\n",
    "args.rnn_layers = 1\n",
    "args.window_sizes = [2, 3, 4, 5]\n",
    "args.EB_dp = 0.0\n",
    "args.FC_dp = 0.0\n",
    "\n",
    "args.use_new_loss = False\n",
    "args.use_cls_loss = True\n",
    "\n",
    "args.epochs = 4\n",
    "args.warmup_epoch = 0\n",
    "args.patience_epoch = 3\n",
    "\n",
    "args.learning_rate = 1e-3\n",
    "args.adam_epsilon = 1e-8\n",
    "args.weight_decay = 0\n",
    "args.max_grad_norm = 20\n",
    "args.lr_reduce_factor = .5\n",
    "args.threshold = .5\n",
    "args.lr_cooldown = 2\n",
    "args.use_loss_sh = True\n",
    "args.is_iterare_info = False\n",
    "args.l2_weight_decay = 0\n",
    "\n",
    "args.device = device\n",
    "\n",
    "args.modle_dir = '../models/abs_models'\n",
    "model_name_prefix = 'Ori_DisGeNet_abs'\n",
    "args.checkpoint_f = os.path.join(args.modle_dir, model_name_prefix + \".ckp\")\n",
    "args.config_save_f = os.path.join(args.modle_dir,  model_name_prefix + \".cf\")\n",
    "\n",
    "\n",
    "config = set_model_config(args)\n",
    "torch.save(config, args.config_save_f)\n",
    "\n",
    "model = Base_Net_Ori(config).to(device)\n",
    "model_init_w_ori(model)\n",
    "optimizer, scheduler = init_model_optimizer(model, args)\n",
    "\n",
    "train_dt, dev_dt, test_dt = tr_dataloader_rm, dev_dataloader_rm, dataloader_ori_t\n",
    "\n",
    "_ = train(model, optimizer, scheduler, train_dt, dev_dt, args, test_dt)"
   ]
  },
  {
   "cell_type": "code",
   "execution_count": 44,
   "metadata": {},
   "outputs": [
    {
     "data": {
      "application/vnd.jupyter.widget-view+json": {
       "model_id": "89bff42943e64473858b754b213d5e14",
       "version_major": 2,
       "version_minor": 0
      },
      "text/plain": [
       "HBox(children=(FloatProgress(value=0.0, description='evaluation', max=88.0, style=ProgressStyle(description_wi…"
      ]
     },
     "metadata": {},
     "output_type": "display_data"
    },
    {
     "name": "stdout",
     "output_type": "stream",
     "text": [
      "\n",
      "(0.028007570905773146, 0.6958174904942965, 0.6310344827586207, 0.6618444846292947, 0.8289799516093728)\n"
     ]
    }
   ],
   "source": [
    "args.modle_dir = '../models/abs_models'\n",
    "model_name_prefix = 'Ori_DisGeNet_abs'\n",
    "checkpoint_f = os.path.join(args.modle_dir, model_name_prefix + \".ckp\")\n",
    "config_save_f = os.path.join(args.modle_dir,  model_name_prefix + \".cf\")\n",
    "\n",
    "config = torch.load(config_save_f)\n",
    "# model, _, _ = load_checkpoint(config, checkpoint_f)\n",
    "model, optimizer, scheduler = load_checkpoint(config, checkpoint_f, Base_Net_Ori)\n",
    "\n",
    "config.device =  args.device\n",
    "\n",
    "args.is_iterare_info = False\n",
    "args.threshold = config.threshold \n",
    "args.l2_weight_decay = config.l2_weight_decay\n",
    "# model.update_model_config(config)\n",
    "\n",
    "model.to(device)\n",
    "\n",
    "pred_l, tru_l, S, pred_o = eval(model, dataloader_ann_1, args, 'test')\n",
    "_, _, _, f1, auc = S\n",
    "print(S)"
   ]
  },
  {
   "cell_type": "code",
   "execution_count": 53,
   "metadata": {},
   "outputs": [
    {
     "name": "stdout",
     "output_type": "stream",
     "text": [
      "config ----------------\n",
      "{'EB_dp': 0.0,\n",
      " 'FC_dp': 0.0,\n",
      " 'adam_epsilon': 1e-08,\n",
      " 'batch_size': 32,\n",
      " 'cnn_out_c': 25,\n",
      " 'device': device(type='cuda'),\n",
      " 'epochs': 8,\n",
      " 'l2_weight_decay': 0,\n",
      " 'learning_rate': 0.001,\n",
      " 'lr_cooldown': 10,\n",
      " 'lr_reduce_factor': 0.5,\n",
      " 'max_grad_norm': 20,\n",
      " 'max_token_n': 54,\n",
      " 'not_x_feature': False,\n",
      " 'num_embedding': 200,\n",
      " 'num_words': 82949,\n",
      " 'patience_epoch': 3,\n",
      " 'rnn_layers': 1,\n",
      " 'rnn_num_directions': 1,\n",
      " 'rnn_out_f_n': 100,\n",
      " 'threshold': 0.5,\n",
      " 'use_new_loss': False,\n",
      " 'warmup_epoch': 0,\n",
      " 'weight_decay': 0,\n",
      " 'window_sizes': [2, 3, 4, 5]}\n",
      "       ----------------\n",
      "cv, step 1\n",
      "4984 563\n",
      "init model\n",
      "Embedding(82949, 200, padding_idx=0)\n",
      "Linear(in_features=100, out_features=100, bias=True)\n",
      "Linear(in_features=100, out_features=1, bias=True)\n",
      "training begin\n",
      "e_1 * test rst: [0.01497, 0.6603, 0.6059, 0.6319, 0.8219]\n",
      "e_2 * test rst: [0.01502, 0.7500, 0.6882, 0.7178, 0.8578]\n",
      "e_3 * test rst: [0.01670, 0.6597, 0.7412, 0.6981, 0.8549]\n",
      "Epoch     2: reducing learning rate of group 0 to 5.0000e-04.\n",
      "Epoch     2: reducing learning rate of group 1 to 5.0000e-04.\n",
      "e_4 * test rst: [0.01726, 0.7342, 0.6824, 0.7073, 0.8515]\n",
      "e_5 * test rst: [0.02137, 0.7342, 0.6824, 0.7073, 0.8474]\n",
      "e_6 * test rst: [0.02530, 0.6117, 0.7412, 0.6702, 0.8480]\n",
      "e_7 * test rst: [0.02479, 0.6462, 0.7412, 0.6904, 0.8509]\n",
      "e_8 * test rst: [0.02595, 0.7289, 0.7118, 0.7202, 0.8502]\n",
      "training end, used 113.32 s\n",
      "(0.02595440800538283, 0.7289156626506024, 0.711764705882353, 0.7202380952380952, 0.8501870977398591)\n",
      "total label sum 197.5\n",
      "cv, step 2\n",
      "4984 563\n",
      "init model\n",
      "Embedding(82949, 200, padding_idx=0)\n",
      "Linear(in_features=100, out_features=100, bias=True)\n",
      "Linear(in_features=100, out_features=1, bias=True)\n",
      "training begin\n",
      "e_1 * test rst: [0.01496, 0.7333, 0.4529, 0.5600, 0.8346]\n",
      "e_2 * test rst: [0.01447, 0.6807, 0.6647, 0.6726, 0.8646]\n",
      "e_3 * test rst: [0.01470, 0.6802, 0.6882, 0.6842, 0.8634]\n",
      "Epoch     2: reducing learning rate of group 0 to 5.0000e-04.\n",
      "Epoch     2: reducing learning rate of group 1 to 5.0000e-04.\n",
      "e_4 * test rst: [0.01407, 0.7639, 0.6471, 0.7006, 0.8788]\n",
      "e_5 * test rst: [0.02034, 0.8000, 0.6118, 0.6933, 0.8714]\n",
      "e_6 * test rst: [0.01964, 0.7362, 0.7059, 0.7207, 0.8752]\n",
      "e_7 * test rst: [0.02142, 0.7255, 0.6529, 0.6873, 0.8705]\n",
      "e_8 * test rst: [0.02179, 0.6422, 0.7706, 0.7005, 0.8751]\n",
      "training end, used 113.02 s\n",
      "(0.021789751351409016, 0.6421568627450981, 0.7705882352941177, 0.7005347593582888, 0.8751234845083071)\n",
      "total label sum 186.5\n",
      "cv, step 3\n",
      "4984 563\n",
      "init model\n",
      "Embedding(82949, 200, padding_idx=0)\n",
      "Linear(in_features=100, out_features=100, bias=True)\n",
      "Linear(in_features=100, out_features=1, bias=True)\n",
      "training begin\n",
      "e_1 * test rst: [0.01567, 0.7305, 0.5255, 0.6113, 0.8170]\n",
      "e_2 * test rst: [0.01548, 0.6489, 0.7449, 0.6936, 0.8590]\n",
      "e_3 * test rst: [0.01537, 0.7414, 0.6582, 0.6973, 0.8602]\n",
      "Epoch     2: reducing learning rate of group 0 to 5.0000e-04.\n",
      "Epoch     2: reducing learning rate of group 1 to 5.0000e-04.\n",
      "e_4 * test rst: [0.01538, 0.7377, 0.6888, 0.7124, 0.8710]\n",
      "e_5 * test rst: [0.01827, 0.7500, 0.7194, 0.7344, 0.8777]\n",
      "e_6 * test rst: [0.02075, 0.7254, 0.7143, 0.7198, 0.8684]\n",
      "e_7 * test rst: [0.02040, 0.6792, 0.7347, 0.7059, 0.8663]\n",
      "e_8 * test rst: [0.02287, 0.6930, 0.7602, 0.7251, 0.8702]\n",
      "training end, used 116.04 s\n",
      "(0.022869113336447925, 0.6930232558139535, 0.7602040816326531, 0.7250608272506083, 0.8702107546015682)\n",
      "total label sum 219.0\n",
      "cv, step 4\n",
      "4985 562\n",
      "init model\n",
      "Embedding(82949, 200, padding_idx=0)\n",
      "Linear(in_features=100, out_features=100, bias=True)\n",
      "Linear(in_features=100, out_features=1, bias=True)\n",
      "training begin\n",
      "e_1 * test rst: [0.01688, 0.6102, 0.4260, 0.5017, 0.7638]\n",
      "e_2 * test rst: [0.02067, 0.5975, 0.5621, 0.5793, 0.7828]\n",
      "e_3 * test rst: [0.02186, 0.5445, 0.6154, 0.5778, 0.7907]\n",
      "Epoch     2: reducing learning rate of group 0 to 5.0000e-04.\n",
      "Epoch     2: reducing learning rate of group 1 to 5.0000e-04.\n",
      "e_4 * test rst: [0.02055, 0.6443, 0.5680, 0.6038, 0.8031]\n",
      "e_5 * test rst: [0.02778, 0.7500, 0.4793, 0.5848, 0.8001]\n",
      "e_6 * test rst: [0.02819, 0.7177, 0.5266, 0.6075, 0.8056]\n",
      "e_7 * test rst: [0.02952, 0.6644, 0.5740, 0.6159, 0.7949]\n",
      "e_8 * test rst: [0.02961, 0.6071, 0.6036, 0.6053, 0.7987]\n",
      "training end, used 116.90 s\n",
      "(0.029605821596982215, 0.6071428571428571, 0.6035502958579881, 0.6053412462908011, 0.7986810605718415)\n",
      "total label sum 188.0\n",
      "cv, step 5\n",
      "4985 562\n",
      "init model\n",
      "Embedding(82949, 200, padding_idx=0)\n",
      "Linear(in_features=100, out_features=100, bias=True)\n",
      "Linear(in_features=100, out_features=1, bias=True)\n",
      "training begin\n",
      "e_1 * test rst: [0.01524, 0.6853, 0.5939, 0.6364, 0.7978]\n",
      "e_2 * test rst: [0.01527, 0.6188, 0.6788, 0.6474, 0.8456]\n",
      "e_3 * test rst: [0.01584, 0.6561, 0.7515, 0.7006, 0.8617]\n",
      "Epoch     2: reducing learning rate of group 0 to 5.0000e-04.\n",
      "Epoch     2: reducing learning rate of group 1 to 5.0000e-04.\n",
      "e_4 * test rst: [0.01440, 0.7413, 0.6424, 0.6883, 0.8788]\n",
      "e_5 * test rst: [0.02049, 0.7899, 0.5697, 0.6620, 0.8762]\n",
      "e_6 * test rst: [0.01999, 0.7812, 0.6061, 0.6826, 0.8791]\n",
      "e_7 * test rst: [0.02115, 0.7626, 0.6424, 0.6974, 0.8768]\n",
      "e_8 * test rst: [0.02020, 0.6667, 0.6909, 0.6786, 0.8795]\n",
      "training end, used 116.16 s\n",
      "(0.020197112630270554, 0.6666666666666666, 0.6909090909090909, 0.6785714285714286, 0.8795206472788337)\n",
      "total label sum 184.5\n",
      "0.02595440800538283,0.7289156626506024,0.711764705882353,0.7202380952380952,0.8501870977398591\n",
      "0.021789751351409016,0.6421568627450981,0.7705882352941177,0.7005347593582888,0.8751234845083071\n",
      "0.022869113336447925,0.6930232558139535,0.7602040816326531,0.7250608272506083,0.8702107546015682\n",
      "0.029605821596982215,0.6071428571428571,0.6035502958579881,0.6053412462908011,0.7986810605718415\n",
      "0.020197112630270554,0.6666666666666666,0.6909090909090909,0.6785714285714286,0.8795206472788337\n",
      "mean loss, prec, recall, f1, auc\n",
      "[0.024083241384098508, 0.6675810610038356, 0.7074032819152405, 0.6859492713418444, 0.854744608940082]\n",
      "mlt train ended\n",
      "0.667749,0.709195,0.687848,0.851868\n"
     ]
    }
   ],
   "source": [
    "args.num_embedding = 200\n",
    "args.cnn_out_c = 25\n",
    "args.rnn_out_f_n = 100\n",
    "\n",
    "args.rnn_num_directions = 1\n",
    "args.rnn_layers = 1\n",
    "args.window_sizes = [2, 3, 4, 5]\n",
    "args.EB_dp = 0.0\n",
    "args.FC_dp = 0.0\n",
    "\n",
    "args.use_new_loss = False\n",
    "args.use_cls_loss = True\n",
    "\n",
    "args.epochs = 8\n",
    "args.warmup_epoch = 0\n",
    "args.patience_epoch = 3\n",
    "\n",
    "args.learning_rate = 1e-3\n",
    "args.adam_epsilon = 1e-8\n",
    "args.weight_decay = 0\n",
    "args.max_grad_norm = 20\n",
    "args.lr_reduce_factor = 0.5\n",
    "args.threshold = .5\n",
    "args.lr_cooldown = 10\n",
    "args.use_loss_sh = False\n",
    "args.is_iterare_info = True\n",
    "args.l2_weight_decay = 0\n",
    "\n",
    "\n",
    "config = set_model_config(args)\n",
    "    \n",
    "    \n",
    "    \n",
    "kf = KFold(n_splits=5)\n",
    "s_arr = []\n",
    "run_cls_df_l = []\n",
    "\n",
    "tar_feature = features_ann_1\n",
    "for idx, (train_dev_idx, test_idx) in enumerate(kf.split(tar_feature[1])):\n",
    "    cv_train_dev_ds, cv_test_ds = convert_features_to_dataset_cv_aug(tar_feature, train_dev_idx, features_ss_aug), \\\n",
    "                             convert_features_to_dataset_cv(tar_feature, test_idx)\n",
    "    \n",
    "    print('cv, step {}'.format(idx+1))\n",
    "    print(len(cv_train_dev_ds), len(cv_test_ds))\n",
    "    \n",
    "    train_dl = DataLoader(cv_train_dev_ds, batch_size=args.batch_size)\n",
    "    test_dl = DataLoader(cv_test_ds, batch_size=args.batch_size)\n",
    "\n",
    "\n",
    "    model = Base_Net_Ori(config).to(device)\n",
    "    model_init_w_ori(model)\n",
    "    optimizer, scheduler = init_model_optimizer(model, args)\n",
    "    _ = train(model, optimizer, scheduler, train_dl, None, args, test_dl, False)\n",
    "\n",
    "\n",
    "    #test\n",
    "    pred_l, tru_l, S, pre_o = eval(model, test_dl, args, 'test')\n",
    "    _, _, _, f1, auc = S\n",
    "    print(S)\n",
    "    \n",
    "    s_arr.append(list(S))\n",
    "    \n",
    "    y_info = tar_feature[1].iloc[test_idx].copy()\n",
    "    y_info['pred'] = pred_l\n",
    "    y_info['prob'] = pre_o\n",
    "    run_cls_df_l.append(y_info)\n",
    "    print('total label sum', sum(y_info.label))\n",
    "    \n",
    "mer_pd_rst = pd.concat(run_cls_df_l)\n",
    "s_arr = np.array(s_arr)\n",
    "\n",
    "for r in s_arr:\n",
    "    print(','.join([str(i) for i in r]))\n",
    "\n",
    "\n",
    "print('mean loss, prec, recall, f1, auc')\n",
    "print(list(np.mean(s_arr, axis=0)))\n",
    "print('mlt train ended')\n",
    "\n",
    "tru_l = mer_pd_rst['label'].to_numpy()\n",
    "tru_l[tru_l==.5] = 0\n",
    "pred_l = mer_pd_rst['pred'].to_numpy()\n",
    "pred_l[pred_l==.5] = 0\n",
    "pred_l = pred_l.astype(int)\n",
    "precision, recall, f1, _ = \\\n",
    "                    precision_recall_fscore_support(tru_l, pred_l, average='binary',zero_division=1)\n",
    "auc_s = roc_auc_score(mer_pd_rst['label'].to_numpy(), mer_pd_rst['prob'].to_numpy())\n",
    "print('%f,%f,%f,%f' % (precision, recall, f1, auc_s))\n",
    "\n"
   ]
  },
  {
   "cell_type": "code",
   "execution_count": null,
   "metadata": {},
   "outputs": [],
   "source": []
  },
  {
   "cell_type": "code",
   "execution_count": null,
   "metadata": {},
   "outputs": [],
   "source": []
  },
  {
   "cell_type": "code",
   "execution_count": null,
   "metadata": {},
   "outputs": [],
   "source": []
  },
  {
   "cell_type": "code",
   "execution_count": null,
   "metadata": {},
   "outputs": [],
   "source": []
  },
  {
   "cell_type": "code",
   "execution_count": null,
   "metadata": {},
   "outputs": [],
   "source": []
  },
  {
   "cell_type": "code",
   "execution_count": null,
   "metadata": {},
   "outputs": [],
   "source": []
  },
  {
   "cell_type": "code",
   "execution_count": 54,
   "metadata": {},
   "outputs": [],
   "source": [
    "# for _model_idx in range(10):\n",
    "#     args.num_embedding = 64\n",
    "#     args.cnn_out_c = 100\n",
    "#     args.rnn_out_f_n = 68\n",
    "\n",
    "#     args.rnn_num_directions = 2\n",
    "#     args.rnn_layers = 2\n",
    "#     args.window_sizes = [2, 3, 4, 5]\n",
    "#     args.EB_dp = 0.3\n",
    "#     args.FC_dp = 0.1\n",
    "\n",
    "#     args.use_new_loss = False\n",
    "#     args.use_cls_loss = False\n",
    "\n",
    "\n",
    "#     args.epochs = 20\n",
    "#     args.warmup_epoch = 0\n",
    "#     args.patience_epoch = 3\n",
    "\n",
    "#     args.learning_rate = 1e-3\n",
    "#     args.adam_epsilon = 1e-8\n",
    "#     args.weight_decay = 1e-4\n",
    "#     args.l2_weight_decay = 1e-4\n",
    "#     args.max_grad_norm = 5.0\n",
    "#     args.lr_reduce_factor = .5\n",
    "#     args.threshold = .5\n",
    "#     args.lr_cooldown = 2\n",
    "#     args.use_loss_sh = False\n",
    "#     args.is_iterare_info = True\n",
    "\n",
    "\n",
    "#     args.modle_dir = '../models/abs_models'\n",
    "#     model_name_prefix = 'Ann_abs'\n",
    "#     args.checkpoint_f = os.path.join(args.modle_dir, model_name_prefix + \".ckp\")\n",
    "#     args.config_save_f = os.path.join(args.modle_dir,  model_name_prefix + \".cf\")\n",
    "\n",
    "\n",
    "#     config = set_model_config(args)\n",
    "#     torch.save(config, args.config_save_f)\n",
    "\n",
    "#     model = Base_Net(config).to(device)\n",
    "#     model_init_w(model)\n",
    "#     optimizer, scheduler = init_model_optimizer(model, args)\n",
    "\n",
    "#     train_dt, dev_dt, test_dt = dataloader_merge, None, None\n",
    "\n",
    "#     _ = train(model, optimizer, scheduler, train_dt, dev_dt, args, test_dt, True)"
   ]
  },
  {
   "cell_type": "code",
   "execution_count": null,
   "metadata": {},
   "outputs": [],
   "source": []
  },
  {
   "cell_type": "code",
   "execution_count": 131,
   "metadata": {},
   "outputs": [],
   "source": []
  },
  {
   "cell_type": "code",
   "execution_count": null,
   "metadata": {},
   "outputs": [],
   "source": []
  },
  {
   "cell_type": "code",
   "execution_count": null,
   "metadata": {},
   "outputs": [],
   "source": []
  },
  {
   "cell_type": "code",
   "execution_count": null,
   "metadata": {},
   "outputs": [],
   "source": []
  },
  {
   "cell_type": "code",
   "execution_count": 318,
   "metadata": {},
   "outputs": [],
   "source": [
    "# reading 1st data\n",
    "raw_data_dir = \"../data/ann_table/ann_1st.tsv\"\n",
    "s_df = pd.read_csv(raw_data_dir, sep='\\t', header=0)\n",
    "\n",
    "s_df['ann_label'] = \\\n",
    "s_df.apply(lambda x: 0.5 if (x['v2_class'] == 0) and  (x['Have -'] == '1') else x['v2_class'], axis=1)"
   ]
  },
  {
   "cell_type": "code",
   "execution_count": null,
   "metadata": {},
   "outputs": [],
   "source": []
  },
  {
   "cell_type": "code",
   "execution_count": 307,
   "metadata": {},
   "outputs": [],
   "source": [
    "s_df1 = s_df"
   ]
  },
  {
   "cell_type": "code",
   "execution_count": 308,
   "metadata": {},
   "outputs": [
    {
     "data": {
      "image/png": "[encoded data removed]",
      "text/plain": [
       "<Figure size 360x144 with 2 Axes>"
      ]
     },
     "metadata": {
      "needs_background": "light"
     },
     "output_type": "display_data"
    }
   ],
   "source": [
    "c1, c2 = 'label', 'ann_label'\n",
    "nc1, nc2 = 'DisGeNet label', 'Annotated label'\n",
    "tar_s = s_df.groupby([c1, c2])[c2].size()\n",
    "tar_s.index = tar_s.index.rename([nc1, nc2])\n",
    "\n",
    "tar_s = tar_s.unstack(level=-1)\n",
    "\n",
    "fig, ax = plt.subplots(figsize=(5,2)) \n",
    "ax = sn.heatmap(tar_s, cmap='Oranges', annot=True, fmt=\"d\", linewidths=.5, ax=ax)"
   ]
  },
  {
   "cell_type": "code",
   "execution_count": 309,
   "metadata": {},
   "outputs": [
    {
     "name": "stdout",
     "output_type": "stream",
     "text": [
      "ann_label\n",
      "0.0    1732\n",
      "0.5     211\n",
      "1.0     870\n",
      "Name: ann_label, dtype: int64\n"
     ]
    },
    {
     "data": {
      "text/plain": [
       "array([<matplotlib.axes._subplots.AxesSubplot object at 0x7f5a6449bfd0>],\n",
       "      dtype=object)"
      ]
     },
     "execution_count": 309,
     "metadata": {},
     "output_type": "execute_result"
    },
    {
     "data": {
      "image/png": "[encoded data removed]",
      "text/plain": [
       "<Figure size 360x360 with 1 Axes>"
      ]
     },
     "metadata": {},
     "output_type": "display_data"
    }
   ],
   "source": [
    "print(s_df.groupby(['ann_label'])['ann_label'].size())\n",
    "s_df.groupby(['ann_label'])['ann_label'].size().plot(kind='pie', subplots=True, startangle=90,\n",
    "figsize=(5,5), autopct='%1.1f%%')"
   ]
  },
  {
   "cell_type": "code",
   "execution_count": null,
   "metadata": {},
   "outputs": [],
   "source": []
  },
  {
   "cell_type": "code",
   "execution_count": 310,
   "metadata": {},
   "outputs": [],
   "source": [
    "# reading 2nd data\n",
    "raw_data_dir = \"../data/ann_table/ann_2nd.tsv\"\n",
    "s_df = pd.read_csv(raw_data_dir, sep='\\t', header=0)\n"
   ]
  },
  {
   "cell_type": "code",
   "execution_count": 311,
   "metadata": {},
   "outputs": [],
   "source": [
    "s_df['new_label'] = 0.\n",
    "s_df.loc[pd.isna(s_df['r1_label']), 'new_label'] = s_df[pd.isna(s_df['r1_label'])]['label']\n",
    "s_df.loc[~pd.isna(s_df['r1_label']), 'new_label'] = s_df[~pd.isna(s_df['r1_label'])]['r1_label']"
   ]
  },
  {
   "cell_type": "code",
   "execution_count": 312,
   "metadata": {},
   "outputs": [],
   "source": [
    "s_df['ann_label'] = \\\n",
    "s_df.apply(lambda x: 0.5 if (x['new_label'] == 0) and  (x['Have -'] == '1') else x['new_label'], axis=1)"
   ]
  },
  {
   "cell_type": "code",
   "execution_count": null,
   "metadata": {},
   "outputs": [],
   "source": []
  },
  {
   "cell_type": "code",
   "execution_count": 317,
   "metadata": {},
   "outputs": [
    {
     "data": {
      "image/png": "[encoded data removed]",
      "text/plain": [
       "<Figure size 360x144 with 2 Axes>"
      ]
     },
     "metadata": {
      "needs_background": "light"
     },
     "output_type": "display_data"
    }
   ],
   "source": [
    "c1, c2 = 'label', 'ann_label'\n",
    "nc1, nc2 = 'DisGeNet label', 'Annotated label'\n",
    "tar_s = s_df.groupby([c1, c2])[c2].size()\n",
    "tar_s.index = tar_s.index.rename([nc1, nc2])\n",
    "\n",
    "tar_s = tar_s.unstack(level=-1)\n",
    "fig, ax = plt.subplots(figsize=(5,2)) \n",
    "# tar_s = tar_s.transpose()\n",
    "ax = sn.heatmap(tar_s, cmap='Oranges', annot=True, fmt=\"d\", linewidths=.5, ax=ax)"
   ]
  },
  {
   "cell_type": "code",
   "execution_count": 194,
   "metadata": {},
   "outputs": [
    {
     "name": "stdout",
     "output_type": "stream",
     "text": [
      "ann_label\n",
      "0.0    1853\n",
      "0.5      47\n",
      "1.0     834\n",
      "Name: ann_label, dtype: int64\n"
     ]
    },
    {
     "data": {
      "text/plain": [
       "<matplotlib.axes._subplots.AxesSubplot at 0x7f5a64883e50>"
      ]
     },
     "execution_count": 194,
     "metadata": {},
     "output_type": "execute_result"
    },
    {
     "data": {
      "image/png": "[encoded data removed]",
      "text/plain": [
       "<Figure size 432x288 with 1 Axes>"
      ]
     },
     "metadata": {},
     "output_type": "display_data"
    }
   ],
   "source": [
    "print(s_df.groupby(['ann_label'])['ann_label'].size())\n",
    "s_df.groupby(['ann_label'])['ann_label'].size().plot(kind='pie')"
   ]
  },
  {
   "cell_type": "code",
   "execution_count": 259,
   "metadata": {},
   "outputs": [],
   "source": [
    "n1, n2, n3 = 'positivel', 'ambiguous', 'negative'\n",
    "\n",
    "tar_s1 = s_df1.groupby(['ann_label'])['ann_label'].size()\n",
    "tar_s1 = tar_s1.rename(index={1: n1, 0.5:n2, 0: n3})\n",
    "tar_s1 = tar_s1.to_frame()\n",
    "tar_s1 = tar_s1.rename_axis(None)\n",
    "tar_s1 = tar_s1.rename(columns={'ann_label': '1st annotated abstract dataset'})\n",
    "\n",
    "# del tar_s1.index.name\n",
    "\n",
    "tar_s = s_df.groupby(['ann_label'])['ann_label'].size()\n",
    "tar_s = tar_s.rename(index={1: n1, 0.5:n2, 0: n3})\n",
    "tar_s = tar_s.to_frame()\n",
    "tar_s = tar_s.rename_axis(None)\n",
    "tar_s = tar_s.rename(columns={'ann_label': '2nd annotated abstract dataset'})\n"
   ]
  },
  {
   "cell_type": "code",
   "execution_count": 264,
   "metadata": {},
   "outputs": [],
   "source": [
    "mer_s = tar_s1.merge(tar_s, left_index=True, right_index=True)"
   ]
  },
  {
   "cell_type": "code",
   "execution_count": 266,
   "metadata": {},
   "outputs": [
    {
     "data": {
      "text/html": [
       "<div>\n",
       "<style scoped>\n",
       "    .dataframe tbody tr th:only-of-type {\n",
       "        vertical-align: middle;\n",
       "    }\n",
       "\n",
       "    .dataframe tbody tr th {\n",
       "        vertical-align: top;\n",
       "    }\n",
       "\n",
       "    .dataframe thead th {\n",
       "        text-align: right;\n",
       "    }\n",
       "</style>\n",
       "<table border=\"1\" class=\"dataframe\">\n",
       "  <thead>\n",
       "    <tr style=\"text-align: right;\">\n",
       "      <th></th>\n",
       "      <th>1st annotated abstract dataset</th>\n",
       "      <th>2nd annotated abstract dataset</th>\n",
       "    </tr>\n",
       "  </thead>\n",
       "  <tbody>\n",
       "    <tr>\n",
       "      <th>negative</th>\n",
       "      <td>1732</td>\n",
       "      <td>1853</td>\n",
       "    </tr>\n",
       "    <tr>\n",
       "      <th>ambiguous</th>\n",
       "      <td>211</td>\n",
       "      <td>47</td>\n",
       "    </tr>\n",
       "    <tr>\n",
       "      <th>positivel</th>\n",
       "      <td>870</td>\n",
       "      <td>834</td>\n",
       "    </tr>\n",
       "  </tbody>\n",
       "</table>\n",
       "</div>"
      ],
      "text/plain": [
       "           1st annotated abstract dataset  2nd annotated abstract dataset\n",
       "negative                             1732                            1853\n",
       "ambiguous                             211                              47\n",
       "positivel                             870                             834"
      ]
     },
     "execution_count": 266,
     "metadata": {},
     "output_type": "execute_result"
    }
   ],
   "source": [
    "mer_s"
   ]
  },
  {
   "cell_type": "code",
   "execution_count": 284,
   "metadata": {},
   "outputs": [
    {
     "data": {
      "image/png": "[encoded data removed]",
      "text/plain": [
       "<Figure size 864x432 with 2 Axes>"
      ]
     },
     "metadata": {},
     "output_type": "display_data"
    }
   ],
   "source": [
    "mer_s.plot.pie(subplots=True, figsize=(12, 6), startangle=0,  autopct='%1.1f%%')\n",
    "plt.show()"
   ]
  },
  {
   "cell_type": "code",
   "execution_count": 261,
   "metadata": {},
   "outputs": [
    {
     "data": {
      "text/plain": [
       "(           1st annotated abstract dataset\n",
       " negative                             1732\n",
       " ambiguous                             211\n",
       " positivel                             870,\n",
       "            2nd annotated abstract dataset\n",
       " negative                             1853\n",
       " ambiguous                              47\n",
       " positivel                             834)"
      ]
     },
     "execution_count": 261,
     "metadata": {},
     "output_type": "execute_result"
    }
   ],
   "source": [
    "tar_s1, tar_s"
   ]
  },
  {
   "cell_type": "code",
   "execution_count": 214,
   "metadata": {},
   "outputs": [
    {
     "name": "stderr",
     "output_type": "stream",
     "text": [
      "/mnt/bal31/jhsu/home/anaconda3/envs/venv/lib/python3.7/site-packages/matplotlib/text.py:1150: FutureWarning: elementwise comparison failed; returning scalar instead, but in the future will perform elementwise comparison\n",
      "  if s != self._text:\n"
     ]
    },
    {
     "data": {
      "image/png": "[encoded data removed]",
      "text/plain": [
       "<Figure size 864x432 with 2 Axes>"
      ]
     },
     "metadata": {},
     "output_type": "display_data"
    }
   ],
   "source": [
    "d = {'Yes':pd.Series([825, 56], index=[\"Total\", \"Last 2 Month\"]), 'No':pd.Series([725, 73], index=[\"Total\", \"Last 2 Month\"])}\n",
    "df = pd.DataFrame(d)\n",
    "df = df.T\n",
    "def absolute_value(val):\n",
    "    a  = np.round(val/100.*df.values, 0)\n",
    "    return a\n",
    "\n",
    "df.plot.pie(subplots=True, figsize=(12, 6),autopct=absolute_value)\n",
    "plt.show()"
   ]
  },
  {
   "cell_type": "code",
   "execution_count": 215,
   "metadata": {},
   "outputs": [
    {
     "data": {
      "text/html": [
       "<div>\n",
       "<style scoped>\n",
       "    .dataframe tbody tr th:only-of-type {\n",
       "        vertical-align: middle;\n",
       "    }\n",
       "\n",
       "    .dataframe tbody tr th {\n",
       "        vertical-align: top;\n",
       "    }\n",
       "\n",
       "    .dataframe thead th {\n",
       "        text-align: right;\n",
       "    }\n",
       "</style>\n",
       "<table border=\"1\" class=\"dataframe\">\n",
       "  <thead>\n",
       "    <tr style=\"text-align: right;\">\n",
       "      <th></th>\n",
       "      <th>Total</th>\n",
       "      <th>Last 2 Month</th>\n",
       "    </tr>\n",
       "  </thead>\n",
       "  <tbody>\n",
       "    <tr>\n",
       "      <th>Yes</th>\n",
       "      <td>825</td>\n",
       "      <td>56</td>\n",
       "    </tr>\n",
       "    <tr>\n",
       "      <th>No</th>\n",
       "      <td>725</td>\n",
       "      <td>73</td>\n",
       "    </tr>\n",
       "  </tbody>\n",
       "</table>\n",
       "</div>"
      ],
      "text/plain": [
       "     Total  Last 2 Month\n",
       "Yes    825            56\n",
       "No     725            73"
      ]
     },
     "execution_count": 215,
     "metadata": {},
     "output_type": "execute_result"
    }
   ],
   "source": [
    "df"
   ]
  },
  {
   "cell_type": "code",
   "execution_count": null,
   "metadata": {},
   "outputs": [],
   "source": []
  }
 ],
 "metadata": {
  "kernelspec": {
   "display_name": "Python [conda env:venv]",
   "language": "python",
   "name": "conda-env-venv-py"
  },
  "language_info": {
   "codemirror_mode": {
    "name": "ipython",
    "version": 3
   },
   "file_extension": ".py",
   "mimetype": "text/x-python",
   "name": "python",
   "nbconvert_exporter": "python",
   "pygments_lexer": "ipython3",
   "version": "3.7.6"
  },
  "widgets": {
   "application/vnd.jupyter.widget-state+json": {
    "state": {
     "00b6a19122454087be2679522fa6f268": {
      "model_module": "@jupyter-widgets/controls",
      "model_module_version": "1.5.0",
      "model_name": "HBoxModel",
      "state": {
       "children": [
        "IPY_MODEL_67a3c39002e54a7eb807216e0e6c7a3e",
        "IPY_MODEL_b157317f82b343a3a7f12696b764b88d"
       ],
       "layout": "IPY_MODEL_e439ca65dee24359a000a505ed41a480"
      }
     },
     "07e05f82a76149c6aef1fdb2b608388a": {
      "model_module": "@jupyter-widgets/base",
      "model_module_version": "1.2.0",
      "model_name": "LayoutModel",
      "state": {
       "display": "inline-flex",
       "flex_flow": "row wrap",
       "width": "800px"
      }
     },
     "08211dc7247c4ff5ac7dcdd7aea20e2c": {
      "model_module": "@jupyter-widgets/base",
      "model_module_version": "1.2.0",
      "model_name": "LayoutModel",
      "state": {
       "display": "inline-flex",
       "flex_flow": "row wrap",
       "width": "800px"
      }
     },
     "0875182a1b4747d2aa00f5d9152b655f": {
      "model_module": "@jupyter-widgets/controls",
      "model_module_version": "1.5.0",
      "model_name": "ProgressStyleModel",
      "state": {
       "description_width": "initial"
      }
     },
     "08e51381a31f428cab096054e747f71f": {
      "model_module": "@jupyter-widgets/controls",
      "model_module_version": "1.5.0",
      "model_name": "HBoxModel",
      "state": {
       "children": [
        "IPY_MODEL_1fc51c75b58a409f8832651aa2f4818e",
        "IPY_MODEL_f988f4156b17413290924e4464703cb1"
       ],
       "layout": "IPY_MODEL_bdd547e134c04deb910d4bba67c985c2"
      }
     },
     "097644bf303f42ba8cb98cbf57eff30e": {
      "model_module": "@jupyter-widgets/controls",
      "model_module_version": "1.5.0",
      "model_name": "DescriptionStyleModel",
      "state": {
       "description_width": ""
      }
     },
     "09f4d332b91f46229b81ffd0a64326db": {
      "model_module": "@jupyter-widgets/base",
      "model_module_version": "1.2.0",
      "model_name": "LayoutModel",
      "state": {
       "display": "inline-flex",
       "flex_flow": "row wrap",
       "width": "800px"
      }
     },
     "0a236c04424d4beebc8550b66d70a604": {
      "model_module": "@jupyter-widgets/base",
      "model_module_version": "1.2.0",
      "model_name": "LayoutModel",
      "state": {
       "flex": "2"
      }
     },
     "0b031c8a89924c1caecc82edb9475327": {
      "model_module": "@jupyter-widgets/controls",
      "model_module_version": "1.5.0",
      "model_name": "HBoxModel",
      "state": {
       "children": [
        "IPY_MODEL_79ace6c1f33d46db921692184459eb28",
        "IPY_MODEL_5bac2cb1977744eda283d07d3f9a49f2"
       ],
       "layout": "IPY_MODEL_835b4db9434a468facdc052491b44170"
      }
     },
     "0ca5c7c74ea0414c94c86945493c81ab": {
      "model_module": "@jupyter-widgets/controls",
      "model_module_version": "1.5.0",
      "model_name": "FloatProgressModel",
      "state": {
       "bar_style": "success",
       "description": "It { L 0.00252, 0.927, 0.904, 0.915,  0.978/ BF 0.915} : 100%",
       "layout": "IPY_MODEL_bc386895a30844329164a7dbf0783263",
       "max": 4353,
       "style": "IPY_MODEL_0fd6e2eccf5646b3a785ec6fd2c96d7b",
       "value": 4353
      }
     },
     "0fd6e2eccf5646b3a785ec6fd2c96d7b": {
      "model_module": "@jupyter-widgets/controls",
      "model_module_version": "1.5.0",
      "model_name": "ProgressStyleModel",
      "state": {
       "description_width": "initial"
      }
     },
     "1023fc59857d47b1bf9025273ad3b13c": {
      "model_module": "@jupyter-widgets/controls",
      "model_module_version": "1.5.0",
      "model_name": "DescriptionStyleModel",
      "state": {
       "description_width": ""
      }
     },
     "11fe27ce89cc4043959abd8cf5e6b713": {
      "model_module": "@jupyter-widgets/controls",
      "model_module_version": "1.5.0",
      "model_name": "ProgressStyleModel",
      "state": {
       "description_width": "initial"
      }
     },
     "14f0e17827ae4efc90933ea1bdd4457c": {
      "model_module": "@jupyter-widgets/controls",
      "model_module_version": "1.5.0",
      "model_name": "FloatProgressModel",
      "state": {
       "bar_style": "success",
       "description": "It { L 0.17114, 0.665, 0.535, 0.593,  0.802/ BF 0.593} : 100%",
       "layout": "IPY_MODEL_7338072c8dc44303a7bfcbffae21a9bb",
       "max": 174,
       "style": "IPY_MODEL_a60b3bf1a0f0439ca3759ea1d2c045ed",
       "value": 174
      }
     },
     "163c863266254898a76b67c105adfd10": {
      "model_module": "@jupyter-widgets/controls",
      "model_module_version": "1.5.0",
      "model_name": "HBoxModel",
      "state": {
       "children": [
        "IPY_MODEL_78480c07ab904c448fe5888b3432c839",
        "IPY_MODEL_ee14c53b32cf4662806cdbf976869636"
       ],
       "layout": "IPY_MODEL_f8e9ec2e9f5d463da62eddad475cabba"
      }
     },
     "18975cb9da8b4a66b26a558ada57eb10": {
      "model_module": "@jupyter-widgets/base",
      "model_module_version": "1.2.0",
      "model_name": "LayoutModel",
      "state": {
       "flex": "2"
      }
     },
     "1aabb28858544509b422938b3b06c474": {
      "model_module": "@jupyter-widgets/base",
      "model_module_version": "1.2.0",
      "model_name": "LayoutModel",
      "state": {
       "display": "inline-flex",
       "flex_flow": "row wrap",
       "width": "800px"
      }
     },
     "1e2c414a8b3240c3b232f7cb9f135d64": {
      "model_module": "@jupyter-widgets/base",
      "model_module_version": "1.2.0",
      "model_name": "LayoutModel",
      "state": {
       "flex": "2"
      }
     },
     "1e75918cf10f4cfdb71b3e33a476457e": {
      "model_module": "@jupyter-widgets/base",
      "model_module_version": "1.2.0",
      "model_name": "LayoutModel",
      "state": {
       "display": "inline-flex",
       "flex_flow": "row wrap",
       "width": "800px"
      }
     },
     "1fc51c75b58a409f8832651aa2f4818e": {
      "model_module": "@jupyter-widgets/controls",
      "model_module_version": "1.5.0",
      "model_name": "FloatProgressModel",
      "state": {
       "bar_style": "success",
       "description": "It { L 0.00829, 0.871, 0.821, 0.845,  0.955/ BF 0.847} : 100%",
       "layout": "IPY_MODEL_2d3784c023ca4072a68dec782edd6840",
       "max": 4353,
       "style": "IPY_MODEL_d7cc5c9306ed43f696f31e7d7efc6d9a",
       "value": 4353
      }
     },
     "23222f0b5fe74fd1ae56c0adad692bb8": {
      "model_module": "@jupyter-widgets/controls",
      "model_module_version": "1.5.0",
      "model_name": "FloatProgressModel",
      "state": {
       "bar_style": "danger",
       "description": "It { L 0.02153, 0.884, 0.959, 0.920,  0.966/ BF 0.927} :  41%",
       "layout": "IPY_MODEL_62520786ba34495998782320bf66f8f3",
       "max": 174,
       "style": "IPY_MODEL_11fe27ce89cc4043959abd8cf5e6b713",
       "value": 72
      }
     },
     "247aa67b0d524ce591f032e43089dca4": {
      "model_module": "@jupyter-widgets/base",
      "model_module_version": "1.2.0",
      "model_name": "LayoutModel",
      "state": {}
     },
     "26f547733c0c469d8cff89e810b297d1": {
      "model_module": "@jupyter-widgets/controls",
      "model_module_version": "1.5.0",
      "model_name": "HBoxModel",
      "state": {
       "children": [
        "IPY_MODEL_23222f0b5fe74fd1ae56c0adad692bb8",
        "IPY_MODEL_ed9e400772c643aa9f8410064a2b7c28"
       ],
       "layout": "IPY_MODEL_990759c2ffbd433f93934326e545a52e"
      }
     },
     "2830f753715b42a5a58bad02c53eaf60": {
      "model_module": "@jupyter-widgets/controls",
      "model_module_version": "1.5.0",
      "model_name": "FloatProgressModel",
      "state": {
       "bar_style": "success",
       "description": "It { L 0.01268, 0.868, 0.819, 0.843,  0.956/ BF 0.845} : 100%",
       "layout": "IPY_MODEL_bdf2a6a235574886a49b75a027e57414",
       "max": 4353,
       "style": "IPY_MODEL_c5c72d85dcd049cc85e503ed5da2e933",
       "value": 4353
      }
     },
     "2af8fc86a5f64e71876a0789ce32e184": {
      "model_module": "@jupyter-widgets/controls",
      "model_module_version": "1.5.0",
      "model_name": "ProgressStyleModel",
      "state": {
       "description_width": "initial"
      }
     },
     "2ba6113093174861b6325a0d8c8ffb53": {
      "model_module": "@jupyter-widgets/base",
      "model_module_version": "1.2.0",
      "model_name": "LayoutModel",
      "state": {}
     },
     "2c6247b18d654affb989d2053958ca1d": {
      "model_module": "@jupyter-widgets/base",
      "model_module_version": "1.2.0",
      "model_name": "LayoutModel",
      "state": {
       "display": "inline-flex",
       "flex_flow": "row wrap",
       "width": "800px"
      }
     },
     "2d3784c023ca4072a68dec782edd6840": {
      "model_module": "@jupyter-widgets/base",
      "model_module_version": "1.2.0",
      "model_name": "LayoutModel",
      "state": {
       "flex": "2"
      }
     },
     "3065dc8950b74b4b984b66a703c0f02d": {
      "model_module": "@jupyter-widgets/controls",
      "model_module_version": "1.5.0",
      "model_name": "HBoxModel",
      "state": {
       "children": [
        "IPY_MODEL_14f0e17827ae4efc90933ea1bdd4457c",
        "IPY_MODEL_b6d3a62e47c24bb5a54198b51f6ad1f0"
       ],
       "layout": "IPY_MODEL_eb7e38089e7b4914913927da6b0847a6"
      }
     },
     "32727aeae87f4dc5b18580c3de79fb30": {
      "model_module": "@jupyter-widgets/controls",
      "model_module_version": "1.5.0",
      "model_name": "HTMLModel",
      "state": {
       "layout": "IPY_MODEL_999209b5ce9e4445a1c5703544d40a9d",
       "style": "IPY_MODEL_1023fc59857d47b1bf9025273ad3b13c",
       "value": " 4353/4353 [22:57&lt;00:00,  3.16it/s]"
      }
     },
     "333e1942561641b2acb241acbf0063fe": {
      "model_module": "@jupyter-widgets/base",
      "model_module_version": "1.2.0",
      "model_name": "LayoutModel",
      "state": {}
     },
     "334c6b14a9d3477c805707ff58c1a8e6": {
      "model_module": "@jupyter-widgets/controls",
      "model_module_version": "1.5.0",
      "model_name": "DescriptionStyleModel",
      "state": {
       "description_width": ""
      }
     },
     "34ccbf88aa5542b68da5ff76a5c7c274": {
      "model_module": "@jupyter-widgets/base",
      "model_module_version": "1.2.0",
      "model_name": "LayoutModel",
      "state": {}
     },
     "352e7c65ac0b487c9b1ceae9dd2cdd30": {
      "model_module": "@jupyter-widgets/controls",
      "model_module_version": "1.5.0",
      "model_name": "ProgressStyleModel",
      "state": {
       "description_width": "initial"
      }
     },
     "3924debf12d3457794903e64d9a182b2": {
      "model_module": "@jupyter-widgets/controls",
      "model_module_version": "1.5.0",
      "model_name": "HBoxModel",
      "state": {
       "children": [
        "IPY_MODEL_fa076cd196b34fdcafcac2d9110ec12e",
        "IPY_MODEL_9b5507391f684217a8a859ca9eed3e34"
       ],
       "layout": "IPY_MODEL_1e75918cf10f4cfdb71b3e33a476457e"
      }
     },
     "39c695f951e140a4bb61f4e503fc35de": {
      "model_module": "@jupyter-widgets/base",
      "model_module_version": "1.2.0",
      "model_name": "LayoutModel",
      "state": {}
     },
     "3a59adf3c26447e89fceaee696ae7fab": {
      "model_module": "@jupyter-widgets/controls",
      "model_module_version": "1.5.0",
      "model_name": "DescriptionStyleModel",
      "state": {
       "description_width": ""
      }
     },
     "3d6dd986de964880925afe9af62dbf28": {
      "model_module": "@jupyter-widgets/base",
      "model_module_version": "1.2.0",
      "model_name": "LayoutModel",
      "state": {}
     },
     "3e8d5adc640244aa9cba6d0a57a9f742": {
      "model_module": "@jupyter-widgets/base",
      "model_module_version": "1.2.0",
      "model_name": "LayoutModel",
      "state": {}
     },
     "400eeae29a70417189bdb3b861bf275b": {
      "model_module": "@jupyter-widgets/controls",
      "model_module_version": "1.5.0",
      "model_name": "DescriptionStyleModel",
      "state": {
       "description_width": ""
      }
     },
     "40fed54cde3c4054aff1f86e0097a003": {
      "model_module": "@jupyter-widgets/controls",
      "model_module_version": "1.5.0",
      "model_name": "DescriptionStyleModel",
      "state": {
       "description_width": ""
      }
     },
     "4704debba3574352888100dcf3a0fda4": {
      "model_module": "@jupyter-widgets/controls",
      "model_module_version": "1.5.0",
      "model_name": "HBoxModel",
      "state": {
       "children": [
        "IPY_MODEL_abf5ba7cbe574e2e8638e531bc7303f7",
        "IPY_MODEL_d2b371608d444db88dcf65840bfad964"
       ],
       "layout": "IPY_MODEL_f4b040a930b44e699f22be5c05ff6d42"
      }
     },
     "4825005b81e049bdb5b5fa385d1f1543": {
      "model_module": "@jupyter-widgets/controls",
      "model_module_version": "1.5.0",
      "model_name": "HTMLModel",
      "state": {
       "layout": "IPY_MODEL_81f2a85f942b428a8cb97f3a4aaa2799",
       "style": "IPY_MODEL_cc24e45743f147fcb177e2eb2680e4aa",
       "value": " 174/174 [00:13&lt;00:00, 13.35it/s]"
      }
     },
     "49273e5401a34509914842dfc87c217d": {
      "model_module": "@jupyter-widgets/controls",
      "model_module_version": "1.5.0",
      "model_name": "FloatProgressModel",
      "state": {
       "bar_style": "success",
       "description": "It { L 0.02530, 0.816, 0.724, 0.767,  0.920/ BF 0.767} : 100%",
       "layout": "IPY_MODEL_f4758f51c0cc4a4fa8289405657f4498",
       "max": 4353,
       "style": "IPY_MODEL_fb2ffabe3d2e4c0cb5e8ce128d3cbbc7",
       "value": 4353
      }
     },
     "4bdcd0bde26d440e9357fa93c1603392": {
      "model_module": "@jupyter-widgets/base",
      "model_module_version": "1.2.0",
      "model_name": "LayoutModel",
      "state": {}
     },
     "4cc47e2021224d65bead9a91ebab69c3": {
      "model_module": "@jupyter-widgets/base",
      "model_module_version": "1.2.0",
      "model_name": "LayoutModel",
      "state": {
       "flex": "2"
      }
     },
     "4f8407b099ae4fc7a6368fabe730f51a": {
      "model_module": "@jupyter-widgets/controls",
      "model_module_version": "1.5.0",
      "model_name": "ProgressStyleModel",
      "state": {
       "description_width": "initial"
      }
     },
     "503ba4e658b140c3acc246c48017a6e5": {
      "model_module": "@jupyter-widgets/controls",
      "model_module_version": "1.5.0",
      "model_name": "DescriptionStyleModel",
      "state": {
       "description_width": ""
      }
     },
     "523573c6f65a43eea83ff94dcb6ded30": {
      "model_module": "@jupyter-widgets/controls",
      "model_module_version": "1.5.0",
      "model_name": "FloatProgressModel",
      "state": {
       "bar_style": "success",
       "description": "It { L 0.13428, 0.809, 0.804, 0.806,  0.927/ BF 0.810} : 100%",
       "layout": "IPY_MODEL_7d742e3604cb4e8eb783cb45aeee870b",
       "max": 174,
       "style": "IPY_MODEL_2af8fc86a5f64e71876a0789ce32e184",
       "value": 174
      }
     },
     "546087b1d49346a8a1f0ed6afef1fb16": {
      "model_module": "@jupyter-widgets/base",
      "model_module_version": "1.2.0",
      "model_name": "LayoutModel",
      "state": {
       "display": "inline-flex",
       "flex_flow": "row wrap",
       "width": "800px"
      }
     },
     "5614e8f87a2c4d3f94a1352f8de62094": {
      "model_module": "@jupyter-widgets/base",
      "model_module_version": "1.2.0",
      "model_name": "LayoutModel",
      "state": {
       "flex": "2"
      }
     },
     "5657752a2f324c1eb41d3f435b0c7cf7": {
      "model_module": "@jupyter-widgets/base",
      "model_module_version": "1.2.0",
      "model_name": "LayoutModel",
      "state": {
       "display": "inline-flex",
       "flex_flow": "row wrap",
       "width": "800px"
      }
     },
     "567ca2c6436a407482b0224981a1c96d": {
      "model_module": "@jupyter-widgets/base",
      "model_module_version": "1.2.0",
      "model_name": "LayoutModel",
      "state": {
       "display": "inline-flex",
       "flex_flow": "row wrap",
       "width": "800px"
      }
     },
     "56b327c36bed477682e6bdf9c74cceb2": {
      "model_module": "@jupyter-widgets/controls",
      "model_module_version": "1.5.0",
      "model_name": "DescriptionStyleModel",
      "state": {
       "description_width": ""
      }
     },
     "5bac2cb1977744eda283d07d3f9a49f2": {
      "model_module": "@jupyter-widgets/controls",
      "model_module_version": "1.5.0",
      "model_name": "HTMLModel",
      "state": {
       "layout": "IPY_MODEL_70268e1e8c4f4a009bfed18e971d50f0",
       "style": "IPY_MODEL_b90ec11542134681bc6acc828bba79ba",
       "value": " 174/174 [00:18&lt;00:00,  9.53it/s]"
      }
     },
     "61a710f916914b6b8df7bfbae02f5f97": {
      "model_module": "@jupyter-widgets/controls",
      "model_module_version": "1.5.0",
      "model_name": "HTMLModel",
      "state": {
       "layout": "IPY_MODEL_a81313bae19c4577998a610e580190a6",
       "style": "IPY_MODEL_daabd551357048078a487d73f6855027",
       "value": " 174/174 [01:05&lt;00:00,  2.65it/s]"
      }
     },
     "62520786ba34495998782320bf66f8f3": {
      "model_module": "@jupyter-widgets/base",
      "model_module_version": "1.2.0",
      "model_name": "LayoutModel",
      "state": {
       "flex": "2"
      }
     },
     "627b5107c1d34e04830c105f72824a95": {
      "model_module": "@jupyter-widgets/base",
      "model_module_version": "1.2.0",
      "model_name": "LayoutModel",
      "state": {
       "display": "inline-flex",
       "flex_flow": "row wrap",
       "width": "800px"
      }
     },
     "65c385ff8f4046b5b7799ceb258389b8": {
      "model_module": "@jupyter-widgets/controls",
      "model_module_version": "1.5.0",
      "model_name": "FloatProgressModel",
      "state": {
       "bar_style": "success",
       "description": "It { L 0.04631, 0.888, 0.950, 0.918,  0.976/ BF 0.918} : 100%",
       "layout": "IPY_MODEL_5614e8f87a2c4d3f94a1352f8de62094",
       "max": 174,
       "style": "IPY_MODEL_0875182a1b4747d2aa00f5d9152b655f",
       "value": 174
      }
     },
     "67a3c39002e54a7eb807216e0e6c7a3e": {
      "model_module": "@jupyter-widgets/controls",
      "model_module_version": "1.5.0",
      "model_name": "FloatProgressModel",
      "state": {
       "bar_style": "success",
       "description": "It { L 0.00765, 0.900, 0.866, 0.883,  0.968/ BF 0.884} : 100%",
       "layout": "IPY_MODEL_71b2aeaa8c4d4d95b8550787ed970651",
       "max": 4353,
       "style": "IPY_MODEL_fdd0f2cb314641b8b9c6d587547751e5",
       "value": 4353
      }
     },
     "6f1feee44a774e3a85e77447f6bd51fc": {
      "model_module": "@jupyter-widgets/controls",
      "model_module_version": "1.5.0",
      "model_name": "DescriptionStyleModel",
      "state": {
       "description_width": ""
      }
     },
     "70268e1e8c4f4a009bfed18e971d50f0": {
      "model_module": "@jupyter-widgets/base",
      "model_module_version": "1.2.0",
      "model_name": "LayoutModel",
      "state": {}
     },
     "715a822107eb4e5a892ca8c429cb0d09": {
      "model_module": "@jupyter-widgets/controls",
      "model_module_version": "1.5.0",
      "model_name": "FloatProgressModel",
      "state": {
       "bar_style": "success",
       "description": "It { L 0.05231, 0.872, 0.943, 0.907,  0.972/ BF 0.907} : 100%",
       "layout": "IPY_MODEL_1e2c414a8b3240c3b232f7cb9f135d64",
       "max": 174,
       "style": "IPY_MODEL_352e7c65ac0b487c9b1ceae9dd2cdd30",
       "value": 174
      }
     },
     "71b2aeaa8c4d4d95b8550787ed970651": {
      "model_module": "@jupyter-widgets/base",
      "model_module_version": "1.2.0",
      "model_name": "LayoutModel",
      "state": {
       "flex": "2"
      }
     },
     "7277f674ec3a4df9b66f0271b2bf5492": {
      "model_module": "@jupyter-widgets/controls",
      "model_module_version": "1.5.0",
      "model_name": "ProgressStyleModel",
      "state": {
       "description_width": "initial"
      }
     },
     "7338072c8dc44303a7bfcbffae21a9bb": {
      "model_module": "@jupyter-widgets/base",
      "model_module_version": "1.2.0",
      "model_name": "LayoutModel",
      "state": {
       "flex": "2"
      }
     },
     "756633856224416b8e9c36c3605422c7": {
      "model_module": "@jupyter-widgets/controls",
      "model_module_version": "1.5.0",
      "model_name": "DescriptionStyleModel",
      "state": {
       "description_width": ""
      }
     },
     "78480c07ab904c448fe5888b3432c839": {
      "model_module": "@jupyter-widgets/controls",
      "model_module_version": "1.5.0",
      "model_name": "FloatProgressModel",
      "state": {
       "bar_style": "success",
       "description": "It { L 0.00186, 0.927, 0.906, 0.916,  0.978/ BF 0.916} : 100%",
       "layout": "IPY_MODEL_c2c31132b9f141dd9459992fc7216de3",
       "max": 4353,
       "style": "IPY_MODEL_f66f214dcfa648f4b8fa984dab592392",
       "value": 4353
      }
     },
     "79ace6c1f33d46db921692184459eb28": {
      "model_module": "@jupyter-widgets/controls",
      "model_module_version": "1.5.0",
      "model_name": "FloatProgressModel",
      "state": {
       "bar_style": "success",
       "description": "It { L 0.09749, 0.763, 0.709, 0.735,  0.888/ BF 0.735} : 100%",
       "layout": "IPY_MODEL_c27779c53e0746d39cf4b3ff5a8c3d77",
       "max": 174,
       "style": "IPY_MODEL_99b77728488d4a4c9a04cce6ae36442c",
       "value": 174
      }
     },
     "7b12270c35bf43dbb5ebeebbdc3768bd": {
      "model_module": "@jupyter-widgets/controls",
      "model_module_version": "1.5.0",
      "model_name": "HBoxModel",
      "state": {
       "children": [
        "IPY_MODEL_cbac94b603364979bd31e85c7e77dbce",
        "IPY_MODEL_ca28202015d44406b662ce463132eaa6"
       ],
       "layout": "IPY_MODEL_9cba73c6a0ef491291287c183ef2d4fd"
      }
     },
     "7d684121338d4cd4a23b542cb79f9e18": {
      "model_module": "@jupyter-widgets/controls",
      "model_module_version": "1.5.0",
      "model_name": "DescriptionStyleModel",
      "state": {
       "description_width": ""
      }
     },
     "7d742e3604cb4e8eb783cb45aeee870b": {
      "model_module": "@jupyter-widgets/base",
      "model_module_version": "1.2.0",
      "model_name": "LayoutModel",
      "state": {
       "flex": "2"
      }
     },
     "7e58ed006a444db083b69075e54b8f35": {
      "model_module": "@jupyter-widgets/controls",
      "model_module_version": "1.5.0",
      "model_name": "HBoxModel",
      "state": {
       "children": [
        "IPY_MODEL_715a822107eb4e5a892ca8c429cb0d09",
        "IPY_MODEL_cad9e078f4bc4cc58b1b19805341c202"
       ],
       "layout": "IPY_MODEL_1aabb28858544509b422938b3b06c474"
      }
     },
     "81f2a85f942b428a8cb97f3a4aaa2799": {
      "model_module": "@jupyter-widgets/base",
      "model_module_version": "1.2.0",
      "model_name": "LayoutModel",
      "state": {}
     },
     "82f89ef8714b4505aed02f44de64f605": {
      "model_module": "@jupyter-widgets/controls",
      "model_module_version": "1.5.0",
      "model_name": "HTMLModel",
      "state": {
       "layout": "IPY_MODEL_34ccbf88aa5542b68da5ff76a5c7c274",
       "style": "IPY_MODEL_40fed54cde3c4054aff1f86e0097a003",
       "value": " 4353/4353 [09:21&lt;00:00,  7.76it/s]"
      }
     },
     "835b4db9434a468facdc052491b44170": {
      "model_module": "@jupyter-widgets/base",
      "model_module_version": "1.2.0",
      "model_name": "LayoutModel",
      "state": {
       "display": "inline-flex",
       "flex_flow": "row wrap",
       "width": "800px"
      }
     },
     "87965c469b284969a88920553dd1d98e": {
      "model_module": "@jupyter-widgets/controls",
      "model_module_version": "1.5.0",
      "model_name": "FloatProgressModel",
      "state": {
       "bar_style": "success",
       "description": "It { L 0.00577, 0.902, 0.863, 0.882,  0.967/ BF 0.882} : 100%",
       "layout": "IPY_MODEL_dedfb89e8a5a4193a542d1810469051e",
       "max": 4353,
       "style": "IPY_MODEL_9c0ac6dca7614acca32433dcab0f92f0",
       "value": 4353
      }
     },
     "87c3653b856d4060a9c28a5f5bae96bb": {
      "model_module": "@jupyter-widgets/base",
      "model_module_version": "1.2.0",
      "model_name": "LayoutModel",
      "state": {}
     },
     "8c650706bbd74aeda50c9e031c7ca16a": {
      "model_module": "@jupyter-widgets/controls",
      "model_module_version": "1.5.0",
      "model_name": "FloatProgressModel",
      "state": {
       "bar_style": "success",
       "description": "It { L 0.05223, 0.895, 0.956, 0.925,  0.976/ BF 0.927} : 100%",
       "layout": "IPY_MODEL_8f2b076786ed46188d8eb9368c7ca017",
       "max": 174,
       "style": "IPY_MODEL_d273e9d291c1463a87d1744b9b7375f1",
       "value": 174
      }
     },
     "8dfb4981def74335b56c1cc4ea2645cd": {
      "model_module": "@jupyter-widgets/controls",
      "model_module_version": "1.5.0",
      "model_name": "ProgressStyleModel",
      "state": {
       "description_width": "initial"
      }
     },
     "8e20f3719373489e923dd23f58a27231": {
      "model_module": "@jupyter-widgets/base",
      "model_module_version": "1.2.0",
      "model_name": "LayoutModel",
      "state": {
       "display": "inline-flex",
       "flex_flow": "row wrap",
       "width": "800px"
      }
     },
     "8f2b076786ed46188d8eb9368c7ca017": {
      "model_module": "@jupyter-widgets/base",
      "model_module_version": "1.2.0",
      "model_name": "LayoutModel",
      "state": {
       "flex": "2"
      }
     },
     "909b06b420f74fbe854670e115d29114": {
      "model_module": "@jupyter-widgets/controls",
      "model_module_version": "1.5.0",
      "model_name": "DescriptionStyleModel",
      "state": {
       "description_width": ""
      }
     },
     "94cf63e8807a44788ce6f30041f517d7": {
      "model_module": "@jupyter-widgets/base",
      "model_module_version": "1.2.0",
      "model_name": "LayoutModel",
      "state": {}
     },
     "98de5bd2d62f488683cfede22fbf44a2": {
      "model_module": "@jupyter-widgets/controls",
      "model_module_version": "1.5.0",
      "model_name": "HBoxModel",
      "state": {
       "children": [
        "IPY_MODEL_65c385ff8f4046b5b7799ceb258389b8",
        "IPY_MODEL_b9f3e5a038f44e59808d72595d4b5a80"
       ],
       "layout": "IPY_MODEL_567ca2c6436a407482b0224981a1c96d"
      }
     },
     "990759c2ffbd433f93934326e545a52e": {
      "model_module": "@jupyter-widgets/base",
      "model_module_version": "1.2.0",
      "model_name": "LayoutModel",
      "state": {
       "display": "inline-flex",
       "flex_flow": "row wrap",
       "width": "800px"
      }
     },
     "999209b5ce9e4445a1c5703544d40a9d": {
      "model_module": "@jupyter-widgets/base",
      "model_module_version": "1.2.0",
      "model_name": "LayoutModel",
      "state": {}
     },
     "99b77728488d4a4c9a04cce6ae36442c": {
      "model_module": "@jupyter-widgets/controls",
      "model_module_version": "1.5.0",
      "model_name": "ProgressStyleModel",
      "state": {
       "description_width": "initial"
      }
     },
     "9aaca73fc1e244bbbcfd6ec330b25e35": {
      "model_module": "@jupyter-widgets/controls",
      "model_module_version": "1.5.0",
      "model_name": "FloatProgressModel",
      "state": {
       "bar_style": "success",
       "description": "It { L 0.07817, 0.819, 0.858, 0.838,  0.951/ BF 0.838} : 100%",
       "layout": "IPY_MODEL_18975cb9da8b4a66b26a558ada57eb10",
       "max": 174,
       "style": "IPY_MODEL_7277f674ec3a4df9b66f0271b2bf5492",
       "value": 174
      }
     },
     "9b5507391f684217a8a859ca9eed3e34": {
      "model_module": "@jupyter-widgets/controls",
      "model_module_version": "1.5.0",
      "model_name": "HTMLModel",
      "state": {
       "layout": "IPY_MODEL_3d6dd986de964880925afe9af62dbf28",
       "style": "IPY_MODEL_909b06b420f74fbe854670e115d29114",
       "value": " 174/174 [00:18&lt;00:00,  9.49it/s]"
      }
     },
     "9c0ac6dca7614acca32433dcab0f92f0": {
      "model_module": "@jupyter-widgets/controls",
      "model_module_version": "1.5.0",
      "model_name": "ProgressStyleModel",
      "state": {
       "description_width": "initial"
      }
     },
     "9cba73c6a0ef491291287c183ef2d4fd": {
      "model_module": "@jupyter-widgets/base",
      "model_module_version": "1.2.0",
      "model_name": "LayoutModel",
      "state": {
       "display": "inline-flex",
       "flex_flow": "row wrap",
       "width": "800px"
      }
     },
     "a60b3bf1a0f0439ca3759ea1d2c045ed": {
      "model_module": "@jupyter-widgets/controls",
      "model_module_version": "1.5.0",
      "model_name": "ProgressStyleModel",
      "state": {
       "description_width": "initial"
      }
     },
     "a76ba3aa946c448ab3a044befcd94263": {
      "model_module": "@jupyter-widgets/base",
      "model_module_version": "1.2.0",
      "model_name": "LayoutModel",
      "state": {}
     },
     "a7a86f7dc05f47b6a496e8fcb7ef6b3a": {
      "model_module": "@jupyter-widgets/base",
      "model_module_version": "1.2.0",
      "model_name": "LayoutModel",
      "state": {}
     },
     "a81313bae19c4577998a610e580190a6": {
      "model_module": "@jupyter-widgets/base",
      "model_module_version": "1.2.0",
      "model_name": "LayoutModel",
      "state": {}
     },
     "aaf70c721e8e4f2eb73f5577f26a3b3b": {
      "model_module": "@jupyter-widgets/controls",
      "model_module_version": "1.5.0",
      "model_name": "HTMLModel",
      "state": {
       "layout": "IPY_MODEL_e72377ff852747b18af3424ad2374088",
       "style": "IPY_MODEL_3a59adf3c26447e89fceaee696ae7fab",
       "value": " 174/174 [00:18&lt;00:00,  9.49it/s]"
      }
     },
     "abf5ba7cbe574e2e8638e531bc7303f7": {
      "model_module": "@jupyter-widgets/controls",
      "model_module_version": "1.5.0",
      "model_name": "FloatProgressModel",
      "state": {
       "bar_style": "success",
       "description": "It { L 0.01887, 0.816, 0.726, 0.769,  0.920/ BF 0.769} : 100%",
       "layout": "IPY_MODEL_c78ec3d359404db1bd1d3692d8aaa433",
       "max": 4353,
       "style": "IPY_MODEL_8dfb4981def74335b56c1cc4ea2645cd",
       "value": 4353
      }
     },
     "b0da8abb43ca48309fbfece666dc75ee": {
      "model_module": "@jupyter-widgets/base",
      "model_module_version": "1.2.0",
      "model_name": "LayoutModel",
      "state": {
       "flex": "2"
      }
     },
     "b157317f82b343a3a7f12696b764b88d": {
      "model_module": "@jupyter-widgets/controls",
      "model_module_version": "1.5.0",
      "model_name": "HTMLModel",
      "state": {
       "layout": "IPY_MODEL_2ba6113093174861b6325a0d8c8ffb53",
       "style": "IPY_MODEL_400eeae29a70417189bdb3b861bf275b",
       "value": " 4353/4353 [13:37&lt;00:00,  5.32it/s]"
      }
     },
     "b24bb073ebee4d23842dd0cbbc2e44f4": {
      "model_module": "@jupyter-widgets/controls",
      "model_module_version": "1.5.0",
      "model_name": "DescriptionStyleModel",
      "state": {
       "description_width": ""
      }
     },
     "b2dc07ceff4249f1b549dab4864c1b4e": {
      "model_module": "@jupyter-widgets/controls",
      "model_module_version": "1.5.0",
      "model_name": "ProgressStyleModel",
      "state": {
       "description_width": "initial"
      }
     },
     "b6d3a62e47c24bb5a54198b51f6ad1f0": {
      "model_module": "@jupyter-widgets/controls",
      "model_module_version": "1.5.0",
      "model_name": "HTMLModel",
      "state": {
       "layout": "IPY_MODEL_a7a86f7dc05f47b6a496e8fcb7ef6b3a",
       "style": "IPY_MODEL_756633856224416b8e9c36c3605422c7",
       "value": " 174/174 [01:24&lt;00:00,  2.07it/s]"
      }
     },
     "b6dc047654e5402488a8c1c5f5c6709d": {
      "model_module": "@jupyter-widgets/controls",
      "model_module_version": "1.5.0",
      "model_name": "ProgressStyleModel",
      "state": {
       "description_width": "initial"
      }
     },
     "b90ec11542134681bc6acc828bba79ba": {
      "model_module": "@jupyter-widgets/controls",
      "model_module_version": "1.5.0",
      "model_name": "DescriptionStyleModel",
      "state": {
       "description_width": ""
      }
     },
     "b9f3e5a038f44e59808d72595d4b5a80": {
      "model_module": "@jupyter-widgets/controls",
      "model_module_version": "1.5.0",
      "model_name": "HTMLModel",
      "state": {
       "layout": "IPY_MODEL_4bdcd0bde26d440e9357fa93c1603392",
       "style": "IPY_MODEL_503ba4e658b140c3acc246c48017a6e5",
       "value": " 174/174 [13:05:57&lt;00:00, 271.02s/it]"
      }
     },
     "bc386895a30844329164a7dbf0783263": {
      "model_module": "@jupyter-widgets/base",
      "model_module_version": "1.2.0",
      "model_name": "LayoutModel",
      "state": {
       "flex": "2"
      }
     },
     "bce587bed1c74de2a07d75f5ff32e6b3": {
      "model_module": "@jupyter-widgets/controls",
      "model_module_version": "1.5.0",
      "model_name": "HBoxModel",
      "state": {
       "children": [
        "IPY_MODEL_2830f753715b42a5a58bad02c53eaf60",
        "IPY_MODEL_82f89ef8714b4505aed02f44de64f605"
       ],
       "layout": "IPY_MODEL_08211dc7247c4ff5ac7dcdd7aea20e2c"
      }
     },
     "bdd547e134c04deb910d4bba67c985c2": {
      "model_module": "@jupyter-widgets/base",
      "model_module_version": "1.2.0",
      "model_name": "LayoutModel",
      "state": {
       "display": "inline-flex",
       "flex_flow": "row wrap",
       "width": "800px"
      }
     },
     "bdf2a6a235574886a49b75a027e57414": {
      "model_module": "@jupyter-widgets/base",
      "model_module_version": "1.2.0",
      "model_name": "LayoutModel",
      "state": {
       "flex": "2"
      }
     },
     "be6647cb07124cc6a9d3bd26e0d6092b": {
      "model_module": "@jupyter-widgets/controls",
      "model_module_version": "1.5.0",
      "model_name": "HTMLModel",
      "state": {
       "layout": "IPY_MODEL_3e8d5adc640244aa9cba6d0a57a9f742",
       "style": "IPY_MODEL_b24bb073ebee4d23842dd0cbbc2e44f4",
       "value": " 4353/4353 [04:46&lt;00:00, 15.20it/s]"
      }
     },
     "c27779c53e0746d39cf4b3ff5a8c3d77": {
      "model_module": "@jupyter-widgets/base",
      "model_module_version": "1.2.0",
      "model_name": "LayoutModel",
      "state": {
       "flex": "2"
      }
     },
     "c2c31132b9f141dd9459992fc7216de3": {
      "model_module": "@jupyter-widgets/base",
      "model_module_version": "1.2.0",
      "model_name": "LayoutModel",
      "state": {
       "flex": "2"
      }
     },
     "c5c72d85dcd049cc85e503ed5da2e933": {
      "model_module": "@jupyter-widgets/controls",
      "model_module_version": "1.5.0",
      "model_name": "ProgressStyleModel",
      "state": {
       "description_width": "initial"
      }
     },
     "c68ce0effc1b481a8828b217715cfe89": {
      "model_module": "@jupyter-widgets/controls",
      "model_module_version": "1.5.0",
      "model_name": "HBoxModel",
      "state": {
       "children": [
        "IPY_MODEL_87965c469b284969a88920553dd1d98e",
        "IPY_MODEL_f2b1b9dad3f1450a9a31406d24e2c433"
       ],
       "layout": "IPY_MODEL_627b5107c1d34e04830c105f72824a95"
      }
     },
     "c78ec3d359404db1bd1d3692d8aaa433": {
      "model_module": "@jupyter-widgets/base",
      "model_module_version": "1.2.0",
      "model_name": "LayoutModel",
      "state": {
       "flex": "2"
      }
     },
     "ca28202015d44406b662ce463132eaa6": {
      "model_module": "@jupyter-widgets/controls",
      "model_module_version": "1.5.0",
      "model_name": "HTMLModel",
      "state": {
       "layout": "IPY_MODEL_247aa67b0d524ce591f032e43089dca4",
       "style": "IPY_MODEL_7d684121338d4cd4a23b542cb79f9e18",
       "value": " 174/174 [00:46&lt;00:00,  3.73it/s]"
      }
     },
     "cad9e078f4bc4cc58b1b19805341c202": {
      "model_module": "@jupyter-widgets/controls",
      "model_module_version": "1.5.0",
      "model_name": "HTMLModel",
      "state": {
       "layout": "IPY_MODEL_333e1942561641b2acb241acbf0063fe",
       "style": "IPY_MODEL_d28b5dd24e6f4a60b87616ee3de5b207",
       "value": " 174/174 [00:27&lt;00:00,  6.29it/s]"
      }
     },
     "cb4e89c39e5c472b951101fa40c41bc7": {
      "model_module": "@jupyter-widgets/base",
      "model_module_version": "1.2.0",
      "model_name": "LayoutModel",
      "state": {}
     },
     "cbac94b603364979bd31e85c7e77dbce": {
      "model_module": "@jupyter-widgets/controls",
      "model_module_version": "1.5.0",
      "model_name": "FloatProgressModel",
      "state": {
       "bar_style": "success",
       "description": "It { L 0.05539, 0.852, 0.908, 0.879,  0.967/ BF 0.879} : 100%",
       "layout": "IPY_MODEL_0a236c04424d4beebc8550b66d70a604",
       "max": 174,
       "style": "IPY_MODEL_b2dc07ceff4249f1b549dab4864c1b4e",
       "value": 174
      }
     },
     "cc24e45743f147fcb177e2eb2680e4aa": {
      "model_module": "@jupyter-widgets/controls",
      "model_module_version": "1.5.0",
      "model_name": "DescriptionStyleModel",
      "state": {
       "description_width": ""
      }
     },
     "d273e9d291c1463a87d1744b9b7375f1": {
      "model_module": "@jupyter-widgets/controls",
      "model_module_version": "1.5.0",
      "model_name": "ProgressStyleModel",
      "state": {
       "description_width": "initial"
      }
     },
     "d28b5dd24e6f4a60b87616ee3de5b207": {
      "model_module": "@jupyter-widgets/controls",
      "model_module_version": "1.5.0",
      "model_name": "DescriptionStyleModel",
      "state": {
       "description_width": ""
      }
     },
     "d2b371608d444db88dcf65840bfad964": {
      "model_module": "@jupyter-widgets/controls",
      "model_module_version": "1.5.0",
      "model_name": "HTMLModel",
      "state": {
       "layout": "IPY_MODEL_cb4e89c39e5c472b951101fa40c41bc7",
       "style": "IPY_MODEL_56b327c36bed477682e6bdf9c74cceb2",
       "value": " 4353/4353 [18:43&lt;00:00,  3.87it/s]"
      }
     },
     "d36ec84dc9be4c3e95eef1dda1cf210b": {
      "model_module": "@jupyter-widgets/controls",
      "model_module_version": "1.5.0",
      "model_name": "HBoxModel",
      "state": {
       "children": [
        "IPY_MODEL_d4054f2608f5456390b3415680bebb87",
        "IPY_MODEL_e94a8671f8d24c499b72c9af20597339"
       ],
       "layout": "IPY_MODEL_8e20f3719373489e923dd23f58a27231"
      }
     },
     "d4054f2608f5456390b3415680bebb87": {
      "model_module": "@jupyter-widgets/controls",
      "model_module_version": "1.5.0",
      "model_name": "FloatProgressModel",
      "state": {
       "bar_style": "success",
       "description": "It { L 0.05134, 0.882, 0.927, 0.904,  0.973/ BF 0.907} : 100%",
       "layout": "IPY_MODEL_4cc47e2021224d65bead9a91ebab69c3",
       "max": 174,
       "style": "IPY_MODEL_4f8407b099ae4fc7a6368fabe730f51a",
       "value": 174
      }
     },
     "d61840085c7b4761b9b13adfc86210bf": {
      "model_module": "@jupyter-widgets/controls",
      "model_module_version": "1.5.0",
      "model_name": "DescriptionStyleModel",
      "state": {
       "description_width": ""
      }
     },
     "d68ae1766f06446699097f571f3f9cae": {
      "model_module": "@jupyter-widgets/controls",
      "model_module_version": "1.5.0",
      "model_name": "HBoxModel",
      "state": {
       "children": [
        "IPY_MODEL_523573c6f65a43eea83ff94dcb6ded30",
        "IPY_MODEL_61a710f916914b6b8df7bfbae02f5f97"
       ],
       "layout": "IPY_MODEL_09f4d332b91f46229b81ffd0a64326db"
      }
     },
     "d7cc5c9306ed43f696f31e7d7efc6d9a": {
      "model_module": "@jupyter-widgets/controls",
      "model_module_version": "1.5.0",
      "model_name": "ProgressStyleModel",
      "state": {
       "description_width": "initial"
      }
     },
     "d8d161dbe003448bb5131cf37113c74b": {
      "model_module": "@jupyter-widgets/controls",
      "model_module_version": "1.5.0",
      "model_name": "HBoxModel",
      "state": {
       "children": [
        "IPY_MODEL_49273e5401a34509914842dfc87c217d",
        "IPY_MODEL_32727aeae87f4dc5b18580c3de79fb30"
       ],
       "layout": "IPY_MODEL_546087b1d49346a8a1f0ed6afef1fb16"
      }
     },
     "daabd551357048078a487d73f6855027": {
      "model_module": "@jupyter-widgets/controls",
      "model_module_version": "1.5.0",
      "model_name": "DescriptionStyleModel",
      "state": {
       "description_width": ""
      }
     },
     "dc145ac6a4b84a9e9ef5015b301af9d1": {
      "model_module": "@jupyter-widgets/controls",
      "model_module_version": "1.5.0",
      "model_name": "DescriptionStyleModel",
      "state": {
       "description_width": ""
      }
     },
     "dedfb89e8a5a4193a542d1810469051e": {
      "model_module": "@jupyter-widgets/base",
      "model_module_version": "1.2.0",
      "model_name": "LayoutModel",
      "state": {
       "flex": "2"
      }
     },
     "e2ee757ff1684f1f9e0a8f62cd89d531": {
      "model_module": "@jupyter-widgets/controls",
      "model_module_version": "1.5.0",
      "model_name": "HBoxModel",
      "state": {
       "children": [
        "IPY_MODEL_0ca5c7c74ea0414c94c86945493c81ab",
        "IPY_MODEL_be6647cb07124cc6a9d3bd26e0d6092b"
       ],
       "layout": "IPY_MODEL_5657752a2f324c1eb41d3f435b0c7cf7"
      }
     },
     "e439ca65dee24359a000a505ed41a480": {
      "model_module": "@jupyter-widgets/base",
      "model_module_version": "1.2.0",
      "model_name": "LayoutModel",
      "state": {
       "display": "inline-flex",
       "flex_flow": "row wrap",
       "width": "800px"
      }
     },
     "e5cabab7f13f42fb81dde667eff08437": {
      "model_module": "@jupyter-widgets/controls",
      "model_module_version": "1.5.0",
      "model_name": "HBoxModel",
      "state": {
       "children": [
        "IPY_MODEL_8c650706bbd74aeda50c9e031c7ca16a",
        "IPY_MODEL_4825005b81e049bdb5b5fa385d1f1543"
       ],
       "layout": "IPY_MODEL_07e05f82a76149c6aef1fdb2b608388a"
      }
     },
     "e6b65458345c4387b105fc05d1da0347": {
      "model_module": "@jupyter-widgets/controls",
      "model_module_version": "1.5.0",
      "model_name": "HBoxModel",
      "state": {
       "children": [
        "IPY_MODEL_9aaca73fc1e244bbbcfd6ec330b25e35",
        "IPY_MODEL_aaf70c721e8e4f2eb73f5577f26a3b3b"
       ],
       "layout": "IPY_MODEL_2c6247b18d654affb989d2053958ca1d"
      }
     },
     "e72377ff852747b18af3424ad2374088": {
      "model_module": "@jupyter-widgets/base",
      "model_module_version": "1.2.0",
      "model_name": "LayoutModel",
      "state": {}
     },
     "e94a8671f8d24c499b72c9af20597339": {
      "model_module": "@jupyter-widgets/controls",
      "model_module_version": "1.5.0",
      "model_name": "HTMLModel",
      "state": {
       "layout": "IPY_MODEL_39c695f951e140a4bb61f4e503fc35de",
       "style": "IPY_MODEL_334c6b14a9d3477c805707ff58c1a8e6",
       "value": " 174/174 [00:18&lt;00:00,  9.40it/s]"
      }
     },
     "eb7e38089e7b4914913927da6b0847a6": {
      "model_module": "@jupyter-widgets/base",
      "model_module_version": "1.2.0",
      "model_name": "LayoutModel",
      "state": {
       "display": "inline-flex",
       "flex_flow": "row wrap",
       "width": "800px"
      }
     },
     "ed9e400772c643aa9f8410064a2b7c28": {
      "model_module": "@jupyter-widgets/controls",
      "model_module_version": "1.5.0",
      "model_name": "HTMLModel",
      "state": {
       "layout": "IPY_MODEL_87c3653b856d4060a9c28a5f5bae96bb",
       "style": "IPY_MODEL_6f1feee44a774e3a85e77447f6bd51fc",
       "value": " 72/174 [00:20&lt;00:05, 20.16it/s]"
      }
     },
     "ee14c53b32cf4662806cdbf976869636": {
      "model_module": "@jupyter-widgets/controls",
      "model_module_version": "1.5.0",
      "model_name": "HTMLModel",
      "state": {
       "layout": "IPY_MODEL_a76ba3aa946c448ab3a044befcd94263",
       "style": "IPY_MODEL_dc145ac6a4b84a9e9ef5015b301af9d1",
       "value": " 4353/4353 [07:32&lt;00:00,  9.62it/s]"
      }
     },
     "f2b1b9dad3f1450a9a31406d24e2c433": {
      "model_module": "@jupyter-widgets/controls",
      "model_module_version": "1.5.0",
      "model_name": "HTMLModel",
      "state": {
       "layout": "IPY_MODEL_f4c923d28fff4d88828d37f29bb346f8",
       "style": "IPY_MODEL_d61840085c7b4761b9b13adfc86210bf",
       "value": " 4353/4353 [09:25&lt;00:00,  7.70it/s]"
      }
     },
     "f4758f51c0cc4a4fa8289405657f4498": {
      "model_module": "@jupyter-widgets/base",
      "model_module_version": "1.2.0",
      "model_name": "LayoutModel",
      "state": {
       "flex": "2"
      }
     },
     "f4b040a930b44e699f22be5c05ff6d42": {
      "model_module": "@jupyter-widgets/base",
      "model_module_version": "1.2.0",
      "model_name": "LayoutModel",
      "state": {
       "display": "inline-flex",
       "flex_flow": "row wrap",
       "width": "800px"
      }
     },
     "f4c923d28fff4d88828d37f29bb346f8": {
      "model_module": "@jupyter-widgets/base",
      "model_module_version": "1.2.0",
      "model_name": "LayoutModel",
      "state": {}
     },
     "f66f214dcfa648f4b8fa984dab592392": {
      "model_module": "@jupyter-widgets/controls",
      "model_module_version": "1.5.0",
      "model_name": "ProgressStyleModel",
      "state": {
       "description_width": "initial"
      }
     },
     "f8e9ec2e9f5d463da62eddad475cabba": {
      "model_module": "@jupyter-widgets/base",
      "model_module_version": "1.2.0",
      "model_name": "LayoutModel",
      "state": {
       "display": "inline-flex",
       "flex_flow": "row wrap",
       "width": "800px"
      }
     },
     "f988f4156b17413290924e4464703cb1": {
      "model_module": "@jupyter-widgets/controls",
      "model_module_version": "1.5.0",
      "model_name": "HTMLModel",
      "state": {
       "layout": "IPY_MODEL_94cf63e8807a44788ce6f30041f517d7",
       "style": "IPY_MODEL_097644bf303f42ba8cb98cbf57eff30e",
       "value": " 4353/4353 [09:17&lt;00:00,  7.81it/s]"
      }
     },
     "fa076cd196b34fdcafcac2d9110ec12e": {
      "model_module": "@jupyter-widgets/controls",
      "model_module_version": "1.5.0",
      "model_name": "FloatProgressModel",
      "state": {
       "bar_style": "success",
       "description": "It { L 0.06527, 0.862, 0.939, 0.899,  0.970/ BF 0.899} : 100%",
       "layout": "IPY_MODEL_b0da8abb43ca48309fbfece666dc75ee",
       "max": 174,
       "style": "IPY_MODEL_b6dc047654e5402488a8c1c5f5c6709d",
       "value": 174
      }
     },
     "fb2ffabe3d2e4c0cb5e8ce128d3cbbc7": {
      "model_module": "@jupyter-widgets/controls",
      "model_module_version": "1.5.0",
      "model_name": "ProgressStyleModel",
      "state": {
       "description_width": "initial"
      }
     },
     "fdd0f2cb314641b8b9c6d587547751e5": {
      "model_module": "@jupyter-widgets/controls",
      "model_module_version": "1.5.0",
      "model_name": "ProgressStyleModel",
      "state": {
       "description_width": "initial"
      }
     }
    },
    "version_major": 2,
    "version_minor": 0
   }
  }
 },
 "nbformat": 4,
 "nbformat_minor": 2
}
