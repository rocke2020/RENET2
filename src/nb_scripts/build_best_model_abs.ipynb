{
 "cells": [
  {
   "cell_type": "code",
   "execution_count": 1,
   "metadata": {},
   "outputs": [],
   "source": [
    "import argparse\n",
    "import os\n",
    "import torch\n",
    "from torch import nn, optim, cuda\n",
    "from torch.nn import functional as F\n",
    "from torch.utils.data import Dataset, DataLoader, RandomSampler, SequentialSampler, \\\n",
    "                             TensorDataset, WeightedRandomSampler\n",
    "\n",
    "\n",
    "import pickle\n",
    "from renet2.raw import load_documents, load_documents_ori\n",
    "\n",
    "from sklearn.model_selection import train_test_split\n",
    "\n",
    "import pandas as pd\n",
    "import numpy as np\n",
    "import random\n",
    "\n",
    "from sklearn.metrics import f1_score, precision_recall_fscore_support, roc_auc_score\n",
    "from sklearn.model_selection import KFold\n",
    "from tqdm import tqdm\n",
    "import re"
   ]
  },
  {
   "cell_type": "code",
   "execution_count": 2,
   "metadata": {},
   "outputs": [
    {
     "name": "stderr",
     "output_type": "stream",
     "text": [
      "/autofs/bal31/jhsu/home/git/tmp/RENET2_b1/src/renet2/raw_handler.py:18: TqdmExperimentalWarning: Using `tqdm.autonotebook.tqdm` in notebook mode. Use `tqdm.tqdm` instead to force console mode (e.g. in jupyter console)\n",
      "  from tqdm.autonotebook import tqdm\n"
     ]
    }
   ],
   "source": [
    "from renet2.raw_handler import *\n",
    "from renet2.model import *"
   ]
  },
  {
   "cell_type": "code",
   "execution_count": null,
   "metadata": {},
   "outputs": [],
   "source": []
  },
  {
   "cell_type": "code",
   "execution_count": 3,
   "metadata": {},
   "outputs": [],
   "source": [
    "%load_ext autoreload\n",
    "%autoreload 2"
   ]
  },
  {
   "cell_type": "code",
   "execution_count": 4,
   "metadata": {},
   "outputs": [
    {
     "name": "stdout",
     "output_type": "stream",
     "text": [
      "using device cpu\n",
      "loading word index from /autofs/bal31/jhsu/home/git/tmp/RENET2_b1/src/renet2/utils/word_index\n",
      "loaded word index, voc size 82948\n",
      "tokenizer size 82949\n",
      "fix input sentences# 32, tokens# 54, batch size 32\n"
     ]
    }
   ],
   "source": [
    "import sys\n",
    "sys.argv = ['']\n",
    "\n",
    "if __name__ == \"__main__\":\n",
    "    # set up\n",
    "    parser = init_parser()\n",
    "    args = parser.parse_args()\n",
    "    sys.path.insert(0, 'renet2')\n",
    "    get_index_path(args)\n",
    "    \n",
    "    use_cuda = torch.cuda.is_available() and not args.no_cuda\n",
    "    device = torch.device('cuda' if use_cuda else 'cpu')\n",
    "#     device = torch.device('cuda:1')\n",
    "\n",
    "    torch.manual_seed(args.seed)\n",
    "\n",
    "    if use_cuda:\n",
    "        torch.cuda.manual_seed(args.seed)\n",
    "    set_seed(args)\n",
    "    args.device = device\n",
    "    print('using device', device)\n",
    "\n",
    "    args.ori_tokenizer = loading_tokenizer(args)\n",
    "    args.token_voc_l = len(args.ori_tokenizer)\n",
    "    print('tokenizer size %d' % (args.token_voc_l))\n",
    "    \n",
    "    args.batch_size = 32\n",
    "    args.fix_snt_n, args.fix_token_n = 32, 54   \n",
    "    \n",
    "    print('fix input sentences# %d, tokens# %d, batch size %d' % (args.fix_snt_n, args.fix_token_n, args.batch_size))"
   ]
  },
  {
   "cell_type": "code",
   "execution_count": 6,
   "metadata": {},
   "outputs": [],
   "source": [
    "args.overwrite_cache = False\n",
    "args.file_name_snt = \"sentences.txt\""
   ]
  },
  {
   "cell_type": "code",
   "execution_count": 7,
   "metadata": {},
   "outputs": [
    {
     "name": "stdout",
     "output_type": "stream",
     "text": [
      "loading features from cached file %s ../data/abs_data/1st_ann/cached_all_doc_0_32_54\n",
      "loading ended\n"
     ]
    }
   ],
   "source": [
    "args.raw_data_dir = \"../data/abs_data/1st_ann/\"\n",
    "args.label_f_name = \"labels.txt\"\n",
    "    \n",
    "features_ann_1 = load_and_cache_data(args)\n",
    "\n",
    "dataset_ann_1, _, _ = convert_features_to_dataset_single(features_ann_1)\n",
    "dataloader_ann_1 = DataLoader(dataset_ann_1, batch_size=args.batch_size)"
   ]
  },
  {
   "cell_type": "code",
   "execution_count": 8,
   "metadata": {},
   "outputs": [
    {
     "name": "stdout",
     "output_type": "stream",
     "text": [
      "loading features from cached file %s ../data/abs_data/2nd_ann/cached_all_doc_0_32_54\n",
      "loading ended\n"
     ]
    }
   ],
   "source": [
    "args.raw_data_dir = \"../data/abs_data/2nd_ann/\"\n",
    "args.label_f_name = \"labels.txt\"\n",
    "    \n",
    "features_ss_aug = load_and_cache_data(args)\n",
    "\n",
    "dataset_ss_aug, _, _ = convert_features_to_dataset_single(features_ss_aug)\n",
    "dataloader_ss_aug = DataLoader(dataset_ss_aug, batch_size=args.batch_size)"
   ]
  },
  {
   "cell_type": "code",
   "execution_count": 9,
   "metadata": {},
   "outputs": [],
   "source": [
    "features_merge = np.concatenate((features_ann_1[0], features_ss_aug[0]), axis=0), \\\n",
    "                pd.concat([features_ann_1[1], features_ss_aug[1]])                "
   ]
  },
  {
   "cell_type": "code",
   "execution_count": 10,
   "metadata": {},
   "outputs": [],
   "source": [
    "dataset_merge, _, _ = convert_features_to_dataset_single(features_merge)\n",
    "dataloader_merge = DataLoader(dataset_merge, batch_size=args.batch_size)"
   ]
  },
  {
   "cell_type": "code",
   "execution_count": 12,
   "metadata": {},
   "outputs": [
    {
     "name": "stdout",
     "output_type": "stream",
     "text": [
      "config ----------------\n",
      "{'EB_dp': 0.3,\n",
      " 'FC_dp': 0.1,\n",
      " 'adam_epsilon': 1e-08,\n",
      " 'batch_size': 32,\n",
      " 'cnn_out_c': 100,\n",
      " 'device': device(type='cuda'),\n",
      " 'epochs': 20,\n",
      " 'l2_weight_decay': 0.0001,\n",
      " 'learning_rate': 0.001,\n",
      " 'lr_cooldown': 2,\n",
      " 'lr_reduce_factor': 0.5,\n",
      " 'max_grad_norm': 5.0,\n",
      " 'max_token_n': 54,\n",
      " 'not_x_feature': False,\n",
      " 'num_embedding': 64,\n",
      " 'num_words': 82949,\n",
      " 'patience_epoch': 3,\n",
      " 'rnn_layers': 2,\n",
      " 'rnn_num_directions': 2,\n",
      " 'rnn_out_f_n': 68,\n",
      " 'threshold': 0.5,\n",
      " 'use_new_loss': False,\n",
      " 'warmup_epoch': 0,\n",
      " 'weight_decay': 0.0001,\n",
      " 'window_sizes': [2, 3, 4, 5]}\n",
      "       ----------------\n",
      "init model\n",
      "training begin\n"
     ]
    },
    {
     "data": {
      "application/vnd.jupyter.widget-view+json": {
       "model_id": "c7b4d5d7876743d6b4d0342c74f334c7",
       "version_major": 2,
       "version_minor": 0
      },
      "text/plain": [
       "HBox(children=(FloatProgress(value=0.0, description='Iteration', max=88.0, style=ProgressStyle(description_wid…"
      ]
     },
     "metadata": {},
     "output_type": "display_data"
    },
    {
     "name": "stdout",
     "output_type": "stream",
     "text": [
      "\n",
      "e_1 *\n"
     ]
    },
    {
     "data": {
      "application/vnd.jupyter.widget-view+json": {
       "model_id": "4a1af43dabf34902b8e7831ee1ee1a5c",
       "version_major": 2,
       "version_minor": 0
      },
      "text/plain": [
       "HBox(children=(FloatProgress(value=0.0, description='Iteration', max=88.0, style=ProgressStyle(description_wid…"
      ]
     },
     "metadata": {},
     "output_type": "display_data"
    },
    {
     "name": "stdout",
     "output_type": "stream",
     "text": [
      "\n",
      "e_2 *\n"
     ]
    },
    {
     "data": {
      "application/vnd.jupyter.widget-view+json": {
       "model_id": "3c4953bc4f154622b2c13fb26c8a0860",
       "version_major": 2,
       "version_minor": 0
      },
      "text/plain": [
       "HBox(children=(FloatProgress(value=0.0, description='Iteration', max=88.0, style=ProgressStyle(description_wid…"
      ]
     },
     "metadata": {},
     "output_type": "display_data"
    },
    {
     "name": "stdout",
     "output_type": "stream",
     "text": [
      "\n",
      "e_3 *\n",
      "Epoch     2: reducing learning rate of group 0 to 5.0000e-04.\n",
      "Epoch     2: reducing learning rate of group 1 to 5.0000e-04.\n"
     ]
    },
    {
     "data": {
      "application/vnd.jupyter.widget-view+json": {
       "model_id": "bb1978477f0f4581b21176f92777534f",
       "version_major": 2,
       "version_minor": 0
      },
      "text/plain": [
       "HBox(children=(FloatProgress(value=0.0, description='Iteration', max=88.0, style=ProgressStyle(description_wid…"
      ]
     },
     "metadata": {},
     "output_type": "display_data"
    },
    {
     "name": "stdout",
     "output_type": "stream",
     "text": [
      "\n",
      "e_4 *\n"
     ]
    },
    {
     "data": {
      "application/vnd.jupyter.widget-view+json": {
       "model_id": "acc67cf3970d4683896f139786590419",
       "version_major": 2,
       "version_minor": 0
      },
      "text/plain": [
       "HBox(children=(FloatProgress(value=0.0, description='Iteration', max=88.0, style=ProgressStyle(description_wid…"
      ]
     },
     "metadata": {},
     "output_type": "display_data"
    },
    {
     "name": "stdout",
     "output_type": "stream",
     "text": [
      "\n",
      "e_5 *\n"
     ]
    },
    {
     "data": {
      "application/vnd.jupyter.widget-view+json": {
       "model_id": "b3df25e4526842ef9b98acb41f6a1c7d",
       "version_major": 2,
       "version_minor": 0
      },
      "text/plain": [
       "HBox(children=(FloatProgress(value=0.0, description='Iteration', max=88.0, style=ProgressStyle(description_wid…"
      ]
     },
     "metadata": {},
     "output_type": "display_data"
    },
    {
     "name": "stdout",
     "output_type": "stream",
     "text": [
      "\n",
      "e_6 *\n"
     ]
    },
    {
     "data": {
      "application/vnd.jupyter.widget-view+json": {
       "model_id": "3e1aca18022347b2a4c47f1b893bf7c0",
       "version_major": 2,
       "version_minor": 0
      },
      "text/plain": [
       "HBox(children=(FloatProgress(value=0.0, description='Iteration', max=88.0, style=ProgressStyle(description_wid…"
      ]
     },
     "metadata": {},
     "output_type": "display_data"
    },
    {
     "name": "stdout",
     "output_type": "stream",
     "text": [
      "\n",
      "e_7 *\n",
      "Epoch     6: reducing learning rate of group 0 to 2.5000e-04.\n",
      "Epoch     6: reducing learning rate of group 1 to 2.5000e-04.\n"
     ]
    },
    {
     "data": {
      "application/vnd.jupyter.widget-view+json": {
       "model_id": "19846ad5c96a4c78aa50755de5ba6f98",
       "version_major": 2,
       "version_minor": 0
      },
      "text/plain": [
       "HBox(children=(FloatProgress(value=0.0, description='Iteration', max=88.0, style=ProgressStyle(description_wid…"
      ]
     },
     "metadata": {},
     "output_type": "display_data"
    },
    {
     "name": "stdout",
     "output_type": "stream",
     "text": [
      "\n",
      "e_8 *\n"
     ]
    },
    {
     "data": {
      "application/vnd.jupyter.widget-view+json": {
       "model_id": "846c5786190e4796bcc5bca6a1d8943f",
       "version_major": 2,
       "version_minor": 0
      },
      "text/plain": [
       "HBox(children=(FloatProgress(value=0.0, description='Iteration', max=88.0, style=ProgressStyle(description_wid…"
      ]
     },
     "metadata": {},
     "output_type": "display_data"
    },
    {
     "name": "stdout",
     "output_type": "stream",
     "text": [
      "\n",
      "e_9 *\n"
     ]
    },
    {
     "data": {
      "application/vnd.jupyter.widget-view+json": {
       "model_id": "51b41fe7c0714f7bb4b07ce1c06166f3",
       "version_major": 2,
       "version_minor": 0
      },
      "text/plain": [
       "HBox(children=(FloatProgress(value=0.0, description='Iteration', max=88.0, style=ProgressStyle(description_wid…"
      ]
     },
     "metadata": {},
     "output_type": "display_data"
    },
    {
     "name": "stdout",
     "output_type": "stream",
     "text": [
      "\n",
      "e_10 *\n"
     ]
    },
    {
     "data": {
      "application/vnd.jupyter.widget-view+json": {
       "model_id": "4ab776a0d94e4a0ba2c76be340543517",
       "version_major": 2,
       "version_minor": 0
      },
      "text/plain": [
       "HBox(children=(FloatProgress(value=0.0, description='Iteration', max=88.0, style=ProgressStyle(description_wid…"
      ]
     },
     "metadata": {},
     "output_type": "display_data"
    },
    {
     "name": "stdout",
     "output_type": "stream",
     "text": [
      "\n",
      "e_11 *\n",
      "Epoch    10: reducing learning rate of group 0 to 1.2500e-04.\n",
      "Epoch    10: reducing learning rate of group 1 to 1.2500e-04.\n"
     ]
    },
    {
     "data": {
      "application/vnd.jupyter.widget-view+json": {
       "model_id": "3f2e24e919374ada8a987fc5fc48c853",
       "version_major": 2,
       "version_minor": 0
      },
      "text/plain": [
       "HBox(children=(FloatProgress(value=0.0, description='Iteration', max=88.0, style=ProgressStyle(description_wid…"
      ]
     },
     "metadata": {},
     "output_type": "display_data"
    },
    {
     "name": "stdout",
     "output_type": "stream",
     "text": [
      "\n",
      "e_12 *\n"
     ]
    },
    {
     "data": {
      "application/vnd.jupyter.widget-view+json": {
       "model_id": "49885bd717c64b54bda953369be9f8b5",
       "version_major": 2,
       "version_minor": 0
      },
      "text/plain": [
       "HBox(children=(FloatProgress(value=0.0, description='Iteration', max=88.0, style=ProgressStyle(description_wid…"
      ]
     },
     "metadata": {},
     "output_type": "display_data"
    },
    {
     "name": "stdout",
     "output_type": "stream",
     "text": [
      "\n",
      "e_13 *\n"
     ]
    },
    {
     "data": {
      "application/vnd.jupyter.widget-view+json": {
       "model_id": "47f393634bde4e20b4574bb45bff9ccb",
       "version_major": 2,
       "version_minor": 0
      },
      "text/plain": [
       "HBox(children=(FloatProgress(value=0.0, description='Iteration', max=88.0, style=ProgressStyle(description_wid…"
      ]
     },
     "metadata": {},
     "output_type": "display_data"
    },
    {
     "name": "stdout",
     "output_type": "stream",
     "text": [
      "\n",
      "e_14 *\n"
     ]
    },
    {
     "data": {
      "application/vnd.jupyter.widget-view+json": {
       "model_id": "fb0304d60738487fb17914fca7c9631d",
       "version_major": 2,
       "version_minor": 0
      },
      "text/plain": [
       "HBox(children=(FloatProgress(value=0.0, description='Iteration', max=88.0, style=ProgressStyle(description_wid…"
      ]
     },
     "metadata": {},
     "output_type": "display_data"
    },
    {
     "name": "stdout",
     "output_type": "stream",
     "text": [
      "\n",
      "e_15 *\n",
      "Epoch    14: reducing learning rate of group 0 to 6.2500e-05.\n",
      "Epoch    14: reducing learning rate of group 1 to 6.2500e-05.\n"
     ]
    },
    {
     "data": {
      "application/vnd.jupyter.widget-view+json": {
       "model_id": "6306ba0296f246578b95c77ca5b0c230",
       "version_major": 2,
       "version_minor": 0
      },
      "text/plain": [
       "HBox(children=(FloatProgress(value=0.0, description='Iteration', max=88.0, style=ProgressStyle(description_wid…"
      ]
     },
     "metadata": {},
     "output_type": "display_data"
    },
    {
     "name": "stdout",
     "output_type": "stream",
     "text": [
      "\n",
      "e_16 *\n"
     ]
    },
    {
     "data": {
      "application/vnd.jupyter.widget-view+json": {
       "model_id": "a2f1816abe1c4360a56272c5b1a17869",
       "version_major": 2,
       "version_minor": 0
      },
      "text/plain": [
       "HBox(children=(FloatProgress(value=0.0, description='Iteration', max=88.0, style=ProgressStyle(description_wid…"
      ]
     },
     "metadata": {},
     "output_type": "display_data"
    },
    {
     "name": "stdout",
     "output_type": "stream",
     "text": [
      "\n",
      "e_17 *\n"
     ]
    },
    {
     "data": {
      "application/vnd.jupyter.widget-view+json": {
       "model_id": "f8bf31d30d4f457d8ba1d87fb49dd2f2",
       "version_major": 2,
       "version_minor": 0
      },
      "text/plain": [
       "HBox(children=(FloatProgress(value=0.0, description='Iteration', max=88.0, style=ProgressStyle(description_wid…"
      ]
     },
     "metadata": {},
     "output_type": "display_data"
    },
    {
     "name": "stdout",
     "output_type": "stream",
     "text": [
      "\n",
      "e_18 *\n"
     ]
    },
    {
     "data": {
      "application/vnd.jupyter.widget-view+json": {
       "model_id": "6a2e6dc6169e4e828485cde4b9ab5793",
       "version_major": 2,
       "version_minor": 0
      },
      "text/plain": [
       "HBox(children=(FloatProgress(value=0.0, description='Iteration', max=88.0, style=ProgressStyle(description_wid…"
      ]
     },
     "metadata": {},
     "output_type": "display_data"
    },
    {
     "name": "stdout",
     "output_type": "stream",
     "text": [
      "\n",
      "e_19 *\n",
      "Epoch    18: reducing learning rate of group 0 to 3.1250e-05.\n",
      "Epoch    18: reducing learning rate of group 1 to 3.1250e-05.\n"
     ]
    },
    {
     "data": {
      "application/vnd.jupyter.widget-view+json": {
       "model_id": "0645fb0cada54a1d90908f4d4fa27758",
       "version_major": 2,
       "version_minor": 0
      },
      "text/plain": [
       "HBox(children=(FloatProgress(value=0.0, description='Iteration', max=88.0, style=ProgressStyle(description_wid…"
      ]
     },
     "metadata": {},
     "output_type": "display_data"
    },
    {
     "name": "stdout",
     "output_type": "stream",
     "text": [
      "\n",
      "e_20 *\n",
      "saved checkpoint in ../models/abs_models/Bst_abs_1st_0_01.ckp\n",
      "training end, used 87.66 s\n",
      "config ----------------\n",
      "{'EB_dp': 0.3,\n",
      " 'FC_dp': 0.1,\n",
      " 'adam_epsilon': 1e-08,\n",
      " 'batch_size': 32,\n",
      " 'cnn_out_c': 100,\n",
      " 'device': device(type='cuda'),\n",
      " 'epochs': 20,\n",
      " 'l2_weight_decay': 0.0001,\n",
      " 'learning_rate': 0.001,\n",
      " 'lr_cooldown': 2,\n",
      " 'lr_reduce_factor': 0.5,\n",
      " 'max_grad_norm': 5.0,\n",
      " 'max_token_n': 54,\n",
      " 'not_x_feature': False,\n",
      " 'num_embedding': 64,\n",
      " 'num_words': 82949,\n",
      " 'patience_epoch': 3,\n",
      " 'rnn_layers': 2,\n",
      " 'rnn_num_directions': 2,\n",
      " 'rnn_out_f_n': 68,\n",
      " 'threshold': 0.5,\n",
      " 'use_new_loss': False,\n",
      " 'warmup_epoch': 0,\n",
      " 'weight_decay': 0.0001,\n",
      " 'window_sizes': [2, 3, 4, 5]}\n",
      "       ----------------\n",
      "init model\n",
      "training begin\n"
     ]
    },
    {
     "data": {
      "application/vnd.jupyter.widget-view+json": {
       "model_id": "723202f2dfe241cabdbf99aad4e998ca",
       "version_major": 2,
       "version_minor": 0
      },
      "text/plain": [
       "HBox(children=(FloatProgress(value=0.0, description='Iteration', max=88.0, style=ProgressStyle(description_wid…"
      ]
     },
     "metadata": {},
     "output_type": "display_data"
    },
    {
     "name": "stdout",
     "output_type": "stream",
     "text": [
      "\n",
      "e_1 *\n"
     ]
    },
    {
     "data": {
      "application/vnd.jupyter.widget-view+json": {
       "model_id": "49ffec9ff80b426586fb6bc0ae2eddbb",
       "version_major": 2,
       "version_minor": 0
      },
      "text/plain": [
       "HBox(children=(FloatProgress(value=0.0, description='Iteration', max=88.0, style=ProgressStyle(description_wid…"
      ]
     },
     "metadata": {},
     "output_type": "display_data"
    },
    {
     "name": "stdout",
     "output_type": "stream",
     "text": [
      "\n",
      "e_2 *\n"
     ]
    },
    {
     "data": {
      "application/vnd.jupyter.widget-view+json": {
       "model_id": "32414d2e1978400892cd200594e889e4",
       "version_major": 2,
       "version_minor": 0
      },
      "text/plain": [
       "HBox(children=(FloatProgress(value=0.0, description='Iteration', max=88.0, style=ProgressStyle(description_wid…"
      ]
     },
     "metadata": {},
     "output_type": "display_data"
    },
    {
     "name": "stdout",
     "output_type": "stream",
     "text": [
      "\n",
      "e_3 *\n",
      "Epoch     2: reducing learning rate of group 0 to 5.0000e-04.\n",
      "Epoch     2: reducing learning rate of group 1 to 5.0000e-04.\n"
     ]
    },
    {
     "data": {
      "application/vnd.jupyter.widget-view+json": {
       "model_id": "2693f2d28bfd41188987da03d00f927d",
       "version_major": 2,
       "version_minor": 0
      },
      "text/plain": [
       "HBox(children=(FloatProgress(value=0.0, description='Iteration', max=88.0, style=ProgressStyle(description_wid…"
      ]
     },
     "metadata": {},
     "output_type": "display_data"
    },
    {
     "name": "stdout",
     "output_type": "stream",
     "text": [
      "\n",
      "e_4 *\n"
     ]
    },
    {
     "data": {
      "application/vnd.jupyter.widget-view+json": {
       "model_id": "43975629ecc2490993718eb334488b31",
       "version_major": 2,
       "version_minor": 0
      },
      "text/plain": [
       "HBox(children=(FloatProgress(value=0.0, description='Iteration', max=88.0, style=ProgressStyle(description_wid…"
      ]
     },
     "metadata": {},
     "output_type": "display_data"
    },
    {
     "name": "stdout",
     "output_type": "stream",
     "text": [
      "\n",
      "e_5 *\n"
     ]
    },
    {
     "data": {
      "application/vnd.jupyter.widget-view+json": {
       "model_id": "2dd3e813b113428482e7384297a75877",
       "version_major": 2,
       "version_minor": 0
      },
      "text/plain": [
       "HBox(children=(FloatProgress(value=0.0, description='Iteration', max=88.0, style=ProgressStyle(description_wid…"
      ]
     },
     "metadata": {},
     "output_type": "display_data"
    },
    {
     "name": "stdout",
     "output_type": "stream",
     "text": [
      "\n",
      "e_6 *\n"
     ]
    },
    {
     "data": {
      "application/vnd.jupyter.widget-view+json": {
       "model_id": "7dce859c24f14d2e9eb154860c5f76b0",
       "version_major": 2,
       "version_minor": 0
      },
      "text/plain": [
       "HBox(children=(FloatProgress(value=0.0, description='Iteration', max=88.0, style=ProgressStyle(description_wid…"
      ]
     },
     "metadata": {},
     "output_type": "display_data"
    },
    {
     "name": "stdout",
     "output_type": "stream",
     "text": [
      "\n",
      "e_7 *\n",
      "Epoch     6: reducing learning rate of group 0 to 2.5000e-04.\n",
      "Epoch     6: reducing learning rate of group 1 to 2.5000e-04.\n"
     ]
    },
    {
     "data": {
      "application/vnd.jupyter.widget-view+json": {
       "model_id": "07fc1c79685842a6bce08e4b261a73a3",
       "version_major": 2,
       "version_minor": 0
      },
      "text/plain": [
       "HBox(children=(FloatProgress(value=0.0, description='Iteration', max=88.0, style=ProgressStyle(description_wid…"
      ]
     },
     "metadata": {},
     "output_type": "display_data"
    },
    {
     "name": "stdout",
     "output_type": "stream",
     "text": [
      "\n",
      "e_8 *\n"
     ]
    },
    {
     "data": {
      "application/vnd.jupyter.widget-view+json": {
       "model_id": "e3aa65bf7e7f4831993836e6c1251c3c",
       "version_major": 2,
       "version_minor": 0
      },
      "text/plain": [
       "HBox(children=(FloatProgress(value=0.0, description='Iteration', max=88.0, style=ProgressStyle(description_wid…"
      ]
     },
     "metadata": {},
     "output_type": "display_data"
    },
    {
     "name": "stdout",
     "output_type": "stream",
     "text": [
      "\n",
      "e_9 *\n"
     ]
    },
    {
     "data": {
      "application/vnd.jupyter.widget-view+json": {
       "model_id": "03b3271d424c4f3f8786e1cdc2a77386",
       "version_major": 2,
       "version_minor": 0
      },
      "text/plain": [
       "HBox(children=(FloatProgress(value=0.0, description='Iteration', max=88.0, style=ProgressStyle(description_wid…"
      ]
     },
     "metadata": {},
     "output_type": "display_data"
    },
    {
     "name": "stdout",
     "output_type": "stream",
     "text": [
      "\n",
      "e_10 *\n"
     ]
    },
    {
     "data": {
      "application/vnd.jupyter.widget-view+json": {
       "model_id": "a1e3c35946cf4d1aa15a159f93e5b7ec",
       "version_major": 2,
       "version_minor": 0
      },
      "text/plain": [
       "HBox(children=(FloatProgress(value=0.0, description='Iteration', max=88.0, style=ProgressStyle(description_wid…"
      ]
     },
     "metadata": {},
     "output_type": "display_data"
    },
    {
     "name": "stdout",
     "output_type": "stream",
     "text": [
      "\n",
      "e_11 *\n",
      "Epoch    10: reducing learning rate of group 0 to 1.2500e-04.\n",
      "Epoch    10: reducing learning rate of group 1 to 1.2500e-04.\n"
     ]
    },
    {
     "data": {
      "application/vnd.jupyter.widget-view+json": {
       "model_id": "eb7923a7a32f4ba1946b617382c5119d",
       "version_major": 2,
       "version_minor": 0
      },
      "text/plain": [
       "HBox(children=(FloatProgress(value=0.0, description='Iteration', max=88.0, style=ProgressStyle(description_wid…"
      ]
     },
     "metadata": {},
     "output_type": "display_data"
    },
    {
     "name": "stdout",
     "output_type": "stream",
     "text": [
      "\n",
      "e_12 *\n"
     ]
    },
    {
     "data": {
      "application/vnd.jupyter.widget-view+json": {
       "model_id": "2e9b6ebdda044ee2b44df5ff9a7f9509",
       "version_major": 2,
       "version_minor": 0
      },
      "text/plain": [
       "HBox(children=(FloatProgress(value=0.0, description='Iteration', max=88.0, style=ProgressStyle(description_wid…"
      ]
     },
     "metadata": {},
     "output_type": "display_data"
    },
    {
     "name": "stdout",
     "output_type": "stream",
     "text": [
      "\n",
      "e_13 *\n"
     ]
    },
    {
     "data": {
      "application/vnd.jupyter.widget-view+json": {
       "model_id": "2e495df26da9414baf746df65dccc2c5",
       "version_major": 2,
       "version_minor": 0
      },
      "text/plain": [
       "HBox(children=(FloatProgress(value=0.0, description='Iteration', max=88.0, style=ProgressStyle(description_wid…"
      ]
     },
     "metadata": {},
     "output_type": "display_data"
    },
    {
     "name": "stdout",
     "output_type": "stream",
     "text": [
      "\n",
      "e_14 *\n"
     ]
    },
    {
     "data": {
      "application/vnd.jupyter.widget-view+json": {
       "model_id": "fe42136c0f8b48bfa1a80aa8cd6a4fee",
       "version_major": 2,
       "version_minor": 0
      },
      "text/plain": [
       "HBox(children=(FloatProgress(value=0.0, description='Iteration', max=88.0, style=ProgressStyle(description_wid…"
      ]
     },
     "metadata": {},
     "output_type": "display_data"
    },
    {
     "name": "stdout",
     "output_type": "stream",
     "text": [
      "\n",
      "e_15 *\n",
      "Epoch    14: reducing learning rate of group 0 to 6.2500e-05.\n",
      "Epoch    14: reducing learning rate of group 1 to 6.2500e-05.\n"
     ]
    },
    {
     "data": {
      "application/vnd.jupyter.widget-view+json": {
       "model_id": "74c82b52bc6e48d9bf5f1ce1ffb3efbd",
       "version_major": 2,
       "version_minor": 0
      },
      "text/plain": [
       "HBox(children=(FloatProgress(value=0.0, description='Iteration', max=88.0, style=ProgressStyle(description_wid…"
      ]
     },
     "metadata": {},
     "output_type": "display_data"
    },
    {
     "name": "stdout",
     "output_type": "stream",
     "text": [
      "\n",
      "e_16 *\n"
     ]
    },
    {
     "data": {
      "application/vnd.jupyter.widget-view+json": {
       "model_id": "371e94a7eb204dc0af5f3934e4001649",
       "version_major": 2,
       "version_minor": 0
      },
      "text/plain": [
       "HBox(children=(FloatProgress(value=0.0, description='Iteration', max=88.0, style=ProgressStyle(description_wid…"
      ]
     },
     "metadata": {},
     "output_type": "display_data"
    },
    {
     "name": "stdout",
     "output_type": "stream",
     "text": [
      "\n",
      "e_17 *\n"
     ]
    },
    {
     "data": {
      "application/vnd.jupyter.widget-view+json": {
       "model_id": "99528f3f85fd4ae99ffd7c1584d37d68",
       "version_major": 2,
       "version_minor": 0
      },
      "text/plain": [
       "HBox(children=(FloatProgress(value=0.0, description='Iteration', max=88.0, style=ProgressStyle(description_wid…"
      ]
     },
     "metadata": {},
     "output_type": "display_data"
    },
    {
     "name": "stdout",
     "output_type": "stream",
     "text": [
      "\n",
      "e_18 *\n"
     ]
    },
    {
     "data": {
      "application/vnd.jupyter.widget-view+json": {
       "model_id": "fcefc7f3e1f1447fb24a37a12b461f1c",
       "version_major": 2,
       "version_minor": 0
      },
      "text/plain": [
       "HBox(children=(FloatProgress(value=0.0, description='Iteration', max=88.0, style=ProgressStyle(description_wid…"
      ]
     },
     "metadata": {},
     "output_type": "display_data"
    },
    {
     "name": "stdout",
     "output_type": "stream",
     "text": [
      "\n",
      "e_19 *\n",
      "Epoch    18: reducing learning rate of group 0 to 3.1250e-05.\n",
      "Epoch    18: reducing learning rate of group 1 to 3.1250e-05.\n"
     ]
    },
    {
     "data": {
      "application/vnd.jupyter.widget-view+json": {
       "model_id": "c703e3c044614d8a962448fe0892faa8",
       "version_major": 2,
       "version_minor": 0
      },
      "text/plain": [
       "HBox(children=(FloatProgress(value=0.0, description='Iteration', max=88.0, style=ProgressStyle(description_wid…"
      ]
     },
     "metadata": {},
     "output_type": "display_data"
    },
    {
     "name": "stdout",
     "output_type": "stream",
     "text": [
      "\n",
      "e_20 *\n",
      "saved checkpoint in ../models/abs_models/Bst_abs_1st_0_02.ckp\n",
      "training end, used 87.85 s\n",
      "config ----------------\n",
      "{'EB_dp': 0.3,\n",
      " 'FC_dp': 0.1,\n",
      " 'adam_epsilon': 1e-08,\n",
      " 'batch_size': 32,\n",
      " 'cnn_out_c': 100,\n",
      " 'device': device(type='cuda'),\n",
      " 'epochs': 20,\n",
      " 'l2_weight_decay': 0.0001,\n",
      " 'learning_rate': 0.001,\n",
      " 'lr_cooldown': 2,\n",
      " 'lr_reduce_factor': 0.5,\n",
      " 'max_grad_norm': 5.0,\n",
      " 'max_token_n': 54,\n",
      " 'not_x_feature': False,\n",
      " 'num_embedding': 64,\n",
      " 'num_words': 82949,\n",
      " 'patience_epoch': 3,\n",
      " 'rnn_layers': 2,\n",
      " 'rnn_num_directions': 2,\n",
      " 'rnn_out_f_n': 68,\n",
      " 'threshold': 0.5,\n",
      " 'use_new_loss': False,\n",
      " 'warmup_epoch': 0,\n",
      " 'weight_decay': 0.0001,\n",
      " 'window_sizes': [2, 3, 4, 5]}\n",
      "       ----------------\n",
      "init model\n",
      "training begin\n"
     ]
    },
    {
     "data": {
      "application/vnd.jupyter.widget-view+json": {
       "model_id": "fc931ac9138c4447b3a35b35e44c77ec",
       "version_major": 2,
       "version_minor": 0
      },
      "text/plain": [
       "HBox(children=(FloatProgress(value=0.0, description='Iteration', max=88.0, style=ProgressStyle(description_wid…"
      ]
     },
     "metadata": {},
     "output_type": "display_data"
    },
    {
     "name": "stdout",
     "output_type": "stream",
     "text": [
      "\n",
      "e_1 *\n"
     ]
    },
    {
     "data": {
      "application/vnd.jupyter.widget-view+json": {
       "model_id": "b93befa3f68b497186fb737110a304aa",
       "version_major": 2,
       "version_minor": 0
      },
      "text/plain": [
       "HBox(children=(FloatProgress(value=0.0, description='Iteration', max=88.0, style=ProgressStyle(description_wid…"
      ]
     },
     "metadata": {},
     "output_type": "display_data"
    },
    {
     "name": "stdout",
     "output_type": "stream",
     "text": [
      "\n",
      "e_2 *\n"
     ]
    },
    {
     "data": {
      "application/vnd.jupyter.widget-view+json": {
       "model_id": "8838aa1bb1d8418a91f08a3aaceaa7f6",
       "version_major": 2,
       "version_minor": 0
      },
      "text/plain": [
       "HBox(children=(FloatProgress(value=0.0, description='Iteration', max=88.0, style=ProgressStyle(description_wid…"
      ]
     },
     "metadata": {},
     "output_type": "display_data"
    },
    {
     "name": "stdout",
     "output_type": "stream",
     "text": [
      "\n",
      "e_3 *\n",
      "Epoch     2: reducing learning rate of group 0 to 5.0000e-04.\n",
      "Epoch     2: reducing learning rate of group 1 to 5.0000e-04.\n"
     ]
    },
    {
     "data": {
      "application/vnd.jupyter.widget-view+json": {
       "model_id": "61429da104e14afcbd7ca7228285aa0d",
       "version_major": 2,
       "version_minor": 0
      },
      "text/plain": [
       "HBox(children=(FloatProgress(value=0.0, description='Iteration', max=88.0, style=ProgressStyle(description_wid…"
      ]
     },
     "metadata": {},
     "output_type": "display_data"
    },
    {
     "name": "stdout",
     "output_type": "stream",
     "text": [
      "\n",
      "e_4 *\n"
     ]
    },
    {
     "data": {
      "application/vnd.jupyter.widget-view+json": {
       "model_id": "1340f2095aaa404dbc4a3878ddc2c773",
       "version_major": 2,
       "version_minor": 0
      },
      "text/plain": [
       "HBox(children=(FloatProgress(value=0.0, description='Iteration', max=88.0, style=ProgressStyle(description_wid…"
      ]
     },
     "metadata": {},
     "output_type": "display_data"
    },
    {
     "name": "stdout",
     "output_type": "stream",
     "text": [
      "\n",
      "e_5 *\n"
     ]
    },
    {
     "data": {
      "application/vnd.jupyter.widget-view+json": {
       "model_id": "3b02e5a15f97402882cb701b392ef5a0",
       "version_major": 2,
       "version_minor": 0
      },
      "text/plain": [
       "HBox(children=(FloatProgress(value=0.0, description='Iteration', max=88.0, style=ProgressStyle(description_wid…"
      ]
     },
     "metadata": {},
     "output_type": "display_data"
    },
    {
     "name": "stdout",
     "output_type": "stream",
     "text": [
      "\n",
      "e_6 *\n"
     ]
    },
    {
     "data": {
      "application/vnd.jupyter.widget-view+json": {
       "model_id": "1fd121331b84486885c1710d779fa21c",
       "version_major": 2,
       "version_minor": 0
      },
      "text/plain": [
       "HBox(children=(FloatProgress(value=0.0, description='Iteration', max=88.0, style=ProgressStyle(description_wid…"
      ]
     },
     "metadata": {},
     "output_type": "display_data"
    },
    {
     "name": "stdout",
     "output_type": "stream",
     "text": [
      "\n",
      "e_7 *\n",
      "Epoch     6: reducing learning rate of group 0 to 2.5000e-04.\n",
      "Epoch     6: reducing learning rate of group 1 to 2.5000e-04.\n"
     ]
    },
    {
     "data": {
      "application/vnd.jupyter.widget-view+json": {
       "model_id": "0f5238dc180d40d9b0565aa9e1dd8956",
       "version_major": 2,
       "version_minor": 0
      },
      "text/plain": [
       "HBox(children=(FloatProgress(value=0.0, description='Iteration', max=88.0, style=ProgressStyle(description_wid…"
      ]
     },
     "metadata": {},
     "output_type": "display_data"
    },
    {
     "name": "stdout",
     "output_type": "stream",
     "text": [
      "\n",
      "e_8 *\n"
     ]
    },
    {
     "data": {
      "application/vnd.jupyter.widget-view+json": {
       "model_id": "59e625d33c0340d0815161e941e2f0c5",
       "version_major": 2,
       "version_minor": 0
      },
      "text/plain": [
       "HBox(children=(FloatProgress(value=0.0, description='Iteration', max=88.0, style=ProgressStyle(description_wid…"
      ]
     },
     "metadata": {},
     "output_type": "display_data"
    },
    {
     "name": "stdout",
     "output_type": "stream",
     "text": [
      "\n",
      "e_9 *\n"
     ]
    },
    {
     "data": {
      "application/vnd.jupyter.widget-view+json": {
       "model_id": "fb74f03af4b948d798513af6e332947c",
       "version_major": 2,
       "version_minor": 0
      },
      "text/plain": [
       "HBox(children=(FloatProgress(value=0.0, description='Iteration', max=88.0, style=ProgressStyle(description_wid…"
      ]
     },
     "metadata": {},
     "output_type": "display_data"
    },
    {
     "name": "stdout",
     "output_type": "stream",
     "text": [
      "\n",
      "e_10 *\n"
     ]
    },
    {
     "data": {
      "application/vnd.jupyter.widget-view+json": {
       "model_id": "615c3f5c164f4ef49154c2dddad5cd0b",
       "version_major": 2,
       "version_minor": 0
      },
      "text/plain": [
       "HBox(children=(FloatProgress(value=0.0, description='Iteration', max=88.0, style=ProgressStyle(description_wid…"
      ]
     },
     "metadata": {},
     "output_type": "display_data"
    },
    {
     "name": "stdout",
     "output_type": "stream",
     "text": [
      "\n",
      "e_11 *\n",
      "Epoch    10: reducing learning rate of group 0 to 1.2500e-04.\n",
      "Epoch    10: reducing learning rate of group 1 to 1.2500e-04.\n"
     ]
    },
    {
     "data": {
      "application/vnd.jupyter.widget-view+json": {
       "model_id": "03ed037266ea40db98f170545b670937",
       "version_major": 2,
       "version_minor": 0
      },
      "text/plain": [
       "HBox(children=(FloatProgress(value=0.0, description='Iteration', max=88.0, style=ProgressStyle(description_wid…"
      ]
     },
     "metadata": {},
     "output_type": "display_data"
    },
    {
     "name": "stdout",
     "output_type": "stream",
     "text": [
      "\n",
      "e_12 *\n"
     ]
    },
    {
     "data": {
      "application/vnd.jupyter.widget-view+json": {
       "model_id": "41c89e1c887749088264bd30c33482e6",
       "version_major": 2,
       "version_minor": 0
      },
      "text/plain": [
       "HBox(children=(FloatProgress(value=0.0, description='Iteration', max=88.0, style=ProgressStyle(description_wid…"
      ]
     },
     "metadata": {},
     "output_type": "display_data"
    },
    {
     "name": "stdout",
     "output_type": "stream",
     "text": [
      "\n",
      "e_13 *\n"
     ]
    },
    {
     "data": {
      "application/vnd.jupyter.widget-view+json": {
       "model_id": "53e1707e9fca4e0197b872652e273674",
       "version_major": 2,
       "version_minor": 0
      },
      "text/plain": [
       "HBox(children=(FloatProgress(value=0.0, description='Iteration', max=88.0, style=ProgressStyle(description_wid…"
      ]
     },
     "metadata": {},
     "output_type": "display_data"
    },
    {
     "name": "stdout",
     "output_type": "stream",
     "text": [
      "\n",
      "e_14 *\n"
     ]
    },
    {
     "data": {
      "application/vnd.jupyter.widget-view+json": {
       "model_id": "6aedf7bfc4674cf59ada82c440269965",
       "version_major": 2,
       "version_minor": 0
      },
      "text/plain": [
       "HBox(children=(FloatProgress(value=0.0, description='Iteration', max=88.0, style=ProgressStyle(description_wid…"
      ]
     },
     "metadata": {},
     "output_type": "display_data"
    },
    {
     "name": "stdout",
     "output_type": "stream",
     "text": [
      "\n",
      "e_15 *\n",
      "Epoch    14: reducing learning rate of group 0 to 6.2500e-05.\n",
      "Epoch    14: reducing learning rate of group 1 to 6.2500e-05.\n"
     ]
    },
    {
     "data": {
      "application/vnd.jupyter.widget-view+json": {
       "model_id": "93ff728964f743a48ed6ebf36c16d8b9",
       "version_major": 2,
       "version_minor": 0
      },
      "text/plain": [
       "HBox(children=(FloatProgress(value=0.0, description='Iteration', max=88.0, style=ProgressStyle(description_wid…"
      ]
     },
     "metadata": {},
     "output_type": "display_data"
    },
    {
     "name": "stdout",
     "output_type": "stream",
     "text": [
      "\n",
      "e_16 *\n"
     ]
    },
    {
     "data": {
      "application/vnd.jupyter.widget-view+json": {
       "model_id": "492bad5a714d47ab80572a53cad52bec",
       "version_major": 2,
       "version_minor": 0
      },
      "text/plain": [
       "HBox(children=(FloatProgress(value=0.0, description='Iteration', max=88.0, style=ProgressStyle(description_wid…"
      ]
     },
     "metadata": {},
     "output_type": "display_data"
    },
    {
     "name": "stdout",
     "output_type": "stream",
     "text": [
      "\n",
      "e_17 *\n"
     ]
    },
    {
     "data": {
      "application/vnd.jupyter.widget-view+json": {
       "model_id": "2391afefc5e34416b31d702332cc71a1",
       "version_major": 2,
       "version_minor": 0
      },
      "text/plain": [
       "HBox(children=(FloatProgress(value=0.0, description='Iteration', max=88.0, style=ProgressStyle(description_wid…"
      ]
     },
     "metadata": {},
     "output_type": "display_data"
    },
    {
     "name": "stdout",
     "output_type": "stream",
     "text": [
      "\n",
      "e_18 *\n"
     ]
    },
    {
     "data": {
      "application/vnd.jupyter.widget-view+json": {
       "model_id": "9602c164cfec4a7184564bed880d709a",
       "version_major": 2,
       "version_minor": 0
      },
      "text/plain": [
       "HBox(children=(FloatProgress(value=0.0, description='Iteration', max=88.0, style=ProgressStyle(description_wid…"
      ]
     },
     "metadata": {},
     "output_type": "display_data"
    },
    {
     "name": "stdout",
     "output_type": "stream",
     "text": [
      "\n",
      "e_19 *\n",
      "Epoch    18: reducing learning rate of group 0 to 3.1250e-05.\n",
      "Epoch    18: reducing learning rate of group 1 to 3.1250e-05.\n"
     ]
    },
    {
     "data": {
      "application/vnd.jupyter.widget-view+json": {
       "model_id": "f935d615e7e749c4afbc8c4dc969a4f5",
       "version_major": 2,
       "version_minor": 0
      },
      "text/plain": [
       "HBox(children=(FloatProgress(value=0.0, description='Iteration', max=88.0, style=ProgressStyle(description_wid…"
      ]
     },
     "metadata": {},
     "output_type": "display_data"
    },
    {
     "name": "stdout",
     "output_type": "stream",
     "text": [
      "\n",
      "e_20 *\n",
      "saved checkpoint in ../models/abs_models/Bst_abs_1st_0_03.ckp\n",
      "training end, used 87.85 s\n",
      "config ----------------\n",
      "{'EB_dp': 0.3,\n",
      " 'FC_dp': 0.1,\n",
      " 'adam_epsilon': 1e-08,\n",
      " 'batch_size': 32,\n",
      " 'cnn_out_c': 100,\n",
      " 'device': device(type='cuda'),\n",
      " 'epochs': 20,\n",
      " 'l2_weight_decay': 0.0001,\n",
      " 'learning_rate': 0.001,\n",
      " 'lr_cooldown': 2,\n",
      " 'lr_reduce_factor': 0.5,\n",
      " 'max_grad_norm': 5.0,\n",
      " 'max_token_n': 54,\n",
      " 'not_x_feature': False,\n",
      " 'num_embedding': 64,\n",
      " 'num_words': 82949,\n",
      " 'patience_epoch': 3,\n",
      " 'rnn_layers': 2,\n",
      " 'rnn_num_directions': 2,\n",
      " 'rnn_out_f_n': 68,\n",
      " 'threshold': 0.5,\n",
      " 'use_new_loss': False,\n",
      " 'warmup_epoch': 0,\n",
      " 'weight_decay': 0.0001,\n",
      " 'window_sizes': [2, 3, 4, 5]}\n",
      "       ----------------\n",
      "init model\n",
      "training begin\n"
     ]
    },
    {
     "data": {
      "application/vnd.jupyter.widget-view+json": {
       "model_id": "acadeec1874d431fb5ddd7ad3fb5e4a8",
       "version_major": 2,
       "version_minor": 0
      },
      "text/plain": [
       "HBox(children=(FloatProgress(value=0.0, description='Iteration', max=88.0, style=ProgressStyle(description_wid…"
      ]
     },
     "metadata": {},
     "output_type": "display_data"
    },
    {
     "name": "stdout",
     "output_type": "stream",
     "text": [
      "\n",
      "e_1 *\n"
     ]
    },
    {
     "data": {
      "application/vnd.jupyter.widget-view+json": {
       "model_id": "b7426339c1864c8ba2f84bbbeac53c11",
       "version_major": 2,
       "version_minor": 0
      },
      "text/plain": [
       "HBox(children=(FloatProgress(value=0.0, description='Iteration', max=88.0, style=ProgressStyle(description_wid…"
      ]
     },
     "metadata": {},
     "output_type": "display_data"
    },
    {
     "name": "stdout",
     "output_type": "stream",
     "text": [
      "\n",
      "e_2 *\n"
     ]
    },
    {
     "data": {
      "application/vnd.jupyter.widget-view+json": {
       "model_id": "8ee3c2e1d0164b77aadd1e6a3f0e10a3",
       "version_major": 2,
       "version_minor": 0
      },
      "text/plain": [
       "HBox(children=(FloatProgress(value=0.0, description='Iteration', max=88.0, style=ProgressStyle(description_wid…"
      ]
     },
     "metadata": {},
     "output_type": "display_data"
    },
    {
     "name": "stdout",
     "output_type": "stream",
     "text": [
      "\n",
      "e_3 *\n",
      "Epoch     2: reducing learning rate of group 0 to 5.0000e-04.\n",
      "Epoch     2: reducing learning rate of group 1 to 5.0000e-04.\n"
     ]
    },
    {
     "data": {
      "application/vnd.jupyter.widget-view+json": {
       "model_id": "f338acd500a047f3861343e9c46cc3d1",
       "version_major": 2,
       "version_minor": 0
      },
      "text/plain": [
       "HBox(children=(FloatProgress(value=0.0, description='Iteration', max=88.0, style=ProgressStyle(description_wid…"
      ]
     },
     "metadata": {},
     "output_type": "display_data"
    },
    {
     "name": "stdout",
     "output_type": "stream",
     "text": [
      "\n",
      "e_4 *\n"
     ]
    },
    {
     "data": {
      "application/vnd.jupyter.widget-view+json": {
       "model_id": "a6f21090f84744b08c281030a0b5d45b",
       "version_major": 2,
       "version_minor": 0
      },
      "text/plain": [
       "HBox(children=(FloatProgress(value=0.0, description='Iteration', max=88.0, style=ProgressStyle(description_wid…"
      ]
     },
     "metadata": {},
     "output_type": "display_data"
    },
    {
     "name": "stdout",
     "output_type": "stream",
     "text": [
      "\n",
      "e_5 *\n"
     ]
    },
    {
     "data": {
      "application/vnd.jupyter.widget-view+json": {
       "model_id": "f8403a66aab846a685d2e9f7307cb304",
       "version_major": 2,
       "version_minor": 0
      },
      "text/plain": [
       "HBox(children=(FloatProgress(value=0.0, description='Iteration', max=88.0, style=ProgressStyle(description_wid…"
      ]
     },
     "metadata": {},
     "output_type": "display_data"
    },
    {
     "name": "stdout",
     "output_type": "stream",
     "text": [
      "\n",
      "e_6 *\n"
     ]
    },
    {
     "data": {
      "application/vnd.jupyter.widget-view+json": {
       "model_id": "e47face7c45b4c43bbf8f370b55ca7e5",
       "version_major": 2,
       "version_minor": 0
      },
      "text/plain": [
       "HBox(children=(FloatProgress(value=0.0, description='Iteration', max=88.0, style=ProgressStyle(description_wid…"
      ]
     },
     "metadata": {},
     "output_type": "display_data"
    },
    {
     "name": "stdout",
     "output_type": "stream",
     "text": [
      "\n",
      "e_7 *\n",
      "Epoch     6: reducing learning rate of group 0 to 2.5000e-04.\n",
      "Epoch     6: reducing learning rate of group 1 to 2.5000e-04.\n"
     ]
    },
    {
     "data": {
      "application/vnd.jupyter.widget-view+json": {
       "model_id": "44017ef1b4cd499ba7745f7ea46e92ac",
       "version_major": 2,
       "version_minor": 0
      },
      "text/plain": [
       "HBox(children=(FloatProgress(value=0.0, description='Iteration', max=88.0, style=ProgressStyle(description_wid…"
      ]
     },
     "metadata": {},
     "output_type": "display_data"
    },
    {
     "name": "stdout",
     "output_type": "stream",
     "text": [
      "\n",
      "e_8 *\n"
     ]
    },
    {
     "data": {
      "application/vnd.jupyter.widget-view+json": {
       "model_id": "8c93bdbb1b1d43bb9b50690671d934c7",
       "version_major": 2,
       "version_minor": 0
      },
      "text/plain": [
       "HBox(children=(FloatProgress(value=0.0, description='Iteration', max=88.0, style=ProgressStyle(description_wid…"
      ]
     },
     "metadata": {},
     "output_type": "display_data"
    },
    {
     "name": "stdout",
     "output_type": "stream",
     "text": [
      "\n",
      "e_9 *\n"
     ]
    },
    {
     "data": {
      "application/vnd.jupyter.widget-view+json": {
       "model_id": "67228b6ac0ee479ab4185830ca4ca421",
       "version_major": 2,
       "version_minor": 0
      },
      "text/plain": [
       "HBox(children=(FloatProgress(value=0.0, description='Iteration', max=88.0, style=ProgressStyle(description_wid…"
      ]
     },
     "metadata": {},
     "output_type": "display_data"
    },
    {
     "name": "stdout",
     "output_type": "stream",
     "text": [
      "\n",
      "e_10 *\n"
     ]
    },
    {
     "data": {
      "application/vnd.jupyter.widget-view+json": {
       "model_id": "4fff6a903c764029872a72a8cd2da6ea",
       "version_major": 2,
       "version_minor": 0
      },
      "text/plain": [
       "HBox(children=(FloatProgress(value=0.0, description='Iteration', max=88.0, style=ProgressStyle(description_wid…"
      ]
     },
     "metadata": {},
     "output_type": "display_data"
    },
    {
     "name": "stdout",
     "output_type": "stream",
     "text": [
      "\n",
      "e_11 *\n",
      "Epoch    10: reducing learning rate of group 0 to 1.2500e-04.\n",
      "Epoch    10: reducing learning rate of group 1 to 1.2500e-04.\n"
     ]
    },
    {
     "data": {
      "application/vnd.jupyter.widget-view+json": {
       "model_id": "ab1734c04e754397ad519afeafc484e3",
       "version_major": 2,
       "version_minor": 0
      },
      "text/plain": [
       "HBox(children=(FloatProgress(value=0.0, description='Iteration', max=88.0, style=ProgressStyle(description_wid…"
      ]
     },
     "metadata": {},
     "output_type": "display_data"
    },
    {
     "name": "stdout",
     "output_type": "stream",
     "text": [
      "\n",
      "e_12 *\n"
     ]
    },
    {
     "data": {
      "application/vnd.jupyter.widget-view+json": {
       "model_id": "138856a01e3f403a87fec6dea8567d4a",
       "version_major": 2,
       "version_minor": 0
      },
      "text/plain": [
       "HBox(children=(FloatProgress(value=0.0, description='Iteration', max=88.0, style=ProgressStyle(description_wid…"
      ]
     },
     "metadata": {},
     "output_type": "display_data"
    },
    {
     "name": "stdout",
     "output_type": "stream",
     "text": [
      "\n",
      "e_13 *\n"
     ]
    },
    {
     "data": {
      "application/vnd.jupyter.widget-view+json": {
       "model_id": "106177e526e649e5b9bfc9fe699772a7",
       "version_major": 2,
       "version_minor": 0
      },
      "text/plain": [
       "HBox(children=(FloatProgress(value=0.0, description='Iteration', max=88.0, style=ProgressStyle(description_wid…"
      ]
     },
     "metadata": {},
     "output_type": "display_data"
    },
    {
     "name": "stdout",
     "output_type": "stream",
     "text": [
      "\n",
      "e_14 *\n"
     ]
    },
    {
     "data": {
      "application/vnd.jupyter.widget-view+json": {
       "model_id": "de51359c9a7e4134abc3f654ea920a79",
       "version_major": 2,
       "version_minor": 0
      },
      "text/plain": [
       "HBox(children=(FloatProgress(value=0.0, description='Iteration', max=88.0, style=ProgressStyle(description_wid…"
      ]
     },
     "metadata": {},
     "output_type": "display_data"
    },
    {
     "name": "stdout",
     "output_type": "stream",
     "text": [
      "\n",
      "e_15 *\n",
      "Epoch    14: reducing learning rate of group 0 to 6.2500e-05.\n",
      "Epoch    14: reducing learning rate of group 1 to 6.2500e-05.\n"
     ]
    },
    {
     "data": {
      "application/vnd.jupyter.widget-view+json": {
       "model_id": "76077efd6a544bc89f345bcc6fcb0ec7",
       "version_major": 2,
       "version_minor": 0
      },
      "text/plain": [
       "HBox(children=(FloatProgress(value=0.0, description='Iteration', max=88.0, style=ProgressStyle(description_wid…"
      ]
     },
     "metadata": {},
     "output_type": "display_data"
    },
    {
     "name": "stdout",
     "output_type": "stream",
     "text": [
      "\n",
      "e_16 *\n"
     ]
    },
    {
     "data": {
      "application/vnd.jupyter.widget-view+json": {
       "model_id": "59c021f5f2584fd3b28e640c74f71ad9",
       "version_major": 2,
       "version_minor": 0
      },
      "text/plain": [
       "HBox(children=(FloatProgress(value=0.0, description='Iteration', max=88.0, style=ProgressStyle(description_wid…"
      ]
     },
     "metadata": {},
     "output_type": "display_data"
    },
    {
     "name": "stdout",
     "output_type": "stream",
     "text": [
      "\n",
      "e_17 *\n"
     ]
    },
    {
     "data": {
      "application/vnd.jupyter.widget-view+json": {
       "model_id": "a66e5471d82444dc9a8799ed3309f295",
       "version_major": 2,
       "version_minor": 0
      },
      "text/plain": [
       "HBox(children=(FloatProgress(value=0.0, description='Iteration', max=88.0, style=ProgressStyle(description_wid…"
      ]
     },
     "metadata": {},
     "output_type": "display_data"
    },
    {
     "name": "stdout",
     "output_type": "stream",
     "text": [
      "\n",
      "e_18 *\n"
     ]
    },
    {
     "data": {
      "application/vnd.jupyter.widget-view+json": {
       "model_id": "bc3060f7a25445f1b8fd0bb907e56286",
       "version_major": 2,
       "version_minor": 0
      },
      "text/plain": [
       "HBox(children=(FloatProgress(value=0.0, description='Iteration', max=88.0, style=ProgressStyle(description_wid…"
      ]
     },
     "metadata": {},
     "output_type": "display_data"
    },
    {
     "name": "stdout",
     "output_type": "stream",
     "text": [
      "\n",
      "e_19 *\n",
      "Epoch    18: reducing learning rate of group 0 to 3.1250e-05.\n",
      "Epoch    18: reducing learning rate of group 1 to 3.1250e-05.\n"
     ]
    },
    {
     "data": {
      "application/vnd.jupyter.widget-view+json": {
       "model_id": "144558cbb70d40c08d08e12fc2a7cc71",
       "version_major": 2,
       "version_minor": 0
      },
      "text/plain": [
       "HBox(children=(FloatProgress(value=0.0, description='Iteration', max=88.0, style=ProgressStyle(description_wid…"
      ]
     },
     "metadata": {},
     "output_type": "display_data"
    },
    {
     "name": "stdout",
     "output_type": "stream",
     "text": [
      "\n",
      "e_20 *\n",
      "saved checkpoint in ../models/abs_models/Bst_abs_1st_0_04.ckp\n",
      "training end, used 87.25 s\n",
      "config ----------------\n",
      "{'EB_dp': 0.3,\n",
      " 'FC_dp': 0.1,\n",
      " 'adam_epsilon': 1e-08,\n",
      " 'batch_size': 32,\n",
      " 'cnn_out_c': 100,\n",
      " 'device': device(type='cuda'),\n",
      " 'epochs': 20,\n",
      " 'l2_weight_decay': 0.0001,\n",
      " 'learning_rate': 0.001,\n",
      " 'lr_cooldown': 2,\n",
      " 'lr_reduce_factor': 0.5,\n",
      " 'max_grad_norm': 5.0,\n",
      " 'max_token_n': 54,\n",
      " 'not_x_feature': False,\n",
      " 'num_embedding': 64,\n",
      " 'num_words': 82949,\n",
      " 'patience_epoch': 3,\n",
      " 'rnn_layers': 2,\n",
      " 'rnn_num_directions': 2,\n",
      " 'rnn_out_f_n': 68,\n",
      " 'threshold': 0.5,\n",
      " 'use_new_loss': False,\n",
      " 'warmup_epoch': 0,\n",
      " 'weight_decay': 0.0001,\n",
      " 'window_sizes': [2, 3, 4, 5]}\n",
      "       ----------------\n",
      "init model\n",
      "training begin\n"
     ]
    },
    {
     "data": {
      "application/vnd.jupyter.widget-view+json": {
       "model_id": "73e11643480b4de3b94aa9989b99318c",
       "version_major": 2,
       "version_minor": 0
      },
      "text/plain": [
       "HBox(children=(FloatProgress(value=0.0, description='Iteration', max=88.0, style=ProgressStyle(description_wid…"
      ]
     },
     "metadata": {},
     "output_type": "display_data"
    },
    {
     "name": "stdout",
     "output_type": "stream",
     "text": [
      "\n",
      "e_1 *\n"
     ]
    },
    {
     "data": {
      "application/vnd.jupyter.widget-view+json": {
       "model_id": "2d4dd58830ef4f26903f0b83e3533f8c",
       "version_major": 2,
       "version_minor": 0
      },
      "text/plain": [
       "HBox(children=(FloatProgress(value=0.0, description='Iteration', max=88.0, style=ProgressStyle(description_wid…"
      ]
     },
     "metadata": {},
     "output_type": "display_data"
    },
    {
     "name": "stdout",
     "output_type": "stream",
     "text": [
      "\n",
      "e_2 *\n"
     ]
    },
    {
     "data": {
      "application/vnd.jupyter.widget-view+json": {
       "model_id": "8985a7dfa56349848c27e2f3faba7ec4",
       "version_major": 2,
       "version_minor": 0
      },
      "text/plain": [
       "HBox(children=(FloatProgress(value=0.0, description='Iteration', max=88.0, style=ProgressStyle(description_wid…"
      ]
     },
     "metadata": {},
     "output_type": "display_data"
    },
    {
     "name": "stdout",
     "output_type": "stream",
     "text": [
      "\n",
      "e_3 *\n",
      "Epoch     2: reducing learning rate of group 0 to 5.0000e-04.\n",
      "Epoch     2: reducing learning rate of group 1 to 5.0000e-04.\n"
     ]
    },
    {
     "data": {
      "application/vnd.jupyter.widget-view+json": {
       "model_id": "34b4a16d4b7645789a4b1eb50f7be5c8",
       "version_major": 2,
       "version_minor": 0
      },
      "text/plain": [
       "HBox(children=(FloatProgress(value=0.0, description='Iteration', max=88.0, style=ProgressStyle(description_wid…"
      ]
     },
     "metadata": {},
     "output_type": "display_data"
    },
    {
     "name": "stdout",
     "output_type": "stream",
     "text": [
      "\n",
      "e_4 *\n"
     ]
    },
    {
     "data": {
      "application/vnd.jupyter.widget-view+json": {
       "model_id": "8ece4cdbcfac425393bbe39e91ed94a5",
       "version_major": 2,
       "version_minor": 0
      },
      "text/plain": [
       "HBox(children=(FloatProgress(value=0.0, description='Iteration', max=88.0, style=ProgressStyle(description_wid…"
      ]
     },
     "metadata": {},
     "output_type": "display_data"
    },
    {
     "name": "stdout",
     "output_type": "stream",
     "text": [
      "\n",
      "e_5 *\n"
     ]
    },
    {
     "data": {
      "application/vnd.jupyter.widget-view+json": {
       "model_id": "4747ec01c64c4c4991105139d1d8c3e6",
       "version_major": 2,
       "version_minor": 0
      },
      "text/plain": [
       "HBox(children=(FloatProgress(value=0.0, description='Iteration', max=88.0, style=ProgressStyle(description_wid…"
      ]
     },
     "metadata": {},
     "output_type": "display_data"
    },
    {
     "name": "stdout",
     "output_type": "stream",
     "text": [
      "\n",
      "e_6 *\n"
     ]
    },
    {
     "data": {
      "application/vnd.jupyter.widget-view+json": {
       "model_id": "9741f930149b42a2be8de1c2e5e162c8",
       "version_major": 2,
       "version_minor": 0
      },
      "text/plain": [
       "HBox(children=(FloatProgress(value=0.0, description='Iteration', max=88.0, style=ProgressStyle(description_wid…"
      ]
     },
     "metadata": {},
     "output_type": "display_data"
    },
    {
     "name": "stdout",
     "output_type": "stream",
     "text": [
      "\n",
      "e_7 *\n",
      "Epoch     6: reducing learning rate of group 0 to 2.5000e-04.\n",
      "Epoch     6: reducing learning rate of group 1 to 2.5000e-04.\n"
     ]
    },
    {
     "data": {
      "application/vnd.jupyter.widget-view+json": {
       "model_id": "88f3f353b09c4bc7adf0fa0c8639b50e",
       "version_major": 2,
       "version_minor": 0
      },
      "text/plain": [
       "HBox(children=(FloatProgress(value=0.0, description='Iteration', max=88.0, style=ProgressStyle(description_wid…"
      ]
     },
     "metadata": {},
     "output_type": "display_data"
    },
    {
     "name": "stdout",
     "output_type": "stream",
     "text": [
      "\n",
      "e_8 *\n"
     ]
    },
    {
     "data": {
      "application/vnd.jupyter.widget-view+json": {
       "model_id": "ac587b92fe16463a8ade5b3a9614f4f5",
       "version_major": 2,
       "version_minor": 0
      },
      "text/plain": [
       "HBox(children=(FloatProgress(value=0.0, description='Iteration', max=88.0, style=ProgressStyle(description_wid…"
      ]
     },
     "metadata": {},
     "output_type": "display_data"
    },
    {
     "name": "stdout",
     "output_type": "stream",
     "text": [
      "\n",
      "e_9 *\n"
     ]
    },
    {
     "data": {
      "application/vnd.jupyter.widget-view+json": {
       "model_id": "e10f0a9631644d3daaa04badfbe73ee9",
       "version_major": 2,
       "version_minor": 0
      },
      "text/plain": [
       "HBox(children=(FloatProgress(value=0.0, description='Iteration', max=88.0, style=ProgressStyle(description_wid…"
      ]
     },
     "metadata": {},
     "output_type": "display_data"
    },
    {
     "name": "stdout",
     "output_type": "stream",
     "text": [
      "\n",
      "e_10 *\n"
     ]
    },
    {
     "data": {
      "application/vnd.jupyter.widget-view+json": {
       "model_id": "0724093241584698913413de086c6388",
       "version_major": 2,
       "version_minor": 0
      },
      "text/plain": [
       "HBox(children=(FloatProgress(value=0.0, description='Iteration', max=88.0, style=ProgressStyle(description_wid…"
      ]
     },
     "metadata": {},
     "output_type": "display_data"
    },
    {
     "name": "stdout",
     "output_type": "stream",
     "text": [
      "\n",
      "e_11 *\n",
      "Epoch    10: reducing learning rate of group 0 to 1.2500e-04.\n",
      "Epoch    10: reducing learning rate of group 1 to 1.2500e-04.\n"
     ]
    },
    {
     "data": {
      "application/vnd.jupyter.widget-view+json": {
       "model_id": "ecc466fc5f5b49ddb3ee229ac1834912",
       "version_major": 2,
       "version_minor": 0
      },
      "text/plain": [
       "HBox(children=(FloatProgress(value=0.0, description='Iteration', max=88.0, style=ProgressStyle(description_wid…"
      ]
     },
     "metadata": {},
     "output_type": "display_data"
    },
    {
     "name": "stdout",
     "output_type": "stream",
     "text": [
      "\n",
      "e_12 *\n"
     ]
    },
    {
     "data": {
      "application/vnd.jupyter.widget-view+json": {
       "model_id": "184cb1ffe6574a2287fc33762f715ba7",
       "version_major": 2,
       "version_minor": 0
      },
      "text/plain": [
       "HBox(children=(FloatProgress(value=0.0, description='Iteration', max=88.0, style=ProgressStyle(description_wid…"
      ]
     },
     "metadata": {},
     "output_type": "display_data"
    },
    {
     "name": "stdout",
     "output_type": "stream",
     "text": [
      "\n",
      "e_13 *\n"
     ]
    },
    {
     "data": {
      "application/vnd.jupyter.widget-view+json": {
       "model_id": "dc635b7aff094f3c98560a9139367749",
       "version_major": 2,
       "version_minor": 0
      },
      "text/plain": [
       "HBox(children=(FloatProgress(value=0.0, description='Iteration', max=88.0, style=ProgressStyle(description_wid…"
      ]
     },
     "metadata": {},
     "output_type": "display_data"
    },
    {
     "name": "stdout",
     "output_type": "stream",
     "text": [
      "\n",
      "e_14 *\n"
     ]
    },
    {
     "data": {
      "application/vnd.jupyter.widget-view+json": {
       "model_id": "38ffc708412f4595b2828722cb510463",
       "version_major": 2,
       "version_minor": 0
      },
      "text/plain": [
       "HBox(children=(FloatProgress(value=0.0, description='Iteration', max=88.0, style=ProgressStyle(description_wid…"
      ]
     },
     "metadata": {},
     "output_type": "display_data"
    },
    {
     "name": "stdout",
     "output_type": "stream",
     "text": [
      "\n",
      "e_15 *\n",
      "Epoch    14: reducing learning rate of group 0 to 6.2500e-05.\n",
      "Epoch    14: reducing learning rate of group 1 to 6.2500e-05.\n"
     ]
    },
    {
     "data": {
      "application/vnd.jupyter.widget-view+json": {
       "model_id": "829fb225fa864e7bb7e5c0dee3770523",
       "version_major": 2,
       "version_minor": 0
      },
      "text/plain": [
       "HBox(children=(FloatProgress(value=0.0, description='Iteration', max=88.0, style=ProgressStyle(description_wid…"
      ]
     },
     "metadata": {},
     "output_type": "display_data"
    },
    {
     "name": "stdout",
     "output_type": "stream",
     "text": [
      "\n",
      "e_16 *\n"
     ]
    },
    {
     "data": {
      "application/vnd.jupyter.widget-view+json": {
       "model_id": "3cda55594abc43b3a4ac29ce4cc947cc",
       "version_major": 2,
       "version_minor": 0
      },
      "text/plain": [
       "HBox(children=(FloatProgress(value=0.0, description='Iteration', max=88.0, style=ProgressStyle(description_wid…"
      ]
     },
     "metadata": {},
     "output_type": "display_data"
    },
    {
     "name": "stdout",
     "output_type": "stream",
     "text": [
      "\n",
      "e_17 *\n"
     ]
    },
    {
     "data": {
      "application/vnd.jupyter.widget-view+json": {
       "model_id": "3213d0efb3e444dea761e122c6c1b6d3",
       "version_major": 2,
       "version_minor": 0
      },
      "text/plain": [
       "HBox(children=(FloatProgress(value=0.0, description='Iteration', max=88.0, style=ProgressStyle(description_wid…"
      ]
     },
     "metadata": {},
     "output_type": "display_data"
    },
    {
     "name": "stdout",
     "output_type": "stream",
     "text": [
      "\n",
      "e_18 *\n"
     ]
    },
    {
     "data": {
      "application/vnd.jupyter.widget-view+json": {
       "model_id": "b8becf4b0c6a43e3a329a4892ec69192",
       "version_major": 2,
       "version_minor": 0
      },
      "text/plain": [
       "HBox(children=(FloatProgress(value=0.0, description='Iteration', max=88.0, style=ProgressStyle(description_wid…"
      ]
     },
     "metadata": {},
     "output_type": "display_data"
    },
    {
     "name": "stdout",
     "output_type": "stream",
     "text": [
      "\n",
      "e_19 *\n",
      "Epoch    18: reducing learning rate of group 0 to 3.1250e-05.\n",
      "Epoch    18: reducing learning rate of group 1 to 3.1250e-05.\n"
     ]
    },
    {
     "data": {
      "application/vnd.jupyter.widget-view+json": {
       "model_id": "44e32d6fcace474e8e79676231e7f14e",
       "version_major": 2,
       "version_minor": 0
      },
      "text/plain": [
       "HBox(children=(FloatProgress(value=0.0, description='Iteration', max=88.0, style=ProgressStyle(description_wid…"
      ]
     },
     "metadata": {},
     "output_type": "display_data"
    },
    {
     "name": "stdout",
     "output_type": "stream",
     "text": [
      "\n",
      "e_20 *\n",
      "saved checkpoint in ../models/abs_models/Bst_abs_1st_0_05.ckp\n",
      "training end, used 88.59 s\n",
      "config ----------------\n",
      "{'EB_dp': 0.3,\n",
      " 'FC_dp': 0.1,\n",
      " 'adam_epsilon': 1e-08,\n",
      " 'batch_size': 32,\n",
      " 'cnn_out_c': 100,\n",
      " 'device': device(type='cuda'),\n",
      " 'epochs': 20,\n",
      " 'l2_weight_decay': 0.0001,\n",
      " 'learning_rate': 0.001,\n",
      " 'lr_cooldown': 2,\n",
      " 'lr_reduce_factor': 0.5,\n",
      " 'max_grad_norm': 5.0,\n",
      " 'max_token_n': 54,\n",
      " 'not_x_feature': False,\n",
      " 'num_embedding': 64,\n",
      " 'num_words': 82949,\n",
      " 'patience_epoch': 3,\n",
      " 'rnn_layers': 2,\n",
      " 'rnn_num_directions': 2,\n",
      " 'rnn_out_f_n': 68,\n",
      " 'threshold': 0.5,\n",
      " 'use_new_loss': False,\n",
      " 'warmup_epoch': 0,\n",
      " 'weight_decay': 0.0001,\n",
      " 'window_sizes': [2, 3, 4, 5]}\n",
      "       ----------------\n",
      "init model\n",
      "training begin\n"
     ]
    },
    {
     "data": {
      "application/vnd.jupyter.widget-view+json": {
       "model_id": "28403458857c4c6db6909d4e8d280465",
       "version_major": 2,
       "version_minor": 0
      },
      "text/plain": [
       "HBox(children=(FloatProgress(value=0.0, description='Iteration', max=88.0, style=ProgressStyle(description_wid…"
      ]
     },
     "metadata": {},
     "output_type": "display_data"
    },
    {
     "name": "stdout",
     "output_type": "stream",
     "text": [
      "\n",
      "e_1 *\n"
     ]
    },
    {
     "data": {
      "application/vnd.jupyter.widget-view+json": {
       "model_id": "155c68c394114678ab17c6b8961c49f5",
       "version_major": 2,
       "version_minor": 0
      },
      "text/plain": [
       "HBox(children=(FloatProgress(value=0.0, description='Iteration', max=88.0, style=ProgressStyle(description_wid…"
      ]
     },
     "metadata": {},
     "output_type": "display_data"
    },
    {
     "name": "stdout",
     "output_type": "stream",
     "text": [
      "\n",
      "e_2 *\n"
     ]
    },
    {
     "data": {
      "application/vnd.jupyter.widget-view+json": {
       "model_id": "318ea0057a63435da8443196b14e2063",
       "version_major": 2,
       "version_minor": 0
      },
      "text/plain": [
       "HBox(children=(FloatProgress(value=0.0, description='Iteration', max=88.0, style=ProgressStyle(description_wid…"
      ]
     },
     "metadata": {},
     "output_type": "display_data"
    },
    {
     "name": "stdout",
     "output_type": "stream",
     "text": [
      "\n",
      "e_3 *\n",
      "Epoch     2: reducing learning rate of group 0 to 5.0000e-04.\n",
      "Epoch     2: reducing learning rate of group 1 to 5.0000e-04.\n"
     ]
    },
    {
     "data": {
      "application/vnd.jupyter.widget-view+json": {
       "model_id": "b6c9add4f5904a3283eae85aca9ecb90",
       "version_major": 2,
       "version_minor": 0
      },
      "text/plain": [
       "HBox(children=(FloatProgress(value=0.0, description='Iteration', max=88.0, style=ProgressStyle(description_wid…"
      ]
     },
     "metadata": {},
     "output_type": "display_data"
    },
    {
     "name": "stdout",
     "output_type": "stream",
     "text": [
      "\n",
      "e_4 *\n"
     ]
    },
    {
     "data": {
      "application/vnd.jupyter.widget-view+json": {
       "model_id": "b8b3c29e2fda493695a5842d956e374b",
       "version_major": 2,
       "version_minor": 0
      },
      "text/plain": [
       "HBox(children=(FloatProgress(value=0.0, description='Iteration', max=88.0, style=ProgressStyle(description_wid…"
      ]
     },
     "metadata": {},
     "output_type": "display_data"
    },
    {
     "name": "stdout",
     "output_type": "stream",
     "text": [
      "\n",
      "e_5 *\n"
     ]
    },
    {
     "data": {
      "application/vnd.jupyter.widget-view+json": {
       "model_id": "247145a1632c42298bf5b5f69f2ada2d",
       "version_major": 2,
       "version_minor": 0
      },
      "text/plain": [
       "HBox(children=(FloatProgress(value=0.0, description='Iteration', max=88.0, style=ProgressStyle(description_wid…"
      ]
     },
     "metadata": {},
     "output_type": "display_data"
    },
    {
     "name": "stdout",
     "output_type": "stream",
     "text": [
      "\n",
      "e_6 *\n"
     ]
    },
    {
     "data": {
      "application/vnd.jupyter.widget-view+json": {
       "model_id": "711b01a8eb6040adb5d21d9da3c1f977",
       "version_major": 2,
       "version_minor": 0
      },
      "text/plain": [
       "HBox(children=(FloatProgress(value=0.0, description='Iteration', max=88.0, style=ProgressStyle(description_wid…"
      ]
     },
     "metadata": {},
     "output_type": "display_data"
    },
    {
     "name": "stdout",
     "output_type": "stream",
     "text": [
      "\n",
      "e_7 *\n",
      "Epoch     6: reducing learning rate of group 0 to 2.5000e-04.\n",
      "Epoch     6: reducing learning rate of group 1 to 2.5000e-04.\n"
     ]
    },
    {
     "data": {
      "application/vnd.jupyter.widget-view+json": {
       "model_id": "7c2f50bc2a1f466c834dfa896a45be9b",
       "version_major": 2,
       "version_minor": 0
      },
      "text/plain": [
       "HBox(children=(FloatProgress(value=0.0, description='Iteration', max=88.0, style=ProgressStyle(description_wid…"
      ]
     },
     "metadata": {},
     "output_type": "display_data"
    },
    {
     "name": "stdout",
     "output_type": "stream",
     "text": [
      "\n",
      "e_8 *\n"
     ]
    },
    {
     "data": {
      "application/vnd.jupyter.widget-view+json": {
       "model_id": "d5d6aa3aa5414d2f9da3de9747b7b043",
       "version_major": 2,
       "version_minor": 0
      },
      "text/plain": [
       "HBox(children=(FloatProgress(value=0.0, description='Iteration', max=88.0, style=ProgressStyle(description_wid…"
      ]
     },
     "metadata": {},
     "output_type": "display_data"
    },
    {
     "name": "stdout",
     "output_type": "stream",
     "text": [
      "\n",
      "e_9 *\n"
     ]
    },
    {
     "data": {
      "application/vnd.jupyter.widget-view+json": {
       "model_id": "99129d7d660d48a2b8c5390448890097",
       "version_major": 2,
       "version_minor": 0
      },
      "text/plain": [
       "HBox(children=(FloatProgress(value=0.0, description='Iteration', max=88.0, style=ProgressStyle(description_wid…"
      ]
     },
     "metadata": {},
     "output_type": "display_data"
    },
    {
     "name": "stdout",
     "output_type": "stream",
     "text": [
      "\n",
      "e_10 *\n"
     ]
    },
    {
     "data": {
      "application/vnd.jupyter.widget-view+json": {
       "model_id": "e0749efe26c74de18b0db6f867d474fc",
       "version_major": 2,
       "version_minor": 0
      },
      "text/plain": [
       "HBox(children=(FloatProgress(value=0.0, description='Iteration', max=88.0, style=ProgressStyle(description_wid…"
      ]
     },
     "metadata": {},
     "output_type": "display_data"
    },
    {
     "name": "stdout",
     "output_type": "stream",
     "text": [
      "\n",
      "e_11 *\n",
      "Epoch    10: reducing learning rate of group 0 to 1.2500e-04.\n",
      "Epoch    10: reducing learning rate of group 1 to 1.2500e-04.\n"
     ]
    },
    {
     "data": {
      "application/vnd.jupyter.widget-view+json": {
       "model_id": "e7502ffaff724423a2826f8a8f4628f6",
       "version_major": 2,
       "version_minor": 0
      },
      "text/plain": [
       "HBox(children=(FloatProgress(value=0.0, description='Iteration', max=88.0, style=ProgressStyle(description_wid…"
      ]
     },
     "metadata": {},
     "output_type": "display_data"
    },
    {
     "name": "stdout",
     "output_type": "stream",
     "text": [
      "\n",
      "e_12 *\n"
     ]
    },
    {
     "data": {
      "application/vnd.jupyter.widget-view+json": {
       "model_id": "7d5e7ff77c5e483b8d9547044559dd21",
       "version_major": 2,
       "version_minor": 0
      },
      "text/plain": [
       "HBox(children=(FloatProgress(value=0.0, description='Iteration', max=88.0, style=ProgressStyle(description_wid…"
      ]
     },
     "metadata": {},
     "output_type": "display_data"
    },
    {
     "name": "stdout",
     "output_type": "stream",
     "text": [
      "\n",
      "e_13 *\n"
     ]
    },
    {
     "data": {
      "application/vnd.jupyter.widget-view+json": {
       "model_id": "99e8f71754914b6583a005371c1bea82",
       "version_major": 2,
       "version_minor": 0
      },
      "text/plain": [
       "HBox(children=(FloatProgress(value=0.0, description='Iteration', max=88.0, style=ProgressStyle(description_wid…"
      ]
     },
     "metadata": {},
     "output_type": "display_data"
    },
    {
     "name": "stdout",
     "output_type": "stream",
     "text": [
      "\n",
      "e_14 *\n"
     ]
    },
    {
     "data": {
      "application/vnd.jupyter.widget-view+json": {
       "model_id": "ebfdb421c5384bc78f696fc953f91e6a",
       "version_major": 2,
       "version_minor": 0
      },
      "text/plain": [
       "HBox(children=(FloatProgress(value=0.0, description='Iteration', max=88.0, style=ProgressStyle(description_wid…"
      ]
     },
     "metadata": {},
     "output_type": "display_data"
    },
    {
     "name": "stdout",
     "output_type": "stream",
     "text": [
      "\n",
      "e_15 *\n",
      "Epoch    14: reducing learning rate of group 0 to 6.2500e-05.\n",
      "Epoch    14: reducing learning rate of group 1 to 6.2500e-05.\n"
     ]
    },
    {
     "data": {
      "application/vnd.jupyter.widget-view+json": {
       "model_id": "b29bff8937694ddc8ba14e7d3298909d",
       "version_major": 2,
       "version_minor": 0
      },
      "text/plain": [
       "HBox(children=(FloatProgress(value=0.0, description='Iteration', max=88.0, style=ProgressStyle(description_wid…"
      ]
     },
     "metadata": {},
     "output_type": "display_data"
    },
    {
     "name": "stdout",
     "output_type": "stream",
     "text": [
      "\n",
      "e_16 *\n"
     ]
    },
    {
     "data": {
      "application/vnd.jupyter.widget-view+json": {
       "model_id": "8705c10621bb4b6aaa4faf8102ff65a5",
       "version_major": 2,
       "version_minor": 0
      },
      "text/plain": [
       "HBox(children=(FloatProgress(value=0.0, description='Iteration', max=88.0, style=ProgressStyle(description_wid…"
      ]
     },
     "metadata": {},
     "output_type": "display_data"
    },
    {
     "name": "stdout",
     "output_type": "stream",
     "text": [
      "\n",
      "e_17 *\n"
     ]
    },
    {
     "data": {
      "application/vnd.jupyter.widget-view+json": {
       "model_id": "8f2ade045f3c42bfacc6c4a9338fe4d0",
       "version_major": 2,
       "version_minor": 0
      },
      "text/plain": [
       "HBox(children=(FloatProgress(value=0.0, description='Iteration', max=88.0, style=ProgressStyle(description_wid…"
      ]
     },
     "metadata": {},
     "output_type": "display_data"
    },
    {
     "name": "stdout",
     "output_type": "stream",
     "text": [
      "\n",
      "e_18 *\n"
     ]
    },
    {
     "data": {
      "application/vnd.jupyter.widget-view+json": {
       "model_id": "2863df51426d4a1087d0a828b8ed8d3c",
       "version_major": 2,
       "version_minor": 0
      },
      "text/plain": [
       "HBox(children=(FloatProgress(value=0.0, description='Iteration', max=88.0, style=ProgressStyle(description_wid…"
      ]
     },
     "metadata": {},
     "output_type": "display_data"
    },
    {
     "name": "stdout",
     "output_type": "stream",
     "text": [
      "\n",
      "e_19 *\n",
      "Epoch    18: reducing learning rate of group 0 to 3.1250e-05.\n",
      "Epoch    18: reducing learning rate of group 1 to 3.1250e-05.\n"
     ]
    },
    {
     "data": {
      "application/vnd.jupyter.widget-view+json": {
       "model_id": "742b25ca18d24748907fcda5972cf6eb",
       "version_major": 2,
       "version_minor": 0
      },
      "text/plain": [
       "HBox(children=(FloatProgress(value=0.0, description='Iteration', max=88.0, style=ProgressStyle(description_wid…"
      ]
     },
     "metadata": {},
     "output_type": "display_data"
    },
    {
     "name": "stdout",
     "output_type": "stream",
     "text": [
      "\n",
      "e_20 *\n",
      "saved checkpoint in ../models/abs_models/Bst_abs_1st_0_06.ckp\n",
      "training end, used 88.26 s\n",
      "config ----------------\n",
      "{'EB_dp': 0.3,\n",
      " 'FC_dp': 0.1,\n",
      " 'adam_epsilon': 1e-08,\n",
      " 'batch_size': 32,\n",
      " 'cnn_out_c': 100,\n",
      " 'device': device(type='cuda'),\n",
      " 'epochs': 20,\n",
      " 'l2_weight_decay': 0.0001,\n",
      " 'learning_rate': 0.001,\n",
      " 'lr_cooldown': 2,\n",
      " 'lr_reduce_factor': 0.5,\n",
      " 'max_grad_norm': 5.0,\n",
      " 'max_token_n': 54,\n",
      " 'not_x_feature': False,\n",
      " 'num_embedding': 64,\n",
      " 'num_words': 82949,\n",
      " 'patience_epoch': 3,\n",
      " 'rnn_layers': 2,\n",
      " 'rnn_num_directions': 2,\n",
      " 'rnn_out_f_n': 68,\n",
      " 'threshold': 0.5,\n",
      " 'use_new_loss': False,\n",
      " 'warmup_epoch': 0,\n",
      " 'weight_decay': 0.0001,\n",
      " 'window_sizes': [2, 3, 4, 5]}\n",
      "       ----------------\n",
      "init model\n",
      "training begin\n"
     ]
    },
    {
     "data": {
      "application/vnd.jupyter.widget-view+json": {
       "model_id": "e89fbb07d7664264a56a5f98c7e04c76",
       "version_major": 2,
       "version_minor": 0
      },
      "text/plain": [
       "HBox(children=(FloatProgress(value=0.0, description='Iteration', max=88.0, style=ProgressStyle(description_wid…"
      ]
     },
     "metadata": {},
     "output_type": "display_data"
    },
    {
     "name": "stdout",
     "output_type": "stream",
     "text": [
      "\n",
      "e_1 *\n"
     ]
    },
    {
     "data": {
      "application/vnd.jupyter.widget-view+json": {
       "model_id": "75b36b35cbd04dec8d6aac4a5c7cc867",
       "version_major": 2,
       "version_minor": 0
      },
      "text/plain": [
       "HBox(children=(FloatProgress(value=0.0, description='Iteration', max=88.0, style=ProgressStyle(description_wid…"
      ]
     },
     "metadata": {},
     "output_type": "display_data"
    },
    {
     "name": "stdout",
     "output_type": "stream",
     "text": [
      "\n",
      "e_2 *\n"
     ]
    },
    {
     "data": {
      "application/vnd.jupyter.widget-view+json": {
       "model_id": "c75a4cfebfed4f16ac163572801721c7",
       "version_major": 2,
       "version_minor": 0
      },
      "text/plain": [
       "HBox(children=(FloatProgress(value=0.0, description='Iteration', max=88.0, style=ProgressStyle(description_wid…"
      ]
     },
     "metadata": {},
     "output_type": "display_data"
    },
    {
     "name": "stdout",
     "output_type": "stream",
     "text": [
      "\n",
      "e_3 *\n",
      "Epoch     2: reducing learning rate of group 0 to 5.0000e-04.\n",
      "Epoch     2: reducing learning rate of group 1 to 5.0000e-04.\n"
     ]
    },
    {
     "data": {
      "application/vnd.jupyter.widget-view+json": {
       "model_id": "408cedbe8cee4009a04d2d9e06d73222",
       "version_major": 2,
       "version_minor": 0
      },
      "text/plain": [
       "HBox(children=(FloatProgress(value=0.0, description='Iteration', max=88.0, style=ProgressStyle(description_wid…"
      ]
     },
     "metadata": {},
     "output_type": "display_data"
    },
    {
     "name": "stdout",
     "output_type": "stream",
     "text": [
      "\n",
      "e_4 *\n"
     ]
    },
    {
     "data": {
      "application/vnd.jupyter.widget-view+json": {
       "model_id": "029a8a07b4ee4e289702cb5369d56ae6",
       "version_major": 2,
       "version_minor": 0
      },
      "text/plain": [
       "HBox(children=(FloatProgress(value=0.0, description='Iteration', max=88.0, style=ProgressStyle(description_wid…"
      ]
     },
     "metadata": {},
     "output_type": "display_data"
    },
    {
     "name": "stdout",
     "output_type": "stream",
     "text": [
      "\n",
      "e_5 *\n"
     ]
    },
    {
     "data": {
      "application/vnd.jupyter.widget-view+json": {
       "model_id": "d5a5433ed0584a0e823340cd5347453b",
       "version_major": 2,
       "version_minor": 0
      },
      "text/plain": [
       "HBox(children=(FloatProgress(value=0.0, description='Iteration', max=88.0, style=ProgressStyle(description_wid…"
      ]
     },
     "metadata": {},
     "output_type": "display_data"
    },
    {
     "name": "stdout",
     "output_type": "stream",
     "text": [
      "\n",
      "e_6 *\n"
     ]
    },
    {
     "data": {
      "application/vnd.jupyter.widget-view+json": {
       "model_id": "543e5b4cb2074c0793ffe3c2c4e11a81",
       "version_major": 2,
       "version_minor": 0
      },
      "text/plain": [
       "HBox(children=(FloatProgress(value=0.0, description='Iteration', max=88.0, style=ProgressStyle(description_wid…"
      ]
     },
     "metadata": {},
     "output_type": "display_data"
    },
    {
     "name": "stdout",
     "output_type": "stream",
     "text": [
      "\n",
      "e_7 *\n",
      "Epoch     6: reducing learning rate of group 0 to 2.5000e-04.\n",
      "Epoch     6: reducing learning rate of group 1 to 2.5000e-04.\n"
     ]
    },
    {
     "data": {
      "application/vnd.jupyter.widget-view+json": {
       "model_id": "a9a1587249394f679a1ad728caf6ce83",
       "version_major": 2,
       "version_minor": 0
      },
      "text/plain": [
       "HBox(children=(FloatProgress(value=0.0, description='Iteration', max=88.0, style=ProgressStyle(description_wid…"
      ]
     },
     "metadata": {},
     "output_type": "display_data"
    },
    {
     "name": "stdout",
     "output_type": "stream",
     "text": [
      "\n",
      "e_8 *\n"
     ]
    },
    {
     "data": {
      "application/vnd.jupyter.widget-view+json": {
       "model_id": "2a3e5a0182594d34a0aeaa93adc1ce90",
       "version_major": 2,
       "version_minor": 0
      },
      "text/plain": [
       "HBox(children=(FloatProgress(value=0.0, description='Iteration', max=88.0, style=ProgressStyle(description_wid…"
      ]
     },
     "metadata": {},
     "output_type": "display_data"
    },
    {
     "name": "stdout",
     "output_type": "stream",
     "text": [
      "\n",
      "e_9 *\n"
     ]
    },
    {
     "data": {
      "application/vnd.jupyter.widget-view+json": {
       "model_id": "149bf456b139442883057f55adea30a9",
       "version_major": 2,
       "version_minor": 0
      },
      "text/plain": [
       "HBox(children=(FloatProgress(value=0.0, description='Iteration', max=88.0, style=ProgressStyle(description_wid…"
      ]
     },
     "metadata": {},
     "output_type": "display_data"
    },
    {
     "name": "stdout",
     "output_type": "stream",
     "text": [
      "\n",
      "e_10 *\n"
     ]
    },
    {
     "data": {
      "application/vnd.jupyter.widget-view+json": {
       "model_id": "7fa2e09dff8e4e7c8299f2d06948ffe8",
       "version_major": 2,
       "version_minor": 0
      },
      "text/plain": [
       "HBox(children=(FloatProgress(value=0.0, description='Iteration', max=88.0, style=ProgressStyle(description_wid…"
      ]
     },
     "metadata": {},
     "output_type": "display_data"
    },
    {
     "name": "stdout",
     "output_type": "stream",
     "text": [
      "\n",
      "e_11 *\n",
      "Epoch    10: reducing learning rate of group 0 to 1.2500e-04.\n",
      "Epoch    10: reducing learning rate of group 1 to 1.2500e-04.\n"
     ]
    },
    {
     "data": {
      "application/vnd.jupyter.widget-view+json": {
       "model_id": "89d75b3eb6604bba83b86d525306b8f8",
       "version_major": 2,
       "version_minor": 0
      },
      "text/plain": [
       "HBox(children=(FloatProgress(value=0.0, description='Iteration', max=88.0, style=ProgressStyle(description_wid…"
      ]
     },
     "metadata": {},
     "output_type": "display_data"
    },
    {
     "name": "stdout",
     "output_type": "stream",
     "text": [
      "\n",
      "e_12 *\n"
     ]
    },
    {
     "data": {
      "application/vnd.jupyter.widget-view+json": {
       "model_id": "03f0b452d33d46ebad2dc530052a605b",
       "version_major": 2,
       "version_minor": 0
      },
      "text/plain": [
       "HBox(children=(FloatProgress(value=0.0, description='Iteration', max=88.0, style=ProgressStyle(description_wid…"
      ]
     },
     "metadata": {},
     "output_type": "display_data"
    },
    {
     "name": "stdout",
     "output_type": "stream",
     "text": [
      "\n",
      "e_13 *\n"
     ]
    },
    {
     "data": {
      "application/vnd.jupyter.widget-view+json": {
       "model_id": "eca675cbb8c64ecaaebc2bb8c748d556",
       "version_major": 2,
       "version_minor": 0
      },
      "text/plain": [
       "HBox(children=(FloatProgress(value=0.0, description='Iteration', max=88.0, style=ProgressStyle(description_wid…"
      ]
     },
     "metadata": {},
     "output_type": "display_data"
    },
    {
     "name": "stdout",
     "output_type": "stream",
     "text": [
      "\n",
      "e_14 *\n"
     ]
    },
    {
     "data": {
      "application/vnd.jupyter.widget-view+json": {
       "model_id": "4cd0e3a6e89b478e915e3b0047cf0f0d",
       "version_major": 2,
       "version_minor": 0
      },
      "text/plain": [
       "HBox(children=(FloatProgress(value=0.0, description='Iteration', max=88.0, style=ProgressStyle(description_wid…"
      ]
     },
     "metadata": {},
     "output_type": "display_data"
    },
    {
     "name": "stdout",
     "output_type": "stream",
     "text": [
      "\n",
      "e_15 *\n",
      "Epoch    14: reducing learning rate of group 0 to 6.2500e-05.\n",
      "Epoch    14: reducing learning rate of group 1 to 6.2500e-05.\n"
     ]
    },
    {
     "data": {
      "application/vnd.jupyter.widget-view+json": {
       "model_id": "45fc0b2a7c01413897270804427db022",
       "version_major": 2,
       "version_minor": 0
      },
      "text/plain": [
       "HBox(children=(FloatProgress(value=0.0, description='Iteration', max=88.0, style=ProgressStyle(description_wid…"
      ]
     },
     "metadata": {},
     "output_type": "display_data"
    },
    {
     "name": "stdout",
     "output_type": "stream",
     "text": [
      "\n",
      "e_16 *\n"
     ]
    },
    {
     "data": {
      "application/vnd.jupyter.widget-view+json": {
       "model_id": "a8ea36bc0f754f15944156643e647a15",
       "version_major": 2,
       "version_minor": 0
      },
      "text/plain": [
       "HBox(children=(FloatProgress(value=0.0, description='Iteration', max=88.0, style=ProgressStyle(description_wid…"
      ]
     },
     "metadata": {},
     "output_type": "display_data"
    },
    {
     "name": "stdout",
     "output_type": "stream",
     "text": [
      "\n",
      "e_17 *\n"
     ]
    },
    {
     "data": {
      "application/vnd.jupyter.widget-view+json": {
       "model_id": "b8e595318eed459eba9f5d66b9ec4bee",
       "version_major": 2,
       "version_minor": 0
      },
      "text/plain": [
       "HBox(children=(FloatProgress(value=0.0, description='Iteration', max=88.0, style=ProgressStyle(description_wid…"
      ]
     },
     "metadata": {},
     "output_type": "display_data"
    },
    {
     "name": "stdout",
     "output_type": "stream",
     "text": [
      "\n",
      "e_18 *\n"
     ]
    },
    {
     "data": {
      "application/vnd.jupyter.widget-view+json": {
       "model_id": "d3ddf0ecca7546d194b01870955c8f09",
       "version_major": 2,
       "version_minor": 0
      },
      "text/plain": [
       "HBox(children=(FloatProgress(value=0.0, description='Iteration', max=88.0, style=ProgressStyle(description_wid…"
      ]
     },
     "metadata": {},
     "output_type": "display_data"
    },
    {
     "name": "stdout",
     "output_type": "stream",
     "text": [
      "\n",
      "e_19 *\n",
      "Epoch    18: reducing learning rate of group 0 to 3.1250e-05.\n",
      "Epoch    18: reducing learning rate of group 1 to 3.1250e-05.\n"
     ]
    },
    {
     "data": {
      "application/vnd.jupyter.widget-view+json": {
       "model_id": "7e6dfd7700174ce1999ac69131818f33",
       "version_major": 2,
       "version_minor": 0
      },
      "text/plain": [
       "HBox(children=(FloatProgress(value=0.0, description='Iteration', max=88.0, style=ProgressStyle(description_wid…"
      ]
     },
     "metadata": {},
     "output_type": "display_data"
    },
    {
     "name": "stdout",
     "output_type": "stream",
     "text": [
      "\n",
      "e_20 *\n",
      "saved checkpoint in ../models/abs_models/Bst_abs_1st_0_07.ckp\n",
      "training end, used 87.83 s\n",
      "config ----------------\n",
      "{'EB_dp': 0.3,\n",
      " 'FC_dp': 0.1,\n",
      " 'adam_epsilon': 1e-08,\n",
      " 'batch_size': 32,\n",
      " 'cnn_out_c': 100,\n",
      " 'device': device(type='cuda'),\n",
      " 'epochs': 20,\n",
      " 'l2_weight_decay': 0.0001,\n",
      " 'learning_rate': 0.001,\n",
      " 'lr_cooldown': 2,\n",
      " 'lr_reduce_factor': 0.5,\n",
      " 'max_grad_norm': 5.0,\n",
      " 'max_token_n': 54,\n",
      " 'not_x_feature': False,\n",
      " 'num_embedding': 64,\n",
      " 'num_words': 82949,\n",
      " 'patience_epoch': 3,\n",
      " 'rnn_layers': 2,\n",
      " 'rnn_num_directions': 2,\n",
      " 'rnn_out_f_n': 68,\n",
      " 'threshold': 0.5,\n",
      " 'use_new_loss': False,\n",
      " 'warmup_epoch': 0,\n",
      " 'weight_decay': 0.0001,\n",
      " 'window_sizes': [2, 3, 4, 5]}\n",
      "       ----------------\n",
      "init model\n",
      "training begin\n"
     ]
    },
    {
     "data": {
      "application/vnd.jupyter.widget-view+json": {
       "model_id": "8b5bff1201014e318a9168611e72f8f1",
       "version_major": 2,
       "version_minor": 0
      },
      "text/plain": [
       "HBox(children=(FloatProgress(value=0.0, description='Iteration', max=88.0, style=ProgressStyle(description_wid…"
      ]
     },
     "metadata": {},
     "output_type": "display_data"
    },
    {
     "name": "stdout",
     "output_type": "stream",
     "text": [
      "\n",
      "e_1 *\n"
     ]
    },
    {
     "data": {
      "application/vnd.jupyter.widget-view+json": {
       "model_id": "690134260bfc463a84888518503f55cd",
       "version_major": 2,
       "version_minor": 0
      },
      "text/plain": [
       "HBox(children=(FloatProgress(value=0.0, description='Iteration', max=88.0, style=ProgressStyle(description_wid…"
      ]
     },
     "metadata": {},
     "output_type": "display_data"
    },
    {
     "name": "stdout",
     "output_type": "stream",
     "text": [
      "\n",
      "e_2 *\n"
     ]
    },
    {
     "data": {
      "application/vnd.jupyter.widget-view+json": {
       "model_id": "d2031b84c5b84a94b31ca18507029aac",
       "version_major": 2,
       "version_minor": 0
      },
      "text/plain": [
       "HBox(children=(FloatProgress(value=0.0, description='Iteration', max=88.0, style=ProgressStyle(description_wid…"
      ]
     },
     "metadata": {},
     "output_type": "display_data"
    },
    {
     "name": "stdout",
     "output_type": "stream",
     "text": [
      "\n",
      "e_3 *\n",
      "Epoch     2: reducing learning rate of group 0 to 5.0000e-04.\n",
      "Epoch     2: reducing learning rate of group 1 to 5.0000e-04.\n"
     ]
    },
    {
     "data": {
      "application/vnd.jupyter.widget-view+json": {
       "model_id": "3734c19b95ba4ab09f7595d97969826c",
       "version_major": 2,
       "version_minor": 0
      },
      "text/plain": [
       "HBox(children=(FloatProgress(value=0.0, description='Iteration', max=88.0, style=ProgressStyle(description_wid…"
      ]
     },
     "metadata": {},
     "output_type": "display_data"
    },
    {
     "name": "stdout",
     "output_type": "stream",
     "text": [
      "\n",
      "e_4 *\n"
     ]
    },
    {
     "data": {
      "application/vnd.jupyter.widget-view+json": {
       "model_id": "145b758c2115459e9e12f5b5a04a1a61",
       "version_major": 2,
       "version_minor": 0
      },
      "text/plain": [
       "HBox(children=(FloatProgress(value=0.0, description='Iteration', max=88.0, style=ProgressStyle(description_wid…"
      ]
     },
     "metadata": {},
     "output_type": "display_data"
    },
    {
     "name": "stdout",
     "output_type": "stream",
     "text": [
      "\n",
      "e_5 *\n"
     ]
    },
    {
     "data": {
      "application/vnd.jupyter.widget-view+json": {
       "model_id": "09c45151c9e94b999f59d19caaa8a0c9",
       "version_major": 2,
       "version_minor": 0
      },
      "text/plain": [
       "HBox(children=(FloatProgress(value=0.0, description='Iteration', max=88.0, style=ProgressStyle(description_wid…"
      ]
     },
     "metadata": {},
     "output_type": "display_data"
    },
    {
     "name": "stdout",
     "output_type": "stream",
     "text": [
      "\n",
      "e_6 *\n"
     ]
    },
    {
     "data": {
      "application/vnd.jupyter.widget-view+json": {
       "model_id": "fd0f9a959a474092bb75d405f383e581",
       "version_major": 2,
       "version_minor": 0
      },
      "text/plain": [
       "HBox(children=(FloatProgress(value=0.0, description='Iteration', max=88.0, style=ProgressStyle(description_wid…"
      ]
     },
     "metadata": {},
     "output_type": "display_data"
    },
    {
     "name": "stdout",
     "output_type": "stream",
     "text": [
      "\n",
      "e_7 *\n",
      "Epoch     6: reducing learning rate of group 0 to 2.5000e-04.\n",
      "Epoch     6: reducing learning rate of group 1 to 2.5000e-04.\n"
     ]
    },
    {
     "data": {
      "application/vnd.jupyter.widget-view+json": {
       "model_id": "a123d809d9bc4fea98c5d85f973b0230",
       "version_major": 2,
       "version_minor": 0
      },
      "text/plain": [
       "HBox(children=(FloatProgress(value=0.0, description='Iteration', max=88.0, style=ProgressStyle(description_wid…"
      ]
     },
     "metadata": {},
     "output_type": "display_data"
    },
    {
     "name": "stdout",
     "output_type": "stream",
     "text": [
      "\n",
      "e_8 *\n"
     ]
    },
    {
     "data": {
      "application/vnd.jupyter.widget-view+json": {
       "model_id": "e3be89e11a374dbeb02096a5d0c24c15",
       "version_major": 2,
       "version_minor": 0
      },
      "text/plain": [
       "HBox(children=(FloatProgress(value=0.0, description='Iteration', max=88.0, style=ProgressStyle(description_wid…"
      ]
     },
     "metadata": {},
     "output_type": "display_data"
    },
    {
     "name": "stdout",
     "output_type": "stream",
     "text": [
      "\n",
      "e_9 *\n"
     ]
    },
    {
     "data": {
      "application/vnd.jupyter.widget-view+json": {
       "model_id": "201442d9cc1e4fa8b9e4acad17c53ec1",
       "version_major": 2,
       "version_minor": 0
      },
      "text/plain": [
       "HBox(children=(FloatProgress(value=0.0, description='Iteration', max=88.0, style=ProgressStyle(description_wid…"
      ]
     },
     "metadata": {},
     "output_type": "display_data"
    },
    {
     "name": "stdout",
     "output_type": "stream",
     "text": [
      "\n",
      "e_10 *\n"
     ]
    },
    {
     "data": {
      "application/vnd.jupyter.widget-view+json": {
       "model_id": "a44dfabf75274408af8684a5ebecea20",
       "version_major": 2,
       "version_minor": 0
      },
      "text/plain": [
       "HBox(children=(FloatProgress(value=0.0, description='Iteration', max=88.0, style=ProgressStyle(description_wid…"
      ]
     },
     "metadata": {},
     "output_type": "display_data"
    },
    {
     "name": "stdout",
     "output_type": "stream",
     "text": [
      "\n",
      "e_11 *\n",
      "Epoch    10: reducing learning rate of group 0 to 1.2500e-04.\n",
      "Epoch    10: reducing learning rate of group 1 to 1.2500e-04.\n"
     ]
    },
    {
     "data": {
      "application/vnd.jupyter.widget-view+json": {
       "model_id": "61c8da90458845539fad350ec7346232",
       "version_major": 2,
       "version_minor": 0
      },
      "text/plain": [
       "HBox(children=(FloatProgress(value=0.0, description='Iteration', max=88.0, style=ProgressStyle(description_wid…"
      ]
     },
     "metadata": {},
     "output_type": "display_data"
    },
    {
     "name": "stdout",
     "output_type": "stream",
     "text": [
      "\n",
      "e_12 *\n"
     ]
    },
    {
     "data": {
      "application/vnd.jupyter.widget-view+json": {
       "model_id": "29e5a42559f248dc8141d022c8d3c53c",
       "version_major": 2,
       "version_minor": 0
      },
      "text/plain": [
       "HBox(children=(FloatProgress(value=0.0, description='Iteration', max=88.0, style=ProgressStyle(description_wid…"
      ]
     },
     "metadata": {},
     "output_type": "display_data"
    },
    {
     "name": "stdout",
     "output_type": "stream",
     "text": [
      "\n",
      "e_13 *\n"
     ]
    },
    {
     "data": {
      "application/vnd.jupyter.widget-view+json": {
       "model_id": "2f566b3a916641698ccd28c49162a0d1",
       "version_major": 2,
       "version_minor": 0
      },
      "text/plain": [
       "HBox(children=(FloatProgress(value=0.0, description='Iteration', max=88.0, style=ProgressStyle(description_wid…"
      ]
     },
     "metadata": {},
     "output_type": "display_data"
    },
    {
     "name": "stdout",
     "output_type": "stream",
     "text": [
      "\n",
      "e_14 *\n"
     ]
    },
    {
     "data": {
      "application/vnd.jupyter.widget-view+json": {
       "model_id": "b37cbf5428324a95b11bdcbe4ac9ac1f",
       "version_major": 2,
       "version_minor": 0
      },
      "text/plain": [
       "HBox(children=(FloatProgress(value=0.0, description='Iteration', max=88.0, style=ProgressStyle(description_wid…"
      ]
     },
     "metadata": {},
     "output_type": "display_data"
    },
    {
     "name": "stdout",
     "output_type": "stream",
     "text": [
      "\n",
      "e_15 *\n",
      "Epoch    14: reducing learning rate of group 0 to 6.2500e-05.\n",
      "Epoch    14: reducing learning rate of group 1 to 6.2500e-05.\n"
     ]
    },
    {
     "data": {
      "application/vnd.jupyter.widget-view+json": {
       "model_id": "3d31047f73b54e9badf17bbe358db1fa",
       "version_major": 2,
       "version_minor": 0
      },
      "text/plain": [
       "HBox(children=(FloatProgress(value=0.0, description='Iteration', max=88.0, style=ProgressStyle(description_wid…"
      ]
     },
     "metadata": {},
     "output_type": "display_data"
    },
    {
     "name": "stdout",
     "output_type": "stream",
     "text": [
      "\n",
      "e_16 *\n"
     ]
    },
    {
     "data": {
      "application/vnd.jupyter.widget-view+json": {
       "model_id": "b05d12671eea401686fe2e1a86aac76d",
       "version_major": 2,
       "version_minor": 0
      },
      "text/plain": [
       "HBox(children=(FloatProgress(value=0.0, description='Iteration', max=88.0, style=ProgressStyle(description_wid…"
      ]
     },
     "metadata": {},
     "output_type": "display_data"
    },
    {
     "name": "stdout",
     "output_type": "stream",
     "text": [
      "\n",
      "e_17 *\n"
     ]
    },
    {
     "data": {
      "application/vnd.jupyter.widget-view+json": {
       "model_id": "03243139d04c4c42a78115b45a70ac57",
       "version_major": 2,
       "version_minor": 0
      },
      "text/plain": [
       "HBox(children=(FloatProgress(value=0.0, description='Iteration', max=88.0, style=ProgressStyle(description_wid…"
      ]
     },
     "metadata": {},
     "output_type": "display_data"
    },
    {
     "name": "stdout",
     "output_type": "stream",
     "text": [
      "\n",
      "e_18 *\n"
     ]
    },
    {
     "data": {
      "application/vnd.jupyter.widget-view+json": {
       "model_id": "6b9c3263b3914b58b630ea0f083546a0",
       "version_major": 2,
       "version_minor": 0
      },
      "text/plain": [
       "HBox(children=(FloatProgress(value=0.0, description='Iteration', max=88.0, style=ProgressStyle(description_wid…"
      ]
     },
     "metadata": {},
     "output_type": "display_data"
    },
    {
     "name": "stdout",
     "output_type": "stream",
     "text": [
      "\n",
      "e_19 *\n",
      "Epoch    18: reducing learning rate of group 0 to 3.1250e-05.\n",
      "Epoch    18: reducing learning rate of group 1 to 3.1250e-05.\n"
     ]
    },
    {
     "data": {
      "application/vnd.jupyter.widget-view+json": {
       "model_id": "3211254723c6488397eb827364f23459",
       "version_major": 2,
       "version_minor": 0
      },
      "text/plain": [
       "HBox(children=(FloatProgress(value=0.0, description='Iteration', max=88.0, style=ProgressStyle(description_wid…"
      ]
     },
     "metadata": {},
     "output_type": "display_data"
    },
    {
     "name": "stdout",
     "output_type": "stream",
     "text": [
      "\n",
      "e_20 *\n",
      "saved checkpoint in ../models/abs_models/Bst_abs_1st_0_08.ckp\n",
      "training end, used 88.22 s\n",
      "config ----------------\n",
      "{'EB_dp': 0.3,\n",
      " 'FC_dp': 0.1,\n",
      " 'adam_epsilon': 1e-08,\n",
      " 'batch_size': 32,\n",
      " 'cnn_out_c': 100,\n",
      " 'device': device(type='cuda'),\n",
      " 'epochs': 20,\n",
      " 'l2_weight_decay': 0.0001,\n",
      " 'learning_rate': 0.001,\n",
      " 'lr_cooldown': 2,\n",
      " 'lr_reduce_factor': 0.5,\n",
      " 'max_grad_norm': 5.0,\n",
      " 'max_token_n': 54,\n",
      " 'not_x_feature': False,\n",
      " 'num_embedding': 64,\n",
      " 'num_words': 82949,\n",
      " 'patience_epoch': 3,\n",
      " 'rnn_layers': 2,\n",
      " 'rnn_num_directions': 2,\n",
      " 'rnn_out_f_n': 68,\n",
      " 'threshold': 0.5,\n",
      " 'use_new_loss': False,\n",
      " 'warmup_epoch': 0,\n",
      " 'weight_decay': 0.0001,\n",
      " 'window_sizes': [2, 3, 4, 5]}\n",
      "       ----------------\n",
      "init model\n",
      "training begin\n"
     ]
    },
    {
     "data": {
      "application/vnd.jupyter.widget-view+json": {
       "model_id": "f7cbbbe0a0414f088d6b3771a3c7a904",
       "version_major": 2,
       "version_minor": 0
      },
      "text/plain": [
       "HBox(children=(FloatProgress(value=0.0, description='Iteration', max=88.0, style=ProgressStyle(description_wid…"
      ]
     },
     "metadata": {},
     "output_type": "display_data"
    },
    {
     "name": "stdout",
     "output_type": "stream",
     "text": [
      "\n",
      "e_1 *\n"
     ]
    },
    {
     "data": {
      "application/vnd.jupyter.widget-view+json": {
       "model_id": "d184198e35d046299a4b25ebc65b0502",
       "version_major": 2,
       "version_minor": 0
      },
      "text/plain": [
       "HBox(children=(FloatProgress(value=0.0, description='Iteration', max=88.0, style=ProgressStyle(description_wid…"
      ]
     },
     "metadata": {},
     "output_type": "display_data"
    },
    {
     "name": "stdout",
     "output_type": "stream",
     "text": [
      "\n",
      "e_2 *\n"
     ]
    },
    {
     "data": {
      "application/vnd.jupyter.widget-view+json": {
       "model_id": "ae8fe0bfcc784759895660286f4500f6",
       "version_major": 2,
       "version_minor": 0
      },
      "text/plain": [
       "HBox(children=(FloatProgress(value=0.0, description='Iteration', max=88.0, style=ProgressStyle(description_wid…"
      ]
     },
     "metadata": {},
     "output_type": "display_data"
    },
    {
     "name": "stdout",
     "output_type": "stream",
     "text": [
      "\n",
      "e_3 *\n",
      "Epoch     2: reducing learning rate of group 0 to 5.0000e-04.\n",
      "Epoch     2: reducing learning rate of group 1 to 5.0000e-04.\n"
     ]
    },
    {
     "data": {
      "application/vnd.jupyter.widget-view+json": {
       "model_id": "7f8bba8740ba471b85b83d7aaba15045",
       "version_major": 2,
       "version_minor": 0
      },
      "text/plain": [
       "HBox(children=(FloatProgress(value=0.0, description='Iteration', max=88.0, style=ProgressStyle(description_wid…"
      ]
     },
     "metadata": {},
     "output_type": "display_data"
    },
    {
     "name": "stdout",
     "output_type": "stream",
     "text": [
      "\n",
      "e_4 *\n"
     ]
    },
    {
     "data": {
      "application/vnd.jupyter.widget-view+json": {
       "model_id": "e5f27e3e34f440ddba81ecd0c1b30cb5",
       "version_major": 2,
       "version_minor": 0
      },
      "text/plain": [
       "HBox(children=(FloatProgress(value=0.0, description='Iteration', max=88.0, style=ProgressStyle(description_wid…"
      ]
     },
     "metadata": {},
     "output_type": "display_data"
    },
    {
     "name": "stdout",
     "output_type": "stream",
     "text": [
      "\n",
      "e_5 *\n"
     ]
    },
    {
     "data": {
      "application/vnd.jupyter.widget-view+json": {
       "model_id": "59df2bee6be4435fb58e236127657e17",
       "version_major": 2,
       "version_minor": 0
      },
      "text/plain": [
       "HBox(children=(FloatProgress(value=0.0, description='Iteration', max=88.0, style=ProgressStyle(description_wid…"
      ]
     },
     "metadata": {},
     "output_type": "display_data"
    },
    {
     "name": "stdout",
     "output_type": "stream",
     "text": [
      "\n",
      "e_6 *\n"
     ]
    },
    {
     "data": {
      "application/vnd.jupyter.widget-view+json": {
       "model_id": "e35fb7fe2d5248d9b9bc27de06ed6c90",
       "version_major": 2,
       "version_minor": 0
      },
      "text/plain": [
       "HBox(children=(FloatProgress(value=0.0, description='Iteration', max=88.0, style=ProgressStyle(description_wid…"
      ]
     },
     "metadata": {},
     "output_type": "display_data"
    },
    {
     "name": "stdout",
     "output_type": "stream",
     "text": [
      "\n",
      "e_7 *\n",
      "Epoch     6: reducing learning rate of group 0 to 2.5000e-04.\n",
      "Epoch     6: reducing learning rate of group 1 to 2.5000e-04.\n"
     ]
    },
    {
     "data": {
      "application/vnd.jupyter.widget-view+json": {
       "model_id": "9512ac012469470284305796052152df",
       "version_major": 2,
       "version_minor": 0
      },
      "text/plain": [
       "HBox(children=(FloatProgress(value=0.0, description='Iteration', max=88.0, style=ProgressStyle(description_wid…"
      ]
     },
     "metadata": {},
     "output_type": "display_data"
    },
    {
     "name": "stdout",
     "output_type": "stream",
     "text": [
      "\n",
      "e_8 *\n"
     ]
    },
    {
     "data": {
      "application/vnd.jupyter.widget-view+json": {
       "model_id": "6c17ce72e14049ad931244b4ccc365f2",
       "version_major": 2,
       "version_minor": 0
      },
      "text/plain": [
       "HBox(children=(FloatProgress(value=0.0, description='Iteration', max=88.0, style=ProgressStyle(description_wid…"
      ]
     },
     "metadata": {},
     "output_type": "display_data"
    },
    {
     "name": "stdout",
     "output_type": "stream",
     "text": [
      "\n",
      "e_9 *\n"
     ]
    },
    {
     "data": {
      "application/vnd.jupyter.widget-view+json": {
       "model_id": "2cb2713c526f49b8929418ef388ec3cd",
       "version_major": 2,
       "version_minor": 0
      },
      "text/plain": [
       "HBox(children=(FloatProgress(value=0.0, description='Iteration', max=88.0, style=ProgressStyle(description_wid…"
      ]
     },
     "metadata": {},
     "output_type": "display_data"
    },
    {
     "name": "stdout",
     "output_type": "stream",
     "text": [
      "\n",
      "e_10 *\n"
     ]
    },
    {
     "data": {
      "application/vnd.jupyter.widget-view+json": {
       "model_id": "1243ca98e870482f963b965a2ee729ed",
       "version_major": 2,
       "version_minor": 0
      },
      "text/plain": [
       "HBox(children=(FloatProgress(value=0.0, description='Iteration', max=88.0, style=ProgressStyle(description_wid…"
      ]
     },
     "metadata": {},
     "output_type": "display_data"
    },
    {
     "name": "stdout",
     "output_type": "stream",
     "text": [
      "\n",
      "e_11 *\n",
      "Epoch    10: reducing learning rate of group 0 to 1.2500e-04.\n",
      "Epoch    10: reducing learning rate of group 1 to 1.2500e-04.\n"
     ]
    },
    {
     "data": {
      "application/vnd.jupyter.widget-view+json": {
       "model_id": "53f66215203a4bfd9ea984ef834dbbf0",
       "version_major": 2,
       "version_minor": 0
      },
      "text/plain": [
       "HBox(children=(FloatProgress(value=0.0, description='Iteration', max=88.0, style=ProgressStyle(description_wid…"
      ]
     },
     "metadata": {},
     "output_type": "display_data"
    },
    {
     "name": "stdout",
     "output_type": "stream",
     "text": [
      "\n",
      "e_12 *\n"
     ]
    },
    {
     "data": {
      "application/vnd.jupyter.widget-view+json": {
       "model_id": "184d7417fe5e4d73b9345c4ba7e16383",
       "version_major": 2,
       "version_minor": 0
      },
      "text/plain": [
       "HBox(children=(FloatProgress(value=0.0, description='Iteration', max=88.0, style=ProgressStyle(description_wid…"
      ]
     },
     "metadata": {},
     "output_type": "display_data"
    },
    {
     "name": "stdout",
     "output_type": "stream",
     "text": [
      "\n",
      "e_13 *\n"
     ]
    },
    {
     "data": {
      "application/vnd.jupyter.widget-view+json": {
       "model_id": "64fd88850cb646e0b553e367536c7b4a",
       "version_major": 2,
       "version_minor": 0
      },
      "text/plain": [
       "HBox(children=(FloatProgress(value=0.0, description='Iteration', max=88.0, style=ProgressStyle(description_wid…"
      ]
     },
     "metadata": {},
     "output_type": "display_data"
    },
    {
     "name": "stdout",
     "output_type": "stream",
     "text": [
      "\n",
      "e_14 *\n"
     ]
    },
    {
     "data": {
      "application/vnd.jupyter.widget-view+json": {
       "model_id": "2ad71155fb2e45888a0bcc79fb7a8353",
       "version_major": 2,
       "version_minor": 0
      },
      "text/plain": [
       "HBox(children=(FloatProgress(value=0.0, description='Iteration', max=88.0, style=ProgressStyle(description_wid…"
      ]
     },
     "metadata": {},
     "output_type": "display_data"
    },
    {
     "name": "stdout",
     "output_type": "stream",
     "text": [
      "\n",
      "e_15 *\n",
      "Epoch    14: reducing learning rate of group 0 to 6.2500e-05.\n",
      "Epoch    14: reducing learning rate of group 1 to 6.2500e-05.\n"
     ]
    },
    {
     "data": {
      "application/vnd.jupyter.widget-view+json": {
       "model_id": "2eb4c5b27c3346b5a08331edbfbb8087",
       "version_major": 2,
       "version_minor": 0
      },
      "text/plain": [
       "HBox(children=(FloatProgress(value=0.0, description='Iteration', max=88.0, style=ProgressStyle(description_wid…"
      ]
     },
     "metadata": {},
     "output_type": "display_data"
    },
    {
     "name": "stdout",
     "output_type": "stream",
     "text": [
      "\n",
      "e_16 *\n"
     ]
    },
    {
     "data": {
      "application/vnd.jupyter.widget-view+json": {
       "model_id": "7a5110c1619f47e5aac8eeb31b6bedad",
       "version_major": 2,
       "version_minor": 0
      },
      "text/plain": [
       "HBox(children=(FloatProgress(value=0.0, description='Iteration', max=88.0, style=ProgressStyle(description_wid…"
      ]
     },
     "metadata": {},
     "output_type": "display_data"
    },
    {
     "name": "stdout",
     "output_type": "stream",
     "text": [
      "\n",
      "e_17 *\n"
     ]
    },
    {
     "data": {
      "application/vnd.jupyter.widget-view+json": {
       "model_id": "336f1c80857e460899de7501bd775372",
       "version_major": 2,
       "version_minor": 0
      },
      "text/plain": [
       "HBox(children=(FloatProgress(value=0.0, description='Iteration', max=88.0, style=ProgressStyle(description_wid…"
      ]
     },
     "metadata": {},
     "output_type": "display_data"
    },
    {
     "name": "stdout",
     "output_type": "stream",
     "text": [
      "\n",
      "e_18 *\n"
     ]
    },
    {
     "data": {
      "application/vnd.jupyter.widget-view+json": {
       "model_id": "41951e27140f43c5b9826f444e74806a",
       "version_major": 2,
       "version_minor": 0
      },
      "text/plain": [
       "HBox(children=(FloatProgress(value=0.0, description='Iteration', max=88.0, style=ProgressStyle(description_wid…"
      ]
     },
     "metadata": {},
     "output_type": "display_data"
    },
    {
     "name": "stdout",
     "output_type": "stream",
     "text": [
      "\n",
      "e_19 *\n",
      "Epoch    18: reducing learning rate of group 0 to 3.1250e-05.\n",
      "Epoch    18: reducing learning rate of group 1 to 3.1250e-05.\n"
     ]
    },
    {
     "data": {
      "application/vnd.jupyter.widget-view+json": {
       "model_id": "0b809e40ee924abfb7ad6b3e887c9af0",
       "version_major": 2,
       "version_minor": 0
      },
      "text/plain": [
       "HBox(children=(FloatProgress(value=0.0, description='Iteration', max=88.0, style=ProgressStyle(description_wid…"
      ]
     },
     "metadata": {},
     "output_type": "display_data"
    },
    {
     "name": "stdout",
     "output_type": "stream",
     "text": [
      "\n",
      "e_20 *\n",
      "saved checkpoint in ../models/abs_models/Bst_abs_1st_0_09.ckp\n",
      "training end, used 87.27 s\n",
      "config ----------------\n",
      "{'EB_dp': 0.3,\n",
      " 'FC_dp': 0.1,\n",
      " 'adam_epsilon': 1e-08,\n",
      " 'batch_size': 32,\n",
      " 'cnn_out_c': 100,\n",
      " 'device': device(type='cuda'),\n",
      " 'epochs': 20,\n",
      " 'l2_weight_decay': 0.0001,\n",
      " 'learning_rate': 0.001,\n",
      " 'lr_cooldown': 2,\n",
      " 'lr_reduce_factor': 0.5,\n",
      " 'max_grad_norm': 5.0,\n",
      " 'max_token_n': 54,\n",
      " 'not_x_feature': False,\n",
      " 'num_embedding': 64,\n",
      " 'num_words': 82949,\n",
      " 'patience_epoch': 3,\n",
      " 'rnn_layers': 2,\n",
      " 'rnn_num_directions': 2,\n",
      " 'rnn_out_f_n': 68,\n",
      " 'threshold': 0.5,\n",
      " 'use_new_loss': False,\n",
      " 'warmup_epoch': 0,\n",
      " 'weight_decay': 0.0001,\n",
      " 'window_sizes': [2, 3, 4, 5]}\n",
      "       ----------------\n",
      "init model\n",
      "training begin\n"
     ]
    },
    {
     "data": {
      "application/vnd.jupyter.widget-view+json": {
       "model_id": "23eec2fd979e41909eb6af0ca693d444",
       "version_major": 2,
       "version_minor": 0
      },
      "text/plain": [
       "HBox(children=(FloatProgress(value=0.0, description='Iteration', max=88.0, style=ProgressStyle(description_wid…"
      ]
     },
     "metadata": {},
     "output_type": "display_data"
    },
    {
     "name": "stdout",
     "output_type": "stream",
     "text": [
      "\n",
      "e_1 *\n"
     ]
    },
    {
     "data": {
      "application/vnd.jupyter.widget-view+json": {
       "model_id": "48398201e4eb454898062be981dbab3c",
       "version_major": 2,
       "version_minor": 0
      },
      "text/plain": [
       "HBox(children=(FloatProgress(value=0.0, description='Iteration', max=88.0, style=ProgressStyle(description_wid…"
      ]
     },
     "metadata": {},
     "output_type": "display_data"
    },
    {
     "name": "stdout",
     "output_type": "stream",
     "text": [
      "\n",
      "e_2 *\n"
     ]
    },
    {
     "data": {
      "application/vnd.jupyter.widget-view+json": {
       "model_id": "27b57d1289244fee884bca069b7b7148",
       "version_major": 2,
       "version_minor": 0
      },
      "text/plain": [
       "HBox(children=(FloatProgress(value=0.0, description='Iteration', max=88.0, style=ProgressStyle(description_wid…"
      ]
     },
     "metadata": {},
     "output_type": "display_data"
    },
    {
     "name": "stdout",
     "output_type": "stream",
     "text": [
      "\n",
      "e_3 *\n",
      "Epoch     2: reducing learning rate of group 0 to 5.0000e-04.\n",
      "Epoch     2: reducing learning rate of group 1 to 5.0000e-04.\n"
     ]
    },
    {
     "data": {
      "application/vnd.jupyter.widget-view+json": {
       "model_id": "6927b0a8adb34fdab5941af2130676bf",
       "version_major": 2,
       "version_minor": 0
      },
      "text/plain": [
       "HBox(children=(FloatProgress(value=0.0, description='Iteration', max=88.0, style=ProgressStyle(description_wid…"
      ]
     },
     "metadata": {},
     "output_type": "display_data"
    },
    {
     "name": "stdout",
     "output_type": "stream",
     "text": [
      "\n",
      "e_4 *\n"
     ]
    },
    {
     "data": {
      "application/vnd.jupyter.widget-view+json": {
       "model_id": "d3bbc142edde4bd79ab76ce00eb2589b",
       "version_major": 2,
       "version_minor": 0
      },
      "text/plain": [
       "HBox(children=(FloatProgress(value=0.0, description='Iteration', max=88.0, style=ProgressStyle(description_wid…"
      ]
     },
     "metadata": {},
     "output_type": "display_data"
    },
    {
     "name": "stdout",
     "output_type": "stream",
     "text": [
      "\n",
      "e_5 *\n"
     ]
    },
    {
     "data": {
      "application/vnd.jupyter.widget-view+json": {
       "model_id": "01061009cdda4336bf4b603f50e010b4",
       "version_major": 2,
       "version_minor": 0
      },
      "text/plain": [
       "HBox(children=(FloatProgress(value=0.0, description='Iteration', max=88.0, style=ProgressStyle(description_wid…"
      ]
     },
     "metadata": {},
     "output_type": "display_data"
    },
    {
     "name": "stdout",
     "output_type": "stream",
     "text": [
      "\n",
      "e_6 *\n"
     ]
    },
    {
     "data": {
      "application/vnd.jupyter.widget-view+json": {
       "model_id": "1865a0fab2b84cf48e6be86cfcf073db",
       "version_major": 2,
       "version_minor": 0
      },
      "text/plain": [
       "HBox(children=(FloatProgress(value=0.0, description='Iteration', max=88.0, style=ProgressStyle(description_wid…"
      ]
     },
     "metadata": {},
     "output_type": "display_data"
    },
    {
     "name": "stdout",
     "output_type": "stream",
     "text": [
      "\n",
      "e_7 *\n",
      "Epoch     6: reducing learning rate of group 0 to 2.5000e-04.\n",
      "Epoch     6: reducing learning rate of group 1 to 2.5000e-04.\n"
     ]
    },
    {
     "data": {
      "application/vnd.jupyter.widget-view+json": {
       "model_id": "5ab51cd19c7b4dc298d8104e557b285c",
       "version_major": 2,
       "version_minor": 0
      },
      "text/plain": [
       "HBox(children=(FloatProgress(value=0.0, description='Iteration', max=88.0, style=ProgressStyle(description_wid…"
      ]
     },
     "metadata": {},
     "output_type": "display_data"
    },
    {
     "name": "stdout",
     "output_type": "stream",
     "text": [
      "\n",
      "e_8 *\n"
     ]
    },
    {
     "data": {
      "application/vnd.jupyter.widget-view+json": {
       "model_id": "148fea6de40d4d0a950f2f985d7ee8db",
       "version_major": 2,
       "version_minor": 0
      },
      "text/plain": [
       "HBox(children=(FloatProgress(value=0.0, description='Iteration', max=88.0, style=ProgressStyle(description_wid…"
      ]
     },
     "metadata": {},
     "output_type": "display_data"
    },
    {
     "name": "stdout",
     "output_type": "stream",
     "text": [
      "\n",
      "e_9 *\n"
     ]
    },
    {
     "data": {
      "application/vnd.jupyter.widget-view+json": {
       "model_id": "d4a862cb1c3a46c0a34adf5858840ae6",
       "version_major": 2,
       "version_minor": 0
      },
      "text/plain": [
       "HBox(children=(FloatProgress(value=0.0, description='Iteration', max=88.0, style=ProgressStyle(description_wid…"
      ]
     },
     "metadata": {},
     "output_type": "display_data"
    },
    {
     "name": "stdout",
     "output_type": "stream",
     "text": [
      "\n",
      "e_10 *\n"
     ]
    },
    {
     "data": {
      "application/vnd.jupyter.widget-view+json": {
       "model_id": "fc4dd288cc4643c28c04989258f96a76",
       "version_major": 2,
       "version_minor": 0
      },
      "text/plain": [
       "HBox(children=(FloatProgress(value=0.0, description='Iteration', max=88.0, style=ProgressStyle(description_wid…"
      ]
     },
     "metadata": {},
     "output_type": "display_data"
    },
    {
     "name": "stdout",
     "output_type": "stream",
     "text": [
      "\n",
      "e_11 *\n",
      "Epoch    10: reducing learning rate of group 0 to 1.2500e-04.\n",
      "Epoch    10: reducing learning rate of group 1 to 1.2500e-04.\n"
     ]
    },
    {
     "data": {
      "application/vnd.jupyter.widget-view+json": {
       "model_id": "9ceefcd3fd9f445a9918eed7c6e5a36d",
       "version_major": 2,
       "version_minor": 0
      },
      "text/plain": [
       "HBox(children=(FloatProgress(value=0.0, description='Iteration', max=88.0, style=ProgressStyle(description_wid…"
      ]
     },
     "metadata": {},
     "output_type": "display_data"
    },
    {
     "name": "stdout",
     "output_type": "stream",
     "text": [
      "\n",
      "e_12 *\n"
     ]
    },
    {
     "data": {
      "application/vnd.jupyter.widget-view+json": {
       "model_id": "d199d89bfe5645e4af0840c59daf2789",
       "version_major": 2,
       "version_minor": 0
      },
      "text/plain": [
       "HBox(children=(FloatProgress(value=0.0, description='Iteration', max=88.0, style=ProgressStyle(description_wid…"
      ]
     },
     "metadata": {},
     "output_type": "display_data"
    },
    {
     "name": "stdout",
     "output_type": "stream",
     "text": [
      "\n",
      "e_13 *\n"
     ]
    },
    {
     "data": {
      "application/vnd.jupyter.widget-view+json": {
       "model_id": "09f87623f4704b11a44a75178324e5e8",
       "version_major": 2,
       "version_minor": 0
      },
      "text/plain": [
       "HBox(children=(FloatProgress(value=0.0, description='Iteration', max=88.0, style=ProgressStyle(description_wid…"
      ]
     },
     "metadata": {},
     "output_type": "display_data"
    },
    {
     "name": "stdout",
     "output_type": "stream",
     "text": [
      "\n",
      "e_14 *\n"
     ]
    },
    {
     "data": {
      "application/vnd.jupyter.widget-view+json": {
       "model_id": "c3d28ef8219f4abcbfff62db2d0f0a55",
       "version_major": 2,
       "version_minor": 0
      },
      "text/plain": [
       "HBox(children=(FloatProgress(value=0.0, description='Iteration', max=88.0, style=ProgressStyle(description_wid…"
      ]
     },
     "metadata": {},
     "output_type": "display_data"
    },
    {
     "name": "stdout",
     "output_type": "stream",
     "text": [
      "\n",
      "e_15 *\n",
      "Epoch    14: reducing learning rate of group 0 to 6.2500e-05.\n",
      "Epoch    14: reducing learning rate of group 1 to 6.2500e-05.\n"
     ]
    },
    {
     "data": {
      "application/vnd.jupyter.widget-view+json": {
       "model_id": "549aa7d6f3e344c6947405be9ec9886e",
       "version_major": 2,
       "version_minor": 0
      },
      "text/plain": [
       "HBox(children=(FloatProgress(value=0.0, description='Iteration', max=88.0, style=ProgressStyle(description_wid…"
      ]
     },
     "metadata": {},
     "output_type": "display_data"
    },
    {
     "name": "stdout",
     "output_type": "stream",
     "text": [
      "\n",
      "e_16 *\n"
     ]
    },
    {
     "data": {
      "application/vnd.jupyter.widget-view+json": {
       "model_id": "5fd470e0694649b19deca0c014edc6bf",
       "version_major": 2,
       "version_minor": 0
      },
      "text/plain": [
       "HBox(children=(FloatProgress(value=0.0, description='Iteration', max=88.0, style=ProgressStyle(description_wid…"
      ]
     },
     "metadata": {},
     "output_type": "display_data"
    },
    {
     "name": "stdout",
     "output_type": "stream",
     "text": [
      "\n",
      "e_17 *\n"
     ]
    },
    {
     "data": {
      "application/vnd.jupyter.widget-view+json": {
       "model_id": "f6a556b4d63b4bc1a362fbd62dae344e",
       "version_major": 2,
       "version_minor": 0
      },
      "text/plain": [
       "HBox(children=(FloatProgress(value=0.0, description='Iteration', max=88.0, style=ProgressStyle(description_wid…"
      ]
     },
     "metadata": {},
     "output_type": "display_data"
    },
    {
     "name": "stdout",
     "output_type": "stream",
     "text": [
      "\n",
      "e_18 *\n"
     ]
    },
    {
     "data": {
      "application/vnd.jupyter.widget-view+json": {
       "model_id": "a3ffe0d69d094b43802fd47d52da44ac",
       "version_major": 2,
       "version_minor": 0
      },
      "text/plain": [
       "HBox(children=(FloatProgress(value=0.0, description='Iteration', max=88.0, style=ProgressStyle(description_wid…"
      ]
     },
     "metadata": {},
     "output_type": "display_data"
    },
    {
     "name": "stdout",
     "output_type": "stream",
     "text": [
      "\n",
      "e_19 *\n",
      "Epoch    18: reducing learning rate of group 0 to 3.1250e-05.\n",
      "Epoch    18: reducing learning rate of group 1 to 3.1250e-05.\n"
     ]
    },
    {
     "data": {
      "application/vnd.jupyter.widget-view+json": {
       "model_id": "035b07a11fdb475db12160a48674cbb9",
       "version_major": 2,
       "version_minor": 0
      },
      "text/plain": [
       "HBox(children=(FloatProgress(value=0.0, description='Iteration', max=88.0, style=ProgressStyle(description_wid…"
      ]
     },
     "metadata": {},
     "output_type": "display_data"
    },
    {
     "name": "stdout",
     "output_type": "stream",
     "text": [
      "\n",
      "e_20 *\n",
      "saved checkpoint in ../models/abs_models/Bst_abs_1st_0_10.ckp\n",
      "training end, used 87.17 s\n"
     ]
    }
   ],
   "source": [
    "for _model_idx in range(10):\n",
    "    args.num_embedding = 64\n",
    "    args.cnn_out_c = 100\n",
    "    args.rnn_out_f_n = 68\n",
    "\n",
    "    args.rnn_num_directions = 2\n",
    "    args.rnn_layers = 2\n",
    "    args.window_sizes = [2, 3, 4, 5]\n",
    "    args.EB_dp = 0.3\n",
    "    args.FC_dp = 0.1\n",
    "\n",
    "    args.use_new_loss = False\n",
    "    args.use_cls_loss = False\n",
    "\n",
    "\n",
    "    args.epochs = 20\n",
    "    args.warmup_epoch = 0\n",
    "    args.patience_epoch = 3\n",
    "\n",
    "    args.learning_rate = 1e-3\n",
    "    args.adam_epsilon = 1e-8\n",
    "    args.weight_decay = 1e-4\n",
    "    args.l2_weight_decay = 1e-4\n",
    "    args.max_grad_norm = 5.0\n",
    "    args.lr_reduce_factor = .5\n",
    "    args.threshold = .5\n",
    "    args.lr_cooldown = 2\n",
    "    args.use_loss_sh = False\n",
    "    args.is_iterare_info = False\n",
    "\n",
    "\n",
    "    args.modle_dir = '../models/abs_models/'\n",
    "    model_name_prefix = 'Bst_abs_1st_0_' + '%02d' % (_model_idx + 1)\n",
    "    args.checkpoint_f = os.path.join(args.modle_dir, model_name_prefix + \".ckp\")\n",
    "    args.config_save_f = os.path.join(args.modle_dir,  model_name_prefix + \".cf\")\n",
    "\n",
    "\n",
    "    config = set_model_config(args)\n",
    "    torch.save(config, args.config_save_f)\n",
    "\n",
    "    model = Base_Net(config).to(device)\n",
    "    model_init_w(model)\n",
    "    optimizer, scheduler = init_model_optimizer(model, args)\n",
    "\n",
    "    train_dt, dev_dt, test_dt = dataloader_ann_1, None, None\n",
    "\n",
    "    _ = train(model, optimizer, scheduler, train_dt, dev_dt, args, test_dt, True)"
   ]
  },
  {
   "cell_type": "code",
   "execution_count": 11,
   "metadata": {},
   "outputs": [
    {
     "name": "stdout",
     "output_type": "stream",
     "text": [
      "config ----------------\n",
      "{'EB_dp': 0.3,\n",
      " 'FC_dp': 0.1,\n",
      " 'adam_epsilon': 1e-08,\n",
      " 'batch_size': 32,\n",
      " 'cnn_out_c': 100,\n",
      " 'device': device(type='cuda'),\n",
      " 'epochs': 20,\n",
      " 'l2_weight_decay': 0.0001,\n",
      " 'learning_rate': 0.001,\n",
      " 'lr_cooldown': 2,\n",
      " 'lr_reduce_factor': 0.5,\n",
      " 'max_grad_norm': 5.0,\n",
      " 'max_token_n': 54,\n",
      " 'not_x_feature': False,\n",
      " 'num_embedding': 64,\n",
      " 'num_words': 82949,\n",
      " 'patience_epoch': 3,\n",
      " 'rnn_layers': 2,\n",
      " 'rnn_num_directions': 2,\n",
      " 'rnn_out_f_n': 68,\n",
      " 'threshold': 0.5,\n",
      " 'use_new_loss': False,\n",
      " 'warmup_epoch': 0,\n",
      " 'weight_decay': 0.0001,\n",
      " 'window_sizes': [2, 3, 4, 5]}\n",
      "       ----------------\n",
      "init model\n",
      "training begin\n"
     ]
    },
    {
     "data": {
      "application/vnd.jupyter.widget-view+json": {
       "model_id": "0662d24bc6db4701808e54baaa62be24",
       "version_major": 2,
       "version_minor": 0
      },
      "text/plain": [
       "HBox(children=(FloatProgress(value=0.0, description='Iteration', max=174.0, style=ProgressStyle(description_wi…"
      ]
     },
     "metadata": {},
     "output_type": "display_data"
    },
    {
     "name": "stdout",
     "output_type": "stream",
     "text": [
      "\n",
      "e_1 *\n"
     ]
    },
    {
     "data": {
      "application/vnd.jupyter.widget-view+json": {
       "model_id": "a3413c8e968c437a8be65f69f31da03a",
       "version_major": 2,
       "version_minor": 0
      },
      "text/plain": [
       "HBox(children=(FloatProgress(value=0.0, description='Iteration', max=174.0, style=ProgressStyle(description_wi…"
      ]
     },
     "metadata": {},
     "output_type": "display_data"
    },
    {
     "name": "stdout",
     "output_type": "stream",
     "text": [
      "\n",
      "e_2 *\n"
     ]
    },
    {
     "data": {
      "application/vnd.jupyter.widget-view+json": {
       "model_id": "3b6f60c7dbb44f1ea737378952b312e1",
       "version_major": 2,
       "version_minor": 0
      },
      "text/plain": [
       "HBox(children=(FloatProgress(value=0.0, description='Iteration', max=174.0, style=ProgressStyle(description_wi…"
      ]
     },
     "metadata": {},
     "output_type": "display_data"
    },
    {
     "name": "stdout",
     "output_type": "stream",
     "text": [
      "\n",
      "e_3 *\n",
      "Epoch     2: reducing learning rate of group 0 to 5.0000e-04.\n",
      "Epoch     2: reducing learning rate of group 1 to 5.0000e-04.\n"
     ]
    },
    {
     "data": {
      "application/vnd.jupyter.widget-view+json": {
       "model_id": "0a6edf2243574d0d81b7011fac5acfb6",
       "version_major": 2,
       "version_minor": 0
      },
      "text/plain": [
       "HBox(children=(FloatProgress(value=0.0, description='Iteration', max=174.0, style=ProgressStyle(description_wi…"
      ]
     },
     "metadata": {},
     "output_type": "display_data"
    },
    {
     "name": "stdout",
     "output_type": "stream",
     "text": [
      "\n",
      "e_4 *\n"
     ]
    },
    {
     "data": {
      "application/vnd.jupyter.widget-view+json": {
       "model_id": "1d4226eca26b4dac8a2d2670c2cad2c6",
       "version_major": 2,
       "version_minor": 0
      },
      "text/plain": [
       "HBox(children=(FloatProgress(value=0.0, description='Iteration', max=174.0, style=ProgressStyle(description_wi…"
      ]
     },
     "metadata": {},
     "output_type": "display_data"
    },
    {
     "name": "stdout",
     "output_type": "stream",
     "text": [
      "\n",
      "e_5 *\n"
     ]
    },
    {
     "data": {
      "application/vnd.jupyter.widget-view+json": {
       "model_id": "ac7e4552ac5c4b958e5c1e7db6dc92ca",
       "version_major": 2,
       "version_minor": 0
      },
      "text/plain": [
       "HBox(children=(FloatProgress(value=0.0, description='Iteration', max=174.0, style=ProgressStyle(description_wi…"
      ]
     },
     "metadata": {},
     "output_type": "display_data"
    },
    {
     "name": "stdout",
     "output_type": "stream",
     "text": [
      "\n",
      "e_6 *\n"
     ]
    },
    {
     "data": {
      "application/vnd.jupyter.widget-view+json": {
       "model_id": "1ff41419bf5e459daa7bc44c1d170497",
       "version_major": 2,
       "version_minor": 0
      },
      "text/plain": [
       "HBox(children=(FloatProgress(value=0.0, description='Iteration', max=174.0, style=ProgressStyle(description_wi…"
      ]
     },
     "metadata": {},
     "output_type": "display_data"
    },
    {
     "name": "stdout",
     "output_type": "stream",
     "text": [
      "\n",
      "e_7 *\n",
      "Epoch     6: reducing learning rate of group 0 to 2.5000e-04.\n",
      "Epoch     6: reducing learning rate of group 1 to 2.5000e-04.\n"
     ]
    },
    {
     "data": {
      "application/vnd.jupyter.widget-view+json": {
       "model_id": "24b3b25a718641ae8986a17bbaab418f",
       "version_major": 2,
       "version_minor": 0
      },
      "text/plain": [
       "HBox(children=(FloatProgress(value=0.0, description='Iteration', max=174.0, style=ProgressStyle(description_wi…"
      ]
     },
     "metadata": {},
     "output_type": "display_data"
    },
    {
     "name": "stdout",
     "output_type": "stream",
     "text": [
      "\n",
      "e_8 *\n"
     ]
    },
    {
     "data": {
      "application/vnd.jupyter.widget-view+json": {
       "model_id": "60951c8889ad42a28b7f28659142eacc",
       "version_major": 2,
       "version_minor": 0
      },
      "text/plain": [
       "HBox(children=(FloatProgress(value=0.0, description='Iteration', max=174.0, style=ProgressStyle(description_wi…"
      ]
     },
     "metadata": {},
     "output_type": "display_data"
    },
    {
     "name": "stdout",
     "output_type": "stream",
     "text": [
      "\n",
      "e_9 *\n"
     ]
    },
    {
     "data": {
      "application/vnd.jupyter.widget-view+json": {
       "model_id": "945706af544d4016beb372ae7c91e6d4",
       "version_major": 2,
       "version_minor": 0
      },
      "text/plain": [
       "HBox(children=(FloatProgress(value=0.0, description='Iteration', max=174.0, style=ProgressStyle(description_wi…"
      ]
     },
     "metadata": {},
     "output_type": "display_data"
    },
    {
     "name": "stdout",
     "output_type": "stream",
     "text": [
      "\n",
      "e_10 *\n"
     ]
    },
    {
     "data": {
      "application/vnd.jupyter.widget-view+json": {
       "model_id": "d61966c1d36f48f093c231b9c7b03aff",
       "version_major": 2,
       "version_minor": 0
      },
      "text/plain": [
       "HBox(children=(FloatProgress(value=0.0, description='Iteration', max=174.0, style=ProgressStyle(description_wi…"
      ]
     },
     "metadata": {},
     "output_type": "display_data"
    },
    {
     "name": "stdout",
     "output_type": "stream",
     "text": [
      "\n",
      "e_11 *\n",
      "Epoch    10: reducing learning rate of group 0 to 1.2500e-04.\n",
      "Epoch    10: reducing learning rate of group 1 to 1.2500e-04.\n"
     ]
    },
    {
     "data": {
      "application/vnd.jupyter.widget-view+json": {
       "model_id": "d82684af9534479db91f270301d13e22",
       "version_major": 2,
       "version_minor": 0
      },
      "text/plain": [
       "HBox(children=(FloatProgress(value=0.0, description='Iteration', max=174.0, style=ProgressStyle(description_wi…"
      ]
     },
     "metadata": {},
     "output_type": "display_data"
    },
    {
     "name": "stdout",
     "output_type": "stream",
     "text": [
      "\n",
      "e_12 *\n"
     ]
    },
    {
     "data": {
      "application/vnd.jupyter.widget-view+json": {
       "model_id": "0b834530961b4017a4e34a524f6a6b85",
       "version_major": 2,
       "version_minor": 0
      },
      "text/plain": [
       "HBox(children=(FloatProgress(value=0.0, description='Iteration', max=174.0, style=ProgressStyle(description_wi…"
      ]
     },
     "metadata": {},
     "output_type": "display_data"
    },
    {
     "name": "stdout",
     "output_type": "stream",
     "text": [
      "\n",
      "e_13 *\n"
     ]
    },
    {
     "data": {
      "application/vnd.jupyter.widget-view+json": {
       "model_id": "43227240fd15456a940263c2c219b672",
       "version_major": 2,
       "version_minor": 0
      },
      "text/plain": [
       "HBox(children=(FloatProgress(value=0.0, description='Iteration', max=174.0, style=ProgressStyle(description_wi…"
      ]
     },
     "metadata": {},
     "output_type": "display_data"
    },
    {
     "name": "stdout",
     "output_type": "stream",
     "text": [
      "\n",
      "e_14 *\n"
     ]
    },
    {
     "data": {
      "application/vnd.jupyter.widget-view+json": {
       "model_id": "b846321e8fe547f689f21cea1a39f37b",
       "version_major": 2,
       "version_minor": 0
      },
      "text/plain": [
       "HBox(children=(FloatProgress(value=0.0, description='Iteration', max=174.0, style=ProgressStyle(description_wi…"
      ]
     },
     "metadata": {},
     "output_type": "display_data"
    },
    {
     "name": "stdout",
     "output_type": "stream",
     "text": [
      "\n",
      "e_15 *\n",
      "Epoch    14: reducing learning rate of group 0 to 6.2500e-05.\n",
      "Epoch    14: reducing learning rate of group 1 to 6.2500e-05.\n"
     ]
    },
    {
     "data": {
      "application/vnd.jupyter.widget-view+json": {
       "model_id": "89a0753461e44416ac6cb3ee2a47c954",
       "version_major": 2,
       "version_minor": 0
      },
      "text/plain": [
       "HBox(children=(FloatProgress(value=0.0, description='Iteration', max=174.0, style=ProgressStyle(description_wi…"
      ]
     },
     "metadata": {},
     "output_type": "display_data"
    },
    {
     "name": "stdout",
     "output_type": "stream",
     "text": [
      "\n",
      "e_16 *\n"
     ]
    },
    {
     "data": {
      "application/vnd.jupyter.widget-view+json": {
       "model_id": "bfacce193dbd4ae28ffd7b505555c260",
       "version_major": 2,
       "version_minor": 0
      },
      "text/plain": [
       "HBox(children=(FloatProgress(value=0.0, description='Iteration', max=174.0, style=ProgressStyle(description_wi…"
      ]
     },
     "metadata": {},
     "output_type": "display_data"
    },
    {
     "name": "stdout",
     "output_type": "stream",
     "text": [
      "\n",
      "e_17 *\n"
     ]
    },
    {
     "data": {
      "application/vnd.jupyter.widget-view+json": {
       "model_id": "20eaca17e7974645b6c9b49e3f57a07f",
       "version_major": 2,
       "version_minor": 0
      },
      "text/plain": [
       "HBox(children=(FloatProgress(value=0.0, description='Iteration', max=174.0, style=ProgressStyle(description_wi…"
      ]
     },
     "metadata": {},
     "output_type": "display_data"
    },
    {
     "name": "stdout",
     "output_type": "stream",
     "text": [
      "\n",
      "e_18 *\n"
     ]
    },
    {
     "data": {
      "application/vnd.jupyter.widget-view+json": {
       "model_id": "6b48ef841277494d8e32dc801224fef3",
       "version_major": 2,
       "version_minor": 0
      },
      "text/plain": [
       "HBox(children=(FloatProgress(value=0.0, description='Iteration', max=174.0, style=ProgressStyle(description_wi…"
      ]
     },
     "metadata": {},
     "output_type": "display_data"
    },
    {
     "name": "stdout",
     "output_type": "stream",
     "text": [
      "\n",
      "e_19 *\n",
      "Epoch    18: reducing learning rate of group 0 to 3.1250e-05.\n",
      "Epoch    18: reducing learning rate of group 1 to 3.1250e-05.\n"
     ]
    },
    {
     "data": {
      "application/vnd.jupyter.widget-view+json": {
       "model_id": "2d1e88c1a29e4365812c1fd0e2992c68",
       "version_major": 2,
       "version_minor": 0
      },
      "text/plain": [
       "HBox(children=(FloatProgress(value=0.0, description='Iteration', max=174.0, style=ProgressStyle(description_wi…"
      ]
     },
     "metadata": {},
     "output_type": "display_data"
    },
    {
     "name": "stdout",
     "output_type": "stream",
     "text": [
      "\n",
      "e_20 *\n",
      "saved checkpoint in ../models/abs_models/Bst_abs_1st_01.ckp\n",
      "training end, used 177.30 s\n",
      "config ----------------\n",
      "{'EB_dp': 0.3,\n",
      " 'FC_dp': 0.1,\n",
      " 'adam_epsilon': 1e-08,\n",
      " 'batch_size': 32,\n",
      " 'cnn_out_c': 100,\n",
      " 'device': device(type='cuda'),\n",
      " 'epochs': 20,\n",
      " 'l2_weight_decay': 0.0001,\n",
      " 'learning_rate': 0.001,\n",
      " 'lr_cooldown': 2,\n",
      " 'lr_reduce_factor': 0.5,\n",
      " 'max_grad_norm': 5.0,\n",
      " 'max_token_n': 54,\n",
      " 'not_x_feature': False,\n",
      " 'num_embedding': 64,\n",
      " 'num_words': 82949,\n",
      " 'patience_epoch': 3,\n",
      " 'rnn_layers': 2,\n",
      " 'rnn_num_directions': 2,\n",
      " 'rnn_out_f_n': 68,\n",
      " 'threshold': 0.5,\n",
      " 'use_new_loss': False,\n",
      " 'warmup_epoch': 0,\n",
      " 'weight_decay': 0.0001,\n",
      " 'window_sizes': [2, 3, 4, 5]}\n",
      "       ----------------\n",
      "init model\n",
      "training begin\n"
     ]
    },
    {
     "data": {
      "application/vnd.jupyter.widget-view+json": {
       "model_id": "14a8c2a6718f4713b866ca612e320435",
       "version_major": 2,
       "version_minor": 0
      },
      "text/plain": [
       "HBox(children=(FloatProgress(value=0.0, description='Iteration', max=174.0, style=ProgressStyle(description_wi…"
      ]
     },
     "metadata": {},
     "output_type": "display_data"
    },
    {
     "name": "stdout",
     "output_type": "stream",
     "text": [
      "\n",
      "e_1 *\n"
     ]
    },
    {
     "data": {
      "application/vnd.jupyter.widget-view+json": {
       "model_id": "3b17a9dbfee94ba2adca1e4de041a498",
       "version_major": 2,
       "version_minor": 0
      },
      "text/plain": [
       "HBox(children=(FloatProgress(value=0.0, description='Iteration', max=174.0, style=ProgressStyle(description_wi…"
      ]
     },
     "metadata": {},
     "output_type": "display_data"
    },
    {
     "name": "stdout",
     "output_type": "stream",
     "text": [
      "\n",
      "e_2 *\n"
     ]
    },
    {
     "data": {
      "application/vnd.jupyter.widget-view+json": {
       "model_id": "75a9e4340ae64ae69670d109fd90901f",
       "version_major": 2,
       "version_minor": 0
      },
      "text/plain": [
       "HBox(children=(FloatProgress(value=0.0, description='Iteration', max=174.0, style=ProgressStyle(description_wi…"
      ]
     },
     "metadata": {},
     "output_type": "display_data"
    },
    {
     "name": "stdout",
     "output_type": "stream",
     "text": [
      "\n",
      "e_3 *\n",
      "Epoch     2: reducing learning rate of group 0 to 5.0000e-04.\n",
      "Epoch     2: reducing learning rate of group 1 to 5.0000e-04.\n"
     ]
    },
    {
     "data": {
      "application/vnd.jupyter.widget-view+json": {
       "model_id": "4d7fca8bc7ec4352a8b39756c590dea5",
       "version_major": 2,
       "version_minor": 0
      },
      "text/plain": [
       "HBox(children=(FloatProgress(value=0.0, description='Iteration', max=174.0, style=ProgressStyle(description_wi…"
      ]
     },
     "metadata": {},
     "output_type": "display_data"
    },
    {
     "name": "stdout",
     "output_type": "stream",
     "text": [
      "\n",
      "e_4 *\n"
     ]
    },
    {
     "data": {
      "application/vnd.jupyter.widget-view+json": {
       "model_id": "66496cc9d2f444119c3d01c483536008",
       "version_major": 2,
       "version_minor": 0
      },
      "text/plain": [
       "HBox(children=(FloatProgress(value=0.0, description='Iteration', max=174.0, style=ProgressStyle(description_wi…"
      ]
     },
     "metadata": {},
     "output_type": "display_data"
    },
    {
     "name": "stdout",
     "output_type": "stream",
     "text": [
      "\n",
      "e_5 *\n"
     ]
    },
    {
     "data": {
      "application/vnd.jupyter.widget-view+json": {
       "model_id": "2f73e98c0bfa458d9d8d08ffe30cdd4a",
       "version_major": 2,
       "version_minor": 0
      },
      "text/plain": [
       "HBox(children=(FloatProgress(value=0.0, description='Iteration', max=174.0, style=ProgressStyle(description_wi…"
      ]
     },
     "metadata": {},
     "output_type": "display_data"
    },
    {
     "name": "stdout",
     "output_type": "stream",
     "text": [
      "\n",
      "e_6 *\n"
     ]
    },
    {
     "data": {
      "application/vnd.jupyter.widget-view+json": {
       "model_id": "ea045c68877e45808716fbe81ac6ffe2",
       "version_major": 2,
       "version_minor": 0
      },
      "text/plain": [
       "HBox(children=(FloatProgress(value=0.0, description='Iteration', max=174.0, style=ProgressStyle(description_wi…"
      ]
     },
     "metadata": {},
     "output_type": "display_data"
    },
    {
     "name": "stdout",
     "output_type": "stream",
     "text": [
      "\n",
      "e_7 *\n",
      "Epoch     6: reducing learning rate of group 0 to 2.5000e-04.\n",
      "Epoch     6: reducing learning rate of group 1 to 2.5000e-04.\n"
     ]
    },
    {
     "data": {
      "application/vnd.jupyter.widget-view+json": {
       "model_id": "78ff8192b58143d29903fbbb4062cc44",
       "version_major": 2,
       "version_minor": 0
      },
      "text/plain": [
       "HBox(children=(FloatProgress(value=0.0, description='Iteration', max=174.0, style=ProgressStyle(description_wi…"
      ]
     },
     "metadata": {},
     "output_type": "display_data"
    },
    {
     "name": "stdout",
     "output_type": "stream",
     "text": [
      "\n",
      "e_8 *\n"
     ]
    },
    {
     "data": {
      "application/vnd.jupyter.widget-view+json": {
       "model_id": "93cef978e2614b33913d350f01b21964",
       "version_major": 2,
       "version_minor": 0
      },
      "text/plain": [
       "HBox(children=(FloatProgress(value=0.0, description='Iteration', max=174.0, style=ProgressStyle(description_wi…"
      ]
     },
     "metadata": {},
     "output_type": "display_data"
    },
    {
     "name": "stdout",
     "output_type": "stream",
     "text": [
      "\n",
      "e_9 *\n"
     ]
    },
    {
     "data": {
      "application/vnd.jupyter.widget-view+json": {
       "model_id": "5e4805543948423e92a3ea52eb72ec63",
       "version_major": 2,
       "version_minor": 0
      },
      "text/plain": [
       "HBox(children=(FloatProgress(value=0.0, description='Iteration', max=174.0, style=ProgressStyle(description_wi…"
      ]
     },
     "metadata": {},
     "output_type": "display_data"
    },
    {
     "name": "stdout",
     "output_type": "stream",
     "text": [
      "\n",
      "e_10 *\n"
     ]
    },
    {
     "data": {
      "application/vnd.jupyter.widget-view+json": {
       "model_id": "5747e80de9594e4a8cf3923c4da7424e",
       "version_major": 2,
       "version_minor": 0
      },
      "text/plain": [
       "HBox(children=(FloatProgress(value=0.0, description='Iteration', max=174.0, style=ProgressStyle(description_wi…"
      ]
     },
     "metadata": {},
     "output_type": "display_data"
    },
    {
     "name": "stdout",
     "output_type": "stream",
     "text": [
      "\n",
      "e_11 *\n",
      "Epoch    10: reducing learning rate of group 0 to 1.2500e-04.\n",
      "Epoch    10: reducing learning rate of group 1 to 1.2500e-04.\n"
     ]
    },
    {
     "data": {
      "application/vnd.jupyter.widget-view+json": {
       "model_id": "44bf7e0f353945edb92e33142a77656b",
       "version_major": 2,
       "version_minor": 0
      },
      "text/plain": [
       "HBox(children=(FloatProgress(value=0.0, description='Iteration', max=174.0, style=ProgressStyle(description_wi…"
      ]
     },
     "metadata": {},
     "output_type": "display_data"
    },
    {
     "name": "stdout",
     "output_type": "stream",
     "text": [
      "\n",
      "e_12 *\n"
     ]
    },
    {
     "data": {
      "application/vnd.jupyter.widget-view+json": {
       "model_id": "c7d867cafdca4fbcbc9acdd1ba8a1955",
       "version_major": 2,
       "version_minor": 0
      },
      "text/plain": [
       "HBox(children=(FloatProgress(value=0.0, description='Iteration', max=174.0, style=ProgressStyle(description_wi…"
      ]
     },
     "metadata": {},
     "output_type": "display_data"
    },
    {
     "name": "stdout",
     "output_type": "stream",
     "text": [
      "\n",
      "e_13 *\n"
     ]
    },
    {
     "data": {
      "application/vnd.jupyter.widget-view+json": {
       "model_id": "566ec46deb8041119bd67caca110bd3b",
       "version_major": 2,
       "version_minor": 0
      },
      "text/plain": [
       "HBox(children=(FloatProgress(value=0.0, description='Iteration', max=174.0, style=ProgressStyle(description_wi…"
      ]
     },
     "metadata": {},
     "output_type": "display_data"
    },
    {
     "name": "stdout",
     "output_type": "stream",
     "text": [
      "\n",
      "e_14 *\n"
     ]
    },
    {
     "data": {
      "application/vnd.jupyter.widget-view+json": {
       "model_id": "3669b5df5a574986aa08f80ee2546717",
       "version_major": 2,
       "version_minor": 0
      },
      "text/plain": [
       "HBox(children=(FloatProgress(value=0.0, description='Iteration', max=174.0, style=ProgressStyle(description_wi…"
      ]
     },
     "metadata": {},
     "output_type": "display_data"
    },
    {
     "name": "stdout",
     "output_type": "stream",
     "text": [
      "\n",
      "e_15 *\n",
      "Epoch    14: reducing learning rate of group 0 to 6.2500e-05.\n",
      "Epoch    14: reducing learning rate of group 1 to 6.2500e-05.\n"
     ]
    },
    {
     "data": {
      "application/vnd.jupyter.widget-view+json": {
       "model_id": "5e009cafe3f1457eac8bf600e2f38974",
       "version_major": 2,
       "version_minor": 0
      },
      "text/plain": [
       "HBox(children=(FloatProgress(value=0.0, description='Iteration', max=174.0, style=ProgressStyle(description_wi…"
      ]
     },
     "metadata": {},
     "output_type": "display_data"
    },
    {
     "name": "stdout",
     "output_type": "stream",
     "text": [
      "\n",
      "e_16 *\n"
     ]
    },
    {
     "data": {
      "application/vnd.jupyter.widget-view+json": {
       "model_id": "e1c68ca8339b4e3bb33366cf587a1088",
       "version_major": 2,
       "version_minor": 0
      },
      "text/plain": [
       "HBox(children=(FloatProgress(value=0.0, description='Iteration', max=174.0, style=ProgressStyle(description_wi…"
      ]
     },
     "metadata": {},
     "output_type": "display_data"
    },
    {
     "name": "stdout",
     "output_type": "stream",
     "text": [
      "\n",
      "e_17 *\n"
     ]
    },
    {
     "data": {
      "application/vnd.jupyter.widget-view+json": {
       "model_id": "fdea4f9e9f694f408eacd732e504d1fa",
       "version_major": 2,
       "version_minor": 0
      },
      "text/plain": [
       "HBox(children=(FloatProgress(value=0.0, description='Iteration', max=174.0, style=ProgressStyle(description_wi…"
      ]
     },
     "metadata": {},
     "output_type": "display_data"
    },
    {
     "name": "stdout",
     "output_type": "stream",
     "text": [
      "\n",
      "e_18 *\n"
     ]
    },
    {
     "data": {
      "application/vnd.jupyter.widget-view+json": {
       "model_id": "1d9a8c63969a4a4f80c72d626a1a5e76",
       "version_major": 2,
       "version_minor": 0
      },
      "text/plain": [
       "HBox(children=(FloatProgress(value=0.0, description='Iteration', max=174.0, style=ProgressStyle(description_wi…"
      ]
     },
     "metadata": {},
     "output_type": "display_data"
    },
    {
     "name": "stdout",
     "output_type": "stream",
     "text": [
      "\n",
      "e_19 *\n",
      "Epoch    18: reducing learning rate of group 0 to 3.1250e-05.\n",
      "Epoch    18: reducing learning rate of group 1 to 3.1250e-05.\n"
     ]
    },
    {
     "data": {
      "application/vnd.jupyter.widget-view+json": {
       "model_id": "200fc84be99b4efd899fb03403b754fe",
       "version_major": 2,
       "version_minor": 0
      },
      "text/plain": [
       "HBox(children=(FloatProgress(value=0.0, description='Iteration', max=174.0, style=ProgressStyle(description_wi…"
      ]
     },
     "metadata": {},
     "output_type": "display_data"
    },
    {
     "name": "stdout",
     "output_type": "stream",
     "text": [
      "\n",
      "e_20 *\n",
      "saved checkpoint in ../models/abs_models/Bst_abs_1st_02.ckp\n",
      "training end, used 173.43 s\n",
      "config ----------------\n",
      "{'EB_dp': 0.3,\n",
      " 'FC_dp': 0.1,\n",
      " 'adam_epsilon': 1e-08,\n",
      " 'batch_size': 32,\n",
      " 'cnn_out_c': 100,\n",
      " 'device': device(type='cuda'),\n",
      " 'epochs': 20,\n",
      " 'l2_weight_decay': 0.0001,\n",
      " 'learning_rate': 0.001,\n",
      " 'lr_cooldown': 2,\n",
      " 'lr_reduce_factor': 0.5,\n",
      " 'max_grad_norm': 5.0,\n",
      " 'max_token_n': 54,\n",
      " 'not_x_feature': False,\n",
      " 'num_embedding': 64,\n",
      " 'num_words': 82949,\n",
      " 'patience_epoch': 3,\n",
      " 'rnn_layers': 2,\n",
      " 'rnn_num_directions': 2,\n",
      " 'rnn_out_f_n': 68,\n",
      " 'threshold': 0.5,\n",
      " 'use_new_loss': False,\n",
      " 'warmup_epoch': 0,\n",
      " 'weight_decay': 0.0001,\n",
      " 'window_sizes': [2, 3, 4, 5]}\n",
      "       ----------------\n",
      "init model\n",
      "training begin\n"
     ]
    },
    {
     "data": {
      "application/vnd.jupyter.widget-view+json": {
       "model_id": "db24249e72f14a67ad37638a53765b2c",
       "version_major": 2,
       "version_minor": 0
      },
      "text/plain": [
       "HBox(children=(FloatProgress(value=0.0, description='Iteration', max=174.0, style=ProgressStyle(description_wi…"
      ]
     },
     "metadata": {},
     "output_type": "display_data"
    },
    {
     "name": "stdout",
     "output_type": "stream",
     "text": [
      "\n",
      "e_1 *\n"
     ]
    },
    {
     "data": {
      "application/vnd.jupyter.widget-view+json": {
       "model_id": "7a357de5005741fdb18f984fba970b40",
       "version_major": 2,
       "version_minor": 0
      },
      "text/plain": [
       "HBox(children=(FloatProgress(value=0.0, description='Iteration', max=174.0, style=ProgressStyle(description_wi…"
      ]
     },
     "metadata": {},
     "output_type": "display_data"
    },
    {
     "name": "stdout",
     "output_type": "stream",
     "text": [
      "\n",
      "e_2 *\n"
     ]
    },
    {
     "data": {
      "application/vnd.jupyter.widget-view+json": {
       "model_id": "70658fa597454bdeacf35d46aa2987e9",
       "version_major": 2,
       "version_minor": 0
      },
      "text/plain": [
       "HBox(children=(FloatProgress(value=0.0, description='Iteration', max=174.0, style=ProgressStyle(description_wi…"
      ]
     },
     "metadata": {},
     "output_type": "display_data"
    },
    {
     "name": "stdout",
     "output_type": "stream",
     "text": [
      "\n",
      "e_3 *\n",
      "Epoch     2: reducing learning rate of group 0 to 5.0000e-04.\n",
      "Epoch     2: reducing learning rate of group 1 to 5.0000e-04.\n"
     ]
    },
    {
     "data": {
      "application/vnd.jupyter.widget-view+json": {
       "model_id": "118fc9b9c715478a9f2f3676f2d81c8b",
       "version_major": 2,
       "version_minor": 0
      },
      "text/plain": [
       "HBox(children=(FloatProgress(value=0.0, description='Iteration', max=174.0, style=ProgressStyle(description_wi…"
      ]
     },
     "metadata": {},
     "output_type": "display_data"
    },
    {
     "name": "stdout",
     "output_type": "stream",
     "text": [
      "\n",
      "e_4 *\n"
     ]
    },
    {
     "data": {
      "application/vnd.jupyter.widget-view+json": {
       "model_id": "07079f76792e4ff196ef30268d7d4b63",
       "version_major": 2,
       "version_minor": 0
      },
      "text/plain": [
       "HBox(children=(FloatProgress(value=0.0, description='Iteration', max=174.0, style=ProgressStyle(description_wi…"
      ]
     },
     "metadata": {},
     "output_type": "display_data"
    },
    {
     "name": "stdout",
     "output_type": "stream",
     "text": [
      "\n",
      "e_5 *\n"
     ]
    },
    {
     "data": {
      "application/vnd.jupyter.widget-view+json": {
       "model_id": "840448b9a3b14dc3bc49afac9f23a4bf",
       "version_major": 2,
       "version_minor": 0
      },
      "text/plain": [
       "HBox(children=(FloatProgress(value=0.0, description='Iteration', max=174.0, style=ProgressStyle(description_wi…"
      ]
     },
     "metadata": {},
     "output_type": "display_data"
    },
    {
     "name": "stdout",
     "output_type": "stream",
     "text": [
      "\n",
      "e_6 *\n"
     ]
    },
    {
     "data": {
      "application/vnd.jupyter.widget-view+json": {
       "model_id": "a5178d3504714a4abe2ae66737dadadc",
       "version_major": 2,
       "version_minor": 0
      },
      "text/plain": [
       "HBox(children=(FloatProgress(value=0.0, description='Iteration', max=174.0, style=ProgressStyle(description_wi…"
      ]
     },
     "metadata": {},
     "output_type": "display_data"
    },
    {
     "name": "stdout",
     "output_type": "stream",
     "text": [
      "\n",
      "e_7 *\n",
      "Epoch     6: reducing learning rate of group 0 to 2.5000e-04.\n",
      "Epoch     6: reducing learning rate of group 1 to 2.5000e-04.\n"
     ]
    },
    {
     "data": {
      "application/vnd.jupyter.widget-view+json": {
       "model_id": "29afffdfa9654345940476e7874c637f",
       "version_major": 2,
       "version_minor": 0
      },
      "text/plain": [
       "HBox(children=(FloatProgress(value=0.0, description='Iteration', max=174.0, style=ProgressStyle(description_wi…"
      ]
     },
     "metadata": {},
     "output_type": "display_data"
    },
    {
     "name": "stdout",
     "output_type": "stream",
     "text": [
      "\n",
      "e_8 *\n"
     ]
    },
    {
     "data": {
      "application/vnd.jupyter.widget-view+json": {
       "model_id": "6cd0a7112f474bb9bad92f8308d72842",
       "version_major": 2,
       "version_minor": 0
      },
      "text/plain": [
       "HBox(children=(FloatProgress(value=0.0, description='Iteration', max=174.0, style=ProgressStyle(description_wi…"
      ]
     },
     "metadata": {},
     "output_type": "display_data"
    },
    {
     "name": "stdout",
     "output_type": "stream",
     "text": [
      "\n",
      "e_9 *\n"
     ]
    },
    {
     "data": {
      "application/vnd.jupyter.widget-view+json": {
       "model_id": "bf03f35d50674e7aa34d860496821da8",
       "version_major": 2,
       "version_minor": 0
      },
      "text/plain": [
       "HBox(children=(FloatProgress(value=0.0, description='Iteration', max=174.0, style=ProgressStyle(description_wi…"
      ]
     },
     "metadata": {},
     "output_type": "display_data"
    },
    {
     "name": "stdout",
     "output_type": "stream",
     "text": [
      "\n",
      "e_10 *\n"
     ]
    },
    {
     "data": {
      "application/vnd.jupyter.widget-view+json": {
       "model_id": "2881d475a9b2437ebba69c09a2c11be2",
       "version_major": 2,
       "version_minor": 0
      },
      "text/plain": [
       "HBox(children=(FloatProgress(value=0.0, description='Iteration', max=174.0, style=ProgressStyle(description_wi…"
      ]
     },
     "metadata": {},
     "output_type": "display_data"
    },
    {
     "name": "stdout",
     "output_type": "stream",
     "text": [
      "\n",
      "e_11 *\n",
      "Epoch    10: reducing learning rate of group 0 to 1.2500e-04.\n",
      "Epoch    10: reducing learning rate of group 1 to 1.2500e-04.\n"
     ]
    },
    {
     "data": {
      "application/vnd.jupyter.widget-view+json": {
       "model_id": "edea59c21a5546a5b711813a2adfb319",
       "version_major": 2,
       "version_minor": 0
      },
      "text/plain": [
       "HBox(children=(FloatProgress(value=0.0, description='Iteration', max=174.0, style=ProgressStyle(description_wi…"
      ]
     },
     "metadata": {},
     "output_type": "display_data"
    },
    {
     "name": "stdout",
     "output_type": "stream",
     "text": [
      "\n",
      "e_12 *\n"
     ]
    },
    {
     "data": {
      "application/vnd.jupyter.widget-view+json": {
       "model_id": "82f10f59a5a04e4cafbe937c5478ac3f",
       "version_major": 2,
       "version_minor": 0
      },
      "text/plain": [
       "HBox(children=(FloatProgress(value=0.0, description='Iteration', max=174.0, style=ProgressStyle(description_wi…"
      ]
     },
     "metadata": {},
     "output_type": "display_data"
    },
    {
     "name": "stdout",
     "output_type": "stream",
     "text": [
      "\n",
      "e_13 *\n"
     ]
    },
    {
     "data": {
      "application/vnd.jupyter.widget-view+json": {
       "model_id": "a34225dc12b247d18becfadbb15da272",
       "version_major": 2,
       "version_minor": 0
      },
      "text/plain": [
       "HBox(children=(FloatProgress(value=0.0, description='Iteration', max=174.0, style=ProgressStyle(description_wi…"
      ]
     },
     "metadata": {},
     "output_type": "display_data"
    },
    {
     "name": "stdout",
     "output_type": "stream",
     "text": [
      "\n",
      "e_14 *\n"
     ]
    },
    {
     "data": {
      "application/vnd.jupyter.widget-view+json": {
       "model_id": "fa4292c461634141ae0d9c6bcc114a45",
       "version_major": 2,
       "version_minor": 0
      },
      "text/plain": [
       "HBox(children=(FloatProgress(value=0.0, description='Iteration', max=174.0, style=ProgressStyle(description_wi…"
      ]
     },
     "metadata": {},
     "output_type": "display_data"
    },
    {
     "name": "stdout",
     "output_type": "stream",
     "text": [
      "\n",
      "e_15 *\n",
      "Epoch    14: reducing learning rate of group 0 to 6.2500e-05.\n",
      "Epoch    14: reducing learning rate of group 1 to 6.2500e-05.\n"
     ]
    },
    {
     "data": {
      "application/vnd.jupyter.widget-view+json": {
       "model_id": "c54abbb0f1d54b92b2e0b8e2e5c477ce",
       "version_major": 2,
       "version_minor": 0
      },
      "text/plain": [
       "HBox(children=(FloatProgress(value=0.0, description='Iteration', max=174.0, style=ProgressStyle(description_wi…"
      ]
     },
     "metadata": {},
     "output_type": "display_data"
    },
    {
     "name": "stdout",
     "output_type": "stream",
     "text": [
      "\n",
      "e_16 *\n"
     ]
    },
    {
     "data": {
      "application/vnd.jupyter.widget-view+json": {
       "model_id": "5c3e0026ec944422856343800dc43307",
       "version_major": 2,
       "version_minor": 0
      },
      "text/plain": [
       "HBox(children=(FloatProgress(value=0.0, description='Iteration', max=174.0, style=ProgressStyle(description_wi…"
      ]
     },
     "metadata": {},
     "output_type": "display_data"
    },
    {
     "name": "stdout",
     "output_type": "stream",
     "text": [
      "\n",
      "e_17 *\n"
     ]
    },
    {
     "data": {
      "application/vnd.jupyter.widget-view+json": {
       "model_id": "2cf8f6d9a9ce4dff82daa01fc773c43a",
       "version_major": 2,
       "version_minor": 0
      },
      "text/plain": [
       "HBox(children=(FloatProgress(value=0.0, description='Iteration', max=174.0, style=ProgressStyle(description_wi…"
      ]
     },
     "metadata": {},
     "output_type": "display_data"
    },
    {
     "name": "stdout",
     "output_type": "stream",
     "text": [
      "\n",
      "e_18 *\n"
     ]
    },
    {
     "data": {
      "application/vnd.jupyter.widget-view+json": {
       "model_id": "7a595c0a18234743be0d79fc9d4e19d4",
       "version_major": 2,
       "version_minor": 0
      },
      "text/plain": [
       "HBox(children=(FloatProgress(value=0.0, description='Iteration', max=174.0, style=ProgressStyle(description_wi…"
      ]
     },
     "metadata": {},
     "output_type": "display_data"
    },
    {
     "name": "stdout",
     "output_type": "stream",
     "text": [
      "\n",
      "e_19 *\n",
      "Epoch    18: reducing learning rate of group 0 to 3.1250e-05.\n",
      "Epoch    18: reducing learning rate of group 1 to 3.1250e-05.\n"
     ]
    },
    {
     "data": {
      "application/vnd.jupyter.widget-view+json": {
       "model_id": "1c25b186f19944f492544dc0316db7f2",
       "version_major": 2,
       "version_minor": 0
      },
      "text/plain": [
       "HBox(children=(FloatProgress(value=0.0, description='Iteration', max=174.0, style=ProgressStyle(description_wi…"
      ]
     },
     "metadata": {},
     "output_type": "display_data"
    },
    {
     "name": "stdout",
     "output_type": "stream",
     "text": [
      "\n",
      "e_20 *\n",
      "saved checkpoint in ../models/abs_models/Bst_abs_1st_03.ckp\n",
      "training end, used 173.93 s\n",
      "config ----------------\n",
      "{'EB_dp': 0.3,\n",
      " 'FC_dp': 0.1,\n",
      " 'adam_epsilon': 1e-08,\n",
      " 'batch_size': 32,\n",
      " 'cnn_out_c': 100,\n",
      " 'device': device(type='cuda'),\n",
      " 'epochs': 20,\n",
      " 'l2_weight_decay': 0.0001,\n",
      " 'learning_rate': 0.001,\n",
      " 'lr_cooldown': 2,\n",
      " 'lr_reduce_factor': 0.5,\n",
      " 'max_grad_norm': 5.0,\n",
      " 'max_token_n': 54,\n",
      " 'not_x_feature': False,\n",
      " 'num_embedding': 64,\n",
      " 'num_words': 82949,\n",
      " 'patience_epoch': 3,\n",
      " 'rnn_layers': 2,\n",
      " 'rnn_num_directions': 2,\n",
      " 'rnn_out_f_n': 68,\n",
      " 'threshold': 0.5,\n",
      " 'use_new_loss': False,\n",
      " 'warmup_epoch': 0,\n",
      " 'weight_decay': 0.0001,\n",
      " 'window_sizes': [2, 3, 4, 5]}\n",
      "       ----------------\n",
      "init model\n",
      "training begin\n"
     ]
    },
    {
     "data": {
      "application/vnd.jupyter.widget-view+json": {
       "model_id": "3d04b686d21e4065b34021b31afc032e",
       "version_major": 2,
       "version_minor": 0
      },
      "text/plain": [
       "HBox(children=(FloatProgress(value=0.0, description='Iteration', max=174.0, style=ProgressStyle(description_wi…"
      ]
     },
     "metadata": {},
     "output_type": "display_data"
    },
    {
     "name": "stdout",
     "output_type": "stream",
     "text": [
      "\n",
      "e_1 *\n"
     ]
    },
    {
     "data": {
      "application/vnd.jupyter.widget-view+json": {
       "model_id": "484a5696abe24b1ab7b752626f0bfc74",
       "version_major": 2,
       "version_minor": 0
      },
      "text/plain": [
       "HBox(children=(FloatProgress(value=0.0, description='Iteration', max=174.0, style=ProgressStyle(description_wi…"
      ]
     },
     "metadata": {},
     "output_type": "display_data"
    },
    {
     "name": "stdout",
     "output_type": "stream",
     "text": [
      "\n",
      "e_2 *\n"
     ]
    },
    {
     "data": {
      "application/vnd.jupyter.widget-view+json": {
       "model_id": "b7c295a09d344662b675392545646a76",
       "version_major": 2,
       "version_minor": 0
      },
      "text/plain": [
       "HBox(children=(FloatProgress(value=0.0, description='Iteration', max=174.0, style=ProgressStyle(description_wi…"
      ]
     },
     "metadata": {},
     "output_type": "display_data"
    },
    {
     "name": "stdout",
     "output_type": "stream",
     "text": [
      "\n",
      "e_3 *\n",
      "Epoch     2: reducing learning rate of group 0 to 5.0000e-04.\n",
      "Epoch     2: reducing learning rate of group 1 to 5.0000e-04.\n"
     ]
    },
    {
     "data": {
      "application/vnd.jupyter.widget-view+json": {
       "model_id": "61d2bcc230d04f519e419ebbff578b32",
       "version_major": 2,
       "version_minor": 0
      },
      "text/plain": [
       "HBox(children=(FloatProgress(value=0.0, description='Iteration', max=174.0, style=ProgressStyle(description_wi…"
      ]
     },
     "metadata": {},
     "output_type": "display_data"
    },
    {
     "name": "stdout",
     "output_type": "stream",
     "text": [
      "\n",
      "e_4 *\n"
     ]
    },
    {
     "data": {
      "application/vnd.jupyter.widget-view+json": {
       "model_id": "61695f1146234ffaad47219fbca266cc",
       "version_major": 2,
       "version_minor": 0
      },
      "text/plain": [
       "HBox(children=(FloatProgress(value=0.0, description='Iteration', max=174.0, style=ProgressStyle(description_wi…"
      ]
     },
     "metadata": {},
     "output_type": "display_data"
    },
    {
     "name": "stdout",
     "output_type": "stream",
     "text": [
      "\n",
      "e_5 *\n"
     ]
    },
    {
     "data": {
      "application/vnd.jupyter.widget-view+json": {
       "model_id": "f09081e4bec64ad49c461e7ff0428261",
       "version_major": 2,
       "version_minor": 0
      },
      "text/plain": [
       "HBox(children=(FloatProgress(value=0.0, description='Iteration', max=174.0, style=ProgressStyle(description_wi…"
      ]
     },
     "metadata": {},
     "output_type": "display_data"
    },
    {
     "name": "stdout",
     "output_type": "stream",
     "text": [
      "\n",
      "e_6 *\n"
     ]
    },
    {
     "data": {
      "application/vnd.jupyter.widget-view+json": {
       "model_id": "2f4b48b054ad493fa07bca6e79ad5c2a",
       "version_major": 2,
       "version_minor": 0
      },
      "text/plain": [
       "HBox(children=(FloatProgress(value=0.0, description='Iteration', max=174.0, style=ProgressStyle(description_wi…"
      ]
     },
     "metadata": {},
     "output_type": "display_data"
    },
    {
     "name": "stdout",
     "output_type": "stream",
     "text": [
      "\n",
      "e_7 *\n",
      "Epoch     6: reducing learning rate of group 0 to 2.5000e-04.\n",
      "Epoch     6: reducing learning rate of group 1 to 2.5000e-04.\n"
     ]
    },
    {
     "data": {
      "application/vnd.jupyter.widget-view+json": {
       "model_id": "214398df4c154391af2500667c3d9d74",
       "version_major": 2,
       "version_minor": 0
      },
      "text/plain": [
       "HBox(children=(FloatProgress(value=0.0, description='Iteration', max=174.0, style=ProgressStyle(description_wi…"
      ]
     },
     "metadata": {},
     "output_type": "display_data"
    },
    {
     "name": "stdout",
     "output_type": "stream",
     "text": [
      "\n",
      "e_8 *\n"
     ]
    },
    {
     "data": {
      "application/vnd.jupyter.widget-view+json": {
       "model_id": "8df15f6ff4ef42d39aa42cdba4f0dba7",
       "version_major": 2,
       "version_minor": 0
      },
      "text/plain": [
       "HBox(children=(FloatProgress(value=0.0, description='Iteration', max=174.0, style=ProgressStyle(description_wi…"
      ]
     },
     "metadata": {},
     "output_type": "display_data"
    },
    {
     "name": "stdout",
     "output_type": "stream",
     "text": [
      "\n",
      "e_9 *\n"
     ]
    },
    {
     "data": {
      "application/vnd.jupyter.widget-view+json": {
       "model_id": "e249ff213f9541c282d27a3e9566ab4b",
       "version_major": 2,
       "version_minor": 0
      },
      "text/plain": [
       "HBox(children=(FloatProgress(value=0.0, description='Iteration', max=174.0, style=ProgressStyle(description_wi…"
      ]
     },
     "metadata": {},
     "output_type": "display_data"
    },
    {
     "name": "stdout",
     "output_type": "stream",
     "text": [
      "\n",
      "e_10 *\n"
     ]
    },
    {
     "data": {
      "application/vnd.jupyter.widget-view+json": {
       "model_id": "69b864f5b4f1496cae348fccb41a1650",
       "version_major": 2,
       "version_minor": 0
      },
      "text/plain": [
       "HBox(children=(FloatProgress(value=0.0, description='Iteration', max=174.0, style=ProgressStyle(description_wi…"
      ]
     },
     "metadata": {},
     "output_type": "display_data"
    },
    {
     "name": "stdout",
     "output_type": "stream",
     "text": [
      "\n",
      "e_11 *\n",
      "Epoch    10: reducing learning rate of group 0 to 1.2500e-04.\n",
      "Epoch    10: reducing learning rate of group 1 to 1.2500e-04.\n"
     ]
    },
    {
     "data": {
      "application/vnd.jupyter.widget-view+json": {
       "model_id": "eec24a70269d4b3bb25963399aab248c",
       "version_major": 2,
       "version_minor": 0
      },
      "text/plain": [
       "HBox(children=(FloatProgress(value=0.0, description='Iteration', max=174.0, style=ProgressStyle(description_wi…"
      ]
     },
     "metadata": {},
     "output_type": "display_data"
    },
    {
     "name": "stdout",
     "output_type": "stream",
     "text": [
      "\n",
      "e_12 *\n"
     ]
    },
    {
     "data": {
      "application/vnd.jupyter.widget-view+json": {
       "model_id": "ede7f5e88d494249b9dc731aad6e5ee0",
       "version_major": 2,
       "version_minor": 0
      },
      "text/plain": [
       "HBox(children=(FloatProgress(value=0.0, description='Iteration', max=174.0, style=ProgressStyle(description_wi…"
      ]
     },
     "metadata": {},
     "output_type": "display_data"
    },
    {
     "name": "stdout",
     "output_type": "stream",
     "text": [
      "\n",
      "e_13 *\n"
     ]
    },
    {
     "data": {
      "application/vnd.jupyter.widget-view+json": {
       "model_id": "76c7e9fda7044c56aa7e544a7a2b83c8",
       "version_major": 2,
       "version_minor": 0
      },
      "text/plain": [
       "HBox(children=(FloatProgress(value=0.0, description='Iteration', max=174.0, style=ProgressStyle(description_wi…"
      ]
     },
     "metadata": {},
     "output_type": "display_data"
    },
    {
     "name": "stdout",
     "output_type": "stream",
     "text": [
      "\n",
      "e_14 *\n"
     ]
    },
    {
     "data": {
      "application/vnd.jupyter.widget-view+json": {
       "model_id": "b29ce1cc6e534d709e3035f3ef712818",
       "version_major": 2,
       "version_minor": 0
      },
      "text/plain": [
       "HBox(children=(FloatProgress(value=0.0, description='Iteration', max=174.0, style=ProgressStyle(description_wi…"
      ]
     },
     "metadata": {},
     "output_type": "display_data"
    },
    {
     "name": "stdout",
     "output_type": "stream",
     "text": [
      "\n",
      "e_15 *\n",
      "Epoch    14: reducing learning rate of group 0 to 6.2500e-05.\n",
      "Epoch    14: reducing learning rate of group 1 to 6.2500e-05.\n"
     ]
    },
    {
     "data": {
      "application/vnd.jupyter.widget-view+json": {
       "model_id": "7f9d1c17efe440819ac87ebb06077d79",
       "version_major": 2,
       "version_minor": 0
      },
      "text/plain": [
       "HBox(children=(FloatProgress(value=0.0, description='Iteration', max=174.0, style=ProgressStyle(description_wi…"
      ]
     },
     "metadata": {},
     "output_type": "display_data"
    },
    {
     "name": "stdout",
     "output_type": "stream",
     "text": [
      "\n",
      "e_16 *\n"
     ]
    },
    {
     "data": {
      "application/vnd.jupyter.widget-view+json": {
       "model_id": "f509c30ee32146b295f600aefb266fd8",
       "version_major": 2,
       "version_minor": 0
      },
      "text/plain": [
       "HBox(children=(FloatProgress(value=0.0, description='Iteration', max=174.0, style=ProgressStyle(description_wi…"
      ]
     },
     "metadata": {},
     "output_type": "display_data"
    },
    {
     "name": "stdout",
     "output_type": "stream",
     "text": [
      "\n",
      "e_17 *\n"
     ]
    },
    {
     "data": {
      "application/vnd.jupyter.widget-view+json": {
       "model_id": "87376250ea2c40d294be5a811990aa1d",
       "version_major": 2,
       "version_minor": 0
      },
      "text/plain": [
       "HBox(children=(FloatProgress(value=0.0, description='Iteration', max=174.0, style=ProgressStyle(description_wi…"
      ]
     },
     "metadata": {},
     "output_type": "display_data"
    },
    {
     "name": "stdout",
     "output_type": "stream",
     "text": [
      "\n",
      "e_18 *\n"
     ]
    },
    {
     "data": {
      "application/vnd.jupyter.widget-view+json": {
       "model_id": "5ac0a08d9d71419ebfc6f1ff527e8543",
       "version_major": 2,
       "version_minor": 0
      },
      "text/plain": [
       "HBox(children=(FloatProgress(value=0.0, description='Iteration', max=174.0, style=ProgressStyle(description_wi…"
      ]
     },
     "metadata": {},
     "output_type": "display_data"
    },
    {
     "name": "stdout",
     "output_type": "stream",
     "text": [
      "\n",
      "e_19 *\n",
      "Epoch    18: reducing learning rate of group 0 to 3.1250e-05.\n",
      "Epoch    18: reducing learning rate of group 1 to 3.1250e-05.\n"
     ]
    },
    {
     "data": {
      "application/vnd.jupyter.widget-view+json": {
       "model_id": "2376c5e315c849b9a73a92545d35c873",
       "version_major": 2,
       "version_minor": 0
      },
      "text/plain": [
       "HBox(children=(FloatProgress(value=0.0, description='Iteration', max=174.0, style=ProgressStyle(description_wi…"
      ]
     },
     "metadata": {},
     "output_type": "display_data"
    },
    {
     "name": "stdout",
     "output_type": "stream",
     "text": [
      "\n",
      "e_20 *\n",
      "saved checkpoint in ../models/abs_models/Bst_abs_1st_04.ckp\n",
      "training end, used 173.32 s\n",
      "config ----------------\n",
      "{'EB_dp': 0.3,\n",
      " 'FC_dp': 0.1,\n",
      " 'adam_epsilon': 1e-08,\n",
      " 'batch_size': 32,\n",
      " 'cnn_out_c': 100,\n",
      " 'device': device(type='cuda'),\n",
      " 'epochs': 20,\n",
      " 'l2_weight_decay': 0.0001,\n",
      " 'learning_rate': 0.001,\n",
      " 'lr_cooldown': 2,\n",
      " 'lr_reduce_factor': 0.5,\n",
      " 'max_grad_norm': 5.0,\n",
      " 'max_token_n': 54,\n",
      " 'not_x_feature': False,\n",
      " 'num_embedding': 64,\n",
      " 'num_words': 82949,\n",
      " 'patience_epoch': 3,\n",
      " 'rnn_layers': 2,\n",
      " 'rnn_num_directions': 2,\n",
      " 'rnn_out_f_n': 68,\n",
      " 'threshold': 0.5,\n",
      " 'use_new_loss': False,\n",
      " 'warmup_epoch': 0,\n",
      " 'weight_decay': 0.0001,\n",
      " 'window_sizes': [2, 3, 4, 5]}\n",
      "       ----------------\n",
      "init model\n",
      "training begin\n"
     ]
    },
    {
     "data": {
      "application/vnd.jupyter.widget-view+json": {
       "model_id": "2d9dd285a0d6444a9343eb12a0f30de4",
       "version_major": 2,
       "version_minor": 0
      },
      "text/plain": [
       "HBox(children=(FloatProgress(value=0.0, description='Iteration', max=174.0, style=ProgressStyle(description_wi…"
      ]
     },
     "metadata": {},
     "output_type": "display_data"
    },
    {
     "name": "stdout",
     "output_type": "stream",
     "text": [
      "\n",
      "e_1 *\n"
     ]
    },
    {
     "data": {
      "application/vnd.jupyter.widget-view+json": {
       "model_id": "c218b93879144fdba48ece313c062116",
       "version_major": 2,
       "version_minor": 0
      },
      "text/plain": [
       "HBox(children=(FloatProgress(value=0.0, description='Iteration', max=174.0, style=ProgressStyle(description_wi…"
      ]
     },
     "metadata": {},
     "output_type": "display_data"
    },
    {
     "name": "stdout",
     "output_type": "stream",
     "text": [
      "\n",
      "e_2 *\n"
     ]
    },
    {
     "data": {
      "application/vnd.jupyter.widget-view+json": {
       "model_id": "4f14052afe434ac5bd4f7de56dd26887",
       "version_major": 2,
       "version_minor": 0
      },
      "text/plain": [
       "HBox(children=(FloatProgress(value=0.0, description='Iteration', max=174.0, style=ProgressStyle(description_wi…"
      ]
     },
     "metadata": {},
     "output_type": "display_data"
    },
    {
     "name": "stdout",
     "output_type": "stream",
     "text": [
      "\n",
      "e_3 *\n",
      "Epoch     2: reducing learning rate of group 0 to 5.0000e-04.\n",
      "Epoch     2: reducing learning rate of group 1 to 5.0000e-04.\n"
     ]
    },
    {
     "data": {
      "application/vnd.jupyter.widget-view+json": {
       "model_id": "6184ccd02be84496956a09312260f36d",
       "version_major": 2,
       "version_minor": 0
      },
      "text/plain": [
       "HBox(children=(FloatProgress(value=0.0, description='Iteration', max=174.0, style=ProgressStyle(description_wi…"
      ]
     },
     "metadata": {},
     "output_type": "display_data"
    },
    {
     "name": "stdout",
     "output_type": "stream",
     "text": [
      "\n",
      "e_4 *\n"
     ]
    },
    {
     "data": {
      "application/vnd.jupyter.widget-view+json": {
       "model_id": "b8887b5662ed48d88fb7f88efdf76aa0",
       "version_major": 2,
       "version_minor": 0
      },
      "text/plain": [
       "HBox(children=(FloatProgress(value=0.0, description='Iteration', max=174.0, style=ProgressStyle(description_wi…"
      ]
     },
     "metadata": {},
     "output_type": "display_data"
    },
    {
     "name": "stdout",
     "output_type": "stream",
     "text": [
      "\n",
      "e_5 *\n"
     ]
    },
    {
     "data": {
      "application/vnd.jupyter.widget-view+json": {
       "model_id": "35b27194dafc41a4bf637925a6e495dd",
       "version_major": 2,
       "version_minor": 0
      },
      "text/plain": [
       "HBox(children=(FloatProgress(value=0.0, description='Iteration', max=174.0, style=ProgressStyle(description_wi…"
      ]
     },
     "metadata": {},
     "output_type": "display_data"
    },
    {
     "name": "stdout",
     "output_type": "stream",
     "text": [
      "\n",
      "e_6 *\n"
     ]
    },
    {
     "data": {
      "application/vnd.jupyter.widget-view+json": {
       "model_id": "a83d44d0bf3e4afa80a09141f46f0e4f",
       "version_major": 2,
       "version_minor": 0
      },
      "text/plain": [
       "HBox(children=(FloatProgress(value=0.0, description='Iteration', max=174.0, style=ProgressStyle(description_wi…"
      ]
     },
     "metadata": {},
     "output_type": "display_data"
    },
    {
     "name": "stdout",
     "output_type": "stream",
     "text": [
      "\n",
      "e_7 *\n",
      "Epoch     6: reducing learning rate of group 0 to 2.5000e-04.\n",
      "Epoch     6: reducing learning rate of group 1 to 2.5000e-04.\n"
     ]
    },
    {
     "data": {
      "application/vnd.jupyter.widget-view+json": {
       "model_id": "dc5bdbc9b116481fb2f1697d650295e5",
       "version_major": 2,
       "version_minor": 0
      },
      "text/plain": [
       "HBox(children=(FloatProgress(value=0.0, description='Iteration', max=174.0, style=ProgressStyle(description_wi…"
      ]
     },
     "metadata": {},
     "output_type": "display_data"
    },
    {
     "name": "stdout",
     "output_type": "stream",
     "text": [
      "\n",
      "e_8 *\n"
     ]
    },
    {
     "data": {
      "application/vnd.jupyter.widget-view+json": {
       "model_id": "6b4dcf743fc24e4b8f2f34f8435f7016",
       "version_major": 2,
       "version_minor": 0
      },
      "text/plain": [
       "HBox(children=(FloatProgress(value=0.0, description='Iteration', max=174.0, style=ProgressStyle(description_wi…"
      ]
     },
     "metadata": {},
     "output_type": "display_data"
    },
    {
     "name": "stdout",
     "output_type": "stream",
     "text": [
      "\n",
      "e_9 *\n"
     ]
    },
    {
     "data": {
      "application/vnd.jupyter.widget-view+json": {
       "model_id": "9117bd3cf8514e5aa317e34c0fc4bd37",
       "version_major": 2,
       "version_minor": 0
      },
      "text/plain": [
       "HBox(children=(FloatProgress(value=0.0, description='Iteration', max=174.0, style=ProgressStyle(description_wi…"
      ]
     },
     "metadata": {},
     "output_type": "display_data"
    },
    {
     "name": "stdout",
     "output_type": "stream",
     "text": [
      "\n",
      "e_10 *\n"
     ]
    },
    {
     "data": {
      "application/vnd.jupyter.widget-view+json": {
       "model_id": "8ab4be19a7084cf8b70ece9a8e5bbe34",
       "version_major": 2,
       "version_minor": 0
      },
      "text/plain": [
       "HBox(children=(FloatProgress(value=0.0, description='Iteration', max=174.0, style=ProgressStyle(description_wi…"
      ]
     },
     "metadata": {},
     "output_type": "display_data"
    },
    {
     "name": "stdout",
     "output_type": "stream",
     "text": [
      "\n",
      "e_11 *\n",
      "Epoch    10: reducing learning rate of group 0 to 1.2500e-04.\n",
      "Epoch    10: reducing learning rate of group 1 to 1.2500e-04.\n"
     ]
    },
    {
     "data": {
      "application/vnd.jupyter.widget-view+json": {
       "model_id": "549f0a88289f4aa6b557a003e0a9893f",
       "version_major": 2,
       "version_minor": 0
      },
      "text/plain": [
       "HBox(children=(FloatProgress(value=0.0, description='Iteration', max=174.0, style=ProgressStyle(description_wi…"
      ]
     },
     "metadata": {},
     "output_type": "display_data"
    },
    {
     "name": "stdout",
     "output_type": "stream",
     "text": [
      "\n",
      "e_12 *\n"
     ]
    },
    {
     "data": {
      "application/vnd.jupyter.widget-view+json": {
       "model_id": "0a2d78944ca444669ff76fd8f4b97944",
       "version_major": 2,
       "version_minor": 0
      },
      "text/plain": [
       "HBox(children=(FloatProgress(value=0.0, description='Iteration', max=174.0, style=ProgressStyle(description_wi…"
      ]
     },
     "metadata": {},
     "output_type": "display_data"
    },
    {
     "name": "stdout",
     "output_type": "stream",
     "text": [
      "\n",
      "e_13 *\n"
     ]
    },
    {
     "data": {
      "application/vnd.jupyter.widget-view+json": {
       "model_id": "4a0e2a355e194e8d8d7c610ab9107fd0",
       "version_major": 2,
       "version_minor": 0
      },
      "text/plain": [
       "HBox(children=(FloatProgress(value=0.0, description='Iteration', max=174.0, style=ProgressStyle(description_wi…"
      ]
     },
     "metadata": {},
     "output_type": "display_data"
    },
    {
     "name": "stdout",
     "output_type": "stream",
     "text": [
      "\n",
      "e_14 *\n"
     ]
    },
    {
     "data": {
      "application/vnd.jupyter.widget-view+json": {
       "model_id": "88cbee11104644abbca7bc0d12cb06bd",
       "version_major": 2,
       "version_minor": 0
      },
      "text/plain": [
       "HBox(children=(FloatProgress(value=0.0, description='Iteration', max=174.0, style=ProgressStyle(description_wi…"
      ]
     },
     "metadata": {},
     "output_type": "display_data"
    },
    {
     "name": "stdout",
     "output_type": "stream",
     "text": [
      "\n",
      "e_15 *\n",
      "Epoch    14: reducing learning rate of group 0 to 6.2500e-05.\n",
      "Epoch    14: reducing learning rate of group 1 to 6.2500e-05.\n"
     ]
    },
    {
     "data": {
      "application/vnd.jupyter.widget-view+json": {
       "model_id": "38f1f3c38b864c77a88df82d394438a5",
       "version_major": 2,
       "version_minor": 0
      },
      "text/plain": [
       "HBox(children=(FloatProgress(value=0.0, description='Iteration', max=174.0, style=ProgressStyle(description_wi…"
      ]
     },
     "metadata": {},
     "output_type": "display_data"
    },
    {
     "name": "stdout",
     "output_type": "stream",
     "text": [
      "\n",
      "e_16 *\n"
     ]
    },
    {
     "data": {
      "application/vnd.jupyter.widget-view+json": {
       "model_id": "c87533e962624f539a9b1feb8d2a1146",
       "version_major": 2,
       "version_minor": 0
      },
      "text/plain": [
       "HBox(children=(FloatProgress(value=0.0, description='Iteration', max=174.0, style=ProgressStyle(description_wi…"
      ]
     },
     "metadata": {},
     "output_type": "display_data"
    },
    {
     "name": "stdout",
     "output_type": "stream",
     "text": [
      "\n",
      "e_17 *\n"
     ]
    },
    {
     "data": {
      "application/vnd.jupyter.widget-view+json": {
       "model_id": "74e5391137d64102b2326cf36cb78547",
       "version_major": 2,
       "version_minor": 0
      },
      "text/plain": [
       "HBox(children=(FloatProgress(value=0.0, description='Iteration', max=174.0, style=ProgressStyle(description_wi…"
      ]
     },
     "metadata": {},
     "output_type": "display_data"
    },
    {
     "name": "stdout",
     "output_type": "stream",
     "text": [
      "\n",
      "e_18 *\n"
     ]
    },
    {
     "data": {
      "application/vnd.jupyter.widget-view+json": {
       "model_id": "dcade562d63743cda0c81c2cbf5da9d2",
       "version_major": 2,
       "version_minor": 0
      },
      "text/plain": [
       "HBox(children=(FloatProgress(value=0.0, description='Iteration', max=174.0, style=ProgressStyle(description_wi…"
      ]
     },
     "metadata": {},
     "output_type": "display_data"
    },
    {
     "name": "stdout",
     "output_type": "stream",
     "text": [
      "\n",
      "e_19 *\n",
      "Epoch    18: reducing learning rate of group 0 to 3.1250e-05.\n",
      "Epoch    18: reducing learning rate of group 1 to 3.1250e-05.\n"
     ]
    },
    {
     "data": {
      "application/vnd.jupyter.widget-view+json": {
       "model_id": "a4101fa8d2594ba4adfe95878ef771f4",
       "version_major": 2,
       "version_minor": 0
      },
      "text/plain": [
       "HBox(children=(FloatProgress(value=0.0, description='Iteration', max=174.0, style=ProgressStyle(description_wi…"
      ]
     },
     "metadata": {},
     "output_type": "display_data"
    },
    {
     "name": "stdout",
     "output_type": "stream",
     "text": [
      "\n",
      "e_20 *\n",
      "saved checkpoint in ../models/abs_models/Bst_abs_1st_05.ckp\n",
      "training end, used 174.14 s\n",
      "config ----------------\n",
      "{'EB_dp': 0.3,\n",
      " 'FC_dp': 0.1,\n",
      " 'adam_epsilon': 1e-08,\n",
      " 'batch_size': 32,\n",
      " 'cnn_out_c': 100,\n",
      " 'device': device(type='cuda'),\n",
      " 'epochs': 20,\n",
      " 'l2_weight_decay': 0.0001,\n",
      " 'learning_rate': 0.001,\n",
      " 'lr_cooldown': 2,\n",
      " 'lr_reduce_factor': 0.5,\n",
      " 'max_grad_norm': 5.0,\n",
      " 'max_token_n': 54,\n",
      " 'not_x_feature': False,\n",
      " 'num_embedding': 64,\n",
      " 'num_words': 82949,\n",
      " 'patience_epoch': 3,\n",
      " 'rnn_layers': 2,\n",
      " 'rnn_num_directions': 2,\n",
      " 'rnn_out_f_n': 68,\n",
      " 'threshold': 0.5,\n",
      " 'use_new_loss': False,\n",
      " 'warmup_epoch': 0,\n",
      " 'weight_decay': 0.0001,\n",
      " 'window_sizes': [2, 3, 4, 5]}\n",
      "       ----------------\n",
      "init model\n",
      "training begin\n"
     ]
    },
    {
     "data": {
      "application/vnd.jupyter.widget-view+json": {
       "model_id": "da8a602efb1041ce977222838ab5f82c",
       "version_major": 2,
       "version_minor": 0
      },
      "text/plain": [
       "HBox(children=(FloatProgress(value=0.0, description='Iteration', max=174.0, style=ProgressStyle(description_wi…"
      ]
     },
     "metadata": {},
     "output_type": "display_data"
    },
    {
     "name": "stdout",
     "output_type": "stream",
     "text": [
      "\n",
      "e_1 *\n"
     ]
    },
    {
     "data": {
      "application/vnd.jupyter.widget-view+json": {
       "model_id": "49ccef6a5d2849bcbdeb42e3967a5a24",
       "version_major": 2,
       "version_minor": 0
      },
      "text/plain": [
       "HBox(children=(FloatProgress(value=0.0, description='Iteration', max=174.0, style=ProgressStyle(description_wi…"
      ]
     },
     "metadata": {},
     "output_type": "display_data"
    },
    {
     "name": "stdout",
     "output_type": "stream",
     "text": [
      "\n",
      "e_2 *\n"
     ]
    },
    {
     "data": {
      "application/vnd.jupyter.widget-view+json": {
       "model_id": "843dd8a7b2bc442faaabfb1e5ce8f700",
       "version_major": 2,
       "version_minor": 0
      },
      "text/plain": [
       "HBox(children=(FloatProgress(value=0.0, description='Iteration', max=174.0, style=ProgressStyle(description_wi…"
      ]
     },
     "metadata": {},
     "output_type": "display_data"
    },
    {
     "name": "stdout",
     "output_type": "stream",
     "text": [
      "\n",
      "e_3 *\n",
      "Epoch     2: reducing learning rate of group 0 to 5.0000e-04.\n",
      "Epoch     2: reducing learning rate of group 1 to 5.0000e-04.\n"
     ]
    },
    {
     "data": {
      "application/vnd.jupyter.widget-view+json": {
       "model_id": "aab81ac06763439680d9cedd491b20ec",
       "version_major": 2,
       "version_minor": 0
      },
      "text/plain": [
       "HBox(children=(FloatProgress(value=0.0, description='Iteration', max=174.0, style=ProgressStyle(description_wi…"
      ]
     },
     "metadata": {},
     "output_type": "display_data"
    },
    {
     "name": "stdout",
     "output_type": "stream",
     "text": [
      "\n",
      "e_4 *\n"
     ]
    },
    {
     "data": {
      "application/vnd.jupyter.widget-view+json": {
       "model_id": "4594d19bcf034e9b8d5cbabca8316b9b",
       "version_major": 2,
       "version_minor": 0
      },
      "text/plain": [
       "HBox(children=(FloatProgress(value=0.0, description='Iteration', max=174.0, style=ProgressStyle(description_wi…"
      ]
     },
     "metadata": {},
     "output_type": "display_data"
    },
    {
     "name": "stdout",
     "output_type": "stream",
     "text": [
      "\n",
      "e_5 *\n"
     ]
    },
    {
     "data": {
      "application/vnd.jupyter.widget-view+json": {
       "model_id": "344081d371054b19a13a116488b3e46f",
       "version_major": 2,
       "version_minor": 0
      },
      "text/plain": [
       "HBox(children=(FloatProgress(value=0.0, description='Iteration', max=174.0, style=ProgressStyle(description_wi…"
      ]
     },
     "metadata": {},
     "output_type": "display_data"
    },
    {
     "name": "stdout",
     "output_type": "stream",
     "text": [
      "\n",
      "e_6 *\n"
     ]
    },
    {
     "data": {
      "application/vnd.jupyter.widget-view+json": {
       "model_id": "d1cd4ee6fb104aed82f0c1b4d551de60",
       "version_major": 2,
       "version_minor": 0
      },
      "text/plain": [
       "HBox(children=(FloatProgress(value=0.0, description='Iteration', max=174.0, style=ProgressStyle(description_wi…"
      ]
     },
     "metadata": {},
     "output_type": "display_data"
    },
    {
     "name": "stdout",
     "output_type": "stream",
     "text": [
      "\n",
      "e_7 *\n",
      "Epoch     6: reducing learning rate of group 0 to 2.5000e-04.\n",
      "Epoch     6: reducing learning rate of group 1 to 2.5000e-04.\n"
     ]
    },
    {
     "data": {
      "application/vnd.jupyter.widget-view+json": {
       "model_id": "fbd7e2a7ae2f4807a219e35b3c274e0a",
       "version_major": 2,
       "version_minor": 0
      },
      "text/plain": [
       "HBox(children=(FloatProgress(value=0.0, description='Iteration', max=174.0, style=ProgressStyle(description_wi…"
      ]
     },
     "metadata": {},
     "output_type": "display_data"
    },
    {
     "name": "stdout",
     "output_type": "stream",
     "text": [
      "\n",
      "e_8 *\n"
     ]
    },
    {
     "data": {
      "application/vnd.jupyter.widget-view+json": {
       "model_id": "842a24d6ad08466cadac3fc81e9061e0",
       "version_major": 2,
       "version_minor": 0
      },
      "text/plain": [
       "HBox(children=(FloatProgress(value=0.0, description='Iteration', max=174.0, style=ProgressStyle(description_wi…"
      ]
     },
     "metadata": {},
     "output_type": "display_data"
    },
    {
     "name": "stdout",
     "output_type": "stream",
     "text": [
      "\n",
      "e_9 *\n"
     ]
    },
    {
     "data": {
      "application/vnd.jupyter.widget-view+json": {
       "model_id": "4c43bde25b5744fc95739344f3c1ed26",
       "version_major": 2,
       "version_minor": 0
      },
      "text/plain": [
       "HBox(children=(FloatProgress(value=0.0, description='Iteration', max=174.0, style=ProgressStyle(description_wi…"
      ]
     },
     "metadata": {},
     "output_type": "display_data"
    },
    {
     "name": "stdout",
     "output_type": "stream",
     "text": [
      "\n",
      "e_10 *\n"
     ]
    },
    {
     "data": {
      "application/vnd.jupyter.widget-view+json": {
       "model_id": "efcaa94220484d87b4e559089721c0fc",
       "version_major": 2,
       "version_minor": 0
      },
      "text/plain": [
       "HBox(children=(FloatProgress(value=0.0, description='Iteration', max=174.0, style=ProgressStyle(description_wi…"
      ]
     },
     "metadata": {},
     "output_type": "display_data"
    },
    {
     "name": "stdout",
     "output_type": "stream",
     "text": [
      "\n",
      "e_11 *\n",
      "Epoch    10: reducing learning rate of group 0 to 1.2500e-04.\n",
      "Epoch    10: reducing learning rate of group 1 to 1.2500e-04.\n"
     ]
    },
    {
     "data": {
      "application/vnd.jupyter.widget-view+json": {
       "model_id": "222e5ee418894b6eb8944169b8f2f0f7",
       "version_major": 2,
       "version_minor": 0
      },
      "text/plain": [
       "HBox(children=(FloatProgress(value=0.0, description='Iteration', max=174.0, style=ProgressStyle(description_wi…"
      ]
     },
     "metadata": {},
     "output_type": "display_data"
    },
    {
     "name": "stdout",
     "output_type": "stream",
     "text": [
      "\n",
      "e_12 *\n"
     ]
    },
    {
     "data": {
      "application/vnd.jupyter.widget-view+json": {
       "model_id": "f9937a8b3e034c33b3cf74e1bd79c7e9",
       "version_major": 2,
       "version_minor": 0
      },
      "text/plain": [
       "HBox(children=(FloatProgress(value=0.0, description='Iteration', max=174.0, style=ProgressStyle(description_wi…"
      ]
     },
     "metadata": {},
     "output_type": "display_data"
    },
    {
     "name": "stdout",
     "output_type": "stream",
     "text": [
      "\n",
      "e_13 *\n"
     ]
    },
    {
     "data": {
      "application/vnd.jupyter.widget-view+json": {
       "model_id": "34c0b29726914eafaefb93d8a118b635",
       "version_major": 2,
       "version_minor": 0
      },
      "text/plain": [
       "HBox(children=(FloatProgress(value=0.0, description='Iteration', max=174.0, style=ProgressStyle(description_wi…"
      ]
     },
     "metadata": {},
     "output_type": "display_data"
    },
    {
     "name": "stdout",
     "output_type": "stream",
     "text": [
      "\n",
      "e_14 *\n"
     ]
    },
    {
     "data": {
      "application/vnd.jupyter.widget-view+json": {
       "model_id": "6978ef64e62146a79c8fde511ca69026",
       "version_major": 2,
       "version_minor": 0
      },
      "text/plain": [
       "HBox(children=(FloatProgress(value=0.0, description='Iteration', max=174.0, style=ProgressStyle(description_wi…"
      ]
     },
     "metadata": {},
     "output_type": "display_data"
    },
    {
     "name": "stdout",
     "output_type": "stream",
     "text": [
      "\n",
      "e_15 *\n",
      "Epoch    14: reducing learning rate of group 0 to 6.2500e-05.\n",
      "Epoch    14: reducing learning rate of group 1 to 6.2500e-05.\n"
     ]
    },
    {
     "data": {
      "application/vnd.jupyter.widget-view+json": {
       "model_id": "c9fadf890dd54e12ac0b07a35d20ff05",
       "version_major": 2,
       "version_minor": 0
      },
      "text/plain": [
       "HBox(children=(FloatProgress(value=0.0, description='Iteration', max=174.0, style=ProgressStyle(description_wi…"
      ]
     },
     "metadata": {},
     "output_type": "display_data"
    },
    {
     "name": "stdout",
     "output_type": "stream",
     "text": [
      "\n",
      "e_16 *\n"
     ]
    },
    {
     "data": {
      "application/vnd.jupyter.widget-view+json": {
       "model_id": "bbc9db1f453e41ac9786443e175fd766",
       "version_major": 2,
       "version_minor": 0
      },
      "text/plain": [
       "HBox(children=(FloatProgress(value=0.0, description='Iteration', max=174.0, style=ProgressStyle(description_wi…"
      ]
     },
     "metadata": {},
     "output_type": "display_data"
    },
    {
     "name": "stdout",
     "output_type": "stream",
     "text": [
      "\n",
      "e_17 *\n"
     ]
    },
    {
     "data": {
      "application/vnd.jupyter.widget-view+json": {
       "model_id": "b2bffbb8f9a24dba8f7dffc325a0c426",
       "version_major": 2,
       "version_minor": 0
      },
      "text/plain": [
       "HBox(children=(FloatProgress(value=0.0, description='Iteration', max=174.0, style=ProgressStyle(description_wi…"
      ]
     },
     "metadata": {},
     "output_type": "display_data"
    },
    {
     "name": "stdout",
     "output_type": "stream",
     "text": [
      "\n",
      "e_18 *\n"
     ]
    },
    {
     "data": {
      "application/vnd.jupyter.widget-view+json": {
       "model_id": "4d2cd14fb2e643b388e68ef27aaf72ac",
       "version_major": 2,
       "version_minor": 0
      },
      "text/plain": [
       "HBox(children=(FloatProgress(value=0.0, description='Iteration', max=174.0, style=ProgressStyle(description_wi…"
      ]
     },
     "metadata": {},
     "output_type": "display_data"
    },
    {
     "name": "stdout",
     "output_type": "stream",
     "text": [
      "\n",
      "e_19 *\n",
      "Epoch    18: reducing learning rate of group 0 to 3.1250e-05.\n",
      "Epoch    18: reducing learning rate of group 1 to 3.1250e-05.\n"
     ]
    },
    {
     "data": {
      "application/vnd.jupyter.widget-view+json": {
       "model_id": "129f7e64bc63426fb9aea0f3eade9461",
       "version_major": 2,
       "version_minor": 0
      },
      "text/plain": [
       "HBox(children=(FloatProgress(value=0.0, description='Iteration', max=174.0, style=ProgressStyle(description_wi…"
      ]
     },
     "metadata": {},
     "output_type": "display_data"
    },
    {
     "name": "stdout",
     "output_type": "stream",
     "text": [
      "\n",
      "e_20 *\n",
      "saved checkpoint in ../models/abs_models/Bst_abs_1st_06.ckp\n",
      "training end, used 173.34 s\n",
      "config ----------------\n",
      "{'EB_dp': 0.3,\n",
      " 'FC_dp': 0.1,\n",
      " 'adam_epsilon': 1e-08,\n",
      " 'batch_size': 32,\n",
      " 'cnn_out_c': 100,\n",
      " 'device': device(type='cuda'),\n",
      " 'epochs': 20,\n",
      " 'l2_weight_decay': 0.0001,\n",
      " 'learning_rate': 0.001,\n",
      " 'lr_cooldown': 2,\n",
      " 'lr_reduce_factor': 0.5,\n",
      " 'max_grad_norm': 5.0,\n",
      " 'max_token_n': 54,\n",
      " 'not_x_feature': False,\n",
      " 'num_embedding': 64,\n",
      " 'num_words': 82949,\n",
      " 'patience_epoch': 3,\n",
      " 'rnn_layers': 2,\n",
      " 'rnn_num_directions': 2,\n",
      " 'rnn_out_f_n': 68,\n",
      " 'threshold': 0.5,\n",
      " 'use_new_loss': False,\n",
      " 'warmup_epoch': 0,\n",
      " 'weight_decay': 0.0001,\n",
      " 'window_sizes': [2, 3, 4, 5]}\n",
      "       ----------------\n",
      "init model\n",
      "training begin\n"
     ]
    },
    {
     "data": {
      "application/vnd.jupyter.widget-view+json": {
       "model_id": "b8d0cace06a54908830146140c1ecc98",
       "version_major": 2,
       "version_minor": 0
      },
      "text/plain": [
       "HBox(children=(FloatProgress(value=0.0, description='Iteration', max=174.0, style=ProgressStyle(description_wi…"
      ]
     },
     "metadata": {},
     "output_type": "display_data"
    },
    {
     "name": "stdout",
     "output_type": "stream",
     "text": [
      "\n",
      "e_1 *\n"
     ]
    },
    {
     "data": {
      "application/vnd.jupyter.widget-view+json": {
       "model_id": "b4cea267f76245cd8d646545ce44dff2",
       "version_major": 2,
       "version_minor": 0
      },
      "text/plain": [
       "HBox(children=(FloatProgress(value=0.0, description='Iteration', max=174.0, style=ProgressStyle(description_wi…"
      ]
     },
     "metadata": {},
     "output_type": "display_data"
    },
    {
     "name": "stdout",
     "output_type": "stream",
     "text": [
      "\n",
      "e_2 *\n"
     ]
    },
    {
     "data": {
      "application/vnd.jupyter.widget-view+json": {
       "model_id": "d7ba6884bb524937b8b69bd2ae54cd3f",
       "version_major": 2,
       "version_minor": 0
      },
      "text/plain": [
       "HBox(children=(FloatProgress(value=0.0, description='Iteration', max=174.0, style=ProgressStyle(description_wi…"
      ]
     },
     "metadata": {},
     "output_type": "display_data"
    },
    {
     "name": "stdout",
     "output_type": "stream",
     "text": [
      "\n",
      "e_3 *\n",
      "Epoch     2: reducing learning rate of group 0 to 5.0000e-04.\n",
      "Epoch     2: reducing learning rate of group 1 to 5.0000e-04.\n"
     ]
    },
    {
     "data": {
      "application/vnd.jupyter.widget-view+json": {
       "model_id": "eff2cc2a875e491e9ad399bbfd0c3e08",
       "version_major": 2,
       "version_minor": 0
      },
      "text/plain": [
       "HBox(children=(FloatProgress(value=0.0, description='Iteration', max=174.0, style=ProgressStyle(description_wi…"
      ]
     },
     "metadata": {},
     "output_type": "display_data"
    },
    {
     "name": "stdout",
     "output_type": "stream",
     "text": [
      "\n",
      "e_4 *\n"
     ]
    },
    {
     "data": {
      "application/vnd.jupyter.widget-view+json": {
       "model_id": "d54549f73a174cde81c9bdb465f8be44",
       "version_major": 2,
       "version_minor": 0
      },
      "text/plain": [
       "HBox(children=(FloatProgress(value=0.0, description='Iteration', max=174.0, style=ProgressStyle(description_wi…"
      ]
     },
     "metadata": {},
     "output_type": "display_data"
    },
    {
     "name": "stdout",
     "output_type": "stream",
     "text": [
      "\n",
      "e_5 *\n"
     ]
    },
    {
     "data": {
      "application/vnd.jupyter.widget-view+json": {
       "model_id": "802836929c5f4f4cbca1144f16aaecc6",
       "version_major": 2,
       "version_minor": 0
      },
      "text/plain": [
       "HBox(children=(FloatProgress(value=0.0, description='Iteration', max=174.0, style=ProgressStyle(description_wi…"
      ]
     },
     "metadata": {},
     "output_type": "display_data"
    },
    {
     "name": "stdout",
     "output_type": "stream",
     "text": [
      "\n",
      "e_6 *\n"
     ]
    },
    {
     "data": {
      "application/vnd.jupyter.widget-view+json": {
       "model_id": "68966a30173e43ed94630f71965fffe4",
       "version_major": 2,
       "version_minor": 0
      },
      "text/plain": [
       "HBox(children=(FloatProgress(value=0.0, description='Iteration', max=174.0, style=ProgressStyle(description_wi…"
      ]
     },
     "metadata": {},
     "output_type": "display_data"
    },
    {
     "name": "stdout",
     "output_type": "stream",
     "text": [
      "\n",
      "e_7 *\n",
      "Epoch     6: reducing learning rate of group 0 to 2.5000e-04.\n",
      "Epoch     6: reducing learning rate of group 1 to 2.5000e-04.\n"
     ]
    },
    {
     "data": {
      "application/vnd.jupyter.widget-view+json": {
       "model_id": "71b30bec330346ac9e859c798cefca81",
       "version_major": 2,
       "version_minor": 0
      },
      "text/plain": [
       "HBox(children=(FloatProgress(value=0.0, description='Iteration', max=174.0, style=ProgressStyle(description_wi…"
      ]
     },
     "metadata": {},
     "output_type": "display_data"
    },
    {
     "name": "stdout",
     "output_type": "stream",
     "text": [
      "\n",
      "e_8 *\n"
     ]
    },
    {
     "data": {
      "application/vnd.jupyter.widget-view+json": {
       "model_id": "829a847db84d4bc8b1aee1bc0513add1",
       "version_major": 2,
       "version_minor": 0
      },
      "text/plain": [
       "HBox(children=(FloatProgress(value=0.0, description='Iteration', max=174.0, style=ProgressStyle(description_wi…"
      ]
     },
     "metadata": {},
     "output_type": "display_data"
    },
    {
     "name": "stdout",
     "output_type": "stream",
     "text": [
      "\n",
      "e_9 *\n"
     ]
    },
    {
     "data": {
      "application/vnd.jupyter.widget-view+json": {
       "model_id": "3c7af4dc3ef245ef8e9537fdebe99134",
       "version_major": 2,
       "version_minor": 0
      },
      "text/plain": [
       "HBox(children=(FloatProgress(value=0.0, description='Iteration', max=174.0, style=ProgressStyle(description_wi…"
      ]
     },
     "metadata": {},
     "output_type": "display_data"
    },
    {
     "name": "stdout",
     "output_type": "stream",
     "text": [
      "\n",
      "e_10 *\n"
     ]
    },
    {
     "data": {
      "application/vnd.jupyter.widget-view+json": {
       "model_id": "cd91df7c8c3245018df40522c5591973",
       "version_major": 2,
       "version_minor": 0
      },
      "text/plain": [
       "HBox(children=(FloatProgress(value=0.0, description='Iteration', max=174.0, style=ProgressStyle(description_wi…"
      ]
     },
     "metadata": {},
     "output_type": "display_data"
    },
    {
     "name": "stdout",
     "output_type": "stream",
     "text": [
      "\n",
      "e_11 *\n",
      "Epoch    10: reducing learning rate of group 0 to 1.2500e-04.\n",
      "Epoch    10: reducing learning rate of group 1 to 1.2500e-04.\n"
     ]
    },
    {
     "data": {
      "application/vnd.jupyter.widget-view+json": {
       "model_id": "dbe8bc641ad648d6b83c945c83474ea1",
       "version_major": 2,
       "version_minor": 0
      },
      "text/plain": [
       "HBox(children=(FloatProgress(value=0.0, description='Iteration', max=174.0, style=ProgressStyle(description_wi…"
      ]
     },
     "metadata": {},
     "output_type": "display_data"
    },
    {
     "name": "stdout",
     "output_type": "stream",
     "text": [
      "\n",
      "e_12 *\n"
     ]
    },
    {
     "data": {
      "application/vnd.jupyter.widget-view+json": {
       "model_id": "920ae6262d014f1cac8b58631a090862",
       "version_major": 2,
       "version_minor": 0
      },
      "text/plain": [
       "HBox(children=(FloatProgress(value=0.0, description='Iteration', max=174.0, style=ProgressStyle(description_wi…"
      ]
     },
     "metadata": {},
     "output_type": "display_data"
    },
    {
     "name": "stdout",
     "output_type": "stream",
     "text": [
      "\n",
      "e_13 *\n"
     ]
    },
    {
     "data": {
      "application/vnd.jupyter.widget-view+json": {
       "model_id": "a73c3125e60141d0a1220b9807b5cb59",
       "version_major": 2,
       "version_minor": 0
      },
      "text/plain": [
       "HBox(children=(FloatProgress(value=0.0, description='Iteration', max=174.0, style=ProgressStyle(description_wi…"
      ]
     },
     "metadata": {},
     "output_type": "display_data"
    },
    {
     "name": "stdout",
     "output_type": "stream",
     "text": [
      "\n",
      "e_14 *\n"
     ]
    },
    {
     "data": {
      "application/vnd.jupyter.widget-view+json": {
       "model_id": "1a40530b4e5645fc9ba2d2f4b9a1c3c9",
       "version_major": 2,
       "version_minor": 0
      },
      "text/plain": [
       "HBox(children=(FloatProgress(value=0.0, description='Iteration', max=174.0, style=ProgressStyle(description_wi…"
      ]
     },
     "metadata": {},
     "output_type": "display_data"
    },
    {
     "name": "stdout",
     "output_type": "stream",
     "text": [
      "\n",
      "e_15 *\n",
      "Epoch    14: reducing learning rate of group 0 to 6.2500e-05.\n",
      "Epoch    14: reducing learning rate of group 1 to 6.2500e-05.\n"
     ]
    },
    {
     "data": {
      "application/vnd.jupyter.widget-view+json": {
       "model_id": "422227cff95248768114aa341143485b",
       "version_major": 2,
       "version_minor": 0
      },
      "text/plain": [
       "HBox(children=(FloatProgress(value=0.0, description='Iteration', max=174.0, style=ProgressStyle(description_wi…"
      ]
     },
     "metadata": {},
     "output_type": "display_data"
    },
    {
     "name": "stdout",
     "output_type": "stream",
     "text": [
      "\n",
      "e_16 *\n"
     ]
    },
    {
     "data": {
      "application/vnd.jupyter.widget-view+json": {
       "model_id": "4607f428af9e4d09800515490d5c337f",
       "version_major": 2,
       "version_minor": 0
      },
      "text/plain": [
       "HBox(children=(FloatProgress(value=0.0, description='Iteration', max=174.0, style=ProgressStyle(description_wi…"
      ]
     },
     "metadata": {},
     "output_type": "display_data"
    },
    {
     "name": "stdout",
     "output_type": "stream",
     "text": [
      "\n",
      "e_17 *\n"
     ]
    },
    {
     "data": {
      "application/vnd.jupyter.widget-view+json": {
       "model_id": "ec69cfc24fa04590be8669d413ac11fa",
       "version_major": 2,
       "version_minor": 0
      },
      "text/plain": [
       "HBox(children=(FloatProgress(value=0.0, description='Iteration', max=174.0, style=ProgressStyle(description_wi…"
      ]
     },
     "metadata": {},
     "output_type": "display_data"
    },
    {
     "name": "stdout",
     "output_type": "stream",
     "text": [
      "\n",
      "e_18 *\n"
     ]
    },
    {
     "data": {
      "application/vnd.jupyter.widget-view+json": {
       "model_id": "8f45308ac1cf466dbfa7dc8f118bf82d",
       "version_major": 2,
       "version_minor": 0
      },
      "text/plain": [
       "HBox(children=(FloatProgress(value=0.0, description='Iteration', max=174.0, style=ProgressStyle(description_wi…"
      ]
     },
     "metadata": {},
     "output_type": "display_data"
    },
    {
     "name": "stdout",
     "output_type": "stream",
     "text": [
      "\n",
      "e_19 *\n",
      "Epoch    18: reducing learning rate of group 0 to 3.1250e-05.\n",
      "Epoch    18: reducing learning rate of group 1 to 3.1250e-05.\n"
     ]
    },
    {
     "data": {
      "application/vnd.jupyter.widget-view+json": {
       "model_id": "c587908b45e94e88944faeac015a197d",
       "version_major": 2,
       "version_minor": 0
      },
      "text/plain": [
       "HBox(children=(FloatProgress(value=0.0, description='Iteration', max=174.0, style=ProgressStyle(description_wi…"
      ]
     },
     "metadata": {},
     "output_type": "display_data"
    },
    {
     "name": "stdout",
     "output_type": "stream",
     "text": [
      "\n",
      "e_20 *\n",
      "saved checkpoint in ../models/abs_models/Bst_abs_1st_07.ckp\n",
      "training end, used 173.78 s\n",
      "config ----------------\n",
      "{'EB_dp': 0.3,\n",
      " 'FC_dp': 0.1,\n",
      " 'adam_epsilon': 1e-08,\n",
      " 'batch_size': 32,\n",
      " 'cnn_out_c': 100,\n",
      " 'device': device(type='cuda'),\n",
      " 'epochs': 20,\n",
      " 'l2_weight_decay': 0.0001,\n",
      " 'learning_rate': 0.001,\n",
      " 'lr_cooldown': 2,\n",
      " 'lr_reduce_factor': 0.5,\n",
      " 'max_grad_norm': 5.0,\n",
      " 'max_token_n': 54,\n",
      " 'not_x_feature': False,\n",
      " 'num_embedding': 64,\n",
      " 'num_words': 82949,\n",
      " 'patience_epoch': 3,\n",
      " 'rnn_layers': 2,\n",
      " 'rnn_num_directions': 2,\n",
      " 'rnn_out_f_n': 68,\n",
      " 'threshold': 0.5,\n",
      " 'use_new_loss': False,\n",
      " 'warmup_epoch': 0,\n",
      " 'weight_decay': 0.0001,\n",
      " 'window_sizes': [2, 3, 4, 5]}\n",
      "       ----------------\n",
      "init model\n",
      "training begin\n"
     ]
    },
    {
     "data": {
      "application/vnd.jupyter.widget-view+json": {
       "model_id": "0afa809728da49b8896fd56e1ca4d2d9",
       "version_major": 2,
       "version_minor": 0
      },
      "text/plain": [
       "HBox(children=(FloatProgress(value=0.0, description='Iteration', max=174.0, style=ProgressStyle(description_wi…"
      ]
     },
     "metadata": {},
     "output_type": "display_data"
    },
    {
     "name": "stdout",
     "output_type": "stream",
     "text": [
      "\n",
      "e_1 *\n"
     ]
    },
    {
     "data": {
      "application/vnd.jupyter.widget-view+json": {
       "model_id": "335745a5f2fb47a1aa34d5041054c051",
       "version_major": 2,
       "version_minor": 0
      },
      "text/plain": [
       "HBox(children=(FloatProgress(value=0.0, description='Iteration', max=174.0, style=ProgressStyle(description_wi…"
      ]
     },
     "metadata": {},
     "output_type": "display_data"
    },
    {
     "name": "stdout",
     "output_type": "stream",
     "text": [
      "\n",
      "e_2 *\n"
     ]
    },
    {
     "data": {
      "application/vnd.jupyter.widget-view+json": {
       "model_id": "2d4f433ac19849bd96392a012ef774dc",
       "version_major": 2,
       "version_minor": 0
      },
      "text/plain": [
       "HBox(children=(FloatProgress(value=0.0, description='Iteration', max=174.0, style=ProgressStyle(description_wi…"
      ]
     },
     "metadata": {},
     "output_type": "display_data"
    },
    {
     "name": "stdout",
     "output_type": "stream",
     "text": [
      "\n",
      "e_3 *\n",
      "Epoch     2: reducing learning rate of group 0 to 5.0000e-04.\n",
      "Epoch     2: reducing learning rate of group 1 to 5.0000e-04.\n"
     ]
    },
    {
     "data": {
      "application/vnd.jupyter.widget-view+json": {
       "model_id": "b6bc5029d3854f8e988ac24d9c4b8dbb",
       "version_major": 2,
       "version_minor": 0
      },
      "text/plain": [
       "HBox(children=(FloatProgress(value=0.0, description='Iteration', max=174.0, style=ProgressStyle(description_wi…"
      ]
     },
     "metadata": {},
     "output_type": "display_data"
    },
    {
     "name": "stdout",
     "output_type": "stream",
     "text": [
      "\n",
      "e_4 *\n"
     ]
    },
    {
     "data": {
      "application/vnd.jupyter.widget-view+json": {
       "model_id": "c0c8067d065f4c9b99435dd23c1521d6",
       "version_major": 2,
       "version_minor": 0
      },
      "text/plain": [
       "HBox(children=(FloatProgress(value=0.0, description='Iteration', max=174.0, style=ProgressStyle(description_wi…"
      ]
     },
     "metadata": {},
     "output_type": "display_data"
    },
    {
     "name": "stdout",
     "output_type": "stream",
     "text": [
      "\n",
      "e_5 *\n"
     ]
    },
    {
     "data": {
      "application/vnd.jupyter.widget-view+json": {
       "model_id": "656847af653549ae81e570ee1ea3a0c8",
       "version_major": 2,
       "version_minor": 0
      },
      "text/plain": [
       "HBox(children=(FloatProgress(value=0.0, description='Iteration', max=174.0, style=ProgressStyle(description_wi…"
      ]
     },
     "metadata": {},
     "output_type": "display_data"
    },
    {
     "name": "stdout",
     "output_type": "stream",
     "text": [
      "\n",
      "e_6 *\n"
     ]
    },
    {
     "data": {
      "application/vnd.jupyter.widget-view+json": {
       "model_id": "32b32bb8d520485a8419e5e59fe25ac7",
       "version_major": 2,
       "version_minor": 0
      },
      "text/plain": [
       "HBox(children=(FloatProgress(value=0.0, description='Iteration', max=174.0, style=ProgressStyle(description_wi…"
      ]
     },
     "metadata": {},
     "output_type": "display_data"
    },
    {
     "name": "stdout",
     "output_type": "stream",
     "text": [
      "\n",
      "e_7 *\n",
      "Epoch     6: reducing learning rate of group 0 to 2.5000e-04.\n",
      "Epoch     6: reducing learning rate of group 1 to 2.5000e-04.\n"
     ]
    },
    {
     "data": {
      "application/vnd.jupyter.widget-view+json": {
       "model_id": "565ff1425018401b82d85b2713671c14",
       "version_major": 2,
       "version_minor": 0
      },
      "text/plain": [
       "HBox(children=(FloatProgress(value=0.0, description='Iteration', max=174.0, style=ProgressStyle(description_wi…"
      ]
     },
     "metadata": {},
     "output_type": "display_data"
    },
    {
     "name": "stdout",
     "output_type": "stream",
     "text": [
      "\n",
      "e_8 *\n"
     ]
    },
    {
     "data": {
      "application/vnd.jupyter.widget-view+json": {
       "model_id": "863aaf7604ca46b193a395c7d432b7b6",
       "version_major": 2,
       "version_minor": 0
      },
      "text/plain": [
       "HBox(children=(FloatProgress(value=0.0, description='Iteration', max=174.0, style=ProgressStyle(description_wi…"
      ]
     },
     "metadata": {},
     "output_type": "display_data"
    },
    {
     "name": "stdout",
     "output_type": "stream",
     "text": [
      "\n",
      "e_9 *\n"
     ]
    },
    {
     "data": {
      "application/vnd.jupyter.widget-view+json": {
       "model_id": "0590cdeb10264a12ab7e3bd77be04f99",
       "version_major": 2,
       "version_minor": 0
      },
      "text/plain": [
       "HBox(children=(FloatProgress(value=0.0, description='Iteration', max=174.0, style=ProgressStyle(description_wi…"
      ]
     },
     "metadata": {},
     "output_type": "display_data"
    },
    {
     "name": "stdout",
     "output_type": "stream",
     "text": [
      "\n",
      "e_10 *\n"
     ]
    },
    {
     "data": {
      "application/vnd.jupyter.widget-view+json": {
       "model_id": "498aa5131cc74233911d9bd026c78a75",
       "version_major": 2,
       "version_minor": 0
      },
      "text/plain": [
       "HBox(children=(FloatProgress(value=0.0, description='Iteration', max=174.0, style=ProgressStyle(description_wi…"
      ]
     },
     "metadata": {},
     "output_type": "display_data"
    },
    {
     "name": "stdout",
     "output_type": "stream",
     "text": [
      "\n",
      "e_11 *\n",
      "Epoch    10: reducing learning rate of group 0 to 1.2500e-04.\n",
      "Epoch    10: reducing learning rate of group 1 to 1.2500e-04.\n"
     ]
    },
    {
     "data": {
      "application/vnd.jupyter.widget-view+json": {
       "model_id": "ffd7fa94d7cc4bf1b9a63ed3aaf10703",
       "version_major": 2,
       "version_minor": 0
      },
      "text/plain": [
       "HBox(children=(FloatProgress(value=0.0, description='Iteration', max=174.0, style=ProgressStyle(description_wi…"
      ]
     },
     "metadata": {},
     "output_type": "display_data"
    },
    {
     "name": "stdout",
     "output_type": "stream",
     "text": [
      "\n",
      "e_12 *\n"
     ]
    },
    {
     "data": {
      "application/vnd.jupyter.widget-view+json": {
       "model_id": "c136a144b4f94a64ab733732487ed68d",
       "version_major": 2,
       "version_minor": 0
      },
      "text/plain": [
       "HBox(children=(FloatProgress(value=0.0, description='Iteration', max=174.0, style=ProgressStyle(description_wi…"
      ]
     },
     "metadata": {},
     "output_type": "display_data"
    },
    {
     "name": "stdout",
     "output_type": "stream",
     "text": [
      "\n",
      "e_13 *\n"
     ]
    },
    {
     "data": {
      "application/vnd.jupyter.widget-view+json": {
       "model_id": "1ac39f3b3dbe489291332f3736de5bce",
       "version_major": 2,
       "version_minor": 0
      },
      "text/plain": [
       "HBox(children=(FloatProgress(value=0.0, description='Iteration', max=174.0, style=ProgressStyle(description_wi…"
      ]
     },
     "metadata": {},
     "output_type": "display_data"
    },
    {
     "name": "stdout",
     "output_type": "stream",
     "text": [
      "\n",
      "e_14 *\n"
     ]
    },
    {
     "data": {
      "application/vnd.jupyter.widget-view+json": {
       "model_id": "602cab9ba0ef4e2cb282935852124a59",
       "version_major": 2,
       "version_minor": 0
      },
      "text/plain": [
       "HBox(children=(FloatProgress(value=0.0, description='Iteration', max=174.0, style=ProgressStyle(description_wi…"
      ]
     },
     "metadata": {},
     "output_type": "display_data"
    },
    {
     "name": "stdout",
     "output_type": "stream",
     "text": [
      "\n",
      "e_15 *\n",
      "Epoch    14: reducing learning rate of group 0 to 6.2500e-05.\n",
      "Epoch    14: reducing learning rate of group 1 to 6.2500e-05.\n"
     ]
    },
    {
     "data": {
      "application/vnd.jupyter.widget-view+json": {
       "model_id": "2f24df957f124c46abc2491510349c7e",
       "version_major": 2,
       "version_minor": 0
      },
      "text/plain": [
       "HBox(children=(FloatProgress(value=0.0, description='Iteration', max=174.0, style=ProgressStyle(description_wi…"
      ]
     },
     "metadata": {},
     "output_type": "display_data"
    },
    {
     "name": "stdout",
     "output_type": "stream",
     "text": [
      "\n",
      "e_16 *\n"
     ]
    },
    {
     "data": {
      "application/vnd.jupyter.widget-view+json": {
       "model_id": "9443f04fae7247088257accc41086327",
       "version_major": 2,
       "version_minor": 0
      },
      "text/plain": [
       "HBox(children=(FloatProgress(value=0.0, description='Iteration', max=174.0, style=ProgressStyle(description_wi…"
      ]
     },
     "metadata": {},
     "output_type": "display_data"
    },
    {
     "name": "stdout",
     "output_type": "stream",
     "text": [
      "\n",
      "e_17 *\n"
     ]
    },
    {
     "data": {
      "application/vnd.jupyter.widget-view+json": {
       "model_id": "78e3b66eca964992aa28fb8c0ab39c69",
       "version_major": 2,
       "version_minor": 0
      },
      "text/plain": [
       "HBox(children=(FloatProgress(value=0.0, description='Iteration', max=174.0, style=ProgressStyle(description_wi…"
      ]
     },
     "metadata": {},
     "output_type": "display_data"
    },
    {
     "name": "stdout",
     "output_type": "stream",
     "text": [
      "\n",
      "e_18 *\n"
     ]
    },
    {
     "data": {
      "application/vnd.jupyter.widget-view+json": {
       "model_id": "8f5e25c02dd74467820fa10fc40e75ae",
       "version_major": 2,
       "version_minor": 0
      },
      "text/plain": [
       "HBox(children=(FloatProgress(value=0.0, description='Iteration', max=174.0, style=ProgressStyle(description_wi…"
      ]
     },
     "metadata": {},
     "output_type": "display_data"
    },
    {
     "name": "stdout",
     "output_type": "stream",
     "text": [
      "\n",
      "e_19 *\n",
      "Epoch    18: reducing learning rate of group 0 to 3.1250e-05.\n",
      "Epoch    18: reducing learning rate of group 1 to 3.1250e-05.\n"
     ]
    },
    {
     "data": {
      "application/vnd.jupyter.widget-view+json": {
       "model_id": "35afd36101714faa8e6a9471850f597d",
       "version_major": 2,
       "version_minor": 0
      },
      "text/plain": [
       "HBox(children=(FloatProgress(value=0.0, description='Iteration', max=174.0, style=ProgressStyle(description_wi…"
      ]
     },
     "metadata": {},
     "output_type": "display_data"
    },
    {
     "name": "stdout",
     "output_type": "stream",
     "text": [
      "\n",
      "e_20 *\n",
      "saved checkpoint in ../models/abs_models/Bst_abs_1st_08.ckp\n",
      "training end, used 174.11 s\n",
      "config ----------------\n",
      "{'EB_dp': 0.3,\n",
      " 'FC_dp': 0.1,\n",
      " 'adam_epsilon': 1e-08,\n",
      " 'batch_size': 32,\n",
      " 'cnn_out_c': 100,\n",
      " 'device': device(type='cuda'),\n",
      " 'epochs': 20,\n",
      " 'l2_weight_decay': 0.0001,\n",
      " 'learning_rate': 0.001,\n",
      " 'lr_cooldown': 2,\n",
      " 'lr_reduce_factor': 0.5,\n",
      " 'max_grad_norm': 5.0,\n",
      " 'max_token_n': 54,\n",
      " 'not_x_feature': False,\n",
      " 'num_embedding': 64,\n",
      " 'num_words': 82949,\n",
      " 'patience_epoch': 3,\n",
      " 'rnn_layers': 2,\n",
      " 'rnn_num_directions': 2,\n",
      " 'rnn_out_f_n': 68,\n",
      " 'threshold': 0.5,\n",
      " 'use_new_loss': False,\n",
      " 'warmup_epoch': 0,\n",
      " 'weight_decay': 0.0001,\n",
      " 'window_sizes': [2, 3, 4, 5]}\n",
      "       ----------------\n",
      "init model\n",
      "training begin\n"
     ]
    },
    {
     "data": {
      "application/vnd.jupyter.widget-view+json": {
       "model_id": "e7968727c33e46e5a5de117482c76fa0",
       "version_major": 2,
       "version_minor": 0
      },
      "text/plain": [
       "HBox(children=(FloatProgress(value=0.0, description='Iteration', max=174.0, style=ProgressStyle(description_wi…"
      ]
     },
     "metadata": {},
     "output_type": "display_data"
    },
    {
     "name": "stdout",
     "output_type": "stream",
     "text": [
      "\n",
      "e_1 *\n"
     ]
    },
    {
     "data": {
      "application/vnd.jupyter.widget-view+json": {
       "model_id": "cf4a65df66a743dcbbea15e9f2fa58f3",
       "version_major": 2,
       "version_minor": 0
      },
      "text/plain": [
       "HBox(children=(FloatProgress(value=0.0, description='Iteration', max=174.0, style=ProgressStyle(description_wi…"
      ]
     },
     "metadata": {},
     "output_type": "display_data"
    },
    {
     "name": "stdout",
     "output_type": "stream",
     "text": [
      "\n",
      "e_2 *\n"
     ]
    },
    {
     "data": {
      "application/vnd.jupyter.widget-view+json": {
       "model_id": "9ffa99d7b00242af9ad0bd7adb3ff3ae",
       "version_major": 2,
       "version_minor": 0
      },
      "text/plain": [
       "HBox(children=(FloatProgress(value=0.0, description='Iteration', max=174.0, style=ProgressStyle(description_wi…"
      ]
     },
     "metadata": {},
     "output_type": "display_data"
    },
    {
     "name": "stdout",
     "output_type": "stream",
     "text": [
      "\n",
      "e_3 *\n",
      "Epoch     2: reducing learning rate of group 0 to 5.0000e-04.\n",
      "Epoch     2: reducing learning rate of group 1 to 5.0000e-04.\n"
     ]
    },
    {
     "data": {
      "application/vnd.jupyter.widget-view+json": {
       "model_id": "91cccddf63f245de806546676ad0d628",
       "version_major": 2,
       "version_minor": 0
      },
      "text/plain": [
       "HBox(children=(FloatProgress(value=0.0, description='Iteration', max=174.0, style=ProgressStyle(description_wi…"
      ]
     },
     "metadata": {},
     "output_type": "display_data"
    },
    {
     "name": "stdout",
     "output_type": "stream",
     "text": [
      "\n",
      "e_4 *\n"
     ]
    },
    {
     "data": {
      "application/vnd.jupyter.widget-view+json": {
       "model_id": "4c2ad65f3b3441fda0dcf89402a4fa8a",
       "version_major": 2,
       "version_minor": 0
      },
      "text/plain": [
       "HBox(children=(FloatProgress(value=0.0, description='Iteration', max=174.0, style=ProgressStyle(description_wi…"
      ]
     },
     "metadata": {},
     "output_type": "display_data"
    },
    {
     "name": "stdout",
     "output_type": "stream",
     "text": [
      "\n",
      "e_5 *\n"
     ]
    },
    {
     "data": {
      "application/vnd.jupyter.widget-view+json": {
       "model_id": "4adb3277c8dd495fa78c6b1be4b6c39b",
       "version_major": 2,
       "version_minor": 0
      },
      "text/plain": [
       "HBox(children=(FloatProgress(value=0.0, description='Iteration', max=174.0, style=ProgressStyle(description_wi…"
      ]
     },
     "metadata": {},
     "output_type": "display_data"
    },
    {
     "name": "stdout",
     "output_type": "stream",
     "text": [
      "\n",
      "e_6 *\n"
     ]
    },
    {
     "data": {
      "application/vnd.jupyter.widget-view+json": {
       "model_id": "878f8c6e76504151a812ed389fc65015",
       "version_major": 2,
       "version_minor": 0
      },
      "text/plain": [
       "HBox(children=(FloatProgress(value=0.0, description='Iteration', max=174.0, style=ProgressStyle(description_wi…"
      ]
     },
     "metadata": {},
     "output_type": "display_data"
    },
    {
     "name": "stdout",
     "output_type": "stream",
     "text": [
      "\n",
      "e_7 *\n",
      "Epoch     6: reducing learning rate of group 0 to 2.5000e-04.\n",
      "Epoch     6: reducing learning rate of group 1 to 2.5000e-04.\n"
     ]
    },
    {
     "data": {
      "application/vnd.jupyter.widget-view+json": {
       "model_id": "5cc5de0573da48a29ae3b1b47f8cb19e",
       "version_major": 2,
       "version_minor": 0
      },
      "text/plain": [
       "HBox(children=(FloatProgress(value=0.0, description='Iteration', max=174.0, style=ProgressStyle(description_wi…"
      ]
     },
     "metadata": {},
     "output_type": "display_data"
    },
    {
     "name": "stdout",
     "output_type": "stream",
     "text": [
      "\n",
      "e_8 *\n"
     ]
    },
    {
     "data": {
      "application/vnd.jupyter.widget-view+json": {
       "model_id": "89680af10e004f5ab7445598461e48ca",
       "version_major": 2,
       "version_minor": 0
      },
      "text/plain": [
       "HBox(children=(FloatProgress(value=0.0, description='Iteration', max=174.0, style=ProgressStyle(description_wi…"
      ]
     },
     "metadata": {},
     "output_type": "display_data"
    },
    {
     "name": "stdout",
     "output_type": "stream",
     "text": [
      "\n",
      "e_9 *\n"
     ]
    },
    {
     "data": {
      "application/vnd.jupyter.widget-view+json": {
       "model_id": "761f6137d91d4f8884ae6143b4ea4456",
       "version_major": 2,
       "version_minor": 0
      },
      "text/plain": [
       "HBox(children=(FloatProgress(value=0.0, description='Iteration', max=174.0, style=ProgressStyle(description_wi…"
      ]
     },
     "metadata": {},
     "output_type": "display_data"
    },
    {
     "name": "stdout",
     "output_type": "stream",
     "text": [
      "\n",
      "e_10 *\n"
     ]
    },
    {
     "data": {
      "application/vnd.jupyter.widget-view+json": {
       "model_id": "8276141a572e4e48a3351c55a52030b3",
       "version_major": 2,
       "version_minor": 0
      },
      "text/plain": [
       "HBox(children=(FloatProgress(value=0.0, description='Iteration', max=174.0, style=ProgressStyle(description_wi…"
      ]
     },
     "metadata": {},
     "output_type": "display_data"
    },
    {
     "name": "stdout",
     "output_type": "stream",
     "text": [
      "\n",
      "e_11 *\n",
      "Epoch    10: reducing learning rate of group 0 to 1.2500e-04.\n",
      "Epoch    10: reducing learning rate of group 1 to 1.2500e-04.\n"
     ]
    },
    {
     "data": {
      "application/vnd.jupyter.widget-view+json": {
       "model_id": "c8de1d28b7104e228e87cd006ee01fee",
       "version_major": 2,
       "version_minor": 0
      },
      "text/plain": [
       "HBox(children=(FloatProgress(value=0.0, description='Iteration', max=174.0, style=ProgressStyle(description_wi…"
      ]
     },
     "metadata": {},
     "output_type": "display_data"
    },
    {
     "name": "stdout",
     "output_type": "stream",
     "text": [
      "\n",
      "e_12 *\n"
     ]
    },
    {
     "data": {
      "application/vnd.jupyter.widget-view+json": {
       "model_id": "fb00c458e43c49da8075be8be2c55c79",
       "version_major": 2,
       "version_minor": 0
      },
      "text/plain": [
       "HBox(children=(FloatProgress(value=0.0, description='Iteration', max=174.0, style=ProgressStyle(description_wi…"
      ]
     },
     "metadata": {},
     "output_type": "display_data"
    },
    {
     "name": "stdout",
     "output_type": "stream",
     "text": [
      "\n",
      "e_13 *\n"
     ]
    },
    {
     "data": {
      "application/vnd.jupyter.widget-view+json": {
       "model_id": "2afba5d832234639bba73adf05c0f3f9",
       "version_major": 2,
       "version_minor": 0
      },
      "text/plain": [
       "HBox(children=(FloatProgress(value=0.0, description='Iteration', max=174.0, style=ProgressStyle(description_wi…"
      ]
     },
     "metadata": {},
     "output_type": "display_data"
    },
    {
     "name": "stdout",
     "output_type": "stream",
     "text": [
      "\n",
      "e_14 *\n"
     ]
    },
    {
     "data": {
      "application/vnd.jupyter.widget-view+json": {
       "model_id": "acc55b08e13143f9b5a320a440bcdcbb",
       "version_major": 2,
       "version_minor": 0
      },
      "text/plain": [
       "HBox(children=(FloatProgress(value=0.0, description='Iteration', max=174.0, style=ProgressStyle(description_wi…"
      ]
     },
     "metadata": {},
     "output_type": "display_data"
    },
    {
     "name": "stdout",
     "output_type": "stream",
     "text": [
      "\n",
      "e_15 *\n",
      "Epoch    14: reducing learning rate of group 0 to 6.2500e-05.\n",
      "Epoch    14: reducing learning rate of group 1 to 6.2500e-05.\n"
     ]
    },
    {
     "data": {
      "application/vnd.jupyter.widget-view+json": {
       "model_id": "740e416c6bde4bf8a3d4ddd6aacc9193",
       "version_major": 2,
       "version_minor": 0
      },
      "text/plain": [
       "HBox(children=(FloatProgress(value=0.0, description='Iteration', max=174.0, style=ProgressStyle(description_wi…"
      ]
     },
     "metadata": {},
     "output_type": "display_data"
    },
    {
     "name": "stdout",
     "output_type": "stream",
     "text": [
      "\n",
      "e_16 *\n"
     ]
    },
    {
     "data": {
      "application/vnd.jupyter.widget-view+json": {
       "model_id": "bb313134dfef4ff29c6bff02f7c32098",
       "version_major": 2,
       "version_minor": 0
      },
      "text/plain": [
       "HBox(children=(FloatProgress(value=0.0, description='Iteration', max=174.0, style=ProgressStyle(description_wi…"
      ]
     },
     "metadata": {},
     "output_type": "display_data"
    },
    {
     "name": "stdout",
     "output_type": "stream",
     "text": [
      "\n",
      "e_17 *\n"
     ]
    },
    {
     "data": {
      "application/vnd.jupyter.widget-view+json": {
       "model_id": "27062d45f5024de09b83537a08b2300b",
       "version_major": 2,
       "version_minor": 0
      },
      "text/plain": [
       "HBox(children=(FloatProgress(value=0.0, description='Iteration', max=174.0, style=ProgressStyle(description_wi…"
      ]
     },
     "metadata": {},
     "output_type": "display_data"
    },
    {
     "name": "stdout",
     "output_type": "stream",
     "text": [
      "\n",
      "e_18 *\n"
     ]
    },
    {
     "data": {
      "application/vnd.jupyter.widget-view+json": {
       "model_id": "71163d9505694d4aa235fb35360fdaeb",
       "version_major": 2,
       "version_minor": 0
      },
      "text/plain": [
       "HBox(children=(FloatProgress(value=0.0, description='Iteration', max=174.0, style=ProgressStyle(description_wi…"
      ]
     },
     "metadata": {},
     "output_type": "display_data"
    },
    {
     "name": "stdout",
     "output_type": "stream",
     "text": [
      "\n",
      "e_19 *\n",
      "Epoch    18: reducing learning rate of group 0 to 3.1250e-05.\n",
      "Epoch    18: reducing learning rate of group 1 to 3.1250e-05.\n"
     ]
    },
    {
     "data": {
      "application/vnd.jupyter.widget-view+json": {
       "model_id": "581ad522e0de40ceb85e01b2005deffe",
       "version_major": 2,
       "version_minor": 0
      },
      "text/plain": [
       "HBox(children=(FloatProgress(value=0.0, description='Iteration', max=174.0, style=ProgressStyle(description_wi…"
      ]
     },
     "metadata": {},
     "output_type": "display_data"
    },
    {
     "name": "stdout",
     "output_type": "stream",
     "text": [
      "\n",
      "e_20 *\n",
      "saved checkpoint in ../models/abs_models/Bst_abs_1st_09.ckp\n",
      "training end, used 174.46 s\n",
      "config ----------------\n",
      "{'EB_dp': 0.3,\n",
      " 'FC_dp': 0.1,\n",
      " 'adam_epsilon': 1e-08,\n",
      " 'batch_size': 32,\n",
      " 'cnn_out_c': 100,\n",
      " 'device': device(type='cuda'),\n",
      " 'epochs': 20,\n",
      " 'l2_weight_decay': 0.0001,\n",
      " 'learning_rate': 0.001,\n",
      " 'lr_cooldown': 2,\n",
      " 'lr_reduce_factor': 0.5,\n",
      " 'max_grad_norm': 5.0,\n",
      " 'max_token_n': 54,\n",
      " 'not_x_feature': False,\n",
      " 'num_embedding': 64,\n",
      " 'num_words': 82949,\n",
      " 'patience_epoch': 3,\n",
      " 'rnn_layers': 2,\n",
      " 'rnn_num_directions': 2,\n",
      " 'rnn_out_f_n': 68,\n",
      " 'threshold': 0.5,\n",
      " 'use_new_loss': False,\n",
      " 'warmup_epoch': 0,\n",
      " 'weight_decay': 0.0001,\n",
      " 'window_sizes': [2, 3, 4, 5]}\n",
      "       ----------------\n",
      "init model\n",
      "training begin\n"
     ]
    },
    {
     "data": {
      "application/vnd.jupyter.widget-view+json": {
       "model_id": "54d759ba58124e5e96b1bc785b9ee7e8",
       "version_major": 2,
       "version_minor": 0
      },
      "text/plain": [
       "HBox(children=(FloatProgress(value=0.0, description='Iteration', max=174.0, style=ProgressStyle(description_wi…"
      ]
     },
     "metadata": {},
     "output_type": "display_data"
    },
    {
     "name": "stdout",
     "output_type": "stream",
     "text": [
      "\n",
      "e_1 *\n"
     ]
    },
    {
     "data": {
      "application/vnd.jupyter.widget-view+json": {
       "model_id": "67b2e125e539426a8c6adb7bde60e27a",
       "version_major": 2,
       "version_minor": 0
      },
      "text/plain": [
       "HBox(children=(FloatProgress(value=0.0, description='Iteration', max=174.0, style=ProgressStyle(description_wi…"
      ]
     },
     "metadata": {},
     "output_type": "display_data"
    },
    {
     "name": "stdout",
     "output_type": "stream",
     "text": [
      "\n",
      "e_2 *\n"
     ]
    },
    {
     "data": {
      "application/vnd.jupyter.widget-view+json": {
       "model_id": "4778b433f30546fe96ee9a29b6430fe3",
       "version_major": 2,
       "version_minor": 0
      },
      "text/plain": [
       "HBox(children=(FloatProgress(value=0.0, description='Iteration', max=174.0, style=ProgressStyle(description_wi…"
      ]
     },
     "metadata": {},
     "output_type": "display_data"
    },
    {
     "name": "stdout",
     "output_type": "stream",
     "text": [
      "\n",
      "e_3 *\n",
      "Epoch     2: reducing learning rate of group 0 to 5.0000e-04.\n",
      "Epoch     2: reducing learning rate of group 1 to 5.0000e-04.\n"
     ]
    },
    {
     "data": {
      "application/vnd.jupyter.widget-view+json": {
       "model_id": "fcf242dc813643deb0499640cdcae289",
       "version_major": 2,
       "version_minor": 0
      },
      "text/plain": [
       "HBox(children=(FloatProgress(value=0.0, description='Iteration', max=174.0, style=ProgressStyle(description_wi…"
      ]
     },
     "metadata": {},
     "output_type": "display_data"
    },
    {
     "name": "stdout",
     "output_type": "stream",
     "text": [
      "\n",
      "e_4 *\n"
     ]
    },
    {
     "data": {
      "application/vnd.jupyter.widget-view+json": {
       "model_id": "17308320d5f74a6fbf9ef12a7aca882c",
       "version_major": 2,
       "version_minor": 0
      },
      "text/plain": [
       "HBox(children=(FloatProgress(value=0.0, description='Iteration', max=174.0, style=ProgressStyle(description_wi…"
      ]
     },
     "metadata": {},
     "output_type": "display_data"
    },
    {
     "name": "stdout",
     "output_type": "stream",
     "text": [
      "\n",
      "e_5 *\n"
     ]
    },
    {
     "data": {
      "application/vnd.jupyter.widget-view+json": {
       "model_id": "6dc3b7d9577c47d8a9571e15f38b4af8",
       "version_major": 2,
       "version_minor": 0
      },
      "text/plain": [
       "HBox(children=(FloatProgress(value=0.0, description='Iteration', max=174.0, style=ProgressStyle(description_wi…"
      ]
     },
     "metadata": {},
     "output_type": "display_data"
    },
    {
     "name": "stdout",
     "output_type": "stream",
     "text": [
      "\n",
      "e_6 *\n"
     ]
    },
    {
     "data": {
      "application/vnd.jupyter.widget-view+json": {
       "model_id": "9aea08b3df204b68834a27bc54ff617f",
       "version_major": 2,
       "version_minor": 0
      },
      "text/plain": [
       "HBox(children=(FloatProgress(value=0.0, description='Iteration', max=174.0, style=ProgressStyle(description_wi…"
      ]
     },
     "metadata": {},
     "output_type": "display_data"
    },
    {
     "name": "stdout",
     "output_type": "stream",
     "text": [
      "\n",
      "e_7 *\n",
      "Epoch     6: reducing learning rate of group 0 to 2.5000e-04.\n",
      "Epoch     6: reducing learning rate of group 1 to 2.5000e-04.\n"
     ]
    },
    {
     "data": {
      "application/vnd.jupyter.widget-view+json": {
       "model_id": "b410bd90684b434c9f95c9b64b294e77",
       "version_major": 2,
       "version_minor": 0
      },
      "text/plain": [
       "HBox(children=(FloatProgress(value=0.0, description='Iteration', max=174.0, style=ProgressStyle(description_wi…"
      ]
     },
     "metadata": {},
     "output_type": "display_data"
    },
    {
     "name": "stdout",
     "output_type": "stream",
     "text": [
      "\n",
      "e_8 *\n"
     ]
    },
    {
     "data": {
      "application/vnd.jupyter.widget-view+json": {
       "model_id": "47c7fcca2cde46f082366ec4aa369ae1",
       "version_major": 2,
       "version_minor": 0
      },
      "text/plain": [
       "HBox(children=(FloatProgress(value=0.0, description='Iteration', max=174.0, style=ProgressStyle(description_wi…"
      ]
     },
     "metadata": {},
     "output_type": "display_data"
    },
    {
     "name": "stdout",
     "output_type": "stream",
     "text": [
      "\n",
      "e_9 *\n"
     ]
    },
    {
     "data": {
      "application/vnd.jupyter.widget-view+json": {
       "model_id": "17bcaa58c16f4e938ea245205f87b927",
       "version_major": 2,
       "version_minor": 0
      },
      "text/plain": [
       "HBox(children=(FloatProgress(value=0.0, description='Iteration', max=174.0, style=ProgressStyle(description_wi…"
      ]
     },
     "metadata": {},
     "output_type": "display_data"
    },
    {
     "name": "stdout",
     "output_type": "stream",
     "text": [
      "\n",
      "e_10 *\n"
     ]
    },
    {
     "data": {
      "application/vnd.jupyter.widget-view+json": {
       "model_id": "9ed2262604f84e0faf12c0afb1b6fdc6",
       "version_major": 2,
       "version_minor": 0
      },
      "text/plain": [
       "HBox(children=(FloatProgress(value=0.0, description='Iteration', max=174.0, style=ProgressStyle(description_wi…"
      ]
     },
     "metadata": {},
     "output_type": "display_data"
    },
    {
     "name": "stdout",
     "output_type": "stream",
     "text": [
      "\n",
      "e_11 *\n",
      "Epoch    10: reducing learning rate of group 0 to 1.2500e-04.\n",
      "Epoch    10: reducing learning rate of group 1 to 1.2500e-04.\n"
     ]
    },
    {
     "data": {
      "application/vnd.jupyter.widget-view+json": {
       "model_id": "5ffb480fda4140029082125211155f0b",
       "version_major": 2,
       "version_minor": 0
      },
      "text/plain": [
       "HBox(children=(FloatProgress(value=0.0, description='Iteration', max=174.0, style=ProgressStyle(description_wi…"
      ]
     },
     "metadata": {},
     "output_type": "display_data"
    },
    {
     "name": "stdout",
     "output_type": "stream",
     "text": [
      "\n",
      "e_12 *\n"
     ]
    },
    {
     "data": {
      "application/vnd.jupyter.widget-view+json": {
       "model_id": "b168b109d13446468579683787529716",
       "version_major": 2,
       "version_minor": 0
      },
      "text/plain": [
       "HBox(children=(FloatProgress(value=0.0, description='Iteration', max=174.0, style=ProgressStyle(description_wi…"
      ]
     },
     "metadata": {},
     "output_type": "display_data"
    },
    {
     "name": "stdout",
     "output_type": "stream",
     "text": [
      "\n",
      "e_13 *\n"
     ]
    },
    {
     "data": {
      "application/vnd.jupyter.widget-view+json": {
       "model_id": "fc46b81f5d9641cf8a945bf973c6869e",
       "version_major": 2,
       "version_minor": 0
      },
      "text/plain": [
       "HBox(children=(FloatProgress(value=0.0, description='Iteration', max=174.0, style=ProgressStyle(description_wi…"
      ]
     },
     "metadata": {},
     "output_type": "display_data"
    },
    {
     "name": "stdout",
     "output_type": "stream",
     "text": [
      "\n",
      "e_14 *\n"
     ]
    },
    {
     "data": {
      "application/vnd.jupyter.widget-view+json": {
       "model_id": "74e12882c67042809fd6df0bd1112bfb",
       "version_major": 2,
       "version_minor": 0
      },
      "text/plain": [
       "HBox(children=(FloatProgress(value=0.0, description='Iteration', max=174.0, style=ProgressStyle(description_wi…"
      ]
     },
     "metadata": {},
     "output_type": "display_data"
    },
    {
     "name": "stdout",
     "output_type": "stream",
     "text": [
      "\n",
      "e_15 *\n",
      "Epoch    14: reducing learning rate of group 0 to 6.2500e-05.\n",
      "Epoch    14: reducing learning rate of group 1 to 6.2500e-05.\n"
     ]
    },
    {
     "data": {
      "application/vnd.jupyter.widget-view+json": {
       "model_id": "d64b3988a6734defb3752bf479ccfaef",
       "version_major": 2,
       "version_minor": 0
      },
      "text/plain": [
       "HBox(children=(FloatProgress(value=0.0, description='Iteration', max=174.0, style=ProgressStyle(description_wi…"
      ]
     },
     "metadata": {},
     "output_type": "display_data"
    },
    {
     "name": "stdout",
     "output_type": "stream",
     "text": [
      "\n",
      "e_16 *\n"
     ]
    },
    {
     "data": {
      "application/vnd.jupyter.widget-view+json": {
       "model_id": "d14e266f691a4284b694bf7b615f7840",
       "version_major": 2,
       "version_minor": 0
      },
      "text/plain": [
       "HBox(children=(FloatProgress(value=0.0, description='Iteration', max=174.0, style=ProgressStyle(description_wi…"
      ]
     },
     "metadata": {},
     "output_type": "display_data"
    },
    {
     "name": "stdout",
     "output_type": "stream",
     "text": [
      "\n",
      "e_17 *\n"
     ]
    },
    {
     "data": {
      "application/vnd.jupyter.widget-view+json": {
       "model_id": "3a9c7cf317d24f079c24b23650bb3594",
       "version_major": 2,
       "version_minor": 0
      },
      "text/plain": [
       "HBox(children=(FloatProgress(value=0.0, description='Iteration', max=174.0, style=ProgressStyle(description_wi…"
      ]
     },
     "metadata": {},
     "output_type": "display_data"
    },
    {
     "name": "stdout",
     "output_type": "stream",
     "text": [
      "\n",
      "e_18 *\n"
     ]
    },
    {
     "data": {
      "application/vnd.jupyter.widget-view+json": {
       "model_id": "f95a627e653c4e4f9201de4714f26268",
       "version_major": 2,
       "version_minor": 0
      },
      "text/plain": [
       "HBox(children=(FloatProgress(value=0.0, description='Iteration', max=174.0, style=ProgressStyle(description_wi…"
      ]
     },
     "metadata": {},
     "output_type": "display_data"
    },
    {
     "name": "stdout",
     "output_type": "stream",
     "text": [
      "\n",
      "e_19 *\n",
      "Epoch    18: reducing learning rate of group 0 to 3.1250e-05.\n",
      "Epoch    18: reducing learning rate of group 1 to 3.1250e-05.\n"
     ]
    },
    {
     "data": {
      "application/vnd.jupyter.widget-view+json": {
       "model_id": "19fb654aefc94eef89e1de5136429fc6",
       "version_major": 2,
       "version_minor": 0
      },
      "text/plain": [
       "HBox(children=(FloatProgress(value=0.0, description='Iteration', max=174.0, style=ProgressStyle(description_wi…"
      ]
     },
     "metadata": {},
     "output_type": "display_data"
    },
    {
     "name": "stdout",
     "output_type": "stream",
     "text": [
      "\n",
      "e_20 *\n",
      "saved checkpoint in ../models/abs_models/Bst_abs_1st_10.ckp\n",
      "training end, used 173.72 s\n"
     ]
    }
   ],
   "source": [
    "for _model_idx in range(10):\n",
    "    args.num_embedding = 64\n",
    "    args.cnn_out_c = 100\n",
    "    args.rnn_out_f_n = 68\n",
    "\n",
    "    args.rnn_num_directions = 2\n",
    "    args.rnn_layers = 2\n",
    "    args.window_sizes = [2, 3, 4, 5]\n",
    "    args.EB_dp = 0.3\n",
    "    args.FC_dp = 0.1\n",
    "\n",
    "    args.use_new_loss = False\n",
    "    args.use_cls_loss = False\n",
    "\n",
    "\n",
    "    args.epochs = 20\n",
    "    args.warmup_epoch = 0\n",
    "    args.patience_epoch = 3\n",
    "\n",
    "    args.learning_rate = 1e-3\n",
    "    args.adam_epsilon = 1e-8\n",
    "    args.weight_decay = 1e-4\n",
    "    args.l2_weight_decay = 1e-4\n",
    "    args.max_grad_norm = 5.0\n",
    "    args.lr_reduce_factor = .5\n",
    "    args.threshold = .5\n",
    "    args.lr_cooldown = 2\n",
    "    args.use_loss_sh = False\n",
    "    args.is_iterare_info = False\n",
    "\n",
    "\n",
    "    args.modle_dir = '../models/abs_models/'\n",
    "    model_name_prefix = 'Bst_abs_1st_' + '%02d' % (_model_idx + 1)\n",
    "    args.checkpoint_f = os.path.join(args.modle_dir, model_name_prefix + \".ckp\")\n",
    "    args.config_save_f = os.path.join(args.modle_dir,  model_name_prefix + \".cf\")\n",
    "\n",
    "\n",
    "    config = set_model_config(args)\n",
    "    torch.save(config, args.config_save_f)\n",
    "\n",
    "    model = Base_Net(config).to(device)\n",
    "    model_init_w(model)\n",
    "    optimizer, scheduler = init_model_optimizer(model, args)\n",
    "\n",
    "    train_dt, dev_dt, test_dt = dataloader_merge, None, None\n",
    "\n",
    "    _ = train(model, optimizer, scheduler, train_dt, dev_dt, args, test_dt, True)"
   ]
  },
  {
   "cell_type": "code",
   "execution_count": null,
   "metadata": {},
   "outputs": [],
   "source": []
  },
  {
   "cell_type": "code",
   "execution_count": null,
   "metadata": {},
   "outputs": [],
   "source": []
  },
  {
   "cell_type": "code",
   "execution_count": null,
   "metadata": {},
   "outputs": [],
   "source": []
  },
  {
   "cell_type": "code",
   "execution_count": null,
   "metadata": {},
   "outputs": [],
   "source": []
  },
  {
   "cell_type": "code",
   "execution_count": 5,
   "metadata": {},
   "outputs": [
    {
     "name": "stdout",
     "output_type": "stream",
     "text": [
      "cuda\n",
      "loading word index from /mnt/bal31/jhsu/home/git/renet2/src/utils/word_index\n",
      "loaded word index, voc size 82948\n",
      "tokenizer size 82949\n"
     ]
    }
   ],
   "source": [
    "import sys\n",
    "sys.argv = ['']\n",
    "\n",
    "\n",
    "\n",
    "\n",
    "\n",
    "if __name__ == \"__main__\":\n",
    "    # set up\n",
    "    parser = argparse.ArgumentParser(description='PyTorch renet')\n",
    "    parser.add_argument(\n",
    "            \"--raw_data_dir\",\n",
    "            default = \"/mnt/bal31/jhsu/old/data/RENET_PMC_data\",\n",
    "            type=str,\n",
    "            help=\"raw data dir\",\n",
    "    )\n",
    "    parser.add_argument(\n",
    "            \"--modle_dir\",\n",
    "            default = \"/mnt/bal31/jhsu/home/git/renet2/model\",\n",
    "            type=str,\n",
    "            help=\"modle data dir\",\n",
    "    )\n",
    "    parser.add_argument(\n",
    "            \"--label_f_name\",\n",
    "            default = \"labels.txt\",\n",
    "            type=str,\n",
    "            help=\"modle label name\",\n",
    "    )\n",
    "    parser.add_argument(\n",
    "            \"--file_name_doc\",\n",
    "            default = \"docs.txt\",\n",
    "            type=str,\n",
    "            help=\"document name\",\n",
    "    )\n",
    "    parser.add_argument(\n",
    "            \"--file_name_snt\",\n",
    "            default = \"sentences.txt\",\n",
    "            type=str,\n",
    "            help=\"sentences file name\",\n",
    "    )\n",
    "    parser.add_argument(\n",
    "            \"--file_name_ann\",\n",
    "            default = \"anns.txt\",\n",
    "            type=str,\n",
    "            help=\"anns file name\",\n",
    "    )\n",
    "    parser.add_argument(\n",
    "            \"--word_index_fn\",\n",
    "            default = \"/mnt/bal31/jhsu/home/git/renet2/src/utils/word_index\",\n",
    "            type=str,\n",
    "            help=\"word index data dir\",\n",
    "    )\n",
    "\n",
    "\n",
    "    parser.add_argument('--batch-size', type=int, default=64, metavar='N',\n",
    "                                help='input batch size for training (default: 64)')\n",
    "    parser.add_argument('--epochs', type=int, default=30, metavar='N',\n",
    "                                help='number of epochs to train (default: 30)')\n",
    "    parser.add_argument('--lr', type=float, default=0.001, metavar='LR',\n",
    "                                help='learning rate (default: 0.001)')\n",
    "    parser.add_argument('--momentum', type=float, default=0.5, metavar='M',\n",
    "                                help='SGD momentum (default: 0.5)')\n",
    "    parser.add_argument('--no-cuda', action='store_true', default=False,\n",
    "                                help='disables CUDA training')\n",
    "    parser.add_argument('--seed', type=int, default=42, metavar='S',\n",
    "                                help='random seed (default: 42)')\n",
    "    parser.add_argument('--save-interval', type=int, default=10, metavar='N',\n",
    "                                help='how many batches to wait before checkpointing')\n",
    "    parser.add_argument('--resume', action='store_true', default=False,\n",
    "                                help='resume training from checkpoint')\n",
    "    parser.add_argument('--read_abs', action='store_true', default=False,\n",
    "                                help='reading_abs_only')\n",
    "    parser.add_argument('--overwrite_cache', action='store_true', default=False,\n",
    "                                help='overwrite_cache')\n",
    "    parser.add_argument('--fix_snt_n', type=int, default=150, metavar='N',\n",
    "                                help='number of snt')\n",
    "    parser.add_argument('--fix_token_n', type=int, default=150, metavar='N',\n",
    "                                help='number of tokens')\n",
    "    parser.add_argument('--max_doc_num', type=int, default=0, metavar='N',\n",
    "                                help='number of document')\n",
    "    parser.add_argument('--is_read_doc', action='store_true', default=True,\n",
    "                                help='reading doc file')\n",
    "    parser.add_argument('--is_filter_sub', action='store_true', default=False,\n",
    "                                help='filter pmid in abs data')\n",
    "    parser.add_argument('--add_cache_suf', action='store_true', default=False,\n",
    "                                help='cache file suffix')\n",
    "    parser.add_argument('--read_old_file', action='store_true', default=False,\n",
    "                                help='reading dga files')\n",
    "    parser.add_argument('--read_ori_token', action='store_true', default=False,\n",
    "                                help='get raw text')\n",
    "    parser.add_argument('--using_new_tokenizer', action='store_true', default=False,\n",
    "                                help='using new tokenizer')\n",
    "    parser.add_argument('--not_x_feature', action='store_true', default=False,\n",
    "                                help='do not use x_feature')\n",
    "    args = parser.parse_args()\n",
    "    \n",
    "    use_cuda = torch.cuda.is_available() and not args.no_cuda\n",
    "    device = torch.device('cuda' if use_cuda else 'cpu')\n",
    "#     device = torch.device('cuda:1')\n",
    "\n",
    "    torch.manual_seed(args.seed)\n",
    "    if use_cuda:\n",
    "        torch.cuda.manual_seed(args.seed)\n",
    "    set_seed(args)\n",
    "    args.device = device\n",
    "    print(device)\n",
    "    \n",
    "    \n",
    "    args.ori_tokenizer = loading_tokenizer(args)\n",
    "    args.token_voc_l = len(args.ori_tokenizer)\n",
    "\n",
    "#     args.read_ori_token = True\n",
    "#     args.tokenizer = wp_tokenizer\n",
    "#     args.token_voc_l = wp_tokenizer.cst_sz  \n",
    "    \n",
    "    print('tokenizer size %d' % (args.token_voc_l))\n",
    "    \n",
    "    args.is_read_doc = True\n",
    "    args.max_doc_num = 0\n",
    "    args.batch_size = 32\n",
    "\n",
    "    args.fix_snt_n, args.fix_token_n = 32, 54    \n",
    "#     args.fix_snt_n, args.fix_token_n = 250, 54\n",
    "\n",
    "    \n",
    "    if args.read_abs:\n",
    "#         args.fix_snt_n = 52\n",
    "        args.max_doc_num = 0\n",
    "    #args.max_doc_num = 500\n",
    "#     args.overwrite_cache = True"
   ]
  },
  {
   "cell_type": "code",
   "execution_count": 1,
   "metadata": {},
   "outputs": [
    {
     "ename": "NameError",
     "evalue": "name 'args' is not defined",
     "output_type": "error",
     "traceback": [
      "\u001b[0;31m---------------------------------------------------------------------------\u001b[0m",
      "\u001b[0;31mNameError\u001b[0m                                 Traceback (most recent call last)",
      "\u001b[0;32m<ipython-input-1-922c2dc2d60e>\u001b[0m in \u001b[0;36m<module>\u001b[0;34m\u001b[0m\n\u001b[0;32m----> 1\u001b[0;31m \u001b[0margs\u001b[0m\u001b[0;34m.\u001b[0m\u001b[0moverwrite_cache\u001b[0m \u001b[0;34m=\u001b[0m \u001b[0;32mTrue\u001b[0m\u001b[0;34m\u001b[0m\u001b[0;34m\u001b[0m\u001b[0m\n\u001b[0m\u001b[1;32m      2\u001b[0m \u001b[0margs\u001b[0m\u001b[0;34m.\u001b[0m\u001b[0mfile_name_snt\u001b[0m \u001b[0;34m=\u001b[0m \u001b[0;34m\"sentences_p.txt\"\u001b[0m\u001b[0;34m\u001b[0m\u001b[0;34m\u001b[0m\u001b[0m\n\u001b[1;32m      3\u001b[0m \u001b[0margs\u001b[0m\u001b[0;34m.\u001b[0m\u001b[0madd_cache_suf\u001b[0m \u001b[0;34m=\u001b[0m \u001b[0;34m'_p'\u001b[0m\u001b[0;34m\u001b[0m\u001b[0;34m\u001b[0m\u001b[0m\n",
      "\u001b[0;31mNameError\u001b[0m: name 'args' is not defined"
     ]
    }
   ],
   "source": [
    "args.overwrite_cache = True\n",
    "args.file_name_snt = \"sentences_p.txt\"\n",
    "args.add_cache_suf = '_p'"
   ]
  },
  {
   "cell_type": "code",
   "execution_count": 7,
   "metadata": {},
   "outputs": [
    {
     "name": "stdout",
     "output_type": "stream",
     "text": [
      "Loading features from cached file %s /mnt/bal31/jhsu/old/data/new_renet_data/run2_rm_train/cached_all_doc_0_32_54_p\n",
      "loaded end\n",
      "dev 38832.0 144292 0.2691209491863721\n"
     ]
    }
   ],
   "source": [
    "args.raw_data_dir = \"/mnt/bal31/jhsu/old/data/new_renet_data/run2_rm_train/\"\n",
    "args.label_f_name = \"labels.txt\"\n",
    "\n",
    "features_ss_all = load_and_cache_data(args)\n",
    "\n",
    "dataset_ss_all, x_train, y_train = convert_features_to_dataset_single(features_ss_all)\n",
    "dataloader_ss_all = DataLoader(dataset_ss_all, batch_size=args.batch_size)"
   ]
  },
  {
   "cell_type": "code",
   "execution_count": 8,
   "metadata": {},
   "outputs": [
    {
     "name": "stdout",
     "output_type": "stream",
     "text": [
      "dev 37825.0 139291 0.2715537974456354\n",
      "dev 1007.0 5001 0.20135972805438912\n"
     ]
    }
   ],
   "source": [
    "train_dataset_rm, dev_dataset_rm = convert_features_to_dataset(features_ss_all, [0.8, 0.2])\n",
    "tr_dataloader_rm = DataLoader(train_dataset_rm, batch_size=args.batch_size)\n",
    "dev_dataloader_rm = DataLoader(dev_dataset_rm, batch_size=args.batch_size)"
   ]
  },
  {
   "cell_type": "code",
   "execution_count": 9,
   "metadata": {},
   "outputs": [
    {
     "name": "stdout",
     "output_type": "stream",
     "text": [
      "Loading features from cached file %s /mnt/bal31/jhsu/old/data/new_renet_data/test/cached_all_doc_0_32_54_p\n",
      "loaded end\n",
      "dev 1338.0 4729 0.2829350814125608\n"
     ]
    }
   ],
   "source": [
    "args.raw_data_dir = \"/mnt/bal31/jhsu/old/data/new_renet_data/test/\"\n",
    "args.label_f_name = \"labels.txt\"\n",
    "\n",
    "    \n",
    "features_ori_t = load_and_cache_data(args)\n",
    "\n",
    "dataset_ori_t, _, _ = convert_features_to_dataset_single(features_ori_t)\n",
    "dataloader_ori_t = DataLoader(dataset_ori_t, batch_size=args.batch_size)"
   ]
  },
  {
   "cell_type": "code",
   "execution_count": 10,
   "metadata": {},
   "outputs": [
    {
     "name": "stdout",
     "output_type": "stream",
     "text": [
      "Loading features from cached file %s /mnt/bal31/jhsu/old/data/new_renet_data/gd_v3_5h/cached_all_doc_0_32_54_p\n",
      "loaded end\n",
      "dev 975.5 2813 0.34678279416992536\n"
     ]
    }
   ],
   "source": [
    "args.raw_data_dir = \"/mnt/bal31/jhsu/old/data/new_renet_data/gd_v3_5h/\"\n",
    "args.label_f_name = \"labels_n.txt\"\n",
    "    \n",
    "features_ann_1 = load_and_cache_data(args)\n",
    "\n",
    "dataset_ann_1, _, _ = convert_features_to_dataset_single(features_ann_1)\n",
    "dataloader_ann_1 = DataLoader(dataset_ann_1, batch_size=args.batch_size)"
   ]
  },
  {
   "cell_type": "code",
   "execution_count": 11,
   "metadata": {},
   "outputs": [
    {
     "name": "stdout",
     "output_type": "stream",
     "text": [
      "Loading features from cached file %s /mnt/bal31/jhsu/old/data/new_renet_data/run2_5h_gd/cached_all_doc_0_32_54_p\n",
      "loaded end\n",
      "dev 882.5 2734 0.3227871250914411\n"
     ]
    }
   ],
   "source": [
    "args.raw_data_dir = \"/mnt/bal31/jhsu/old/data/new_renet_data/run2_5h_gd/\"\n",
    "args.label_f_name = \"label_v1_n5.txt\"\n",
    "    \n",
    "features_ss_aug = load_and_cache_data(args)\n",
    "\n",
    "dataset_ss_aug, _, _ = convert_features_to_dataset_single(features_ss_aug)\n",
    "dataloader_ss_aug = DataLoader(dataset_ss_aug, batch_size=args.batch_size)"
   ]
  },
  {
   "cell_type": "code",
   "execution_count": 12,
   "metadata": {},
   "outputs": [],
   "source": [
    "features_merge = np.concatenate((features_ann_1[0], features_ss_aug[0]), axis=0), \\\n",
    "                pd.concat([features_ann_1[1], features_ss_aug[1]])                "
   ]
  },
  {
   "cell_type": "code",
   "execution_count": 13,
   "metadata": {},
   "outputs": [
    {
     "name": "stdout",
     "output_type": "stream",
     "text": [
      "dev 1858.0 5547 0.3349558319812511\n"
     ]
    }
   ],
   "source": [
    "dataset_merge, _, _ = convert_features_to_dataset_single(features_merge)\n",
    "dataloader_merge = DataLoader(dataset_merge, batch_size=args.batch_size)"
   ]
  },
  {
   "cell_type": "code",
   "execution_count": 13,
   "metadata": {},
   "outputs": [
    {
     "name": "stdout",
     "output_type": "stream",
     "text": [
      "config ----------------\n",
      "{'EB_dp': 0.3,\n",
      " 'FC_dp': 0.1,\n",
      " 'adam_epsilon': 1e-08,\n",
      " 'batch_size': 32,\n",
      " 'cnn_out_c': 100,\n",
      " 'device': device(type='cuda'),\n",
      " 'epochs': 4,\n",
      " 'l2_weight_decay': 5e-06,\n",
      " 'learning_rate': 0.001,\n",
      " 'lr_cooldown': 2,\n",
      " 'lr_reduce_factor': 0.5,\n",
      " 'max_grad_norm': 5.0,\n",
      " 'max_token_n': 54,\n",
      " 'not_x_feature': False,\n",
      " 'num_embedding': 64,\n",
      " 'num_words': 82949,\n",
      " 'patience_epoch': 3,\n",
      " 'rnn_layers': 2,\n",
      " 'rnn_num_directions': 2,\n",
      " 'rnn_out_f_n': 68,\n",
      " 'threshold': 0.5,\n",
      " 'use_new_loss': False,\n",
      " 'warmup_epoch': 0,\n",
      " 'weight_decay': 1e-07,\n",
      " 'window_sizes': [2, 3, 4, 5]}\n",
      "       ----------------\n",
      "init model\n",
      "training begin\n"
     ]
    },
    {
     "data": {
      "application/vnd.jupyter.widget-view+json": {
       "model_id": "4704debba3574352888100dcf3a0fda4",
       "version_major": 2,
       "version_minor": 0
      },
      "text/plain": [
       "HBox(children=(FloatProgress(value=0.0, description='Iteration', layout=Layout(flex='2'), max=4353.0, style=Pr…"
      ]
     },
     "metadata": {},
     "output_type": "display_data"
    },
    {
     "name": "stdout",
     "output_type": "stream",
     "text": [
      "\n",
      "e_1 dev: 0.00252, 0.722, 0.733, 0.727, 0.930 * test rst: [0.00231, 0.8330, 0.8274, 0.8301, 0.9570]\n",
      "saved checkpoint in /mnt/bal31/jhsu/home/git/renet2/models/Bst_all_abs_1.ckp_001\n"
     ]
    },
    {
     "data": {
      "application/vnd.jupyter.widget-view+json": {
       "model_id": "08e51381a31f428cab096054e747f71f",
       "version_major": 2,
       "version_minor": 0
      },
      "text/plain": [
       "HBox(children=(FloatProgress(value=0.0, description='Iteration', layout=Layout(flex='2'), max=4353.0, style=Pr…"
      ]
     },
     "metadata": {},
     "output_type": "display_data"
    },
    {
     "name": "stdout",
     "output_type": "stream",
     "text": [
      "\n",
      "e_2 dev: 0.00262, 0.741, 0.702, 0.721, 0.922 * test rst: [0.00238, 0.8301, 0.8072, 0.8185, 0.9543]\n",
      "saved checkpoint in /mnt/bal31/jhsu/home/git/renet2/models/Bst_all_abs_1.ckp_002\n"
     ]
    },
    {
     "data": {
      "application/vnd.jupyter.widget-view+json": {
       "model_id": "c68ce0effc1b481a8828b217715cfe89",
       "version_major": 2,
       "version_minor": 0
      },
      "text/plain": [
       "HBox(children=(FloatProgress(value=0.0, description='Iteration', layout=Layout(flex='2'), max=4353.0, style=Pr…"
      ]
     },
     "metadata": {},
     "output_type": "display_data"
    },
    {
     "name": "stdout",
     "output_type": "stream",
     "text": [
      "\n",
      "e_3 dev: 0.00279, 0.716, 0.734, 0.725, 0.921 * test rst: [0.00259, 0.8068, 0.8333, 0.8199, 0.9506]\n",
      "Epoch     2: reducing learning rate of group 0 to 5.0000e-04.\n",
      "Epoch     2: reducing learning rate of group 1 to 5.0000e-04.\n",
      "saved checkpoint in /mnt/bal31/jhsu/home/git/renet2/models/Bst_all_abs_1.ckp_003\n"
     ]
    },
    {
     "data": {
      "application/vnd.jupyter.widget-view+json": {
       "model_id": "e2ee757ff1684f1f9e0a8f62cd89d531",
       "version_major": 2,
       "version_minor": 0
      },
      "text/plain": [
       "HBox(children=(FloatProgress(value=0.0, description='Iteration', layout=Layout(flex='2'), max=4353.0, style=Pr…"
      ]
     },
     "metadata": {},
     "output_type": "display_data"
    },
    {
     "name": "stdout",
     "output_type": "stream",
     "text": [
      "\n",
      "e_4 dev: 0.00290, 0.697, 0.789, 0.740, 0.926 * test rst: [0.00255, 0.8018, 0.8617, 0.8307, 0.9572]\n",
      "saved checkpoint in /mnt/bal31/jhsu/home/git/renet2/models/Bst_all_abs_1.ckp_004\n",
      "saved checkpoint in /mnt/bal31/jhsu/home/git/renet2/models/Bst_all_abs_1.ckp\n",
      "training end, used 1118.63 s\n"
     ]
    }
   ],
   "source": [
    "args.num_embedding = 64\n",
    "args.cnn_out_c = 100\n",
    "args.rnn_out_f_n = 68\n",
    "\n",
    "args.rnn_num_directions = 2\n",
    "args.rnn_layers = 2\n",
    "args.window_sizes = [2, 3, 4, 5]\n",
    "args.EB_dp = 0.3\n",
    "args.FC_dp = 0.1\n",
    "\n",
    "\n",
    "args.use_new_loss = False\n",
    "args.use_cls_loss = False\n",
    "\n",
    "args.epochs = 4\n",
    "args.warmup_epoch = 0\n",
    "args.patience_epoch = 3\n",
    "\n",
    "args.learning_rate = 1e-3\n",
    "args.adam_epsilon = 1e-8\n",
    "args.weight_decay = 1e-7\n",
    "args.l2_weight_decay = 5e-6\n",
    "args.max_grad_norm = 5.0\n",
    "args.lr_reduce_factor = .5\n",
    "args.threshold = .5\n",
    "args.lr_cooldown = 2\n",
    "args.use_loss_sh = False\n",
    "args.is_iterare_info = False\n",
    "\n",
    "\n",
    "args.modle_dir = '/mnt/bal31/jhsu/home/git/renet2/models'\n",
    "model_name_prefix = 'Bst_all_abs_1'\n",
    "args.checkpoint_f = os.path.join(args.modle_dir, model_name_prefix + \".ckp\")\n",
    "args.config_save_f = os.path.join(args.modle_dir,  model_name_prefix + \".cf\")\n",
    "\n",
    "\n",
    "config = set_model_config(args)\n",
    "torch.save(config, args.config_save_f)\n",
    "\n",
    "model = Base_Net(config).to(device)\n",
    "model_init_w(model)\n",
    "optimizer, scheduler = init_model_optimizer(model, args)\n",
    "\n",
    "train_dt, dev_dt, test_dt = tr_dataloader_rm, dev_dataloader_rm, dataloader_ori_t\n",
    "\n",
    "_ = train(model, optimizer, scheduler, train_dt, dev_dt, args, test_dt)"
   ]
  },
  {
   "cell_type": "code",
   "execution_count": 14,
   "metadata": {},
   "outputs": [
    {
     "name": "stdout",
     "output_type": "stream",
     "text": [
      "config ----------------\n",
      "{'EB_dp': 0.3,\n",
      " 'FC_dp': 0.1,\n",
      " 'adam_epsilon': 1e-08,\n",
      " 'batch_size': 32,\n",
      " 'cnn_out_c': 100,\n",
      " 'device': device(type='cuda'),\n",
      " 'epochs': 20,\n",
      " 'l2_weight_decay': 0.0001,\n",
      " 'learning_rate': 0.001,\n",
      " 'lr_cooldown': 2,\n",
      " 'lr_reduce_factor': 0.5,\n",
      " 'max_grad_norm': 5.0,\n",
      " 'max_token_n': 54,\n",
      " 'not_x_feature': False,\n",
      " 'num_embedding': 64,\n",
      " 'num_words': 82949,\n",
      " 'patience_epoch': 3,\n",
      " 'rnn_layers': 2,\n",
      " 'rnn_num_directions': 2,\n",
      " 'rnn_out_f_n': 68,\n",
      " 'threshold': 0.5,\n",
      " 'use_new_loss': False,\n",
      " 'warmup_epoch': 0,\n",
      " 'weight_decay': 0.0001,\n",
      " 'window_sizes': [2, 3, 4, 5]}\n",
      "       ----------------\n",
      "postive cnt:  197.5 563 0.35079928952042627\n",
      "cv, step 1\n",
      "4984 563\n",
      "init model\n",
      "training begin\n",
      "e_1 * test rst: [0.00426, 0.6845, 0.6765, 0.6805, 0.8442]\n",
      "e_2 * test rst: [0.00445, 0.6649, 0.7471, 0.7036, 0.8591]\n",
      "e_3 * test rst: [0.00556, 0.5387, 0.8588, 0.6621, 0.8623]\n",
      "Epoch     2: reducing learning rate of group 0 to 5.0000e-04.\n",
      "Epoch     2: reducing learning rate of group 1 to 5.0000e-04.\n",
      "e_4 * test rst: [0.00398, 0.7545, 0.7412, 0.7478, 0.8631]\n",
      "e_5 * test rst: [0.00417, 0.7919, 0.6941, 0.7398, 0.8625]\n",
      "e_6 * test rst: [0.00423, 0.6856, 0.7824, 0.7308, 0.8643]\n",
      "e_7 * test rst: [0.00410, 0.7530, 0.7353, 0.7440, 0.8645]\n",
      "Epoch     6: reducing learning rate of group 0 to 2.5000e-04.\n",
      "Epoch     6: reducing learning rate of group 1 to 2.5000e-04.\n",
      "e_8 * test rst: [0.00418, 0.8382, 0.6706, 0.7451, 0.8645]\n",
      "e_9 * test rst: [0.00410, 0.7756, 0.7118, 0.7423, 0.8686]\n",
      "e_10 * test rst: [0.00415, 0.7368, 0.7412, 0.7390, 0.8709]\n",
      "e_11 * test rst: [0.00423, 0.7349, 0.7176, 0.7262, 0.8673]\n",
      "Epoch    10: reducing learning rate of group 0 to 1.2500e-04.\n",
      "Epoch    10: reducing learning rate of group 1 to 1.2500e-04.\n",
      "e_12 * test rst: [0.00418, 0.7396, 0.7353, 0.7375, 0.8681]\n",
      "e_13 * test rst: [0.00418, 0.7412, 0.7412, 0.7412, 0.8683]\n",
      "e_14 * test rst: [0.00422, 0.7470, 0.7294, 0.7381, 0.8675]\n",
      "e_15 * test rst: [0.00417, 0.7485, 0.7353, 0.7418, 0.8699]\n",
      "Epoch    14: reducing learning rate of group 0 to 6.2500e-05.\n",
      "Epoch    14: reducing learning rate of group 1 to 6.2500e-05.\n",
      "e_16 * test rst: [0.00411, 0.7399, 0.7529, 0.7464, 0.8708]\n",
      "e_17 * test rst: [0.00414, 0.7356, 0.7529, 0.7442, 0.8715]\n",
      "e_18 * test rst: [0.00413, 0.7471, 0.7471, 0.7471, 0.8715]\n",
      "e_19 * test rst: [0.00414, 0.7273, 0.7529, 0.7399, 0.8719]\n",
      "Epoch    18: reducing learning rate of group 0 to 3.1250e-05.\n",
      "Epoch    18: reducing learning rate of group 1 to 3.1250e-05.\n",
      "e_20 * test rst: [0.00421, 0.7143, 0.7647, 0.7386, 0.8724]\n",
      "training end, used 153.83 s\n",
      "(0.004210808044746121, 0.7142857142857143, 0.7647058823529411, 0.7386363636363635, 0.8723544379583894)\n",
      "total label sum 197.5\n",
      "postive cnt:  186.5 563 0.33126110124333924\n",
      "cv, step 2\n",
      "4984 563\n",
      "init model\n",
      "training begin\n",
      "e_1 * test rst: [0.00442, 0.6852, 0.6529, 0.6687, 0.8628]\n",
      "e_2 * test rst: [0.00679, 0.4874, 0.9118, 0.6352, 0.8622]\n",
      "e_3 * test rst: [0.00444, 0.7483, 0.6294, 0.6837, 0.8690]\n",
      "Epoch     2: reducing learning rate of group 0 to 5.0000e-04.\n",
      "Epoch     2: reducing learning rate of group 1 to 5.0000e-04.\n",
      "e_4 * test rst: [0.00449, 0.7569, 0.6412, 0.6943, 0.8722]\n",
      "e_5 * test rst: [0.00475, 0.6723, 0.7000, 0.6859, 0.8836]\n",
      "e_6 * test rst: [0.00430, 0.7708, 0.6529, 0.7070, 0.8893]\n",
      "e_7 * test rst: [0.00429, 0.7708, 0.6529, 0.7070, 0.8823]\n",
      "Epoch     6: reducing learning rate of group 0 to 2.5000e-04.\n",
      "Epoch     6: reducing learning rate of group 1 to 2.5000e-04.\n",
      "e_8 * test rst: [0.00429, 0.8000, 0.6588, 0.7226, 0.8860]\n",
      "e_9 * test rst: [0.00450, 0.7832, 0.6588, 0.7157, 0.8825]\n",
      "e_10 * test rst: [0.00465, 0.7847, 0.6647, 0.7197, 0.8828]\n",
      "e_11 * test rst: [0.00452, 0.7219, 0.7176, 0.7198, 0.8886]\n",
      "Epoch    10: reducing learning rate of group 0 to 1.2500e-04.\n",
      "Epoch    10: reducing learning rate of group 1 to 1.2500e-04.\n",
      "e_12 * test rst: [0.00456, 0.7022, 0.7353, 0.7184, 0.8885]\n",
      "e_13 * test rst: [0.00449, 0.7289, 0.7118, 0.7202, 0.8886]\n",
      "e_14 * test rst: [0.00452, 0.7317, 0.7059, 0.7186, 0.8896]\n",
      "e_15 * test rst: [0.00448, 0.7748, 0.6882, 0.7290, 0.8892]\n",
      "Epoch    14: reducing learning rate of group 0 to 6.2500e-05.\n",
      "Epoch    14: reducing learning rate of group 1 to 6.2500e-05.\n",
      "e_16 * test rst: [0.00437, 0.7748, 0.6882, 0.7290, 0.8911]\n",
      "e_17 * test rst: [0.00437, 0.7647, 0.6882, 0.7245, 0.8922]\n",
      "e_18 * test rst: [0.00432, 0.7532, 0.7000, 0.7256, 0.8934]\n",
      "e_19 * test rst: [0.00432, 0.7438, 0.7000, 0.7212, 0.8948]\n",
      "Epoch    18: reducing learning rate of group 0 to 3.1250e-05.\n",
      "Epoch    18: reducing learning rate of group 1 to 3.1250e-05.\n",
      "e_20 * test rst: [0.00430, 0.7349, 0.7176, 0.7262, 0.8955]\n",
      "training end, used 160.21 s\n",
      "(0.004304189982676803, 0.7349397590361446, 0.7176470588235294, 0.7261904761904763, 0.8955246220625656)\n",
      "total label sum 186.5\n",
      "postive cnt:  219.0 563 0.38898756660746003\n",
      "cv, step 3\n",
      "4984 563\n",
      "init model\n",
      "training begin\n",
      "e_1 * test rst: [0.00474, 0.6532, 0.7398, 0.6938, 0.8497]\n",
      "e_2 * test rst: [0.00727, 0.5187, 0.9184, 0.6630, 0.8333]\n",
      "e_3 * test rst: [0.00450, 0.7182, 0.6633, 0.6897, 0.8571]\n",
      "Epoch     2: reducing learning rate of group 0 to 5.0000e-04.\n",
      "Epoch     2: reducing learning rate of group 1 to 5.0000e-04.\n",
      "e_4 * test rst: [0.00442, 0.7114, 0.7296, 0.7204, 0.8658]\n",
      "e_5 * test rst: [0.00462, 0.6916, 0.7551, 0.7220, 0.8647]\n",
      "e_6 * test rst: [0.00491, 0.8000, 0.6531, 0.7191, 0.8698]\n",
      "e_7 * test rst: [0.00478, 0.7939, 0.6684, 0.7258, 0.8696]\n",
      "Epoch     6: reducing learning rate of group 0 to 2.5000e-04.\n",
      "Epoch     6: reducing learning rate of group 1 to 2.5000e-04.\n",
      "e_8 * test rst: [0.00458, 0.7078, 0.7908, 0.7470, 0.8710]\n",
      "e_9 * test rst: [0.00478, 0.7089, 0.7704, 0.7384, 0.8707]\n",
      "e_10 * test rst: [0.00477, 0.7394, 0.7092, 0.7240, 0.8712]\n",
      "e_11 * test rst: [0.00496, 0.8075, 0.6633, 0.7283, 0.8714]\n",
      "Epoch    10: reducing learning rate of group 0 to 1.2500e-04.\n",
      "Epoch    10: reducing learning rate of group 1 to 1.2500e-04.\n",
      "e_12 * test rst: [0.00450, 0.7005, 0.7755, 0.7361, 0.8721]\n",
      "e_13 * test rst: [0.00456, 0.7018, 0.7806, 0.7391, 0.8713]\n",
      "e_14 * test rst: [0.00460, 0.6875, 0.7857, 0.7333, 0.8728]\n",
      "e_15 * test rst: [0.00464, 0.6892, 0.7806, 0.7321, 0.8720]\n",
      "Epoch    14: reducing learning rate of group 0 to 6.2500e-05.\n",
      "Epoch    14: reducing learning rate of group 1 to 6.2500e-05.\n",
      "e_16 * test rst: [0.00455, 0.7037, 0.7755, 0.7379, 0.8729]\n",
      "e_17 * test rst: [0.00459, 0.7042, 0.7653, 0.7335, 0.8726]\n",
      "e_18 * test rst: [0.00460, 0.7136, 0.7755, 0.7433, 0.8724]\n",
      "e_19 * test rst: [0.00462, 0.7095, 0.7602, 0.7340, 0.8729]\n",
      "Epoch    18: reducing learning rate of group 0 to 3.1250e-05.\n",
      "Epoch    18: reducing learning rate of group 1 to 3.1250e-05.\n",
      "e_20 * test rst: [0.00461, 0.7056, 0.7704, 0.7366, 0.8729]\n",
      "training end, used 159.42 s\n",
      "(0.004612189580291033, 0.705607476635514, 0.7704081632653061, 0.7365853658536585, 0.8729494522604683)\n",
      "total label sum 219.0\n",
      "postive cnt:  188.0 562 0.33451957295373663\n",
      "cv, step 4\n",
      "4985 562\n",
      "init model\n",
      "training begin\n",
      "e_1 * test rst: [0.00542, 0.6525, 0.4556, 0.5366, 0.7834]\n",
      "e_2 * test rst: [0.00569, 0.5932, 0.6213, 0.6069, 0.7985]\n",
      "e_3 * test rst: [0.00644, 0.5168, 0.7278, 0.6044, 0.7945]\n",
      "Epoch     2: reducing learning rate of group 0 to 5.0000e-04.\n",
      "Epoch     2: reducing learning rate of group 1 to 5.0000e-04.\n",
      "e_4 * test rst: [0.00565, 0.7426, 0.4438, 0.5556, 0.8013]\n",
      "e_5 * test rst: [0.00616, 0.8193, 0.4024, 0.5397, 0.8010]\n",
      "e_6 * test rst: [0.00572, 0.7049, 0.5089, 0.5911, 0.8145]\n",
      "e_7 * test rst: [0.00599, 0.7407, 0.4734, 0.5776, 0.8132]\n",
      "Epoch     6: reducing learning rate of group 0 to 2.5000e-04.\n",
      "Epoch     6: reducing learning rate of group 1 to 2.5000e-04.\n",
      "e_8 * test rst: [0.00575, 0.7373, 0.5148, 0.6063, 0.8138]\n",
      "e_9 * test rst: [0.00566, 0.6752, 0.6272, 0.6503, 0.8136]\n",
      "e_10 * test rst: [0.00571, 0.6343, 0.6568, 0.6453, 0.8197]\n",
      "e_11 * test rst: [0.00548, 0.6628, 0.6746, 0.6686, 0.8235]\n",
      "Epoch    10: reducing learning rate of group 0 to 1.2500e-04.\n",
      "Epoch    10: reducing learning rate of group 1 to 1.2500e-04.\n",
      "e_12 * test rst: [0.00530, 0.6871, 0.6627, 0.6747, 0.8267]\n",
      "e_13 * test rst: [0.00526, 0.6852, 0.6568, 0.6707, 0.8283]\n",
      "e_14 * test rst: [0.00529, 0.6968, 0.6391, 0.6667, 0.8284]\n",
      "e_15 * test rst: [0.00525, 0.6987, 0.6450, 0.6708, 0.8294]\n",
      "Epoch    14: reducing learning rate of group 0 to 6.2500e-05.\n",
      "Epoch    14: reducing learning rate of group 1 to 6.2500e-05.\n",
      "e_16 * test rst: [0.00517, 0.7361, 0.6272, 0.6773, 0.8306]\n"
     ]
    },
    {
     "name": "stdout",
     "output_type": "stream",
     "text": [
      "e_17 * test rst: [0.00519, 0.7260, 0.6272, 0.6730, 0.8306]\n",
      "e_18 * test rst: [0.00523, 0.7376, 0.6154, 0.6710, 0.8308]\n",
      "e_19 * test rst: [0.00516, 0.7483, 0.6509, 0.6962, 0.8320]\n",
      "Epoch    18: reducing learning rate of group 0 to 3.1250e-05.\n",
      "Epoch    18: reducing learning rate of group 1 to 3.1250e-05.\n",
      "e_20 * test rst: [0.00516, 0.7310, 0.6272, 0.6752, 0.8315]\n",
      "training end, used 153.99 s\n",
      "(0.005164859266255674, 0.7310344827586207, 0.6272189349112426, 0.6751592356687898, 0.8314588132556424)\n",
      "total label sum 188.0\n",
      "postive cnt:  184.5 562 0.32829181494661924\n",
      "cv, step 5\n",
      "4985 562\n",
      "init model\n",
      "training begin\n",
      "e_1 * test rst: [0.00417, 0.6849, 0.6061, 0.6431, 0.8530]\n",
      "e_2 * test rst: [0.00400, 0.7389, 0.7030, 0.7205, 0.8716]\n",
      "e_3 * test rst: [0.00593, 0.5282, 0.9091, 0.6682, 0.8803]\n",
      "Epoch     2: reducing learning rate of group 0 to 5.0000e-04.\n",
      "Epoch     2: reducing learning rate of group 1 to 5.0000e-04.\n",
      "e_4 * test rst: [0.00386, 0.7412, 0.7636, 0.7522, 0.8755]\n",
      "e_5 * test rst: [0.00384, 0.7326, 0.7636, 0.7478, 0.8743]\n",
      "e_6 * test rst: [0.00422, 0.8095, 0.6182, 0.7010, 0.8664]\n",
      "e_7 * test rst: [0.00419, 0.7842, 0.6606, 0.7171, 0.8565]\n",
      "Epoch     6: reducing learning rate of group 0 to 2.5000e-04.\n",
      "Epoch     6: reducing learning rate of group 1 to 2.5000e-04.\n",
      "e_8 * test rst: [0.00403, 0.7660, 0.6545, 0.7059, 0.8660]\n",
      "e_9 * test rst: [0.00405, 0.7568, 0.6788, 0.7157, 0.8658]\n",
      "e_10 * test rst: [0.00405, 0.7346, 0.7212, 0.7278, 0.8682]\n",
      "e_11 * test rst: [0.00427, 0.6910, 0.7455, 0.7172, 0.8696]\n",
      "Epoch    10: reducing learning rate of group 0 to 1.2500e-04.\n",
      "Epoch    10: reducing learning rate of group 1 to 1.2500e-04.\n",
      "e_12 * test rst: [0.00406, 0.7052, 0.7394, 0.7219, 0.8716]\n",
      "e_13 * test rst: [0.00404, 0.7135, 0.7394, 0.7262, 0.8725]\n",
      "e_14 * test rst: [0.00406, 0.7333, 0.7333, 0.7333, 0.8720]\n",
      "e_15 * test rst: [0.00406, 0.7229, 0.7273, 0.7251, 0.8735]\n",
      "Epoch    14: reducing learning rate of group 0 to 6.2500e-05.\n",
      "Epoch    14: reducing learning rate of group 1 to 6.2500e-05.\n",
      "e_16 * test rst: [0.00405, 0.7453, 0.7273, 0.7362, 0.8733]\n",
      "e_17 * test rst: [0.00406, 0.7453, 0.7273, 0.7362, 0.8733]\n",
      "e_18 * test rst: [0.00409, 0.7273, 0.7273, 0.7273, 0.8747]\n",
      "e_19 * test rst: [0.00411, 0.7202, 0.7333, 0.7267, 0.8749]\n",
      "Epoch    18: reducing learning rate of group 0 to 3.1250e-05.\n",
      "Epoch    18: reducing learning rate of group 1 to 3.1250e-05.\n",
      "e_20 * test rst: [0.00409, 0.7246, 0.7333, 0.7289, 0.8743]\n",
      "training end, used 156.75 s\n",
      "(0.004091124119919814, 0.7245508982035929, 0.7333333333333333, 0.7289156626506026, 0.8742691397603236)\n",
      "total label sum 184.5\n",
      "0.004210808044746121,0.7142857142857143,0.7647058823529411,0.7386363636363635,0.8723544379583894\n",
      "0.004304189982676803,0.7349397590361446,0.7176470588235294,0.7261904761904763,0.8955246220625656\n",
      "0.004612189580291033,0.705607476635514,0.7704081632653061,0.7365853658536585,0.8729494522604683\n",
      "0.005164859266255674,0.7310344827586207,0.6272189349112426,0.6751592356687898,0.8314588132556424\n",
      "0.004091124119919814,0.7245508982035929,0.7333333333333333,0.7289156626506026,0.8742691397603236\n",
      "mean loss, prec, recall, f1, auc\n",
      "[0.004476634198777889, 0.7220836661839174, 0.7226626745372705, 0.7210974207999781, 0.869311293059478]\n",
      "mlt train ended\n",
      "0.720824,0.724138,0.722477,0.867098\n"
     ]
    }
   ],
   "source": [
    "args.num_embedding = 64\n",
    "args.cnn_out_c = 100\n",
    "args.rnn_out_f_n = 68\n",
    "\n",
    "args.rnn_num_directions = 2\n",
    "args.rnn_layers = 2\n",
    "args.window_sizes = [2, 3, 4, 5]\n",
    "args.EB_dp = 0.3\n",
    "args.FC_dp = 0.1\n",
    "\n",
    "args.use_new_loss = False\n",
    "args.use_cls_loss = False\n",
    "\n",
    "\n",
    "args.epochs = 20\n",
    "args.warmup_epoch = 0\n",
    "args.patience_epoch = 3\n",
    "\n",
    "args.learning_rate = 1e-3\n",
    "args.adam_epsilon = 1e-8\n",
    "args.weight_decay = 1e-4\n",
    "args.l2_weight_decay = 1e-4\n",
    "args.max_grad_norm = 5.0\n",
    "args.lr_reduce_factor = .5\n",
    "args.threshold = .5\n",
    "args.lr_cooldown = 2\n",
    "args.use_loss_sh = False\n",
    "args.is_iterare_info = True\n",
    "\n",
    "\n",
    "config = set_model_config(args)\n",
    "    \n",
    "    \n",
    "kf = KFold(n_splits=5)\n",
    "s_arr = []\n",
    "run_cls_df_l = []\n",
    "\n",
    "tar_feature = features_ann_1\n",
    "for idx, (train_dev_idx, test_idx) in enumerate(kf.split(tar_feature[1])):\n",
    "    cv_train_dev_ds, cv_test_ds = convert_features_to_dataset_cv_aug(tar_feature, train_dev_idx, features_ss_aug), \\\n",
    "                             convert_features_to_dataset_cv(tar_feature, test_idx)\n",
    "    \n",
    "    print('cv, step {}'.format(idx+1))\n",
    "    print(len(cv_train_dev_ds), len(cv_test_ds))\n",
    "    \n",
    "    train_dl = DataLoader(cv_train_dev_ds, batch_size=args.batch_size)\n",
    "    test_dl = DataLoader(cv_test_ds, batch_size=args.batch_size)\n",
    "\n",
    "\n",
    "    model = Base_Net(config).to(device)\n",
    "    model_init_w(model)\n",
    "    optimizer, scheduler = init_model_optimizer(model, args)\n",
    "    _ = train(model, optimizer, scheduler, train_dl, None, args, test_dl, False)\n",
    "\n",
    "\n",
    "    #test\n",
    "    pred_l, tru_l, S, pre_o = eval(model, test_dl, args, 'test')\n",
    "    _, _, _, f1, auc = S\n",
    "    print(S)\n",
    "    \n",
    "    s_arr.append(list(S))\n",
    "    \n",
    "    y_info = tar_feature[1].iloc[test_idx].copy()\n",
    "    y_info['pred'] = pred_l\n",
    "    y_info['prob'] = pre_o\n",
    "    run_cls_df_l.append(y_info)\n",
    "    print('total label sum', sum(y_info.label))\n",
    "    \n",
    "mer_pd_rst = pd.concat(run_cls_df_l)\n",
    "s_arr = np.array(s_arr)\n",
    "\n",
    "for r in s_arr:\n",
    "    print(','.join([str(i) for i in r]))\n",
    "\n",
    "\n",
    "print('mean loss, prec, recall, f1, auc')\n",
    "print(list(np.mean(s_arr, axis=0)))\n",
    "print('mlt train ended')\n",
    "\n",
    "tru_l = mer_pd_rst['label'].to_numpy()\n",
    "tru_l[tru_l==.5] = 0\n",
    "pred_l = mer_pd_rst['pred'].to_numpy()\n",
    "pred_l[pred_l==.5] = 0\n",
    "pred_l = pred_l.astype(int)\n",
    "precision, recall, f1, _ = \\\n",
    "                    precision_recall_fscore_support(tru_l, pred_l, average='binary',zero_division=1)\n",
    "auc_s = roc_auc_score(mer_pd_rst['label'].to_numpy(), mer_pd_rst['prob'].to_numpy())\n",
    "print('%f,%f,%f,%f' % (precision, recall, f1, auc_s))\n",
    "\n"
   ]
  },
  {
   "cell_type": "code",
   "execution_count": 15,
   "metadata": {},
   "outputs": [
    {
     "name": "stdout",
     "output_type": "stream",
     "text": [
      "config ----------------\n",
      "{'EB_dp': 0.3,\n",
      " 'FC_dp': 0.1,\n",
      " 'adam_epsilon': 1e-08,\n",
      " 'batch_size': 32,\n",
      " 'cnn_out_c': 100,\n",
      " 'device': device(type='cuda'),\n",
      " 'epochs': 20,\n",
      " 'l2_weight_decay': 0.0001,\n",
      " 'learning_rate': 0.001,\n",
      " 'lr_cooldown': 2,\n",
      " 'lr_reduce_factor': 0.5,\n",
      " 'max_grad_norm': 5.0,\n",
      " 'max_token_n': 54,\n",
      " 'not_x_feature': False,\n",
      " 'num_embedding': 64,\n",
      " 'num_words': 82949,\n",
      " 'patience_epoch': 3,\n",
      " 'rnn_layers': 2,\n",
      " 'rnn_num_directions': 2,\n",
      " 'rnn_out_f_n': 68,\n",
      " 'threshold': 0.5,\n",
      " 'use_new_loss': False,\n",
      " 'warmup_epoch': 0,\n",
      " 'weight_decay': 0.0001,\n",
      " 'window_sizes': [2, 3, 4, 5]}\n",
      "       ----------------\n",
      "init model\n",
      "training begin\n",
      "e_1 *\n",
      "saved checkpoint in /mnt/bal31/jhsu/home/git/renet2/models/Bst_abs_1.ckp_001\n",
      "e_2 *\n",
      "saved checkpoint in /mnt/bal31/jhsu/home/git/renet2/models/Bst_abs_1.ckp_002\n",
      "e_3 *\n",
      "Epoch     2: reducing learning rate of group 0 to 5.0000e-04.\n",
      "Epoch     2: reducing learning rate of group 1 to 5.0000e-04.\n",
      "saved checkpoint in /mnt/bal31/jhsu/home/git/renet2/models/Bst_abs_1.ckp_003\n",
      "e_4 *\n",
      "saved checkpoint in /mnt/bal31/jhsu/home/git/renet2/models/Bst_abs_1.ckp_004\n",
      "e_5 *\n",
      "saved checkpoint in /mnt/bal31/jhsu/home/git/renet2/models/Bst_abs_1.ckp_005\n",
      "e_6 *\n",
      "saved checkpoint in /mnt/bal31/jhsu/home/git/renet2/models/Bst_abs_1.ckp_006\n",
      "e_7 *\n",
      "Epoch     6: reducing learning rate of group 0 to 2.5000e-04.\n",
      "Epoch     6: reducing learning rate of group 1 to 2.5000e-04.\n",
      "saved checkpoint in /mnt/bal31/jhsu/home/git/renet2/models/Bst_abs_1.ckp_007\n",
      "e_8 *\n",
      "saved checkpoint in /mnt/bal31/jhsu/home/git/renet2/models/Bst_abs_1.ckp_008\n",
      "e_9 *\n",
      "saved checkpoint in /mnt/bal31/jhsu/home/git/renet2/models/Bst_abs_1.ckp_009\n",
      "e_10 *\n",
      "saved checkpoint in /mnt/bal31/jhsu/home/git/renet2/models/Bst_abs_1.ckp_010\n",
      "e_11 *\n",
      "Epoch    10: reducing learning rate of group 0 to 1.2500e-04.\n",
      "Epoch    10: reducing learning rate of group 1 to 1.2500e-04.\n",
      "saved checkpoint in /mnt/bal31/jhsu/home/git/renet2/models/Bst_abs_1.ckp_011\n",
      "e_12 *\n",
      "saved checkpoint in /mnt/bal31/jhsu/home/git/renet2/models/Bst_abs_1.ckp_012\n",
      "e_13 *\n",
      "saved checkpoint in /mnt/bal31/jhsu/home/git/renet2/models/Bst_abs_1.ckp_013\n",
      "e_14 *\n",
      "saved checkpoint in /mnt/bal31/jhsu/home/git/renet2/models/Bst_abs_1.ckp_014\n",
      "e_15 *\n",
      "Epoch    14: reducing learning rate of group 0 to 6.2500e-05.\n",
      "Epoch    14: reducing learning rate of group 1 to 6.2500e-05.\n",
      "saved checkpoint in /mnt/bal31/jhsu/home/git/renet2/models/Bst_abs_1.ckp_015\n",
      "e_16 *\n",
      "saved checkpoint in /mnt/bal31/jhsu/home/git/renet2/models/Bst_abs_1.ckp_016\n",
      "e_17 *\n",
      "saved checkpoint in /mnt/bal31/jhsu/home/git/renet2/models/Bst_abs_1.ckp_017\n",
      "e_18 *\n",
      "saved checkpoint in /mnt/bal31/jhsu/home/git/renet2/models/Bst_abs_1.ckp_018\n",
      "e_19 *\n",
      "Epoch    18: reducing learning rate of group 0 to 3.1250e-05.\n",
      "Epoch    18: reducing learning rate of group 1 to 3.1250e-05.\n",
      "saved checkpoint in /mnt/bal31/jhsu/home/git/renet2/models/Bst_abs_1.ckp_019\n",
      "e_20 *\n",
      "saved checkpoint in /mnt/bal31/jhsu/home/git/renet2/models/Bst_abs_1.ckp_020\n",
      "saved checkpoint in /mnt/bal31/jhsu/home/git/renet2/models/Bst_abs_1.ckp\n",
      "training end, used 189.17 s\n"
     ]
    }
   ],
   "source": [
    "args.num_embedding = 64\n",
    "args.cnn_out_c = 100\n",
    "args.rnn_out_f_n = 68\n",
    "\n",
    "args.rnn_num_directions = 2\n",
    "args.rnn_layers = 2\n",
    "args.window_sizes = [2, 3, 4, 5]\n",
    "args.EB_dp = 0.3\n",
    "args.FC_dp = 0.1\n",
    "\n",
    "args.use_new_loss = False\n",
    "args.use_cls_loss = False\n",
    "\n",
    "\n",
    "args.epochs = 20\n",
    "args.warmup_epoch = 0\n",
    "args.patience_epoch = 3\n",
    "\n",
    "args.learning_rate = 1e-3\n",
    "args.adam_epsilon = 1e-8\n",
    "args.weight_decay = 1e-4\n",
    "args.l2_weight_decay = 1e-4\n",
    "args.max_grad_norm = 5.0\n",
    "args.lr_reduce_factor = .5\n",
    "args.threshold = .5\n",
    "args.lr_cooldown = 2\n",
    "args.use_loss_sh = False\n",
    "args.is_iterare_info = True\n",
    "\n",
    "\n",
    "args.modle_dir = '/mnt/bal31/jhsu/home/git/renet2/models'\n",
    "model_name_prefix = 'Bst_abs_1'\n",
    "args.checkpoint_f = os.path.join(args.modle_dir, model_name_prefix + \".ckp\")\n",
    "args.config_save_f = os.path.join(args.modle_dir,  model_name_prefix + \".cf\")\n",
    "\n",
    "\n",
    "config = set_model_config(args)\n",
    "torch.save(config, args.config_save_f)\n",
    "\n",
    "model = Base_Net(config).to(device)\n",
    "model_init_w(model)\n",
    "optimizer, scheduler = init_model_optimizer(model, args)\n",
    "\n",
    "train_dt, dev_dt, test_dt = dataloader_merge, None, None\n",
    "\n",
    "_ = train(model, optimizer, scheduler, train_dt, dev_dt, args, test_dt, True)"
   ]
  },
  {
   "cell_type": "code",
   "execution_count": 14,
   "metadata": {},
   "outputs": [
    {
     "name": "stdout",
     "output_type": "stream",
     "text": [
      "config ----------------\n",
      "{'EB_dp': 0.3,\n",
      " 'FC_dp': 0.1,\n",
      " 'adam_epsilon': 1e-08,\n",
      " 'batch_size': 32,\n",
      " 'cnn_out_c': 100,\n",
      " 'device': device(type='cuda'),\n",
      " 'epochs': 20,\n",
      " 'l2_weight_decay': 0.0001,\n",
      " 'learning_rate': 0.001,\n",
      " 'lr_cooldown': 2,\n",
      " 'lr_reduce_factor': 0.5,\n",
      " 'max_grad_norm': 5.0,\n",
      " 'max_token_n': 54,\n",
      " 'not_x_feature': False,\n",
      " 'num_embedding': 64,\n",
      " 'num_words': 82949,\n",
      " 'patience_epoch': 3,\n",
      " 'rnn_layers': 2,\n",
      " 'rnn_num_directions': 2,\n",
      " 'rnn_out_f_n': 68,\n",
      " 'threshold': 0.5,\n",
      " 'use_new_loss': False,\n",
      " 'warmup_epoch': 0,\n",
      " 'weight_decay': 0.0001,\n",
      " 'window_sizes': [2, 3, 4, 5]}\n",
      "       ----------------\n",
      "init model\n",
      "training begin\n",
      "e_1 *\n",
      "e_2 *\n",
      "e_3 *\n",
      "Epoch     2: reducing learning rate of group 0 to 5.0000e-04.\n",
      "Epoch     2: reducing learning rate of group 1 to 5.0000e-04.\n",
      "e_4 *\n",
      "e_5 *\n",
      "e_6 *\n",
      "e_7 *\n",
      "Epoch     6: reducing learning rate of group 0 to 2.5000e-04.\n",
      "Epoch     6: reducing learning rate of group 1 to 2.5000e-04.\n",
      "e_8 *\n",
      "e_9 *\n",
      "e_10 *\n",
      "e_11 *\n",
      "Epoch    10: reducing learning rate of group 0 to 1.2500e-04.\n",
      "Epoch    10: reducing learning rate of group 1 to 1.2500e-04.\n",
      "e_12 *\n",
      "e_13 *\n",
      "e_14 *\n",
      "e_15 *\n",
      "Epoch    14: reducing learning rate of group 0 to 6.2500e-05.\n",
      "Epoch    14: reducing learning rate of group 1 to 6.2500e-05.\n",
      "e_16 *\n",
      "e_17 *\n",
      "e_18 *\n",
      "e_19 *\n",
      "Epoch    18: reducing learning rate of group 0 to 3.1250e-05.\n",
      "Epoch    18: reducing learning rate of group 1 to 3.1250e-05.\n",
      "e_20 *\n",
      "saved checkpoint in /mnt/bal31/jhsu/home/git/renet2/models/Bst_abs_01.ckp\n",
      "training end, used 164.73 s\n",
      "config ----------------\n",
      "{'EB_dp': 0.3,\n",
      " 'FC_dp': 0.1,\n",
      " 'adam_epsilon': 1e-08,\n",
      " 'batch_size': 32,\n",
      " 'cnn_out_c': 100,\n",
      " 'device': device(type='cuda'),\n",
      " 'epochs': 20,\n",
      " 'l2_weight_decay': 0.0001,\n",
      " 'learning_rate': 0.001,\n",
      " 'lr_cooldown': 2,\n",
      " 'lr_reduce_factor': 0.5,\n",
      " 'max_grad_norm': 5.0,\n",
      " 'max_token_n': 54,\n",
      " 'not_x_feature': False,\n",
      " 'num_embedding': 64,\n",
      " 'num_words': 82949,\n",
      " 'patience_epoch': 3,\n",
      " 'rnn_layers': 2,\n",
      " 'rnn_num_directions': 2,\n",
      " 'rnn_out_f_n': 68,\n",
      " 'threshold': 0.5,\n",
      " 'use_new_loss': False,\n",
      " 'warmup_epoch': 0,\n",
      " 'weight_decay': 0.0001,\n",
      " 'window_sizes': [2, 3, 4, 5]}\n",
      "       ----------------\n",
      "init model\n",
      "training begin\n",
      "e_1 *\n",
      "e_2 *\n",
      "e_3 *\n",
      "Epoch     2: reducing learning rate of group 0 to 5.0000e-04.\n",
      "Epoch     2: reducing learning rate of group 1 to 5.0000e-04.\n",
      "e_4 *\n",
      "e_5 *\n",
      "e_6 *\n",
      "e_7 *\n",
      "Epoch     6: reducing learning rate of group 0 to 2.5000e-04.\n",
      "Epoch     6: reducing learning rate of group 1 to 2.5000e-04.\n",
      "e_8 *\n",
      "e_9 *\n",
      "e_10 *\n",
      "e_11 *\n",
      "Epoch    10: reducing learning rate of group 0 to 1.2500e-04.\n",
      "Epoch    10: reducing learning rate of group 1 to 1.2500e-04.\n",
      "e_12 *\n",
      "e_13 *\n",
      "e_14 *\n",
      "e_15 *\n",
      "Epoch    14: reducing learning rate of group 0 to 6.2500e-05.\n",
      "Epoch    14: reducing learning rate of group 1 to 6.2500e-05.\n",
      "e_16 *\n",
      "e_17 *\n",
      "e_18 *\n",
      "e_19 *\n",
      "Epoch    18: reducing learning rate of group 0 to 3.1250e-05.\n",
      "Epoch    18: reducing learning rate of group 1 to 3.1250e-05.\n",
      "e_20 *\n",
      "saved checkpoint in /mnt/bal31/jhsu/home/git/renet2/models/Bst_abs_02.ckp\n",
      "training end, used 161.17 s\n",
      "config ----------------\n",
      "{'EB_dp': 0.3,\n",
      " 'FC_dp': 0.1,\n",
      " 'adam_epsilon': 1e-08,\n",
      " 'batch_size': 32,\n",
      " 'cnn_out_c': 100,\n",
      " 'device': device(type='cuda'),\n",
      " 'epochs': 20,\n",
      " 'l2_weight_decay': 0.0001,\n",
      " 'learning_rate': 0.001,\n",
      " 'lr_cooldown': 2,\n",
      " 'lr_reduce_factor': 0.5,\n",
      " 'max_grad_norm': 5.0,\n",
      " 'max_token_n': 54,\n",
      " 'not_x_feature': False,\n",
      " 'num_embedding': 64,\n",
      " 'num_words': 82949,\n",
      " 'patience_epoch': 3,\n",
      " 'rnn_layers': 2,\n",
      " 'rnn_num_directions': 2,\n",
      " 'rnn_out_f_n': 68,\n",
      " 'threshold': 0.5,\n",
      " 'use_new_loss': False,\n",
      " 'warmup_epoch': 0,\n",
      " 'weight_decay': 0.0001,\n",
      " 'window_sizes': [2, 3, 4, 5]}\n",
      "       ----------------\n",
      "init model\n",
      "training begin\n",
      "e_1 *\n",
      "e_2 *\n",
      "e_3 *\n",
      "Epoch     2: reducing learning rate of group 0 to 5.0000e-04.\n",
      "Epoch     2: reducing learning rate of group 1 to 5.0000e-04.\n",
      "e_4 *\n",
      "e_5 *\n",
      "e_6 *\n",
      "e_7 *\n",
      "Epoch     6: reducing learning rate of group 0 to 2.5000e-04.\n",
      "Epoch     6: reducing learning rate of group 1 to 2.5000e-04.\n",
      "e_8 *\n",
      "e_9 *\n",
      "e_10 *\n",
      "e_11 *\n",
      "Epoch    10: reducing learning rate of group 0 to 1.2500e-04.\n",
      "Epoch    10: reducing learning rate of group 1 to 1.2500e-04.\n",
      "e_12 *\n",
      "e_13 *\n",
      "e_14 *\n",
      "e_15 *\n",
      "Epoch    14: reducing learning rate of group 0 to 6.2500e-05.\n",
      "Epoch    14: reducing learning rate of group 1 to 6.2500e-05.\n",
      "e_16 *\n",
      "e_17 *\n",
      "e_18 *\n",
      "e_19 *\n",
      "Epoch    18: reducing learning rate of group 0 to 3.1250e-05.\n",
      "Epoch    18: reducing learning rate of group 1 to 3.1250e-05.\n",
      "e_20 *\n",
      "saved checkpoint in /mnt/bal31/jhsu/home/git/renet2/models/Bst_abs_03.ckp\n",
      "training end, used 161.04 s\n",
      "config ----------------\n",
      "{'EB_dp': 0.3,\n",
      " 'FC_dp': 0.1,\n",
      " 'adam_epsilon': 1e-08,\n",
      " 'batch_size': 32,\n",
      " 'cnn_out_c': 100,\n",
      " 'device': device(type='cuda'),\n",
      " 'epochs': 20,\n",
      " 'l2_weight_decay': 0.0001,\n",
      " 'learning_rate': 0.001,\n",
      " 'lr_cooldown': 2,\n",
      " 'lr_reduce_factor': 0.5,\n",
      " 'max_grad_norm': 5.0,\n",
      " 'max_token_n': 54,\n",
      " 'not_x_feature': False,\n",
      " 'num_embedding': 64,\n",
      " 'num_words': 82949,\n",
      " 'patience_epoch': 3,\n",
      " 'rnn_layers': 2,\n",
      " 'rnn_num_directions': 2,\n",
      " 'rnn_out_f_n': 68,\n",
      " 'threshold': 0.5,\n",
      " 'use_new_loss': False,\n",
      " 'warmup_epoch': 0,\n",
      " 'weight_decay': 0.0001,\n",
      " 'window_sizes': [2, 3, 4, 5]}\n",
      "       ----------------\n",
      "init model\n",
      "training begin\n",
      "e_1 *\n",
      "e_2 *\n",
      "e_3 *\n",
      "Epoch     2: reducing learning rate of group 0 to 5.0000e-04.\n",
      "Epoch     2: reducing learning rate of group 1 to 5.0000e-04.\n",
      "e_4 *\n",
      "e_5 *\n",
      "e_6 *\n",
      "e_7 *\n",
      "Epoch     6: reducing learning rate of group 0 to 2.5000e-04.\n",
      "Epoch     6: reducing learning rate of group 1 to 2.5000e-04.\n",
      "e_8 *\n",
      "e_9 *\n",
      "e_10 *\n",
      "e_11 *\n",
      "Epoch    10: reducing learning rate of group 0 to 1.2500e-04.\n",
      "Epoch    10: reducing learning rate of group 1 to 1.2500e-04.\n",
      "e_12 *\n",
      "e_13 *\n",
      "e_14 *\n",
      "e_15 *\n",
      "Epoch    14: reducing learning rate of group 0 to 6.2500e-05.\n",
      "Epoch    14: reducing learning rate of group 1 to 6.2500e-05.\n",
      "e_16 *\n",
      "e_17 *\n",
      "e_18 *\n",
      "e_19 *\n",
      "Epoch    18: reducing learning rate of group 0 to 3.1250e-05.\n",
      "Epoch    18: reducing learning rate of group 1 to 3.1250e-05.\n",
      "e_20 *\n",
      "saved checkpoint in /mnt/bal31/jhsu/home/git/renet2/models/Bst_abs_04.ckp\n",
      "training end, used 162.18 s\n",
      "config ----------------\n",
      "{'EB_dp': 0.3,\n",
      " 'FC_dp': 0.1,\n",
      " 'adam_epsilon': 1e-08,\n",
      " 'batch_size': 32,\n",
      " 'cnn_out_c': 100,\n",
      " 'device': device(type='cuda'),\n",
      " 'epochs': 20,\n",
      " 'l2_weight_decay': 0.0001,\n",
      " 'learning_rate': 0.001,\n",
      " 'lr_cooldown': 2,\n",
      " 'lr_reduce_factor': 0.5,\n",
      " 'max_grad_norm': 5.0,\n",
      " 'max_token_n': 54,\n",
      " 'not_x_feature': False,\n",
      " 'num_embedding': 64,\n",
      " 'num_words': 82949,\n",
      " 'patience_epoch': 3,\n",
      " 'rnn_layers': 2,\n",
      " 'rnn_num_directions': 2,\n",
      " 'rnn_out_f_n': 68,\n",
      " 'threshold': 0.5,\n",
      " 'use_new_loss': False,\n",
      " 'warmup_epoch': 0,\n",
      " 'weight_decay': 0.0001,\n",
      " 'window_sizes': [2, 3, 4, 5]}\n",
      "       ----------------\n",
      "init model\n",
      "training begin\n",
      "e_1 *\n",
      "e_2 *\n",
      "e_3 *\n",
      "Epoch     2: reducing learning rate of group 0 to 5.0000e-04.\n",
      "Epoch     2: reducing learning rate of group 1 to 5.0000e-04.\n",
      "e_4 *\n",
      "e_5 *\n",
      "e_6 *\n",
      "e_7 *\n",
      "Epoch     6: reducing learning rate of group 0 to 2.5000e-04.\n",
      "Epoch     6: reducing learning rate of group 1 to 2.5000e-04.\n",
      "e_8 *\n",
      "e_9 *\n",
      "e_10 *\n",
      "e_11 *\n",
      "Epoch    10: reducing learning rate of group 0 to 1.2500e-04.\n",
      "Epoch    10: reducing learning rate of group 1 to 1.2500e-04.\n",
      "e_12 *\n",
      "e_13 *\n",
      "e_14 *\n",
      "e_15 *\n",
      "Epoch    14: reducing learning rate of group 0 to 6.2500e-05.\n",
      "Epoch    14: reducing learning rate of group 1 to 6.2500e-05.\n",
      "e_16 *\n",
      "e_17 *\n",
      "e_18 *\n",
      "e_19 *\n",
      "Epoch    18: reducing learning rate of group 0 to 3.1250e-05.\n",
      "Epoch    18: reducing learning rate of group 1 to 3.1250e-05.\n",
      "e_20 *\n",
      "saved checkpoint in /mnt/bal31/jhsu/home/git/renet2/models/Bst_abs_05.ckp\n",
      "training end, used 161.14 s\n",
      "config ----------------\n",
      "{'EB_dp': 0.3,\n",
      " 'FC_dp': 0.1,\n",
      " 'adam_epsilon': 1e-08,\n",
      " 'batch_size': 32,\n",
      " 'cnn_out_c': 100,\n",
      " 'device': device(type='cuda'),\n",
      " 'epochs': 20,\n",
      " 'l2_weight_decay': 0.0001,\n",
      " 'learning_rate': 0.001,\n",
      " 'lr_cooldown': 2,\n",
      " 'lr_reduce_factor': 0.5,\n",
      " 'max_grad_norm': 5.0,\n",
      " 'max_token_n': 54,\n",
      " 'not_x_feature': False,\n",
      " 'num_embedding': 64,\n",
      " 'num_words': 82949,\n",
      " 'patience_epoch': 3,\n",
      " 'rnn_layers': 2,\n",
      " 'rnn_num_directions': 2,\n",
      " 'rnn_out_f_n': 68,\n",
      " 'threshold': 0.5,\n",
      " 'use_new_loss': False,\n",
      " 'warmup_epoch': 0,\n",
      " 'weight_decay': 0.0001,\n",
      " 'window_sizes': [2, 3, 4, 5]}\n",
      "       ----------------\n",
      "init model\n",
      "training begin\n",
      "e_1 *\n",
      "e_2 *\n",
      "e_3 *\n",
      "Epoch     2: reducing learning rate of group 0 to 5.0000e-04.\n",
      "Epoch     2: reducing learning rate of group 1 to 5.0000e-04.\n",
      "e_4 *\n",
      "e_5 *\n",
      "e_6 *\n",
      "e_7 *\n",
      "Epoch     6: reducing learning rate of group 0 to 2.5000e-04.\n",
      "Epoch     6: reducing learning rate of group 1 to 2.5000e-04.\n"
     ]
    },
    {
     "name": "stdout",
     "output_type": "stream",
     "text": [
      "e_8 *\n",
      "e_9 *\n",
      "e_10 *\n",
      "e_11 *\n",
      "Epoch    10: reducing learning rate of group 0 to 1.2500e-04.\n",
      "Epoch    10: reducing learning rate of group 1 to 1.2500e-04.\n",
      "e_12 *\n",
      "e_13 *\n",
      "e_14 *\n",
      "e_15 *\n",
      "Epoch    14: reducing learning rate of group 0 to 6.2500e-05.\n",
      "Epoch    14: reducing learning rate of group 1 to 6.2500e-05.\n",
      "e_16 *\n",
      "e_17 *\n",
      "e_18 *\n",
      "e_19 *\n",
      "Epoch    18: reducing learning rate of group 0 to 3.1250e-05.\n",
      "Epoch    18: reducing learning rate of group 1 to 3.1250e-05.\n",
      "e_20 *\n",
      "saved checkpoint in /mnt/bal31/jhsu/home/git/renet2/models/Bst_abs_06.ckp\n",
      "training end, used 159.31 s\n",
      "config ----------------\n",
      "{'EB_dp': 0.3,\n",
      " 'FC_dp': 0.1,\n",
      " 'adam_epsilon': 1e-08,\n",
      " 'batch_size': 32,\n",
      " 'cnn_out_c': 100,\n",
      " 'device': device(type='cuda'),\n",
      " 'epochs': 20,\n",
      " 'l2_weight_decay': 0.0001,\n",
      " 'learning_rate': 0.001,\n",
      " 'lr_cooldown': 2,\n",
      " 'lr_reduce_factor': 0.5,\n",
      " 'max_grad_norm': 5.0,\n",
      " 'max_token_n': 54,\n",
      " 'not_x_feature': False,\n",
      " 'num_embedding': 64,\n",
      " 'num_words': 82949,\n",
      " 'patience_epoch': 3,\n",
      " 'rnn_layers': 2,\n",
      " 'rnn_num_directions': 2,\n",
      " 'rnn_out_f_n': 68,\n",
      " 'threshold': 0.5,\n",
      " 'use_new_loss': False,\n",
      " 'warmup_epoch': 0,\n",
      " 'weight_decay': 0.0001,\n",
      " 'window_sizes': [2, 3, 4, 5]}\n",
      "       ----------------\n",
      "init model\n",
      "training begin\n",
      "e_1 *\n",
      "e_2 *\n",
      "e_3 *\n",
      "Epoch     2: reducing learning rate of group 0 to 5.0000e-04.\n",
      "Epoch     2: reducing learning rate of group 1 to 5.0000e-04.\n",
      "e_4 *\n",
      "e_5 *\n",
      "e_6 *\n",
      "e_7 *\n",
      "Epoch     6: reducing learning rate of group 0 to 2.5000e-04.\n",
      "Epoch     6: reducing learning rate of group 1 to 2.5000e-04.\n",
      "e_8 *\n",
      "e_9 *\n",
      "e_10 *\n",
      "e_11 *\n",
      "Epoch    10: reducing learning rate of group 0 to 1.2500e-04.\n",
      "Epoch    10: reducing learning rate of group 1 to 1.2500e-04.\n",
      "e_12 *\n",
      "e_13 *\n",
      "e_14 *\n",
      "e_15 *\n",
      "Epoch    14: reducing learning rate of group 0 to 6.2500e-05.\n",
      "Epoch    14: reducing learning rate of group 1 to 6.2500e-05.\n",
      "e_16 *\n",
      "e_17 *\n",
      "e_18 *\n",
      "e_19 *\n",
      "Epoch    18: reducing learning rate of group 0 to 3.1250e-05.\n",
      "Epoch    18: reducing learning rate of group 1 to 3.1250e-05.\n",
      "e_20 *\n",
      "saved checkpoint in /mnt/bal31/jhsu/home/git/renet2/models/Bst_abs_07.ckp\n",
      "training end, used 162.83 s\n",
      "config ----------------\n",
      "{'EB_dp': 0.3,\n",
      " 'FC_dp': 0.1,\n",
      " 'adam_epsilon': 1e-08,\n",
      " 'batch_size': 32,\n",
      " 'cnn_out_c': 100,\n",
      " 'device': device(type='cuda'),\n",
      " 'epochs': 20,\n",
      " 'l2_weight_decay': 0.0001,\n",
      " 'learning_rate': 0.001,\n",
      " 'lr_cooldown': 2,\n",
      " 'lr_reduce_factor': 0.5,\n",
      " 'max_grad_norm': 5.0,\n",
      " 'max_token_n': 54,\n",
      " 'not_x_feature': False,\n",
      " 'num_embedding': 64,\n",
      " 'num_words': 82949,\n",
      " 'patience_epoch': 3,\n",
      " 'rnn_layers': 2,\n",
      " 'rnn_num_directions': 2,\n",
      " 'rnn_out_f_n': 68,\n",
      " 'threshold': 0.5,\n",
      " 'use_new_loss': False,\n",
      " 'warmup_epoch': 0,\n",
      " 'weight_decay': 0.0001,\n",
      " 'window_sizes': [2, 3, 4, 5]}\n",
      "       ----------------\n",
      "init model\n",
      "training begin\n",
      "e_1 *\n",
      "e_2 *\n",
      "e_3 *\n",
      "Epoch     2: reducing learning rate of group 0 to 5.0000e-04.\n",
      "Epoch     2: reducing learning rate of group 1 to 5.0000e-04.\n",
      "e_4 *\n",
      "e_5 *\n",
      "e_6 *\n",
      "e_7 *\n",
      "Epoch     6: reducing learning rate of group 0 to 2.5000e-04.\n",
      "Epoch     6: reducing learning rate of group 1 to 2.5000e-04.\n",
      "e_8 *\n",
      "e_9 *\n",
      "e_10 *\n",
      "e_11 *\n",
      "Epoch    10: reducing learning rate of group 0 to 1.2500e-04.\n",
      "Epoch    10: reducing learning rate of group 1 to 1.2500e-04.\n",
      "e_12 *\n",
      "e_13 *\n",
      "e_14 *\n",
      "e_15 *\n",
      "Epoch    14: reducing learning rate of group 0 to 6.2500e-05.\n",
      "Epoch    14: reducing learning rate of group 1 to 6.2500e-05.\n",
      "e_16 *\n",
      "e_17 *\n",
      "e_18 *\n",
      "e_19 *\n",
      "Epoch    18: reducing learning rate of group 0 to 3.1250e-05.\n",
      "Epoch    18: reducing learning rate of group 1 to 3.1250e-05.\n",
      "e_20 *\n",
      "saved checkpoint in /mnt/bal31/jhsu/home/git/renet2/models/Bst_abs_08.ckp\n",
      "training end, used 161.16 s\n",
      "config ----------------\n",
      "{'EB_dp': 0.3,\n",
      " 'FC_dp': 0.1,\n",
      " 'adam_epsilon': 1e-08,\n",
      " 'batch_size': 32,\n",
      " 'cnn_out_c': 100,\n",
      " 'device': device(type='cuda'),\n",
      " 'epochs': 20,\n",
      " 'l2_weight_decay': 0.0001,\n",
      " 'learning_rate': 0.001,\n",
      " 'lr_cooldown': 2,\n",
      " 'lr_reduce_factor': 0.5,\n",
      " 'max_grad_norm': 5.0,\n",
      " 'max_token_n': 54,\n",
      " 'not_x_feature': False,\n",
      " 'num_embedding': 64,\n",
      " 'num_words': 82949,\n",
      " 'patience_epoch': 3,\n",
      " 'rnn_layers': 2,\n",
      " 'rnn_num_directions': 2,\n",
      " 'rnn_out_f_n': 68,\n",
      " 'threshold': 0.5,\n",
      " 'use_new_loss': False,\n",
      " 'warmup_epoch': 0,\n",
      " 'weight_decay': 0.0001,\n",
      " 'window_sizes': [2, 3, 4, 5]}\n",
      "       ----------------\n",
      "init model\n",
      "training begin\n",
      "e_1 *\n",
      "e_2 *\n",
      "e_3 *\n",
      "Epoch     2: reducing learning rate of group 0 to 5.0000e-04.\n",
      "Epoch     2: reducing learning rate of group 1 to 5.0000e-04.\n",
      "e_4 *\n",
      "e_5 *\n",
      "e_6 *\n",
      "e_7 *\n",
      "Epoch     6: reducing learning rate of group 0 to 2.5000e-04.\n",
      "Epoch     6: reducing learning rate of group 1 to 2.5000e-04.\n",
      "e_8 *\n",
      "e_9 *\n",
      "e_10 *\n",
      "e_11 *\n",
      "Epoch    10: reducing learning rate of group 0 to 1.2500e-04.\n",
      "Epoch    10: reducing learning rate of group 1 to 1.2500e-04.\n",
      "e_12 *\n",
      "e_13 *\n",
      "e_14 *\n",
      "e_15 *\n",
      "Epoch    14: reducing learning rate of group 0 to 6.2500e-05.\n",
      "Epoch    14: reducing learning rate of group 1 to 6.2500e-05.\n",
      "e_16 *\n",
      "e_17 *\n",
      "e_18 *\n",
      "e_19 *\n",
      "Epoch    18: reducing learning rate of group 0 to 3.1250e-05.\n",
      "Epoch    18: reducing learning rate of group 1 to 3.1250e-05.\n",
      "e_20 *\n",
      "saved checkpoint in /mnt/bal31/jhsu/home/git/renet2/models/Bst_abs_09.ckp\n",
      "training end, used 161.94 s\n",
      "config ----------------\n",
      "{'EB_dp': 0.3,\n",
      " 'FC_dp': 0.1,\n",
      " 'adam_epsilon': 1e-08,\n",
      " 'batch_size': 32,\n",
      " 'cnn_out_c': 100,\n",
      " 'device': device(type='cuda'),\n",
      " 'epochs': 20,\n",
      " 'l2_weight_decay': 0.0001,\n",
      " 'learning_rate': 0.001,\n",
      " 'lr_cooldown': 2,\n",
      " 'lr_reduce_factor': 0.5,\n",
      " 'max_grad_norm': 5.0,\n",
      " 'max_token_n': 54,\n",
      " 'not_x_feature': False,\n",
      " 'num_embedding': 64,\n",
      " 'num_words': 82949,\n",
      " 'patience_epoch': 3,\n",
      " 'rnn_layers': 2,\n",
      " 'rnn_num_directions': 2,\n",
      " 'rnn_out_f_n': 68,\n",
      " 'threshold': 0.5,\n",
      " 'use_new_loss': False,\n",
      " 'warmup_epoch': 0,\n",
      " 'weight_decay': 0.0001,\n",
      " 'window_sizes': [2, 3, 4, 5]}\n",
      "       ----------------\n",
      "init model\n",
      "training begin\n",
      "e_1 *\n",
      "e_2 *\n",
      "e_3 *\n",
      "Epoch     2: reducing learning rate of group 0 to 5.0000e-04.\n",
      "Epoch     2: reducing learning rate of group 1 to 5.0000e-04.\n",
      "e_4 *\n",
      "e_5 *\n",
      "e_6 *\n",
      "e_7 *\n",
      "Epoch     6: reducing learning rate of group 0 to 2.5000e-04.\n",
      "Epoch     6: reducing learning rate of group 1 to 2.5000e-04.\n",
      "e_8 *\n",
      "e_9 *\n",
      "e_10 *\n",
      "e_11 *\n",
      "Epoch    10: reducing learning rate of group 0 to 1.2500e-04.\n",
      "Epoch    10: reducing learning rate of group 1 to 1.2500e-04.\n",
      "e_12 *\n",
      "e_13 *\n",
      "e_14 *\n",
      "e_15 *\n",
      "Epoch    14: reducing learning rate of group 0 to 6.2500e-05.\n",
      "Epoch    14: reducing learning rate of group 1 to 6.2500e-05.\n",
      "e_16 *\n",
      "e_17 *\n",
      "e_18 *\n",
      "e_19 *\n",
      "Epoch    18: reducing learning rate of group 0 to 3.1250e-05.\n",
      "Epoch    18: reducing learning rate of group 1 to 3.1250e-05.\n",
      "e_20 *\n",
      "saved checkpoint in /mnt/bal31/jhsu/home/git/renet2/models/Bst_abs_10.ckp\n",
      "training end, used 160.26 s\n"
     ]
    }
   ],
   "source": [
    "for _model_idx in range(10):\n",
    "    args.num_embedding = 64\n",
    "    args.cnn_out_c = 100\n",
    "    args.rnn_out_f_n = 68\n",
    "\n",
    "    args.rnn_num_directions = 2\n",
    "    args.rnn_layers = 2\n",
    "    args.window_sizes = [2, 3, 4, 5]\n",
    "    args.EB_dp = 0.3\n",
    "    args.FC_dp = 0.1\n",
    "\n",
    "    args.use_new_loss = False\n",
    "    args.use_cls_loss = False\n",
    "\n",
    "\n",
    "    args.epochs = 20\n",
    "    args.warmup_epoch = 0\n",
    "    args.patience_epoch = 3\n",
    "\n",
    "    args.learning_rate = 1e-3\n",
    "    args.adam_epsilon = 1e-8\n",
    "    args.weight_decay = 1e-4\n",
    "    args.l2_weight_decay = 1e-4\n",
    "    args.max_grad_norm = 5.0\n",
    "    args.lr_reduce_factor = .5\n",
    "    args.threshold = .5\n",
    "    args.lr_cooldown = 2\n",
    "    args.use_loss_sh = False\n",
    "    args.is_iterare_info = True\n",
    "\n",
    "\n",
    "    args.modle_dir = '/mnt/bal31/jhsu/home/git/renet2/models'\n",
    "    model_name_prefix = 'Bst_abs_' + '%02d' % (_model_idx + 1)\n",
    "    args.checkpoint_f = os.path.join(args.modle_dir, model_name_prefix + \".ckp\")\n",
    "    args.config_save_f = os.path.join(args.modle_dir,  model_name_prefix + \".cf\")\n",
    "\n",
    "\n",
    "    config = set_model_config(args)\n",
    "    torch.save(config, args.config_save_f)\n",
    "\n",
    "    model = Base_Net(config).to(device)\n",
    "    model_init_w(model)\n",
    "    optimizer, scheduler = init_model_optimizer(model, args)\n",
    "\n",
    "    train_dt, dev_dt, test_dt = dataloader_merge, None, None\n",
    "\n",
    "    _ = train(model, optimizer, scheduler, train_dt, dev_dt, args, test_dt, True)"
   ]
  },
  {
   "cell_type": "code",
   "execution_count": null,
   "metadata": {},
   "outputs": [],
   "source": []
  }
 ],
 "metadata": {
  "kernelspec": {
   "display_name": "Python [conda env:renet2]",
   "language": "python",
   "name": "conda-env-renet2-py"
  },
  "language_info": {
   "codemirror_mode": {
    "name": "ipython",
    "version": 3
   },
   "file_extension": ".py",
   "mimetype": "text/x-python",
   "name": "python",
   "nbconvert_exporter": "python",
   "pygments_lexer": "ipython3",
   "version": "3.7.10"
  },
  "widgets": {
   "application/vnd.jupyter.widget-state+json": {
    "state": {
     "00b6a19122454087be2679522fa6f268": {
      "model_module": "@jupyter-widgets/controls",
      "model_module_version": "1.5.0",
      "model_name": "HBoxModel",
      "state": {
       "children": [
        "IPY_MODEL_67a3c39002e54a7eb807216e0e6c7a3e",
        "IPY_MODEL_b157317f82b343a3a7f12696b764b88d"
       ],
       "layout": "IPY_MODEL_e439ca65dee24359a000a505ed41a480"
      }
     },
     "07e05f82a76149c6aef1fdb2b608388a": {
      "model_module": "@jupyter-widgets/base",
      "model_module_version": "1.2.0",
      "model_name": "LayoutModel",
      "state": {
       "display": "inline-flex",
       "flex_flow": "row wrap",
       "width": "800px"
      }
     },
     "08211dc7247c4ff5ac7dcdd7aea20e2c": {
      "model_module": "@jupyter-widgets/base",
      "model_module_version": "1.2.0",
      "model_name": "LayoutModel",
      "state": {
       "display": "inline-flex",
       "flex_flow": "row wrap",
       "width": "800px"
      }
     },
     "0875182a1b4747d2aa00f5d9152b655f": {
      "model_module": "@jupyter-widgets/controls",
      "model_module_version": "1.5.0",
      "model_name": "ProgressStyleModel",
      "state": {
       "description_width": "initial"
      }
     },
     "08e51381a31f428cab096054e747f71f": {
      "model_module": "@jupyter-widgets/controls",
      "model_module_version": "1.5.0",
      "model_name": "HBoxModel",
      "state": {
       "children": [
        "IPY_MODEL_1fc51c75b58a409f8832651aa2f4818e",
        "IPY_MODEL_f988f4156b17413290924e4464703cb1"
       ],
       "layout": "IPY_MODEL_bdd547e134c04deb910d4bba67c985c2"
      }
     },
     "097644bf303f42ba8cb98cbf57eff30e": {
      "model_module": "@jupyter-widgets/controls",
      "model_module_version": "1.5.0",
      "model_name": "DescriptionStyleModel",
      "state": {
       "description_width": ""
      }
     },
     "09f4d332b91f46229b81ffd0a64326db": {
      "model_module": "@jupyter-widgets/base",
      "model_module_version": "1.2.0",
      "model_name": "LayoutModel",
      "state": {
       "display": "inline-flex",
       "flex_flow": "row wrap",
       "width": "800px"
      }
     },
     "0a236c04424d4beebc8550b66d70a604": {
      "model_module": "@jupyter-widgets/base",
      "model_module_version": "1.2.0",
      "model_name": "LayoutModel",
      "state": {
       "flex": "2"
      }
     },
     "0b031c8a89924c1caecc82edb9475327": {
      "model_module": "@jupyter-widgets/controls",
      "model_module_version": "1.5.0",
      "model_name": "HBoxModel",
      "state": {
       "children": [
        "IPY_MODEL_79ace6c1f33d46db921692184459eb28",
        "IPY_MODEL_5bac2cb1977744eda283d07d3f9a49f2"
       ],
       "layout": "IPY_MODEL_835b4db9434a468facdc052491b44170"
      }
     },
     "0ca5c7c74ea0414c94c86945493c81ab": {
      "model_module": "@jupyter-widgets/controls",
      "model_module_version": "1.5.0",
      "model_name": "FloatProgressModel",
      "state": {
       "bar_style": "success",
       "description": "It { L 0.00252, 0.927, 0.904, 0.915,  0.978/ BF 0.915} : 100%",
       "layout": "IPY_MODEL_bc386895a30844329164a7dbf0783263",
       "max": 4353,
       "style": "IPY_MODEL_0fd6e2eccf5646b3a785ec6fd2c96d7b",
       "value": 4353
      }
     },
     "0fd6e2eccf5646b3a785ec6fd2c96d7b": {
      "model_module": "@jupyter-widgets/controls",
      "model_module_version": "1.5.0",
      "model_name": "ProgressStyleModel",
      "state": {
       "description_width": "initial"
      }
     },
     "1023fc59857d47b1bf9025273ad3b13c": {
      "model_module": "@jupyter-widgets/controls",
      "model_module_version": "1.5.0",
      "model_name": "DescriptionStyleModel",
      "state": {
       "description_width": ""
      }
     },
     "11fe27ce89cc4043959abd8cf5e6b713": {
      "model_module": "@jupyter-widgets/controls",
      "model_module_version": "1.5.0",
      "model_name": "ProgressStyleModel",
      "state": {
       "description_width": "initial"
      }
     },
     "14f0e17827ae4efc90933ea1bdd4457c": {
      "model_module": "@jupyter-widgets/controls",
      "model_module_version": "1.5.0",
      "model_name": "FloatProgressModel",
      "state": {
       "bar_style": "success",
       "description": "It { L 0.17114, 0.665, 0.535, 0.593,  0.802/ BF 0.593} : 100%",
       "layout": "IPY_MODEL_7338072c8dc44303a7bfcbffae21a9bb",
       "max": 174,
       "style": "IPY_MODEL_a60b3bf1a0f0439ca3759ea1d2c045ed",
       "value": 174
      }
     },
     "163c863266254898a76b67c105adfd10": {
      "model_module": "@jupyter-widgets/controls",
      "model_module_version": "1.5.0",
      "model_name": "HBoxModel",
      "state": {
       "children": [
        "IPY_MODEL_78480c07ab904c448fe5888b3432c839",
        "IPY_MODEL_ee14c53b32cf4662806cdbf976869636"
       ],
       "layout": "IPY_MODEL_f8e9ec2e9f5d463da62eddad475cabba"
      }
     },
     "18975cb9da8b4a66b26a558ada57eb10": {
      "model_module": "@jupyter-widgets/base",
      "model_module_version": "1.2.0",
      "model_name": "LayoutModel",
      "state": {
       "flex": "2"
      }
     },
     "1aabb28858544509b422938b3b06c474": {
      "model_module": "@jupyter-widgets/base",
      "model_module_version": "1.2.0",
      "model_name": "LayoutModel",
      "state": {
       "display": "inline-flex",
       "flex_flow": "row wrap",
       "width": "800px"
      }
     },
     "1e2c414a8b3240c3b232f7cb9f135d64": {
      "model_module": "@jupyter-widgets/base",
      "model_module_version": "1.2.0",
      "model_name": "LayoutModel",
      "state": {
       "flex": "2"
      }
     },
     "1e75918cf10f4cfdb71b3e33a476457e": {
      "model_module": "@jupyter-widgets/base",
      "model_module_version": "1.2.0",
      "model_name": "LayoutModel",
      "state": {
       "display": "inline-flex",
       "flex_flow": "row wrap",
       "width": "800px"
      }
     },
     "1fc51c75b58a409f8832651aa2f4818e": {
      "model_module": "@jupyter-widgets/controls",
      "model_module_version": "1.5.0",
      "model_name": "FloatProgressModel",
      "state": {
       "bar_style": "success",
       "description": "It { L 0.00829, 0.871, 0.821, 0.845,  0.955/ BF 0.847} : 100%",
       "layout": "IPY_MODEL_2d3784c023ca4072a68dec782edd6840",
       "max": 4353,
       "style": "IPY_MODEL_d7cc5c9306ed43f696f31e7d7efc6d9a",
       "value": 4353
      }
     },
     "23222f0b5fe74fd1ae56c0adad692bb8": {
      "model_module": "@jupyter-widgets/controls",
      "model_module_version": "1.5.0",
      "model_name": "FloatProgressModel",
      "state": {
       "bar_style": "danger",
       "description": "It { L 0.02153, 0.884, 0.959, 0.920,  0.966/ BF 0.927} :  41%",
       "layout": "IPY_MODEL_62520786ba34495998782320bf66f8f3",
       "max": 174,
       "style": "IPY_MODEL_11fe27ce89cc4043959abd8cf5e6b713",
       "value": 72
      }
     },
     "247aa67b0d524ce591f032e43089dca4": {
      "model_module": "@jupyter-widgets/base",
      "model_module_version": "1.2.0",
      "model_name": "LayoutModel",
      "state": {}
     },
     "26f547733c0c469d8cff89e810b297d1": {
      "model_module": "@jupyter-widgets/controls",
      "model_module_version": "1.5.0",
      "model_name": "HBoxModel",
      "state": {
       "children": [
        "IPY_MODEL_23222f0b5fe74fd1ae56c0adad692bb8",
        "IPY_MODEL_ed9e400772c643aa9f8410064a2b7c28"
       ],
       "layout": "IPY_MODEL_990759c2ffbd433f93934326e545a52e"
      }
     },
     "2830f753715b42a5a58bad02c53eaf60": {
      "model_module": "@jupyter-widgets/controls",
      "model_module_version": "1.5.0",
      "model_name": "FloatProgressModel",
      "state": {
       "bar_style": "success",
       "description": "It { L 0.01268, 0.868, 0.819, 0.843,  0.956/ BF 0.845} : 100%",
       "layout": "IPY_MODEL_bdf2a6a235574886a49b75a027e57414",
       "max": 4353,
       "style": "IPY_MODEL_c5c72d85dcd049cc85e503ed5da2e933",
       "value": 4353
      }
     },
     "2af8fc86a5f64e71876a0789ce32e184": {
      "model_module": "@jupyter-widgets/controls",
      "model_module_version": "1.5.0",
      "model_name": "ProgressStyleModel",
      "state": {
       "description_width": "initial"
      }
     },
     "2ba6113093174861b6325a0d8c8ffb53": {
      "model_module": "@jupyter-widgets/base",
      "model_module_version": "1.2.0",
      "model_name": "LayoutModel",
      "state": {}
     },
     "2c6247b18d654affb989d2053958ca1d": {
      "model_module": "@jupyter-widgets/base",
      "model_module_version": "1.2.0",
      "model_name": "LayoutModel",
      "state": {
       "display": "inline-flex",
       "flex_flow": "row wrap",
       "width": "800px"
      }
     },
     "2d3784c023ca4072a68dec782edd6840": {
      "model_module": "@jupyter-widgets/base",
      "model_module_version": "1.2.0",
      "model_name": "LayoutModel",
      "state": {
       "flex": "2"
      }
     },
     "3065dc8950b74b4b984b66a703c0f02d": {
      "model_module": "@jupyter-widgets/controls",
      "model_module_version": "1.5.0",
      "model_name": "HBoxModel",
      "state": {
       "children": [
        "IPY_MODEL_14f0e17827ae4efc90933ea1bdd4457c",
        "IPY_MODEL_b6d3a62e47c24bb5a54198b51f6ad1f0"
       ],
       "layout": "IPY_MODEL_eb7e38089e7b4914913927da6b0847a6"
      }
     },
     "32727aeae87f4dc5b18580c3de79fb30": {
      "model_module": "@jupyter-widgets/controls",
      "model_module_version": "1.5.0",
      "model_name": "HTMLModel",
      "state": {
       "layout": "IPY_MODEL_999209b5ce9e4445a1c5703544d40a9d",
       "style": "IPY_MODEL_1023fc59857d47b1bf9025273ad3b13c",
       "value": " 4353/4353 [22:57&lt;00:00,  3.16it/s]"
      }
     },
     "333e1942561641b2acb241acbf0063fe": {
      "model_module": "@jupyter-widgets/base",
      "model_module_version": "1.2.0",
      "model_name": "LayoutModel",
      "state": {}
     },
     "334c6b14a9d3477c805707ff58c1a8e6": {
      "model_module": "@jupyter-widgets/controls",
      "model_module_version": "1.5.0",
      "model_name": "DescriptionStyleModel",
      "state": {
       "description_width": ""
      }
     },
     "34ccbf88aa5542b68da5ff76a5c7c274": {
      "model_module": "@jupyter-widgets/base",
      "model_module_version": "1.2.0",
      "model_name": "LayoutModel",
      "state": {}
     },
     "352e7c65ac0b487c9b1ceae9dd2cdd30": {
      "model_module": "@jupyter-widgets/controls",
      "model_module_version": "1.5.0",
      "model_name": "ProgressStyleModel",
      "state": {
       "description_width": "initial"
      }
     },
     "3924debf12d3457794903e64d9a182b2": {
      "model_module": "@jupyter-widgets/controls",
      "model_module_version": "1.5.0",
      "model_name": "HBoxModel",
      "state": {
       "children": [
        "IPY_MODEL_fa076cd196b34fdcafcac2d9110ec12e",
        "IPY_MODEL_9b5507391f684217a8a859ca9eed3e34"
       ],
       "layout": "IPY_MODEL_1e75918cf10f4cfdb71b3e33a476457e"
      }
     },
     "39c695f951e140a4bb61f4e503fc35de": {
      "model_module": "@jupyter-widgets/base",
      "model_module_version": "1.2.0",
      "model_name": "LayoutModel",
      "state": {}
     },
     "3a59adf3c26447e89fceaee696ae7fab": {
      "model_module": "@jupyter-widgets/controls",
      "model_module_version": "1.5.0",
      "model_name": "DescriptionStyleModel",
      "state": {
       "description_width": ""
      }
     },
     "3d6dd986de964880925afe9af62dbf28": {
      "model_module": "@jupyter-widgets/base",
      "model_module_version": "1.2.0",
      "model_name": "LayoutModel",
      "state": {}
     },
     "3e8d5adc640244aa9cba6d0a57a9f742": {
      "model_module": "@jupyter-widgets/base",
      "model_module_version": "1.2.0",
      "model_name": "LayoutModel",
      "state": {}
     },
     "400eeae29a70417189bdb3b861bf275b": {
      "model_module": "@jupyter-widgets/controls",
      "model_module_version": "1.5.0",
      "model_name": "DescriptionStyleModel",
      "state": {
       "description_width": ""
      }
     },
     "40fed54cde3c4054aff1f86e0097a003": {
      "model_module": "@jupyter-widgets/controls",
      "model_module_version": "1.5.0",
      "model_name": "DescriptionStyleModel",
      "state": {
       "description_width": ""
      }
     },
     "4704debba3574352888100dcf3a0fda4": {
      "model_module": "@jupyter-widgets/controls",
      "model_module_version": "1.5.0",
      "model_name": "HBoxModel",
      "state": {
       "children": [
        "IPY_MODEL_abf5ba7cbe574e2e8638e531bc7303f7",
        "IPY_MODEL_d2b371608d444db88dcf65840bfad964"
       ],
       "layout": "IPY_MODEL_f4b040a930b44e699f22be5c05ff6d42"
      }
     },
     "4825005b81e049bdb5b5fa385d1f1543": {
      "model_module": "@jupyter-widgets/controls",
      "model_module_version": "1.5.0",
      "model_name": "HTMLModel",
      "state": {
       "layout": "IPY_MODEL_81f2a85f942b428a8cb97f3a4aaa2799",
       "style": "IPY_MODEL_cc24e45743f147fcb177e2eb2680e4aa",
       "value": " 174/174 [00:13&lt;00:00, 13.35it/s]"
      }
     },
     "49273e5401a34509914842dfc87c217d": {
      "model_module": "@jupyter-widgets/controls",
      "model_module_version": "1.5.0",
      "model_name": "FloatProgressModel",
      "state": {
       "bar_style": "success",
       "description": "It { L 0.02530, 0.816, 0.724, 0.767,  0.920/ BF 0.767} : 100%",
       "layout": "IPY_MODEL_f4758f51c0cc4a4fa8289405657f4498",
       "max": 4353,
       "style": "IPY_MODEL_fb2ffabe3d2e4c0cb5e8ce128d3cbbc7",
       "value": 4353
      }
     },
     "4bdcd0bde26d440e9357fa93c1603392": {
      "model_module": "@jupyter-widgets/base",
      "model_module_version": "1.2.0",
      "model_name": "LayoutModel",
      "state": {}
     },
     "4cc47e2021224d65bead9a91ebab69c3": {
      "model_module": "@jupyter-widgets/base",
      "model_module_version": "1.2.0",
      "model_name": "LayoutModel",
      "state": {
       "flex": "2"
      }
     },
     "4f8407b099ae4fc7a6368fabe730f51a": {
      "model_module": "@jupyter-widgets/controls",
      "model_module_version": "1.5.0",
      "model_name": "ProgressStyleModel",
      "state": {
       "description_width": "initial"
      }
     },
     "503ba4e658b140c3acc246c48017a6e5": {
      "model_module": "@jupyter-widgets/controls",
      "model_module_version": "1.5.0",
      "model_name": "DescriptionStyleModel",
      "state": {
       "description_width": ""
      }
     },
     "523573c6f65a43eea83ff94dcb6ded30": {
      "model_module": "@jupyter-widgets/controls",
      "model_module_version": "1.5.0",
      "model_name": "FloatProgressModel",
      "state": {
       "bar_style": "success",
       "description": "It { L 0.13428, 0.809, 0.804, 0.806,  0.927/ BF 0.810} : 100%",
       "layout": "IPY_MODEL_7d742e3604cb4e8eb783cb45aeee870b",
       "max": 174,
       "style": "IPY_MODEL_2af8fc86a5f64e71876a0789ce32e184",
       "value": 174
      }
     },
     "546087b1d49346a8a1f0ed6afef1fb16": {
      "model_module": "@jupyter-widgets/base",
      "model_module_version": "1.2.0",
      "model_name": "LayoutModel",
      "state": {
       "display": "inline-flex",
       "flex_flow": "row wrap",
       "width": "800px"
      }
     },
     "5614e8f87a2c4d3f94a1352f8de62094": {
      "model_module": "@jupyter-widgets/base",
      "model_module_version": "1.2.0",
      "model_name": "LayoutModel",
      "state": {
       "flex": "2"
      }
     },
     "5657752a2f324c1eb41d3f435b0c7cf7": {
      "model_module": "@jupyter-widgets/base",
      "model_module_version": "1.2.0",
      "model_name": "LayoutModel",
      "state": {
       "display": "inline-flex",
       "flex_flow": "row wrap",
       "width": "800px"
      }
     },
     "567ca2c6436a407482b0224981a1c96d": {
      "model_module": "@jupyter-widgets/base",
      "model_module_version": "1.2.0",
      "model_name": "LayoutModel",
      "state": {
       "display": "inline-flex",
       "flex_flow": "row wrap",
       "width": "800px"
      }
     },
     "56b327c36bed477682e6bdf9c74cceb2": {
      "model_module": "@jupyter-widgets/controls",
      "model_module_version": "1.5.0",
      "model_name": "DescriptionStyleModel",
      "state": {
       "description_width": ""
      }
     },
     "5bac2cb1977744eda283d07d3f9a49f2": {
      "model_module": "@jupyter-widgets/controls",
      "model_module_version": "1.5.0",
      "model_name": "HTMLModel",
      "state": {
       "layout": "IPY_MODEL_70268e1e8c4f4a009bfed18e971d50f0",
       "style": "IPY_MODEL_b90ec11542134681bc6acc828bba79ba",
       "value": " 174/174 [00:18&lt;00:00,  9.53it/s]"
      }
     },
     "61a710f916914b6b8df7bfbae02f5f97": {
      "model_module": "@jupyter-widgets/controls",
      "model_module_version": "1.5.0",
      "model_name": "HTMLModel",
      "state": {
       "layout": "IPY_MODEL_a81313bae19c4577998a610e580190a6",
       "style": "IPY_MODEL_daabd551357048078a487d73f6855027",
       "value": " 174/174 [01:05&lt;00:00,  2.65it/s]"
      }
     },
     "62520786ba34495998782320bf66f8f3": {
      "model_module": "@jupyter-widgets/base",
      "model_module_version": "1.2.0",
      "model_name": "LayoutModel",
      "state": {
       "flex": "2"
      }
     },
     "627b5107c1d34e04830c105f72824a95": {
      "model_module": "@jupyter-widgets/base",
      "model_module_version": "1.2.0",
      "model_name": "LayoutModel",
      "state": {
       "display": "inline-flex",
       "flex_flow": "row wrap",
       "width": "800px"
      }
     },
     "65c385ff8f4046b5b7799ceb258389b8": {
      "model_module": "@jupyter-widgets/controls",
      "model_module_version": "1.5.0",
      "model_name": "FloatProgressModel",
      "state": {
       "bar_style": "success",
       "description": "It { L 0.04631, 0.888, 0.950, 0.918,  0.976/ BF 0.918} : 100%",
       "layout": "IPY_MODEL_5614e8f87a2c4d3f94a1352f8de62094",
       "max": 174,
       "style": "IPY_MODEL_0875182a1b4747d2aa00f5d9152b655f",
       "value": 174
      }
     },
     "67a3c39002e54a7eb807216e0e6c7a3e": {
      "model_module": "@jupyter-widgets/controls",
      "model_module_version": "1.5.0",
      "model_name": "FloatProgressModel",
      "state": {
       "bar_style": "success",
       "description": "It { L 0.00765, 0.900, 0.866, 0.883,  0.968/ BF 0.884} : 100%",
       "layout": "IPY_MODEL_71b2aeaa8c4d4d95b8550787ed970651",
       "max": 4353,
       "style": "IPY_MODEL_fdd0f2cb314641b8b9c6d587547751e5",
       "value": 4353
      }
     },
     "6f1feee44a774e3a85e77447f6bd51fc": {
      "model_module": "@jupyter-widgets/controls",
      "model_module_version": "1.5.0",
      "model_name": "DescriptionStyleModel",
      "state": {
       "description_width": ""
      }
     },
     "70268e1e8c4f4a009bfed18e971d50f0": {
      "model_module": "@jupyter-widgets/base",
      "model_module_version": "1.2.0",
      "model_name": "LayoutModel",
      "state": {}
     },
     "715a822107eb4e5a892ca8c429cb0d09": {
      "model_module": "@jupyter-widgets/controls",
      "model_module_version": "1.5.0",
      "model_name": "FloatProgressModel",
      "state": {
       "bar_style": "success",
       "description": "It { L 0.05231, 0.872, 0.943, 0.907,  0.972/ BF 0.907} : 100%",
       "layout": "IPY_MODEL_1e2c414a8b3240c3b232f7cb9f135d64",
       "max": 174,
       "style": "IPY_MODEL_352e7c65ac0b487c9b1ceae9dd2cdd30",
       "value": 174
      }
     },
     "71b2aeaa8c4d4d95b8550787ed970651": {
      "model_module": "@jupyter-widgets/base",
      "model_module_version": "1.2.0",
      "model_name": "LayoutModel",
      "state": {
       "flex": "2"
      }
     },
     "7277f674ec3a4df9b66f0271b2bf5492": {
      "model_module": "@jupyter-widgets/controls",
      "model_module_version": "1.5.0",
      "model_name": "ProgressStyleModel",
      "state": {
       "description_width": "initial"
      }
     },
     "7338072c8dc44303a7bfcbffae21a9bb": {
      "model_module": "@jupyter-widgets/base",
      "model_module_version": "1.2.0",
      "model_name": "LayoutModel",
      "state": {
       "flex": "2"
      }
     },
     "756633856224416b8e9c36c3605422c7": {
      "model_module": "@jupyter-widgets/controls",
      "model_module_version": "1.5.0",
      "model_name": "DescriptionStyleModel",
      "state": {
       "description_width": ""
      }
     },
     "78480c07ab904c448fe5888b3432c839": {
      "model_module": "@jupyter-widgets/controls",
      "model_module_version": "1.5.0",
      "model_name": "FloatProgressModel",
      "state": {
       "bar_style": "success",
       "description": "It { L 0.00186, 0.927, 0.906, 0.916,  0.978/ BF 0.916} : 100%",
       "layout": "IPY_MODEL_c2c31132b9f141dd9459992fc7216de3",
       "max": 4353,
       "style": "IPY_MODEL_f66f214dcfa648f4b8fa984dab592392",
       "value": 4353
      }
     },
     "79ace6c1f33d46db921692184459eb28": {
      "model_module": "@jupyter-widgets/controls",
      "model_module_version": "1.5.0",
      "model_name": "FloatProgressModel",
      "state": {
       "bar_style": "success",
       "description": "It { L 0.09749, 0.763, 0.709, 0.735,  0.888/ BF 0.735} : 100%",
       "layout": "IPY_MODEL_c27779c53e0746d39cf4b3ff5a8c3d77",
       "max": 174,
       "style": "IPY_MODEL_99b77728488d4a4c9a04cce6ae36442c",
       "value": 174
      }
     },
     "7b12270c35bf43dbb5ebeebbdc3768bd": {
      "model_module": "@jupyter-widgets/controls",
      "model_module_version": "1.5.0",
      "model_name": "HBoxModel",
      "state": {
       "children": [
        "IPY_MODEL_cbac94b603364979bd31e85c7e77dbce",
        "IPY_MODEL_ca28202015d44406b662ce463132eaa6"
       ],
       "layout": "IPY_MODEL_9cba73c6a0ef491291287c183ef2d4fd"
      }
     },
     "7d684121338d4cd4a23b542cb79f9e18": {
      "model_module": "@jupyter-widgets/controls",
      "model_module_version": "1.5.0",
      "model_name": "DescriptionStyleModel",
      "state": {
       "description_width": ""
      }
     },
     "7d742e3604cb4e8eb783cb45aeee870b": {
      "model_module": "@jupyter-widgets/base",
      "model_module_version": "1.2.0",
      "model_name": "LayoutModel",
      "state": {
       "flex": "2"
      }
     },
     "7e58ed006a444db083b69075e54b8f35": {
      "model_module": "@jupyter-widgets/controls",
      "model_module_version": "1.5.0",
      "model_name": "HBoxModel",
      "state": {
       "children": [
        "IPY_MODEL_715a822107eb4e5a892ca8c429cb0d09",
        "IPY_MODEL_cad9e078f4bc4cc58b1b19805341c202"
       ],
       "layout": "IPY_MODEL_1aabb28858544509b422938b3b06c474"
      }
     },
     "81f2a85f942b428a8cb97f3a4aaa2799": {
      "model_module": "@jupyter-widgets/base",
      "model_module_version": "1.2.0",
      "model_name": "LayoutModel",
      "state": {}
     },
     "82f89ef8714b4505aed02f44de64f605": {
      "model_module": "@jupyter-widgets/controls",
      "model_module_version": "1.5.0",
      "model_name": "HTMLModel",
      "state": {
       "layout": "IPY_MODEL_34ccbf88aa5542b68da5ff76a5c7c274",
       "style": "IPY_MODEL_40fed54cde3c4054aff1f86e0097a003",
       "value": " 4353/4353 [09:21&lt;00:00,  7.76it/s]"
      }
     },
     "835b4db9434a468facdc052491b44170": {
      "model_module": "@jupyter-widgets/base",
      "model_module_version": "1.2.0",
      "model_name": "LayoutModel",
      "state": {
       "display": "inline-flex",
       "flex_flow": "row wrap",
       "width": "800px"
      }
     },
     "87965c469b284969a88920553dd1d98e": {
      "model_module": "@jupyter-widgets/controls",
      "model_module_version": "1.5.0",
      "model_name": "FloatProgressModel",
      "state": {
       "bar_style": "success",
       "description": "It { L 0.00577, 0.902, 0.863, 0.882,  0.967/ BF 0.882} : 100%",
       "layout": "IPY_MODEL_dedfb89e8a5a4193a542d1810469051e",
       "max": 4353,
       "style": "IPY_MODEL_9c0ac6dca7614acca32433dcab0f92f0",
       "value": 4353
      }
     },
     "87c3653b856d4060a9c28a5f5bae96bb": {
      "model_module": "@jupyter-widgets/base",
      "model_module_version": "1.2.0",
      "model_name": "LayoutModel",
      "state": {}
     },
     "8c650706bbd74aeda50c9e031c7ca16a": {
      "model_module": "@jupyter-widgets/controls",
      "model_module_version": "1.5.0",
      "model_name": "FloatProgressModel",
      "state": {
       "bar_style": "success",
       "description": "It { L 0.05223, 0.895, 0.956, 0.925,  0.976/ BF 0.927} : 100%",
       "layout": "IPY_MODEL_8f2b076786ed46188d8eb9368c7ca017",
       "max": 174,
       "style": "IPY_MODEL_d273e9d291c1463a87d1744b9b7375f1",
       "value": 174
      }
     },
     "8dfb4981def74335b56c1cc4ea2645cd": {
      "model_module": "@jupyter-widgets/controls",
      "model_module_version": "1.5.0",
      "model_name": "ProgressStyleModel",
      "state": {
       "description_width": "initial"
      }
     },
     "8e20f3719373489e923dd23f58a27231": {
      "model_module": "@jupyter-widgets/base",
      "model_module_version": "1.2.0",
      "model_name": "LayoutModel",
      "state": {
       "display": "inline-flex",
       "flex_flow": "row wrap",
       "width": "800px"
      }
     },
     "8f2b076786ed46188d8eb9368c7ca017": {
      "model_module": "@jupyter-widgets/base",
      "model_module_version": "1.2.0",
      "model_name": "LayoutModel",
      "state": {
       "flex": "2"
      }
     },
     "909b06b420f74fbe854670e115d29114": {
      "model_module": "@jupyter-widgets/controls",
      "model_module_version": "1.5.0",
      "model_name": "DescriptionStyleModel",
      "state": {
       "description_width": ""
      }
     },
     "94cf63e8807a44788ce6f30041f517d7": {
      "model_module": "@jupyter-widgets/base",
      "model_module_version": "1.2.0",
      "model_name": "LayoutModel",
      "state": {}
     },
     "98de5bd2d62f488683cfede22fbf44a2": {
      "model_module": "@jupyter-widgets/controls",
      "model_module_version": "1.5.0",
      "model_name": "HBoxModel",
      "state": {
       "children": [
        "IPY_MODEL_65c385ff8f4046b5b7799ceb258389b8",
        "IPY_MODEL_b9f3e5a038f44e59808d72595d4b5a80"
       ],
       "layout": "IPY_MODEL_567ca2c6436a407482b0224981a1c96d"
      }
     },
     "990759c2ffbd433f93934326e545a52e": {
      "model_module": "@jupyter-widgets/base",
      "model_module_version": "1.2.0",
      "model_name": "LayoutModel",
      "state": {
       "display": "inline-flex",
       "flex_flow": "row wrap",
       "width": "800px"
      }
     },
     "999209b5ce9e4445a1c5703544d40a9d": {
      "model_module": "@jupyter-widgets/base",
      "model_module_version": "1.2.0",
      "model_name": "LayoutModel",
      "state": {}
     },
     "99b77728488d4a4c9a04cce6ae36442c": {
      "model_module": "@jupyter-widgets/controls",
      "model_module_version": "1.5.0",
      "model_name": "ProgressStyleModel",
      "state": {
       "description_width": "initial"
      }
     },
     "9aaca73fc1e244bbbcfd6ec330b25e35": {
      "model_module": "@jupyter-widgets/controls",
      "model_module_version": "1.5.0",
      "model_name": "FloatProgressModel",
      "state": {
       "bar_style": "success",
       "description": "It { L 0.07817, 0.819, 0.858, 0.838,  0.951/ BF 0.838} : 100%",
       "layout": "IPY_MODEL_18975cb9da8b4a66b26a558ada57eb10",
       "max": 174,
       "style": "IPY_MODEL_7277f674ec3a4df9b66f0271b2bf5492",
       "value": 174
      }
     },
     "9b5507391f684217a8a859ca9eed3e34": {
      "model_module": "@jupyter-widgets/controls",
      "model_module_version": "1.5.0",
      "model_name": "HTMLModel",
      "state": {
       "layout": "IPY_MODEL_3d6dd986de964880925afe9af62dbf28",
       "style": "IPY_MODEL_909b06b420f74fbe854670e115d29114",
       "value": " 174/174 [00:18&lt;00:00,  9.49it/s]"
      }
     },
     "9c0ac6dca7614acca32433dcab0f92f0": {
      "model_module": "@jupyter-widgets/controls",
      "model_module_version": "1.5.0",
      "model_name": "ProgressStyleModel",
      "state": {
       "description_width": "initial"
      }
     },
     "9cba73c6a0ef491291287c183ef2d4fd": {
      "model_module": "@jupyter-widgets/base",
      "model_module_version": "1.2.0",
      "model_name": "LayoutModel",
      "state": {
       "display": "inline-flex",
       "flex_flow": "row wrap",
       "width": "800px"
      }
     },
     "a60b3bf1a0f0439ca3759ea1d2c045ed": {
      "model_module": "@jupyter-widgets/controls",
      "model_module_version": "1.5.0",
      "model_name": "ProgressStyleModel",
      "state": {
       "description_width": "initial"
      }
     },
     "a76ba3aa946c448ab3a044befcd94263": {
      "model_module": "@jupyter-widgets/base",
      "model_module_version": "1.2.0",
      "model_name": "LayoutModel",
      "state": {}
     },
     "a7a86f7dc05f47b6a496e8fcb7ef6b3a": {
      "model_module": "@jupyter-widgets/base",
      "model_module_version": "1.2.0",
      "model_name": "LayoutModel",
      "state": {}
     },
     "a81313bae19c4577998a610e580190a6": {
      "model_module": "@jupyter-widgets/base",
      "model_module_version": "1.2.0",
      "model_name": "LayoutModel",
      "state": {}
     },
     "aaf70c721e8e4f2eb73f5577f26a3b3b": {
      "model_module": "@jupyter-widgets/controls",
      "model_module_version": "1.5.0",
      "model_name": "HTMLModel",
      "state": {
       "layout": "IPY_MODEL_e72377ff852747b18af3424ad2374088",
       "style": "IPY_MODEL_3a59adf3c26447e89fceaee696ae7fab",
       "value": " 174/174 [00:18&lt;00:00,  9.49it/s]"
      }
     },
     "abf5ba7cbe574e2e8638e531bc7303f7": {
      "model_module": "@jupyter-widgets/controls",
      "model_module_version": "1.5.0",
      "model_name": "FloatProgressModel",
      "state": {
       "bar_style": "success",
       "description": "It { L 0.01887, 0.816, 0.726, 0.769,  0.920/ BF 0.769} : 100%",
       "layout": "IPY_MODEL_c78ec3d359404db1bd1d3692d8aaa433",
       "max": 4353,
       "style": "IPY_MODEL_8dfb4981def74335b56c1cc4ea2645cd",
       "value": 4353
      }
     },
     "b0da8abb43ca48309fbfece666dc75ee": {
      "model_module": "@jupyter-widgets/base",
      "model_module_version": "1.2.0",
      "model_name": "LayoutModel",
      "state": {
       "flex": "2"
      }
     },
     "b157317f82b343a3a7f12696b764b88d": {
      "model_module": "@jupyter-widgets/controls",
      "model_module_version": "1.5.0",
      "model_name": "HTMLModel",
      "state": {
       "layout": "IPY_MODEL_2ba6113093174861b6325a0d8c8ffb53",
       "style": "IPY_MODEL_400eeae29a70417189bdb3b861bf275b",
       "value": " 4353/4353 [13:37&lt;00:00,  5.32it/s]"
      }
     },
     "b24bb073ebee4d23842dd0cbbc2e44f4": {
      "model_module": "@jupyter-widgets/controls",
      "model_module_version": "1.5.0",
      "model_name": "DescriptionStyleModel",
      "state": {
       "description_width": ""
      }
     },
     "b2dc07ceff4249f1b549dab4864c1b4e": {
      "model_module": "@jupyter-widgets/controls",
      "model_module_version": "1.5.0",
      "model_name": "ProgressStyleModel",
      "state": {
       "description_width": "initial"
      }
     },
     "b6d3a62e47c24bb5a54198b51f6ad1f0": {
      "model_module": "@jupyter-widgets/controls",
      "model_module_version": "1.5.0",
      "model_name": "HTMLModel",
      "state": {
       "layout": "IPY_MODEL_a7a86f7dc05f47b6a496e8fcb7ef6b3a",
       "style": "IPY_MODEL_756633856224416b8e9c36c3605422c7",
       "value": " 174/174 [01:24&lt;00:00,  2.07it/s]"
      }
     },
     "b6dc047654e5402488a8c1c5f5c6709d": {
      "model_module": "@jupyter-widgets/controls",
      "model_module_version": "1.5.0",
      "model_name": "ProgressStyleModel",
      "state": {
       "description_width": "initial"
      }
     },
     "b90ec11542134681bc6acc828bba79ba": {
      "model_module": "@jupyter-widgets/controls",
      "model_module_version": "1.5.0",
      "model_name": "DescriptionStyleModel",
      "state": {
       "description_width": ""
      }
     },
     "b9f3e5a038f44e59808d72595d4b5a80": {
      "model_module": "@jupyter-widgets/controls",
      "model_module_version": "1.5.0",
      "model_name": "HTMLModel",
      "state": {
       "layout": "IPY_MODEL_4bdcd0bde26d440e9357fa93c1603392",
       "style": "IPY_MODEL_503ba4e658b140c3acc246c48017a6e5",
       "value": " 174/174 [13:05:57&lt;00:00, 271.02s/it]"
      }
     },
     "bc386895a30844329164a7dbf0783263": {
      "model_module": "@jupyter-widgets/base",
      "model_module_version": "1.2.0",
      "model_name": "LayoutModel",
      "state": {
       "flex": "2"
      }
     },
     "bce587bed1c74de2a07d75f5ff32e6b3": {
      "model_module": "@jupyter-widgets/controls",
      "model_module_version": "1.5.0",
      "model_name": "HBoxModel",
      "state": {
       "children": [
        "IPY_MODEL_2830f753715b42a5a58bad02c53eaf60",
        "IPY_MODEL_82f89ef8714b4505aed02f44de64f605"
       ],
       "layout": "IPY_MODEL_08211dc7247c4ff5ac7dcdd7aea20e2c"
      }
     },
     "bdd547e134c04deb910d4bba67c985c2": {
      "model_module": "@jupyter-widgets/base",
      "model_module_version": "1.2.0",
      "model_name": "LayoutModel",
      "state": {
       "display": "inline-flex",
       "flex_flow": "row wrap",
       "width": "800px"
      }
     },
     "bdf2a6a235574886a49b75a027e57414": {
      "model_module": "@jupyter-widgets/base",
      "model_module_version": "1.2.0",
      "model_name": "LayoutModel",
      "state": {
       "flex": "2"
      }
     },
     "be6647cb07124cc6a9d3bd26e0d6092b": {
      "model_module": "@jupyter-widgets/controls",
      "model_module_version": "1.5.0",
      "model_name": "HTMLModel",
      "state": {
       "layout": "IPY_MODEL_3e8d5adc640244aa9cba6d0a57a9f742",
       "style": "IPY_MODEL_b24bb073ebee4d23842dd0cbbc2e44f4",
       "value": " 4353/4353 [04:46&lt;00:00, 15.20it/s]"
      }
     },
     "c27779c53e0746d39cf4b3ff5a8c3d77": {
      "model_module": "@jupyter-widgets/base",
      "model_module_version": "1.2.0",
      "model_name": "LayoutModel",
      "state": {
       "flex": "2"
      }
     },
     "c2c31132b9f141dd9459992fc7216de3": {
      "model_module": "@jupyter-widgets/base",
      "model_module_version": "1.2.0",
      "model_name": "LayoutModel",
      "state": {
       "flex": "2"
      }
     },
     "c5c72d85dcd049cc85e503ed5da2e933": {
      "model_module": "@jupyter-widgets/controls",
      "model_module_version": "1.5.0",
      "model_name": "ProgressStyleModel",
      "state": {
       "description_width": "initial"
      }
     },
     "c68ce0effc1b481a8828b217715cfe89": {
      "model_module": "@jupyter-widgets/controls",
      "model_module_version": "1.5.0",
      "model_name": "HBoxModel",
      "state": {
       "children": [
        "IPY_MODEL_87965c469b284969a88920553dd1d98e",
        "IPY_MODEL_f2b1b9dad3f1450a9a31406d24e2c433"
       ],
       "layout": "IPY_MODEL_627b5107c1d34e04830c105f72824a95"
      }
     },
     "c78ec3d359404db1bd1d3692d8aaa433": {
      "model_module": "@jupyter-widgets/base",
      "model_module_version": "1.2.0",
      "model_name": "LayoutModel",
      "state": {
       "flex": "2"
      }
     },
     "ca28202015d44406b662ce463132eaa6": {
      "model_module": "@jupyter-widgets/controls",
      "model_module_version": "1.5.0",
      "model_name": "HTMLModel",
      "state": {
       "layout": "IPY_MODEL_247aa67b0d524ce591f032e43089dca4",
       "style": "IPY_MODEL_7d684121338d4cd4a23b542cb79f9e18",
       "value": " 174/174 [00:46&lt;00:00,  3.73it/s]"
      }
     },
     "cad9e078f4bc4cc58b1b19805341c202": {
      "model_module": "@jupyter-widgets/controls",
      "model_module_version": "1.5.0",
      "model_name": "HTMLModel",
      "state": {
       "layout": "IPY_MODEL_333e1942561641b2acb241acbf0063fe",
       "style": "IPY_MODEL_d28b5dd24e6f4a60b87616ee3de5b207",
       "value": " 174/174 [00:27&lt;00:00,  6.29it/s]"
      }
     },
     "cb4e89c39e5c472b951101fa40c41bc7": {
      "model_module": "@jupyter-widgets/base",
      "model_module_version": "1.2.0",
      "model_name": "LayoutModel",
      "state": {}
     },
     "cbac94b603364979bd31e85c7e77dbce": {
      "model_module": "@jupyter-widgets/controls",
      "model_module_version": "1.5.0",
      "model_name": "FloatProgressModel",
      "state": {
       "bar_style": "success",
       "description": "It { L 0.05539, 0.852, 0.908, 0.879,  0.967/ BF 0.879} : 100%",
       "layout": "IPY_MODEL_0a236c04424d4beebc8550b66d70a604",
       "max": 174,
       "style": "IPY_MODEL_b2dc07ceff4249f1b549dab4864c1b4e",
       "value": 174
      }
     },
     "cc24e45743f147fcb177e2eb2680e4aa": {
      "model_module": "@jupyter-widgets/controls",
      "model_module_version": "1.5.0",
      "model_name": "DescriptionStyleModel",
      "state": {
       "description_width": ""
      }
     },
     "d273e9d291c1463a87d1744b9b7375f1": {
      "model_module": "@jupyter-widgets/controls",
      "model_module_version": "1.5.0",
      "model_name": "ProgressStyleModel",
      "state": {
       "description_width": "initial"
      }
     },
     "d28b5dd24e6f4a60b87616ee3de5b207": {
      "model_module": "@jupyter-widgets/controls",
      "model_module_version": "1.5.0",
      "model_name": "DescriptionStyleModel",
      "state": {
       "description_width": ""
      }
     },
     "d2b371608d444db88dcf65840bfad964": {
      "model_module": "@jupyter-widgets/controls",
      "model_module_version": "1.5.0",
      "model_name": "HTMLModel",
      "state": {
       "layout": "IPY_MODEL_cb4e89c39e5c472b951101fa40c41bc7",
       "style": "IPY_MODEL_56b327c36bed477682e6bdf9c74cceb2",
       "value": " 4353/4353 [18:43&lt;00:00,  3.87it/s]"
      }
     },
     "d36ec84dc9be4c3e95eef1dda1cf210b": {
      "model_module": "@jupyter-widgets/controls",
      "model_module_version": "1.5.0",
      "model_name": "HBoxModel",
      "state": {
       "children": [
        "IPY_MODEL_d4054f2608f5456390b3415680bebb87",
        "IPY_MODEL_e94a8671f8d24c499b72c9af20597339"
       ],
       "layout": "IPY_MODEL_8e20f3719373489e923dd23f58a27231"
      }
     },
     "d4054f2608f5456390b3415680bebb87": {
      "model_module": "@jupyter-widgets/controls",
      "model_module_version": "1.5.0",
      "model_name": "FloatProgressModel",
      "state": {
       "bar_style": "success",
       "description": "It { L 0.05134, 0.882, 0.927, 0.904,  0.973/ BF 0.907} : 100%",
       "layout": "IPY_MODEL_4cc47e2021224d65bead9a91ebab69c3",
       "max": 174,
       "style": "IPY_MODEL_4f8407b099ae4fc7a6368fabe730f51a",
       "value": 174
      }
     },
     "d61840085c7b4761b9b13adfc86210bf": {
      "model_module": "@jupyter-widgets/controls",
      "model_module_version": "1.5.0",
      "model_name": "DescriptionStyleModel",
      "state": {
       "description_width": ""
      }
     },
     "d68ae1766f06446699097f571f3f9cae": {
      "model_module": "@jupyter-widgets/controls",
      "model_module_version": "1.5.0",
      "model_name": "HBoxModel",
      "state": {
       "children": [
        "IPY_MODEL_523573c6f65a43eea83ff94dcb6ded30",
        "IPY_MODEL_61a710f916914b6b8df7bfbae02f5f97"
       ],
       "layout": "IPY_MODEL_09f4d332b91f46229b81ffd0a64326db"
      }
     },
     "d7cc5c9306ed43f696f31e7d7efc6d9a": {
      "model_module": "@jupyter-widgets/controls",
      "model_module_version": "1.5.0",
      "model_name": "ProgressStyleModel",
      "state": {
       "description_width": "initial"
      }
     },
     "d8d161dbe003448bb5131cf37113c74b": {
      "model_module": "@jupyter-widgets/controls",
      "model_module_version": "1.5.0",
      "model_name": "HBoxModel",
      "state": {
       "children": [
        "IPY_MODEL_49273e5401a34509914842dfc87c217d",
        "IPY_MODEL_32727aeae87f4dc5b18580c3de79fb30"
       ],
       "layout": "IPY_MODEL_546087b1d49346a8a1f0ed6afef1fb16"
      }
     },
     "daabd551357048078a487d73f6855027": {
      "model_module": "@jupyter-widgets/controls",
      "model_module_version": "1.5.0",
      "model_name": "DescriptionStyleModel",
      "state": {
       "description_width": ""
      }
     },
     "dc145ac6a4b84a9e9ef5015b301af9d1": {
      "model_module": "@jupyter-widgets/controls",
      "model_module_version": "1.5.0",
      "model_name": "DescriptionStyleModel",
      "state": {
       "description_width": ""
      }
     },
     "dedfb89e8a5a4193a542d1810469051e": {
      "model_module": "@jupyter-widgets/base",
      "model_module_version": "1.2.0",
      "model_name": "LayoutModel",
      "state": {
       "flex": "2"
      }
     },
     "e2ee757ff1684f1f9e0a8f62cd89d531": {
      "model_module": "@jupyter-widgets/controls",
      "model_module_version": "1.5.0",
      "model_name": "HBoxModel",
      "state": {
       "children": [
        "IPY_MODEL_0ca5c7c74ea0414c94c86945493c81ab",
        "IPY_MODEL_be6647cb07124cc6a9d3bd26e0d6092b"
       ],
       "layout": "IPY_MODEL_5657752a2f324c1eb41d3f435b0c7cf7"
      }
     },
     "e439ca65dee24359a000a505ed41a480": {
      "model_module": "@jupyter-widgets/base",
      "model_module_version": "1.2.0",
      "model_name": "LayoutModel",
      "state": {
       "display": "inline-flex",
       "flex_flow": "row wrap",
       "width": "800px"
      }
     },
     "e5cabab7f13f42fb81dde667eff08437": {
      "model_module": "@jupyter-widgets/controls",
      "model_module_version": "1.5.0",
      "model_name": "HBoxModel",
      "state": {
       "children": [
        "IPY_MODEL_8c650706bbd74aeda50c9e031c7ca16a",
        "IPY_MODEL_4825005b81e049bdb5b5fa385d1f1543"
       ],
       "layout": "IPY_MODEL_07e05f82a76149c6aef1fdb2b608388a"
      }
     },
     "e6b65458345c4387b105fc05d1da0347": {
      "model_module": "@jupyter-widgets/controls",
      "model_module_version": "1.5.0",
      "model_name": "HBoxModel",
      "state": {
       "children": [
        "IPY_MODEL_9aaca73fc1e244bbbcfd6ec330b25e35",
        "IPY_MODEL_aaf70c721e8e4f2eb73f5577f26a3b3b"
       ],
       "layout": "IPY_MODEL_2c6247b18d654affb989d2053958ca1d"
      }
     },
     "e72377ff852747b18af3424ad2374088": {
      "model_module": "@jupyter-widgets/base",
      "model_module_version": "1.2.0",
      "model_name": "LayoutModel",
      "state": {}
     },
     "e94a8671f8d24c499b72c9af20597339": {
      "model_module": "@jupyter-widgets/controls",
      "model_module_version": "1.5.0",
      "model_name": "HTMLModel",
      "state": {
       "layout": "IPY_MODEL_39c695f951e140a4bb61f4e503fc35de",
       "style": "IPY_MODEL_334c6b14a9d3477c805707ff58c1a8e6",
       "value": " 174/174 [00:18&lt;00:00,  9.40it/s]"
      }
     },
     "eb7e38089e7b4914913927da6b0847a6": {
      "model_module": "@jupyter-widgets/base",
      "model_module_version": "1.2.0",
      "model_name": "LayoutModel",
      "state": {
       "display": "inline-flex",
       "flex_flow": "row wrap",
       "width": "800px"
      }
     },
     "ed9e400772c643aa9f8410064a2b7c28": {
      "model_module": "@jupyter-widgets/controls",
      "model_module_version": "1.5.0",
      "model_name": "HTMLModel",
      "state": {
       "layout": "IPY_MODEL_87c3653b856d4060a9c28a5f5bae96bb",
       "style": "IPY_MODEL_6f1feee44a774e3a85e77447f6bd51fc",
       "value": " 72/174 [00:20&lt;00:05, 20.16it/s]"
      }
     },
     "ee14c53b32cf4662806cdbf976869636": {
      "model_module": "@jupyter-widgets/controls",
      "model_module_version": "1.5.0",
      "model_name": "HTMLModel",
      "state": {
       "layout": "IPY_MODEL_a76ba3aa946c448ab3a044befcd94263",
       "style": "IPY_MODEL_dc145ac6a4b84a9e9ef5015b301af9d1",
       "value": " 4353/4353 [07:32&lt;00:00,  9.62it/s]"
      }
     },
     "f2b1b9dad3f1450a9a31406d24e2c433": {
      "model_module": "@jupyter-widgets/controls",
      "model_module_version": "1.5.0",
      "model_name": "HTMLModel",
      "state": {
       "layout": "IPY_MODEL_f4c923d28fff4d88828d37f29bb346f8",
       "style": "IPY_MODEL_d61840085c7b4761b9b13adfc86210bf",
       "value": " 4353/4353 [09:25&lt;00:00,  7.70it/s]"
      }
     },
     "f4758f51c0cc4a4fa8289405657f4498": {
      "model_module": "@jupyter-widgets/base",
      "model_module_version": "1.2.0",
      "model_name": "LayoutModel",
      "state": {
       "flex": "2"
      }
     },
     "f4b040a930b44e699f22be5c05ff6d42": {
      "model_module": "@jupyter-widgets/base",
      "model_module_version": "1.2.0",
      "model_name": "LayoutModel",
      "state": {
       "display": "inline-flex",
       "flex_flow": "row wrap",
       "width": "800px"
      }
     },
     "f4c923d28fff4d88828d37f29bb346f8": {
      "model_module": "@jupyter-widgets/base",
      "model_module_version": "1.2.0",
      "model_name": "LayoutModel",
      "state": {}
     },
     "f66f214dcfa648f4b8fa984dab592392": {
      "model_module": "@jupyter-widgets/controls",
      "model_module_version": "1.5.0",
      "model_name": "ProgressStyleModel",
      "state": {
       "description_width": "initial"
      }
     },
     "f8e9ec2e9f5d463da62eddad475cabba": {
      "model_module": "@jupyter-widgets/base",
      "model_module_version": "1.2.0",
      "model_name": "LayoutModel",
      "state": {
       "display": "inline-flex",
       "flex_flow": "row wrap",
       "width": "800px"
      }
     },
     "f988f4156b17413290924e4464703cb1": {
      "model_module": "@jupyter-widgets/controls",
      "model_module_version": "1.5.0",
      "model_name": "HTMLModel",
      "state": {
       "layout": "IPY_MODEL_94cf63e8807a44788ce6f30041f517d7",
       "style": "IPY_MODEL_097644bf303f42ba8cb98cbf57eff30e",
       "value": " 4353/4353 [09:17&lt;00:00,  7.81it/s]"
      }
     },
     "fa076cd196b34fdcafcac2d9110ec12e": {
      "model_module": "@jupyter-widgets/controls",
      "model_module_version": "1.5.0",
      "model_name": "FloatProgressModel",
      "state": {
       "bar_style": "success",
       "description": "It { L 0.06527, 0.862, 0.939, 0.899,  0.970/ BF 0.899} : 100%",
       "layout": "IPY_MODEL_b0da8abb43ca48309fbfece666dc75ee",
       "max": 174,
       "style": "IPY_MODEL_b6dc047654e5402488a8c1c5f5c6709d",
       "value": 174
      }
     },
     "fb2ffabe3d2e4c0cb5e8ce128d3cbbc7": {
      "model_module": "@jupyter-widgets/controls",
      "model_module_version": "1.5.0",
      "model_name": "ProgressStyleModel",
      "state": {
       "description_width": "initial"
      }
     },
     "fdd0f2cb314641b8b9c6d587547751e5": {
      "model_module": "@jupyter-widgets/controls",
      "model_module_version": "1.5.0",
      "model_name": "ProgressStyleModel",
      "state": {
       "description_width": "initial"
      }
     }
    },
    "version_major": 2,
    "version_minor": 0
   }
  }
 },
 "nbformat": 4,
 "nbformat_minor": 2
}
