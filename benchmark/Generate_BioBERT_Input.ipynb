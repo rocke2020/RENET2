{
 "cells": [
  {
   "cell_type": "code",
   "execution_count": 9,
   "metadata": {},
   "outputs": [],
   "source": [
    "import numpy as np\n",
    "import pandas as pd\n",
    "import os\n",
    "import csv"
   ]
  },
  {
   "cell_type": "code",
   "execution_count": 22,
   "metadata": {},
   "outputs": [],
   "source": [
    "gdas = []\n",
    "with open(\"./BeFree/n_out/cooc.befree\") as f:\n",
    "    for line in f:\n",
    "        items = line.strip().split('\\t')\n",
    "        gdas.append([int(items[0].split('|')[0]),\"F\", items[9], items[9], int(items[7].split('|')[0]), items[10], items[11], items[13], items[16], items[17], items[19]])"
   ]
  },
  {
   "cell_type": "code",
   "execution_count": 23,
   "metadata": {},
   "outputs": [],
   "source": [
    "gdas_befree = pd.DataFrame(np.array(gdas), columns=[\"GAD_ID\",\"GAD_ASSOC\",\"GAD_GENE_SYMBOL\",\"GAD_GENE_NAME\",\"GAD_ENTREZ_ID\",\"NER_GENE_ENTITY\",\"NER_GENE_OFFSET\",\"GAD_DISEASE_NAME\",\"NER_DISEASE_ENTITY\",\"NER_DISEASE_OFFSET\",\"GAD_CONCLUSION\"])\n",
    "gdas_befree.GAD_ID = gdas_befree.GAD_ID.astype(str)\n",
    "gdas_befree.GAD_ENTREZ_ID = gdas_befree.GAD_ENTREZ_ID.astype(str)\n",
    "\n",
    "\n",
    "gdas_for_biobert = gdas_befree"
   ]
  },
  {
   "cell_type": "code",
   "execution_count": 24,
   "metadata": {},
   "outputs": [],
   "source": [
    "# read loabel"
   ]
  },
  {
   "cell_type": "code",
   "execution_count": 25,
   "metadata": {},
   "outputs": [
    {
     "data": {
      "text/plain": [
       "(3505, 11)"
      ]
     },
     "execution_count": 25,
     "metadata": {},
     "output_type": "execute_result"
    }
   ],
   "source": [
    "gdas_for_biobert.shape"
   ]
  },
  {
   "cell_type": "code",
   "execution_count": 26,
   "metadata": {},
   "outputs": [],
   "source": [
    "label_df = pd.read_csv('./BeFree/n_out/labels.txt', dtype={'pmid':str, 'geneId':str})"
   ]
  },
  {
   "cell_type": "code",
   "execution_count": 27,
   "metadata": {},
   "outputs": [
    {
     "data": {
      "text/html": [
       "<div>\n",
       "<style scoped>\n",
       "    .dataframe tbody tr th:only-of-type {\n",
       "        vertical-align: middle;\n",
       "    }\n",
       "\n",
       "    .dataframe tbody tr th {\n",
       "        vertical-align: top;\n",
       "    }\n",
       "\n",
       "    .dataframe thead th {\n",
       "        text-align: right;\n",
       "    }\n",
       "</style>\n",
       "<table border=\"1\" class=\"dataframe\">\n",
       "  <thead>\n",
       "    <tr style=\"text-align: right;\">\n",
       "      <th></th>\n",
       "      <th>pmid</th>\n",
       "      <th>geneId</th>\n",
       "      <th>diseaseId</th>\n",
       "      <th>label</th>\n",
       "    </tr>\n",
       "  </thead>\n",
       "  <tbody>\n",
       "    <tr>\n",
       "      <th>0</th>\n",
       "      <td>1363780</td>\n",
       "      <td>1287</td>\n",
       "      <td>D009394</td>\n",
       "      <td>1.0</td>\n",
       "    </tr>\n",
       "    <tr>\n",
       "      <th>1</th>\n",
       "      <td>1678058</td>\n",
       "      <td>268</td>\n",
       "      <td>D000544</td>\n",
       "      <td>0.0</td>\n",
       "    </tr>\n",
       "    <tr>\n",
       "      <th>2</th>\n",
       "      <td>1678058</td>\n",
       "      <td>351</td>\n",
       "      <td>D000544</td>\n",
       "      <td>1.0</td>\n",
       "    </tr>\n",
       "    <tr>\n",
       "      <th>3</th>\n",
       "      <td>1901333</td>\n",
       "      <td>3458</td>\n",
       "      <td>C536141</td>\n",
       "      <td>0.5</td>\n",
       "    </tr>\n",
       "    <tr>\n",
       "      <th>4</th>\n",
       "      <td>1901333</td>\n",
       "      <td>3458</td>\n",
       "      <td>D007239</td>\n",
       "      <td>0.0</td>\n",
       "    </tr>\n",
       "    <tr>\n",
       "      <th>...</th>\n",
       "      <td>...</td>\n",
       "      <td>...</td>\n",
       "      <td>...</td>\n",
       "      <td>...</td>\n",
       "    </tr>\n",
       "    <tr>\n",
       "      <th>2729</th>\n",
       "      <td>25705178</td>\n",
       "      <td>3784</td>\n",
       "      <td>D029593</td>\n",
       "      <td>1.0</td>\n",
       "    </tr>\n",
       "    <tr>\n",
       "      <th>2730</th>\n",
       "      <td>25705178</td>\n",
       "      <td>3784</td>\n",
       "      <td>D029597</td>\n",
       "      <td>1.0</td>\n",
       "    </tr>\n",
       "    <tr>\n",
       "      <th>2731</th>\n",
       "      <td>26383258</td>\n",
       "      <td>4842</td>\n",
       "      <td>D010300</td>\n",
       "      <td>1.0</td>\n",
       "    </tr>\n",
       "    <tr>\n",
       "      <th>2732</th>\n",
       "      <td>26383258</td>\n",
       "      <td>4843</td>\n",
       "      <td>D010300</td>\n",
       "      <td>0.0</td>\n",
       "    </tr>\n",
       "    <tr>\n",
       "      <th>2733</th>\n",
       "      <td>26383258</td>\n",
       "      <td>5444</td>\n",
       "      <td>D010300</td>\n",
       "      <td>0.0</td>\n",
       "    </tr>\n",
       "  </tbody>\n",
       "</table>\n",
       "<p>2734 rows × 4 columns</p>\n",
       "</div>"
      ],
      "text/plain": [
       "          pmid geneId diseaseId  label\n",
       "0      1363780   1287   D009394    1.0\n",
       "1      1678058    268   D000544    0.0\n",
       "2      1678058    351   D000544    1.0\n",
       "3      1901333   3458   C536141    0.5\n",
       "4      1901333   3458   D007239    0.0\n",
       "...        ...    ...       ...    ...\n",
       "2729  25705178   3784   D029593    1.0\n",
       "2730  25705178   3784   D029597    1.0\n",
       "2731  26383258   4842   D010300    1.0\n",
       "2732  26383258   4843   D010300    0.0\n",
       "2733  26383258   5444   D010300    0.0\n",
       "\n",
       "[2734 rows x 4 columns]"
      ]
     },
     "execution_count": 27,
     "metadata": {},
     "output_type": "execute_result"
    }
   ],
   "source": [
    "label_df"
   ]
  },
  {
   "cell_type": "code",
   "execution_count": 28,
   "metadata": {},
   "outputs": [],
   "source": [
    "merge_df = gdas_for_biobert.merge(label_df, how='left', left_on=['GAD_ID', 'GAD_ENTREZ_ID', 'GAD_DISEASE_NAME'], \\\n",
    "                       right_on = ['pmid', 'geneId', 'diseaseId'])\n",
    "merge_df['label'] = merge_df['label'].fillna(0)"
   ]
  },
  {
   "cell_type": "code",
   "execution_count": 29,
   "metadata": {},
   "outputs": [
    {
     "data": {
      "text/html": [
       "<div>\n",
       "<style scoped>\n",
       "    .dataframe tbody tr th:only-of-type {\n",
       "        vertical-align: middle;\n",
       "    }\n",
       "\n",
       "    .dataframe tbody tr th {\n",
       "        vertical-align: top;\n",
       "    }\n",
       "\n",
       "    .dataframe thead th {\n",
       "        text-align: right;\n",
       "    }\n",
       "</style>\n",
       "<table border=\"1\" class=\"dataframe\">\n",
       "  <thead>\n",
       "    <tr style=\"text-align: right;\">\n",
       "      <th></th>\n",
       "      <th>GAD_ID</th>\n",
       "      <th>GAD_ASSOC</th>\n",
       "      <th>GAD_GENE_SYMBOL</th>\n",
       "      <th>GAD_GENE_NAME</th>\n",
       "      <th>GAD_ENTREZ_ID</th>\n",
       "      <th>NER_GENE_ENTITY</th>\n",
       "      <th>NER_GENE_OFFSET</th>\n",
       "      <th>GAD_DISEASE_NAME</th>\n",
       "      <th>NER_DISEASE_ENTITY</th>\n",
       "      <th>NER_DISEASE_OFFSET</th>\n",
       "      <th>GAD_CONCLUSION</th>\n",
       "    </tr>\n",
       "  </thead>\n",
       "  <tbody>\n",
       "    <tr>\n",
       "      <th>0</th>\n",
       "      <td>25410422</td>\n",
       "      <td>F</td>\n",
       "      <td>twist2</td>\n",
       "      <td>twist2</td>\n",
       "      <td>117581</td>\n",
       "      <td>TWIST2</td>\n",
       "      <td>74#80</td>\n",
       "      <td>C536385</td>\n",
       "      <td>Setleis syndrome</td>\n",
       "      <td>0#16</td>\n",
       "      <td>Setleis syndrome: clinical, molecular and stru...</td>\n",
       "    </tr>\n",
       "    <tr>\n",
       "      <th>1</th>\n",
       "      <td>16076618</td>\n",
       "      <td>F</td>\n",
       "      <td>at1</td>\n",
       "      <td>at1</td>\n",
       "      <td>185</td>\n",
       "      <td>AT1</td>\n",
       "      <td>68#71</td>\n",
       "      <td>D011225</td>\n",
       "      <td>preeclampsia</td>\n",
       "      <td>152#164</td>\n",
       "      <td>CONCLUSIONS: Observed overrepresentation of mu...</td>\n",
       "    </tr>\n",
       "    <tr>\n",
       "      <th>2</th>\n",
       "      <td>16126967</td>\n",
       "      <td>F</td>\n",
       "      <td>hla</td>\n",
       "      <td>hla</td>\n",
       "      <td>3123</td>\n",
       "      <td>HLA</td>\n",
       "      <td>47#50</td>\n",
       "      <td>D001172</td>\n",
       "      <td>RA</td>\n",
       "      <td>140#142</td>\n",
       "      <td>Our data suggest that in northeastern Hungary,...</td>\n",
       "    </tr>\n",
       "    <tr>\n",
       "      <th>3</th>\n",
       "      <td>16126967</td>\n",
       "      <td>F</td>\n",
       "      <td>dr4</td>\n",
       "      <td>dr4</td>\n",
       "      <td>3126</td>\n",
       "      <td>DR4</td>\n",
       "      <td>51#54</td>\n",
       "      <td>D001172</td>\n",
       "      <td>RA</td>\n",
       "      <td>140#142</td>\n",
       "      <td>Our data suggest that in northeastern Hungary,...</td>\n",
       "    </tr>\n",
       "    <tr>\n",
       "      <th>4</th>\n",
       "      <td>16126967</td>\n",
       "      <td>F</td>\n",
       "      <td>drb1</td>\n",
       "      <td>drb1</td>\n",
       "      <td>3123</td>\n",
       "      <td>DRB1</td>\n",
       "      <td>79#83</td>\n",
       "      <td>D001172</td>\n",
       "      <td>RA</td>\n",
       "      <td>140#142</td>\n",
       "      <td>Our data suggest that in northeastern Hungary,...</td>\n",
       "    </tr>\n",
       "  </tbody>\n",
       "</table>\n",
       "</div>"
      ],
      "text/plain": [
       "     GAD_ID GAD_ASSOC GAD_GENE_SYMBOL GAD_GENE_NAME GAD_ENTREZ_ID  \\\n",
       "0  25410422         F          twist2        twist2        117581   \n",
       "1  16076618         F             at1           at1           185   \n",
       "2  16126967         F             hla           hla          3123   \n",
       "3  16126967         F             dr4           dr4          3126   \n",
       "4  16126967         F            drb1          drb1          3123   \n",
       "\n",
       "  NER_GENE_ENTITY NER_GENE_OFFSET GAD_DISEASE_NAME NER_DISEASE_ENTITY  \\\n",
       "0          TWIST2           74#80          C536385   Setleis syndrome   \n",
       "1             AT1           68#71          D011225       preeclampsia   \n",
       "2             HLA           47#50          D001172                 RA   \n",
       "3             DR4           51#54          D001172                 RA   \n",
       "4            DRB1           79#83          D001172                 RA   \n",
       "\n",
       "  NER_DISEASE_OFFSET                                     GAD_CONCLUSION  \n",
       "0               0#16  Setleis syndrome: clinical, molecular and stru...  \n",
       "1            152#164  CONCLUSIONS: Observed overrepresentation of mu...  \n",
       "2            140#142  Our data suggest that in northeastern Hungary,...  \n",
       "3            140#142  Our data suggest that in northeastern Hungary,...  \n",
       "4            140#142  Our data suggest that in northeastern Hungary,...  "
      ]
     },
     "execution_count": 29,
     "metadata": {},
     "output_type": "execute_result"
    }
   ],
   "source": [
    "gdas_for_biobert.head()"
   ]
  },
  {
   "cell_type": "code",
   "execution_count": 30,
   "metadata": {},
   "outputs": [
    {
     "data": {
      "text/html": [
       "<div>\n",
       "<style scoped>\n",
       "    .dataframe tbody tr th:only-of-type {\n",
       "        vertical-align: middle;\n",
       "    }\n",
       "\n",
       "    .dataframe tbody tr th {\n",
       "        vertical-align: top;\n",
       "    }\n",
       "\n",
       "    .dataframe thead th {\n",
       "        text-align: right;\n",
       "    }\n",
       "</style>\n",
       "<table border=\"1\" class=\"dataframe\">\n",
       "  <thead>\n",
       "    <tr style=\"text-align: right;\">\n",
       "      <th></th>\n",
       "      <th>GAD_ID</th>\n",
       "      <th>GAD_ENTREZ_ID</th>\n",
       "      <th>GAD_DISEASE_NAME</th>\n",
       "    </tr>\n",
       "  </thead>\n",
       "  <tbody>\n",
       "    <tr>\n",
       "      <th>0</th>\n",
       "      <td>25410422</td>\n",
       "      <td>117581</td>\n",
       "      <td>C536385</td>\n",
       "    </tr>\n",
       "    <tr>\n",
       "      <th>1</th>\n",
       "      <td>16076618</td>\n",
       "      <td>185</td>\n",
       "      <td>D011225</td>\n",
       "    </tr>\n",
       "    <tr>\n",
       "      <th>2</th>\n",
       "      <td>16126967</td>\n",
       "      <td>3123</td>\n",
       "      <td>D001172</td>\n",
       "    </tr>\n",
       "    <tr>\n",
       "      <th>13</th>\n",
       "      <td>18093316</td>\n",
       "      <td>2944</td>\n",
       "      <td>D000236</td>\n",
       "    </tr>\n",
       "    <tr>\n",
       "      <th>15</th>\n",
       "      <td>18093316</td>\n",
       "      <td>2944</td>\n",
       "      <td>D015179</td>\n",
       "    </tr>\n",
       "    <tr>\n",
       "      <th>...</th>\n",
       "      <td>...</td>\n",
       "      <td>...</td>\n",
       "      <td>...</td>\n",
       "    </tr>\n",
       "    <tr>\n",
       "      <th>3491</th>\n",
       "      <td>20191019</td>\n",
       "      <td>4524</td>\n",
       "      <td>D020520</td>\n",
       "    </tr>\n",
       "    <tr>\n",
       "      <th>3496</th>\n",
       "      <td>18762705</td>\n",
       "      <td>6331</td>\n",
       "      <td>D053840</td>\n",
       "    </tr>\n",
       "    <tr>\n",
       "      <th>3498</th>\n",
       "      <td>7937790</td>\n",
       "      <td>3561</td>\n",
       "      <td>D053632</td>\n",
       "    </tr>\n",
       "    <tr>\n",
       "      <th>3500</th>\n",
       "      <td>17614770</td>\n",
       "      <td>6319</td>\n",
       "      <td>D049970</td>\n",
       "    </tr>\n",
       "    <tr>\n",
       "      <th>3502</th>\n",
       "      <td>17614770</td>\n",
       "      <td>5743</td>\n",
       "      <td>D049970</td>\n",
       "    </tr>\n",
       "  </tbody>\n",
       "</table>\n",
       "<p>760 rows × 3 columns</p>\n",
       "</div>"
      ],
      "text/plain": [
       "        GAD_ID GAD_ENTREZ_ID GAD_DISEASE_NAME\n",
       "0     25410422        117581          C536385\n",
       "1     16076618           185          D011225\n",
       "2     16126967          3123          D001172\n",
       "13    18093316          2944          D000236\n",
       "15    18093316          2944          D015179\n",
       "...        ...           ...              ...\n",
       "3491  20191019          4524          D020520\n",
       "3496  18762705          6331          D053840\n",
       "3498   7937790          3561          D053632\n",
       "3500  17614770          6319          D049970\n",
       "3502  17614770          5743          D049970\n",
       "\n",
       "[760 rows x 3 columns]"
      ]
     },
     "execution_count": 30,
     "metadata": {},
     "output_type": "execute_result"
    }
   ],
   "source": [
    "merge_df[merge_df['label'] == 1][['GAD_ID', 'GAD_ENTREZ_ID', 'GAD_DISEASE_NAME']].drop_duplicates()"
   ]
  },
  {
   "cell_type": "code",
   "execution_count": null,
   "metadata": {},
   "outputs": [],
   "source": []
  },
  {
   "cell_type": "code",
   "execution_count": 31,
   "metadata": {},
   "outputs": [],
   "source": [
    "# gdas_for_biobert.iloc[4].GAD_CONCLUSION"
   ]
  },
  {
   "cell_type": "code",
   "execution_count": 32,
   "metadata": {},
   "outputs": [
    {
     "name": "stdout",
     "output_type": "stream",
     "text": [
      "  NER_GENE_OFFSET NER_DISEASE_OFFSET  \\\n",
      "0           74#80               0#16   \n",
      "1           68#71            152#164   \n",
      "2           47#50            140#142   \n",
      "\n",
      "                                      GAD_CONCLUSION  \n",
      "0  Setleis syndrome: clinical, molecular and stru...  \n",
      "1  CONCLUSIONS: Observed overrepresentation of mu...  \n",
      "2  Our data suggest that in northeastern Hungary,...  \n"
     ]
    }
   ],
   "source": [
    "print(gdas_for_biobert[['NER_GENE_OFFSET', 'NER_DISEASE_OFFSET', 'GAD_CONCLUSION']].head(3))"
   ]
  },
  {
   "cell_type": "code",
   "execution_count": 33,
   "metadata": {},
   "outputs": [
    {
     "data": {
      "text/plain": [
       "(3505, 15)"
      ]
     },
     "execution_count": 33,
     "metadata": {},
     "output_type": "execute_result"
    }
   ],
   "source": [
    "merge_df.shape"
   ]
  },
  {
   "cell_type": "code",
   "execution_count": 34,
   "metadata": {},
   "outputs": [],
   "source": [
    "bert_df = merge_df[['label']].copy()"
   ]
  },
  {
   "cell_type": "code",
   "execution_count": 35,
   "metadata": {},
   "outputs": [],
   "source": [
    "def get_snt(row):\n",
    "    g_o = [int(i) for i in row['NER_GENE_OFFSET'].split('#')]\n",
    "    d_o = [int(i) for i in row['NER_DISEASE_OFFSET'].split('#')]\n",
    "    new_g, new_d = '@GENE$', '@DISEASE$'\n",
    "    snt = row['GAD_CONCLUSION']\n",
    "    _snt = ''\n",
    "    # replace string\n",
    "    if g_o[0] < d_o[0]:\n",
    "        _snt = snt[:g_o[0]] + new_g\n",
    "        _snt += snt[g_o[1]:d_o[0]] + new_d\n",
    "        _snt += snt[d_o[1]:]\n",
    "    else:\n",
    "        _snt = snt[:d_o[0]] + new_d\n",
    "        _snt += snt[d_o[1]:g_o[0]] + new_g\n",
    "        _snt += snt[g_o[1]:]\n",
    "    return _snt\n",
    "bert_df['sentence'] = merge_df.apply(get_snt, axis = 1)"
   ]
  },
  {
   "cell_type": "code",
   "execution_count": 36,
   "metadata": {},
   "outputs": [],
   "source": [
    "# bert_df.iloc[4].sentence"
   ]
  },
  {
   "cell_type": "code",
   "execution_count": 37,
   "metadata": {},
   "outputs": [],
   "source": [
    "bert_df[bert_df['label'] == 0.5] = 0"
   ]
  },
  {
   "cell_type": "code",
   "execution_count": 38,
   "metadata": {},
   "outputs": [],
   "source": [
    "bert_df['index'] = bert_df.index"
   ]
  },
  {
   "cell_type": "code",
   "execution_count": 39,
   "metadata": {},
   "outputs": [],
   "source": [
    "bert_df = bert_df[['index', 'sentence', 'label']]\n",
    "bert_df = bert_df.astype({\"label\": int})"
   ]
  },
  {
   "cell_type": "code",
   "execution_count": 40,
   "metadata": {},
   "outputs": [
    {
     "data": {
      "text/html": [
       "<div>\n",
       "<style scoped>\n",
       "    .dataframe tbody tr th:only-of-type {\n",
       "        vertical-align: middle;\n",
       "    }\n",
       "\n",
       "    .dataframe tbody tr th {\n",
       "        vertical-align: top;\n",
       "    }\n",
       "\n",
       "    .dataframe thead th {\n",
       "        text-align: right;\n",
       "    }\n",
       "</style>\n",
       "<table border=\"1\" class=\"dataframe\">\n",
       "  <thead>\n",
       "    <tr style=\"text-align: right;\">\n",
       "      <th></th>\n",
       "      <th>index</th>\n",
       "      <th>sentence</th>\n",
       "      <th>label</th>\n",
       "    </tr>\n",
       "  </thead>\n",
       "  <tbody>\n",
       "    <tr>\n",
       "      <th>0</th>\n",
       "      <td>0</td>\n",
       "      <td>@DISEASE$: clinical, molecular and structural ...</td>\n",
       "      <td>1</td>\n",
       "    </tr>\n",
       "    <tr>\n",
       "      <th>1</th>\n",
       "      <td>1</td>\n",
       "      <td>CONCLUSIONS: Observed overrepresentation of mu...</td>\n",
       "      <td>1</td>\n",
       "    </tr>\n",
       "    <tr>\n",
       "      <th>2</th>\n",
       "      <td>2</td>\n",
       "      <td>Our data suggest that in northeastern Hungary,...</td>\n",
       "      <td>1</td>\n",
       "    </tr>\n",
       "    <tr>\n",
       "      <th>3</th>\n",
       "      <td>3</td>\n",
       "      <td>Our data suggest that in northeastern Hungary,...</td>\n",
       "      <td>0</td>\n",
       "    </tr>\n",
       "    <tr>\n",
       "      <th>4</th>\n",
       "      <td>4</td>\n",
       "      <td>Our data suggest that in northeastern Hungary,...</td>\n",
       "      <td>1</td>\n",
       "    </tr>\n",
       "  </tbody>\n",
       "</table>\n",
       "</div>"
      ],
      "text/plain": [
       "   index                                           sentence  label\n",
       "0      0  @DISEASE$: clinical, molecular and structural ...      1\n",
       "1      1  CONCLUSIONS: Observed overrepresentation of mu...      1\n",
       "2      2  Our data suggest that in northeastern Hungary,...      1\n",
       "3      3  Our data suggest that in northeastern Hungary,...      0\n",
       "4      4  Our data suggest that in northeastern Hungary,...      1"
      ]
     },
     "execution_count": 40,
     "metadata": {},
     "output_type": "execute_result"
    }
   ],
   "source": [
    "bert_df.head()"
   ]
  },
  {
   "cell_type": "code",
   "execution_count": 42,
   "metadata": {},
   "outputs": [],
   "source": [
    "bert_df.to_csv('test.tsv', sep='\\t', index=False)"
   ]
  },
  {
   "cell_type": "code",
   "execution_count": null,
   "metadata": {},
   "outputs": [],
   "source": []
  }
 ],
 "metadata": {
  "kernelspec": {
   "display_name": "Python [conda env:nbase] *",
   "language": "python",
   "name": "conda-env-nbase-py"
  },
  "language_info": {
   "codemirror_mode": {
    "name": "ipython",
    "version": 3
   },
   "file_extension": ".py",
   "mimetype": "text/x-python",
   "name": "python",
   "nbconvert_exporter": "python",
   "pygments_lexer": "ipython3",
   "version": "3.7.3"
  }
 },
 "nbformat": 4,
 "nbformat_minor": 2
}
